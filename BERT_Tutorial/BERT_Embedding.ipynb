{
  "nbformat": 4,
  "nbformat_minor": 0,
  "metadata": {
    "colab": {
      "name": "BERT_Embedding.ipynb",
      "provenance": [],
      "collapsed_sections": []
    },
    "kernelspec": {
      "name": "python3",
      "display_name": "Python 3"
    },
    "accelerator": "GPU",
    "widgets": {
      "application/vnd.jupyter.widget-state+json": {
        "1f2c245336ac470db09a8a14d1386c5a": {
          "model_module": "@jupyter-widgets/controls",
          "model_name": "HBoxModel",
          "state": {
            "_view_name": "HBoxView",
            "_dom_classes": [],
            "_model_name": "HBoxModel",
            "_view_module": "@jupyter-widgets/controls",
            "_model_module_version": "1.5.0",
            "_view_count": null,
            "_view_module_version": "1.5.0",
            "box_style": "",
            "layout": "IPY_MODEL_e5ad30480334414f97c1f18a09c8fdea",
            "_model_module": "@jupyter-widgets/controls",
            "children": [
              "IPY_MODEL_08f6bf9fb52142e985a1067c87ecf125",
              "IPY_MODEL_6c8b8648bd53493bbe401d8587c1265c"
            ]
          }
        },
        "e5ad30480334414f97c1f18a09c8fdea": {
          "model_module": "@jupyter-widgets/base",
          "model_name": "LayoutModel",
          "state": {
            "_view_name": "LayoutView",
            "grid_template_rows": null,
            "right": null,
            "justify_content": null,
            "_view_module": "@jupyter-widgets/base",
            "overflow": null,
            "_model_module_version": "1.2.0",
            "_view_count": null,
            "flex_flow": null,
            "width": null,
            "min_width": null,
            "border": null,
            "align_items": null,
            "bottom": null,
            "_model_module": "@jupyter-widgets/base",
            "top": null,
            "grid_column": null,
            "overflow_y": null,
            "overflow_x": null,
            "grid_auto_flow": null,
            "grid_area": null,
            "grid_template_columns": null,
            "flex": null,
            "_model_name": "LayoutModel",
            "justify_items": null,
            "grid_row": null,
            "max_height": null,
            "align_content": null,
            "visibility": null,
            "align_self": null,
            "height": null,
            "min_height": null,
            "padding": null,
            "grid_auto_rows": null,
            "grid_gap": null,
            "max_width": null,
            "order": null,
            "_view_module_version": "1.2.0",
            "grid_template_areas": null,
            "object_position": null,
            "object_fit": null,
            "grid_auto_columns": null,
            "margin": null,
            "display": null,
            "left": null
          }
        },
        "08f6bf9fb52142e985a1067c87ecf125": {
          "model_module": "@jupyter-widgets/controls",
          "model_name": "FloatProgressModel",
          "state": {
            "_view_name": "ProgressView",
            "style": "IPY_MODEL_3971735d240846869e5eb5c5af0c9b6e",
            "_dom_classes": [],
            "description": "Pandas Apply: 100%",
            "_model_name": "FloatProgressModel",
            "bar_style": "success",
            "max": 800000,
            "_view_module": "@jupyter-widgets/controls",
            "_model_module_version": "1.5.0",
            "value": 800000,
            "_view_count": null,
            "_view_module_version": "1.5.0",
            "orientation": "horizontal",
            "min": 0,
            "description_tooltip": null,
            "_model_module": "@jupyter-widgets/controls",
            "layout": "IPY_MODEL_1138f6120b9c46008d868dedf8cac14d"
          }
        },
        "6c8b8648bd53493bbe401d8587c1265c": {
          "model_module": "@jupyter-widgets/controls",
          "model_name": "HTMLModel",
          "state": {
            "_view_name": "HTMLView",
            "style": "IPY_MODEL_5a9c523fe500496496ff58e5dc741c8f",
            "_dom_classes": [],
            "description": "",
            "_model_name": "HTMLModel",
            "placeholder": "​",
            "_view_module": "@jupyter-widgets/controls",
            "_model_module_version": "1.5.0",
            "value": " 800000/800000 [04:13&lt;00:00, 3154.06it/s]",
            "_view_count": null,
            "_view_module_version": "1.5.0",
            "description_tooltip": null,
            "_model_module": "@jupyter-widgets/controls",
            "layout": "IPY_MODEL_dbcdc8bd30ed4279bca4e70f5fb98bc7"
          }
        },
        "3971735d240846869e5eb5c5af0c9b6e": {
          "model_module": "@jupyter-widgets/controls",
          "model_name": "ProgressStyleModel",
          "state": {
            "_view_name": "StyleView",
            "_model_name": "ProgressStyleModel",
            "description_width": "initial",
            "_view_module": "@jupyter-widgets/base",
            "_model_module_version": "1.5.0",
            "_view_count": null,
            "_view_module_version": "1.2.0",
            "bar_color": null,
            "_model_module": "@jupyter-widgets/controls"
          }
        },
        "1138f6120b9c46008d868dedf8cac14d": {
          "model_module": "@jupyter-widgets/base",
          "model_name": "LayoutModel",
          "state": {
            "_view_name": "LayoutView",
            "grid_template_rows": null,
            "right": null,
            "justify_content": null,
            "_view_module": "@jupyter-widgets/base",
            "overflow": null,
            "_model_module_version": "1.2.0",
            "_view_count": null,
            "flex_flow": null,
            "width": null,
            "min_width": null,
            "border": null,
            "align_items": null,
            "bottom": null,
            "_model_module": "@jupyter-widgets/base",
            "top": null,
            "grid_column": null,
            "overflow_y": null,
            "overflow_x": null,
            "grid_auto_flow": null,
            "grid_area": null,
            "grid_template_columns": null,
            "flex": null,
            "_model_name": "LayoutModel",
            "justify_items": null,
            "grid_row": null,
            "max_height": null,
            "align_content": null,
            "visibility": null,
            "align_self": null,
            "height": null,
            "min_height": null,
            "padding": null,
            "grid_auto_rows": null,
            "grid_gap": null,
            "max_width": null,
            "order": null,
            "_view_module_version": "1.2.0",
            "grid_template_areas": null,
            "object_position": null,
            "object_fit": null,
            "grid_auto_columns": null,
            "margin": null,
            "display": null,
            "left": null
          }
        },
        "5a9c523fe500496496ff58e5dc741c8f": {
          "model_module": "@jupyter-widgets/controls",
          "model_name": "DescriptionStyleModel",
          "state": {
            "_view_name": "StyleView",
            "_model_name": "DescriptionStyleModel",
            "description_width": "",
            "_view_module": "@jupyter-widgets/base",
            "_model_module_version": "1.5.0",
            "_view_count": null,
            "_view_module_version": "1.2.0",
            "_model_module": "@jupyter-widgets/controls"
          }
        },
        "dbcdc8bd30ed4279bca4e70f5fb98bc7": {
          "model_module": "@jupyter-widgets/base",
          "model_name": "LayoutModel",
          "state": {
            "_view_name": "LayoutView",
            "grid_template_rows": null,
            "right": null,
            "justify_content": null,
            "_view_module": "@jupyter-widgets/base",
            "overflow": null,
            "_model_module_version": "1.2.0",
            "_view_count": null,
            "flex_flow": null,
            "width": null,
            "min_width": null,
            "border": null,
            "align_items": null,
            "bottom": null,
            "_model_module": "@jupyter-widgets/base",
            "top": null,
            "grid_column": null,
            "overflow_y": null,
            "overflow_x": null,
            "grid_auto_flow": null,
            "grid_area": null,
            "grid_template_columns": null,
            "flex": null,
            "_model_name": "LayoutModel",
            "justify_items": null,
            "grid_row": null,
            "max_height": null,
            "align_content": null,
            "visibility": null,
            "align_self": null,
            "height": null,
            "min_height": null,
            "padding": null,
            "grid_auto_rows": null,
            "grid_gap": null,
            "max_width": null,
            "order": null,
            "_view_module_version": "1.2.0",
            "grid_template_areas": null,
            "object_position": null,
            "object_fit": null,
            "grid_auto_columns": null,
            "margin": null,
            "display": null,
            "left": null
          }
        },
        "2b1b811b3e014b7b8384a61cd1e2717d": {
          "model_module": "@jupyter-widgets/controls",
          "model_name": "HBoxModel",
          "state": {
            "_view_name": "HBoxView",
            "_dom_classes": [],
            "_model_name": "HBoxModel",
            "_view_module": "@jupyter-widgets/controls",
            "_model_module_version": "1.5.0",
            "_view_count": null,
            "_view_module_version": "1.5.0",
            "box_style": "",
            "layout": "IPY_MODEL_df3f79c8fe904d9790c3a7ef9a728607",
            "_model_module": "@jupyter-widgets/controls",
            "children": [
              "IPY_MODEL_d422229a85f34c088ab5d4bfac4cb1f0",
              "IPY_MODEL_880e25a6061c438fb0e1182394544cf6"
            ]
          }
        },
        "df3f79c8fe904d9790c3a7ef9a728607": {
          "model_module": "@jupyter-widgets/base",
          "model_name": "LayoutModel",
          "state": {
            "_view_name": "LayoutView",
            "grid_template_rows": null,
            "right": null,
            "justify_content": null,
            "_view_module": "@jupyter-widgets/base",
            "overflow": null,
            "_model_module_version": "1.2.0",
            "_view_count": null,
            "flex_flow": null,
            "width": null,
            "min_width": null,
            "border": null,
            "align_items": null,
            "bottom": null,
            "_model_module": "@jupyter-widgets/base",
            "top": null,
            "grid_column": null,
            "overflow_y": null,
            "overflow_x": null,
            "grid_auto_flow": null,
            "grid_area": null,
            "grid_template_columns": null,
            "flex": null,
            "_model_name": "LayoutModel",
            "justify_items": null,
            "grid_row": null,
            "max_height": null,
            "align_content": null,
            "visibility": null,
            "align_self": null,
            "height": null,
            "min_height": null,
            "padding": null,
            "grid_auto_rows": null,
            "grid_gap": null,
            "max_width": null,
            "order": null,
            "_view_module_version": "1.2.0",
            "grid_template_areas": null,
            "object_position": null,
            "object_fit": null,
            "grid_auto_columns": null,
            "margin": null,
            "display": null,
            "left": null
          }
        },
        "d422229a85f34c088ab5d4bfac4cb1f0": {
          "model_module": "@jupyter-widgets/controls",
          "model_name": "FloatProgressModel",
          "state": {
            "_view_name": "ProgressView",
            "style": "IPY_MODEL_53adeb095a6b4ea79a49409fcd60163d",
            "_dom_classes": [],
            "description": "Pandas Apply: 100%",
            "_model_name": "FloatProgressModel",
            "bar_style": "success",
            "max": 800000,
            "_view_module": "@jupyter-widgets/controls",
            "_model_module_version": "1.5.0",
            "value": 800000,
            "_view_count": null,
            "_view_module_version": "1.5.0",
            "orientation": "horizontal",
            "min": 0,
            "description_tooltip": null,
            "_model_module": "@jupyter-widgets/controls",
            "layout": "IPY_MODEL_a8566f65a0dd40e5afd16afb6b8e3f55"
          }
        },
        "880e25a6061c438fb0e1182394544cf6": {
          "model_module": "@jupyter-widgets/controls",
          "model_name": "HTMLModel",
          "state": {
            "_view_name": "HTMLView",
            "style": "IPY_MODEL_9769459edb80472f9794f919c9728300",
            "_dom_classes": [],
            "description": "",
            "_model_name": "HTMLModel",
            "placeholder": "​",
            "_view_module": "@jupyter-widgets/controls",
            "_model_module_version": "1.5.0",
            "value": " 800000/800000 [03:18&lt;00:00, 4021.87it/s]",
            "_view_count": null,
            "_view_module_version": "1.5.0",
            "description_tooltip": null,
            "_model_module": "@jupyter-widgets/controls",
            "layout": "IPY_MODEL_51c2fbea3b294d85be71b57c32f11660"
          }
        },
        "53adeb095a6b4ea79a49409fcd60163d": {
          "model_module": "@jupyter-widgets/controls",
          "model_name": "ProgressStyleModel",
          "state": {
            "_view_name": "StyleView",
            "_model_name": "ProgressStyleModel",
            "description_width": "initial",
            "_view_module": "@jupyter-widgets/base",
            "_model_module_version": "1.5.0",
            "_view_count": null,
            "_view_module_version": "1.2.0",
            "bar_color": null,
            "_model_module": "@jupyter-widgets/controls"
          }
        },
        "a8566f65a0dd40e5afd16afb6b8e3f55": {
          "model_module": "@jupyter-widgets/base",
          "model_name": "LayoutModel",
          "state": {
            "_view_name": "LayoutView",
            "grid_template_rows": null,
            "right": null,
            "justify_content": null,
            "_view_module": "@jupyter-widgets/base",
            "overflow": null,
            "_model_module_version": "1.2.0",
            "_view_count": null,
            "flex_flow": null,
            "width": null,
            "min_width": null,
            "border": null,
            "align_items": null,
            "bottom": null,
            "_model_module": "@jupyter-widgets/base",
            "top": null,
            "grid_column": null,
            "overflow_y": null,
            "overflow_x": null,
            "grid_auto_flow": null,
            "grid_area": null,
            "grid_template_columns": null,
            "flex": null,
            "_model_name": "LayoutModel",
            "justify_items": null,
            "grid_row": null,
            "max_height": null,
            "align_content": null,
            "visibility": null,
            "align_self": null,
            "height": null,
            "min_height": null,
            "padding": null,
            "grid_auto_rows": null,
            "grid_gap": null,
            "max_width": null,
            "order": null,
            "_view_module_version": "1.2.0",
            "grid_template_areas": null,
            "object_position": null,
            "object_fit": null,
            "grid_auto_columns": null,
            "margin": null,
            "display": null,
            "left": null
          }
        },
        "9769459edb80472f9794f919c9728300": {
          "model_module": "@jupyter-widgets/controls",
          "model_name": "DescriptionStyleModel",
          "state": {
            "_view_name": "StyleView",
            "_model_name": "DescriptionStyleModel",
            "description_width": "",
            "_view_module": "@jupyter-widgets/base",
            "_model_module_version": "1.5.0",
            "_view_count": null,
            "_view_module_version": "1.2.0",
            "_model_module": "@jupyter-widgets/controls"
          }
        },
        "51c2fbea3b294d85be71b57c32f11660": {
          "model_module": "@jupyter-widgets/base",
          "model_name": "LayoutModel",
          "state": {
            "_view_name": "LayoutView",
            "grid_template_rows": null,
            "right": null,
            "justify_content": null,
            "_view_module": "@jupyter-widgets/base",
            "overflow": null,
            "_model_module_version": "1.2.0",
            "_view_count": null,
            "flex_flow": null,
            "width": null,
            "min_width": null,
            "border": null,
            "align_items": null,
            "bottom": null,
            "_model_module": "@jupyter-widgets/base",
            "top": null,
            "grid_column": null,
            "overflow_y": null,
            "overflow_x": null,
            "grid_auto_flow": null,
            "grid_area": null,
            "grid_template_columns": null,
            "flex": null,
            "_model_name": "LayoutModel",
            "justify_items": null,
            "grid_row": null,
            "max_height": null,
            "align_content": null,
            "visibility": null,
            "align_self": null,
            "height": null,
            "min_height": null,
            "padding": null,
            "grid_auto_rows": null,
            "grid_gap": null,
            "max_width": null,
            "order": null,
            "_view_module_version": "1.2.0",
            "grid_template_areas": null,
            "object_position": null,
            "object_fit": null,
            "grid_auto_columns": null,
            "margin": null,
            "display": null,
            "left": null
          }
        },
        "129c8f06678240f08d840e41754077cc": {
          "model_module": "@jupyter-widgets/controls",
          "model_name": "HBoxModel",
          "state": {
            "_view_name": "HBoxView",
            "_dom_classes": [],
            "_model_name": "HBoxModel",
            "_view_module": "@jupyter-widgets/controls",
            "_model_module_version": "1.5.0",
            "_view_count": null,
            "_view_module_version": "1.5.0",
            "box_style": "",
            "layout": "IPY_MODEL_00e507b17e8047aca44990349bc9740f",
            "_model_module": "@jupyter-widgets/controls",
            "children": [
              "IPY_MODEL_bb8b1dec372048099d7054c536be8fec",
              "IPY_MODEL_667ba855797041258fdf4e6914e38fbe"
            ]
          }
        },
        "00e507b17e8047aca44990349bc9740f": {
          "model_module": "@jupyter-widgets/base",
          "model_name": "LayoutModel",
          "state": {
            "_view_name": "LayoutView",
            "grid_template_rows": null,
            "right": null,
            "justify_content": null,
            "_view_module": "@jupyter-widgets/base",
            "overflow": null,
            "_model_module_version": "1.2.0",
            "_view_count": null,
            "flex_flow": null,
            "width": null,
            "min_width": null,
            "border": null,
            "align_items": null,
            "bottom": null,
            "_model_module": "@jupyter-widgets/base",
            "top": null,
            "grid_column": null,
            "overflow_y": null,
            "overflow_x": null,
            "grid_auto_flow": null,
            "grid_area": null,
            "grid_template_columns": null,
            "flex": null,
            "_model_name": "LayoutModel",
            "justify_items": null,
            "grid_row": null,
            "max_height": null,
            "align_content": null,
            "visibility": null,
            "align_self": null,
            "height": null,
            "min_height": null,
            "padding": null,
            "grid_auto_rows": null,
            "grid_gap": null,
            "max_width": null,
            "order": null,
            "_view_module_version": "1.2.0",
            "grid_template_areas": null,
            "object_position": null,
            "object_fit": null,
            "grid_auto_columns": null,
            "margin": null,
            "display": null,
            "left": null
          }
        },
        "bb8b1dec372048099d7054c536be8fec": {
          "model_module": "@jupyter-widgets/controls",
          "model_name": "FloatProgressModel",
          "state": {
            "_view_name": "ProgressView",
            "style": "IPY_MODEL_e231456320e04f57889fe82f60f37058",
            "_dom_classes": [],
            "description": "Pandas Apply: 100%",
            "_model_name": "FloatProgressModel",
            "bar_style": "success",
            "max": 800000,
            "_view_module": "@jupyter-widgets/controls",
            "_model_module_version": "1.5.0",
            "value": 800000,
            "_view_count": null,
            "_view_module_version": "1.5.0",
            "orientation": "horizontal",
            "min": 0,
            "description_tooltip": null,
            "_model_module": "@jupyter-widgets/controls",
            "layout": "IPY_MODEL_6baccc104ee448c98ccdfb781c32f32f"
          }
        },
        "667ba855797041258fdf4e6914e38fbe": {
          "model_module": "@jupyter-widgets/controls",
          "model_name": "HTMLModel",
          "state": {
            "_view_name": "HTMLView",
            "style": "IPY_MODEL_694798b92b184152bad15492ba6dcc24",
            "_dom_classes": [],
            "description": "",
            "_model_name": "HTMLModel",
            "placeholder": "​",
            "_view_module": "@jupyter-widgets/controls",
            "_model_module_version": "1.5.0",
            "value": " 800000/800000 [00:04&lt;00:00, 179404.77it/s]",
            "_view_count": null,
            "_view_module_version": "1.5.0",
            "description_tooltip": null,
            "_model_module": "@jupyter-widgets/controls",
            "layout": "IPY_MODEL_d79c32cd3b4d42e5a83dcd7c28c8ce04"
          }
        },
        "e231456320e04f57889fe82f60f37058": {
          "model_module": "@jupyter-widgets/controls",
          "model_name": "ProgressStyleModel",
          "state": {
            "_view_name": "StyleView",
            "_model_name": "ProgressStyleModel",
            "description_width": "initial",
            "_view_module": "@jupyter-widgets/base",
            "_model_module_version": "1.5.0",
            "_view_count": null,
            "_view_module_version": "1.2.0",
            "bar_color": null,
            "_model_module": "@jupyter-widgets/controls"
          }
        },
        "6baccc104ee448c98ccdfb781c32f32f": {
          "model_module": "@jupyter-widgets/base",
          "model_name": "LayoutModel",
          "state": {
            "_view_name": "LayoutView",
            "grid_template_rows": null,
            "right": null,
            "justify_content": null,
            "_view_module": "@jupyter-widgets/base",
            "overflow": null,
            "_model_module_version": "1.2.0",
            "_view_count": null,
            "flex_flow": null,
            "width": null,
            "min_width": null,
            "border": null,
            "align_items": null,
            "bottom": null,
            "_model_module": "@jupyter-widgets/base",
            "top": null,
            "grid_column": null,
            "overflow_y": null,
            "overflow_x": null,
            "grid_auto_flow": null,
            "grid_area": null,
            "grid_template_columns": null,
            "flex": null,
            "_model_name": "LayoutModel",
            "justify_items": null,
            "grid_row": null,
            "max_height": null,
            "align_content": null,
            "visibility": null,
            "align_self": null,
            "height": null,
            "min_height": null,
            "padding": null,
            "grid_auto_rows": null,
            "grid_gap": null,
            "max_width": null,
            "order": null,
            "_view_module_version": "1.2.0",
            "grid_template_areas": null,
            "object_position": null,
            "object_fit": null,
            "grid_auto_columns": null,
            "margin": null,
            "display": null,
            "left": null
          }
        },
        "694798b92b184152bad15492ba6dcc24": {
          "model_module": "@jupyter-widgets/controls",
          "model_name": "DescriptionStyleModel",
          "state": {
            "_view_name": "StyleView",
            "_model_name": "DescriptionStyleModel",
            "description_width": "",
            "_view_module": "@jupyter-widgets/base",
            "_model_module_version": "1.5.0",
            "_view_count": null,
            "_view_module_version": "1.2.0",
            "_model_module": "@jupyter-widgets/controls"
          }
        },
        "d79c32cd3b4d42e5a83dcd7c28c8ce04": {
          "model_module": "@jupyter-widgets/base",
          "model_name": "LayoutModel",
          "state": {
            "_view_name": "LayoutView",
            "grid_template_rows": null,
            "right": null,
            "justify_content": null,
            "_view_module": "@jupyter-widgets/base",
            "overflow": null,
            "_model_module_version": "1.2.0",
            "_view_count": null,
            "flex_flow": null,
            "width": null,
            "min_width": null,
            "border": null,
            "align_items": null,
            "bottom": null,
            "_model_module": "@jupyter-widgets/base",
            "top": null,
            "grid_column": null,
            "overflow_y": null,
            "overflow_x": null,
            "grid_auto_flow": null,
            "grid_area": null,
            "grid_template_columns": null,
            "flex": null,
            "_model_name": "LayoutModel",
            "justify_items": null,
            "grid_row": null,
            "max_height": null,
            "align_content": null,
            "visibility": null,
            "align_self": null,
            "height": null,
            "min_height": null,
            "padding": null,
            "grid_auto_rows": null,
            "grid_gap": null,
            "max_width": null,
            "order": null,
            "_view_module_version": "1.2.0",
            "grid_template_areas": null,
            "object_position": null,
            "object_fit": null,
            "grid_auto_columns": null,
            "margin": null,
            "display": null,
            "left": null
          }
        },
        "d6eb4aca82a04e588707db37290c1c48": {
          "model_module": "@jupyter-widgets/controls",
          "model_name": "HBoxModel",
          "state": {
            "_view_name": "HBoxView",
            "_dom_classes": [],
            "_model_name": "HBoxModel",
            "_view_module": "@jupyter-widgets/controls",
            "_model_module_version": "1.5.0",
            "_view_count": null,
            "_view_module_version": "1.5.0",
            "box_style": "",
            "layout": "IPY_MODEL_d4e11a3eb66544929453cf1c3bd54f76",
            "_model_module": "@jupyter-widgets/controls",
            "children": [
              "IPY_MODEL_4495f05ff407494b93acaff47d37c092",
              "IPY_MODEL_6e747a67e3974d3cbf6e27851e297a7f"
            ]
          }
        },
        "d4e11a3eb66544929453cf1c3bd54f76": {
          "model_module": "@jupyter-widgets/base",
          "model_name": "LayoutModel",
          "state": {
            "_view_name": "LayoutView",
            "grid_template_rows": null,
            "right": null,
            "justify_content": null,
            "_view_module": "@jupyter-widgets/base",
            "overflow": null,
            "_model_module_version": "1.2.0",
            "_view_count": null,
            "flex_flow": null,
            "width": null,
            "min_width": null,
            "border": null,
            "align_items": null,
            "bottom": null,
            "_model_module": "@jupyter-widgets/base",
            "top": null,
            "grid_column": null,
            "overflow_y": null,
            "overflow_x": null,
            "grid_auto_flow": null,
            "grid_area": null,
            "grid_template_columns": null,
            "flex": null,
            "_model_name": "LayoutModel",
            "justify_items": null,
            "grid_row": null,
            "max_height": null,
            "align_content": null,
            "visibility": null,
            "align_self": null,
            "height": null,
            "min_height": null,
            "padding": null,
            "grid_auto_rows": null,
            "grid_gap": null,
            "max_width": null,
            "order": null,
            "_view_module_version": "1.2.0",
            "grid_template_areas": null,
            "object_position": null,
            "object_fit": null,
            "grid_auto_columns": null,
            "margin": null,
            "display": null,
            "left": null
          }
        },
        "4495f05ff407494b93acaff47d37c092": {
          "model_module": "@jupyter-widgets/controls",
          "model_name": "FloatProgressModel",
          "state": {
            "_view_name": "ProgressView",
            "style": "IPY_MODEL_e4f67af3cfd54f34b477b74b95298429",
            "_dom_classes": [],
            "description": "Pandas Apply: 100%",
            "_model_name": "FloatProgressModel",
            "bar_style": "success",
            "max": 673589,
            "_view_module": "@jupyter-widgets/controls",
            "_model_module_version": "1.5.0",
            "value": 673589,
            "_view_count": null,
            "_view_module_version": "1.5.0",
            "orientation": "horizontal",
            "min": 0,
            "description_tooltip": null,
            "_model_module": "@jupyter-widgets/controls",
            "layout": "IPY_MODEL_9b20360539334293b8dd71894c666acf"
          }
        },
        "6e747a67e3974d3cbf6e27851e297a7f": {
          "model_module": "@jupyter-widgets/controls",
          "model_name": "HTMLModel",
          "state": {
            "_view_name": "HTMLView",
            "style": "IPY_MODEL_da0d86d528aa4879a7277b4186784b67",
            "_dom_classes": [],
            "description": "",
            "_model_name": "HTMLModel",
            "placeholder": "​",
            "_view_module": "@jupyter-widgets/controls",
            "_model_module_version": "1.5.0",
            "value": " 673589/673589 [00:28&lt;00:00, 23290.38it/s]",
            "_view_count": null,
            "_view_module_version": "1.5.0",
            "description_tooltip": null,
            "_model_module": "@jupyter-widgets/controls",
            "layout": "IPY_MODEL_bce74f947a2c4547bf8ef585c62c8c01"
          }
        },
        "e4f67af3cfd54f34b477b74b95298429": {
          "model_module": "@jupyter-widgets/controls",
          "model_name": "ProgressStyleModel",
          "state": {
            "_view_name": "StyleView",
            "_model_name": "ProgressStyleModel",
            "description_width": "initial",
            "_view_module": "@jupyter-widgets/base",
            "_model_module_version": "1.5.0",
            "_view_count": null,
            "_view_module_version": "1.2.0",
            "bar_color": null,
            "_model_module": "@jupyter-widgets/controls"
          }
        },
        "9b20360539334293b8dd71894c666acf": {
          "model_module": "@jupyter-widgets/base",
          "model_name": "LayoutModel",
          "state": {
            "_view_name": "LayoutView",
            "grid_template_rows": null,
            "right": null,
            "justify_content": null,
            "_view_module": "@jupyter-widgets/base",
            "overflow": null,
            "_model_module_version": "1.2.0",
            "_view_count": null,
            "flex_flow": null,
            "width": null,
            "min_width": null,
            "border": null,
            "align_items": null,
            "bottom": null,
            "_model_module": "@jupyter-widgets/base",
            "top": null,
            "grid_column": null,
            "overflow_y": null,
            "overflow_x": null,
            "grid_auto_flow": null,
            "grid_area": null,
            "grid_template_columns": null,
            "flex": null,
            "_model_name": "LayoutModel",
            "justify_items": null,
            "grid_row": null,
            "max_height": null,
            "align_content": null,
            "visibility": null,
            "align_self": null,
            "height": null,
            "min_height": null,
            "padding": null,
            "grid_auto_rows": null,
            "grid_gap": null,
            "max_width": null,
            "order": null,
            "_view_module_version": "1.2.0",
            "grid_template_areas": null,
            "object_position": null,
            "object_fit": null,
            "grid_auto_columns": null,
            "margin": null,
            "display": null,
            "left": null
          }
        },
        "da0d86d528aa4879a7277b4186784b67": {
          "model_module": "@jupyter-widgets/controls",
          "model_name": "DescriptionStyleModel",
          "state": {
            "_view_name": "StyleView",
            "_model_name": "DescriptionStyleModel",
            "description_width": "",
            "_view_module": "@jupyter-widgets/base",
            "_model_module_version": "1.5.0",
            "_view_count": null,
            "_view_module_version": "1.2.0",
            "_model_module": "@jupyter-widgets/controls"
          }
        },
        "bce74f947a2c4547bf8ef585c62c8c01": {
          "model_module": "@jupyter-widgets/base",
          "model_name": "LayoutModel",
          "state": {
            "_view_name": "LayoutView",
            "grid_template_rows": null,
            "right": null,
            "justify_content": null,
            "_view_module": "@jupyter-widgets/base",
            "overflow": null,
            "_model_module_version": "1.2.0",
            "_view_count": null,
            "flex_flow": null,
            "width": null,
            "min_width": null,
            "border": null,
            "align_items": null,
            "bottom": null,
            "_model_module": "@jupyter-widgets/base",
            "top": null,
            "grid_column": null,
            "overflow_y": null,
            "overflow_x": null,
            "grid_auto_flow": null,
            "grid_area": null,
            "grid_template_columns": null,
            "flex": null,
            "_model_name": "LayoutModel",
            "justify_items": null,
            "grid_row": null,
            "max_height": null,
            "align_content": null,
            "visibility": null,
            "align_self": null,
            "height": null,
            "min_height": null,
            "padding": null,
            "grid_auto_rows": null,
            "grid_gap": null,
            "max_width": null,
            "order": null,
            "_view_module_version": "1.2.0",
            "grid_template_areas": null,
            "object_position": null,
            "object_fit": null,
            "grid_auto_columns": null,
            "margin": null,
            "display": null,
            "left": null
          }
        },
        "8266fdbcb7b54367a93624c58c02c3ec": {
          "model_module": "@jupyter-widgets/controls",
          "model_name": "HBoxModel",
          "state": {
            "_view_name": "HBoxView",
            "_dom_classes": [],
            "_model_name": "HBoxModel",
            "_view_module": "@jupyter-widgets/controls",
            "_model_module_version": "1.5.0",
            "_view_count": null,
            "_view_module_version": "1.5.0",
            "box_style": "",
            "layout": "IPY_MODEL_ea26467332504657b949fcf06775a2d8",
            "_model_module": "@jupyter-widgets/controls",
            "children": [
              "IPY_MODEL_30f297079f7946e9931f3319286cc495",
              "IPY_MODEL_26f1921309c340d5a4618f87bfef645f"
            ]
          }
        },
        "ea26467332504657b949fcf06775a2d8": {
          "model_module": "@jupyter-widgets/base",
          "model_name": "LayoutModel",
          "state": {
            "_view_name": "LayoutView",
            "grid_template_rows": null,
            "right": null,
            "justify_content": null,
            "_view_module": "@jupyter-widgets/base",
            "overflow": null,
            "_model_module_version": "1.2.0",
            "_view_count": null,
            "flex_flow": null,
            "width": null,
            "min_width": null,
            "border": null,
            "align_items": null,
            "bottom": null,
            "_model_module": "@jupyter-widgets/base",
            "top": null,
            "grid_column": null,
            "overflow_y": null,
            "overflow_x": null,
            "grid_auto_flow": null,
            "grid_area": null,
            "grid_template_columns": null,
            "flex": null,
            "_model_name": "LayoutModel",
            "justify_items": null,
            "grid_row": null,
            "max_height": null,
            "align_content": null,
            "visibility": null,
            "align_self": null,
            "height": null,
            "min_height": null,
            "padding": null,
            "grid_auto_rows": null,
            "grid_gap": null,
            "max_width": null,
            "order": null,
            "_view_module_version": "1.2.0",
            "grid_template_areas": null,
            "object_position": null,
            "object_fit": null,
            "grid_auto_columns": null,
            "margin": null,
            "display": null,
            "left": null
          }
        },
        "30f297079f7946e9931f3319286cc495": {
          "model_module": "@jupyter-widgets/controls",
          "model_name": "FloatProgressModel",
          "state": {
            "_view_name": "ProgressView",
            "style": "IPY_MODEL_c126a532092a49099a36ea33a87fb5ba",
            "_dom_classes": [],
            "description": "Pandas Apply: 100%",
            "_model_name": "FloatProgressModel",
            "bar_style": "success",
            "max": 673589,
            "_view_module": "@jupyter-widgets/controls",
            "_model_module_version": "1.5.0",
            "value": 673589,
            "_view_count": null,
            "_view_module_version": "1.5.0",
            "orientation": "horizontal",
            "min": 0,
            "description_tooltip": null,
            "_model_module": "@jupyter-widgets/controls",
            "layout": "IPY_MODEL_02b917fcde124a5380be3b12f78ad1cf"
          }
        },
        "26f1921309c340d5a4618f87bfef645f": {
          "model_module": "@jupyter-widgets/controls",
          "model_name": "HTMLModel",
          "state": {
            "_view_name": "HTMLView",
            "style": "IPY_MODEL_658a0486fae040f79b4f8e5df8d3a834",
            "_dom_classes": [],
            "description": "",
            "_model_name": "HTMLModel",
            "placeholder": "​",
            "_view_module": "@jupyter-widgets/controls",
            "_model_module_version": "1.5.0",
            "value": " 673589/673589 [00:18&lt;00:00, 37076.79it/s]",
            "_view_count": null,
            "_view_module_version": "1.5.0",
            "description_tooltip": null,
            "_model_module": "@jupyter-widgets/controls",
            "layout": "IPY_MODEL_5d8882ea24a547b5a5b73c621a8c60fd"
          }
        },
        "c126a532092a49099a36ea33a87fb5ba": {
          "model_module": "@jupyter-widgets/controls",
          "model_name": "ProgressStyleModel",
          "state": {
            "_view_name": "StyleView",
            "_model_name": "ProgressStyleModel",
            "description_width": "initial",
            "_view_module": "@jupyter-widgets/base",
            "_model_module_version": "1.5.0",
            "_view_count": null,
            "_view_module_version": "1.2.0",
            "bar_color": null,
            "_model_module": "@jupyter-widgets/controls"
          }
        },
        "02b917fcde124a5380be3b12f78ad1cf": {
          "model_module": "@jupyter-widgets/base",
          "model_name": "LayoutModel",
          "state": {
            "_view_name": "LayoutView",
            "grid_template_rows": null,
            "right": null,
            "justify_content": null,
            "_view_module": "@jupyter-widgets/base",
            "overflow": null,
            "_model_module_version": "1.2.0",
            "_view_count": null,
            "flex_flow": null,
            "width": null,
            "min_width": null,
            "border": null,
            "align_items": null,
            "bottom": null,
            "_model_module": "@jupyter-widgets/base",
            "top": null,
            "grid_column": null,
            "overflow_y": null,
            "overflow_x": null,
            "grid_auto_flow": null,
            "grid_area": null,
            "grid_template_columns": null,
            "flex": null,
            "_model_name": "LayoutModel",
            "justify_items": null,
            "grid_row": null,
            "max_height": null,
            "align_content": null,
            "visibility": null,
            "align_self": null,
            "height": null,
            "min_height": null,
            "padding": null,
            "grid_auto_rows": null,
            "grid_gap": null,
            "max_width": null,
            "order": null,
            "_view_module_version": "1.2.0",
            "grid_template_areas": null,
            "object_position": null,
            "object_fit": null,
            "grid_auto_columns": null,
            "margin": null,
            "display": null,
            "left": null
          }
        },
        "658a0486fae040f79b4f8e5df8d3a834": {
          "model_module": "@jupyter-widgets/controls",
          "model_name": "DescriptionStyleModel",
          "state": {
            "_view_name": "StyleView",
            "_model_name": "DescriptionStyleModel",
            "description_width": "",
            "_view_module": "@jupyter-widgets/base",
            "_model_module_version": "1.5.0",
            "_view_count": null,
            "_view_module_version": "1.2.0",
            "_model_module": "@jupyter-widgets/controls"
          }
        },
        "5d8882ea24a547b5a5b73c621a8c60fd": {
          "model_module": "@jupyter-widgets/base",
          "model_name": "LayoutModel",
          "state": {
            "_view_name": "LayoutView",
            "grid_template_rows": null,
            "right": null,
            "justify_content": null,
            "_view_module": "@jupyter-widgets/base",
            "overflow": null,
            "_model_module_version": "1.2.0",
            "_view_count": null,
            "flex_flow": null,
            "width": null,
            "min_width": null,
            "border": null,
            "align_items": null,
            "bottom": null,
            "_model_module": "@jupyter-widgets/base",
            "top": null,
            "grid_column": null,
            "overflow_y": null,
            "overflow_x": null,
            "grid_auto_flow": null,
            "grid_area": null,
            "grid_template_columns": null,
            "flex": null,
            "_model_name": "LayoutModel",
            "justify_items": null,
            "grid_row": null,
            "max_height": null,
            "align_content": null,
            "visibility": null,
            "align_self": null,
            "height": null,
            "min_height": null,
            "padding": null,
            "grid_auto_rows": null,
            "grid_gap": null,
            "max_width": null,
            "order": null,
            "_view_module_version": "1.2.0",
            "grid_template_areas": null,
            "object_position": null,
            "object_fit": null,
            "grid_auto_columns": null,
            "margin": null,
            "display": null,
            "left": null
          }
        },
        "38cb6cd682104a74821355e0f2c493ca": {
          "model_module": "@jupyter-widgets/controls",
          "model_name": "HBoxModel",
          "state": {
            "_view_name": "HBoxView",
            "_dom_classes": [],
            "_model_name": "HBoxModel",
            "_view_module": "@jupyter-widgets/controls",
            "_model_module_version": "1.5.0",
            "_view_count": null,
            "_view_module_version": "1.5.0",
            "box_style": "",
            "layout": "IPY_MODEL_b8b7195765324232a9a7c314032f1ec1",
            "_model_module": "@jupyter-widgets/controls",
            "children": [
              "IPY_MODEL_8beecd15473242d7a84093d68a2d8cdd",
              "IPY_MODEL_8f496b9940bd445a8f4176afa42b1077"
            ]
          }
        },
        "b8b7195765324232a9a7c314032f1ec1": {
          "model_module": "@jupyter-widgets/base",
          "model_name": "LayoutModel",
          "state": {
            "_view_name": "LayoutView",
            "grid_template_rows": null,
            "right": null,
            "justify_content": null,
            "_view_module": "@jupyter-widgets/base",
            "overflow": null,
            "_model_module_version": "1.2.0",
            "_view_count": null,
            "flex_flow": null,
            "width": null,
            "min_width": null,
            "border": null,
            "align_items": null,
            "bottom": null,
            "_model_module": "@jupyter-widgets/base",
            "top": null,
            "grid_column": null,
            "overflow_y": null,
            "overflow_x": null,
            "grid_auto_flow": null,
            "grid_area": null,
            "grid_template_columns": null,
            "flex": null,
            "_model_name": "LayoutModel",
            "justify_items": null,
            "grid_row": null,
            "max_height": null,
            "align_content": null,
            "visibility": null,
            "align_self": null,
            "height": null,
            "min_height": null,
            "padding": null,
            "grid_auto_rows": null,
            "grid_gap": null,
            "max_width": null,
            "order": null,
            "_view_module_version": "1.2.0",
            "grid_template_areas": null,
            "object_position": null,
            "object_fit": null,
            "grid_auto_columns": null,
            "margin": null,
            "display": null,
            "left": null
          }
        },
        "8beecd15473242d7a84093d68a2d8cdd": {
          "model_module": "@jupyter-widgets/controls",
          "model_name": "FloatProgressModel",
          "state": {
            "_view_name": "ProgressView",
            "style": "IPY_MODEL_468249325c01417c9b8d8be59557326a",
            "_dom_classes": [],
            "description": "Pandas Apply: 100%",
            "_model_name": "FloatProgressModel",
            "bar_style": "success",
            "max": 673589,
            "_view_module": "@jupyter-widgets/controls",
            "_model_module_version": "1.5.0",
            "value": 673589,
            "_view_count": null,
            "_view_module_version": "1.5.0",
            "orientation": "horizontal",
            "min": 0,
            "description_tooltip": null,
            "_model_module": "@jupyter-widgets/controls",
            "layout": "IPY_MODEL_f6d7d93f51d84b8fbdbe76bf6ecdcbb1"
          }
        },
        "8f496b9940bd445a8f4176afa42b1077": {
          "model_module": "@jupyter-widgets/controls",
          "model_name": "HTMLModel",
          "state": {
            "_view_name": "HTMLView",
            "style": "IPY_MODEL_ddeb8c9341f740c69ca3a4d68b7892c7",
            "_dom_classes": [],
            "description": "",
            "_model_name": "HTMLModel",
            "placeholder": "​",
            "_view_module": "@jupyter-widgets/controls",
            "_model_module_version": "1.5.0",
            "value": " 673589/673589 [00:07&lt;00:00, 85652.25it/s]",
            "_view_count": null,
            "_view_module_version": "1.5.0",
            "description_tooltip": null,
            "_model_module": "@jupyter-widgets/controls",
            "layout": "IPY_MODEL_635ef2f94e4842ef94d873880af0067f"
          }
        },
        "468249325c01417c9b8d8be59557326a": {
          "model_module": "@jupyter-widgets/controls",
          "model_name": "ProgressStyleModel",
          "state": {
            "_view_name": "StyleView",
            "_model_name": "ProgressStyleModel",
            "description_width": "initial",
            "_view_module": "@jupyter-widgets/base",
            "_model_module_version": "1.5.0",
            "_view_count": null,
            "_view_module_version": "1.2.0",
            "bar_color": null,
            "_model_module": "@jupyter-widgets/controls"
          }
        },
        "f6d7d93f51d84b8fbdbe76bf6ecdcbb1": {
          "model_module": "@jupyter-widgets/base",
          "model_name": "LayoutModel",
          "state": {
            "_view_name": "LayoutView",
            "grid_template_rows": null,
            "right": null,
            "justify_content": null,
            "_view_module": "@jupyter-widgets/base",
            "overflow": null,
            "_model_module_version": "1.2.0",
            "_view_count": null,
            "flex_flow": null,
            "width": null,
            "min_width": null,
            "border": null,
            "align_items": null,
            "bottom": null,
            "_model_module": "@jupyter-widgets/base",
            "top": null,
            "grid_column": null,
            "overflow_y": null,
            "overflow_x": null,
            "grid_auto_flow": null,
            "grid_area": null,
            "grid_template_columns": null,
            "flex": null,
            "_model_name": "LayoutModel",
            "justify_items": null,
            "grid_row": null,
            "max_height": null,
            "align_content": null,
            "visibility": null,
            "align_self": null,
            "height": null,
            "min_height": null,
            "padding": null,
            "grid_auto_rows": null,
            "grid_gap": null,
            "max_width": null,
            "order": null,
            "_view_module_version": "1.2.0",
            "grid_template_areas": null,
            "object_position": null,
            "object_fit": null,
            "grid_auto_columns": null,
            "margin": null,
            "display": null,
            "left": null
          }
        },
        "ddeb8c9341f740c69ca3a4d68b7892c7": {
          "model_module": "@jupyter-widgets/controls",
          "model_name": "DescriptionStyleModel",
          "state": {
            "_view_name": "StyleView",
            "_model_name": "DescriptionStyleModel",
            "description_width": "",
            "_view_module": "@jupyter-widgets/base",
            "_model_module_version": "1.5.0",
            "_view_count": null,
            "_view_module_version": "1.2.0",
            "_model_module": "@jupyter-widgets/controls"
          }
        },
        "635ef2f94e4842ef94d873880af0067f": {
          "model_module": "@jupyter-widgets/base",
          "model_name": "LayoutModel",
          "state": {
            "_view_name": "LayoutView",
            "grid_template_rows": null,
            "right": null,
            "justify_content": null,
            "_view_module": "@jupyter-widgets/base",
            "overflow": null,
            "_model_module_version": "1.2.0",
            "_view_count": null,
            "flex_flow": null,
            "width": null,
            "min_width": null,
            "border": null,
            "align_items": null,
            "bottom": null,
            "_model_module": "@jupyter-widgets/base",
            "top": null,
            "grid_column": null,
            "overflow_y": null,
            "overflow_x": null,
            "grid_auto_flow": null,
            "grid_area": null,
            "grid_template_columns": null,
            "flex": null,
            "_model_name": "LayoutModel",
            "justify_items": null,
            "grid_row": null,
            "max_height": null,
            "align_content": null,
            "visibility": null,
            "align_self": null,
            "height": null,
            "min_height": null,
            "padding": null,
            "grid_auto_rows": null,
            "grid_gap": null,
            "max_width": null,
            "order": null,
            "_view_module_version": "1.2.0",
            "grid_template_areas": null,
            "object_position": null,
            "object_fit": null,
            "grid_auto_columns": null,
            "margin": null,
            "display": null,
            "left": null
          }
        }
      }
    }
  },
  "cells": [
    {
      "cell_type": "code",
      "metadata": {
        "id": "RYP9WeeLbSnk",
        "colab_type": "code",
        "colab": {}
      },
      "source": [
        "import numpy as np\n",
        "import math\n",
        "import re\n",
        "import pandas as pd\n",
        "from bs4 import BeautifulSoup\n",
        "import random\n",
        "import tensorflow as tf\n",
        "import tensorflow_hub as hub\n",
        "from tensorflow.keras import layers\n",
        "import bert\n",
        "import swifter\n",
        "pd.options.display.max_colwidth = 1000"
      ],
      "execution_count": 1,
      "outputs": []
    },
    {
      "cell_type": "code",
      "metadata": {
        "id": "g9-o5AOSb7NI",
        "colab_type": "code",
        "colab": {
          "base_uri": "https://localhost:8080/",
          "height": 196
        },
        "outputId": "87b2af68-ef61-4cfe-82d3-5a40453c8eff"
      },
      "source": [
        "# Load Training dataset\n",
        "# dataset download link https://cs.stanford.edu/people/alecmgo/trainingandtestdata.zip\n",
        "columns = ['sentiment','id','date','query','user','text']\n",
        "df = pd.read_csv('train.csv',header=None,names=columns,engine='python',encoding='latin1')\n",
        "\n",
        "# using only 50% of the data due to RAM and GPU limitation and reducing traning time\n",
        "df = df.sample(frac=0.5)\n",
        "df.head(3)"
      ],
      "execution_count": 3,
      "outputs": [
        {
          "output_type": "execute_result",
          "data": {
            "text/html": [
              "<div>\n",
              "<style scoped>\n",
              "    .dataframe tbody tr th:only-of-type {\n",
              "        vertical-align: middle;\n",
              "    }\n",
              "\n",
              "    .dataframe tbody tr th {\n",
              "        vertical-align: top;\n",
              "    }\n",
              "\n",
              "    .dataframe thead th {\n",
              "        text-align: right;\n",
              "    }\n",
              "</style>\n",
              "<table border=\"1\" class=\"dataframe\">\n",
              "  <thead>\n",
              "    <tr style=\"text-align: right;\">\n",
              "      <th></th>\n",
              "      <th>sentiment</th>\n",
              "      <th>id</th>\n",
              "      <th>date</th>\n",
              "      <th>query</th>\n",
              "      <th>user</th>\n",
              "      <th>text</th>\n",
              "    </tr>\n",
              "  </thead>\n",
              "  <tbody>\n",
              "    <tr>\n",
              "      <th>83818</th>\n",
              "      <td>0</td>\n",
              "      <td>1753447776</td>\n",
              "      <td>Sun May 10 01:41:09 PDT 2009</td>\n",
              "      <td>NO_QUERY</td>\n",
              "      <td>Sherribobs</td>\n",
              "      <td>Wants to go to London... its everywhere!!  ahh well 20 days 2 go ... im sure it wont kill me lol... gna try and do revision 2day :S:S</td>\n",
              "    </tr>\n",
              "    <tr>\n",
              "      <th>1503202</th>\n",
              "      <td>4</td>\n",
              "      <td>2071891520</td>\n",
              "      <td>Sun Jun 07 20:04:50 PDT 2009</td>\n",
              "      <td>NO_QUERY</td>\n",
              "      <td>djchemical</td>\n",
              "      <td>@Taryn_Itup ur awesome</td>\n",
              "    </tr>\n",
              "    <tr>\n",
              "      <th>1556770</th>\n",
              "      <td>4</td>\n",
              "      <td>2185444193</td>\n",
              "      <td>Mon Jun 15 17:23:27 PDT 2009</td>\n",
              "      <td>NO_QUERY</td>\n",
              "      <td>grouchpotato</td>\n",
              "      <td>@firegirlpj I have plenty! Come on over and we'll knit!</td>\n",
              "    </tr>\n",
              "  </tbody>\n",
              "</table>\n",
              "</div>"
            ],
            "text/plain": [
              "         sentiment  ...                                                                                                                                   text\n",
              "83818            0  ...  Wants to go to London... its everywhere!!  ahh well 20 days 2 go ... im sure it wont kill me lol... gna try and do revision 2day :S:S\n",
              "1503202          4  ...                                                                                                                @Taryn_Itup ur awesome \n",
              "1556770          4  ...                                                                               @firegirlpj I have plenty! Come on over and we'll knit! \n",
              "\n",
              "[3 rows x 6 columns]"
            ]
          },
          "metadata": {
            "tags": []
          },
          "execution_count": 3
        }
      ]
    },
    {
      "cell_type": "code",
      "metadata": {
        "id": "KLRA70qyf0H6",
        "colab_type": "code",
        "colab": {
          "base_uri": "https://localhost:8080/",
          "height": 90
        },
        "outputId": "6e3324ca-6ae4-43e0-9cb4-91f14c97cfca"
      },
      "source": [
        "df['text'].sample(3)"
      ],
      "execution_count": 4,
      "outputs": [
        {
          "output_type": "execute_result",
          "data": {
            "text/plain": [
              "727107                                                            Just got up. Still tired after last night. Not gonna see my boyfriend today \n",
              "313829    my friend's bedroom caught on fire 2 nights ago. thank gawd she's okay. i noticed my bad luck is upon other people this week. GASP. \n",
              "242353                                                                                                 cabelodealgodÃ£odoceisthenewblack -not \n",
              "Name: text, dtype: object"
            ]
          },
          "metadata": {
            "tags": []
          },
          "execution_count": 4
        }
      ]
    },
    {
      "cell_type": "code",
      "metadata": {
        "id": "FFU5iUdmflLX",
        "colab_type": "code",
        "colab": {}
      },
      "source": [
        "# function to clean tweet\n",
        "def clean_tweet(tweet):\n",
        "    # convert html content to raw text\n",
        "    tweet = BeautifulSoup(tweet, \"lxml\").get_text()\n",
        "\n",
        "    # remove @ mentions\n",
        "    tweet = re.sub(r\"@[A-Za-z0-9]+\", ' ', tweet)\n",
        "\n",
        "    # Removing the URL links\n",
        "    tweet = re.sub(r\"https?://[A-Za-z0-9./]+\", ' ', tweet)\n",
        "\n",
        "    # remove extra spaces\n",
        "    tweet = \" \".join(tweet.split())\n",
        "\n",
        "    return tweet"
      ],
      "execution_count": 5,
      "outputs": []
    },
    {
      "cell_type": "code",
      "metadata": {
        "id": "tD0yUMNXg8h5",
        "colab_type": "code",
        "colab": {
          "base_uri": "https://localhost:8080/",
          "height": 67,
          "referenced_widgets": [
            "1f2c245336ac470db09a8a14d1386c5a",
            "e5ad30480334414f97c1f18a09c8fdea",
            "08f6bf9fb52142e985a1067c87ecf125",
            "6c8b8648bd53493bbe401d8587c1265c",
            "3971735d240846869e5eb5c5af0c9b6e",
            "1138f6120b9c46008d868dedf8cac14d",
            "5a9c523fe500496496ff58e5dc741c8f",
            "dbcdc8bd30ed4279bca4e70f5fb98bc7"
          ]
        },
        "outputId": "787fa53f-5bf8-4d67-dc7b-7bde3cc67672"
      },
      "source": [
        "df['clean_tweet'] = df['text'].swifter.apply(clean_tweet)"
      ],
      "execution_count": 6,
      "outputs": [
        {
          "output_type": "display_data",
          "data": {
            "application/vnd.jupyter.widget-view+json": {
              "model_id": "1f2c245336ac470db09a8a14d1386c5a",
              "version_minor": 0,
              "version_major": 2
            },
            "text/plain": [
              "HBox(children=(FloatProgress(value=0.0, description='Pandas Apply', max=800000.0, style=ProgressStyle(descript…"
            ]
          },
          "metadata": {
            "tags": []
          }
        },
        {
          "output_type": "stream",
          "text": [
            "\n"
          ],
          "name": "stdout"
        }
      ]
    },
    {
      "cell_type": "code",
      "metadata": {
        "id": "Hp05AJUYhHOy",
        "colab_type": "code",
        "colab": {
          "base_uri": "https://localhost:8080/",
          "height": 161
        },
        "outputId": "4b9d7d9e-176a-4225-8af1-8c968dead2d9"
      },
      "source": [
        "df[['text','clean_tweet']].sample(3)"
      ],
      "execution_count": 7,
      "outputs": [
        {
          "output_type": "execute_result",
          "data": {
            "text/html": [
              "<div>\n",
              "<style scoped>\n",
              "    .dataframe tbody tr th:only-of-type {\n",
              "        vertical-align: middle;\n",
              "    }\n",
              "\n",
              "    .dataframe tbody tr th {\n",
              "        vertical-align: top;\n",
              "    }\n",
              "\n",
              "    .dataframe thead th {\n",
              "        text-align: right;\n",
              "    }\n",
              "</style>\n",
              "<table border=\"1\" class=\"dataframe\">\n",
              "  <thead>\n",
              "    <tr style=\"text-align: right;\">\n",
              "      <th></th>\n",
              "      <th>text</th>\n",
              "      <th>clean_tweet</th>\n",
              "    </tr>\n",
              "  </thead>\n",
              "  <tbody>\n",
              "    <tr>\n",
              "      <th>512127</th>\n",
              "      <td>aaaaaaaah ramen im sorry but im full</td>\n",
              "      <td>aaaaaaaah ramen im sorry but im full</td>\n",
              "    </tr>\n",
              "    <tr>\n",
              "      <th>1419640</th>\n",
              "      <td>@BBCTravelAlert Goodnight you</td>\n",
              "      <td>Goodnight you</td>\n",
              "    </tr>\n",
              "    <tr>\n",
              "      <th>1293546</th>\n",
              "      <td>has three competition running at the moment - gig tickets &amp;amp; sunglasses  check out www.onesmallseed.net to find out all the details.</td>\n",
              "      <td>has three competition running at the moment - gig tickets &amp; sunglasses check out www.onesmallseed.net to find out all the details.</td>\n",
              "    </tr>\n",
              "  </tbody>\n",
              "</table>\n",
              "</div>"
            ],
            "text/plain": [
              "                                                                                                                                            text                                                                                                                         clean_tweet\n",
              "512127                                                                                                     aaaaaaaah ramen im sorry but im full                                                                                                 aaaaaaaah ramen im sorry but im full\n",
              "1419640                                                                                                           @BBCTravelAlert Goodnight you                                                                                                                        Goodnight you\n",
              "1293546  has three competition running at the moment - gig tickets &amp; sunglasses  check out www.onesmallseed.net to find out all the details.  has three competition running at the moment - gig tickets & sunglasses check out www.onesmallseed.net to find out all the details."
            ]
          },
          "metadata": {
            "tags": []
          },
          "execution_count": 7
        }
      ]
    },
    {
      "cell_type": "code",
      "metadata": {
        "id": "Y5S6oCCmi21t",
        "colab_type": "code",
        "colab": {
          "base_uri": "https://localhost:8080/",
          "height": 35
        },
        "outputId": "02e59139-706a-4ef1-be94-91d8aea9831a"
      },
      "source": [
        "df.shape"
      ],
      "execution_count": 8,
      "outputs": [
        {
          "output_type": "execute_result",
          "data": {
            "text/plain": [
              "(800000, 7)"
            ]
          },
          "metadata": {
            "tags": []
          },
          "execution_count": 8
        }
      ]
    },
    {
      "cell_type": "code",
      "metadata": {
        "id": "_tOF_SHPi5Dh",
        "colab_type": "code",
        "colab": {
          "base_uri": "https://localhost:8080/",
          "height": 72
        },
        "outputId": "654b79d6-fb15-442d-a59f-46841eb69539"
      },
      "source": [
        "# create binary target variable\n",
        "df['target'] = (df['sentiment'] == 4).astype(int)\n",
        "df['target'].value_counts(normalize=True)"
      ],
      "execution_count": 9,
      "outputs": [
        {
          "output_type": "execute_result",
          "data": {
            "text/plain": [
              "0    0.500287\n",
              "1    0.499713\n",
              "Name: target, dtype: float64"
            ]
          },
          "metadata": {
            "tags": []
          },
          "execution_count": 9
        }
      ]
    },
    {
      "cell_type": "code",
      "metadata": {
        "id": "rAUpwchmjLxZ",
        "colab_type": "code",
        "colab": {}
      },
      "source": [
        "# create tokenizer\n",
        "FullTokenizer = bert.bert_tokenization.FullTokenizer\n",
        "\n",
        "# donwload bert small model from tensroflow hub\n",
        "url = \"https://tfhub.dev/tensorflow/bert_en_uncased_L-12_H-768_A-12/1\"\n",
        "bert_layer = hub.KerasLayer(url,trainable=False)\n",
        "\n",
        "# get model assets\n",
        "vocab_file = bert_layer.resolved_object.vocab_file.asset_path.numpy()\n",
        "do_lower_case = bert_layer.resolved_object.do_lower_case.numpy()\n",
        "tokenizer = FullTokenizer(vocab_file, do_lower_case)"
      ],
      "execution_count": 10,
      "outputs": []
    },
    {
      "cell_type": "code",
      "metadata": {
        "id": "OjHYfOXZkJ77",
        "colab_type": "code",
        "colab": {
          "base_uri": "https://localhost:8080/",
          "height": 35
        },
        "outputId": "f0c3434c-e1e4-40ba-8932-7ff1cc42d99a"
      },
      "source": [
        "# bert uses word piece tokenizer which can out of vocab word by breaking into small chunks\n",
        "tokenizer.tokenize(\"i love itttt coefee\")"
      ],
      "execution_count": 11,
      "outputs": [
        {
          "output_type": "execute_result",
          "data": {
            "text/plain": [
              "['i', 'love', 'it', '##tt', '##t', 'coe', '##fe', '##e']"
            ]
          },
          "metadata": {
            "tags": []
          },
          "execution_count": 11
        }
      ]
    },
    {
      "cell_type": "code",
      "metadata": {
        "id": "QOeWyIV_kd47",
        "colab_type": "code",
        "colab": {
          "base_uri": "https://localhost:8080/",
          "height": 35
        },
        "outputId": "ff6b927c-1eb8-47be-8e76-9e5c92c0ac32"
      },
      "source": [
        "tokenizer.convert_tokens_to_ids(tokenizer.tokenize(\"i love itttt coefee\"))"
      ],
      "execution_count": 12,
      "outputs": [
        {
          "output_type": "execute_result",
          "data": {
            "text/plain": [
              "[1045, 2293, 2009, 4779, 2102, 24873, 7959, 2063]"
            ]
          },
          "metadata": {
            "tags": []
          },
          "execution_count": 12
        }
      ]
    },
    {
      "cell_type": "code",
      "metadata": {
        "id": "7V0YqS57jrzr",
        "colab_type": "code",
        "colab": {}
      },
      "source": [
        "# function to tokenize sentence using bert tokenizer\n",
        "# bert needs [CLS] token at the begnining of the sentence and [SEP] token at the end\n",
        "def bert_tokenize(sent,tokenizer):\n",
        "    return [\"[CLS]\"] + tokenizer.tokenize(sent) + [\"[SEP]\"]"
      ],
      "execution_count": 13,
      "outputs": []
    },
    {
      "cell_type": "code",
      "metadata": {
        "id": "HuPbpm73j4jK",
        "colab_type": "code",
        "colab": {
          "base_uri": "https://localhost:8080/",
          "height": 67,
          "referenced_widgets": [
            "2b1b811b3e014b7b8384a61cd1e2717d",
            "df3f79c8fe904d9790c3a7ef9a728607",
            "d422229a85f34c088ab5d4bfac4cb1f0",
            "880e25a6061c438fb0e1182394544cf6",
            "53adeb095a6b4ea79a49409fcd60163d",
            "a8566f65a0dd40e5afd16afb6b8e3f55",
            "9769459edb80472f9794f919c9728300",
            "51c2fbea3b294d85be71b57c32f11660"
          ]
        },
        "outputId": "a904ccce-1707-41d8-cdb4-c27c4c04e316"
      },
      "source": [
        "df['tokenize'] = df['clean_tweet'].swifter.apply(bert_tokenize,tokenizer=tokenizer)"
      ],
      "execution_count": 14,
      "outputs": [
        {
          "output_type": "display_data",
          "data": {
            "application/vnd.jupyter.widget-view+json": {
              "model_id": "2b1b811b3e014b7b8384a61cd1e2717d",
              "version_minor": 0,
              "version_major": 2
            },
            "text/plain": [
              "HBox(children=(FloatProgress(value=0.0, description='Pandas Apply', max=800000.0, style=ProgressStyle(descript…"
            ]
          },
          "metadata": {
            "tags": []
          }
        },
        {
          "output_type": "stream",
          "text": [
            "\n"
          ],
          "name": "stdout"
        }
      ]
    },
    {
      "cell_type": "code",
      "metadata": {
        "id": "jJLzQ0uzkx2u",
        "colab_type": "code",
        "colab": {
          "base_uri": "https://localhost:8080/",
          "height": 90
        },
        "outputId": "c9d1ee0c-456e-4921-90e0-19661b3581a0"
      },
      "source": [
        "df['tokenize'].sample(3)"
      ],
      "execution_count": 15,
      "outputs": [
        {
          "output_type": "execute_result",
          "data": {
            "text/plain": [
              "948563     [[CLS], on, the, exchange, fi, ##c, ?, i, ', d, been, planning, on, commenting, ,, i, just, forgot, *, hug, *, [SEP]]\n",
              "817504                                            [[CLS], yeah, ., ., ., little, location, button, on, the, home, screen, [SEP]]\n",
              "1139336         [[CLS], finished, entertainment, center, last, night, ,, now, enjoying, it, by, watching, tv, tonight, ., [SEP]]\n",
              "Name: tokenize, dtype: object"
            ]
          },
          "metadata": {
            "tags": []
          },
          "execution_count": 15
        }
      ]
    },
    {
      "cell_type": "code",
      "metadata": {
        "id": "7A7laxPAWwGX",
        "colab_type": "code",
        "colab": {}
      },
      "source": [
        "# Preparing input for BERT\n",
        "# BERT Needs three input\n",
        "# one is tokens ID\n",
        "# second is mask token i.e. which token to ignore...we will ignore [PAD] tokens for embedding\n",
        "# third is sentence id which seq of 1 and 0\n",
        "# 1 is when token is from first sent\n",
        "# 0 is when token is from next sent\n",
        "# then 1 and 0 series of id for alternating sent\n",
        "\n",
        "# function to get first bert input\n",
        "def token_id(tokens):\n",
        "    return  tokenizer.convert_tokens_to_ids(tokens)\n",
        "\n",
        "# function to get second bert input\n",
        "def mask_token(tokens):\n",
        "    return np.char.not_equal(tokens, \"[PAD]\").astype(int)\n",
        "\n",
        "# function to get third bert input\n",
        "def segment_id(tokens):\n",
        "    seg_id = []\n",
        "    current_id = 0\n",
        "    for token in tokens:\n",
        "        seg_id.append(current_id)\n",
        "        if token ==\"[SEP]\":\n",
        "            current_id = 1-current_id  # toggle between 1 and 0\n",
        "    return seg_id"
      ],
      "execution_count": 16,
      "outputs": []
    },
    {
      "cell_type": "code",
      "metadata": {
        "id": "0A9QtryynAux",
        "colab_type": "code",
        "colab": {
          "base_uri": "https://localhost:8080/",
          "height": 67,
          "referenced_widgets": [
            "129c8f06678240f08d840e41754077cc",
            "00e507b17e8047aca44990349bc9740f",
            "bb8b1dec372048099d7054c536be8fec",
            "667ba855797041258fdf4e6914e38fbe",
            "e231456320e04f57889fe82f60f37058",
            "6baccc104ee448c98ccdfb781c32f32f",
            "694798b92b184152bad15492ba6dcc24",
            "d79c32cd3b4d42e5a83dcd7c28c8ce04"
          ]
        },
        "outputId": "ea0992f0-4023-44ec-e8c9-aa4adf6d3432"
      },
      "source": [
        "# computing len of each tokens\n",
        "df['length'] = df['tokenize'].swifter.apply(lambda x : len(x))"
      ],
      "execution_count": 17,
      "outputs": [
        {
          "output_type": "display_data",
          "data": {
            "application/vnd.jupyter.widget-view+json": {
              "model_id": "129c8f06678240f08d840e41754077cc",
              "version_minor": 0,
              "version_major": 2
            },
            "text/plain": [
              "HBox(children=(FloatProgress(value=0.0, description='Pandas Apply', max=800000.0, style=ProgressStyle(descript…"
            ]
          },
          "metadata": {
            "tags": []
          }
        },
        {
          "output_type": "stream",
          "text": [
            "\n"
          ],
          "name": "stdout"
        }
      ]
    },
    {
      "cell_type": "code",
      "metadata": {
        "id": "JKzHBn9DnbVP",
        "colab_type": "code",
        "colab": {
          "base_uri": "https://localhost:8080/",
          "height": 182
        },
        "outputId": "5a965590-53c5-449d-ea22-581ff1fabe55"
      },
      "source": [
        "df['length'].describe()"
      ],
      "execution_count": 18,
      "outputs": [
        {
          "output_type": "execute_result",
          "data": {
            "text/plain": [
              "count    800000.000000\n",
              "mean         19.880009\n",
              "std           9.898869\n",
              "min           2.000000\n",
              "25%          12.000000\n",
              "50%          19.000000\n",
              "75%          27.000000\n",
              "max         177.000000\n",
              "Name: length, dtype: float64"
            ]
          },
          "metadata": {
            "tags": []
          },
          "execution_count": 18
        }
      ]
    },
    {
      "cell_type": "code",
      "metadata": {
        "id": "9e1sQZWCnhHA",
        "colab_type": "code",
        "colab": {
          "base_uri": "https://localhost:8080/",
          "height": 143
        },
        "outputId": "bbd0d059-334b-40ad-c489-ebcea61cb8a7"
      },
      "source": [
        "# sort df by the length so that while feeding into batches we have all obs in batch with same length\n",
        "# this will will ensure we are adding same padding in each batch to improve training time performance\n",
        "# shuffling the data set  as well \n",
        "df = df.sample(frac=1,random_state=42)\n",
        "df.sort_values(by='length',inplace=True)\n",
        "df.head(3)"
      ],
      "execution_count": 19,
      "outputs": [
        {
          "output_type": "execute_result",
          "data": {
            "text/html": [
              "<div>\n",
              "<style scoped>\n",
              "    .dataframe tbody tr th:only-of-type {\n",
              "        vertical-align: middle;\n",
              "    }\n",
              "\n",
              "    .dataframe tbody tr th {\n",
              "        vertical-align: top;\n",
              "    }\n",
              "\n",
              "    .dataframe thead th {\n",
              "        text-align: right;\n",
              "    }\n",
              "</style>\n",
              "<table border=\"1\" class=\"dataframe\">\n",
              "  <thead>\n",
              "    <tr style=\"text-align: right;\">\n",
              "      <th></th>\n",
              "      <th>sentiment</th>\n",
              "      <th>id</th>\n",
              "      <th>date</th>\n",
              "      <th>query</th>\n",
              "      <th>user</th>\n",
              "      <th>text</th>\n",
              "      <th>clean_tweet</th>\n",
              "      <th>target</th>\n",
              "      <th>tokenize</th>\n",
              "      <th>length</th>\n",
              "    </tr>\n",
              "  </thead>\n",
              "  <tbody>\n",
              "    <tr>\n",
              "      <th>1266427</th>\n",
              "      <td>4</td>\n",
              "      <td>1999648846</td>\n",
              "      <td>Mon Jun 01 20:34:57 PDT 2009</td>\n",
              "      <td>NO_QUERY</td>\n",
              "      <td>l0RENElAiNE</td>\n",
              "      <td>@CaLips</td>\n",
              "      <td></td>\n",
              "      <td>1</td>\n",
              "      <td>[[CLS], [SEP]]</td>\n",
              "      <td>2</td>\n",
              "    </tr>\n",
              "    <tr>\n",
              "      <th>461203</th>\n",
              "      <td>0</td>\n",
              "      <td>2174392538</td>\n",
              "      <td>Sun Jun 14 22:27:31 PDT 2009</td>\n",
              "      <td>NO_QUERY</td>\n",
              "      <td>tyblackdude</td>\n",
              "      <td>@durtynate24</td>\n",
              "      <td></td>\n",
              "      <td>0</td>\n",
              "      <td>[[CLS], [SEP]]</td>\n",
              "      <td>2</td>\n",
              "    </tr>\n",
              "    <tr>\n",
              "      <th>718322</th>\n",
              "      <td>0</td>\n",
              "      <td>2260261993</td>\n",
              "      <td>Sat Jun 20 18:56:10 PDT 2009</td>\n",
              "      <td>NO_QUERY</td>\n",
              "      <td>mallycakes</td>\n",
              "      <td>@wintermourning</td>\n",
              "      <td></td>\n",
              "      <td>0</td>\n",
              "      <td>[[CLS], [SEP]]</td>\n",
              "      <td>2</td>\n",
              "    </tr>\n",
              "  </tbody>\n",
              "</table>\n",
              "</div>"
            ],
            "text/plain": [
              "         sentiment          id  ...        tokenize length\n",
              "1266427          4  1999648846  ...  [[CLS], [SEP]]      2\n",
              "461203           0  2174392538  ...  [[CLS], [SEP]]      2\n",
              "718322           0  2260261993  ...  [[CLS], [SEP]]      2\n",
              "\n",
              "[3 rows x 10 columns]"
            ]
          },
          "metadata": {
            "tags": []
          },
          "execution_count": 19
        }
      ]
    },
    {
      "cell_type": "code",
      "metadata": {
        "id": "xG8oWTFOocMc",
        "colab_type": "code",
        "colab": {
          "base_uri": "https://localhost:8080/",
          "height": 35
        },
        "outputId": "b2c39c8d-c2ab-46b4-e279-c59d77b6bd2c"
      },
      "source": [
        "df.shape"
      ],
      "execution_count": 20,
      "outputs": [
        {
          "output_type": "execute_result",
          "data": {
            "text/plain": [
              "(800000, 10)"
            ]
          },
          "metadata": {
            "tags": []
          },
          "execution_count": 20
        }
      ]
    },
    {
      "cell_type": "code",
      "metadata": {
        "id": "sMX52szqoecl",
        "colab_type": "code",
        "colab": {
          "base_uri": "https://localhost:8080/",
          "height": 35
        },
        "outputId": "b3bc9006-b737-47b1-b228-97f0bfe37ed8"
      },
      "source": [
        "# keeping tweets with 10+ words for training\n",
        "MIN_LEN = 10\n",
        "sub_df = df[df['length'] >= MIN_LEN].copy()\n",
        "sub_df.shape"
      ],
      "execution_count": 21,
      "outputs": [
        {
          "output_type": "execute_result",
          "data": {
            "text/plain": [
              "(673589, 10)"
            ]
          },
          "metadata": {
            "tags": []
          },
          "execution_count": 21
        }
      ]
    },
    {
      "cell_type": "code",
      "metadata": {
        "id": "pdSNI5jAeJVf",
        "colab_type": "code",
        "colab": {
          "base_uri": "https://localhost:8080/",
          "height": 67,
          "referenced_widgets": [
            "d6eb4aca82a04e588707db37290c1c48",
            "d4e11a3eb66544929453cf1c3bd54f76",
            "4495f05ff407494b93acaff47d37c092",
            "6e747a67e3974d3cbf6e27851e297a7f",
            "e4f67af3cfd54f34b477b74b95298429",
            "9b20360539334293b8dd71894c666acf",
            "da0d86d528aa4879a7277b4186784b67",
            "bce74f947a2c4547bf8ef585c62c8c01"
          ]
        },
        "outputId": "09e704ea-8247-4e15-f302-7da9b64d186b"
      },
      "source": [
        "sub_df['token_ids'] = sub_df['tokenize'].swifter.apply(token_id)"
      ],
      "execution_count": 22,
      "outputs": [
        {
          "output_type": "display_data",
          "data": {
            "application/vnd.jupyter.widget-view+json": {
              "model_id": "d6eb4aca82a04e588707db37290c1c48",
              "version_minor": 0,
              "version_major": 2
            },
            "text/plain": [
              "HBox(children=(FloatProgress(value=0.0, description='Pandas Apply', max=673589.0, style=ProgressStyle(descript…"
            ]
          },
          "metadata": {
            "tags": []
          }
        },
        {
          "output_type": "stream",
          "text": [
            "\n"
          ],
          "name": "stdout"
        }
      ]
    },
    {
      "cell_type": "code",
      "metadata": {
        "id": "nnYO-LlkgTZA",
        "colab_type": "code",
        "colab": {
          "base_uri": "https://localhost:8080/",
          "height": 67,
          "referenced_widgets": [
            "8266fdbcb7b54367a93624c58c02c3ec",
            "ea26467332504657b949fcf06775a2d8",
            "30f297079f7946e9931f3319286cc495",
            "26f1921309c340d5a4618f87bfef645f",
            "c126a532092a49099a36ea33a87fb5ba",
            "02b917fcde124a5380be3b12f78ad1cf",
            "658a0486fae040f79b4f8e5df8d3a834",
            "5d8882ea24a547b5a5b73c621a8c60fd"
          ]
        },
        "outputId": "4be417fb-40b0-4f48-a3a3-b8ea55c0058b"
      },
      "source": [
        "sub_df['mask_token'] = sub_df['tokenize'].swifter.apply(mask_token)"
      ],
      "execution_count": 23,
      "outputs": [
        {
          "output_type": "display_data",
          "data": {
            "application/vnd.jupyter.widget-view+json": {
              "model_id": "8266fdbcb7b54367a93624c58c02c3ec",
              "version_minor": 0,
              "version_major": 2
            },
            "text/plain": [
              "HBox(children=(FloatProgress(value=0.0, description='Pandas Apply', max=673589.0, style=ProgressStyle(descript…"
            ]
          },
          "metadata": {
            "tags": []
          }
        },
        {
          "output_type": "stream",
          "text": [
            "\n"
          ],
          "name": "stdout"
        }
      ]
    },
    {
      "cell_type": "code",
      "metadata": {
        "id": "-072ukmhizTt",
        "colab_type": "code",
        "colab": {
          "base_uri": "https://localhost:8080/",
          "height": 67,
          "referenced_widgets": [
            "38cb6cd682104a74821355e0f2c493ca",
            "b8b7195765324232a9a7c314032f1ec1",
            "8beecd15473242d7a84093d68a2d8cdd",
            "8f496b9940bd445a8f4176afa42b1077",
            "468249325c01417c9b8d8be59557326a",
            "f6d7d93f51d84b8fbdbe76bf6ecdcbb1",
            "ddeb8c9341f740c69ca3a4d68b7892c7",
            "635ef2f94e4842ef94d873880af0067f"
          ]
        },
        "outputId": "f6f080b6-116d-4a39-f223-2536da6f239c"
      },
      "source": [
        "sub_df['segment_ids'] = sub_df['tokenize'].swifter.apply(segment_id)"
      ],
      "execution_count": 24,
      "outputs": [
        {
          "output_type": "display_data",
          "data": {
            "application/vnd.jupyter.widget-view+json": {
              "model_id": "38cb6cd682104a74821355e0f2c493ca",
              "version_minor": 0,
              "version_major": 2
            },
            "text/plain": [
              "HBox(children=(FloatProgress(value=0.0, description='Pandas Apply', max=673589.0, style=ProgressStyle(descript…"
            ]
          },
          "metadata": {
            "tags": []
          }
        },
        {
          "output_type": "stream",
          "text": [
            "\n"
          ],
          "name": "stdout"
        }
      ]
    },
    {
      "cell_type": "code",
      "metadata": {
        "id": "5VdHZUnXmZdo",
        "colab_type": "code",
        "colab": {
          "base_uri": "https://localhost:8080/",
          "height": 230
        },
        "outputId": "7b1e8427-2b01-461c-8b57-f437901106dd"
      },
      "source": [
        "sub_df[['token_ids','mask_token','segment_ids']].sample(3)"
      ],
      "execution_count": 25,
      "outputs": [
        {
          "output_type": "execute_result",
          "data": {
            "text/html": [
              "<div>\n",
              "<style scoped>\n",
              "    .dataframe tbody tr th:only-of-type {\n",
              "        vertical-align: middle;\n",
              "    }\n",
              "\n",
              "    .dataframe tbody tr th {\n",
              "        vertical-align: top;\n",
              "    }\n",
              "\n",
              "    .dataframe thead th {\n",
              "        text-align: right;\n",
              "    }\n",
              "</style>\n",
              "<table border=\"1\" class=\"dataframe\">\n",
              "  <thead>\n",
              "    <tr style=\"text-align: right;\">\n",
              "      <th></th>\n",
              "      <th>token_ids</th>\n",
              "      <th>mask_token</th>\n",
              "      <th>segment_ids</th>\n",
              "    </tr>\n",
              "  </thead>\n",
              "  <tbody>\n",
              "    <tr>\n",
              "      <th>560354</th>\n",
              "      <td>[101, 3160, 1011, 1019, 3286, 20116, 2102, 2003, 1015, 9737, 13938, 2102, 1029, 2009, 1005, 1055, 2397, 1998, 1045, 2342, 2062, 3255, 15872, 2869, 1045, 3984, 2065, 2061, 1010, 2009, 2052, 2022, 23409, 2213, 20008, 3367, 1025, 2488, 4638, 2077, 11360, 1025, 102]</td>\n",
              "      <td>[1, 1, 1, 1, 1, 1, 1, 1, 1, 1, 1, 1, 1, 1, 1, 1, 1, 1, 1, 1, 1, 1, 1, 1, 1, 1, 1, 1, 1, 1, 1, 1, 1, 1, 1, 1, 1, 1, 1, 1, 1, 1, 1]</td>\n",
              "      <td>[0, 0, 0, 0, 0, 0, 0, 0, 0, 0, 0, 0, 0, 0, 0, 0, 0, 0, 0, 0, 0, 0, 0, 0, 0, 0, 0, 0, 0, 0, 0, 0, 0, 0, 0, 0, 0, 0, 0, 0, 0, 0, 0]</td>\n",
              "    </tr>\n",
              "    <tr>\n",
              "      <th>963110</th>\n",
              "      <td>[101, 4931, 3071, 999, 999, 999, 2092, 10047, 8670, 2243, 2188, 999, 999, 999, 2074, 2404, 7629, 7680, 2047, 2774, 2006, 5003, 26322, 9061, 4402, 22038, 2595, 102]</td>\n",
              "      <td>[1, 1, 1, 1, 1, 1, 1, 1, 1, 1, 1, 1, 1, 1, 1, 1, 1, 1, 1, 1, 1, 1, 1, 1, 1, 1, 1, 1]</td>\n",
              "      <td>[0, 0, 0, 0, 0, 0, 0, 0, 0, 0, 0, 0, 0, 0, 0, 0, 0, 0, 0, 0, 0, 0, 0, 0, 0, 0, 0, 0]</td>\n",
              "    </tr>\n",
              "    <tr>\n",
              "      <th>773680</th>\n",
              "      <td>[101, 1996, 6077, 2562, 19372, 2012, 1996, 7381, 1012, 2644, 13847, 2033, 15068, 2226, 2226, 2226, 4904, 1010, 28844, 3111, 999, 999, 999, 102]</td>\n",
              "      <td>[1, 1, 1, 1, 1, 1, 1, 1, 1, 1, 1, 1, 1, 1, 1, 1, 1, 1, 1, 1, 1, 1, 1, 1]</td>\n",
              "      <td>[0, 0, 0, 0, 0, 0, 0, 0, 0, 0, 0, 0, 0, 0, 0, 0, 0, 0, 0, 0, 0, 0, 0, 0]</td>\n",
              "    </tr>\n",
              "  </tbody>\n",
              "</table>\n",
              "</div>"
            ],
            "text/plain": [
              "                                                                                                                                                                                                                                                                     token_ids  ...                                                                                                                        segment_ids\n",
              "560354  [101, 3160, 1011, 1019, 3286, 20116, 2102, 2003, 1015, 9737, 13938, 2102, 1029, 2009, 1005, 1055, 2397, 1998, 1045, 2342, 2062, 3255, 15872, 2869, 1045, 3984, 2065, 2061, 1010, 2009, 2052, 2022, 23409, 2213, 20008, 3367, 1025, 2488, 4638, 2077, 11360, 1025, 102]  ...  [0, 0, 0, 0, 0, 0, 0, 0, 0, 0, 0, 0, 0, 0, 0, 0, 0, 0, 0, 0, 0, 0, 0, 0, 0, 0, 0, 0, 0, 0, 0, 0, 0, 0, 0, 0, 0, 0, 0, 0, 0, 0, 0]\n",
              "963110                                                                                                     [101, 4931, 3071, 999, 999, 999, 2092, 10047, 8670, 2243, 2188, 999, 999, 999, 2074, 2404, 7629, 7680, 2047, 2774, 2006, 5003, 26322, 9061, 4402, 22038, 2595, 102]  ...                                               [0, 0, 0, 0, 0, 0, 0, 0, 0, 0, 0, 0, 0, 0, 0, 0, 0, 0, 0, 0, 0, 0, 0, 0, 0, 0, 0, 0]\n",
              "773680                                                                                                                         [101, 1996, 6077, 2562, 19372, 2012, 1996, 7381, 1012, 2644, 13847, 2033, 15068, 2226, 2226, 2226, 4904, 1010, 28844, 3111, 999, 999, 999, 102]  ...                                                           [0, 0, 0, 0, 0, 0, 0, 0, 0, 0, 0, 0, 0, 0, 0, 0, 0, 0, 0, 0, 0, 0, 0, 0]\n",
              "\n",
              "[3 rows x 3 columns]"
            ]
          },
          "metadata": {
            "tags": []
          },
          "execution_count": 25
        }
      ]
    },
    {
      "cell_type": "code",
      "metadata": {
        "id": "T7cU8r-gtO3x",
        "colab_type": "code",
        "colab": {}
      },
      "source": [
        "# convert all three input into tuple\n",
        "input_ids = list(zip(sub_df['token_ids'],sub_df['mask_token'],sub_df['segment_ids'])    )\n",
        "\n",
        "# convert input and output in list of tuple\n",
        "gen = list(zip(input_ids,sub_df['target']))"
      ],
      "execution_count": 26,
      "outputs": []
    },
    {
      "cell_type": "code",
      "metadata": {
        "id": "MuuRb9Kio-Zn",
        "colab_type": "code",
        "colab": {}
      },
      "source": [
        "# create dataset generator for training\n",
        "dataset = tf.data.Dataset.from_generator(lambda:gen,output_types=(tf.int32, tf.int32))"
      ],
      "execution_count": 27,
      "outputs": []
    },
    {
      "cell_type": "code",
      "metadata": {
        "id": "KlnCdm4mp6rk",
        "colab_type": "code",
        "colab": {
          "base_uri": "https://localhost:8080/",
          "height": 109
        },
        "outputId": "9de05d8f-8645-4682-92eb-4ce352d06666"
      },
      "source": [
        "# example of data gen\n",
        "sample = next(iter(dataset))\n",
        "sample"
      ],
      "execution_count": 28,
      "outputs": [
        {
          "output_type": "execute_result",
          "data": {
            "text/plain": [
              "(<tf.Tensor: shape=(3, 10), dtype=int32, numpy=\n",
              " array([[ 101, 1011, 1045, 3335, 2017, 2525, 2026, 7710,  999,  102],\n",
              "        [   1,    1,    1,    1,    1,    1,    1,    1,    1,    1],\n",
              "        [   0,    0,    0,    0,    0,    0,    0,    0,    0,    0]],\n",
              "       dtype=int32)>, <tf.Tensor: shape=(), dtype=int32, numpy=0>)"
            ]
          },
          "metadata": {
            "tags": []
          },
          "execution_count": 28
        }
      ]
    },
    {
      "cell_type": "code",
      "metadata": {
        "id": "wuY-AGAxo1zr",
        "colab_type": "code",
        "colab": {
          "base_uri": "https://localhost:8080/",
          "height": 35
        },
        "outputId": "17481e5e-2141-4ef1-fbf0-6f9cc604d32a"
      },
      "source": [
        "sample[0][1]"
      ],
      "execution_count": 29,
      "outputs": [
        {
          "output_type": "execute_result",
          "data": {
            "text/plain": [
              "<tf.Tensor: shape=(10,), dtype=int32, numpy=array([1, 1, 1, 1, 1, 1, 1, 1, 1, 1], dtype=int32)>"
            ]
          },
          "metadata": {
            "tags": []
          },
          "execution_count": 29
        }
      ]
    },
    {
      "cell_type": "code",
      "metadata": {
        "id": "W1I933GnnL4C",
        "colab_type": "code",
        "colab": {}
      },
      "source": [
        "# Bert Embedding layers example\n",
        "# Bert needs three input\n",
        "# bert gives two output\n",
        "# word embedding for each token\n",
        "# sentence embedding for complete sentence\n",
        "sent_emb, word_emb = bert_layer([tf.expand_dims(sample[0][0],axis=0),tf.expand_dims(sample[0][1],axis=0),tf.expand_dims(sample[0][2],axis=0)])       "
      ],
      "execution_count": 30,
      "outputs": []
    },
    {
      "cell_type": "code",
      "metadata": {
        "id": "e389IzBJqikC",
        "colab_type": "code",
        "colab": {
          "base_uri": "https://localhost:8080/",
          "height": 1000
        },
        "outputId": "541f0cd0-1cce-4243-c7ee-b03e8bddf8e6"
      },
      "source": [
        "# bert sentence embedding\n",
        "sent_emb"
      ],
      "execution_count": 31,
      "outputs": [
        {
          "output_type": "execute_result",
          "data": {
            "text/plain": [
              "<tf.Tensor: shape=(1, 768), dtype=float32, numpy=\n",
              "array([[-0.76737165, -0.41097584, -0.9254713 ,  0.65501165,  0.5293678 ,\n",
              "        -0.21975581,  0.7349396 ,  0.28127664, -0.84252703, -0.9999422 ,\n",
              "        -0.40607893,  0.92529947,  0.96100897,  0.67281246,  0.92393225,\n",
              "        -0.5952092 , -0.19115444, -0.5368186 ,  0.4108936 , -0.00423791,\n",
              "         0.6886967 ,  0.9999906 ,  0.18431018,  0.18238546,  0.5212475 ,\n",
              "         0.9894527 , -0.8066786 ,  0.9052497 ,  0.92836547,  0.5342323 ,\n",
              "        -0.49583486,  0.10000655, -0.9786017 , -0.353842  , -0.9704756 ,\n",
              "        -0.98830414,  0.32899258, -0.62806594, -0.02852749,  0.09683861,\n",
              "        -0.8435362 ,  0.25194606,  0.9999431 ,  0.19922172,  0.4086358 ,\n",
              "        -0.36052614, -0.99999976,  0.2834919 , -0.80205107,  0.8751598 ,\n",
              "         0.8829856 ,  0.8694397 ,  0.17662226,  0.50954425,  0.4441942 ,\n",
              "        -0.17182097, -0.07987472,  0.10378689, -0.2412517 , -0.5843585 ,\n",
              "        -0.49333397,  0.4459089 , -0.88422734, -0.84868956,  0.9129511 ,\n",
              "         0.86453205, -0.02119368, -0.28595507, -0.1011977 , -0.20295118,\n",
              "         0.8187144 ,  0.2742656 , -0.02125878, -0.87650925,  0.71638536,\n",
              "         0.23460823, -0.74166983,  1.        , -0.36578393, -0.94780964,\n",
              "         0.9374073 ,  0.79121935,  0.63789797, -0.15537277,  0.71343565,\n",
              "        -1.        ,  0.4607495 , -0.05295257, -0.9770193 ,  0.22982575,\n",
              "         0.57297754, -0.13741644,  0.77843225,  0.6955242 , -0.7246547 ,\n",
              "        -0.4769471 , -0.2571994 , -0.9263445 , -0.39564645, -0.35051507,\n",
              "         0.07857055, -0.33490208, -0.3434706 , -0.4307972 ,  0.2695513 ,\n",
              "        -0.45377523, -0.4052501 ,  0.5128484 ,  0.0111124 ,  0.65506446,\n",
              "         0.51126087, -0.41230497,  0.44504538, -0.9386967 ,  0.61221236,\n",
              "        -0.3638602 , -0.9786722 , -0.712096  , -0.983835  ,  0.5749938 ,\n",
              "        -0.4810577 , -0.2659366 ,  0.93654984, -0.48185655,  0.2907306 ,\n",
              "        -0.01590546, -0.92479   , -1.        , -0.6692802 , -0.58904135,\n",
              "        -0.34787968, -0.20516951, -0.9521    , -0.9341941 ,  0.6242504 ,\n",
              "         0.9069843 ,  0.20250943,  0.9998346 , -0.27582607,  0.92169404,\n",
              "        -0.46398157, -0.737913  ,  0.6484511 , -0.33054388,  0.8972702 ,\n",
              "         0.12424061, -0.38005126,  0.13246502, -0.06033794,  0.43439293,\n",
              "        -0.6564219 , -0.01351834, -0.80432916, -0.9158478 , -0.30229586,\n",
              "         0.9376963 , -0.66398084, -0.9398205 , -0.07297125, -0.0847027 ,\n",
              "        -0.42956278,  0.75250703,  0.7146567 ,  0.4041317 , -0.44730517,\n",
              "         0.44364515,  0.29964176,  0.47120333, -0.6542759 , -0.14566162,\n",
              "         0.44416165, -0.36657697, -0.88694805, -0.9700771 , -0.3639857 ,\n",
              "         0.53897035,  0.9784205 ,  0.70734096,  0.2732389 ,  0.7881086 ,\n",
              "        -0.1516065 ,  0.7550451 , -0.9320199 ,  0.9614005 , -0.30374724,\n",
              "         0.29891822, -0.6744168 ,  0.7298361 , -0.6761452 ,  0.39101496,\n",
              "         0.70910776, -0.6498767 , -0.6763437 , -0.04219343, -0.50761175,\n",
              "        -0.40683216, -0.85646456,  0.22806019, -0.26779282, -0.3117204 ,\n",
              "         0.01168136,  0.91366416,  0.91215694,  0.6165837 ,  0.34680802,\n",
              "         0.76148105, -0.81540596, -0.2834501 , -0.07187425,  0.19466591,\n",
              "         0.28045157,  0.9819353 , -0.78190804,  0.02192544, -0.9061833 ,\n",
              "        -0.9815844 , -0.20705977, -0.8242432 , -0.0885662 , -0.673178  ,\n",
              "         0.6991202 , -0.32843995,  0.6040348 ,  0.5087837 , -0.9507544 ,\n",
              "        -0.6638355 ,  0.3967478 , -0.45816237,  0.4937895 , -0.23152116,\n",
              "         0.8984158 ,  0.957657  , -0.48459202,  0.23078628,  0.9100448 ,\n",
              "        -0.95489186, -0.6653112 ,  0.7216166 , -0.2096491 ,  0.76600224,\n",
              "        -0.6926569 ,  0.9697776 ,  0.9266768 ,  0.8534926 , -0.85118204,\n",
              "        -0.85816497, -0.6188209 , -0.7695081 , -0.08481786,  0.27282155,\n",
              "         0.87895006,  0.7218027 ,  0.30017015,  0.19715077, -0.56299675,\n",
              "         0.9794436 , -0.9520628 , -0.91426253, -0.81381536, -0.09395432,\n",
              "        -0.9671336 ,  0.9189285 ,  0.39939904,  0.5834509 , -0.501133  ,\n",
              "        -0.6642791 , -0.9337613 ,  0.78345466,  0.05368832,  0.9633157 ,\n",
              "        -0.23437725, -0.85076845, -0.6149758 , -0.8844633 , -0.2767956 ,\n",
              "        -0.22028199, -0.3968024 , -0.19117205, -0.92218256,  0.52774084,\n",
              "         0.25995943,  0.51107943, -0.8674485 ,  0.99489576,  1.        ,\n",
              "         0.94655764,  0.82264197,  0.85393655, -0.9998987 , -0.81910336,\n",
              "         0.9999864 , -0.9923766 , -1.        , -0.8400485 , -0.4754163 ,\n",
              "         0.04068489, -1.        , -0.12364877,  0.1594259 , -0.87569594,\n",
              "         0.6982933 ,  0.9468358 ,  0.97158045, -1.        ,  0.5899516 ,\n",
              "         0.8684985 , -0.74844885,  0.96081823, -0.45518145,  0.939769  ,\n",
              "         0.71063316,  0.22069226, -0.34667018,  0.48181033, -0.95846444,\n",
              "        -0.7973005 , -0.6761066 , -0.86119366,  0.9989376 ,  0.15212235,\n",
              "        -0.7310372 , -0.8643532 ,  0.45093635, -0.00726622, -0.16898014,\n",
              "        -0.9523268 , -0.17417833,  0.7008133 ,  0.8521952 ,  0.10529914,\n",
              "         0.34884393, -0.5397661 ,  0.27347252,  0.19834362,  0.1499583 ,\n",
              "         0.74547935, -0.91441387, -0.12165371, -0.05551672, -0.15401499,\n",
              "        -0.6881325 , -0.956832  ,  0.94145674, -0.62801874,  0.8900415 ,\n",
              "         1.        ,  0.47428638, -0.766538  ,  0.7404774 ,  0.2314108 ,\n",
              "        -0.4387709 ,  1.        ,  0.8817397 , -0.95330113, -0.6846316 ,\n",
              "         0.6972588 , -0.59076405, -0.6323611 ,  0.99848455, -0.22004083,\n",
              "        -0.72492313, -0.34217903,  0.9709337 , -0.9692223 ,  0.9973132 ,\n",
              "        -0.84284407, -0.9619091 ,  0.93991804,  0.9042535 , -0.7493411 ,\n",
              "        -0.51929784,  0.2041284 , -0.7300072 ,  0.23955713, -0.8750024 ,\n",
              "         0.7403718 ,  0.3693336 , -0.03231593,  0.8160422 , -0.37114772,\n",
              "        -0.6787348 ,  0.25747764, -0.6430815 , -0.2364126 ,  0.9753507 ,\n",
              "         0.61349875, -0.20788506,  0.02361477, -0.32074857, -0.6905208 ,\n",
              "        -0.9593609 ,  0.65050066,  1.        , -0.24337602,  0.83842754,\n",
              "        -0.41305286, -0.11541204, -0.06482628,  0.41921556,  0.55431247,\n",
              "        -0.27344882, -0.8266703 ,  0.8591257 , -0.9381733 , -0.9771774 ,\n",
              "         0.5896633 ,  0.14440742, -0.295836  ,  0.9999844 ,  0.66921777,\n",
              "         0.0986609 ,  0.49463093,  0.98367923,  0.09554538,  0.4812467 ,\n",
              "         0.9141973 ,  0.95837677, -0.20698126,  0.6291386 ,  0.58076584,\n",
              "        -0.8703205 , -0.2881653 , -0.6449884 ,  0.05808249, -0.9179756 ,\n",
              "         0.0152983 , -0.9217389 ,  0.9406369 ,  0.9440065 ,  0.39257398,\n",
              "         0.28984454,  0.7653892 ,  1.        , -0.8197818 ,  0.50853175,\n",
              "         0.488354  ,  0.6486025 , -0.9998896 , -0.8016165 , -0.37814188,\n",
              "         0.02394936, -0.8523985 , -0.3619738 ,  0.28803048, -0.9294438 ,\n",
              "         0.77685916,  0.70391285, -0.98418385, -0.9840244 , -0.29545128,\n",
              "         0.60163605,  0.05079752, -0.9827624 , -0.6813575 , -0.36724672,\n",
              "         0.41768476, -0.14107147, -0.89511794, -0.34871343, -0.3276996 ,\n",
              "         0.42424992, -0.16956726,  0.69038165,  0.9031825 ,  0.6482688 ,\n",
              "        -0.7272625 , -0.3537277 , -0.08368187, -0.65027726,  0.724846  ,\n",
              "        -0.6427337 , -0.9502754 , -0.26687574,  1.        , -0.7733358 ,\n",
              "         0.89100343,  0.5924989 ,  0.49412346, -0.18242112,  0.13868158,\n",
              "         0.973861  ,  0.2839193 , -0.81203806, -0.8122997 , -0.07597525,\n",
              "        -0.46716118,  0.5741761 ,  0.66837543,  0.8142699 ,  0.64006245,\n",
              "         0.82455015,  0.06372243,  0.13955274, -0.1301167 ,  0.995361  ,\n",
              "        -0.18009178, -0.314759  , -0.4581434 ,  0.02116392, -0.46264777,\n",
              "         0.0871997 ,  1.        ,  0.22393297,  0.53622055, -0.97804195,\n",
              "        -0.88705224, -0.78510594,  0.9999999 ,  0.7440257 , -0.5137814 ,\n",
              "         0.6862524 ,  0.7248293 , -0.00452265,  0.6597864 , -0.16783527,\n",
              "        -0.19258372,  0.3128859 ,  0.10572394,  0.9088187 , -0.5423312 ,\n",
              "        -0.9467858 , -0.43482918,  0.4175973 , -0.95452684,  0.9999686 ,\n",
              "        -0.54902935, -0.28428447, -0.4106366 ,  0.00579467, -0.725109  ,\n",
              "         0.00286936, -0.97440267, -0.16490445,  0.18299204,  0.9351602 ,\n",
              "         0.32230744, -0.6751744 , -0.78546405,  0.82230514,  0.66506124,\n",
              "        -0.9312307 , -0.93678474,  0.93668497, -0.9824023 ,  0.6900394 ,\n",
              "         1.        ,  0.21551913, -0.26888505,  0.18103465, -0.1900421 ,\n",
              "         0.3099979 , -0.61223173,  0.6346812 , -0.9446801 , -0.419916  ,\n",
              "        -0.22873043,  0.2979082 , -0.10547747, -0.66990936,  0.53747046,\n",
              "         0.2577874 , -0.65475523, -0.5799742 , -0.06379174,  0.3688811 ,\n",
              "         0.83533823, -0.26462492, -0.24882267, -0.02708754,  0.02955426,\n",
              "        -0.9128395 , -0.28226545, -0.43202963, -0.99999577,  0.44062322,\n",
              "        -1.        ,  0.6769916 ,  0.25735992, -0.1218289 ,  0.7594721 ,\n",
              "         0.69977444,  0.73366153, -0.58825505, -0.80225396,  0.6029277 ,\n",
              "         0.71751404, -0.35556853, -0.41892174, -0.48316133,  0.4267618 ,\n",
              "        -0.15826203,  0.3324318 , -0.64396656,  0.74821764, -0.2779827 ,\n",
              "         1.        ,  0.2211009 , -0.66849613, -0.9343081 ,  0.24524827,\n",
              "        -0.32850602,  1.        , -0.65364957, -0.9127259 ,  0.5234928 ,\n",
              "        -0.69476175, -0.87173843,  0.42314652, -0.08455188, -0.7598632 ,\n",
              "        -0.94840467,  0.93476534,  0.75277793, -0.69805706,  0.6348985 ,\n",
              "        -0.34650823, -0.5520725 , -0.00926438,  0.88101584,  0.9715679 ,\n",
              "         0.44237667,  0.6471925 , -0.64435875, -0.47451362,  0.95112705,\n",
              "         0.22704278, -0.10099554,  0.05431149,  1.        ,  0.32135   ,\n",
              "        -0.845676  , -0.0468893 , -0.9106575 , -0.24997653, -0.9176228 ,\n",
              "         0.32761604,  0.24814394,  0.8770055 , -0.25093755,  0.89623326,\n",
              "        -0.82149833,  0.01693164, -0.6109895 , -0.47589272,  0.40370357,\n",
              "        -0.89845556, -0.9719212 , -0.97253406,  0.75550056, -0.4299954 ,\n",
              "        -0.0316888 ,  0.14182279, -0.08617176,  0.3227966 ,  0.5354533 ,\n",
              "        -1.        ,  0.87327456,  0.33438462,  0.9293879 ,  0.9213229 ,\n",
              "         0.8689906 ,  0.5131831 ,  0.1489576 , -0.961105  , -0.9512121 ,\n",
              "        -0.26395562, -0.09394816,  0.56014603,  0.5839203 ,  0.8754771 ,\n",
              "         0.35515988, -0.43338734, -0.54286015, -0.7342585 , -0.9237632 ,\n",
              "        -0.9840225 ,  0.36769792, -0.50960505, -0.8445654 ,  0.94259506,\n",
              "         0.14073102, -0.09431134, -0.38522494, -0.8773021 ,  0.8253226 ,\n",
              "         0.77082497,  0.05698596,  0.06519963,  0.16035223,  0.79406595,\n",
              "         0.9004693 ,  0.95803314, -0.853742  ,  0.72857094, -0.6431848 ,\n",
              "         0.56294453,  0.84400713, -0.9008417 ,  0.12047649,  0.46216786,\n",
              "        -0.3441766 ,  0.14441934, -0.17997237, -0.90537065,  0.69510114,\n",
              "        -0.1800534 ,  0.42293188, -0.50170326,  0.06517506, -0.40051642,\n",
              "         0.01253262, -0.3972717 , -0.68789715,  0.7282883 ,  0.11039412,\n",
              "         0.7750978 ,  0.91824436,  0.01537849, -0.49003753, -0.07652719,\n",
              "        -0.746898  , -0.8647323 ,  0.78260934,  0.0688535 , -0.56090975,\n",
              "         0.6862822 , -0.09515532,  0.8983212 ,  0.18729599, -0.33020976,\n",
              "        -0.375841  , -0.3795045 ,  0.8589455 , -0.3244582 , -0.61079705,\n",
              "        -0.53224325,  0.62784815,  0.39975256,  0.9999939 , -0.7442247 ,\n",
              "        -0.87060434, -0.37656516, -0.29052028,  0.471583  , -0.50562006,\n",
              "        -1.        ,  0.3857475 , -0.54364806,  0.804534  , -0.7016366 ,\n",
              "         0.85535437, -0.616815  , -0.95868844, -0.31310272,  0.49695396,\n",
              "         0.75649136, -0.48903236, -0.50645554,  0.6643951 , -0.07370012,\n",
              "         0.9745149 ,  0.6864687 ,  0.4574938 , -0.01945683,  0.742914  ,\n",
              "        -0.6741706 , -0.7002318 ,  0.84263945]], dtype=float32)>"
            ]
          },
          "metadata": {
            "tags": []
          },
          "execution_count": 31
        }
      ]
    },
    {
      "cell_type": "code",
      "metadata": {
        "id": "UQ5yvRT-qrRw",
        "colab_type": "code",
        "colab": {
          "base_uri": "https://localhost:8080/",
          "height": 274
        },
        "outputId": "e31e4936-d2a3-44f5-833b-fa90ce8486f2"
      },
      "source": [
        "# bert word emmbeddings\n",
        "word_emb"
      ],
      "execution_count": 32,
      "outputs": [
        {
          "output_type": "execute_result",
          "data": {
            "text/plain": [
              "<tf.Tensor: shape=(1, 10, 768), dtype=float32, numpy=\n",
              "array([[[-0.06861989,  0.15293457,  0.03007803, ..., -0.4028083 ,\n",
              "          0.1657426 ,  0.44624186],\n",
              "        [ 0.33549878,  0.34711733,  0.34191743, ...,  0.01532548,\n",
              "          0.429602  ,  0.40605515],\n",
              "        [ 0.14023837,  0.310545  ,  0.42587104, ..., -0.15992254,\n",
              "          0.11591094,  0.94670236],\n",
              "        ...,\n",
              "        [-0.7463669 , -0.34005493,  0.4941042 , ..., -0.06445795,\n",
              "          0.07051917,  1.055614  ],\n",
              "        [-0.27299654,  0.13023369,  0.04562852, ...,  0.28933996,\n",
              "          0.2239339 ,  0.06370082],\n",
              "        [ 0.41037756, -0.01631321, -0.12888537, ..., -0.17260408,\n",
              "         -0.5833017 , -0.29110155]]], dtype=float32)>"
            ]
          },
          "metadata": {
            "tags": []
          },
          "execution_count": 32
        }
      ]
    },
    {
      "cell_type": "code",
      "metadata": {
        "id": "RgSOVn5_p-3f",
        "colab_type": "code",
        "colab": {}
      },
      "source": [
        "BATCH_SIZE = 32\n",
        "\n",
        "# get padded batches using padded batch \n",
        "batch = dataset.padded_batch(BATCH_SIZE, padded_shapes=((3,None), ()),padding_values=(0,0))"
      ],
      "execution_count": 33,
      "outputs": []
    },
    {
      "cell_type": "code",
      "metadata": {
        "id": "H3S6PNzRuNnl",
        "colab_type": "code",
        "colab": {}
      },
      "source": [
        "# test size for splitting batches into train and test batch\n",
        "TEST_SIZE = 0.2\n",
        "\n",
        "# Total  number of batch\n",
        "N_BATCH = int(np.ceil(sub_df.shape[0]/BATCH_SIZE))\n",
        "\n",
        "# shuffle batches before dividing into train and test\n",
        "batch.shuffle(N_BATCH)\n",
        "\n",
        "# Test batch count\n",
        "N_TEST_BATCH = int(N_BATCH * TEST_SIZE)\n",
        "\n",
        "\n",
        "# train and test batches\n",
        "test = batch.take(N_TEST_BATCH)\n",
        "train = batch.skip(N_TEST_BATCH)\n"
      ],
      "execution_count": 34,
      "outputs": []
    },
    {
      "cell_type": "code",
      "metadata": {
        "id": "XjQsVT6YuyK8",
        "colab_type": "code",
        "colab": {}
      },
      "source": [
        "# build Text Classifier model using 1D CBB\n",
        "\n",
        "class classifier(tf.keras.Model):\n",
        "    \n",
        "    def __init__(self,vocab_size,nb_filters=50, FFN_units=512,dropout_rate=0.1,training=False):\n",
        "        \n",
        "        super().__init__()\n",
        "        \n",
        "        # define bert embedding layer\n",
        "        url = \"https://tfhub.dev/tensorflow/bert_en_uncased_L-12_H-768_A-12/1\"\n",
        "        self.bert_layer =  hub.KerasLayer(url,trainable=False)\n",
        "        \n",
        "        # biagram 1D CNN Layer\n",
        "        self.bigram = layers.Conv1D(filters=nb_filters, kernel_size= 2, padding=\"valid\", activation=\"relu\")\n",
        "        \n",
        "        # triagram 1D CNN Layer\n",
        "        self.trigram = layers.Conv1D(filters=nb_filters,kernel_size=3, padding=\"valid\",activation=\"relu\")\n",
        "        \n",
        "        # fourgram 1D CNN Layer\n",
        "        self.fourgram = layers.Conv1D(filters=nb_filters,kernel_size=4, padding=\"valid\", activation=\"relu\")\n",
        "        \n",
        "        # global maxpooling layer\n",
        "        self.pool = layers.GlobalMaxPool1D()\n",
        "        \n",
        "        # final full connected dense layer\n",
        "        self.dense_1 = layers.Dense(units=FFN_units, activation=\"relu\")\n",
        "        \n",
        "        # drop out layer\n",
        "        self.dropout = layers.Dropout(rate=dropout_rate)\n",
        "\n",
        "        # final output layer     \n",
        "        self.last_dense = layers.Dense(units=1,activation=\"sigmoid\")\n",
        "\n",
        "        return\n",
        "\n",
        "    def bert_embedding(self,tokens):\n",
        "        sent_emb, word_emb = self.bert_layer([tokens[:,0,:],tokens[:,1,:], tokens[:,2,:]])\n",
        "        return word_emb\n",
        "    \n",
        "    def call(self, inputs, training):\n",
        "        x = self.bert_embedding(inputs)\n",
        "        x_1 = self.bigram(x) # batch_size, nb_filters, seq_len-1)\n",
        "        x_1 = self.pool(x_1) # (batch_size, nb_filters)\n",
        "        x_2 = self.trigram(x) # batch_size, nb_filters, seq_len-2)\n",
        "        x_2 = self.pool(x_2) # (batch_size, nb_filters)\n",
        "        x_3 = self.fourgram(x) # batch_size, nb_filters, seq_len-3)\n",
        "        x_3 = self.pool(x_3) # (batch_size, nb_filters)\n",
        "        \n",
        "        merged = tf.concat([x_1, x_2, x_3], axis=-1) # (batch_size, 3 * nb_filters)\n",
        "        merged = self.dense_1(merged)\n",
        "\n",
        "        # Dropout layer, have different behaviors during training and inference. \n",
        "        # For such layers, it is standard practice to expose a training (boolean) argument in the call() method.\n",
        "        merged = self.dropout(merged, training)\n",
        "        \n",
        "        output = self.last_dense(merged)\n",
        "        \n",
        "        return output"
      ],
      "execution_count": 35,
      "outputs": []
    },
    {
      "cell_type": "code",
      "metadata": {
        "id": "q4elDN3Gu7VD",
        "colab_type": "code",
        "colab": {}
      },
      "source": [
        "# define hyperparameters\n",
        "VOCAB_SIZE = len(tokenizer.vocab)\n",
        "NB_FILTERS = 10\n",
        "FFN_UNITS = 64\n",
        "DROPOUT_RATE = 0.2\n",
        "NB_EPOCHS = 3"
      ],
      "execution_count": 36,
      "outputs": []
    },
    {
      "cell_type": "code",
      "metadata": {
        "id": "wbZWbFPZ5_zU",
        "colab_type": "code",
        "colab": {
          "base_uri": "https://localhost:8080/",
          "height": 35
        },
        "outputId": "5921616b-addc-425b-a734-a86519b40a98"
      },
      "source": [
        "VOCAB_SIZE"
      ],
      "execution_count": 37,
      "outputs": [
        {
          "output_type": "execute_result",
          "data": {
            "text/plain": [
              "30522"
            ]
          },
          "metadata": {
            "tags": []
          },
          "execution_count": 37
        }
      ]
    },
    {
      "cell_type": "code",
      "metadata": {
        "id": "syqscBr16BK2",
        "colab_type": "code",
        "colab": {}
      },
      "source": [
        "# create model\n",
        "model = classifier(vocab_size=VOCAB_SIZE,nb_filters=NB_FILTERS,FFN_units=FFN_UNITS,dropout_rate=DROPOUT_RATE)"
      ],
      "execution_count": 38,
      "outputs": []
    },
    {
      "cell_type": "code",
      "metadata": {
        "id": "N9x1XPYz6RRR",
        "colab_type": "code",
        "colab": {}
      },
      "source": [
        "# compile model\n",
        "model.compile(loss=\"binary_crossentropy\",optimizer=\"adam\",metrics=[\"accuracy\"])"
      ],
      "execution_count": 39,
      "outputs": []
    },
    {
      "cell_type": "code",
      "metadata": {
        "id": "l2WWlqKB6aco",
        "colab_type": "code",
        "colab": {
          "base_uri": "https://localhost:8080/",
          "height": 35
        },
        "outputId": "22efeba2-cae8-4f22-aa58-ea014c0647af"
      },
      "source": [
        "# save checkpoints\n",
        "checkpoint_path = \"ckpt_token\"\n",
        "\n",
        "ckpt = tf.train.Checkpoint(model=model)\n",
        "\n",
        "ckpt_manager = tf.train.CheckpointManager(ckpt, checkpoint_path, max_to_keep=1)\n",
        "\n",
        "if ckpt_manager.latest_checkpoint:\n",
        "    ckpt.restore(ckpt_manager.latest_checkpoint)\n",
        "    print(\"Latest checkpoint restored!!\")"
      ],
      "execution_count": 40,
      "outputs": [
        {
          "output_type": "stream",
          "text": [
            "Latest checkpoint restored!!\n"
          ],
          "name": "stdout"
        }
      ]
    },
    {
      "cell_type": "code",
      "metadata": {
        "id": "TPFT9vra6oLk",
        "colab_type": "code",
        "colab": {}
      },
      "source": [
        "# callback to save checkpoint\n",
        "class save_checkpoint_callback(tf.keras.callbacks.Callback):\n",
        "\n",
        "    def on_epoch_end(self, epoch, logs=None):\n",
        "        ckpt_manager.save()\n",
        "        print(\"Checkpoint saved at {}.\".format(checkpoint_path))"
      ],
      "execution_count": 41,
      "outputs": []
    },
    {
      "cell_type": "code",
      "metadata": {
        "id": "2INag41U6_RV",
        "colab_type": "code",
        "colab": {
          "base_uri": "https://localhost:8080/",
          "height": 201
        },
        "outputId": "cb380df5-3a5e-47ec-8413-85e94d459435"
      },
      "source": [
        "# train the model\n",
        "model.fit(train, epochs=NB_EPOCHS,callbacks=[save_checkpoint_callback()])"
      ],
      "execution_count": 42,
      "outputs": [
        {
          "output_type": "stream",
          "text": [
            "Epoch 1/3\n",
            "  16840/Unknown - 2020s 120ms/step - loss: 0.3890 - accuracy: 0.8258Checkpoint saved at ckpt_token.\n",
            "16840/16840 [==============================] - 2022s 120ms/step - loss: 0.3890 - accuracy: 0.8258\n",
            "Epoch 2/3\n",
            "16840/16840 [==============================] - ETA: 0s - loss: 0.3786 - accuracy: 0.8312Checkpoint saved at ckpt_token.\n",
            "16840/16840 [==============================] - 2010s 119ms/step - loss: 0.3786 - accuracy: 0.8312\n",
            "Epoch 3/3\n",
            "16840/16840 [==============================] - ETA: 0s - loss: 0.3712 - accuracy: 0.8350Checkpoint saved at ckpt_token.\n",
            "16840/16840 [==============================] - 2004s 119ms/step - loss: 0.3712 - accuracy: 0.8350\n"
          ],
          "name": "stdout"
        },
        {
          "output_type": "execute_result",
          "data": {
            "text/plain": [
              "<tensorflow.python.keras.callbacks.History at 0x7f25e3f7d898>"
            ]
          },
          "metadata": {
            "tags": []
          },
          "execution_count": 42
        }
      ]
    },
    {
      "cell_type": "code",
      "metadata": {
        "id": "zFt6vEroeOZ-",
        "colab_type": "code",
        "colab": {
          "base_uri": "https://localhost:8080/",
          "height": 54
        },
        "outputId": "4015475e-ce0c-4f43-bf77-de782b5ef6e1"
      },
      "source": [
        "# evaluate on test dataset\n",
        "eval = model.evaluate(test)\n",
        "print(eval)"
      ],
      "execution_count": 43,
      "outputs": [
        {
          "output_type": "stream",
          "text": [
            "4210/4210 [==============================] - 292s 69ms/step - loss: 0.3570 - accuracy: 0.8447\n",
            "[0.3570321500301361, 0.8447223901748657]\n"
          ],
          "name": "stdout"
        }
      ]
    },
    {
      "cell_type": "code",
      "metadata": {
        "id": "gXIuUo4s6__6",
        "colab_type": "code",
        "colab": {}
      },
      "source": [
        "predict = model.predict(test)"
      ],
      "execution_count": 44,
      "outputs": []
    },
    {
      "cell_type": "code",
      "metadata": {
        "id": "bMKHkcVT8DR3",
        "colab_type": "code",
        "colab": {
          "base_uri": "https://localhost:8080/",
          "height": 146
        },
        "outputId": "aa161f1e-c8e0-45d0-c123-654e97560995"
      },
      "source": [
        "predict"
      ],
      "execution_count": 45,
      "outputs": [
        {
          "output_type": "execute_result",
          "data": {
            "text/plain": [
              "array([[0.14979693],\n",
              "       [0.9642483 ],\n",
              "       [0.97849065],\n",
              "       ...,\n",
              "       [0.82095337],\n",
              "       [0.25183102],\n",
              "       [0.40005735]], dtype=float32)"
            ]
          },
          "metadata": {
            "tags": []
          },
          "execution_count": 45
        }
      ]
    },
    {
      "cell_type": "code",
      "metadata": {
        "id": "YhrikAY_8Uv2",
        "colab_type": "code",
        "colab": {}
      },
      "source": [
        ""
      ],
      "execution_count": 45,
      "outputs": []
    }
  ]
}
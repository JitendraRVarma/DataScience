{
  "nbformat": 4,
  "nbformat_minor": 0,
  "metadata": {
    "colab": {
      "name": "ktrain_text_classification.ipynb",
      "provenance": [],
      "collapsed_sections": []
    },
    "kernelspec": {
      "name": "python3",
      "display_name": "Python 3"
    },
    "accelerator": "GPU"
  },
  "cells": [
    {
      "cell_type": "code",
      "metadata": {
        "id": "qp4_V9BTanYz",
        "colab_type": "code",
        "colab": {}
      },
      "source": [
        "import os.path\n",
        "import numpy as np\n",
        "import pandas as pd\n",
        "import tensorflow as tf\n",
        "import ktrain\n",
        "from ktrain import text"
      ],
      "execution_count": 1,
      "outputs": []
    },
    {
      "cell_type": "code",
      "metadata": {
        "id": "wPLBS9BJbryL",
        "colab_type": "code",
        "colab": {}
      },
      "source": [
        "# Download IMDB Sentiment Dataset\n",
        "dataset = tf.keras.utils.get_file(fname=\"aclImdb_v1.tar.gz\",\n",
        "                                  origin=\"http://ai.stanford.edu/~amaas/data/sentiment/aclImdb_v1.tar.gz\",\n",
        "                                  extract=True)\n",
        "\n",
        "IMDB_DATADIR = os.path.join(os.path.dirname(dataset), 'aclImdb')"
      ],
      "execution_count": null,
      "outputs": []
    },
    {
      "cell_type": "code",
      "metadata": {
        "id": "l-xGDJvUcFxs",
        "colab_type": "code",
        "colab": {}
      },
      "source": [
        "# read train & test folder from the aclImdb dataset\n",
        "(x_train, y_train), (x_test, y_test), preproc = text.texts_from_folder(datadir=IMDB_DATADIR,\n",
        "                                                                       classes=['pos','neg'],\n",
        "                                                                       maxlen=500,\n",
        "                                                                       train_test_names=['train','test'],\n",
        "                                                                       preprocess_mode='bert')"
      ],
      "execution_count": null,
      "outputs": []
    },
    {
      "cell_type": "code",
      "metadata": {
        "id": "URSWeYJnc-Wo",
        "colab_type": "code",
        "colab": {}
      },
      "source": [
        "# BERT Text Classifier Model\n",
        "model = text.text_classifier(name='bert',train_data=(x_train, y_train),preproc=preproc)"
      ],
      "execution_count": null,
      "outputs": []
    },
    {
      "cell_type": "code",
      "metadata": {
        "id": "LbgGiqOfdlEc",
        "colab_type": "code",
        "colab": {}
      },
      "source": [
        "# define learner\n",
        "learner = ktrain.get_learner(model=model,train_data=(x_train, y_train),val_data=(x_test, y_test),batch_size=6)"
      ],
      "execution_count": 5,
      "outputs": []
    },
    {
      "cell_type": "code",
      "metadata": {
        "id": "a0S4B-VTeW1i",
        "colab_type": "code",
        "colab": {}
      },
      "source": [
        "# find learning rate\n",
        "# learner.lr_find()"
      ],
      "execution_count": 6,
      "outputs": []
    },
    {
      "cell_type": "code",
      "metadata": {
        "id": "Wl4NOiuiek6h",
        "colab_type": "code",
        "colab": {}
      },
      "source": [
        "# plot learning rate\n",
        "# learner.lr_plot()"
      ],
      "execution_count": 7,
      "outputs": []
    },
    {
      "cell_type": "code",
      "metadata": {
        "id": "XoZ0j2FIe7Sj",
        "colab_type": "code",
        "colab": {
          "base_uri": "https://localhost:8080/",
          "height": 127
        },
        "outputId": "aab6247c-e066-4e11-bf2e-54d53add4f24"
      },
      "source": [
        "# fit the model\n",
        "learner.fit_onecycle(lr=2e-5,epochs=1)"
      ],
      "execution_count": 18,
      "outputs": [
        {
          "output_type": "stream",
          "text": [
            "\n",
            "\n",
            "begin training using onecycle policy with max lr of 2e-05...\n",
            "Train on 25000 samples, validate on 25000 samples\n",
            "25000/25000 [==============================] - 9185s 367ms/sample - loss: 0.2504 - accuracy: 0.8978 - val_loss: 0.1614 - val_accuracy: 0.9384\n"
          ],
          "name": "stdout"
        },
        {
          "output_type": "execute_result",
          "data": {
            "text/plain": [
              "<tensorflow.python.keras.callbacks.History at 0x7f9dd3b05a20>"
            ]
          },
          "metadata": {
            "tags": []
          },
          "execution_count": 18
        }
      ]
    },
    {
      "cell_type": "code",
      "metadata": {
        "id": "3nwKf01ifPzo",
        "colab_type": "code",
        "colab": {}
      },
      "source": [
        "# predictior object\n",
        "predictor = ktrain.get_predictor(learner.model,preproc)"
      ],
      "execution_count": 19,
      "outputs": []
    },
    {
      "cell_type": "code",
      "metadata": {
        "id": "yLvDZsd-viXM",
        "colab_type": "code",
        "colab": {}
      },
      "source": [
        "# sample data to predict\n",
        "sample = [\"\"\"This contains some spoiler information, but the movie is not worth watching anyway...<br /><br />Why Ellen Barkin and Peta Wilson \n",
        "            agreed to be a part of this debacle by writer-director Damian Harris is beyond me. The story is full of unrealistic police investigating\n",
        "            techniques, which includes going to a party with a suspect and inviting that suspect over to your house and getting intimate with them. \n",
        "            The tale also features a male psychiatrist who seems to have nothing but female clients - and he sleeps with them all.<br /><br />Even \n",
        "            more over-the-top is the notion that the female victims to a horrendous S/M crime belong to a large, yet secret, group of S/M lesbian \n",
        "            executives.<br /><br />Full of bad editing and continuity errors, the film is sterile in all of its ritzy locations - including Barkin's \n",
        "            detective salary apartment. And the lame dialogue is fit to put one to sleep. <br /><br />Damian is a bad writer and a bad director. He tried\n",
        "             and failed miserably to create a noiresque atmosphere at times. Furthermore, he couldn't get Ellen Barkin to give 110%. I firmly believe \n",
        "             she realized the film was pathetic and gave up trying. <br /><br /> Standouts were Peta Wilson, who wasted time studying with a \n",
        "             Dominatrix for the part. The highly under-rated character actor, Marshall Bell gave his absolute best as always.<br /><br />And since \n",
        "             Damian couldn't deliver on any level, it was hard to feel emotion for any of the characters. <br /><br />Most importantly, he doesn't know \n",
        "             much about the real world of BDSM and chose to create the typical \"Hollywood Reality\" of gorgeous men and women who are perverted and\n",
        "             dangerous.<br /><br />Save your time, money and braincells and pass this one by.\"\"\",\n",
        "        \n",
        "        \"\"\"Lucio Fulci was famous for his Italian splatter movies, mostly his undead films like Zombie or The Beyond. Here he directed a black comedy of \n",
        "            sorts, but there's just one problem: its nauseating. I say this knowing that I like City of the Walking Dead (which is also gross but not like\n",
        "            this). A compulsive gambler gets money for his habit by romancing ugly and deformed rich women then murdering them and stealing their cash. \n",
        "            The film makes this plan look that easy. I guess the women were too ugly to go to a bank, so they always had their cash on person. After the \n",
        "            upteenth murder I began to suspect what I've always heard about Fulci: he hated women. He must have. At any rate this film stinks, its not \n",
        "            funny, and Fulci should have stayed with giallo and supernatural zombie movies. Avoid this film at all costs.\"\"\",\n",
        "        \n",
        "        \"\"\"My boyfriend and I went to watch The Guardian.At first I didn't want to watch it, but I loved the movie- It was definitely the best movie \n",
        "            I have seen in sometime.They portrayed the USCG very well, it really showed me what they do and I think they should really be appreciated more.\n",
        "            Not only did it teach but it was a really good movie. The movie shows what the really do and how hard the job is.I think being a USCG would be\n",
        "            challenging and very scary. It was a great movie all around. I would suggest this movie for anyone to see.The ending broke my heart but I \n",
        "            know why he did it. The storyline was great I give it 2 thumbs up. I cried it was very emotional, I would give it a 20 if I could!\"\"\",\n",
        "        \n",
        "        \"\"\"Superbly adapted to the screen and extremely faithful to Mary Webb's period novel, this film is a true masterpiece. Aside from the\n",
        "            exceptionally talented rising star, Janet Mcteer as the lead and one or two established actors, the film used mostly little known names. \n",
        "            Yet the drama was all the more convincing for that. The social and personal tension is almost tangible and I felt as if the cast were \n",
        "            reacting each other's character as though they would have done in real life. I saw that one commentator asked if Janet McTeer really had \n",
        "            a hare-lip, a testimony to just how good was her characterisation. I saw this on TV when it was first shown, taped it, then later the \n",
        "            tape was sadly lost. But it remains clear as anything in my mind. If you have any fondness at all for the social period, it's an \n",
        "            absolute must see.\"\"\"\n",
        "         ]\n",
        "\n",
        "actual_sentiment = ['neg','neg','pos','pos']"
      ],
      "execution_count": 20,
      "outputs": []
    },
    {
      "cell_type": "code",
      "metadata": {
        "id": "RwYWWfZyzR-F",
        "colab_type": "code",
        "colab": {
          "base_uri": "https://localhost:8080/",
          "height": 35
        },
        "outputId": "9a1c918c-e929-426e-8c9f-2c7c7f101425"
      },
      "source": [
        "predicted_sentiment = predictor.predict(sample)\n",
        "predicted_sentiment"
      ],
      "execution_count": 21,
      "outputs": [
        {
          "output_type": "display_data",
          "data": {
            "text/html": [
              ""
            ],
            "text/plain": [
              "<IPython.core.display.HTML object>"
            ]
          },
          "metadata": {
            "tags": []
          }
        },
        {
          "output_type": "execute_result",
          "data": {
            "text/plain": [
              "['neg', 'neg', 'pos', 'pos']"
            ]
          },
          "metadata": {
            "tags": []
          },
          "execution_count": 21
        }
      ]
    },
    {
      "cell_type": "code",
      "metadata": {
        "id": "TWSUSnBLzspi",
        "colab_type": "code",
        "colab": {}
      },
      "source": [
        ""
      ],
      "execution_count": null,
      "outputs": []
    }
  ]
}
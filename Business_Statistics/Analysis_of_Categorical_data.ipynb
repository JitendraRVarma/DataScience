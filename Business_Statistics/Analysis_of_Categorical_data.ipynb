{
  "nbformat": 4,
  "nbformat_minor": 0,
  "metadata": {
    "colab": {
      "name": "Analysis_of_Categorical_data.ipynb",
      "provenance": [],
      "collapsed_sections": []
    },
    "kernelspec": {
      "name": "python3",
      "display_name": "Python 3"
    }
  },
  "cells": [
    {
      "cell_type": "code",
      "metadata": {
        "id": "FwQku2JPx15O",
        "colab_type": "code",
        "colab": {}
      },
      "source": [
        "from scipy.stats import chisquare,chi2_contingency\n",
        "import pandas as pd"
      ],
      "execution_count": 0,
      "outputs": []
    },
    {
      "cell_type": "markdown",
      "metadata": {
        "id": "HpBVCcXVygaE",
        "colab_type": "text"
      },
      "source": [
        "### Problem\n",
        "Dairies would like to know whether the sales of milk are distributed uniformly over a\n",
        "year so they can plan for milk production and storage. A uniform distribution means\n",
        "that the frequencies are the same in all categories. In this situation, the producers are\n",
        "attempting to determine whether the amounts of milk sold are the same for each\n",
        "month of the year. They ascertain the number of gallons of milk sold by sampling one large supermarket each month during a year, obtaining the following data."
      ]
    },
    {
      "cell_type": "code",
      "metadata": {
        "id": "onfoxmk5y46N",
        "colab_type": "code",
        "colab": {}
      },
      "source": [
        "data = {'Jan':1610,'Feb':1585,'Mar':1649,'Apr':1590,'May':1540,'Jun':1397,\n",
        "        'Jul':1410,'Aug':1350,'Sep':1495,'Oct':1564,'Nov':1602,'Dec':1655}"
      ],
      "execution_count": 0,
      "outputs": []
    },
    {
      "cell_type": "markdown",
      "metadata": {
        "id": "inTEgRY5zhLK",
        "colab_type": "text"
      },
      "source": [
        "### Hypothesis Formulation\n",
        "\n",
        "Null: The monthly figures for milk sales are uniformly distributed.<br>\n",
        "Alternate: The monthly figures for milk sales are not uniformly distributed<br>\n",
        "\n",
        "Statistical Test used if Chi Sqiuare goodness of fit"
      ]
    },
    {
      "cell_type": "code",
      "metadata": {
        "id": "xBl-ijjKzddW",
        "colab_type": "code",
        "outputId": "3eec9eee-1f6f-4eaa-e7dc-db9524bd181f",
        "colab": {
          "base_uri": "https://localhost:8080/",
          "height": 35
        }
      },
      "source": [
        "chi,pval = chisquare(list(data.values()))\n",
        "chi,pval"
      ],
      "execution_count": 0,
      "outputs": [
        {
          "output_type": "execute_result",
          "data": {
            "text/plain": [
              "(74.37583346885673, 1.78545252783034e-11)"
            ]
          },
          "metadata": {
            "tags": []
          },
          "execution_count": 12
        }
      ]
    },
    {
      "cell_type": "code",
      "metadata": {
        "id": "JlGOd8uk0gy3",
        "colab_type": "code",
        "outputId": "46b96cfc-d9c1-46c8-fbb6-8911b62da17b",
        "colab": {
          "base_uri": "https://localhost:8080/",
          "height": 35
        }
      },
      "source": [
        "if pval < 0.1:\n",
        "  print('Reject Null')\n",
        "else:\n",
        "  print('Fail to Reject Null')"
      ],
      "execution_count": 0,
      "outputs": [
        {
          "output_type": "stream",
          "text": [
            "Reject Null\n"
          ],
          "name": "stdout"
        }
      ]
    },
    {
      "cell_type": "markdown",
      "metadata": {
        "id": "QbZLbpp_7P3t",
        "colab_type": "text"
      },
      "source": [
        "### Problem\n",
        "Suppose a business researcher wants to determine whether type of gasoline preferred\n",
        "is independent of a person’s income. She takes a random survey of gasoline purchasers, asking\n",
        "them one question about gasoline preference and a second question about income. The\n",
        "respondent is to check whether he or she prefers (1) regular gasoline, (2) premium gasoline,\n",
        "or (3) extra premium gasoline. The respondent also is to check his or her income\n",
        "brackets as being (1) less than 30,000, (2) 30,000 to 49,999, (3) 50,000 to $99,999, or\n",
        "(4) more than 100,000."
      ]
    },
    {
      "cell_type": "markdown",
      "metadata": {
        "id": "EVNvuIEW7giY",
        "colab_type": "text"
      },
      "source": [
        "### Hypothesis Formulation\n",
        "Null : Type of gasoline is independent of income <br>\n",
        "Alternate: Type of gasoline is not independent of income.\n",
        "\n",
        "As both variables are Catgeoricalm, Chi Square Test of Independence will be used"
      ]
    },
    {
      "cell_type": "code",
      "metadata": {
        "id": "mvDlLO3G0Rw4",
        "colab_type": "code",
        "outputId": "697911a8-e0b9-4daa-995a-128cc6854c3f",
        "colab": {
          "base_uri": "https://localhost:8080/",
          "height": 426
        }
      },
      "source": [
        "income = ['Less_30k'] *  3 + ['30_50k']*3 + ['50_90k']*3 + ['100k_Above']*3\n",
        "gas = ['Regular','Premium','Extra_Premium'] * 4\n",
        "data= [85,16,6,102,27,13,36,22,15,15,23,25]\n",
        "df = pd.DataFrame({'Income':income,'Gas':gas,'Count':data})\n",
        "df"
      ],
      "execution_count": 0,
      "outputs": [
        {
          "output_type": "execute_result",
          "data": {
            "text/html": [
              "<div>\n",
              "<style scoped>\n",
              "    .dataframe tbody tr th:only-of-type {\n",
              "        vertical-align: middle;\n",
              "    }\n",
              "\n",
              "    .dataframe tbody tr th {\n",
              "        vertical-align: top;\n",
              "    }\n",
              "\n",
              "    .dataframe thead th {\n",
              "        text-align: right;\n",
              "    }\n",
              "</style>\n",
              "<table border=\"1\" class=\"dataframe\">\n",
              "  <thead>\n",
              "    <tr style=\"text-align: right;\">\n",
              "      <th></th>\n",
              "      <th>Income</th>\n",
              "      <th>Gas</th>\n",
              "      <th>Count</th>\n",
              "    </tr>\n",
              "  </thead>\n",
              "  <tbody>\n",
              "    <tr>\n",
              "      <th>0</th>\n",
              "      <td>Less_30k</td>\n",
              "      <td>Regular</td>\n",
              "      <td>85</td>\n",
              "    </tr>\n",
              "    <tr>\n",
              "      <th>1</th>\n",
              "      <td>Less_30k</td>\n",
              "      <td>Premium</td>\n",
              "      <td>16</td>\n",
              "    </tr>\n",
              "    <tr>\n",
              "      <th>2</th>\n",
              "      <td>Less_30k</td>\n",
              "      <td>Extra_Premium</td>\n",
              "      <td>6</td>\n",
              "    </tr>\n",
              "    <tr>\n",
              "      <th>3</th>\n",
              "      <td>30_50k</td>\n",
              "      <td>Regular</td>\n",
              "      <td>102</td>\n",
              "    </tr>\n",
              "    <tr>\n",
              "      <th>4</th>\n",
              "      <td>30_50k</td>\n",
              "      <td>Premium</td>\n",
              "      <td>27</td>\n",
              "    </tr>\n",
              "    <tr>\n",
              "      <th>5</th>\n",
              "      <td>30_50k</td>\n",
              "      <td>Extra_Premium</td>\n",
              "      <td>13</td>\n",
              "    </tr>\n",
              "    <tr>\n",
              "      <th>6</th>\n",
              "      <td>50_90k</td>\n",
              "      <td>Regular</td>\n",
              "      <td>36</td>\n",
              "    </tr>\n",
              "    <tr>\n",
              "      <th>7</th>\n",
              "      <td>50_90k</td>\n",
              "      <td>Premium</td>\n",
              "      <td>22</td>\n",
              "    </tr>\n",
              "    <tr>\n",
              "      <th>8</th>\n",
              "      <td>50_90k</td>\n",
              "      <td>Extra_Premium</td>\n",
              "      <td>15</td>\n",
              "    </tr>\n",
              "    <tr>\n",
              "      <th>9</th>\n",
              "      <td>100k_Above</td>\n",
              "      <td>Regular</td>\n",
              "      <td>15</td>\n",
              "    </tr>\n",
              "    <tr>\n",
              "      <th>10</th>\n",
              "      <td>100k_Above</td>\n",
              "      <td>Premium</td>\n",
              "      <td>23</td>\n",
              "    </tr>\n",
              "    <tr>\n",
              "      <th>11</th>\n",
              "      <td>100k_Above</td>\n",
              "      <td>Extra_Premium</td>\n",
              "      <td>25</td>\n",
              "    </tr>\n",
              "  </tbody>\n",
              "</table>\n",
              "</div>"
            ],
            "text/plain": [
              "        Income            Gas  Count\n",
              "0     Less_30k        Regular     85\n",
              "1     Less_30k        Premium     16\n",
              "2     Less_30k  Extra_Premium      6\n",
              "3       30_50k        Regular    102\n",
              "4       30_50k        Premium     27\n",
              "5       30_50k  Extra_Premium     13\n",
              "6       50_90k        Regular     36\n",
              "7       50_90k        Premium     22\n",
              "8       50_90k  Extra_Premium     15\n",
              "9   100k_Above        Regular     15\n",
              "10  100k_Above        Premium     23\n",
              "11  100k_Above  Extra_Premium     25"
            ]
          },
          "metadata": {
            "tags": []
          },
          "execution_count": 17
        }
      ]
    },
    {
      "cell_type": "code",
      "metadata": {
        "id": "bplpdRVM9ygn",
        "colab_type": "code",
        "outputId": "849f8ea6-c558-40b1-a741-3d83ac3407a9",
        "colab": {
          "base_uri": "https://localhost:8080/",
          "height": 206
        }
      },
      "source": [
        "contingency_table = pd.crosstab(df['Income'],df['Gas'],df['Count'],aggfunc='sum')\n",
        "contingency_table"
      ],
      "execution_count": 0,
      "outputs": [
        {
          "output_type": "execute_result",
          "data": {
            "text/html": [
              "<div>\n",
              "<style scoped>\n",
              "    .dataframe tbody tr th:only-of-type {\n",
              "        vertical-align: middle;\n",
              "    }\n",
              "\n",
              "    .dataframe tbody tr th {\n",
              "        vertical-align: top;\n",
              "    }\n",
              "\n",
              "    .dataframe thead th {\n",
              "        text-align: right;\n",
              "    }\n",
              "</style>\n",
              "<table border=\"1\" class=\"dataframe\">\n",
              "  <thead>\n",
              "    <tr style=\"text-align: right;\">\n",
              "      <th>Gas</th>\n",
              "      <th>Extra_Premium</th>\n",
              "      <th>Premium</th>\n",
              "      <th>Regular</th>\n",
              "    </tr>\n",
              "    <tr>\n",
              "      <th>Income</th>\n",
              "      <th></th>\n",
              "      <th></th>\n",
              "      <th></th>\n",
              "    </tr>\n",
              "  </thead>\n",
              "  <tbody>\n",
              "    <tr>\n",
              "      <th>100k_Above</th>\n",
              "      <td>25</td>\n",
              "      <td>23</td>\n",
              "      <td>15</td>\n",
              "    </tr>\n",
              "    <tr>\n",
              "      <th>30_50k</th>\n",
              "      <td>13</td>\n",
              "      <td>27</td>\n",
              "      <td>102</td>\n",
              "    </tr>\n",
              "    <tr>\n",
              "      <th>50_90k</th>\n",
              "      <td>15</td>\n",
              "      <td>22</td>\n",
              "      <td>36</td>\n",
              "    </tr>\n",
              "    <tr>\n",
              "      <th>Less_30k</th>\n",
              "      <td>6</td>\n",
              "      <td>16</td>\n",
              "      <td>85</td>\n",
              "    </tr>\n",
              "  </tbody>\n",
              "</table>\n",
              "</div>"
            ],
            "text/plain": [
              "Gas         Extra_Premium  Premium  Regular\n",
              "Income                                     \n",
              "100k_Above             25       23       15\n",
              "30_50k                 13       27      102\n",
              "50_90k                 15       22       36\n",
              "Less_30k                6       16       85"
            ]
          },
          "metadata": {
            "tags": []
          },
          "execution_count": 21
        }
      ]
    },
    {
      "cell_type": "code",
      "metadata": {
        "id": "Qrj00XAa-UAS",
        "colab_type": "code",
        "colab": {}
      },
      "source": [
        "chi, pval, dof, expected = chi2_contingency(contingency_table)"
      ],
      "execution_count": 0,
      "outputs": []
    },
    {
      "cell_type": "code",
      "metadata": {
        "id": "dpHUC_Wz_B9t",
        "colab_type": "code",
        "outputId": "424d7481-7ae9-42f1-be41-f1058739a6d9",
        "colab": {
          "base_uri": "https://localhost:8080/",
          "height": 90
        }
      },
      "source": [
        "expected"
      ],
      "execution_count": 0,
      "outputs": [
        {
          "output_type": "execute_result",
          "data": {
            "text/plain": [
              "array([[ 9.65454545, 14.4       , 38.94545455],\n",
              "       [21.76103896, 32.45714286, 87.78181818],\n",
              "       [11.18701299, 16.68571429, 45.12727273],\n",
              "       [16.3974026 , 24.45714286, 66.14545455]])"
            ]
          },
          "metadata": {
            "tags": []
          },
          "execution_count": 25
        }
      ]
    },
    {
      "cell_type": "code",
      "metadata": {
        "id": "xC2upLKo_Kee",
        "colab_type": "code",
        "outputId": "02b666a3-55b8-447c-9a3c-ba9c79259eee",
        "colab": {
          "base_uri": "https://localhost:8080/",
          "height": 35
        }
      },
      "source": [
        "pval"
      ],
      "execution_count": 0,
      "outputs": [
        {
          "output_type": "execute_result",
          "data": {
            "text/plain": [
              "2.899818004765592e-13"
            ]
          },
          "metadata": {
            "tags": []
          },
          "execution_count": 26
        }
      ]
    },
    {
      "cell_type": "code",
      "metadata": {
        "id": "ro_0M3gz_NfS",
        "colab_type": "code",
        "outputId": "cae5f183-ddf1-49a6-8c89-4ddf2450c164",
        "colab": {
          "base_uri": "https://localhost:8080/",
          "height": 35
        }
      },
      "source": [
        "if pval < 0.1:\n",
        "  print('Reject Null')\n",
        "else:\n",
        "  print('Fail to Reject Null')"
      ],
      "execution_count": 0,
      "outputs": [
        {
          "output_type": "stream",
          "text": [
            "Reject Null\n"
          ],
          "name": "stdout"
        }
      ]
    },
    {
      "cell_type": "markdown",
      "metadata": {
        "id": "uzmYIzhh_dHZ",
        "colab_type": "text"
      },
      "source": [
        "**The business researcher’s decision is to reject the\n",
        "null hypothesis; that is, type of gasoline preferred is not independent of income.Having established that conclusion, the business researcher can then examine\n",
        "the outcome to determine which people, by income brackets, tend to purchase which type\n",
        "of gasoline and use this information in market decisions.**"
      ]
    },
    {
      "cell_type": "code",
      "metadata": {
        "id": "tMqArkXf_Yfu",
        "colab_type": "code",
        "colab": {}
      },
      "source": [
        ""
      ],
      "execution_count": 0,
      "outputs": []
    }
  ]
}
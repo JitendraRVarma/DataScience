{
  "nbformat": 4,
  "nbformat_minor": 0,
  "metadata": {
    "colab": {
      "name": "Analysis of Variance.ipynb",
      "provenance": [],
      "collapsed_sections": []
    },
    "kernelspec": {
      "name": "python3",
      "display_name": "Python 3"
    }
  },
  "cells": [
    {
      "cell_type": "code",
      "metadata": {
        "id": "XyBBNNE144SR",
        "colab_type": "code",
        "colab": {}
      },
      "source": [
        "# !pip install pandas==0.25.0\n",
        "import statsmodels.api as sm\n",
        "import pandas as pd\n",
        "from statsmodels.formula.api import ols\n",
        "from statsmodels.stats.anova import anova_lm\n",
        "from statsmodels.stats.multicomp import pairwise_tukeyhsd\n",
        "import matplotlib.pyplot as plt"
      ],
      "execution_count": 0,
      "outputs": []
    },
    {
      "cell_type": "markdown",
      "metadata": {
        "id": "IK73tkrT49W7",
        "colab_type": "text"
      },
      "source": [
        "### Problem\n",
        "A company has three manufacturing plants, and company officials want to determine\n",
        "whether there is a difference in the average age of workers at the three locations.\n",
        "The following data are the ages of five randomly selected workers at each\n",
        "plant.Determine whether there is a significant difference\n",
        "in the mean ages of the workers at the three plants. Take alpha = 0.01"
      ]
    },
    {
      "cell_type": "code",
      "metadata": {
        "id": "8OMKuBVJ5Oc4",
        "colab_type": "code",
        "colab": {}
      },
      "source": [
        "plant_a = [29,27,30,27,28]\n",
        "plant_b = [32,33,31,34,30]\n",
        "plant_c = [25,24,24,25,26]\n",
        "alpha = 0.01"
      ],
      "execution_count": 0,
      "outputs": []
    },
    {
      "cell_type": "markdown",
      "metadata": {
        "id": "JGsmPIjF6WuV",
        "colab_type": "text"
      },
      "source": [
        "### Solution\n",
        "Number of Independent Samples >= 3\n",
        "</br> Assuming Population Age is Normally distributed\n",
        "</br> Assuming Variance of Populations  are equal\n",
        "\n",
        "#### One way Annova Wii be used to compare Means \n",
        "\n",
        "### Hypothesis Formulation\n",
        "Null : Mean Age Plant A = Mean Age Plant B = Mean Age Plant C <br>\n",
        "Alternate : At least one of the means is different from the others"
      ]
    },
    {
      "cell_type": "code",
      "metadata": {
        "id": "vKaPAbf3_srT",
        "colab_type": "code",
        "outputId": "7a4d90df-1b46-408e-e13f-6116866df08d",
        "colab": {
          "base_uri": "https://localhost:8080/",
          "height": 520
        }
      },
      "source": [
        "df = pd.DataFrame(data = {'Plant':['A','B','C'],'Age': [plant_a,plant_b,plant_c]})\n",
        "df = df.explode('Age').reset_index(drop=True)\n",
        "df['Age'] = df['Age'].astype('int')\n",
        "df['Plant'] = pd.Categorical(df['Plant'])\n",
        "df "
      ],
      "execution_count": 0,
      "outputs": [
        {
          "output_type": "execute_result",
          "data": {
            "text/html": [
              "<div>\n",
              "<style scoped>\n",
              "    .dataframe tbody tr th:only-of-type {\n",
              "        vertical-align: middle;\n",
              "    }\n",
              "\n",
              "    .dataframe tbody tr th {\n",
              "        vertical-align: top;\n",
              "    }\n",
              "\n",
              "    .dataframe thead th {\n",
              "        text-align: right;\n",
              "    }\n",
              "</style>\n",
              "<table border=\"1\" class=\"dataframe\">\n",
              "  <thead>\n",
              "    <tr style=\"text-align: right;\">\n",
              "      <th></th>\n",
              "      <th>Plant</th>\n",
              "      <th>Age</th>\n",
              "    </tr>\n",
              "  </thead>\n",
              "  <tbody>\n",
              "    <tr>\n",
              "      <th>0</th>\n",
              "      <td>A</td>\n",
              "      <td>29</td>\n",
              "    </tr>\n",
              "    <tr>\n",
              "      <th>1</th>\n",
              "      <td>A</td>\n",
              "      <td>27</td>\n",
              "    </tr>\n",
              "    <tr>\n",
              "      <th>2</th>\n",
              "      <td>A</td>\n",
              "      <td>30</td>\n",
              "    </tr>\n",
              "    <tr>\n",
              "      <th>3</th>\n",
              "      <td>A</td>\n",
              "      <td>27</td>\n",
              "    </tr>\n",
              "    <tr>\n",
              "      <th>4</th>\n",
              "      <td>A</td>\n",
              "      <td>28</td>\n",
              "    </tr>\n",
              "    <tr>\n",
              "      <th>5</th>\n",
              "      <td>B</td>\n",
              "      <td>32</td>\n",
              "    </tr>\n",
              "    <tr>\n",
              "      <th>6</th>\n",
              "      <td>B</td>\n",
              "      <td>33</td>\n",
              "    </tr>\n",
              "    <tr>\n",
              "      <th>7</th>\n",
              "      <td>B</td>\n",
              "      <td>31</td>\n",
              "    </tr>\n",
              "    <tr>\n",
              "      <th>8</th>\n",
              "      <td>B</td>\n",
              "      <td>34</td>\n",
              "    </tr>\n",
              "    <tr>\n",
              "      <th>9</th>\n",
              "      <td>B</td>\n",
              "      <td>30</td>\n",
              "    </tr>\n",
              "    <tr>\n",
              "      <th>10</th>\n",
              "      <td>C</td>\n",
              "      <td>25</td>\n",
              "    </tr>\n",
              "    <tr>\n",
              "      <th>11</th>\n",
              "      <td>C</td>\n",
              "      <td>24</td>\n",
              "    </tr>\n",
              "    <tr>\n",
              "      <th>12</th>\n",
              "      <td>C</td>\n",
              "      <td>24</td>\n",
              "    </tr>\n",
              "    <tr>\n",
              "      <th>13</th>\n",
              "      <td>C</td>\n",
              "      <td>25</td>\n",
              "    </tr>\n",
              "    <tr>\n",
              "      <th>14</th>\n",
              "      <td>C</td>\n",
              "      <td>26</td>\n",
              "    </tr>\n",
              "  </tbody>\n",
              "</table>\n",
              "</div>"
            ],
            "text/plain": [
              "   Plant  Age\n",
              "0      A   29\n",
              "1      A   27\n",
              "2      A   30\n",
              "3      A   27\n",
              "4      A   28\n",
              "5      B   32\n",
              "6      B   33\n",
              "7      B   31\n",
              "8      B   34\n",
              "9      B   30\n",
              "10     C   25\n",
              "11     C   24\n",
              "12     C   24\n",
              "13     C   25\n",
              "14     C   26"
            ]
          },
          "metadata": {
            "tags": []
          },
          "execution_count": 12
        }
      ]
    },
    {
      "cell_type": "code",
      "metadata": {
        "id": "v7u058hGEmjM",
        "colab_type": "code",
        "outputId": "2cd5fefd-8235-4ee2-dc55-178c2467ba11",
        "colab": {
          "base_uri": "https://localhost:8080/",
          "height": 112
        }
      },
      "source": [
        "model = ols('Age~ Plant',df).fit()\n",
        "one_way_anova =  anova_lm(model)\n",
        "one_way_anova"
      ],
      "execution_count": 0,
      "outputs": [
        {
          "output_type": "execute_result",
          "data": {
            "text/html": [
              "<div>\n",
              "<style scoped>\n",
              "    .dataframe tbody tr th:only-of-type {\n",
              "        vertical-align: middle;\n",
              "    }\n",
              "\n",
              "    .dataframe tbody tr th {\n",
              "        vertical-align: top;\n",
              "    }\n",
              "\n",
              "    .dataframe thead th {\n",
              "        text-align: right;\n",
              "    }\n",
              "</style>\n",
              "<table border=\"1\" class=\"dataframe\">\n",
              "  <thead>\n",
              "    <tr style=\"text-align: right;\">\n",
              "      <th></th>\n",
              "      <th>df</th>\n",
              "      <th>sum_sq</th>\n",
              "      <th>mean_sq</th>\n",
              "      <th>F</th>\n",
              "      <th>PR(&gt;F)</th>\n",
              "    </tr>\n",
              "  </thead>\n",
              "  <tbody>\n",
              "    <tr>\n",
              "      <th>Plant</th>\n",
              "      <td>2.0</td>\n",
              "      <td>129.733333</td>\n",
              "      <td>64.866667</td>\n",
              "      <td>39.714286</td>\n",
              "      <td>0.000005</td>\n",
              "    </tr>\n",
              "    <tr>\n",
              "      <th>Residual</th>\n",
              "      <td>12.0</td>\n",
              "      <td>19.600000</td>\n",
              "      <td>1.633333</td>\n",
              "      <td>NaN</td>\n",
              "      <td>NaN</td>\n",
              "    </tr>\n",
              "  </tbody>\n",
              "</table>\n",
              "</div>"
            ],
            "text/plain": [
              "            df      sum_sq    mean_sq          F    PR(>F)\n",
              "Plant      2.0  129.733333  64.866667  39.714286  0.000005\n",
              "Residual  12.0   19.600000   1.633333        NaN       NaN"
            ]
          },
          "metadata": {
            "tags": []
          },
          "execution_count": 4
        }
      ]
    },
    {
      "cell_type": "code",
      "metadata": {
        "id": "zyRiVEFxIltq",
        "colab_type": "code",
        "outputId": "4dd8446e-7cef-43b5-88f6-c95d033640ab",
        "colab": {
          "base_uri": "https://localhost:8080/",
          "height": 36
        }
      },
      "source": [
        "pval = one_way_anova.loc['Plant','PR(>F)']\n",
        "if pval < alpha:\n",
        "  print('Reject Null')\n",
        "else:\n",
        "  print('Fail to Reject Null')"
      ],
      "execution_count": 0,
      "outputs": [
        {
          "output_type": "stream",
          "text": [
            "Reject Null\n"
          ],
          "name": "stdout"
        }
      ]
    },
    {
      "cell_type": "markdown",
      "metadata": {
        "id": "LPQ2S8MlDASP",
        "colab_type": "text"
      },
      "source": [
        "### Problem\n",
        "A metal-manufacturing firm wants to test the tensile strength of a given metal under\n",
        "varying conditions of temperature. Suppose that in the design phase, the metal is\n",
        "processed under five different temperature conditions and that random samples of\n",
        "size five are taken under each temperature condition. The data follow."
      ]
    },
    {
      "cell_type": "code",
      "metadata": {
        "id": "oiz30OYiO59A",
        "colab_type": "code",
        "colab": {}
      },
      "source": [
        "temp_1 = [2.46,2.41,2.43,2.47,2.46]\n",
        "temp_2 = [2.38,2.34,2.31,2.40,2.32,]\n",
        "temp_3 = [2.51,2.48,2.46,2.49,2.50]\n",
        "temp_4 = [2.49,2.47,2.48,2.46,2.44]\n",
        "temp_5 = [2.56,2.57,2.53,2.55,2.55]\n",
        "alpha = 0.01"
      ],
      "execution_count": 0,
      "outputs": []
    },
    {
      "cell_type": "markdown",
      "metadata": {
        "colab_type": "text",
        "id": "dLJCJq6jDxMa"
      },
      "source": [
        "### Solution\n",
        "Number of Independent Samples >= 3\n",
        "</br> Assuming Population Age is Normally distributed\n",
        "</br> Assuming Variance of Populations  are equal\n",
        "\n",
        "#### One way Annova Will be used to compare Means \n",
        "\n",
        "### Hypothesis Formulation\n",
        "Null : All Means are same <br>\n",
        "Alternate : At least one of the means is different from the others"
      ]
    },
    {
      "cell_type": "code",
      "metadata": {
        "id": "DN4dZNzsD2-T",
        "colab_type": "code",
        "outputId": "ca4c7770-5394-4093-bd47-d143d5e8fac8",
        "colab": {
          "base_uri": "https://localhost:8080/",
          "height": 833
        }
      },
      "source": [
        "df = pd.DataFrame(data = {'Temperature':['T1','T2','T3','T4','T5'],'Tensile': [temp_1,temp_2,temp_3,temp_4,temp_5]})\n",
        "df = df.explode('Tensile').reset_index(drop=True)\n",
        "df['Tensile'] = df['Tensile'].astype('float')\n",
        "df['Temperature'] = pd.Categorical(df['Temperature'])\n",
        "df "
      ],
      "execution_count": 0,
      "outputs": [
        {
          "output_type": "execute_result",
          "data": {
            "text/html": [
              "<div>\n",
              "<style scoped>\n",
              "    .dataframe tbody tr th:only-of-type {\n",
              "        vertical-align: middle;\n",
              "    }\n",
              "\n",
              "    .dataframe tbody tr th {\n",
              "        vertical-align: top;\n",
              "    }\n",
              "\n",
              "    .dataframe thead th {\n",
              "        text-align: right;\n",
              "    }\n",
              "</style>\n",
              "<table border=\"1\" class=\"dataframe\">\n",
              "  <thead>\n",
              "    <tr style=\"text-align: right;\">\n",
              "      <th></th>\n",
              "      <th>Temperature</th>\n",
              "      <th>Tensile</th>\n",
              "    </tr>\n",
              "  </thead>\n",
              "  <tbody>\n",
              "    <tr>\n",
              "      <th>0</th>\n",
              "      <td>T1</td>\n",
              "      <td>2.46</td>\n",
              "    </tr>\n",
              "    <tr>\n",
              "      <th>1</th>\n",
              "      <td>T1</td>\n",
              "      <td>2.41</td>\n",
              "    </tr>\n",
              "    <tr>\n",
              "      <th>2</th>\n",
              "      <td>T1</td>\n",
              "      <td>2.43</td>\n",
              "    </tr>\n",
              "    <tr>\n",
              "      <th>3</th>\n",
              "      <td>T1</td>\n",
              "      <td>2.47</td>\n",
              "    </tr>\n",
              "    <tr>\n",
              "      <th>4</th>\n",
              "      <td>T1</td>\n",
              "      <td>2.46</td>\n",
              "    </tr>\n",
              "    <tr>\n",
              "      <th>5</th>\n",
              "      <td>T2</td>\n",
              "      <td>2.38</td>\n",
              "    </tr>\n",
              "    <tr>\n",
              "      <th>6</th>\n",
              "      <td>T2</td>\n",
              "      <td>2.34</td>\n",
              "    </tr>\n",
              "    <tr>\n",
              "      <th>7</th>\n",
              "      <td>T2</td>\n",
              "      <td>2.31</td>\n",
              "    </tr>\n",
              "    <tr>\n",
              "      <th>8</th>\n",
              "      <td>T2</td>\n",
              "      <td>2.40</td>\n",
              "    </tr>\n",
              "    <tr>\n",
              "      <th>9</th>\n",
              "      <td>T2</td>\n",
              "      <td>2.32</td>\n",
              "    </tr>\n",
              "    <tr>\n",
              "      <th>10</th>\n",
              "      <td>T3</td>\n",
              "      <td>2.51</td>\n",
              "    </tr>\n",
              "    <tr>\n",
              "      <th>11</th>\n",
              "      <td>T3</td>\n",
              "      <td>2.48</td>\n",
              "    </tr>\n",
              "    <tr>\n",
              "      <th>12</th>\n",
              "      <td>T3</td>\n",
              "      <td>2.46</td>\n",
              "    </tr>\n",
              "    <tr>\n",
              "      <th>13</th>\n",
              "      <td>T3</td>\n",
              "      <td>2.49</td>\n",
              "    </tr>\n",
              "    <tr>\n",
              "      <th>14</th>\n",
              "      <td>T3</td>\n",
              "      <td>2.50</td>\n",
              "    </tr>\n",
              "    <tr>\n",
              "      <th>15</th>\n",
              "      <td>T4</td>\n",
              "      <td>2.49</td>\n",
              "    </tr>\n",
              "    <tr>\n",
              "      <th>16</th>\n",
              "      <td>T4</td>\n",
              "      <td>2.47</td>\n",
              "    </tr>\n",
              "    <tr>\n",
              "      <th>17</th>\n",
              "      <td>T4</td>\n",
              "      <td>2.48</td>\n",
              "    </tr>\n",
              "    <tr>\n",
              "      <th>18</th>\n",
              "      <td>T4</td>\n",
              "      <td>2.46</td>\n",
              "    </tr>\n",
              "    <tr>\n",
              "      <th>19</th>\n",
              "      <td>T4</td>\n",
              "      <td>2.44</td>\n",
              "    </tr>\n",
              "    <tr>\n",
              "      <th>20</th>\n",
              "      <td>T5</td>\n",
              "      <td>2.56</td>\n",
              "    </tr>\n",
              "    <tr>\n",
              "      <th>21</th>\n",
              "      <td>T5</td>\n",
              "      <td>2.57</td>\n",
              "    </tr>\n",
              "    <tr>\n",
              "      <th>22</th>\n",
              "      <td>T5</td>\n",
              "      <td>2.53</td>\n",
              "    </tr>\n",
              "    <tr>\n",
              "      <th>23</th>\n",
              "      <td>T5</td>\n",
              "      <td>2.55</td>\n",
              "    </tr>\n",
              "    <tr>\n",
              "      <th>24</th>\n",
              "      <td>T5</td>\n",
              "      <td>2.55</td>\n",
              "    </tr>\n",
              "  </tbody>\n",
              "</table>\n",
              "</div>"
            ],
            "text/plain": [
              "   Temperature  Tensile\n",
              "0           T1     2.46\n",
              "1           T1     2.41\n",
              "2           T1     2.43\n",
              "3           T1     2.47\n",
              "4           T1     2.46\n",
              "5           T2     2.38\n",
              "6           T2     2.34\n",
              "7           T2     2.31\n",
              "8           T2     2.40\n",
              "9           T2     2.32\n",
              "10          T3     2.51\n",
              "11          T3     2.48\n",
              "12          T3     2.46\n",
              "13          T3     2.49\n",
              "14          T3     2.50\n",
              "15          T4     2.49\n",
              "16          T4     2.47\n",
              "17          T4     2.48\n",
              "18          T4     2.46\n",
              "19          T4     2.44\n",
              "20          T5     2.56\n",
              "21          T5     2.57\n",
              "22          T5     2.53\n",
              "23          T5     2.55\n",
              "24          T5     2.55"
            ]
          },
          "metadata": {
            "tags": []
          },
          "execution_count": 13
        }
      ]
    },
    {
      "cell_type": "code",
      "metadata": {
        "id": "ZE35pdYjEmmV",
        "colab_type": "code",
        "outputId": "1b0bed10-3e91-4052-da77-c9d89a62f73f",
        "colab": {
          "base_uri": "https://localhost:8080/",
          "height": 112
        }
      },
      "source": [
        "model = ols('Tensile~ Temperature',df).fit()\n",
        "one_way_anova =  anova_lm(model)\n",
        "one_way_anova"
      ],
      "execution_count": 0,
      "outputs": [
        {
          "output_type": "execute_result",
          "data": {
            "text/html": [
              "<div>\n",
              "<style scoped>\n",
              "    .dataframe tbody tr th:only-of-type {\n",
              "        vertical-align: middle;\n",
              "    }\n",
              "\n",
              "    .dataframe tbody tr th {\n",
              "        vertical-align: top;\n",
              "    }\n",
              "\n",
              "    .dataframe thead th {\n",
              "        text-align: right;\n",
              "    }\n",
              "</style>\n",
              "<table border=\"1\" class=\"dataframe\">\n",
              "  <thead>\n",
              "    <tr style=\"text-align: right;\">\n",
              "      <th></th>\n",
              "      <th>df</th>\n",
              "      <th>sum_sq</th>\n",
              "      <th>mean_sq</th>\n",
              "      <th>F</th>\n",
              "      <th>PR(&gt;F)</th>\n",
              "    </tr>\n",
              "  </thead>\n",
              "  <tbody>\n",
              "    <tr>\n",
              "      <th>Temperature</th>\n",
              "      <td>4.0</td>\n",
              "      <td>0.108024</td>\n",
              "      <td>0.027006</td>\n",
              "      <td>43.699029</td>\n",
              "      <td>1.298181e-09</td>\n",
              "    </tr>\n",
              "    <tr>\n",
              "      <th>Residual</th>\n",
              "      <td>20.0</td>\n",
              "      <td>0.012360</td>\n",
              "      <td>0.000618</td>\n",
              "      <td>NaN</td>\n",
              "      <td>NaN</td>\n",
              "    </tr>\n",
              "  </tbody>\n",
              "</table>\n",
              "</div>"
            ],
            "text/plain": [
              "               df    sum_sq   mean_sq          F        PR(>F)\n",
              "Temperature   4.0  0.108024  0.027006  43.699029  1.298181e-09\n",
              "Residual     20.0  0.012360  0.000618        NaN           NaN"
            ]
          },
          "metadata": {
            "tags": []
          },
          "execution_count": 8
        }
      ]
    },
    {
      "cell_type": "code",
      "metadata": {
        "id": "8LY_jw71Ew4y",
        "colab_type": "code",
        "outputId": "20148a0d-0b61-44d1-c1bf-6846f3f15fbc",
        "colab": {
          "base_uri": "https://localhost:8080/",
          "height": 36
        }
      },
      "source": [
        "pval = one_way_anova.loc['Temperature','PR(>F)']\n",
        "if pval < alpha:\n",
        "  print('Reject Null')\n",
        "else:\n",
        "  print('Fail to Reject Null')"
      ],
      "execution_count": 0,
      "outputs": [
        {
          "output_type": "stream",
          "text": [
            "Reject Null\n"
          ],
          "name": "stdout"
        }
      ]
    },
    {
      "cell_type": "code",
      "metadata": {
        "id": "FSrHlSvOE6oT",
        "colab_type": "code",
        "outputId": "b39618fa-5486-47b3-a18d-87588cd42ec0",
        "colab": {
          "base_uri": "https://localhost:8080/",
          "height": 298
        }
      },
      "source": [
        "# As Sample Size are equal, Tukey HSD will be used to compare means\n",
        "multi_comp = pairwise_tukeyhsd(df['Tensile'],df['Temperature'],alpha=alpha)\n",
        "print(multi_comp.summary())"
      ],
      "execution_count": 0,
      "outputs": [
        {
          "output_type": "stream",
          "text": [
            "Multiple Comparison of Means - Tukey HSD, FWER=0.01 \n",
            "====================================================\n",
            "group1 group2 meandiff p-adj   lower   upper  reject\n",
            "----------------------------------------------------\n",
            "    T1     T2   -0.096  0.001 -0.1549 -0.0371   True\n",
            "    T1     T3    0.042 0.0945 -0.0169  0.1009  False\n",
            "    T1     T4    0.022  0.621 -0.0369  0.0809  False\n",
            "    T1     T5    0.106  0.001  0.0471  0.1649   True\n",
            "    T2     T3    0.138  0.001  0.0791  0.1969   True\n",
            "    T2     T4    0.118  0.001  0.0591  0.1769   True\n",
            "    T2     T5    0.202  0.001  0.1431  0.2609   True\n",
            "    T3     T4    -0.02 0.6896 -0.0789  0.0389  False\n",
            "    T3     T5    0.064 0.0048  0.0051  0.1229   True\n",
            "    T4     T5    0.084  0.001  0.0251  0.1429   True\n",
            "----------------------------------------------------\n"
          ],
          "name": "stdout"
        }
      ]
    },
    {
      "cell_type": "markdown",
      "metadata": {
        "id": "oytEd3ZRI2Be",
        "colab_type": "text"
      },
      "source": [
        "**Conclusion<br>**\n",
        "Comparing these differences to the value of HSD = .0588, we can determine that\n",
        "the differences between groups 1 and 2 (.096), 1 and 5 (.106), 2 and 3 (.138), 2 and 4\n",
        "(.118), 2 and 5 (.202), 3 and 5 (.064), and 4 and 5 (.084) are significant at alpha = 0.01"
      ]
    },
    {
      "cell_type": "markdown",
      "metadata": {
        "id": "bEdnbxLvwr9L",
        "colab_type": "text"
      },
      "source": [
        "### Problem\n",
        "The company conducted tread-wear tests on the tire to\n",
        "determine whether there is a significant difference in tread wear if the average speed with\n",
        "which the automobile is driven varies. The company set up an experiment in which the\n",
        "independent variable was speed of automobile. There were three treatment levels: slow\n",
        "speed (car is driven 20 miles per hour), medium speed (car is driven 40 miles per hour),\n",
        "and high speed (car is driven 60 miles per hour). Company researchers realized that several\n",
        "possible variables could confound the study. One of these variables was supplier. The company\n",
        "uses five suppliers to provide a major component of the rubber from which the tires\n",
        "are made. To control for this variable experimentally, the researchers used supplier as a\n",
        "blocking variable. Fifteen tires were randomly selected for the study, three from each supplier.\n",
        "Each of the three was assigned to be tested under a different speed condition. The data\n",
        "are given here, along with treatment and block totals. These figures represent tire wear in\n",
        "units of 10,000 miles."
      ]
    },
    {
      "cell_type": "markdown",
      "metadata": {
        "colab_type": "text",
        "id": "TcTZ5tVawzWM"
      },
      "source": [
        "### Solution\n",
        "Number of Independent Samples >= 3\n",
        "</br> Assuming Population tire wear is Normally distributed\n",
        "</br> Assuming Variance of Populations  are equal\n",
        "\n",
        "#### One way Annova with blocking variable Will be used to compare Means \n",
        "\n",
        "### Hypothesis Formulation\n",
        "Null : All Means are same <br>\n",
        "Alternate : At least one of the means is different from the others"
      ]
    },
    {
      "cell_type": "code",
      "metadata": {
        "id": "fbmt_OM5FzEO",
        "colab_type": "code",
        "outputId": "cd7d0cd8-c1f7-4c7c-b9aa-2c3398bd1b6e",
        "colab": {
          "base_uri": "https://localhost:8080/",
          "height": 520
        }
      },
      "source": [
        "data = pd.DataFrame( {'Supplier': [1,1,1,2,2,2,3,3,3,4,4,4,5,5,5],\n",
        "                      'Speed': ['slow','medium','fast']*5,\n",
        "                      'wear':[3.7,4.5,3.1,3.4,3.9,2.8,3.5,4.1,3.0,3.2,3.5,2.6,3.9,4.8,3.4]})\n",
        "data"
      ],
      "execution_count": 0,
      "outputs": [
        {
          "output_type": "execute_result",
          "data": {
            "text/html": [
              "<div>\n",
              "<style scoped>\n",
              "    .dataframe tbody tr th:only-of-type {\n",
              "        vertical-align: middle;\n",
              "    }\n",
              "\n",
              "    .dataframe tbody tr th {\n",
              "        vertical-align: top;\n",
              "    }\n",
              "\n",
              "    .dataframe thead th {\n",
              "        text-align: right;\n",
              "    }\n",
              "</style>\n",
              "<table border=\"1\" class=\"dataframe\">\n",
              "  <thead>\n",
              "    <tr style=\"text-align: right;\">\n",
              "      <th></th>\n",
              "      <th>Supplier</th>\n",
              "      <th>Speed</th>\n",
              "      <th>wear</th>\n",
              "    </tr>\n",
              "  </thead>\n",
              "  <tbody>\n",
              "    <tr>\n",
              "      <th>0</th>\n",
              "      <td>1</td>\n",
              "      <td>slow</td>\n",
              "      <td>3.7</td>\n",
              "    </tr>\n",
              "    <tr>\n",
              "      <th>1</th>\n",
              "      <td>1</td>\n",
              "      <td>medium</td>\n",
              "      <td>4.5</td>\n",
              "    </tr>\n",
              "    <tr>\n",
              "      <th>2</th>\n",
              "      <td>1</td>\n",
              "      <td>fast</td>\n",
              "      <td>3.1</td>\n",
              "    </tr>\n",
              "    <tr>\n",
              "      <th>3</th>\n",
              "      <td>2</td>\n",
              "      <td>slow</td>\n",
              "      <td>3.4</td>\n",
              "    </tr>\n",
              "    <tr>\n",
              "      <th>4</th>\n",
              "      <td>2</td>\n",
              "      <td>medium</td>\n",
              "      <td>3.9</td>\n",
              "    </tr>\n",
              "    <tr>\n",
              "      <th>5</th>\n",
              "      <td>2</td>\n",
              "      <td>fast</td>\n",
              "      <td>2.8</td>\n",
              "    </tr>\n",
              "    <tr>\n",
              "      <th>6</th>\n",
              "      <td>3</td>\n",
              "      <td>slow</td>\n",
              "      <td>3.5</td>\n",
              "    </tr>\n",
              "    <tr>\n",
              "      <th>7</th>\n",
              "      <td>3</td>\n",
              "      <td>medium</td>\n",
              "      <td>4.1</td>\n",
              "    </tr>\n",
              "    <tr>\n",
              "      <th>8</th>\n",
              "      <td>3</td>\n",
              "      <td>fast</td>\n",
              "      <td>3.0</td>\n",
              "    </tr>\n",
              "    <tr>\n",
              "      <th>9</th>\n",
              "      <td>4</td>\n",
              "      <td>slow</td>\n",
              "      <td>3.2</td>\n",
              "    </tr>\n",
              "    <tr>\n",
              "      <th>10</th>\n",
              "      <td>4</td>\n",
              "      <td>medium</td>\n",
              "      <td>3.5</td>\n",
              "    </tr>\n",
              "    <tr>\n",
              "      <th>11</th>\n",
              "      <td>4</td>\n",
              "      <td>fast</td>\n",
              "      <td>2.6</td>\n",
              "    </tr>\n",
              "    <tr>\n",
              "      <th>12</th>\n",
              "      <td>5</td>\n",
              "      <td>slow</td>\n",
              "      <td>3.9</td>\n",
              "    </tr>\n",
              "    <tr>\n",
              "      <th>13</th>\n",
              "      <td>5</td>\n",
              "      <td>medium</td>\n",
              "      <td>4.8</td>\n",
              "    </tr>\n",
              "    <tr>\n",
              "      <th>14</th>\n",
              "      <td>5</td>\n",
              "      <td>fast</td>\n",
              "      <td>3.4</td>\n",
              "    </tr>\n",
              "  </tbody>\n",
              "</table>\n",
              "</div>"
            ],
            "text/plain": [
              "    Supplier   Speed  wear\n",
              "0          1    slow   3.7\n",
              "1          1  medium   4.5\n",
              "2          1    fast   3.1\n",
              "3          2    slow   3.4\n",
              "4          2  medium   3.9\n",
              "5          2    fast   2.8\n",
              "6          3    slow   3.5\n",
              "7          3  medium   4.1\n",
              "8          3    fast   3.0\n",
              "9          4    slow   3.2\n",
              "10         4  medium   3.5\n",
              "11         4    fast   2.6\n",
              "12         5    slow   3.9\n",
              "13         5  medium   4.8\n",
              "14         5    fast   3.4"
            ]
          },
          "metadata": {
            "tags": []
          },
          "execution_count": 21
        }
      ]
    },
    {
      "cell_type": "code",
      "metadata": {
        "id": "aOgloh_mxggB",
        "colab_type": "code",
        "outputId": "d1af9113-59b8-40d0-83cb-6a3dcb5ff479",
        "colab": {
          "base_uri": "https://localhost:8080/",
          "height": 143
        }
      },
      "source": [
        "model = ols('wear~ Speed+ C(Supplier)',data).fit()\n",
        "anova =  anova_lm(model)\n",
        "anova"
      ],
      "execution_count": 0,
      "outputs": [
        {
          "output_type": "execute_result",
          "data": {
            "text/html": [
              "<div>\n",
              "<style scoped>\n",
              "    .dataframe tbody tr th:only-of-type {\n",
              "        vertical-align: middle;\n",
              "    }\n",
              "\n",
              "    .dataframe tbody tr th {\n",
              "        vertical-align: top;\n",
              "    }\n",
              "\n",
              "    .dataframe thead th {\n",
              "        text-align: right;\n",
              "    }\n",
              "</style>\n",
              "<table border=\"1\" class=\"dataframe\">\n",
              "  <thead>\n",
              "    <tr style=\"text-align: right;\">\n",
              "      <th></th>\n",
              "      <th>df</th>\n",
              "      <th>sum_sq</th>\n",
              "      <th>mean_sq</th>\n",
              "      <th>F</th>\n",
              "      <th>PR(&gt;F)</th>\n",
              "    </tr>\n",
              "  </thead>\n",
              "  <tbody>\n",
              "    <tr>\n",
              "      <th>Speed</th>\n",
              "      <td>2.0</td>\n",
              "      <td>3.484000</td>\n",
              "      <td>1.742000</td>\n",
              "      <td>97.682243</td>\n",
              "      <td>0.000002</td>\n",
              "    </tr>\n",
              "    <tr>\n",
              "      <th>C(Supplier)</th>\n",
              "      <td>4.0</td>\n",
              "      <td>1.549333</td>\n",
              "      <td>0.387333</td>\n",
              "      <td>21.719626</td>\n",
              "      <td>0.000236</td>\n",
              "    </tr>\n",
              "    <tr>\n",
              "      <th>Residual</th>\n",
              "      <td>8.0</td>\n",
              "      <td>0.142667</td>\n",
              "      <td>0.017833</td>\n",
              "      <td>NaN</td>\n",
              "      <td>NaN</td>\n",
              "    </tr>\n",
              "  </tbody>\n",
              "</table>\n",
              "</div>"
            ],
            "text/plain": [
              "              df    sum_sq   mean_sq          F    PR(>F)\n",
              "Speed        2.0  3.484000  1.742000  97.682243  0.000002\n",
              "C(Supplier)  4.0  1.549333  0.387333  21.719626  0.000236\n",
              "Residual     8.0  0.142667  0.017833        NaN       NaN"
            ]
          },
          "metadata": {
            "tags": []
          },
          "execution_count": 23
        }
      ]
    },
    {
      "cell_type": "markdown",
      "metadata": {
        "id": "oKVsaxU73HnQ",
        "colab_type": "text"
      },
      "source": [
        "**At least one of the population means of the treatment\n",
        "levels is not the same as the others; that is, there is a significant difference in tread wear for\n",
        "cars driven at different speeds**"
      ]
    },
    {
      "cell_type": "markdown",
      "metadata": {
        "id": "76dogGoCGjok",
        "colab_type": "text"
      },
      "source": [
        "### Problem\n",
        "Some theorists believe that training warehouse workers can reduce absenteeism.*\n",
        "Suppose an experimental design is structured to test this belief. Warehouses in\n",
        "which training sessions have been held for workers are selected for the study. The\n",
        "four types of warehouses are (1) general merchandise, (2) commodity, (3) bulk storage,\n",
        "and (4) cold storage. The training sessions are differentiated by length.\n",
        "Researchers identify three levels of training sessions according to the length of sessions:\n",
        "(1) 1–20 days, (2) 21–50 days, and (3) more than 50 days. Three warehouse\n",
        "workers are selected randomly for each particular combination of type of warehouse\n",
        "and session length. The workers are monitored for the next year to determine how\n",
        "many days they are absent.\n",
        "determine whether there are any significant differences in effects"
      ]
    },
    {
      "cell_type": "markdown",
      "metadata": {
        "id": "78bQE3QkHsoj",
        "colab_type": "text"
      },
      "source": [
        "### Solution\n",
        "Number of Independent Samples >= 3\n",
        "</br> Assuming Population  is Normally distributed\n",
        "</br> Assuming Variance of Populations  are equal\n",
        "\n",
        "#### Two way Annova Will be used to compare Means \n",
        "\n",
        "### Hypothesis Formulation\n",
        "Null : All Row Means are same <br>\n",
        "Alternate : At least one of the means is different from the others<br>\n",
        "\n",
        "Null : All Columns Means are same <br>\n",
        "Alternate : At least one of the means is different from the others<br>\n",
        "\n",
        "Null : The interaction effects are zero. <br>\n",
        "Alternate : There is an interaction effect<br>"
      ]
    },
    {
      "cell_type": "code",
      "metadata": {
        "id": "_ewAejuo24v6",
        "colab_type": "code",
        "outputId": "fafd2237-ba47-4421-9b44-fd455893cdf6",
        "colab": {
          "base_uri": "https://localhost:8080/",
          "height": 1000
        }
      },
      "source": [
        "warehouse = (['General_Merchandise'] * 3 + ['Commodity'] * 3 + ['Bulk_Storage'] * 3 + ['Cold_Storage'] * 3 ) * 3\n",
        "training =['1-20'] * 12 + ['21-50'] * 12 +['50+']*12\n",
        "absent = [3,4.5,4,5,4.5,4,2.5,3,3.5,2,2,3,\n",
        "         2,2.5,2,1,3,2.5,1,3,1.5,5,4.5,2.5,\n",
        "         2.5,1,1.5,0,1.5,2,3.5,3.5,4,4,4.5,5]\n",
        "\n",
        "df = pd.DataFrame({'warehouse':warehouse,'training':training,'absent':absent})\n",
        "df"
      ],
      "execution_count": 0,
      "outputs": [
        {
          "output_type": "execute_result",
          "data": {
            "text/html": [
              "<div>\n",
              "<style scoped>\n",
              "    .dataframe tbody tr th:only-of-type {\n",
              "        vertical-align: middle;\n",
              "    }\n",
              "\n",
              "    .dataframe tbody tr th {\n",
              "        vertical-align: top;\n",
              "    }\n",
              "\n",
              "    .dataframe thead th {\n",
              "        text-align: right;\n",
              "    }\n",
              "</style>\n",
              "<table border=\"1\" class=\"dataframe\">\n",
              "  <thead>\n",
              "    <tr style=\"text-align: right;\">\n",
              "      <th></th>\n",
              "      <th>warehouse</th>\n",
              "      <th>training</th>\n",
              "      <th>absent</th>\n",
              "    </tr>\n",
              "  </thead>\n",
              "  <tbody>\n",
              "    <tr>\n",
              "      <th>0</th>\n",
              "      <td>General_Merchandise</td>\n",
              "      <td>1-20</td>\n",
              "      <td>3.0</td>\n",
              "    </tr>\n",
              "    <tr>\n",
              "      <th>1</th>\n",
              "      <td>General_Merchandise</td>\n",
              "      <td>1-20</td>\n",
              "      <td>4.5</td>\n",
              "    </tr>\n",
              "    <tr>\n",
              "      <th>2</th>\n",
              "      <td>General_Merchandise</td>\n",
              "      <td>1-20</td>\n",
              "      <td>4.0</td>\n",
              "    </tr>\n",
              "    <tr>\n",
              "      <th>3</th>\n",
              "      <td>Commodity</td>\n",
              "      <td>1-20</td>\n",
              "      <td>5.0</td>\n",
              "    </tr>\n",
              "    <tr>\n",
              "      <th>4</th>\n",
              "      <td>Commodity</td>\n",
              "      <td>1-20</td>\n",
              "      <td>4.5</td>\n",
              "    </tr>\n",
              "    <tr>\n",
              "      <th>5</th>\n",
              "      <td>Commodity</td>\n",
              "      <td>1-20</td>\n",
              "      <td>4.0</td>\n",
              "    </tr>\n",
              "    <tr>\n",
              "      <th>6</th>\n",
              "      <td>Bulk_Storage</td>\n",
              "      <td>1-20</td>\n",
              "      <td>2.5</td>\n",
              "    </tr>\n",
              "    <tr>\n",
              "      <th>7</th>\n",
              "      <td>Bulk_Storage</td>\n",
              "      <td>1-20</td>\n",
              "      <td>3.0</td>\n",
              "    </tr>\n",
              "    <tr>\n",
              "      <th>8</th>\n",
              "      <td>Bulk_Storage</td>\n",
              "      <td>1-20</td>\n",
              "      <td>3.5</td>\n",
              "    </tr>\n",
              "    <tr>\n",
              "      <th>9</th>\n",
              "      <td>Cold_Storage</td>\n",
              "      <td>1-20</td>\n",
              "      <td>2.0</td>\n",
              "    </tr>\n",
              "    <tr>\n",
              "      <th>10</th>\n",
              "      <td>Cold_Storage</td>\n",
              "      <td>1-20</td>\n",
              "      <td>2.0</td>\n",
              "    </tr>\n",
              "    <tr>\n",
              "      <th>11</th>\n",
              "      <td>Cold_Storage</td>\n",
              "      <td>1-20</td>\n",
              "      <td>3.0</td>\n",
              "    </tr>\n",
              "    <tr>\n",
              "      <th>12</th>\n",
              "      <td>General_Merchandise</td>\n",
              "      <td>21-50</td>\n",
              "      <td>2.0</td>\n",
              "    </tr>\n",
              "    <tr>\n",
              "      <th>13</th>\n",
              "      <td>General_Merchandise</td>\n",
              "      <td>21-50</td>\n",
              "      <td>2.5</td>\n",
              "    </tr>\n",
              "    <tr>\n",
              "      <th>14</th>\n",
              "      <td>General_Merchandise</td>\n",
              "      <td>21-50</td>\n",
              "      <td>2.0</td>\n",
              "    </tr>\n",
              "    <tr>\n",
              "      <th>15</th>\n",
              "      <td>Commodity</td>\n",
              "      <td>21-50</td>\n",
              "      <td>1.0</td>\n",
              "    </tr>\n",
              "    <tr>\n",
              "      <th>16</th>\n",
              "      <td>Commodity</td>\n",
              "      <td>21-50</td>\n",
              "      <td>3.0</td>\n",
              "    </tr>\n",
              "    <tr>\n",
              "      <th>17</th>\n",
              "      <td>Commodity</td>\n",
              "      <td>21-50</td>\n",
              "      <td>2.5</td>\n",
              "    </tr>\n",
              "    <tr>\n",
              "      <th>18</th>\n",
              "      <td>Bulk_Storage</td>\n",
              "      <td>21-50</td>\n",
              "      <td>1.0</td>\n",
              "    </tr>\n",
              "    <tr>\n",
              "      <th>19</th>\n",
              "      <td>Bulk_Storage</td>\n",
              "      <td>21-50</td>\n",
              "      <td>3.0</td>\n",
              "    </tr>\n",
              "    <tr>\n",
              "      <th>20</th>\n",
              "      <td>Bulk_Storage</td>\n",
              "      <td>21-50</td>\n",
              "      <td>1.5</td>\n",
              "    </tr>\n",
              "    <tr>\n",
              "      <th>21</th>\n",
              "      <td>Cold_Storage</td>\n",
              "      <td>21-50</td>\n",
              "      <td>5.0</td>\n",
              "    </tr>\n",
              "    <tr>\n",
              "      <th>22</th>\n",
              "      <td>Cold_Storage</td>\n",
              "      <td>21-50</td>\n",
              "      <td>4.5</td>\n",
              "    </tr>\n",
              "    <tr>\n",
              "      <th>23</th>\n",
              "      <td>Cold_Storage</td>\n",
              "      <td>21-50</td>\n",
              "      <td>2.5</td>\n",
              "    </tr>\n",
              "    <tr>\n",
              "      <th>24</th>\n",
              "      <td>General_Merchandise</td>\n",
              "      <td>50+</td>\n",
              "      <td>2.5</td>\n",
              "    </tr>\n",
              "    <tr>\n",
              "      <th>25</th>\n",
              "      <td>General_Merchandise</td>\n",
              "      <td>50+</td>\n",
              "      <td>1.0</td>\n",
              "    </tr>\n",
              "    <tr>\n",
              "      <th>26</th>\n",
              "      <td>General_Merchandise</td>\n",
              "      <td>50+</td>\n",
              "      <td>1.5</td>\n",
              "    </tr>\n",
              "    <tr>\n",
              "      <th>27</th>\n",
              "      <td>Commodity</td>\n",
              "      <td>50+</td>\n",
              "      <td>0.0</td>\n",
              "    </tr>\n",
              "    <tr>\n",
              "      <th>28</th>\n",
              "      <td>Commodity</td>\n",
              "      <td>50+</td>\n",
              "      <td>1.5</td>\n",
              "    </tr>\n",
              "    <tr>\n",
              "      <th>29</th>\n",
              "      <td>Commodity</td>\n",
              "      <td>50+</td>\n",
              "      <td>2.0</td>\n",
              "    </tr>\n",
              "    <tr>\n",
              "      <th>30</th>\n",
              "      <td>Bulk_Storage</td>\n",
              "      <td>50+</td>\n",
              "      <td>3.5</td>\n",
              "    </tr>\n",
              "    <tr>\n",
              "      <th>31</th>\n",
              "      <td>Bulk_Storage</td>\n",
              "      <td>50+</td>\n",
              "      <td>3.5</td>\n",
              "    </tr>\n",
              "    <tr>\n",
              "      <th>32</th>\n",
              "      <td>Bulk_Storage</td>\n",
              "      <td>50+</td>\n",
              "      <td>4.0</td>\n",
              "    </tr>\n",
              "    <tr>\n",
              "      <th>33</th>\n",
              "      <td>Cold_Storage</td>\n",
              "      <td>50+</td>\n",
              "      <td>4.0</td>\n",
              "    </tr>\n",
              "    <tr>\n",
              "      <th>34</th>\n",
              "      <td>Cold_Storage</td>\n",
              "      <td>50+</td>\n",
              "      <td>4.5</td>\n",
              "    </tr>\n",
              "    <tr>\n",
              "      <th>35</th>\n",
              "      <td>Cold_Storage</td>\n",
              "      <td>50+</td>\n",
              "      <td>5.0</td>\n",
              "    </tr>\n",
              "  </tbody>\n",
              "</table>\n",
              "</div>"
            ],
            "text/plain": [
              "              warehouse training  absent\n",
              "0   General_Merchandise     1-20     3.0\n",
              "1   General_Merchandise     1-20     4.5\n",
              "2   General_Merchandise     1-20     4.0\n",
              "3             Commodity     1-20     5.0\n",
              "4             Commodity     1-20     4.5\n",
              "5             Commodity     1-20     4.0\n",
              "6          Bulk_Storage     1-20     2.5\n",
              "7          Bulk_Storage     1-20     3.0\n",
              "8          Bulk_Storage     1-20     3.5\n",
              "9          Cold_Storage     1-20     2.0\n",
              "10         Cold_Storage     1-20     2.0\n",
              "11         Cold_Storage     1-20     3.0\n",
              "12  General_Merchandise    21-50     2.0\n",
              "13  General_Merchandise    21-50     2.5\n",
              "14  General_Merchandise    21-50     2.0\n",
              "15            Commodity    21-50     1.0\n",
              "16            Commodity    21-50     3.0\n",
              "17            Commodity    21-50     2.5\n",
              "18         Bulk_Storage    21-50     1.0\n",
              "19         Bulk_Storage    21-50     3.0\n",
              "20         Bulk_Storage    21-50     1.5\n",
              "21         Cold_Storage    21-50     5.0\n",
              "22         Cold_Storage    21-50     4.5\n",
              "23         Cold_Storage    21-50     2.5\n",
              "24  General_Merchandise      50+     2.5\n",
              "25  General_Merchandise      50+     1.0\n",
              "26  General_Merchandise      50+     1.5\n",
              "27            Commodity      50+     0.0\n",
              "28            Commodity      50+     1.5\n",
              "29            Commodity      50+     2.0\n",
              "30         Bulk_Storage      50+     3.5\n",
              "31         Bulk_Storage      50+     3.5\n",
              "32         Bulk_Storage      50+     4.0\n",
              "33         Cold_Storage      50+     4.0\n",
              "34         Cold_Storage      50+     4.5\n",
              "35         Cold_Storage      50+     5.0"
            ]
          },
          "metadata": {
            "tags": []
          },
          "execution_count": 35
        }
      ]
    },
    {
      "cell_type": "code",
      "metadata": {
        "id": "7KpeCXRdO-d9",
        "colab_type": "code",
        "outputId": "ec599a70-34be-448c-a857-326a5db7c7c4",
        "colab": {
          "base_uri": "https://localhost:8080/",
          "height": 175
        }
      },
      "source": [
        "model = ols('absent~ warehouse+training+warehouse:training',df).fit()\n",
        "two_way_anova =  anova_lm(model)\n",
        "two_way_anova"
      ],
      "execution_count": 0,
      "outputs": [
        {
          "output_type": "execute_result",
          "data": {
            "text/html": [
              "<div>\n",
              "<style scoped>\n",
              "    .dataframe tbody tr th:only-of-type {\n",
              "        vertical-align: middle;\n",
              "    }\n",
              "\n",
              "    .dataframe tbody tr th {\n",
              "        vertical-align: top;\n",
              "    }\n",
              "\n",
              "    .dataframe thead th {\n",
              "        text-align: right;\n",
              "    }\n",
              "</style>\n",
              "<table border=\"1\" class=\"dataframe\">\n",
              "  <thead>\n",
              "    <tr style=\"text-align: right;\">\n",
              "      <th></th>\n",
              "      <th>df</th>\n",
              "      <th>sum_sq</th>\n",
              "      <th>mean_sq</th>\n",
              "      <th>F</th>\n",
              "      <th>PR(&gt;F)</th>\n",
              "    </tr>\n",
              "  </thead>\n",
              "  <tbody>\n",
              "    <tr>\n",
              "      <th>warehouse</th>\n",
              "      <td>3.0</td>\n",
              "      <td>6.409722</td>\n",
              "      <td>2.136574</td>\n",
              "      <td>3.456929</td>\n",
              "      <td>0.032205</td>\n",
              "    </tr>\n",
              "    <tr>\n",
              "      <th>training</th>\n",
              "      <td>2.0</td>\n",
              "      <td>5.013889</td>\n",
              "      <td>2.506944</td>\n",
              "      <td>4.056180</td>\n",
              "      <td>0.030372</td>\n",
              "    </tr>\n",
              "    <tr>\n",
              "      <th>warehouse:training</th>\n",
              "      <td>6.0</td>\n",
              "      <td>33.152778</td>\n",
              "      <td>5.525463</td>\n",
              "      <td>8.940075</td>\n",
              "      <td>0.000035</td>\n",
              "    </tr>\n",
              "    <tr>\n",
              "      <th>Residual</th>\n",
              "      <td>24.0</td>\n",
              "      <td>14.833333</td>\n",
              "      <td>0.618056</td>\n",
              "      <td>NaN</td>\n",
              "      <td>NaN</td>\n",
              "    </tr>\n",
              "  </tbody>\n",
              "</table>\n",
              "</div>"
            ],
            "text/plain": [
              "                      df     sum_sq   mean_sq         F    PR(>F)\n",
              "warehouse            3.0   6.409722  2.136574  3.456929  0.032205\n",
              "training             2.0   5.013889  2.506944  4.056180  0.030372\n",
              "warehouse:training   6.0  33.152778  5.525463  8.940075  0.000035\n",
              "Residual            24.0  14.833333  0.618056       NaN       NaN"
            ]
          },
          "metadata": {
            "tags": []
          },
          "execution_count": 36
        }
      ]
    },
    {
      "cell_type": "markdown",
      "metadata": {
        "id": "Ioxxx8SjQI6l",
        "colab_type": "text"
      },
      "source": [
        "**The p-value for interaction is .000035. The interaction effects are significant at alpha = 0.001. The business\n",
        "researcher should not bother to examine the main effects because the significant\n",
        "interaction confounds the main effects.**"
      ]
    },
    {
      "cell_type": "code",
      "metadata": {
        "id": "n0ARxPcAPpI8",
        "colab_type": "code",
        "outputId": "a9addef3-97d9-4778-d23a-4f10cd71603b",
        "colab": {
          "base_uri": "https://localhost:8080/",
          "height": 237
        }
      },
      "source": [
        "df.pivot_table(index='warehouse',columns='training',aggfunc='mean')"
      ],
      "execution_count": 0,
      "outputs": [
        {
          "output_type": "execute_result",
          "data": {
            "text/html": [
              "<div>\n",
              "<style scoped>\n",
              "    .dataframe tbody tr th:only-of-type {\n",
              "        vertical-align: middle;\n",
              "    }\n",
              "\n",
              "    .dataframe tbody tr th {\n",
              "        vertical-align: top;\n",
              "    }\n",
              "\n",
              "    .dataframe thead tr th {\n",
              "        text-align: left;\n",
              "    }\n",
              "\n",
              "    .dataframe thead tr:last-of-type th {\n",
              "        text-align: right;\n",
              "    }\n",
              "</style>\n",
              "<table border=\"1\" class=\"dataframe\">\n",
              "  <thead>\n",
              "    <tr>\n",
              "      <th></th>\n",
              "      <th colspan=\"3\" halign=\"left\">absent</th>\n",
              "    </tr>\n",
              "    <tr>\n",
              "      <th>training</th>\n",
              "      <th>1-20</th>\n",
              "      <th>21-50</th>\n",
              "      <th>50+</th>\n",
              "    </tr>\n",
              "    <tr>\n",
              "      <th>warehouse</th>\n",
              "      <th></th>\n",
              "      <th></th>\n",
              "      <th></th>\n",
              "    </tr>\n",
              "  </thead>\n",
              "  <tbody>\n",
              "    <tr>\n",
              "      <th>Bulk_Storage</th>\n",
              "      <td>3.000000</td>\n",
              "      <td>1.833333</td>\n",
              "      <td>3.666667</td>\n",
              "    </tr>\n",
              "    <tr>\n",
              "      <th>Cold_Storage</th>\n",
              "      <td>2.333333</td>\n",
              "      <td>4.000000</td>\n",
              "      <td>4.500000</td>\n",
              "    </tr>\n",
              "    <tr>\n",
              "      <th>Commodity</th>\n",
              "      <td>4.500000</td>\n",
              "      <td>2.166667</td>\n",
              "      <td>1.166667</td>\n",
              "    </tr>\n",
              "    <tr>\n",
              "      <th>General_Merchandise</th>\n",
              "      <td>3.833333</td>\n",
              "      <td>2.166667</td>\n",
              "      <td>1.666667</td>\n",
              "    </tr>\n",
              "  </tbody>\n",
              "</table>\n",
              "</div>"
            ],
            "text/plain": [
              "                       absent                    \n",
              "training                 1-20     21-50       50+\n",
              "warehouse                                        \n",
              "Bulk_Storage         3.000000  1.833333  3.666667\n",
              "Cold_Storage         2.333333  4.000000  4.500000\n",
              "Commodity            4.500000  2.166667  1.166667\n",
              "General_Merchandise  3.833333  2.166667  1.666667"
            ]
          },
          "metadata": {
            "tags": []
          },
          "execution_count": 41
        }
      ]
    },
    {
      "cell_type": "code",
      "metadata": {
        "id": "K1ylu_RyR_Su",
        "colab_type": "code",
        "outputId": "3e21a133-10a4-4432-9a23-abd507392db1",
        "colab": {
          "base_uri": "https://localhost:8080/",
          "height": 206
        }
      },
      "source": [
        "summary = pd.crosstab(df['warehouse'], df['training'], values=df['absent'], aggfunc='mean')\n",
        "summary"
      ],
      "execution_count": 0,
      "outputs": [
        {
          "output_type": "execute_result",
          "data": {
            "text/html": [
              "<div>\n",
              "<style scoped>\n",
              "    .dataframe tbody tr th:only-of-type {\n",
              "        vertical-align: middle;\n",
              "    }\n",
              "\n",
              "    .dataframe tbody tr th {\n",
              "        vertical-align: top;\n",
              "    }\n",
              "\n",
              "    .dataframe thead th {\n",
              "        text-align: right;\n",
              "    }\n",
              "</style>\n",
              "<table border=\"1\" class=\"dataframe\">\n",
              "  <thead>\n",
              "    <tr style=\"text-align: right;\">\n",
              "      <th>training</th>\n",
              "      <th>1-20</th>\n",
              "      <th>21-50</th>\n",
              "      <th>50+</th>\n",
              "    </tr>\n",
              "    <tr>\n",
              "      <th>warehouse</th>\n",
              "      <th></th>\n",
              "      <th></th>\n",
              "      <th></th>\n",
              "    </tr>\n",
              "  </thead>\n",
              "  <tbody>\n",
              "    <tr>\n",
              "      <th>Bulk_Storage</th>\n",
              "      <td>3.000000</td>\n",
              "      <td>1.833333</td>\n",
              "      <td>3.666667</td>\n",
              "    </tr>\n",
              "    <tr>\n",
              "      <th>Cold_Storage</th>\n",
              "      <td>2.333333</td>\n",
              "      <td>4.000000</td>\n",
              "      <td>4.500000</td>\n",
              "    </tr>\n",
              "    <tr>\n",
              "      <th>Commodity</th>\n",
              "      <td>4.500000</td>\n",
              "      <td>2.166667</td>\n",
              "      <td>1.166667</td>\n",
              "    </tr>\n",
              "    <tr>\n",
              "      <th>General_Merchandise</th>\n",
              "      <td>3.833333</td>\n",
              "      <td>2.166667</td>\n",
              "      <td>1.666667</td>\n",
              "    </tr>\n",
              "  </tbody>\n",
              "</table>\n",
              "</div>"
            ],
            "text/plain": [
              "training                 1-20     21-50       50+\n",
              "warehouse                                        \n",
              "Bulk_Storage         3.000000  1.833333  3.666667\n",
              "Cold_Storage         2.333333  4.000000  4.500000\n",
              "Commodity            4.500000  2.166667  1.166667\n",
              "General_Merchandise  3.833333  2.166667  1.666667"
            ]
          },
          "metadata": {
            "tags": []
          },
          "execution_count": 44
        }
      ]
    },
    {
      "cell_type": "code",
      "metadata": {
        "id": "N9yYE0HiSTWh",
        "colab_type": "code",
        "outputId": "7196c15f-1298-4902-ff60-022d24066b7d",
        "colab": {
          "base_uri": "https://localhost:8080/",
          "height": 411
        }
      },
      "source": [
        "fig,ax = plt.subplots()\n",
        "summary.T.plot(figsize=(12,6),ax=ax)\n",
        "ax.legend(loc='upper right')\n",
        "ax.set_ylabel('absent')"
      ],
      "execution_count": 0,
      "outputs": [
        {
          "output_type": "execute_result",
          "data": {
            "text/plain": [
              "Text(0, 0.5, 'absent')"
            ]
          },
          "metadata": {
            "tags": []
          },
          "execution_count": 68
        },
        {
          "output_type": "display_data",
          "data": {
            "image/png": "[encoded data removed]",
            "text/plain": [
              "<Figure size 864x432 with 1 Axes>"
            ]
          },
          "metadata": {
            "tags": []
          }
        }
      ]
    },
    {
      "cell_type": "code",
      "metadata": {
        "id": "yMh12deaSzXe",
        "colab_type": "code",
        "colab": {}
      },
      "source": [
        ""
      ],
      "execution_count": 0,
      "outputs": []
    }
  ]
}
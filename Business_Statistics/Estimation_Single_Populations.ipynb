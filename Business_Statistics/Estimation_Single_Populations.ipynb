{
 "cells": [
  {
   "cell_type": "markdown",
   "metadata": {},
   "source": [
    "### Estimation Population Mean | Population Proportion | Population Variance"
   ]
  },
  {
   "cell_type": "code",
   "execution_count": 45,
   "metadata": {},
   "outputs": [],
   "source": [
    "from scipy import stats\n",
    "from math import sqrt\n",
    "import numpy as np"
   ]
  },
  {
   "cell_type": "markdown",
   "metadata": {},
   "source": [
    "# Mean Estimation"
   ]
  },
  {
   "cell_type": "markdown",
   "metadata": {},
   "source": [
    "### Problem\n",
    "A survey was taken of U.S. companies that do business with firms in India. One of\n",
    "the questions on the survey was: Approximately how many years has your company\n",
    "been trading with firms in India? A random sample of 44 responses to this question\n",
    "yielded a mean of 10.455 years. Suppose the population standard deviation for this\n",
    "question is 7.7 years. Using this information, construct a 90% confidence interval for\n",
    "the mean number of years that a company has been trading in India for the population\n",
    "of U.S. companies trading with firms in India."
   ]
  },
  {
   "cell_type": "markdown",
   "metadata": {},
   "source": [
    "### Solution\n",
    "Sample Size >= 30\n",
    "<br />Population Standard Deviation is Known\n",
    "<br />Use Z-Distribution"
   ]
  },
  {
   "cell_type": "code",
   "execution_count": 46,
   "metadata": {},
   "outputs": [],
   "source": [
    "sample_mean = 10.455\n",
    "population_std = 7.7\n",
    "sample_size = 44\n",
    "confidence = 0.90\n",
    "\n",
    "# sampling mean distribution std or standard error of mean is population std /square root of sample size\n",
    "sample_mean_std = (population_std/(sample_size ** 0.5))\n",
    "\n",
    "sample_mean_dist = stats.norm(loc=sample_mean,scale=sample_mean_std)"
   ]
  },
  {
   "cell_type": "code",
   "execution_count": 47,
   "metadata": {},
   "outputs": [
    {
     "data": {
      "text/plain": [
       "(8.545623189521363, 12.364376810478635)"
      ]
     },
     "execution_count": 47,
     "metadata": {},
     "output_type": "execute_result"
    }
   ],
   "source": [
    "alpha = confidence\n",
    "sample_mean_dist.interval(confidence)"
   ]
  },
  {
   "cell_type": "code",
   "execution_count": 48,
   "metadata": {},
   "outputs": [],
   "source": [
    "# one side left out area. At 90% leave 5% area on both side\n",
    "left_out_area = (1-confidence)/2\n",
    "\n",
    "# upper cut off point is 95% area\n",
    "upper_area = 1-left_out_area\n",
    "\n",
    "# Lower cut off point is 5% area\n",
    "lower_area = left_out_area\n",
    "\n",
    "# sample mean value corresponding to 95% area \n",
    "upper_bound = sample_mean_dist.ppf(upper_area)\n",
    "upper_bound = round(upper_bound,4)\n",
    "\n",
    "# sample mean value corresponding to 5% area\n",
    "lower_bound = sample_mean_dist.ppf(lower_area)\n",
    "lower_bound = round(lower_bound,4)"
   ]
  },
  {
   "cell_type": "code",
   "execution_count": 49,
   "metadata": {
    "scrolled": true
   },
   "outputs": [
    {
     "name": "stdout",
     "output_type": "stream",
     "text": [
      "At 90.0% confidence, Actual population mean is between 8.5456 and 12.3644\n"
     ]
    }
   ],
   "source": [
    "print(f\"At {confidence*100}% confidence, Actual population mean is between {lower_bound} and {upper_bound}\")"
   ]
  },
  {
   "cell_type": "markdown",
   "metadata": {},
   "source": [
    "### Problem\n",
    "A study is conducted in a company that employs 800 engineers. A random sample\n",
    "of 50 engineers reveals that the average sample age is 34.3 years. Historically, the\n",
    "population standard deviation of the age of the company’s engineers is approximately\n",
    "8 years. Construct a 98% confidence interval to estimate the average age of all the\n",
    "engineers in this company."
   ]
  },
  {
   "cell_type": "markdown",
   "metadata": {},
   "source": [
    "### Solution\n",
    "Sample Size >= 30\n",
    "<br />Population Standard Deviation is Known\n",
    "<br />Use Z-Distribution\n",
    "<br/> Finite Sample hence use Finite Correction Factor sqrt((N-n)/(N-1)) where N = Population Size, n = Sample Size"
   ]
  },
  {
   "cell_type": "code",
   "execution_count": 50,
   "metadata": {},
   "outputs": [],
   "source": [
    "sample_mean = 34.3\n",
    "population_std = 8\n",
    "sample_size = 50\n",
    "population_size = 800\n",
    "confidence = 0.98\n",
    "\n",
    "# Finite Correction Factor for Standard Deviation\n",
    "fcf = sqrt(population_size-sample_size )/sqrt(population_size-1)\n",
    "\n",
    "# sampling mean distribution std or standard error of mean is population std /square root of sample size\n",
    "sample_mean_std = (population_std/(sample_size ** 0.5)) * fcf\n",
    "\n",
    "sample_mean_dist = stats.norm(loc=sample_mean,scale=sample_mean_std) "
   ]
  },
  {
   "cell_type": "code",
   "execution_count": 51,
   "metadata": {},
   "outputs": [
    {
     "data": {
      "text/plain": [
       "(31.750019349305987, 36.84998065069401)"
      ]
     },
     "execution_count": 51,
     "metadata": {},
     "output_type": "execute_result"
    }
   ],
   "source": [
    "alpha = confidence\n",
    "sample_mean_dist.interval(confidence)"
   ]
  },
  {
   "cell_type": "code",
   "execution_count": 52,
   "metadata": {},
   "outputs": [],
   "source": [
    "# one side left out area. At 98% leave 1% area on both side\n",
    "left_out_area = (1-confidence)/2\n",
    "\n",
    "# upper cut off point is 99% area\n",
    "upper_area = 1-left_out_area\n",
    "\n",
    "# Lower cut off point is 1% area\n",
    "lower_area = left_out_area\n",
    "\n",
    "# sample mean value corresponding to 99% area \n",
    "upper_bound = sample_mean_dist.ppf(upper_area)\n",
    "upper_bound = round(upper_bound,4)\n",
    "\n",
    "# sample mean value corresponding to 1% area\n",
    "lower_bound = sample_mean_dist.ppf(lower_area)\n",
    "lower_bound = round(lower_bound,4)"
   ]
  },
  {
   "cell_type": "code",
   "execution_count": 53,
   "metadata": {},
   "outputs": [
    {
     "name": "stdout",
     "output_type": "stream",
     "text": [
      "At 98.0% confidence, Actual population mean is between 31.75 and 36.85\n"
     ]
    }
   ],
   "source": [
    "print(f\"At {confidence*100}% confidence, Actual population mean is between {lower_bound} and {upper_bound}\")"
   ]
  },
  {
   "cell_type": "markdown",
   "metadata": {},
   "source": [
    "#### Without Finite Correction Factor"
   ]
  },
  {
   "cell_type": "code",
   "execution_count": 54,
   "metadata": {},
   "outputs": [],
   "source": [
    "# sampling mean distribution std or standard error of mean is population std /square root of sample size\n",
    "sample_mean_std = (population_std/(sample_size ** 0.5))\n",
    "\n",
    "sample_mean_dist = stats.norm(loc=sample_mean,scale=sample_mean_std)"
   ]
  },
  {
   "cell_type": "code",
   "execution_count": 55,
   "metadata": {},
   "outputs": [
    {
     "data": {
      "text/plain": [
       "(31.668037828586897, 36.9319621714131)"
      ]
     },
     "execution_count": 55,
     "metadata": {},
     "output_type": "execute_result"
    }
   ],
   "source": [
    "alpha = confidence\n",
    "sample_mean_dist.interval(confidence)"
   ]
  },
  {
   "cell_type": "code",
   "execution_count": 56,
   "metadata": {},
   "outputs": [],
   "source": [
    "# one side left out area. At 98% leave 1% area on both side\n",
    "left_out_area = (1-confidence)/2\n",
    "\n",
    "# upper cut off point is 99% area\n",
    "upper_area = 1-left_out_area\n",
    "\n",
    "# Lower cut off point is 1% area\n",
    "lower_area = left_out_area\n",
    "\n",
    "# sample mean value corresponding to 99% area \n",
    "upper_bound = sample_mean_dist.ppf(upper_area)\n",
    "upper_bound = round(upper_bound,4)\n",
    "\n",
    "# sample mean value corresponding to 1% area\n",
    "lower_bound = sample_mean_dist.ppf(lower_area)\n",
    "lower_bound = round(lower_bound,4)"
   ]
  },
  {
   "cell_type": "code",
   "execution_count": 57,
   "metadata": {},
   "outputs": [
    {
     "name": "stdout",
     "output_type": "stream",
     "text": [
      "At 98.0% confidence, Actual population mean is between 31.668 and 36.932\n"
     ]
    }
   ],
   "source": [
    "print(f\"At {confidence*100}% confidence, Actual population mean is between {lower_bound} and {upper_bound}\")"
   ]
  },
  {
   "cell_type": "markdown",
   "metadata": {},
   "source": [
    "### Problem\n",
    "The owner of a large equipment rental company wants to make a\n",
    "rather quick estimate of the average number of days a piece of\n",
    "ditchdigging equipment is rented out per person per time. The company\n",
    "has records of all rentals, but the amount of time required to\n",
    "conduct an audit of all accounts would be prohibitive. The owner decides to take a random sample of rental invoices. Fourteen different rentals of\n",
    "ditchdiggers are selected randomly from the files, yielding the following data. She\n",
    "uses these data to construct a 99% confidence interval to estimate the average number\n",
    "of days that a ditchdigger is rented and assumes that the number of days per\n",
    "rental is normally distributed in the population.\n",
    "<br/>3 1 3 2 5 1 2 1 4 2 1 3 1 1"
   ]
  },
  {
   "cell_type": "markdown",
   "metadata": {},
   "source": [
    "### Solution\n",
    "Sample Size < 30\n",
    "<br />Population Standard Deviation is Unknown\n",
    "<br />Population is Normally Distributed\n",
    "<br />Use t-Distribution"
   ]
  },
  {
   "cell_type": "code",
   "execution_count": 58,
   "metadata": {},
   "outputs": [],
   "source": [
    "sample = [3,1,3,2,5,1,2,1,4,2,1,3,1,1]\n",
    "sample_size = len(sample) \n",
    "confidence = 0.99"
   ]
  },
  {
   "cell_type": "code",
   "execution_count": 59,
   "metadata": {},
   "outputs": [
    {
     "name": "stdout",
     "output_type": "stream",
     "text": [
      "The sample mean is 2.14 and the sample standard deviation is 1.29.\n"
     ]
    }
   ],
   "source": [
    "sample_mean = np.mean(sample)\n",
    "sample_mean = round(sample_mean,2)\n",
    "\n",
    "# For Sample Standard deviation the degree of freedom is 1 i.e. divide by n-1\n",
    "sample_std = np.std(sample,ddof=1)\n",
    "sample_std = round(sample_std,2)\n",
    "\n",
    "print(f\"The sample mean is {sample_mean} and the sample standard deviation is {sample_std}.\")"
   ]
  },
  {
   "cell_type": "code",
   "execution_count": 60,
   "metadata": {},
   "outputs": [],
   "source": [
    "# sampling mean distribution std or standard error of mean sample std/square root of sample size\n",
    "sample_mean_std = (sample_std/(sample_size ** 0.5))\n",
    "df = sample_size - 1\n",
    "sample_mean_dist = stats.t(loc=sample_mean,scale=sample_mean_std,df=df)"
   ]
  },
  {
   "cell_type": "code",
   "execution_count": 61,
   "metadata": {},
   "outputs": [
    {
     "data": {
      "text/plain": [
       "(1.101466689862367, 3.178533310137633)"
      ]
     },
     "execution_count": 61,
     "metadata": {},
     "output_type": "execute_result"
    }
   ],
   "source": [
    "alpha = confidence\n",
    "sample_mean_dist.interval(confidence)"
   ]
  },
  {
   "cell_type": "code",
   "execution_count": 62,
   "metadata": {},
   "outputs": [],
   "source": [
    "# one side left out area. At 99% leave 0.5% area on both side\n",
    "left_out_area = (1-confidence)/2\n",
    "\n",
    "# upper cut off point is 99.5% area\n",
    "upper_area = 1-left_out_area\n",
    "\n",
    "# Lower cut off point is 0.5% area\n",
    "lower_area = left_out_area\n",
    "\n",
    "# sample mean value corresponding to 99.5% area \n",
    "upper_bound = sample_mean_dist.ppf(upper_area)\n",
    "upper_bound = round(upper_bound,4)\n",
    "\n",
    "# sample mean value corresponding to 0.5% area\n",
    "lower_bound = sample_mean_dist.ppf(lower_area)\n",
    "lower_bound = round(lower_bound,4)"
   ]
  },
  {
   "cell_type": "code",
   "execution_count": 63,
   "metadata": {},
   "outputs": [
    {
     "name": "stdout",
     "output_type": "stream",
     "text": [
      "At 99.0% confidence, Actual population mean is between 1.1015 and 3.1785\n"
     ]
    }
   ],
   "source": [
    "print(f\"At {confidence*100}% confidence, Actual population mean is between {lower_bound} and {upper_bound}\")"
   ]
  },
  {
   "cell_type": "markdown",
   "metadata": {},
   "source": [
    "# Proportion Estimation"
   ]
  },
  {
   "cell_type": "markdown",
   "metadata": {},
   "source": [
    "### Problem\n",
    "Coopers & Lybrand surveyed 210 chief executives of fast-growing small companies.\n",
    "Only 51% of these executives had a management succession plan in place. A\n",
    "spokesperson for Cooper & Lybrand said that many companies do not worry about\n",
    "management succession unless it is an immediate problem. However, the unexpected\n",
    "exit of a corporate leader can disrupt and unfocus a company for long enough\n",
    "to cause it to lose its momentum.\n",
    "Use the data given to compute a 92% confidence interval to estimate the proportion\n",
    "of all fast-growing small companies that have a management succession plan."
   ]
  },
  {
   "cell_type": "code",
   "execution_count": 64,
   "metadata": {},
   "outputs": [],
   "source": [
    "p = 0.51\n",
    "n = 210\n",
    "q = 1-p\n",
    "confidence = 0.92"
   ]
  },
  {
   "cell_type": "code",
   "execution_count": 65,
   "metadata": {},
   "outputs": [
    {
     "name": "stdout",
     "output_type": "stream",
     "text": [
      "We have enough sample size to apply central limit theorem for population proportion estimate\n"
     ]
    }
   ],
   "source": [
    "if (n * p > 5) and (n*q>5):\n",
    "    print('We have enough sample size to apply central limit theorem for population proportion estimate')\n",
    "else:\n",
    "    print('We have do have enough sample size to apply central limit theorem for population proportion estimate')"
   ]
  },
  {
   "cell_type": "code",
   "execution_count": 66,
   "metadata": {},
   "outputs": [],
   "source": [
    "sample_proportion_dist_mean = p\n",
    "sample_proprtion_dist_std = sqrt((p * q)/n)\n",
    "\n",
    "sample_proprtion_dist = stats.norm(loc=sample_proportion_dist_mean,scale=sample_proprtion_dist_std) "
   ]
  },
  {
   "cell_type": "code",
   "execution_count": 67,
   "metadata": {},
   "outputs": [
    {
     "data": {
      "text/plain": [
       "(0.44960767394038487, 0.5703923260596151)"
      ]
     },
     "execution_count": 67,
     "metadata": {},
     "output_type": "execute_result"
    }
   ],
   "source": [
    "alpha = confidence\n",
    "sample_proprtion_dist.interval(confidence)"
   ]
  },
  {
   "cell_type": "code",
   "execution_count": 68,
   "metadata": {},
   "outputs": [],
   "source": [
    "# one side left out area. At 92% leave 4% area on both side\n",
    "left_out_area = (1-confidence)/2\n",
    "\n",
    "# upper cut off point is 96% area\n",
    "upper_area = 1-left_out_area\n",
    "\n",
    "# Lower cut off point is 4% area\n",
    "lower_area = left_out_area\n",
    "\n",
    "# sample mean value corresponding to 96% area \n",
    "upper_bound = sample_proprtion_dist.ppf(upper_area)\n",
    "upper_bound = round(upper_bound,4)\n",
    "\n",
    "# sample mean value corresponding to 4% area\n",
    "lower_bound = sample_proprtion_dist.ppf(lower_area)\n",
    "lower_bound = round(lower_bound,4)"
   ]
  },
  {
   "cell_type": "code",
   "execution_count": 69,
   "metadata": {},
   "outputs": [
    {
     "name": "stdout",
     "output_type": "stream",
     "text": [
      "At 92.0% confidence, Actual population proprtion is between 0.4496 and 0.5704\n"
     ]
    }
   ],
   "source": [
    "print(f\"At {confidence*100}% confidence, Actual population proprtion is between {lower_bound} and {upper_bound}\")"
   ]
  },
  {
   "cell_type": "markdown",
   "metadata": {},
   "source": [
    "# Variance Estimation"
   ]
  },
  {
   "cell_type": "markdown",
   "metadata": {},
   "source": [
    "### Problem\n",
    "The U.S. Bureau of Labor Statistics publishes data on the hourly compensation\n",
    "costs for production workers in manufacturing for various countries. The latest\n",
    "figures published for Greece show that the average hourly wage for a production worker in manufacturing is 16.10 dollar Suppose the business council of Greece wants\n",
    "to know how consistent this figure is. They randomly select 25 production workers\n",
    "in manufacturing from across the country and determine that the standard deviation\n",
    "of hourly wages for such workers is $1.12. Use this information to develop a\n",
    "95% confidence interval to estimate the population variance for the hourly wages\n",
    "of production workers in manufacturing in Greece. Assume that the hourly wages\n",
    "for production workers across the country in manufacturing are normally\n",
    "distributed."
   ]
  },
  {
   "cell_type": "markdown",
   "metadata": {},
   "source": [
    "### Solution\n",
    "\n",
    "As population is Normally Distributed, Chi-Square Distribution can be used for constructing confidence interval for variance"
   ]
  },
  {
   "cell_type": "code",
   "execution_count": 70,
   "metadata": {},
   "outputs": [],
   "source": [
    "sample_std = 1.12\n",
    "sample_var = sample_std ** 2\n",
    "n = 25\n",
    "df = n-1\n",
    "confidence = 0.95"
   ]
  },
  {
   "cell_type": "code",
   "execution_count": 101,
   "metadata": {},
   "outputs": [
    {
     "data": {
      "text/plain": [
       "(12.401150217444439, 39.36407702660391)"
      ]
     },
     "execution_count": 101,
     "metadata": {},
     "output_type": "execute_result"
    }
   ],
   "source": [
    "chi_dist =stats.chi2(df=24)\n",
    "alpha = confidence\n",
    "chi_dist.interval(confidence)"
   ]
  },
  {
   "cell_type": "code",
   "execution_count": 115,
   "metadata": {},
   "outputs": [],
   "source": [
    "# one side left out area. At 95% leave 2.5% area on both side\n",
    "left_out_area = (1-confidence)/2\n",
    "\n",
    "# upper cut off point is 96% area\n",
    "upper_area = 1-left_out_area\n",
    "\n",
    "# Lower cut off point is 4% area\n",
    "lower_area = left_out_area\n",
    "\n",
    "# sample mean value corresponding to 96% area \n",
    "lower_bound = chi_dist.ppf(upper_area)\n",
    "lower_bound = round(lower_bound,4)\n",
    "\n",
    "# sample mean value corresponding to 4% area\n",
    "upper_bound = chi_dist.ppf(lower_area)\n",
    "upper_bound = round(upper_bound,4)"
   ]
  },
  {
   "cell_type": "code",
   "execution_count": 116,
   "metadata": {},
   "outputs": [],
   "source": [
    "lower_bound_var = (n-1)*sample_var/lower_bound\n",
    "upper_bound_var = (n-1)*sample_var/upper_bound"
   ]
  },
  {
   "cell_type": "code",
   "execution_count": 118,
   "metadata": {},
   "outputs": [
    {
     "name": "stdout",
     "output_type": "stream",
     "text": [
      "At 95.0% confidence, Actual population variation is between 0.7647983822823334 and 2.427636035222398\n"
     ]
    }
   ],
   "source": [
    "print(f\"At {confidence*100}% confidence, Actual population variation is between {lower_bound_var} and {upper_bound_var}\")"
   ]
  },
  {
   "cell_type": "code",
   "execution_count": null,
   "metadata": {},
   "outputs": [],
   "source": []
  }
 ],
 "metadata": {
  "kernelspec": {
   "display_name": "Python 3",
   "language": "python",
   "name": "python3"
  },
  "language_info": {
   "codemirror_mode": {
    "name": "ipython",
    "version": 3
   },
   "file_extension": ".py",
   "mimetype": "text/x-python",
   "name": "python",
   "nbconvert_exporter": "python",
   "pygments_lexer": "ipython3",
   "version": "3.6.8"
  }
 },
 "nbformat": 4,
 "nbformat_minor": 2
}

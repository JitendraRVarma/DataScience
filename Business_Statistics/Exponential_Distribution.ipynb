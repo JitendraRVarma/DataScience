{
 "cells": [
  {
   "cell_type": "code",
   "execution_count": 1,
   "metadata": {},
   "outputs": [],
   "source": [
    "from scipy import stats\n",
    "import numpy as np\n",
    "import matplotlib.pyplot as plt"
   ]
  },
  {
   "cell_type": "markdown",
   "metadata": {},
   "source": [
    "A manufacturing firm has been involved in statistical quality control for several years.\n",
    "As part of the production process, parts are randomly selected and tested. From the\n",
    "records of these tests, it has been established that a defective part occurs in a pattern\n",
    "that is Poisson distributed on the average of 1.38 defects every 20 minutes during\n",
    "production runs. Use this information to determine the probability that less than\n",
    "15 minutes will elapse between any two defects."
   ]
  },
  {
   "cell_type": "code",
   "execution_count": 30,
   "metadata": {},
   "outputs": [
    {
     "name": "stdout",
     "output_type": "stream",
     "text": [
      "On the average the interval is 14.4928 minutes between defects\n"
     ]
    }
   ],
   "source": [
    "mean =  20/1.38\n",
    "mean = round(mean,4)\n",
    "print(f\"On the average the interval is {mean} minutes between defects\")"
   ]
  },
  {
   "cell_type": "code",
   "execution_count": 34,
   "metadata": {},
   "outputs": [
    {
     "name": "stdout",
     "output_type": "stream",
     "text": [
      "There is a probability of 0.6448 that less than 15 minutes will elapse between two defects\n"
     ]
    }
   ],
   "source": [
    "x =  stats.expon(scale=mean)\n",
    "p = x.cdf(15)\n",
    "p = round(p,4)\n",
    "print(f\"There is a probability of {p} that less than 15 minutes will elapse between two defects\")"
   ]
  },
  {
   "cell_type": "markdown",
   "metadata": {},
   "source": [
    "Let’s say we want to know if a new product will survive 850 hours.\n",
    "\n",
    "We have data on 1,650 units that have operated for an average of 400 hours. Overall there have been 145 failures."
   ]
  },
  {
   "cell_type": "code",
   "execution_count": 42,
   "metadata": {},
   "outputs": [
    {
     "name": "stdout",
     "output_type": "stream",
     "text": [
      "On Average there is 0.0002197 failure per hour\n"
     ]
    }
   ],
   "source": [
    "#  For lambda we divided the number of failures by the total time the units operate.\n",
    "total_failure = 145\n",
    "total_time = 1650*400\n",
    "rate = total_failure/total_time\n",
    "rate = round(rate,8)\n",
    "print(f\"On Average there is {rate} failure per hour\")"
   ]
  },
  {
   "cell_type": "code",
   "execution_count": 62,
   "metadata": {},
   "outputs": [
    {
     "name": "stdout",
     "output_type": "stream",
     "text": [
      "On the average the interval is 4551.6614 hour between failure\n"
     ]
    }
   ],
   "source": [
    "mean = 1/rate\n",
    "mean = round(mean,4)\n",
    "print(f\"On the average the interval is {mean} hour between failure\")"
   ]
  },
  {
   "cell_type": "code",
   "execution_count": 65,
   "metadata": {},
   "outputs": [
    {
     "name": "stdout",
     "output_type": "stream",
     "text": [
      "probability that the new product will survive 850 hours is 0.83\n"
     ]
    }
   ],
   "source": [
    "x =  stats.expon(scale=mean)\n",
    "p = x.sf(850)\n",
    "p = round(p,2)\n",
    "print(f\"probability that the new product will survive 850 hours is {p}\")"
   ]
  },
  {
   "cell_type": "code",
   "execution_count": null,
   "metadata": {},
   "outputs": [],
   "source": []
  }
 ],
 "metadata": {
  "kernelspec": {
   "display_name": "Python 3",
   "language": "python",
   "name": "python3"
  },
  "language_info": {
   "codemirror_mode": {
    "name": "ipython",
    "version": 3
   },
   "file_extension": ".py",
   "mimetype": "text/x-python",
   "name": "python",
   "nbconvert_exporter": "python",
   "pygments_lexer": "ipython3",
   "version": "3.6.8"
  }
 },
 "nbformat": 4,
 "nbformat_minor": 2
}

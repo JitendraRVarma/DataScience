{
  "nbformat": 4,
  "nbformat_minor": 0,
  "metadata": {
    "colab": {
      "name": "Hypothesis_Testing_for_Single_Populations.ipynb",
      "provenance": [],
      "collapsed_sections": []
    },
    "kernelspec": {
      "name": "python3",
      "display_name": "Python 3"
    }
  },
  "cells": [
    {
      "cell_type": "code",
      "metadata": {
        "id": "zYIEdp8iz8gP",
        "colab_type": "code",
        "colab": {}
      },
      "source": [
        "from scipy import stats\n",
        "from math import sqrt\n",
        "import numpy as np\n",
        "import matplotlib.pyplot as plt"
      ],
      "execution_count": 0,
      "outputs": []
    },
    {
      "cell_type": "markdown",
      "metadata": {
        "id": "vN3jgrUA0JF1",
        "colab_type": "text"
      },
      "source": [
        "### Problem\n",
        "A survey of CPAs across the United States found that the average net income for sole proprietor CPAs is 74,914 dollar.Because this survey is now more than ten years old, an\n",
        "accounting researcher wants to test this figure by taking a random sample of 112 sole pro-\n",
        "prietor accountants in the United States to determine whether the net income figure\n",
        "changed.Suppose the 112 CPAs who respond produce a sample\n",
        "mean of 78,695 dollar.\n",
        "Assume the\n",
        "population standard deviation of net incomes for sole proprietor CPAs is $14,530."
      ]
    },
    {
      "cell_type": "markdown",
      "metadata": {
        "id": "Ssno1DzB0dIL",
        "colab_type": "text"
      },
      "source": [
        "### Solution\n",
        "Estimate : Mean\n",
        "</br>Sample Size >= 30\n",
        "</br>Population Standard Deviation is known\n",
        "</br>Z-Distribution will be used for Hypothesis Testing"
      ]
    },
    {
      "cell_type": "markdown",
      "metadata": {
        "id": "2hZ3GuNq1LkW",
        "colab_type": "text"
      },
      "source": [
        "#### Hypothesis Formulation\n",
        "H0 : Mean is equal to 74914\n",
        "</br>Ha : Mean not equal to 74914"
      ]
    },
    {
      "cell_type": "code",
      "metadata": {
        "id": "brq1tHQB0IUU",
        "colab_type": "code",
        "colab": {}
      },
      "source": [
        "alpha = 0.05\n",
        "sample_size =112\n",
        "sample_mean = 78695\n",
        "population_mean = 74914\n",
        "population_std = 14530"
      ],
      "execution_count": 0,
      "outputs": []
    },
    {
      "cell_type": "code",
      "metadata": {
        "id": "laIbLpI92LtR",
        "colab_type": "code",
        "colab": {}
      },
      "source": [
        "# Scipy Stas does not have method for Z test. Hence these Steps\n",
        "\n",
        "\n",
        "# Sampling Distribution will centeres at Population mean\n",
        "sample_dist_mean = population_mean\n",
        "\n",
        "# Sampling Distribution Standard Deviation \n",
        "sample_dist_std = population_std/sqrt(sample_size)\n",
        "\n",
        "\n",
        "sample_dist = stats.norm(loc=sample_dist_mean,scale=sample_dist_std)"
      ],
      "execution_count": 0,
      "outputs": []
    },
    {
      "cell_type": "code",
      "metadata": {
        "id": "NaBwfR1o5RDf",
        "colab_type": "code",
        "outputId": "8b92b70e-e02d-40f0-cf2e-32e902ab3322",
        "colab": {
          "base_uri": "https://localhost:8080/",
          "height": 35
        }
      },
      "source": [
        "# Assumping Null Hyopthesis is True, Probability of observing the sampling mean equal to or greater than 78695\n",
        "upper_tail_prob = sample_dist.sf(sample_mean)\n",
        "upper_tail_prob = round(upper_tail_prob,4)\n",
        "upper_tail_prob"
      ],
      "execution_count": 0,
      "outputs": [
        {
          "output_type": "execute_result",
          "data": {
            "text/plain": [
              "0.0029"
            ]
          },
          "metadata": {
            "tags": []
          },
          "execution_count": 4
        }
      ]
    },
    {
      "cell_type": "code",
      "metadata": {
        "id": "8LCebPXKFGKd",
        "colab_type": "code",
        "outputId": "df83fa81-1b2c-40e0-808f-f549540c33e5",
        "colab": {
          "base_uri": "https://localhost:8080/",
          "height": 35
        }
      },
      "source": [
        "if upper_tail_prob <= alpha/2:\n",
        "  print('Reject Null Hypothesis')\n",
        "else:\n",
        "  print('Fail to Reject Null Hypothesis ')"
      ],
      "execution_count": 0,
      "outputs": [
        {
          "output_type": "stream",
          "text": [
            "Reject Null Hypothesis\n"
          ],
          "name": "stdout"
        }
      ]
    },
    {
      "cell_type": "markdown",
      "metadata": {
        "id": "5lta_xjBF2Eu",
        "colab_type": "text"
      },
      "source": [
        "### Conclusion\n",
        "The\n",
        "researcher has enough evidence to reject the figure of $74,914 as the true national average\n",
        "net income for sole proprietor CPAs."
      ]
    },
    {
      "cell_type": "markdown",
      "metadata": {
        "id": "5HRmzCRoStzr",
        "colab_type": "text"
      },
      "source": [
        "### Problem\n",
        "\n",
        "Figures released by the U.S. Department of Agriculture show that the average size\n",
        "of farms has increased since 1940. In 1940, the mean size of a farm was 174 acres;\n",
        "by 1997, the average size was 471 acres. Between those years, the number of farms\n",
        "decreased but the amount of tillable land remained relatively constant, so now\n",
        "farms are bigger. This trend might be explained, in part, by the inability of small\n",
        "farms to compete with the prices and costs of large-scale operations and to produce\n",
        "a level of income necessary to support the farmers’ desired standard of living.\n",
        "Suppose an agribusiness researcher believes the average size of farms has now\n",
        "increased from the 1997 mean figure of 471 acres. To test this notion, she randomly\n",
        "sampled 23 farms across the United States and ascertained the size of each farm\n",
        "from county records. The data she gathered follow. Use a 5% level of significance to\n",
        "test her hypothesis. Assume that number of acres per farm is normally distributed\n",
        "in the population.\n",
        "\n",
        "445 489 474 505 553 477 454 463 466\n",
        "557 502 449 438 500 466 477 557 433\n",
        "545 511 590 561 560"
      ]
    },
    {
      "cell_type": "markdown",
      "metadata": {
        "id": "qIIIQQUPTUp8",
        "colab_type": "text"
      },
      "source": [
        "### Solution\n",
        "Mean Estimation\n",
        "</br>Population is Normally Distributed\n",
        "</br>Population std is not known\n",
        "</br>t-test will be used for Hypothesis Testing"
      ]
    },
    {
      "cell_type": "markdown",
      "metadata": {
        "id": "I9wtD726TpTp",
        "colab_type": "text"
      },
      "source": [
        "#### Hypothesis Formulation\n",
        "Null: Mean is 471\n",
        "</br>Alternate: Mean is greater than 471"
      ]
    },
    {
      "cell_type": "code",
      "metadata": {
        "id": "ipMC5qIxF1YK",
        "colab_type": "code",
        "colab": {}
      },
      "source": [
        "sample = [445,489,474,505,553,477,454,463,466,557,502,449,438,500,466,477,557,433,545,511,590,561,560]\n",
        "confidence = 0.05\n",
        "sample_size = len(sample)\n",
        "df = sample_size - 1\n",
        "population_mean = 471"
      ],
      "execution_count": 0,
      "outputs": []
    },
    {
      "cell_type": "code",
      "metadata": {
        "id": "rAYy0trMoa8T",
        "colab_type": "code",
        "outputId": "63c2a544-4234-4db2-88c9-23f308071a78",
        "colab": {
          "base_uri": "https://localhost:8080/",
          "height": 35
        }
      },
      "source": [
        "sample_mean = np.mean(sample)\n",
        "sample_mean"
      ],
      "execution_count": 0,
      "outputs": [
        {
          "output_type": "execute_result",
          "data": {
            "text/plain": [
              "498.7826086956522"
            ]
          },
          "metadata": {
            "tags": []
          },
          "execution_count": 7
        }
      ]
    },
    {
      "cell_type": "code",
      "metadata": {
        "id": "sYpJSmilFlEt",
        "colab_type": "code",
        "outputId": "e6ae17b2-cecd-42f7-d3a4-752656fe0c2a",
        "colab": {
          "base_uri": "https://localhost:8080/",
          "height": 35
        }
      },
      "source": [
        "# stats ttest always return p value for two tail test\n",
        "t_stats, two_tail_p = stats.ttest_1samp(sample,population_mean)\n",
        "\n",
        "# as t distribution is symmetric, one tail p is half of two tail p\n",
        "one_tail_p = two_tail_p/2\n",
        "one_tail_p"
      ],
      "execution_count": 0,
      "outputs": [
        {
          "output_type": "execute_result",
          "data": {
            "text/plain": [
              "0.004781637924933889"
            ]
          },
          "metadata": {
            "tags": []
          },
          "execution_count": 8
        }
      ]
    },
    {
      "cell_type": "code",
      "metadata": {
        "id": "BrYRRNLPYzUZ",
        "colab_type": "code",
        "outputId": "b59c16dd-eb8e-4ff7-bf0d-488bb11a8691",
        "colab": {
          "base_uri": "https://localhost:8080/",
          "height": 35
        }
      },
      "source": [
        "if one_tail_p < confidence :\n",
        "  print('Reject Null Hypothesis')\n",
        "else:\n",
        "  print('Fail to Reject Null Hypothesis ')"
      ],
      "execution_count": 0,
      "outputs": [
        {
          "output_type": "stream",
          "text": [
            "Reject Null Hypothesis\n"
          ],
          "name": "stdout"
        }
      ]
    },
    {
      "cell_type": "markdown",
      "metadata": {
        "id": "3BRPFQM2oPb6",
        "colab_type": "text"
      },
      "source": [
        "### Conclusion\n",
        "accepts the alternative\n",
        "hypothesis and concludes that the average size of a U.S. farm is now more than\n",
        "471 acres."
      ]
    },
    {
      "cell_type": "markdown",
      "metadata": {
        "id": "FgLE21FApfrv",
        "colab_type": "text"
      },
      "source": [
        "### Problem\n",
        "A manufacturer believes exactly 8% of its products contain at least one minor flaw.\n",
        "Suppose a company researcher wants to test this belief.\n",
        "The business researcher randomly selects a sample\n",
        "of 200 products, inspects each item for flaws, and determines that 33 items have at least\n",
        "one minor flaw."
      ]
    },
    {
      "cell_type": "markdown",
      "metadata": {
        "id": "IaXanSr0plfi",
        "colab_type": "text"
      },
      "source": [
        "### Solution\n",
        "Estimate : Proportion\n",
        "Z-test for testing the hypothesis\n"
      ]
    },
    {
      "cell_type": "markdown",
      "metadata": {
        "id": "LbIpHKEOsGWJ",
        "colab_type": "text"
      },
      "source": [
        "#### Hyopthesis Formulation\n",
        "Null : sample proportion = 0.08\n",
        "</br>Alternate : sample proportion is not 0.08"
      ]
    },
    {
      "cell_type": "code",
      "metadata": {
        "id": "gMdSHm_kjW1Y",
        "colab_type": "code",
        "colab": {}
      },
      "source": [
        "n = 200\n",
        "confidence = 0.05\n",
        "sample_flaw = 33\n",
        "sample_p = 33/200\n",
        "population_p = 8/100\n",
        "population_q = 1- population_p"
      ],
      "execution_count": 0,
      "outputs": []
    },
    {
      "cell_type": "code",
      "metadata": {
        "id": "okihFSQVqi_x",
        "colab_type": "code",
        "colab": {}
      },
      "source": [
        "# Mean & Standard deviation for sample proportion distribution\n",
        "sample_dist_std = sqrt((population_p * population_q)/n )\n",
        "sample_dist_mean = population_p\n",
        "# sample proportion distribution follows normal distribution \n",
        "sample_dist = stats.norm(loc= sample_dist_mean,scale=sample_dist_std)"
      ],
      "execution_count": 0,
      "outputs": []
    },
    {
      "cell_type": "code",
      "metadata": {
        "id": "sDrfwKbrrQOR",
        "colab_type": "code",
        "outputId": "4950dbec-8128-458f-dcd1-6426467ceda0",
        "colab": {
          "base_uri": "https://localhost:8080/",
          "height": 35
        }
      },
      "source": [
        "sample_p"
      ],
      "execution_count": 0,
      "outputs": [
        {
          "output_type": "execute_result",
          "data": {
            "text/plain": [
              "0.165"
            ]
          },
          "metadata": {
            "tags": []
          },
          "execution_count": 12
        }
      ]
    },
    {
      "cell_type": "code",
      "metadata": {
        "id": "n3qhdEkGrY05",
        "colab_type": "code",
        "outputId": "b65e7396-fbd9-4bcf-b3fb-bb0ea7be261b",
        "colab": {
          "base_uri": "https://localhost:8080/",
          "height": 35
        }
      },
      "source": [
        "pval = sample_dist.sf(sample_p)\n",
        "pval"
      ],
      "execution_count": 0,
      "outputs": [
        {
          "output_type": "execute_result",
          "data": {
            "text/plain": [
              "4.691349058582895e-06"
            ]
          },
          "metadata": {
            "tags": []
          },
          "execution_count": 13
        }
      ]
    },
    {
      "cell_type": "code",
      "metadata": {
        "id": "tYDnbGlorm0c",
        "colab_type": "code",
        "outputId": "d7cd4d47-3816-42e3-b71c-1b0000c3de44",
        "colab": {
          "base_uri": "https://localhost:8080/",
          "height": 35
        }
      },
      "source": [
        "critical_p = confidence/2\n",
        "if pval < critical_p :\n",
        "  print('Reject Null Hypothesis')\n",
        "else:\n",
        "  print('Fail to Reject Null Hypothesis ')"
      ],
      "execution_count": 0,
      "outputs": [
        {
          "output_type": "stream",
          "text": [
            "Reject Null Hypothesis\n"
          ],
          "name": "stdout"
        }
      ]
    },
    {
      "cell_type": "markdown",
      "metadata": {
        "id": "67NHyb_OtbK5",
        "colab_type": "text"
      },
      "source": [
        "### Problem\n",
        "A small business has 37 employees. Because of the uncertain demand for its product,\n",
        "the company usually pays overtime on any given week. The company assumed\n",
        "that about 50 total hours of overtime per week is required and that the variance on\n",
        "this figure is about 25. Company officials want to know whether the variance of overtime\n",
        "hours has changed. Given here is a sample of 16 weeks of overtime data (in\n",
        "hours per week). Assume hours of overtime are normally distributed. Use these data\n",
        "to test the null hypothesis that the variance of overtime data is 25. Let alpha be 0.10\n",
        "\n",
        "\n",
        "57 56 52 44\n",
        "46 53 44 44\n",
        "48 51 55 48\n",
        "63 53 51 50"
      ]
    },
    {
      "cell_type": "markdown",
      "metadata": {
        "id": "8GwMrcQ1tozM",
        "colab_type": "text"
      },
      "source": [
        "### Solution\n",
        "Estimate : variance\n",
        "</br>Population is normally distributed\n",
        "</br>Chi-Square distribution will be used to test the hypothesis"
      ]
    },
    {
      "cell_type": "markdown",
      "metadata": {
        "id": "u-cbO6Znt3qF",
        "colab_type": "text"
      },
      "source": [
        "#### Hypothesis Formulation\n",
        "Null : Population variance is 25\n",
        "</br>Alternate: Population variance is not 25"
      ]
    },
    {
      "cell_type": "code",
      "metadata": {
        "id": "0mECc7ChsDdP",
        "colab_type": "code",
        "colab": {}
      },
      "source": [
        "sample = [57,56,52,44,46,53,44,44,48,51,55,48,63,53,51,50]\n",
        "population_var = 25\n",
        "alpha = 0.10\n",
        "sample_size = len(sample)\n",
        "sample_var = np.var(sample,ddof=1)\n",
        "df =sample_size-1"
      ],
      "execution_count": 0,
      "outputs": []
    },
    {
      "cell_type": "code",
      "metadata": {
        "id": "6V-nrMpourap",
        "colab_type": "code",
        "outputId": "ed6965fe-8a00-4eb4-f7cb-af41cf5f0408",
        "colab": {
          "base_uri": "https://localhost:8080/",
          "height": 35
        }
      },
      "source": [
        "critical = alpha/2\n",
        "chi_critical_ub = stats.chi2.ppf(1-critical,df=df)\n",
        "chi_critical_lb = stats.chi2.ppf(critical,df=df)\n",
        "print(f\"Reject the null hypothesis if observed chi2 is less than {chi_critical_lb} or greater than {chi_critical_ub}\")"
      ],
      "execution_count": 0,
      "outputs": [
        {
          "output_type": "stream",
          "text": [
            "Reject the null hypothesis if observed chi2 is less than 7.2609439276700325 or greater than 24.995790139728616\n"
          ],
          "name": "stdout"
        }
      ]
    },
    {
      "cell_type": "code",
      "metadata": {
        "id": "45WomFmSwPwv",
        "colab_type": "code",
        "outputId": "99c4fd80-03d7-4899-f531-234c1921aeb9",
        "colab": {
          "base_uri": "https://localhost:8080/",
          "height": 35
        }
      },
      "source": [
        "sample_chi2 = (df *sample_var)/population_var\n",
        "sample_chi2"
      ],
      "execution_count": 0,
      "outputs": [
        {
          "output_type": "execute_result",
          "data": {
            "text/plain": [
              "16.8375"
            ]
          },
          "metadata": {
            "tags": []
          },
          "execution_count": 17
        }
      ]
    },
    {
      "cell_type": "code",
      "metadata": {
        "id": "7kpe2cBDwRzI",
        "colab_type": "code",
        "outputId": "b0907d60-7103-4bf8-9ee3-029777871599",
        "colab": {
          "base_uri": "https://localhost:8080/",
          "height": 35
        }
      },
      "source": [
        "if sample_chi2 < chi_critical_lb or sample_chi2 > chi_critical_lb :\n",
        "  print('Reject Null Hypothesis')\n",
        "else:\n",
        "  print('Fail to Reject Null Hypothesis ')"
      ],
      "execution_count": 0,
      "outputs": [
        {
          "output_type": "stream",
          "text": [
            "Reject Null Hypothesis\n"
          ],
          "name": "stdout"
        }
      ]
    },
    {
      "cell_type": "markdown",
      "metadata": {
        "id": "sMi2O8y1WMOa",
        "colab_type": "text"
      },
      "source": [
        "## Computing Type 2 Error & Power Analysis\n",
        "For example,\n",
        "suppose a researcher is conducting a statistical test on the following hypotheses.\n",
        "</br>Null : Mean Can weight is greater than or equal to 12 ounces \n",
        "</br> Alternate: Mean Can weight is less than 12 ounces\n",
        "</br>Suppose that, in testing the preceding hypotheses, a sample of 60 cans of beverage.\n",
        "yields a sample mean of 11.985 ounces. Assume that the population standard deviation is\n",
        "0.10 ounces."
      ]
    },
    {
      "cell_type": "markdown",
      "metadata": {
        "id": "qM11aN7hXVWC",
        "colab_type": "text"
      },
      "source": [
        "#### Solution\n",
        "sample size >= 30\n",
        "</br>population std is known\n",
        "</br>z distribution will used for computing Type 2 error\n"
      ]
    },
    {
      "cell_type": "code",
      "metadata": {
        "id": "gHl6eJPfoQyz",
        "colab_type": "code",
        "colab": {}
      },
      "source": [
        "sample_size = 60\n",
        "sample_std = 0.10\n",
        "alpha = 0.05\n",
        "null_population_mean = 12"
      ],
      "execution_count": 0,
      "outputs": []
    },
    {
      "cell_type": "markdown",
      "metadata": {
        "id": "B52483N1qROY",
        "colab_type": "text"
      },
      "source": [
        "##### Assuming Null Hypothesis is True i.e. Population Mean is 12, we will now compute the probability of we have mean value less than 12 at alhpa = 0.05.\n",
        "we will compute lower tail critical point (reject region) below which we can say that population mean is less than 12. Above critical point (non-rejection region) we can say that mean value is greater than or equal 12\n"
      ]
    },
    {
      "cell_type": "code",
      "metadata": {
        "id": "1cmuDvmwW4PN",
        "colab_type": "code",
        "outputId": "35ae1167-aabe-4c8c-a853-d518dfe71c6b",
        "colab": {
          "base_uri": "https://localhost:8080/",
          "height": 35
        }
      },
      "source": [
        "# Assuming null is True i.e. Population mean is 12 .\n",
        "sample_mean_std = sample_std/sqrt(sample_size)\n",
        "null_dist = stats.norm(loc=null_population_mean,scale=sample_mean_std)\n",
        "lower_critical = null_dist.ppf(0.05)\n",
        "lower_critical = round(lower_critical,3)\n",
        "print(f\"If Null Hypothesis is True, i.e. Population Mean is >= 12 then Null Hypothesis will not be rejected if sample mean is above {lower_critical}\")\n"
      ],
      "execution_count": 0,
      "outputs": [
        {
          "output_type": "stream",
          "text": [
            "If Null Hypothesis is True, i.e. Population Mean is >= 12 then Null Hypothesis will not be rejected if sample mean is above 11.979\n"
          ],
          "name": "stdout"
        }
      ]
    },
    {
      "cell_type": "markdown",
      "metadata": {
        "id": "151RPa0KtPfU",
        "colab_type": "text"
      },
      "source": [
        "##### Our sample mean of 60 Can is 11.985 which is greater than 11.979 Hence either we have made correct decion of Failing to Reject Null or we have made Type-2 error. <br>Suppose Ground Truth was That Alternate Hypotehsis was True, Population Mean was 11.99. In this case we have made Type-2 error.<br>Probability of Type-2 error when population Mean was 11.99 is equal to probbaility of getting sample mean value greater 11.979"
      ]
    },
    {
      "cell_type": "code",
      "metadata": {
        "id": "Wuaeuza7vZMd",
        "colab_type": "code",
        "colab": {}
      },
      "source": [
        ""
      ],
      "execution_count": 0,
      "outputs": []
    },
    {
      "cell_type": "code",
      "metadata": {
        "id": "Aadj4C_XsIcP",
        "colab_type": "code",
        "outputId": "bca4d950-f076-4cad-c801-5c0cd2d02039",
        "colab": {
          "base_uri": "https://localhost:8080/",
          "height": 35
        }
      },
      "source": [
        "# Assuming Alternate is True i.e. Population mean is < 12 i.e. 11.99,probbaility of getting sample mean value greater 11.979\n",
        "alternate_population_mean = 11.99\n",
        "alternate_dist = stats.norm(loc=alternate_population_mean,scale=sample_mean_std)\n",
        "beta = alternate_dist.sf(lower_critical) * 100\n",
        "beta = round(beta,2) \n",
        "print(f\"there is an {beta}% chance of committing a Type II error if the alternative mean is 11.99 ounces\")"
      ],
      "execution_count": 0,
      "outputs": [
        {
          "output_type": "stream",
          "text": [
            "there is an 80.29% chance of committing a Type II error if the alternative mean is 11.99 ounces\n"
          ],
          "name": "stdout"
        }
      ]
    },
    {
      "cell_type": "markdown",
      "metadata": {
        "id": "kBSmR7hJwRDh",
        "colab_type": "text"
      },
      "source": [
        "##### Operation Characteric Plot for various values of Alternate Mean < 12"
      ]
    },
    {
      "cell_type": "code",
      "metadata": {
        "id": "ZOZz7ZMhwPPD",
        "colab_type": "code",
        "colab": {}
      },
      "source": [
        "alt_mean = [11.999,11.995,11.99,11.98,11.97,11.96,11.95]\n",
        "beta_list = []\n",
        "for mean in alt_mean:\n",
        "  alternate_dist = stats.norm(loc=mean,scale=sample_mean_std)\n",
        "  beta = alternate_dist.sf(lower_critical) \n",
        "  beta = round(beta,2)\n",
        "  beta_list.append(beta)"
      ],
      "execution_count": 0,
      "outputs": []
    },
    {
      "cell_type": "code",
      "metadata": {
        "id": "Xd2GdAe6vg71",
        "colab_type": "code",
        "outputId": "dbab54d3-dd4d-4db7-ac6d-620b4fa97c99",
        "colab": {
          "base_uri": "https://localhost:8080/",
          "height": 399
        }
      },
      "source": [
        "plt.style.use('ggplot')\n",
        "plt.figure(figsize=(15,5))\n",
        "plt.plot(alt_mean, beta_list,linewidth=5,)\n",
        "plt.yticks([0.0,0.2,0.4,0.6,0.8,1.0],fontsize=15)\n",
        "plt.title('Operating Characteristc',fontsize=15,color='red')\n",
        "plt.xlabel('Values of the Alternative Mean',fontsize=15,color='red')\n",
        "plt.ylabel('Beta',fontsize=15,color='red')\n",
        "plt.xticks(fontsize=15)"
      ],
      "execution_count": 0,
      "outputs": [
        {
          "output_type": "execute_result",
          "data": {
            "text/plain": [
              "(array([11.94, 11.95, 11.96, 11.97, 11.98, 11.99, 12.  , 12.01]),\n",
              " <a list of 8 Text xticklabel objects>)"
            ]
          },
          "metadata": {
            "tags": []
          },
          "execution_count": 23
        },
        {
          "output_type": "display_data",
          "data": {
            "image/png": "[encoded data removed]",
            "text/plain": [
              "<Figure size 1080x360 with 1 Axes>"
            ]
          },
          "metadata": {
            "tags": []
          }
        }
      ]
    },
    {
      "cell_type": "code",
      "metadata": {
        "id": "nfcNnHAT1jDd",
        "colab_type": "code",
        "outputId": "1db1d761-6b20-4697-c3b2-b2c7e1bf0a46",
        "colab": {
          "base_uri": "https://localhost:8080/",
          "height": 399
        }
      },
      "source": [
        "power = [round(1-beta,2) for beta in beta_list]\n",
        "plt.figure(figsize=(15,5))\n",
        "plt.plot(alt_mean, power,linewidth=5,)\n",
        "plt.yticks([0.0,0.2,0.4,0.6,0.8,1.0,],fontsize=15)\n",
        "plt.title('Power Curve',fontsize=15,color='red')\n",
        "plt.xlabel('Values of the Alternative Mean',fontsize=15,color='red')\n",
        "plt.ylabel('Power',fontsize=15,color='red')\n",
        "plt.xticks(fontsize=15)"
      ],
      "execution_count": 0,
      "outputs": [
        {
          "output_type": "execute_result",
          "data": {
            "text/plain": [
              "(array([11.94, 11.95, 11.96, 11.97, 11.98, 11.99, 12.  , 12.01]),\n",
              " <a list of 8 Text xticklabel objects>)"
            ]
          },
          "metadata": {
            "tags": []
          },
          "execution_count": 24
        },
        {
          "output_type": "display_data",
          "data": {
            "image/png": "[encoded data removed]",
            "text/plain": [
              "<Figure size 1080x360 with 1 Axes>"
            ]
          },
          "metadata": {
            "tags": []
          }
        }
      ]
    },
    {
      "cell_type": "code",
      "metadata": {
        "id": "xNR1IB2a16ku",
        "colab_type": "code",
        "colab": {}
      },
      "source": [
        ""
      ],
      "execution_count": 0,
      "outputs": []
    }
  ]
}
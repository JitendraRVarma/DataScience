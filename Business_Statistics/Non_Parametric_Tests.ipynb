{
  "nbformat": 4,
  "nbformat_minor": 0,
  "metadata": {
    "colab": {
      "name": "Non_Parametric_Tests.ipynb",
      "provenance": [],
      "collapsed_sections": []
    },
    "kernelspec": {
      "name": "python3",
      "display_name": "Python 3"
    }
  },
  "cells": [
    {
      "cell_type": "code",
      "metadata": {
        "id": "QGyDsmjnMEoO",
        "colab_type": "code",
        "colab": {}
      },
      "source": [
        "from scipy.stats import mannwhitneyu,wilcoxon,kruskal,friedmanchisquare\n",
        "import pandas as pd\n",
        "import numpy as np\n",
        "from pingouin import friedman"
      ],
      "execution_count": 0,
      "outputs": []
    },
    {
      "cell_type": "markdown",
      "metadata": {
        "id": "GUeu5JhrMQVg",
        "colab_type": "text"
      },
      "source": [
        "### Problem\n",
        "Determine whether there is a\n",
        "difference in the average income of families who view PBS television and families who do\n",
        "not view PBS television. Suppose a sample of 14 families that have identified themselves\n",
        "as PBS television viewers and a sample of 13 families that have identified themselves as\n",
        "non-PBS television viewers are selected randomly"
      ]
    },
    {
      "cell_type": "markdown",
      "metadata": {
        "id": "334p0FfMMYln",
        "colab_type": "text"
      },
      "source": [
        "### Solution\n",
        "Population Distribution not known and two independent samples comparision is needed Hence Maan Whitney U test will be used\n",
        "\n",
        "### Hypothesis Formulation\n",
        "Null:The incomes of PBS and non-PBS viewers are identical.<br>\n",
        "Alternate:The incomes of PBS and non-PBS viewers are not identical"
      ]
    },
    {
      "cell_type": "code",
      "metadata": {
        "id": "UbAKOxAtMX2U",
        "colab_type": "code",
        "colab": {}
      },
      "source": [
        "pbs = [24500,39400,36800,43000,57960,32000,61000,34000,43500,55000,39000,62500,61400,53000]\n",
        "non_pbs =[41000,32500,33000,21000,40500,32400,16000,21500,39500,27600,43500,51900,27800]"
      ],
      "execution_count": 0,
      "outputs": []
    },
    {
      "cell_type": "code",
      "metadata": {
        "id": "Cq2rBJwbMPEj",
        "colab_type": "code",
        "outputId": "3c3d94ef-d85d-4531-cf5b-64bfd6b8bb93",
        "colab": {
          "base_uri": "https://localhost:8080/",
          "height": 35
        }
      },
      "source": [
        "stat, p_val = mannwhitneyu(pbs,non_pbs,alternative='two-sided')\n",
        "stat, p_val"
      ],
      "execution_count": 0,
      "outputs": [
        {
          "output_type": "execute_result",
          "data": {
            "text/plain": [
              "(140.5, 0.017399993354093264)"
            ]
          },
          "metadata": {
            "tags": []
          },
          "execution_count": 4
        }
      ]
    },
    {
      "cell_type": "code",
      "metadata": {
        "id": "YXirjS0QNjiw",
        "colab_type": "code",
        "outputId": "fe919b3b-0a47-4b4e-ecfd-744d8b4b40c7",
        "colab": {
          "base_uri": "https://localhost:8080/",
          "height": 35
        }
      },
      "source": [
        "p_val < 0.05"
      ],
      "execution_count": 0,
      "outputs": [
        {
          "output_type": "execute_result",
          "data": {
            "text/plain": [
              "True"
            ]
          },
          "metadata": {
            "tags": []
          },
          "execution_count": 5
        }
      ]
    },
    {
      "cell_type": "markdown",
      "metadata": {
        "id": "TAz9cAOyONeX",
        "colab_type": "text"
      },
      "source": [
        "**That is, there is a difference between the income of a PBS viewer\n",
        "and that of a non-PBS viewer.**"
      ]
    },
    {
      "cell_type": "markdown",
      "metadata": {
        "id": "WuJNA_3tZJAK",
        "colab_type": "text"
      },
      "source": [
        "### Problem\n",
        "Suppose a company implemented a quality-control program\n",
        "and has been operating under it for 2 years. The company’s president wants to\n",
        "determine whether worker productivity significantly increased since installation of\n",
        "the program. Company records contain the figures for items produced per worker\n",
        "during a sample of production runs 2 years ago. Productivity figures on the same\n",
        "workers are gathered now and compared to the previous figures. The following data\n",
        "represent items produced per hour."
      ]
    },
    {
      "cell_type": "markdown",
      "metadata": {
        "id": "lJ-eryXHZWh4",
        "colab_type": "text"
      },
      "source": [
        "### Solution\n",
        "Population Distribution not known and two related samples comparision hence \tWilcoxon matched-pairs signed rank test\n",
        "\n",
        "### Hypothesis Formulation\n",
        "Null:There is no difference in productivity.<br>\n",
        "Alternate:There is a difference in productivity"
      ]
    },
    {
      "cell_type": "code",
      "metadata": {
        "id": "Dh4sVAmmOJHa",
        "colab_type": "code",
        "colab": {}
      },
      "source": [
        "# Before & After data for 20 worker in same order\n",
        "before = [5,4,9,6,3,8,7,10,3,7,2,5,4,5,8,7,9,5,4,3]\n",
        "after = [11,9,9,8,5,7,9,9,7,9,6,10,9,7,9,6,10,8,5,6]"
      ],
      "execution_count": 0,
      "outputs": []
    },
    {
      "cell_type": "code",
      "metadata": {
        "id": "030_ucPPadIN",
        "colab_type": "code",
        "outputId": "280b8cea-26f2-4781-e3cb-07554e60eced",
        "colab": {
          "base_uri": "https://localhost:8080/",
          "height": 35
        }
      },
      "source": [
        "stats, pval = wilcoxon(before,after)\n",
        "stats, pval"
      ],
      "execution_count": 0,
      "outputs": [
        {
          "output_type": "execute_result",
          "data": {
            "text/plain": [
              "(10.5, 0.0006224110091149373)"
            ]
          },
          "metadata": {
            "tags": []
          },
          "execution_count": 8
        }
      ]
    },
    {
      "cell_type": "code",
      "metadata": {
        "id": "1YkNLA_ran29",
        "colab_type": "code",
        "outputId": "56d2abf7-69e7-4772-e608-c688ef6051e8",
        "colab": {
          "base_uri": "https://localhost:8080/",
          "height": 35
        }
      },
      "source": [
        "pval < 0.05"
      ],
      "execution_count": 0,
      "outputs": [
        {
          "output_type": "execute_result",
          "data": {
            "text/plain": [
              "True"
            ]
          },
          "metadata": {
            "tags": []
          },
          "execution_count": 9
        }
      ]
    },
    {
      "cell_type": "markdown",
      "metadata": {
        "id": "5boro8xUa0u8",
        "colab_type": "text"
      },
      "source": [
        "**The productivity is significantly greater after the implementation\n",
        "of quality control at this company.**"
      ]
    },
    {
      "cell_type": "markdown",
      "metadata": {
        "id": "TDcMw2H-bzXt",
        "colab_type": "text"
      },
      "source": [
        "### Problem\n",
        "Suppose a researcher wants to determine whether the number of physicians in an\n",
        "office produces significant differences in the number of office patients seen by each physician\n",
        "per day. She takes a random sample of physicians from practices in which (1) there are\n",
        "only two partners, (2) there are three or more partners, or (3) the office is a health maintenance\n",
        "organization (HMO)."
      ]
    },
    {
      "cell_type": "markdown",
      "metadata": {
        "id": "oqAqQ-OGb92I",
        "colab_type": "text"
      },
      "source": [
        "### Solution\n",
        "Population Distribution not known and Three independent samples comparision hence Kruskal-Wallis test\n",
        "\n",
        "### Hypothesis Formulation\n",
        "Null:There is no difference in the number of patients seen by each physician.<br>\n",
        "Alternate:There is alteast one difference in the number of patients seen by each physician"
      ]
    },
    {
      "cell_type": "code",
      "metadata": {
        "id": "VbrZNV1Oax20",
        "colab_type": "code",
        "colab": {}
      },
      "source": [
        "two_partner = [13,15,20,18,23]\n",
        "three_plus = [24,16,19,22,25,14,17]\n",
        "hmo = [26,22,31,27,28,33]"
      ],
      "execution_count": 0,
      "outputs": []
    },
    {
      "cell_type": "code",
      "metadata": {
        "id": "9W5ThI4vc08e",
        "colab_type": "code",
        "outputId": "10214430-064e-4750-d1c2-4a2c270a39ce",
        "colab": {
          "base_uri": "https://localhost:8080/",
          "height": 35
        }
      },
      "source": [
        "stats,pval = kruskal(two_partner,three_plus,hmo)\n",
        "stats,pval"
      ],
      "execution_count": 0,
      "outputs": [
        {
          "output_type": "execute_result",
          "data": {
            "text/plain": [
              "(9.570988292011025, 0.008349996610851422)"
            ]
          },
          "metadata": {
            "tags": []
          },
          "execution_count": 15
        }
      ]
    },
    {
      "cell_type": "code",
      "metadata": {
        "id": "15N_kiy5c_H-",
        "colab_type": "code",
        "outputId": "2cfdbc8b-143e-4f5d-a1fa-af4c4a58bad6",
        "colab": {
          "base_uri": "https://localhost:8080/",
          "height": 35
        }
      },
      "source": [
        "pval < 0.05"
      ],
      "execution_count": 0,
      "outputs": [
        {
          "output_type": "execute_result",
          "data": {
            "text/plain": [
              "True"
            ]
          },
          "metadata": {
            "tags": []
          },
          "execution_count": 16
        }
      ]
    },
    {
      "cell_type": "markdown",
      "metadata": {
        "id": "qUD3qo3XdmGg",
        "colab_type": "text"
      },
      "source": [
        "**The number of patients seen in the office by a physician is not the same\n",
        "in these three sizes of offices**"
      ]
    },
    {
      "cell_type": "markdown",
      "metadata": {
        "id": "RgImFdF6fJEe",
        "colab_type": "text"
      },
      "source": [
        "### Problem\n",
        "As an example, suppose a manufacturing company assembles microcircuits that contain\n",
        "a plastic housing.Managers are concerned about an unacceptably high number of the\n",
        "products that sustained housing damage during shipment. The housing component is\n",
        "made by four different suppliers. Managers have decided to conduct a study of the plastic\n",
        "housing by randomly selecting five housings made by each of the four suppliers. To determine\n",
        "whether a supplier is consistent during the production week, one housing is selected\n",
        "for each day of the week. That is, for each supplier, a housing made on Monday is selected,\n",
        "one made on Tuesday is selected, and so on.The quality control team wants to determine whether there is any significant\n",
        "difference in the tensile strength of the plastic housing by supplier. The data are given here\n",
        "(in pounds per inch)."
      ]
    },
    {
      "cell_type": "markdown",
      "metadata": {
        "id": "Oh0E_R9Mf5Sd",
        "colab_type": "text"
      },
      "source": [
        "### Solution\n",
        "Population Distribution not known and we have to compare treatment level data with blocking variable...treatment being supplier and blocking being day of week, hence Friedman Test will be used\n",
        "\n",
        "### Hypothesis Formulation\n",
        "Null:The supplier populations are equal..<br>\n",
        "Alternate:At least one supplier population yields larger values than at least one other"
      ]
    },
    {
      "cell_type": "code",
      "metadata": {
        "id": "7n3LMbPSdigq",
        "colab_type": "code",
        "outputId": "6acea1c8-0ccb-42e4-a850-b5b3d93ff6f5",
        "colab": {
          "base_uri": "https://localhost:8080/",
          "height": 206
        }
      },
      "source": [
        "data = [[62,63,57,61],\n",
        "       [63,61,59,65],\n",
        "       [61,62,56,63],\n",
        "       [62,60,57,64],\n",
        "       [64,63,58,66]]\n",
        "\n",
        "df = pd.DataFrame(data,columns=['Supplier_1','Supplier_2','Supplier_3','Supplier_4'],index=['Mon','Tue','Wed','Thur','Fri'])\n",
        "df"
      ],
      "execution_count": 0,
      "outputs": [
        {
          "output_type": "execute_result",
          "data": {
            "text/html": [
              "<div>\n",
              "<style scoped>\n",
              "    .dataframe tbody tr th:only-of-type {\n",
              "        vertical-align: middle;\n",
              "    }\n",
              "\n",
              "    .dataframe tbody tr th {\n",
              "        vertical-align: top;\n",
              "    }\n",
              "\n",
              "    .dataframe thead th {\n",
              "        text-align: right;\n",
              "    }\n",
              "</style>\n",
              "<table border=\"1\" class=\"dataframe\">\n",
              "  <thead>\n",
              "    <tr style=\"text-align: right;\">\n",
              "      <th></th>\n",
              "      <th>Supplier_1</th>\n",
              "      <th>Supplier_2</th>\n",
              "      <th>Supplier_3</th>\n",
              "      <th>Supplier_4</th>\n",
              "    </tr>\n",
              "  </thead>\n",
              "  <tbody>\n",
              "    <tr>\n",
              "      <th>Mon</th>\n",
              "      <td>62</td>\n",
              "      <td>63</td>\n",
              "      <td>57</td>\n",
              "      <td>61</td>\n",
              "    </tr>\n",
              "    <tr>\n",
              "      <th>Tue</th>\n",
              "      <td>63</td>\n",
              "      <td>61</td>\n",
              "      <td>59</td>\n",
              "      <td>65</td>\n",
              "    </tr>\n",
              "    <tr>\n",
              "      <th>Wed</th>\n",
              "      <td>61</td>\n",
              "      <td>62</td>\n",
              "      <td>56</td>\n",
              "      <td>63</td>\n",
              "    </tr>\n",
              "    <tr>\n",
              "      <th>Thur</th>\n",
              "      <td>62</td>\n",
              "      <td>60</td>\n",
              "      <td>57</td>\n",
              "      <td>64</td>\n",
              "    </tr>\n",
              "    <tr>\n",
              "      <th>Fri</th>\n",
              "      <td>64</td>\n",
              "      <td>63</td>\n",
              "      <td>58</td>\n",
              "      <td>66</td>\n",
              "    </tr>\n",
              "  </tbody>\n",
              "</table>\n",
              "</div>"
            ],
            "text/plain": [
              "      Supplier_1  Supplier_2  Supplier_3  Supplier_4\n",
              "Mon           62          63          57          61\n",
              "Tue           63          61          59          65\n",
              "Wed           61          62          56          63\n",
              "Thur          62          60          57          64\n",
              "Fri           64          63          58          66"
            ]
          },
          "metadata": {
            "tags": []
          },
          "execution_count": 29
        }
      ]
    },
    {
      "cell_type": "code",
      "metadata": {
        "id": "k12ZTBQAmwgL",
        "colab_type": "code",
        "outputId": "42603a2b-46a8-4ca1-f6e7-0c76282cbb24",
        "colab": {
          "base_uri": "https://localhost:8080/",
          "height": 175
        }
      },
      "source": [
        "df.T"
      ],
      "execution_count": 0,
      "outputs": [
        {
          "output_type": "execute_result",
          "data": {
            "text/html": [
              "<div>\n",
              "<style scoped>\n",
              "    .dataframe tbody tr th:only-of-type {\n",
              "        vertical-align: middle;\n",
              "    }\n",
              "\n",
              "    .dataframe tbody tr th {\n",
              "        vertical-align: top;\n",
              "    }\n",
              "\n",
              "    .dataframe thead th {\n",
              "        text-align: right;\n",
              "    }\n",
              "</style>\n",
              "<table border=\"1\" class=\"dataframe\">\n",
              "  <thead>\n",
              "    <tr style=\"text-align: right;\">\n",
              "      <th></th>\n",
              "      <th>Mon</th>\n",
              "      <th>Tue</th>\n",
              "      <th>Wed</th>\n",
              "      <th>Thur</th>\n",
              "      <th>Fri</th>\n",
              "    </tr>\n",
              "  </thead>\n",
              "  <tbody>\n",
              "    <tr>\n",
              "      <th>Supplier_1</th>\n",
              "      <td>62</td>\n",
              "      <td>63</td>\n",
              "      <td>61</td>\n",
              "      <td>62</td>\n",
              "      <td>64</td>\n",
              "    </tr>\n",
              "    <tr>\n",
              "      <th>Supplier_2</th>\n",
              "      <td>63</td>\n",
              "      <td>61</td>\n",
              "      <td>62</td>\n",
              "      <td>60</td>\n",
              "      <td>63</td>\n",
              "    </tr>\n",
              "    <tr>\n",
              "      <th>Supplier_3</th>\n",
              "      <td>57</td>\n",
              "      <td>59</td>\n",
              "      <td>56</td>\n",
              "      <td>57</td>\n",
              "      <td>58</td>\n",
              "    </tr>\n",
              "    <tr>\n",
              "      <th>Supplier_4</th>\n",
              "      <td>61</td>\n",
              "      <td>65</td>\n",
              "      <td>63</td>\n",
              "      <td>64</td>\n",
              "      <td>66</td>\n",
              "    </tr>\n",
              "  </tbody>\n",
              "</table>\n",
              "</div>"
            ],
            "text/plain": [
              "            Mon  Tue  Wed  Thur  Fri\n",
              "Supplier_1   62   63   61    62   64\n",
              "Supplier_2   63   61   62    60   63\n",
              "Supplier_3   57   59   56    57   58\n",
              "Supplier_4   61   65   63    64   66"
            ]
          },
          "metadata": {
            "tags": []
          },
          "execution_count": 62
        }
      ]
    },
    {
      "cell_type": "code",
      "metadata": {
        "id": "PwY4eBxmitLm",
        "colab_type": "code",
        "outputId": "5a63e70d-872e-450e-b280-46c0a28625f8",
        "colab": {
          "base_uri": "https://localhost:8080/",
          "height": 90
        }
      },
      "source": [
        "matrix = df.T.values\n",
        "matrix"
      ],
      "execution_count": 0,
      "outputs": [
        {
          "output_type": "execute_result",
          "data": {
            "text/plain": [
              "array([[62, 63, 61, 62, 64],\n",
              "       [63, 61, 62, 60, 63],\n",
              "       [57, 59, 56, 57, 58],\n",
              "       [61, 65, 63, 64, 66]])"
            ]
          },
          "metadata": {
            "tags": []
          },
          "execution_count": 63
        }
      ]
    },
    {
      "cell_type": "code",
      "metadata": {
        "id": "stF6-02MhGeh",
        "colab_type": "code",
        "outputId": "1681cd22-06b7-44ed-d15f-4038c727c086",
        "colab": {
          "base_uri": "https://localhost:8080/",
          "height": 35
        }
      },
      "source": [
        "stat, pval = friedmanchisquare(*[matrix[x, :] for x in np.arange(matrix.shape[0])])\n",
        "stat, pval"
      ],
      "execution_count": 0,
      "outputs": [
        {
          "output_type": "execute_result",
          "data": {
            "text/plain": [
              "(10.679999999999993, 0.0135882729582177)"
            ]
          },
          "metadata": {
            "tags": []
          },
          "execution_count": 64
        }
      ]
    },
    {
      "cell_type": "code",
      "metadata": {
        "id": "_CNYQFGNlMnK",
        "colab_type": "code",
        "outputId": "b6e5ebdd-1976-437a-cab1-37c988c85266",
        "colab": {
          "base_uri": "https://localhost:8080/",
          "height": 35
        }
      },
      "source": [
        "pval < 0.05"
      ],
      "execution_count": 0,
      "outputs": [
        {
          "output_type": "execute_result",
          "data": {
            "text/plain": [
              "True"
            ]
          },
          "metadata": {
            "tags": []
          },
          "execution_count": 78
        }
      ]
    },
    {
      "cell_type": "code",
      "metadata": {
        "id": "KBBJMMtxoGTP",
        "colab_type": "code",
        "outputId": "a989a0d2-163c-4a20-9ed8-326ce05e72de",
        "colab": {
          "base_uri": "https://localhost:8080/",
          "height": 677
        }
      },
      "source": [
        "supplier = ['Supplier_1'] * 5 + ['Supplier_2'] * 5 + ['Supplier_3'] * 5 + ['Supplier_4'] * 5\n",
        "Dof = ['Mon','Tue','Wed','Thur','Fri'] * 4\n",
        "data = matrix.flatten()\n",
        "new_df = pd.DataFrame({'Suppliers':supplier,'DOF':Dof,'Tensile_strength':data})\n",
        "new_df"
      ],
      "execution_count": 0,
      "outputs": [
        {
          "output_type": "execute_result",
          "data": {
            "text/html": [
              "<div>\n",
              "<style scoped>\n",
              "    .dataframe tbody tr th:only-of-type {\n",
              "        vertical-align: middle;\n",
              "    }\n",
              "\n",
              "    .dataframe tbody tr th {\n",
              "        vertical-align: top;\n",
              "    }\n",
              "\n",
              "    .dataframe thead th {\n",
              "        text-align: right;\n",
              "    }\n",
              "</style>\n",
              "<table border=\"1\" class=\"dataframe\">\n",
              "  <thead>\n",
              "    <tr style=\"text-align: right;\">\n",
              "      <th></th>\n",
              "      <th>Suppliers</th>\n",
              "      <th>DOF</th>\n",
              "      <th>Tensile_strength</th>\n",
              "    </tr>\n",
              "  </thead>\n",
              "  <tbody>\n",
              "    <tr>\n",
              "      <th>0</th>\n",
              "      <td>Supplier_1</td>\n",
              "      <td>Mon</td>\n",
              "      <td>62</td>\n",
              "    </tr>\n",
              "    <tr>\n",
              "      <th>1</th>\n",
              "      <td>Supplier_1</td>\n",
              "      <td>Tue</td>\n",
              "      <td>63</td>\n",
              "    </tr>\n",
              "    <tr>\n",
              "      <th>2</th>\n",
              "      <td>Supplier_1</td>\n",
              "      <td>Wed</td>\n",
              "      <td>61</td>\n",
              "    </tr>\n",
              "    <tr>\n",
              "      <th>3</th>\n",
              "      <td>Supplier_1</td>\n",
              "      <td>Thur</td>\n",
              "      <td>62</td>\n",
              "    </tr>\n",
              "    <tr>\n",
              "      <th>4</th>\n",
              "      <td>Supplier_1</td>\n",
              "      <td>Fri</td>\n",
              "      <td>64</td>\n",
              "    </tr>\n",
              "    <tr>\n",
              "      <th>5</th>\n",
              "      <td>Supplier_2</td>\n",
              "      <td>Mon</td>\n",
              "      <td>63</td>\n",
              "    </tr>\n",
              "    <tr>\n",
              "      <th>6</th>\n",
              "      <td>Supplier_2</td>\n",
              "      <td>Tue</td>\n",
              "      <td>61</td>\n",
              "    </tr>\n",
              "    <tr>\n",
              "      <th>7</th>\n",
              "      <td>Supplier_2</td>\n",
              "      <td>Wed</td>\n",
              "      <td>62</td>\n",
              "    </tr>\n",
              "    <tr>\n",
              "      <th>8</th>\n",
              "      <td>Supplier_2</td>\n",
              "      <td>Thur</td>\n",
              "      <td>60</td>\n",
              "    </tr>\n",
              "    <tr>\n",
              "      <th>9</th>\n",
              "      <td>Supplier_2</td>\n",
              "      <td>Fri</td>\n",
              "      <td>63</td>\n",
              "    </tr>\n",
              "    <tr>\n",
              "      <th>10</th>\n",
              "      <td>Supplier_3</td>\n",
              "      <td>Mon</td>\n",
              "      <td>57</td>\n",
              "    </tr>\n",
              "    <tr>\n",
              "      <th>11</th>\n",
              "      <td>Supplier_3</td>\n",
              "      <td>Tue</td>\n",
              "      <td>59</td>\n",
              "    </tr>\n",
              "    <tr>\n",
              "      <th>12</th>\n",
              "      <td>Supplier_3</td>\n",
              "      <td>Wed</td>\n",
              "      <td>56</td>\n",
              "    </tr>\n",
              "    <tr>\n",
              "      <th>13</th>\n",
              "      <td>Supplier_3</td>\n",
              "      <td>Thur</td>\n",
              "      <td>57</td>\n",
              "    </tr>\n",
              "    <tr>\n",
              "      <th>14</th>\n",
              "      <td>Supplier_3</td>\n",
              "      <td>Fri</td>\n",
              "      <td>58</td>\n",
              "    </tr>\n",
              "    <tr>\n",
              "      <th>15</th>\n",
              "      <td>Supplier_4</td>\n",
              "      <td>Mon</td>\n",
              "      <td>61</td>\n",
              "    </tr>\n",
              "    <tr>\n",
              "      <th>16</th>\n",
              "      <td>Supplier_4</td>\n",
              "      <td>Tue</td>\n",
              "      <td>65</td>\n",
              "    </tr>\n",
              "    <tr>\n",
              "      <th>17</th>\n",
              "      <td>Supplier_4</td>\n",
              "      <td>Wed</td>\n",
              "      <td>63</td>\n",
              "    </tr>\n",
              "    <tr>\n",
              "      <th>18</th>\n",
              "      <td>Supplier_4</td>\n",
              "      <td>Thur</td>\n",
              "      <td>64</td>\n",
              "    </tr>\n",
              "    <tr>\n",
              "      <th>19</th>\n",
              "      <td>Supplier_4</td>\n",
              "      <td>Fri</td>\n",
              "      <td>66</td>\n",
              "    </tr>\n",
              "  </tbody>\n",
              "</table>\n",
              "</div>"
            ],
            "text/plain": [
              "     Suppliers   DOF  Tensile_strength\n",
              "0   Supplier_1   Mon                62\n",
              "1   Supplier_1   Tue                63\n",
              "2   Supplier_1   Wed                61\n",
              "3   Supplier_1  Thur                62\n",
              "4   Supplier_1   Fri                64\n",
              "5   Supplier_2   Mon                63\n",
              "6   Supplier_2   Tue                61\n",
              "7   Supplier_2   Wed                62\n",
              "8   Supplier_2  Thur                60\n",
              "9   Supplier_2   Fri                63\n",
              "10  Supplier_3   Mon                57\n",
              "11  Supplier_3   Tue                59\n",
              "12  Supplier_3   Wed                56\n",
              "13  Supplier_3  Thur                57\n",
              "14  Supplier_3   Fri                58\n",
              "15  Supplier_4   Mon                61\n",
              "16  Supplier_4   Tue                65\n",
              "17  Supplier_4   Wed                63\n",
              "18  Supplier_4  Thur                64\n",
              "19  Supplier_4   Fri                66"
            ]
          },
          "metadata": {
            "tags": []
          },
          "execution_count": 74
        }
      ]
    },
    {
      "cell_type": "code",
      "metadata": {
        "id": "d03KkiG0pDcA",
        "colab_type": "code",
        "outputId": "990deeff-e63c-4fa9-8716-7bca1fe071bc",
        "colab": {
          "base_uri": "https://localhost:8080/",
          "height": 81
        }
      },
      "source": [
        "friedman(data=new_df, dv='Tensile_strength', within='Suppliers',subject='DOF')"
      ],
      "execution_count": 0,
      "outputs": [
        {
          "output_type": "execute_result",
          "data": {
            "text/html": [
              "<div>\n",
              "<style scoped>\n",
              "    .dataframe tbody tr th:only-of-type {\n",
              "        vertical-align: middle;\n",
              "    }\n",
              "\n",
              "    .dataframe tbody tr th {\n",
              "        vertical-align: top;\n",
              "    }\n",
              "\n",
              "    .dataframe thead th {\n",
              "        text-align: right;\n",
              "    }\n",
              "</style>\n",
              "<table border=\"1\" class=\"dataframe\">\n",
              "  <thead>\n",
              "    <tr style=\"text-align: right;\">\n",
              "      <th></th>\n",
              "      <th>Source</th>\n",
              "      <th>ddof1</th>\n",
              "      <th>Q</th>\n",
              "      <th>p-unc</th>\n",
              "    </tr>\n",
              "  </thead>\n",
              "  <tbody>\n",
              "    <tr>\n",
              "      <th>Friedman</th>\n",
              "      <td>Suppliers</td>\n",
              "      <td>3</td>\n",
              "      <td>10.68</td>\n",
              "      <td>0.013588</td>\n",
              "    </tr>\n",
              "  </tbody>\n",
              "</table>\n",
              "</div>"
            ],
            "text/plain": [
              "             Source  ddof1      Q     p-unc\n",
              "Friedman  Suppliers      3  10.68  0.013588"
            ]
          },
          "metadata": {
            "tags": []
          },
          "execution_count": 76
        }
      ]
    },
    {
      "cell_type": "markdown",
      "metadata": {
        "id": "NcBVzqUgp6PA",
        "colab_type": "text"
      },
      "source": [
        "**The decision is to reject the null hypothesis.Statistically, there is a significant difference in the tensile strength of housings\n",
        "made by different suppliers**"
      ]
    },
    {
      "cell_type": "code",
      "metadata": {
        "id": "35jiZokvqEXh",
        "colab_type": "code",
        "colab": {}
      },
      "source": [
        ""
      ],
      "execution_count": 0,
      "outputs": []
    }
  ]
}
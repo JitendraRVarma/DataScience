{
  "nbformat": 4,
  "nbformat_minor": 0,
  "metadata": {
    "colab": {
      "name": "Normal_distribution.ipynb",
      "provenance": []
    },
    "kernelspec": {
      "name": "python3",
      "display_name": "Python 3"
    }
  },
  "cells": [
    {
      "cell_type": "code",
      "metadata": {
        "id": "iLpnzdUZCgkx",
        "colab_type": "code",
        "colab": {}
      },
      "source": [
        "from scipy import stats\n",
        "import numpy as np\n",
        "import matplotlib.pyplot as plt"
      ],
      "execution_count": 0,
      "outputs": []
    },
    {
      "cell_type": "markdown",
      "metadata": {
        "id": "Dluf0tlTFMa4",
        "colab_type": "text"
      },
      "source": [
        "What is the probability of obtaining a score greater than 700 on a GMAT test that has\n",
        "a mean of 494 and a standard deviation of 100?"
      ]
    },
    {
      "cell_type": "code",
      "metadata": {
        "id": "1TpzWel2CvsI",
        "colab_type": "code",
        "outputId": "c2ebfcba-fad8-4fca-b846-0dc1ffa98115",
        "colab": {
          "base_uri": "https://localhost:8080/",
          "height": 34
        }
      },
      "source": [
        "z = stats.norm(494, 100) \n",
        "score = 1 - z.cdf(700)\n",
        "score = round(score,4)\n",
        "print(f\"Probability of obtaining a score greater than 700 is {score}\")"
      ],
      "execution_count": 0,
      "outputs": [
        {
          "output_type": "stream",
          "text": [
            "Probability of obtaining a score greater than 700 is 0.0197\n"
          ],
          "name": "stdout"
        }
      ]
    },
    {
      "cell_type": "markdown",
      "metadata": {
        "id": "dVfRKp_5Frzc",
        "colab_type": "text"
      },
      "source": [
        "For the same GMAT examination, what is the probability of randomly drawing a\n",
        "score that is 550 or less?"
      ]
    },
    {
      "cell_type": "code",
      "metadata": {
        "id": "j5sLNf-EDUVc",
        "colab_type": "code",
        "outputId": "956c5a7d-50dc-4aff-ecbd-57625ee3d04c",
        "colab": {
          "base_uri": "https://localhost:8080/",
          "height": 34
        }
      },
      "source": [
        "score = z.cdf(550)\n",
        "score = round(score,4)\n",
        "print(f\"Probability of obtaining a score less than 550 is {score}\")"
      ],
      "execution_count": 0,
      "outputs": [
        {
          "output_type": "stream",
          "text": [
            "Probability of obtaining a score less than 550 is 0.7123\n"
          ],
          "name": "stdout"
        }
      ]
    },
    {
      "cell_type": "markdown",
      "metadata": {
        "id": "nxxWG_zbF9Sh",
        "colab_type": "text"
      },
      "source": [
        "What is the probability of randomly obtaining a score between 300 and 600 on the\n",
        "GMAT exam?"
      ]
    },
    {
      "cell_type": "code",
      "metadata": {
        "id": "S5fkZjLUF8Fo",
        "colab_type": "code",
        "outputId": "902693ee-64e1-4fd7-fbb9-94fd04c27070",
        "colab": {
          "base_uri": "https://localhost:8080/",
          "height": 34
        }
      },
      "source": [
        "score = z.cdf(600) - z.cdf(300)\n",
        "score = round(score,4)\n",
        "print(f\"Probability of obtaining a score between 300 and 600 is {score}\")"
      ],
      "execution_count": 0,
      "outputs": [
        {
          "output_type": "stream",
          "text": [
            "Probability of obtaining a score between 300 and 600 is 0.8292\n"
          ],
          "name": "stdout"
        }
      ]
    },
    {
      "cell_type": "markdown",
      "metadata": {
        "id": "bFnAHtsAKchv",
        "colab_type": "text"
      },
      "source": [
        "You are considering leasing a machine for some manufacturing process. The one-year lease costs you $400,000, and you cannot cancel early. You wonder whether the annual production level and the savings in maintenance, labor, and raw materials are high enough to justify leasing the machine.\n",
        "\n"
      ]
    },
    {
      "cell_type": "code",
      "metadata": {
        "id": "YPskQ57cKQu0",
        "colab_type": "code",
        "colab": {}
      },
      "source": [
        ""
      ],
      "execution_count": 0,
      "outputs": []
    }
  ]
}
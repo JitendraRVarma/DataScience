{
  "nbformat": 4,
  "nbformat_minor": 0,
  "metadata": {
    "colab": {
      "name": "Statistical Inferences about Two Populations.ipynb",
      "provenance": [],
      "collapsed_sections": []
    },
    "kernelspec": {
      "name": "python3",
      "display_name": "Python 3"
    }
  },
  "cells": [
    {
      "cell_type": "code",
      "metadata": {
        "id": "K7yoE_OFoaP-",
        "colab_type": "code",
        "colab": {}
      },
      "source": [
        "import numpy as np\n",
        "from math import sqrt\n",
        "from scipy import stats\n",
        "from statsmodels.stats.weightstats import ztest\n",
        "from statsmodels.stats.weightstats import CompareMeans \n",
        "import statsmodels.stats.api as sms"
      ],
      "execution_count": 0,
      "outputs": []
    },
    {
      "cell_type": "markdown",
      "metadata": {
        "id": "wmm_0GchryT2",
        "colab_type": "text"
      },
      "source": [
        "### Problem\n",
        "we want to conduct a hypothesis test to determine\n",
        "whether the average annual wage for an advertising manager is different from the average\n",
        "annual wage of an auditing manager.Population std deviation for advertising manager is 16.253 and for auditing manager is 12.900"
      ]
    },
    {
      "cell_type": "code",
      "metadata": {
        "id": "MrzvNKXtr5Fr",
        "colab_type": "code",
        "colab": {}
      },
      "source": [
        "# Wages for Advertising Managers and Auditing Managers ($1000) \n",
        "\n",
        "adv_mang = [74.256,64.276,96.234,74.194,89.807,65.360,93.261,73.904,103.030,54.270,74.195,59.045,\n",
        "            75.932,68.508,80.742,71.115,39.672,67.574,45.652,59.621, 93.083,62.483,63.384,69.319,\n",
        "            57.791,35.394,65.145,86.741,96.767,57.351,77.242,67.056]\n",
        "\n",
        "aud_mang = [69.962,67.160,55.052,37.386,57.828,59.505,63.362,72.790,37.194,71.351,99.198,\n",
        "            58.653,61.254,63.508,73.065,43.649,48.036,63.369,60.053,59.676,66.359,54.449,\n",
        "            61.261,46.394,77.136,71.804,66.035,72.401,54.335,56.470,54.335,56.470,42.494,67.814,83.849,71.492]\n"
      ],
      "execution_count": 0,
      "outputs": []
    },
    {
      "cell_type": "code",
      "metadata": {
        "id": "UOYOMxuTyRCP",
        "colab_type": "code",
        "outputId": "16a575d3-6ebf-4815-faef-cb105a396e5e",
        "colab": {
          "base_uri": "https://localhost:8080/",
          "height": 54
        }
      },
      "source": [
        "print(len(adv_mang))\n",
        "print(len(aud_mang))"
      ],
      "execution_count": 0,
      "outputs": [
        {
          "output_type": "stream",
          "text": [
            "32\n",
            "36\n"
          ],
          "name": "stdout"
        }
      ]
    },
    {
      "cell_type": "markdown",
      "metadata": {
        "id": "zlkk3jW6zxch",
        "colab_type": "text"
      },
      "source": [
        "Sample Size n >= 30\n",
        "</br>Population Std is known\n",
        "</br>Z distribution will be used to test the hyopthesis\n",
        "\n",
        "#### Hypothesis Formulation\n",
        "Null : Difference between both population mean is 0 (They are equal)\n",
        "</br>alternate : Difference between both population mean is 0 (They are not equal)\n"
      ]
    },
    {
      "cell_type": "code",
      "metadata": {
        "id": "wabtTLgrzv4U",
        "colab_type": "code",
        "colab": {}
      },
      "source": [
        "# Constructing Population Mean Difference Distribution\n",
        "n1 = len(adv_mang)\n",
        "n2 = len(aud_mang)\n",
        "\n",
        "alpha = 0.5\n",
        "\n",
        "adv_mang_mean = np.mean(adv_mang)\n",
        "aud_mean_mean = np.mean(aud_mang)\n",
        "\n",
        "\n",
        "sample_mean_diff = adv_mang_mean - aud_mean_mean\n",
        "popultation_mean_diff = 0\n",
        "\n",
        "adv_std = 16.253\n",
        "aud_std = 12.900\n",
        "\n",
        "adv_var = adv_std ** 2\n",
        "aud_var = aud_std ** 2\n",
        "\n",
        "sample_diff_std = sqrt((adv_var/len(adv_mang)) + (aud_var/len(aud_mang)))\n",
        "\n",
        "sample_mean_diff_dist = stats.norm(loc = popultation_mean_diff, scale = sample_diff_std)                     "
      ],
      "execution_count": 0,
      "outputs": []
    },
    {
      "cell_type": "code",
      "metadata": {
        "id": "xf0pwlq-2_Ct",
        "colab_type": "code",
        "colab": {}
      },
      "source": [
        "lower_p = sample_mean_diff_dist.cdf(sample_mean_diff)\n",
        "upper_p = sample_mean_diff_dist.sf(sample_mean_diff)"
      ],
      "execution_count": 0,
      "outputs": []
    },
    {
      "cell_type": "code",
      "metadata": {
        "id": "7n23SCZE4OOy",
        "colab_type": "code",
        "outputId": "7ee73d15-f0c4-4c90-b195-8ba372291905",
        "colab": {
          "base_uri": "https://localhost:8080/",
          "height": 35
        }
      },
      "source": [
        "if (lower_p < alpha/2) and (upper_p > alpha/2) :\n",
        "  print('Failed to Reject Null')\n",
        "else:\n",
        "  print('Reject Null')\n"
      ],
      "execution_count": 0,
      "outputs": [
        {
          "output_type": "stream",
          "text": [
            "Reject Null\n"
          ],
          "name": "stdout"
        }
      ]
    },
    {
      "cell_type": "markdown",
      "metadata": {
        "id": "CWF4HzxCX-a3",
        "colab_type": "text"
      },
      "source": [
        "### Problem\n",
        "New\n",
        "employees are expected to attend a three-day seminar to learn about the company. At the end\n",
        "of the seminar, they are tested to measure their knowledge about the company. The traditional\n",
        "training method has been lecture and a question-and-answer session.Management decided to\n",
        "experiment with a different training procedure, which processes new employees in two days by\n",
        "using DVDs and having no question-and-answer session. If this procedure works, it could save the company thousands of dollars over a period of several years. However, there is some concern\n",
        "about the effectiveness of the two-day method, and company managers would like to\n",
        "know whether there is any difference in the effectiveness of the two training methods.\n",
        "To test the difference in the two methods, the managers randomly select one group of\n",
        "15 newly hired employees to take the three-day seminar (method A) and a second group of\n",
        "12 new employees for the two-day DVD method (method B)."
      ]
    },
    {
      "cell_type": "code",
      "metadata": {
        "id": "jgSFImNu5T0Y",
        "colab_type": "code",
        "colab": {}
      },
      "source": [
        "method_a = [56,50,52,44,52,47,47,53,45,48,42,51,42,43,44]\n",
        "method_b = [59,54,55,65,52,57,64,53,53,56,53,57]\n",
        "alpha = 0.5"
      ],
      "execution_count": 0,
      "outputs": []
    },
    {
      "cell_type": "code",
      "metadata": {
        "id": "oUkKjXdwiPWq",
        "colab_type": "code",
        "outputId": "6c42c1be-9114-4179-ada8-2a69bc7d7353",
        "colab": {
          "base_uri": "https://localhost:8080/",
          "height": 54
        }
      },
      "source": [
        "print(len(method_a))\n",
        "print(len(method_b))"
      ],
      "execution_count": 0,
      "outputs": [
        {
          "output_type": "stream",
          "text": [
            "15\n",
            "12\n"
          ],
          "name": "stdout"
        }
      ]
    },
    {
      "cell_type": "code",
      "metadata": {
        "id": "hLI6JJfQYouR",
        "colab_type": "code",
        "colab": {}
      },
      "source": [
        "# Assume that differences in mean are normally distributed in the population.\n",
        "tstat, pval = ztest(method_a,method_b)"
      ],
      "execution_count": 0,
      "outputs": []
    },
    {
      "cell_type": "markdown",
      "metadata": {
        "id": "7ETJZXQFiUUd",
        "colab_type": "text"
      },
      "source": [
        "Sample Size n < 30\n",
        "</br>Population Std is not known<br>\n",
        "Assuming Population is normally distributed, t-stats can be used for hypothesis testing\n",
        "#### Hypothesis Formulation\n",
        "Null : Difference between both population mean is 0 (They are equal)\n",
        "</br>alternate : Difference between both population mean is 0 (They are not equal)"
      ]
    },
    {
      "cell_type": "code",
      "metadata": {
        "id": "KvGjTaUPcFUs",
        "colab_type": "code",
        "outputId": "6d0a0daa-b896-4fcd-8c0b-d95d91db78be",
        "colab": {
          "base_uri": "https://localhost:8080/",
          "height": 35
        }
      },
      "source": [
        "if pval < alpha:\n",
        "  print('Reject Null')\n",
        "else:\n",
        "  print('Fail to Reject Null')"
      ],
      "execution_count": 0,
      "outputs": [
        {
          "output_type": "stream",
          "text": [
            "Reject Null\n"
          ],
          "name": "stdout"
        }
      ]
    },
    {
      "cell_type": "markdown",
      "metadata": {
        "id": "Is0Rp296iEtK",
        "colab_type": "text"
      },
      "source": [
        "### Problem\n",
        "Suppose a stock market investor is interested in determining whether there is a significant\n",
        "difference in the P/E (price to earnings) ratio for companies from one year to the next.Assume\n",
        "that differences in P/E ratios are normally distributed in the population.\n"
      ]
    },
    {
      "cell_type": "code",
      "metadata": {
        "id": "hglf0H8xdR7n",
        "colab_type": "code",
        "colab": {}
      },
      "source": [
        "year_1 = [8.9,38.1,43.0,34.0,34.5,15.2,20.3,19.9,61.9]\n",
        "year_2 = [12.7,45.4,10.0,27.2,22.8,24.1,32.3,40.1,106.5]\n",
        "alpha = 0.01"
      ],
      "execution_count": 0,
      "outputs": []
    },
    {
      "cell_type": "markdown",
      "metadata": {
        "id": "kWHVT5ZsjQvn",
        "colab_type": "text"
      },
      "source": [
        "Dependent Sample<br>\n",
        "Population Normally distributed<br>\n",
        "t-test will be used to test the Hypothesis\n",
        "\n",
        "### Hypothesis Formulation\n",
        "Null : Difference between year 1 and year 2 PE is 0 (No difference)\n",
        "</br> Alternate : Difference between year 1 and year 2 PE is not 0 (difference exists)\n"
      ]
    },
    {
      "cell_type": "code",
      "metadata": {
        "id": "a_NqFRHakMcq",
        "colab_type": "code",
        "colab": {}
      },
      "source": [
        "tstat, pval = stats.ttest_rel(year_1,year_2)"
      ],
      "execution_count": 0,
      "outputs": []
    },
    {
      "cell_type": "code",
      "metadata": {
        "id": "Hp54tSA1kxr9",
        "colab_type": "code",
        "outputId": "35cc50f5-b5f4-43b3-83a6-8682a5a66490",
        "colab": {
          "base_uri": "https://localhost:8080/",
          "height": 35
        }
      },
      "source": [
        "if pval < alpha:\n",
        "  print('Reject Null')\n",
        "else:\n",
        "  print('Fail to Reject Null')\n",
        "  "
      ],
      "execution_count": 0,
      "outputs": [
        {
          "output_type": "stream",
          "text": [
            "Fail to Reject Null\n"
          ],
          "name": "stdout"
        }
      ]
    },
    {
      "cell_type": "markdown",
      "metadata": {
        "id": "iDcSFniwlaFo",
        "colab_type": "text"
      },
      "source": [
        "**There is not enough evidence from the data to declare a significant difference\n",
        "in the average P/E ratio between year 1 and year 2.**"
      ]
    },
    {
      "cell_type": "markdown",
      "metadata": {
        "id": "L5-8AB4RmvtX",
        "colab_type": "text"
      },
      "source": [
        "### Problem\n",
        "The sale of new houses apparently fluctuates seasonally. Superimposed on the seasonality\n",
        "are economic and business cycles that also influence the sale of new houses. In certain\n",
        "parts of the country, new-house sales increase in the spring and early summer and drop off\n",
        "in the fall. Suppose a national real estate association wants to estimate the average difference\n",
        "in the number of new-house sales per company in Indianapolis between 2008 and\n",
        "2009.To do so, the association randomly selects 18 real estate firms in the Indianapolis area\n",
        "and obtains their new-house sales figures for May 2008 and May 2009.Using these data, the association’s analyst estimates\n",
        "the average difference in the number of sales per real estate company in Indianapolis\n",
        "for May 2008 and May 2009 and constructs a 99% confidence interval. The analyst assumes\n",
        "that differences in sales are normally distributed in the population."
      ]
    },
    {
      "cell_type": "code",
      "metadata": {
        "id": "X6pY5b2Bmu21",
        "colab_type": "code",
        "colab": {}
      },
      "source": [
        "may_08 = [8,19,5,9,3,0,13,11,9,5,8,2,11,14,7,12,6,10]\n",
        "may_09 = [11,30,6,13,5,4,15,17,12,12,6,5,10,22,8,15,12,10]"
      ],
      "execution_count": 0,
      "outputs": []
    },
    {
      "cell_type": "markdown",
      "metadata": {
        "id": "gqzqSf6J3SE3",
        "colab_type": "text"
      },
      "source": [
        "Dependent Sample<br>\n",
        "Population Normally distributed<br>\n",
        "t-distribution will be used to construct confidence interval\n",
        "\n"
      ]
    },
    {
      "cell_type": "code",
      "metadata": {
        "id": "j-u7KUkvGUmc",
        "colab_type": "code",
        "outputId": "b9aec521-862f-4e9b-84b2-4f3df9388e46",
        "colab": {
          "base_uri": "https://localhost:8080/",
          "height": 35
        }
      },
      "source": [
        "diff = sms.DescrStatsW(np.array(may_08)-np.array(may_09))\n",
        "interval = diff.tconfint_mean(alpha=0.01)\n",
        "interval"
      ],
      "execution_count": 0,
      "outputs": [
        {
          "output_type": "execute_result",
          "data": {
            "text/plain": [
              "(-5.6257502868077385, -1.1520274909700388)"
            ]
          },
          "metadata": {
            "tags": []
          },
          "execution_count": 15
        }
      ]
    },
    {
      "cell_type": "code",
      "metadata": {
        "id": "0HMDnyjqFhcO",
        "colab_type": "code",
        "outputId": "f6c475e8-fa34-4e14-b3a3-c98d8fc45d7b",
        "colab": {
          "base_uri": "https://localhost:8080/",
          "height": 35
        }
      },
      "source": [
        "tstat, pval, df = diff.ttest_mean()\n",
        "tstat,pval,df"
      ],
      "execution_count": 0,
      "outputs": [
        {
          "output_type": "execute_result",
          "data": {
            "text/plain": [
              "(-4.390876079567038, 0.0003989199083474742, 17.0)"
            ]
          },
          "metadata": {
            "tags": []
          },
          "execution_count": 16
        }
      ]
    },
    {
      "cell_type": "code",
      "metadata": {
        "id": "0sVk419wHWCU",
        "colab_type": "code",
        "colab": {}
      },
      "source": [
        ""
      ],
      "execution_count": 0,
      "outputs": []
    }
  ]
}
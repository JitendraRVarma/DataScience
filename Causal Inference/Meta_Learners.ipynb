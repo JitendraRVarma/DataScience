{
  "nbformat": 4,
  "nbformat_minor": 0,
  "metadata": {
    "colab": {
      "provenance": []
    },
    "kernelspec": {
      "name": "python3",
      "display_name": "Python 3"
    },
    "language_info": {
      "name": "python"
    }
  },
  "cells": [
    {
      "cell_type": "code",
      "execution_count": 2,
      "metadata": {
        "id": "NTJZnmzg9v7G"
      },
      "outputs": [],
      "source": [
        "# !pip install dask[dataframe]\n",
        "# !sudo apt-get install graphviz graphviz-dev\n",
        "# !sudo apt-get install build-essential\n",
        "# !pip install pygraphviz\n",
        "# !pip install dowhy==0.8\n",
        "# !pip install econml"
      ]
    },
    {
      "cell_type": "code",
      "source": [
        "from copy import deepcopy\n",
        "\n",
        "import numpy as np\n",
        "import pandas as pd\n",
        "from scipy import stats\n",
        "\n",
        "from sklearn.metrics import mean_absolute_percentage_error\n",
        "\n",
        "import dowhy\n",
        "from dowhy import CausalModel\n",
        "\n",
        "from sklearn.linear_model import LinearRegression, LogisticRegression, LassoCV\n",
        "from sklearn.ensemble import RandomForestRegressor, GradientBoostingRegressor\n",
        "\n",
        "from lightgbm import LGBMRegressor, LGBMClassifier\n",
        "\n",
        "import networkx as nx\n",
        "\n",
        "from tqdm import tqdm\n",
        "\n",
        "import matplotlib.pyplot as plt\n",
        "\n",
        "import graphviz\n",
        "import warnings\n",
        "\n",
        "warnings.filterwarnings(\"ignore\")\n",
        "plt.style.use('fivethirtyeight')"
      ],
      "metadata": {
        "colab": {
          "base_uri": "https://localhost:8080/"
        },
        "id": "-r01UYZG9zdJ",
        "outputId": "7a46dfda-75dc-42fa-fdb5-497ea08bcb80"
      },
      "execution_count": 3,
      "outputs": [
        {
          "output_type": "stream",
          "name": "stderr",
          "text": [
            "/usr/local/lib/python3.10/dist-packages/dask/dataframe/__init__.py:42: FutureWarning: \n",
            "Dask dataframe query planning is disabled because dask-expr is not installed.\n",
            "\n",
            "You can install it with `pip install dask[dataframe]` or `conda install dask`.\n",
            "This will raise in a future version.\n",
            "\n",
            "  warnings.warn(msg, FutureWarning)\n"
          ]
        }
      ]
    },
    {
      "cell_type": "code",
      "source": [
        "COLORS = [\n",
        "    '#00B0F0',\n",
        "    '#FF0000',\n",
        "    '#B0F000'\n",
        "]\n",
        "def plot_effect(effect_true, effect_pred, figsize=(10, 7), ylim=(5000, 22000)):\n",
        "    plt.figure(figsize=figsize)\n",
        "    plt.scatter(effect_true, effect_pred, color=COLORS[0])\n",
        "    plt.plot(np.sort(effect_true), np.sort(effect_true), color=COLORS[1], alpha=.7, label='Perfect model')\n",
        "    plt.xlabel('$True\\ effect$', fontsize=14, alpha=.5)\n",
        "    plt.ylabel('$Predicted\\ effect$', fontsize=14, alpha=.5)\n",
        "    plt.ylim(ylim[0], ylim[1])\n",
        "    plt.legend()\n",
        "    plt.show()"
      ],
      "metadata": {
        "id": "YGwym7yw-j9O"
      },
      "execution_count": 4,
      "outputs": []
    },
    {
      "cell_type": "markdown",
      "source": [
        "# Read Data"
      ],
      "metadata": {
        "id": "BLWN2EOS-Zqh"
      }
    },
    {
      "cell_type": "code",
      "source": [
        "# Train set\n",
        "earnings_interaction_train = pd.read_csv('./data/ml_earnings_interaction_train.csv')\n",
        "\n",
        "# Test set\n",
        "earnings_interaction_test = pd.read_csv('./data/ml_earnings_interaction_test.csv')"
      ],
      "metadata": {
        "id": "3lKZfNno91a8"
      },
      "execution_count": 5,
      "outputs": []
    },
    {
      "cell_type": "code",
      "source": [
        "earnings_interaction_train.shape, earnings_interaction_test.shape"
      ],
      "metadata": {
        "colab": {
          "base_uri": "https://localhost:8080/",
          "height": 37
        },
        "id": "Ty6m2V94-gBI",
        "outputId": "176a3e42-d214-4a4d-d692-02723feb4310"
      },
      "execution_count": 6,
      "outputs": [
        {
          "output_type": "execute_result",
          "data": {
            "text/plain": [
              "((5000, 4), (100, 4))"
            ],
            "text/latex": "$\\displaystyle \\left( \\left( 5000, \\  4\\right), \\  \\left( 100, \\  4\\right)\\right)$"
          },
          "metadata": {},
          "execution_count": 6
        }
      ]
    },
    {
      "cell_type": "code",
      "source": [
        "# Train\n",
        "earnings_interaction_train.head()"
      ],
      "metadata": {
        "colab": {
          "base_uri": "https://localhost:8080/",
          "height": 206
        },
        "id": "4ACoLKlZ-m2A",
        "outputId": "43e1bfcd-a3a0-409e-849c-6fa826a67ca3"
      },
      "execution_count": 7,
      "outputs": [
        {
          "output_type": "execute_result",
          "data": {
            "text/plain": [
              "   age  python_proficiency  took_a_course  earnings\n",
              "0   23            0.632318           True  139267.0\n",
              "1   20            0.602551          False  115569.0\n",
              "2   21            0.518225          False  119142.0\n",
              "3   25            0.945161          False  130291.0\n",
              "4   30            0.636251           True  164209.0"
            ],
            "text/html": [
              "\n",
              "  <div id=\"df-005722bd-a13d-498e-976f-12215dfeb9e3\" class=\"colab-df-container\">\n",
              "    <div>\n",
              "<style scoped>\n",
              "    .dataframe tbody tr th:only-of-type {\n",
              "        vertical-align: middle;\n",
              "    }\n",
              "\n",
              "    .dataframe tbody tr th {\n",
              "        vertical-align: top;\n",
              "    }\n",
              "\n",
              "    .dataframe thead th {\n",
              "        text-align: right;\n",
              "    }\n",
              "</style>\n",
              "<table border=\"1\" class=\"dataframe\">\n",
              "  <thead>\n",
              "    <tr style=\"text-align: right;\">\n",
              "      <th></th>\n",
              "      <th>age</th>\n",
              "      <th>python_proficiency</th>\n",
              "      <th>took_a_course</th>\n",
              "      <th>earnings</th>\n",
              "    </tr>\n",
              "  </thead>\n",
              "  <tbody>\n",
              "    <tr>\n",
              "      <th>0</th>\n",
              "      <td>23</td>\n",
              "      <td>0.632318</td>\n",
              "      <td>True</td>\n",
              "      <td>139267.0</td>\n",
              "    </tr>\n",
              "    <tr>\n",
              "      <th>1</th>\n",
              "      <td>20</td>\n",
              "      <td>0.602551</td>\n",
              "      <td>False</td>\n",
              "      <td>115569.0</td>\n",
              "    </tr>\n",
              "    <tr>\n",
              "      <th>2</th>\n",
              "      <td>21</td>\n",
              "      <td>0.518225</td>\n",
              "      <td>False</td>\n",
              "      <td>119142.0</td>\n",
              "    </tr>\n",
              "    <tr>\n",
              "      <th>3</th>\n",
              "      <td>25</td>\n",
              "      <td>0.945161</td>\n",
              "      <td>False</td>\n",
              "      <td>130291.0</td>\n",
              "    </tr>\n",
              "    <tr>\n",
              "      <th>4</th>\n",
              "      <td>30</td>\n",
              "      <td>0.636251</td>\n",
              "      <td>True</td>\n",
              "      <td>164209.0</td>\n",
              "    </tr>\n",
              "  </tbody>\n",
              "</table>\n",
              "</div>\n",
              "    <div class=\"colab-df-buttons\">\n",
              "\n",
              "  <div class=\"colab-df-container\">\n",
              "    <button class=\"colab-df-convert\" onclick=\"convertToInteractive('df-005722bd-a13d-498e-976f-12215dfeb9e3')\"\n",
              "            title=\"Convert this dataframe to an interactive table.\"\n",
              "            style=\"display:none;\">\n",
              "\n",
              "  <svg xmlns=\"http://www.w3.org/2000/svg\" height=\"24px\" viewBox=\"0 -960 960 960\">\n",
              "    <path d=\"M120-120v-720h720v720H120Zm60-500h600v-160H180v160Zm220 220h160v-160H400v160Zm0 220h160v-160H400v160ZM180-400h160v-160H180v160Zm440 0h160v-160H620v160ZM180-180h160v-160H180v160Zm440 0h160v-160H620v160Z\"/>\n",
              "  </svg>\n",
              "    </button>\n",
              "\n",
              "  <style>\n",
              "    .colab-df-container {\n",
              "      display:flex;\n",
              "      gap: 12px;\n",
              "    }\n",
              "\n",
              "    .colab-df-convert {\n",
              "      background-color: #E8F0FE;\n",
              "      border: none;\n",
              "      border-radius: 50%;\n",
              "      cursor: pointer;\n",
              "      display: none;\n",
              "      fill: #1967D2;\n",
              "      height: 32px;\n",
              "      padding: 0 0 0 0;\n",
              "      width: 32px;\n",
              "    }\n",
              "\n",
              "    .colab-df-convert:hover {\n",
              "      background-color: #E2EBFA;\n",
              "      box-shadow: 0px 1px 2px rgba(60, 64, 67, 0.3), 0px 1px 3px 1px rgba(60, 64, 67, 0.15);\n",
              "      fill: #174EA6;\n",
              "    }\n",
              "\n",
              "    .colab-df-buttons div {\n",
              "      margin-bottom: 4px;\n",
              "    }\n",
              "\n",
              "    [theme=dark] .colab-df-convert {\n",
              "      background-color: #3B4455;\n",
              "      fill: #D2E3FC;\n",
              "    }\n",
              "\n",
              "    [theme=dark] .colab-df-convert:hover {\n",
              "      background-color: #434B5C;\n",
              "      box-shadow: 0px 1px 3px 1px rgba(0, 0, 0, 0.15);\n",
              "      filter: drop-shadow(0px 1px 2px rgba(0, 0, 0, 0.3));\n",
              "      fill: #FFFFFF;\n",
              "    }\n",
              "  </style>\n",
              "\n",
              "    <script>\n",
              "      const buttonEl =\n",
              "        document.querySelector('#df-005722bd-a13d-498e-976f-12215dfeb9e3 button.colab-df-convert');\n",
              "      buttonEl.style.display =\n",
              "        google.colab.kernel.accessAllowed ? 'block' : 'none';\n",
              "\n",
              "      async function convertToInteractive(key) {\n",
              "        const element = document.querySelector('#df-005722bd-a13d-498e-976f-12215dfeb9e3');\n",
              "        const dataTable =\n",
              "          await google.colab.kernel.invokeFunction('convertToInteractive',\n",
              "                                                    [key], {});\n",
              "        if (!dataTable) return;\n",
              "\n",
              "        const docLinkHtml = 'Like what you see? Visit the ' +\n",
              "          '<a target=\"_blank\" href=https://colab.research.google.com/notebooks/data_table.ipynb>data table notebook</a>'\n",
              "          + ' to learn more about interactive tables.';\n",
              "        element.innerHTML = '';\n",
              "        dataTable['output_type'] = 'display_data';\n",
              "        await google.colab.output.renderOutput(dataTable, element);\n",
              "        const docLink = document.createElement('div');\n",
              "        docLink.innerHTML = docLinkHtml;\n",
              "        element.appendChild(docLink);\n",
              "      }\n",
              "    </script>\n",
              "  </div>\n",
              "\n",
              "\n",
              "<div id=\"df-1c4a2532-1fac-4bac-8307-ce126247f670\">\n",
              "  <button class=\"colab-df-quickchart\" onclick=\"quickchart('df-1c4a2532-1fac-4bac-8307-ce126247f670')\"\n",
              "            title=\"Suggest charts\"\n",
              "            style=\"display:none;\">\n",
              "\n",
              "<svg xmlns=\"http://www.w3.org/2000/svg\" height=\"24px\"viewBox=\"0 0 24 24\"\n",
              "     width=\"24px\">\n",
              "    <g>\n",
              "        <path d=\"M19 3H5c-1.1 0-2 .9-2 2v14c0 1.1.9 2 2 2h14c1.1 0 2-.9 2-2V5c0-1.1-.9-2-2-2zM9 17H7v-7h2v7zm4 0h-2V7h2v10zm4 0h-2v-4h2v4z\"/>\n",
              "    </g>\n",
              "</svg>\n",
              "  </button>\n",
              "\n",
              "<style>\n",
              "  .colab-df-quickchart {\n",
              "      --bg-color: #E8F0FE;\n",
              "      --fill-color: #1967D2;\n",
              "      --hover-bg-color: #E2EBFA;\n",
              "      --hover-fill-color: #174EA6;\n",
              "      --disabled-fill-color: #AAA;\n",
              "      --disabled-bg-color: #DDD;\n",
              "  }\n",
              "\n",
              "  [theme=dark] .colab-df-quickchart {\n",
              "      --bg-color: #3B4455;\n",
              "      --fill-color: #D2E3FC;\n",
              "      --hover-bg-color: #434B5C;\n",
              "      --hover-fill-color: #FFFFFF;\n",
              "      --disabled-bg-color: #3B4455;\n",
              "      --disabled-fill-color: #666;\n",
              "  }\n",
              "\n",
              "  .colab-df-quickchart {\n",
              "    background-color: var(--bg-color);\n",
              "    border: none;\n",
              "    border-radius: 50%;\n",
              "    cursor: pointer;\n",
              "    display: none;\n",
              "    fill: var(--fill-color);\n",
              "    height: 32px;\n",
              "    padding: 0;\n",
              "    width: 32px;\n",
              "  }\n",
              "\n",
              "  .colab-df-quickchart:hover {\n",
              "    background-color: var(--hover-bg-color);\n",
              "    box-shadow: 0 1px 2px rgba(60, 64, 67, 0.3), 0 1px 3px 1px rgba(60, 64, 67, 0.15);\n",
              "    fill: var(--button-hover-fill-color);\n",
              "  }\n",
              "\n",
              "  .colab-df-quickchart-complete:disabled,\n",
              "  .colab-df-quickchart-complete:disabled:hover {\n",
              "    background-color: var(--disabled-bg-color);\n",
              "    fill: var(--disabled-fill-color);\n",
              "    box-shadow: none;\n",
              "  }\n",
              "\n",
              "  .colab-df-spinner {\n",
              "    border: 2px solid var(--fill-color);\n",
              "    border-color: transparent;\n",
              "    border-bottom-color: var(--fill-color);\n",
              "    animation:\n",
              "      spin 1s steps(1) infinite;\n",
              "  }\n",
              "\n",
              "  @keyframes spin {\n",
              "    0% {\n",
              "      border-color: transparent;\n",
              "      border-bottom-color: var(--fill-color);\n",
              "      border-left-color: var(--fill-color);\n",
              "    }\n",
              "    20% {\n",
              "      border-color: transparent;\n",
              "      border-left-color: var(--fill-color);\n",
              "      border-top-color: var(--fill-color);\n",
              "    }\n",
              "    30% {\n",
              "      border-color: transparent;\n",
              "      border-left-color: var(--fill-color);\n",
              "      border-top-color: var(--fill-color);\n",
              "      border-right-color: var(--fill-color);\n",
              "    }\n",
              "    40% {\n",
              "      border-color: transparent;\n",
              "      border-right-color: var(--fill-color);\n",
              "      border-top-color: var(--fill-color);\n",
              "    }\n",
              "    60% {\n",
              "      border-color: transparent;\n",
              "      border-right-color: var(--fill-color);\n",
              "    }\n",
              "    80% {\n",
              "      border-color: transparent;\n",
              "      border-right-color: var(--fill-color);\n",
              "      border-bottom-color: var(--fill-color);\n",
              "    }\n",
              "    90% {\n",
              "      border-color: transparent;\n",
              "      border-bottom-color: var(--fill-color);\n",
              "    }\n",
              "  }\n",
              "</style>\n",
              "\n",
              "  <script>\n",
              "    async function quickchart(key) {\n",
              "      const quickchartButtonEl =\n",
              "        document.querySelector('#' + key + ' button');\n",
              "      quickchartButtonEl.disabled = true;  // To prevent multiple clicks.\n",
              "      quickchartButtonEl.classList.add('colab-df-spinner');\n",
              "      try {\n",
              "        const charts = await google.colab.kernel.invokeFunction(\n",
              "            'suggestCharts', [key], {});\n",
              "      } catch (error) {\n",
              "        console.error('Error during call to suggestCharts:', error);\n",
              "      }\n",
              "      quickchartButtonEl.classList.remove('colab-df-spinner');\n",
              "      quickchartButtonEl.classList.add('colab-df-quickchart-complete');\n",
              "    }\n",
              "    (() => {\n",
              "      let quickchartButtonEl =\n",
              "        document.querySelector('#df-1c4a2532-1fac-4bac-8307-ce126247f670 button');\n",
              "      quickchartButtonEl.style.display =\n",
              "        google.colab.kernel.accessAllowed ? 'block' : 'none';\n",
              "    })();\n",
              "  </script>\n",
              "</div>\n",
              "\n",
              "    </div>\n",
              "  </div>\n"
            ],
            "application/vnd.google.colaboratory.intrinsic+json": {
              "type": "dataframe",
              "variable_name": "earnings_interaction_train",
              "summary": "{\n  \"name\": \"earnings_interaction_train\",\n  \"rows\": 5000,\n  \"fields\": [\n    {\n      \"column\": \"age\",\n      \"properties\": {\n        \"dtype\": \"number\",\n        \"std\": 5,\n        \"min\": 19,\n        \"max\": 50,\n        \"num_unique_values\": 32,\n        \"samples\": [\n          44,\n          31,\n          42\n        ],\n        \"semantic_type\": \"\",\n        \"description\": \"\"\n      }\n    },\n    {\n      \"column\": \"python_proficiency\",\n      \"properties\": {\n        \"dtype\": \"number\",\n        \"std\": 0.28924344715691797,\n        \"min\": 6.88941814400712e-05,\n        \"max\": 0.9999462678591108,\n        \"num_unique_values\": 5000,\n        \"samples\": [\n          0.5691814336294712,\n          0.1318346335714739,\n          0.8807422991433574\n        ],\n        \"semantic_type\": \"\",\n        \"description\": \"\"\n      }\n    },\n    {\n      \"column\": \"took_a_course\",\n      \"properties\": {\n        \"dtype\": \"boolean\",\n        \"num_unique_values\": 2,\n        \"samples\": [\n          false,\n          true\n        ],\n        \"semantic_type\": \"\",\n        \"description\": \"\"\n      }\n    },\n    {\n      \"column\": \"earnings\",\n      \"properties\": {\n        \"dtype\": \"number\",\n        \"std\": 23643.29223347687,\n        \"min\": 106755.0,\n        \"max\": 265414.0,\n        \"num_unique_values\": 4825,\n        \"samples\": [\n          142279.0,\n          134373.0\n        ],\n        \"semantic_type\": \"\",\n        \"description\": \"\"\n      }\n    }\n  ]\n}"
            }
          },
          "metadata": {},
          "execution_count": 7
        }
      ]
    },
    {
      "cell_type": "code",
      "source": [
        "# Test\n",
        "earnings_interaction_test.head()"
      ],
      "metadata": {
        "colab": {
          "base_uri": "https://localhost:8080/",
          "height": 206
        },
        "id": "ZwpO7VTX-pF5",
        "outputId": "826239ab-87db-4eb4-902c-18a311e75969"
      },
      "execution_count": 8,
      "outputs": [
        {
          "output_type": "execute_result",
          "data": {
            "text/plain": [
              "   age  python_proficiency  took_a_course  true_effect\n",
              "0   30            0.223877           True      11120.0\n",
              "1   23            0.394152           True      11970.0\n",
              "2   37            0.214638           True      11073.0\n",
              "3   21            0.869069           True      14345.0\n",
              "4   41            0.833934           True      14169.0"
            ],
            "text/html": [
              "\n",
              "  <div id=\"df-a031f89d-a4f4-4acf-9884-9843e9827778\" class=\"colab-df-container\">\n",
              "    <div>\n",
              "<style scoped>\n",
              "    .dataframe tbody tr th:only-of-type {\n",
              "        vertical-align: middle;\n",
              "    }\n",
              "\n",
              "    .dataframe tbody tr th {\n",
              "        vertical-align: top;\n",
              "    }\n",
              "\n",
              "    .dataframe thead th {\n",
              "        text-align: right;\n",
              "    }\n",
              "</style>\n",
              "<table border=\"1\" class=\"dataframe\">\n",
              "  <thead>\n",
              "    <tr style=\"text-align: right;\">\n",
              "      <th></th>\n",
              "      <th>age</th>\n",
              "      <th>python_proficiency</th>\n",
              "      <th>took_a_course</th>\n",
              "      <th>true_effect</th>\n",
              "    </tr>\n",
              "  </thead>\n",
              "  <tbody>\n",
              "    <tr>\n",
              "      <th>0</th>\n",
              "      <td>30</td>\n",
              "      <td>0.223877</td>\n",
              "      <td>True</td>\n",
              "      <td>11120.0</td>\n",
              "    </tr>\n",
              "    <tr>\n",
              "      <th>1</th>\n",
              "      <td>23</td>\n",
              "      <td>0.394152</td>\n",
              "      <td>True</td>\n",
              "      <td>11970.0</td>\n",
              "    </tr>\n",
              "    <tr>\n",
              "      <th>2</th>\n",
              "      <td>37</td>\n",
              "      <td>0.214638</td>\n",
              "      <td>True</td>\n",
              "      <td>11073.0</td>\n",
              "    </tr>\n",
              "    <tr>\n",
              "      <th>3</th>\n",
              "      <td>21</td>\n",
              "      <td>0.869069</td>\n",
              "      <td>True</td>\n",
              "      <td>14345.0</td>\n",
              "    </tr>\n",
              "    <tr>\n",
              "      <th>4</th>\n",
              "      <td>41</td>\n",
              "      <td>0.833934</td>\n",
              "      <td>True</td>\n",
              "      <td>14169.0</td>\n",
              "    </tr>\n",
              "  </tbody>\n",
              "</table>\n",
              "</div>\n",
              "    <div class=\"colab-df-buttons\">\n",
              "\n",
              "  <div class=\"colab-df-container\">\n",
              "    <button class=\"colab-df-convert\" onclick=\"convertToInteractive('df-a031f89d-a4f4-4acf-9884-9843e9827778')\"\n",
              "            title=\"Convert this dataframe to an interactive table.\"\n",
              "            style=\"display:none;\">\n",
              "\n",
              "  <svg xmlns=\"http://www.w3.org/2000/svg\" height=\"24px\" viewBox=\"0 -960 960 960\">\n",
              "    <path d=\"M120-120v-720h720v720H120Zm60-500h600v-160H180v160Zm220 220h160v-160H400v160Zm0 220h160v-160H400v160ZM180-400h160v-160H180v160Zm440 0h160v-160H620v160ZM180-180h160v-160H180v160Zm440 0h160v-160H620v160Z\"/>\n",
              "  </svg>\n",
              "    </button>\n",
              "\n",
              "  <style>\n",
              "    .colab-df-container {\n",
              "      display:flex;\n",
              "      gap: 12px;\n",
              "    }\n",
              "\n",
              "    .colab-df-convert {\n",
              "      background-color: #E8F0FE;\n",
              "      border: none;\n",
              "      border-radius: 50%;\n",
              "      cursor: pointer;\n",
              "      display: none;\n",
              "      fill: #1967D2;\n",
              "      height: 32px;\n",
              "      padding: 0 0 0 0;\n",
              "      width: 32px;\n",
              "    }\n",
              "\n",
              "    .colab-df-convert:hover {\n",
              "      background-color: #E2EBFA;\n",
              "      box-shadow: 0px 1px 2px rgba(60, 64, 67, 0.3), 0px 1px 3px 1px rgba(60, 64, 67, 0.15);\n",
              "      fill: #174EA6;\n",
              "    }\n",
              "\n",
              "    .colab-df-buttons div {\n",
              "      margin-bottom: 4px;\n",
              "    }\n",
              "\n",
              "    [theme=dark] .colab-df-convert {\n",
              "      background-color: #3B4455;\n",
              "      fill: #D2E3FC;\n",
              "    }\n",
              "\n",
              "    [theme=dark] .colab-df-convert:hover {\n",
              "      background-color: #434B5C;\n",
              "      box-shadow: 0px 1px 3px 1px rgba(0, 0, 0, 0.15);\n",
              "      filter: drop-shadow(0px 1px 2px rgba(0, 0, 0, 0.3));\n",
              "      fill: #FFFFFF;\n",
              "    }\n",
              "  </style>\n",
              "\n",
              "    <script>\n",
              "      const buttonEl =\n",
              "        document.querySelector('#df-a031f89d-a4f4-4acf-9884-9843e9827778 button.colab-df-convert');\n",
              "      buttonEl.style.display =\n",
              "        google.colab.kernel.accessAllowed ? 'block' : 'none';\n",
              "\n",
              "      async function convertToInteractive(key) {\n",
              "        const element = document.querySelector('#df-a031f89d-a4f4-4acf-9884-9843e9827778');\n",
              "        const dataTable =\n",
              "          await google.colab.kernel.invokeFunction('convertToInteractive',\n",
              "                                                    [key], {});\n",
              "        if (!dataTable) return;\n",
              "\n",
              "        const docLinkHtml = 'Like what you see? Visit the ' +\n",
              "          '<a target=\"_blank\" href=https://colab.research.google.com/notebooks/data_table.ipynb>data table notebook</a>'\n",
              "          + ' to learn more about interactive tables.';\n",
              "        element.innerHTML = '';\n",
              "        dataTable['output_type'] = 'display_data';\n",
              "        await google.colab.output.renderOutput(dataTable, element);\n",
              "        const docLink = document.createElement('div');\n",
              "        docLink.innerHTML = docLinkHtml;\n",
              "        element.appendChild(docLink);\n",
              "      }\n",
              "    </script>\n",
              "  </div>\n",
              "\n",
              "\n",
              "<div id=\"df-e326edf7-4799-4417-b7c9-940e2d81f4c8\">\n",
              "  <button class=\"colab-df-quickchart\" onclick=\"quickchart('df-e326edf7-4799-4417-b7c9-940e2d81f4c8')\"\n",
              "            title=\"Suggest charts\"\n",
              "            style=\"display:none;\">\n",
              "\n",
              "<svg xmlns=\"http://www.w3.org/2000/svg\" height=\"24px\"viewBox=\"0 0 24 24\"\n",
              "     width=\"24px\">\n",
              "    <g>\n",
              "        <path d=\"M19 3H5c-1.1 0-2 .9-2 2v14c0 1.1.9 2 2 2h14c1.1 0 2-.9 2-2V5c0-1.1-.9-2-2-2zM9 17H7v-7h2v7zm4 0h-2V7h2v10zm4 0h-2v-4h2v4z\"/>\n",
              "    </g>\n",
              "</svg>\n",
              "  </button>\n",
              "\n",
              "<style>\n",
              "  .colab-df-quickchart {\n",
              "      --bg-color: #E8F0FE;\n",
              "      --fill-color: #1967D2;\n",
              "      --hover-bg-color: #E2EBFA;\n",
              "      --hover-fill-color: #174EA6;\n",
              "      --disabled-fill-color: #AAA;\n",
              "      --disabled-bg-color: #DDD;\n",
              "  }\n",
              "\n",
              "  [theme=dark] .colab-df-quickchart {\n",
              "      --bg-color: #3B4455;\n",
              "      --fill-color: #D2E3FC;\n",
              "      --hover-bg-color: #434B5C;\n",
              "      --hover-fill-color: #FFFFFF;\n",
              "      --disabled-bg-color: #3B4455;\n",
              "      --disabled-fill-color: #666;\n",
              "  }\n",
              "\n",
              "  .colab-df-quickchart {\n",
              "    background-color: var(--bg-color);\n",
              "    border: none;\n",
              "    border-radius: 50%;\n",
              "    cursor: pointer;\n",
              "    display: none;\n",
              "    fill: var(--fill-color);\n",
              "    height: 32px;\n",
              "    padding: 0;\n",
              "    width: 32px;\n",
              "  }\n",
              "\n",
              "  .colab-df-quickchart:hover {\n",
              "    background-color: var(--hover-bg-color);\n",
              "    box-shadow: 0 1px 2px rgba(60, 64, 67, 0.3), 0 1px 3px 1px rgba(60, 64, 67, 0.15);\n",
              "    fill: var(--button-hover-fill-color);\n",
              "  }\n",
              "\n",
              "  .colab-df-quickchart-complete:disabled,\n",
              "  .colab-df-quickchart-complete:disabled:hover {\n",
              "    background-color: var(--disabled-bg-color);\n",
              "    fill: var(--disabled-fill-color);\n",
              "    box-shadow: none;\n",
              "  }\n",
              "\n",
              "  .colab-df-spinner {\n",
              "    border: 2px solid var(--fill-color);\n",
              "    border-color: transparent;\n",
              "    border-bottom-color: var(--fill-color);\n",
              "    animation:\n",
              "      spin 1s steps(1) infinite;\n",
              "  }\n",
              "\n",
              "  @keyframes spin {\n",
              "    0% {\n",
              "      border-color: transparent;\n",
              "      border-bottom-color: var(--fill-color);\n",
              "      border-left-color: var(--fill-color);\n",
              "    }\n",
              "    20% {\n",
              "      border-color: transparent;\n",
              "      border-left-color: var(--fill-color);\n",
              "      border-top-color: var(--fill-color);\n",
              "    }\n",
              "    30% {\n",
              "      border-color: transparent;\n",
              "      border-left-color: var(--fill-color);\n",
              "      border-top-color: var(--fill-color);\n",
              "      border-right-color: var(--fill-color);\n",
              "    }\n",
              "    40% {\n",
              "      border-color: transparent;\n",
              "      border-right-color: var(--fill-color);\n",
              "      border-top-color: var(--fill-color);\n",
              "    }\n",
              "    60% {\n",
              "      border-color: transparent;\n",
              "      border-right-color: var(--fill-color);\n",
              "    }\n",
              "    80% {\n",
              "      border-color: transparent;\n",
              "      border-right-color: var(--fill-color);\n",
              "      border-bottom-color: var(--fill-color);\n",
              "    }\n",
              "    90% {\n",
              "      border-color: transparent;\n",
              "      border-bottom-color: var(--fill-color);\n",
              "    }\n",
              "  }\n",
              "</style>\n",
              "\n",
              "  <script>\n",
              "    async function quickchart(key) {\n",
              "      const quickchartButtonEl =\n",
              "        document.querySelector('#' + key + ' button');\n",
              "      quickchartButtonEl.disabled = true;  // To prevent multiple clicks.\n",
              "      quickchartButtonEl.classList.add('colab-df-spinner');\n",
              "      try {\n",
              "        const charts = await google.colab.kernel.invokeFunction(\n",
              "            'suggestCharts', [key], {});\n",
              "      } catch (error) {\n",
              "        console.error('Error during call to suggestCharts:', error);\n",
              "      }\n",
              "      quickchartButtonEl.classList.remove('colab-df-spinner');\n",
              "      quickchartButtonEl.classList.add('colab-df-quickchart-complete');\n",
              "    }\n",
              "    (() => {\n",
              "      let quickchartButtonEl =\n",
              "        document.querySelector('#df-e326edf7-4799-4417-b7c9-940e2d81f4c8 button');\n",
              "      quickchartButtonEl.style.display =\n",
              "        google.colab.kernel.accessAllowed ? 'block' : 'none';\n",
              "    })();\n",
              "  </script>\n",
              "</div>\n",
              "\n",
              "    </div>\n",
              "  </div>\n"
            ],
            "application/vnd.google.colaboratory.intrinsic+json": {
              "type": "dataframe",
              "variable_name": "earnings_interaction_test",
              "summary": "{\n  \"name\": \"earnings_interaction_test\",\n  \"rows\": 100,\n  \"fields\": [\n    {\n      \"column\": \"age\",\n      \"properties\": {\n        \"dtype\": \"number\",\n        \"std\": 6,\n        \"min\": 19,\n        \"max\": 45,\n        \"num_unique_values\": 22,\n        \"samples\": [\n          30,\n          44,\n          19\n        ],\n        \"semantic_type\": \"\",\n        \"description\": \"\"\n      }\n    },\n    {\n      \"column\": \"python_proficiency\",\n      \"properties\": {\n        \"dtype\": \"number\",\n        \"std\": 0.29254910961226466,\n        \"min\": 0.0075493932249289,\n        \"max\": 0.995072417168758,\n        \"num_unique_values\": 100,\n        \"samples\": [\n          0.0836808634083189,\n          0.5984763023800789,\n          0.2982522138255079\n        ],\n        \"semantic_type\": \"\",\n        \"description\": \"\"\n      }\n    },\n    {\n      \"column\": \"took_a_course\",\n      \"properties\": {\n        \"dtype\": \"boolean\",\n        \"num_unique_values\": 1,\n        \"samples\": [\n          true\n        ],\n        \"semantic_type\": \"\",\n        \"description\": \"\"\n      }\n    },\n    {\n      \"column\": \"true_effect\",\n      \"properties\": {\n        \"dtype\": \"number\",\n        \"std\": 1462.70620492264,\n        \"min\": 10038.0,\n        \"max\": 14976.0,\n        \"num_unique_values\": 100,\n        \"samples\": [\n          10419.0\n        ],\n        \"semantic_type\": \"\",\n        \"description\": \"\"\n      }\n    }\n  ]\n}"
            }
          },
          "metadata": {},
          "execution_count": 8
        }
      ]
    },
    {
      "cell_type": "markdown",
      "source": [
        "# Define the graph"
      ],
      "metadata": {
        "id": "BxKFbOZu-tbz"
      }
    },
    {
      "cell_type": "code",
      "source": [
        "nodes = ['took_a_course', 'python_proficiency', 'earnings', 'age']\n",
        "edges = [\n",
        "    ('took_a_course', 'earnings'),\n",
        "    ('age', 'took_a_course'),\n",
        "    ('age', 'earnings'),\n",
        "    ('python_proficiency', 'earnings')\n",
        "]\n",
        "\n",
        "# Generate the GML graph\n",
        "gml_string = 'graph [directed 1\\n'\n",
        "\n",
        "for node in nodes:\n",
        "    gml_string += f'\\tnode [id \"{node}\" label \"{node}\"]\\n'\n",
        "\n",
        "for edge in edges:\n",
        "    gml_string += f'\\tedge [source \"{edge[0]}\" target \"{edge[1]}\"]\\n'\n",
        "\n",
        "gml_string += ']'"
      ],
      "metadata": {
        "id": "JfVryMP1-rbI"
      },
      "execution_count": 9,
      "outputs": []
    },
    {
      "cell_type": "code",
      "source": [
        "# Instantiate the CausalModel\n",
        "model = CausalModel(\n",
        "    data=earnings_interaction_train,\n",
        "    treatment='took_a_course',\n",
        "    outcome='earnings',\n",
        "    effect_modifiers='python_proficiency',\n",
        "    graph=gml_string\n",
        ")"
      ],
      "metadata": {
        "id": "HhnT2fnq-xO3"
      },
      "execution_count": 10,
      "outputs": []
    },
    {
      "cell_type": "code",
      "source": [
        "model.view_model()"
      ],
      "metadata": {
        "colab": {
          "base_uri": "https://localhost:8080/",
          "height": 540
        },
        "id": "QbDpeBKx_M0P",
        "outputId": "61be103a-f086-4c96-824e-3aaa3de0a5a4"
      },
      "execution_count": 11,
      "outputs": [
        {
          "output_type": "stream",
          "name": "stderr",
          "text": [
            "WARNING:dowhy.causal_graph:Warning: Pygraphviz cannot be loaded. Check that graphviz and pygraphviz are installed.\n"
          ]
        },
        {
          "output_type": "display_data",
          "data": {
            "text/plain": [
              "<Figure size 800x600 with 1 Axes>"
            ],
            "image/png": "[encoded data removed]"
          },
          "metadata": {}
        }
      ]
    },
    {
      "cell_type": "code",
      "source": [
        "# Get the estimand\n",
        "estimand = model.identify_effect()\n",
        "\n",
        "print(estimand)"
      ],
      "metadata": {
        "colab": {
          "base_uri": "https://localhost:8080/"
        },
        "id": "cTtG-jt5_QbQ",
        "outputId": "0d23d0d0-65d8-4227-87f8-0ff0b6e63400"
      },
      "execution_count": 12,
      "outputs": [
        {
          "output_type": "stream",
          "name": "stdout",
          "text": [
            "Estimand type: nonparametric-ate\n",
            "\n",
            "### Estimand : 1\n",
            "Estimand name: backdoor\n",
            "Estimand expression:\n",
            "       d                         \n",
            "────────────────(E[earnings|age])\n",
            "d[took_a_course]                 \n",
            "Estimand assumption 1, Unconfoundedness: If U→{took_a_course} and U→earnings then P(earnings|took_a_course,age,U) = P(earnings|took_a_course,age)\n",
            "\n",
            "### Estimand : 2\n",
            "Estimand name: iv\n",
            "No such variable(s) found!\n",
            "\n",
            "### Estimand : 3\n",
            "Estimand name: frontdoor\n",
            "No such variable(s) found!\n",
            "\n"
          ]
        }
      ]
    },
    {
      "cell_type": "markdown",
      "source": [
        "# Estimate Effect | S-Learner"
      ],
      "metadata": {
        "id": "FCIwr8ngBmQr"
      }
    },
    {
      "cell_type": "code",
      "source": [
        "# Get estimate (S-Learner)\n",
        "estimate = model.estimate_effect(\n",
        "    identified_estimand=estimand,\n",
        "    method_name='backdoor.econml.metalearners.SLearner',\n",
        "    target_units='ate',\n",
        "    method_params={\n",
        "        'init_params': {\n",
        "            'overall_model': LGBMRegressor(n_estimators=500, max_depth=10)\n",
        "        },\n",
        "        'fit_params': {}\n",
        "    })"
      ],
      "metadata": {
        "id": "EnpyB3qNBl0I"
      },
      "execution_count": null,
      "outputs": []
    },
    {
      "cell_type": "code",
      "source": [
        "# cate estimates\n",
        "estimate.cate_estimates"
      ],
      "metadata": {
        "colab": {
          "base_uri": "https://localhost:8080/"
        },
        "id": "m0sXWPgcB0kE",
        "outputId": "e2c3da08-b8e4-4cb2-da8e-5125c877eb27"
      },
      "execution_count": 14,
      "outputs": [
        {
          "output_type": "execute_result",
          "data": {
            "text/plain": [
              "array([12656.36520543, 14362.76895365, 11965.20495174, ...,\n",
              "       13812.20928872, 12930.34061036, 13863.00226379])"
            ]
          },
          "metadata": {},
          "execution_count": 14
        }
      ]
    },
    {
      "cell_type": "code",
      "source": [
        "# cate estimates mean\n",
        "estimate.cate_estimates.mean()"
      ],
      "metadata": {
        "colab": {
          "base_uri": "https://localhost:8080/",
          "height": 37
        },
        "id": "INzTMFMGCT9j",
        "outputId": "df468a15-5298-425e-c973-58ea1b3f4fb4"
      },
      "execution_count": 15,
      "outputs": [
        {
          "output_type": "execute_result",
          "data": {
            "text/plain": [
              "12547.068205674783"
            ],
            "text/latex": "$\\displaystyle 12547.0682056748$"
          },
          "metadata": {},
          "execution_count": 15
        }
      ]
    },
    {
      "cell_type": "markdown",
      "source": [
        "### Refute"
      ],
      "metadata": {
        "id": "bXiVxaevCfhu"
      }
    },
    {
      "cell_type": "code",
      "source": [
        "refutation = model.refute_estimate(\n",
        "    estimand=estimand,\n",
        "    estimate=estimate,\n",
        "    method_name='random_common_cause'\n",
        ")"
      ],
      "metadata": {
        "id": "kE2FBAvnCZwM"
      },
      "execution_count": null,
      "outputs": []
    },
    {
      "cell_type": "code",
      "source": [
        "print(refutation)"
      ],
      "metadata": {
        "colab": {
          "base_uri": "https://localhost:8080/"
        },
        "id": "x0Iqu3piCh3L",
        "outputId": "ef1425b2-ab56-44bc-d2e7-b55b393de7cf"
      },
      "execution_count": 17,
      "outputs": [
        {
          "output_type": "stream",
          "name": "stdout",
          "text": [
            "Refute: Add a random common cause\n",
            "Estimated effect:12547.068205674783\n",
            "New effect:12547.277272934201\n",
            "p value:0.98\n",
            "\n"
          ]
        }
      ]
    },
    {
      "cell_type": "code",
      "source": [
        "refutation = model.refute_estimate(\n",
        "    estimand=estimand,\n",
        "    estimate=estimate,\n",
        "    method_name='placebo_treatment_refuter')"
      ],
      "metadata": {
        "id": "2VOxWyGtFv-X"
      },
      "execution_count": null,
      "outputs": []
    },
    {
      "cell_type": "code",
      "source": [
        "print(refutation)"
      ],
      "metadata": {
        "colab": {
          "base_uri": "https://localhost:8080/"
        },
        "id": "9vXQhA1PFz3J",
        "outputId": "0ae3db31-f7f2-4668-fae8-c89a0ed51d4e"
      },
      "execution_count": 19,
      "outputs": [
        {
          "output_type": "stream",
          "name": "stdout",
          "text": [
            "Refute: Use a Placebo Treatment\n",
            "Estimated effect:12547.068205674783\n",
            "New effect:-23.154108668414956\n",
            "p value:0.72\n",
            "\n"
          ]
        }
      ]
    },
    {
      "cell_type": "markdown",
      "source": [
        "### Test Data Prediction"
      ],
      "metadata": {
        "id": "cML3vA-LGXlU"
      }
    },
    {
      "cell_type": "code",
      "source": [
        "# Compute predictions\n",
        "effect_pred = model.causal_estimator.effect(earnings_interaction_test.drop(['true_effect', 'took_a_course'], axis=1))\n",
        "\n",
        "# Get the true effect\n",
        "effect_true = earnings_interaction_test['true_effect'].values"
      ],
      "metadata": {
        "id": "VsUOQJFCGN8-"
      },
      "execution_count": 20,
      "outputs": []
    },
    {
      "cell_type": "code",
      "source": [
        "# Compute the error\n",
        "mean_absolute_percentage_error(effect_true, effect_pred)"
      ],
      "metadata": {
        "colab": {
          "base_uri": "https://localhost:8080/",
          "height": 37
        },
        "id": "dpLbRc02GcHp",
        "outputId": "6bce528b-d53e-47f2-d7fd-2d58ffd2b1e4"
      },
      "execution_count": 21,
      "outputs": [
        {
          "output_type": "execute_result",
          "data": {
            "text/plain": [
              "0.050273209257800315"
            ],
            "text/latex": "$\\displaystyle 0.0502732092578003$"
          },
          "metadata": {},
          "execution_count": 21
        }
      ]
    },
    {
      "cell_type": "code",
      "source": [
        "plot_effect(\n",
        "    effect_true=effect_true,\n",
        "    effect_pred=effect_pred,\n",
        ")"
      ],
      "metadata": {
        "colab": {
          "base_uri": "https://localhost:8080/",
          "height": 659
        },
        "id": "K98a0CSOGePk",
        "outputId": "4a8230b0-0a0d-4969-c6e8-998f4094f301"
      },
      "execution_count": 22,
      "outputs": [
        {
          "output_type": "display_data",
          "data": {
            "text/plain": [
              "<Figure size 1000x700 with 1 Axes>"
            ],
            "image/png": "[encoded data removed]"
          },
          "metadata": {}
        }
      ]
    },
    {
      "cell_type": "markdown",
      "source": [
        "# T Learner"
      ],
      "metadata": {
        "id": "RJFi4h0SEre5"
      }
    },
    {
      "cell_type": "code",
      "source": [
        "# Get estimate (T-Learner)\n",
        "estimate = model.estimate_effect(\n",
        "    identified_estimand=estimand,\n",
        "    method_name='backdoor.econml.metalearners.TLearner',\n",
        "    target_units='ate',\n",
        "    method_params={\n",
        "        'init_params': {\n",
        "            'models': [\n",
        "                LGBMRegressor(n_estimators=200, max_depth=10),\n",
        "                LGBMRegressor(n_estimators=200, max_depth=10)\n",
        "            ]\n",
        "        },\n",
        "        'fit_params': {}\n",
        "    })"
      ],
      "metadata": {
        "id": "G9bQMU7FEqMg"
      },
      "execution_count": null,
      "outputs": []
    },
    {
      "cell_type": "code",
      "source": [
        "estimate.cate_estimates.mean()"
      ],
      "metadata": {
        "id": "i3lcOWrbGgQi",
        "colab": {
          "base_uri": "https://localhost:8080/",
          "height": 37
        },
        "outputId": "ba5fd997-95f0-4d4c-9aad-61d3c7b13a97"
      },
      "execution_count": 24,
      "outputs": [
        {
          "output_type": "execute_result",
          "data": {
            "text/plain": [
              "12512.558912135146"
            ],
            "text/latex": "$\\displaystyle 12512.5589121351$"
          },
          "metadata": {},
          "execution_count": 24
        }
      ]
    },
    {
      "cell_type": "markdown",
      "source": [
        "### Test Data Prediction"
      ],
      "metadata": {
        "id": "yqO6OIWZFScL"
      }
    },
    {
      "cell_type": "code",
      "source": [
        "# Compute predictions\n",
        "effect_pred = model.causal_estimator.effect(earnings_interaction_test.drop(['true_effect', 'took_a_course'], axis=1))\n",
        "\n",
        "# Get the true effect\n",
        "effect_true = earnings_interaction_test['true_effect'].values"
      ],
      "metadata": {
        "id": "-EeEo3wmE8-i"
      },
      "execution_count": 25,
      "outputs": []
    },
    {
      "cell_type": "code",
      "source": [
        "# Compute the error\n",
        "mean_absolute_percentage_error(effect_true, effect_pred)"
      ],
      "metadata": {
        "colab": {
          "base_uri": "https://localhost:8080/",
          "height": 37
        },
        "id": "OlrUzXv3FWop",
        "outputId": "5b6270b1-284b-4e73-c76a-cdec2660c468"
      },
      "execution_count": 26,
      "outputs": [
        {
          "output_type": "execute_result",
          "data": {
            "text/plain": [
              "0.0813365927834967"
            ],
            "text/latex": "$\\displaystyle 0.0813365927834967$"
          },
          "metadata": {},
          "execution_count": 26
        }
      ]
    },
    {
      "cell_type": "code",
      "source": [
        "plot_effect(\n",
        "    effect_true=effect_true,\n",
        "    effect_pred=effect_pred,\n",
        ")"
      ],
      "metadata": {
        "colab": {
          "base_uri": "https://localhost:8080/",
          "height": 659
        },
        "id": "vuUGV7OtFMW-",
        "outputId": "4c6a10af-d810-4daa-a817-1b6fcd4fc521"
      },
      "execution_count": 27,
      "outputs": [
        {
          "output_type": "display_data",
          "data": {
            "text/plain": [
              "<Figure size 1000x700 with 1 Axes>"
            ],
            "image/png": "[encoded data removed]"
          },
          "metadata": {}
        }
      ]
    },
    {
      "cell_type": "markdown",
      "source": [
        "# X-Learner"
      ],
      "metadata": {
        "id": "ljAC9WexJb3B"
      }
    },
    {
      "cell_type": "markdown",
      "source": [
        "## Steps for `XLearner`\n",
        "\n",
        "### Split Data into Treatment and Control Groups\n",
        "Separate your dataset into two groups: one for the treated units and one for the control units.\n",
        "\n",
        "### Train Initial Models\n",
        "Train two models: one on the control group to predict the outcome for the control units, and another on the treatment group to predict the outcome for the treated units.\n",
        "These models are used to estimate the potential outcomes for both treated and control units.\n",
        "\n",
        "### Estimate Potential Outcomes\n",
        "Use the trained models to predict the potential outcomes for all units in the dataset.\n",
        "For each unit, predict the outcome if it were treated and if it were not treated.\n",
        "\n",
        "### Calculate Pseudo-Outcomes\n",
        "Calculate the pseudo-outcomes for the control and treatment groups.\n",
        "- For the control group, the pseudo-outcome is the difference between the observed outcome and the predicted outcome if treated.\n",
        "- For the treatment group, the pseudo-outcome is the difference between the observed outcome and the predicted outcome if not treated.\n",
        "\n",
        "### Train CATE Models\n",
        "Train two new models to predict the Conditional Average Treatment Effect (CATE) using the pseudo-outcomes.\n",
        "- One model is trained on the control group pseudo-outcomes.\n",
        "- The other model is trained on the treatment group pseudo-outcomes.\n",
        "\n",
        "### Estimate CATE\n",
        "Use the trained CATE models to estimate the treatment effect for each unit in the dataset.\n",
        "Combine the estimates from the two CATE models to get the final treatment effect estimate for each unit.\n",
        "\n",
        "### Aggregate Treatment Effects\n",
        "Aggregate the individual treatment effects to get the overall Average Treatment Effect (ATE) or other relevant metrics.\n"
      ],
      "metadata": {
        "id": "4eoiNi5FKnNP"
      }
    },
    {
      "cell_type": "code",
      "source": [
        "# Get estimate (X-Learner)\n",
        "estimate = model.estimate_effect(\n",
        "    identified_estimand=estimand,\n",
        "    method_name='backdoor.econml.metalearners.XLearner',\n",
        "    target_units='ate',\n",
        "    method_params={\n",
        "        'init_params': {\n",
        "            'models': [\n",
        "                LGBMRegressor(n_estimators=50, max_depth=10),\n",
        "                LGBMRegressor(n_estimators=50, max_depth=10)\n",
        "            ],\n",
        "            'cate_models': [\n",
        "                LGBMRegressor(n_estimators=50, max_depth=10),\n",
        "                LGBMRegressor(n_estimators=50, max_depth=10)\n",
        "            ]\n",
        "        },\n",
        "        'fit_params': {},\n",
        "    })"
      ],
      "metadata": {
        "id": "NPDyUcZtJYG6"
      },
      "execution_count": null,
      "outputs": []
    },
    {
      "cell_type": "code",
      "source": [
        "estimate.cate_estimates.mean()"
      ],
      "metadata": {
        "colab": {
          "base_uri": "https://localhost:8080/",
          "height": 37
        },
        "id": "CEX6k1ysFdy7",
        "outputId": "58fe08d1-a17c-42f0-b542-1d661b9e9c13"
      },
      "execution_count": 29,
      "outputs": [
        {
          "output_type": "execute_result",
          "data": {
            "text/plain": [
              "12564.919935370663"
            ],
            "text/latex": "$\\displaystyle 12564.9199353707$"
          },
          "metadata": {},
          "execution_count": 29
        }
      ]
    },
    {
      "cell_type": "markdown",
      "source": [
        "### Predict on Test Data"
      ],
      "metadata": {
        "id": "lqao7_6TLCkM"
      }
    },
    {
      "cell_type": "code",
      "source": [
        "# Compute predictions\n",
        "effect_pred = model.causal_estimator.effect(earnings_interaction_test.drop(['true_effect', 'took_a_course'], axis=1))\n",
        "\n",
        "# Get the true effect\n",
        "effect_true = earnings_interaction_test['true_effect'].values"
      ],
      "metadata": {
        "id": "f8gQpkfXLBs-"
      },
      "execution_count": 30,
      "outputs": []
    },
    {
      "cell_type": "code",
      "source": [
        "# Compute the error\n",
        "mean_absolute_percentage_error(effect_true, effect_pred)"
      ],
      "metadata": {
        "colab": {
          "base_uri": "https://localhost:8080/",
          "height": 37
        },
        "id": "yp3qETkPK_Wf",
        "outputId": "23740a10-76af-47ef-db77-a95c09c7430f"
      },
      "execution_count": 31,
      "outputs": [
        {
          "output_type": "execute_result",
          "data": {
            "text/plain": [
              "0.03632496699577798"
            ],
            "text/latex": "$\\displaystyle 0.036324966995778$"
          },
          "metadata": {},
          "execution_count": 31
        }
      ]
    },
    {
      "cell_type": "code",
      "source": [
        "plot_effect(\n",
        "    effect_true=effect_true,\n",
        "    effect_pred=effect_pred,\n",
        ")"
      ],
      "metadata": {
        "colab": {
          "base_uri": "https://localhost:8080/",
          "height": 659
        },
        "id": "FXuAXOvlLIkD",
        "outputId": "a84f47b7-c76d-498d-9e77-9f559cd854cf"
      },
      "execution_count": 32,
      "outputs": [
        {
          "output_type": "display_data",
          "data": {
            "text/plain": [
              "<Figure size 1000x700 with 1 Axes>"
            ],
            "image/png": "[encoded data removed]"
          },
          "metadata": {}
        }
      ]
    }
  ]
}
{
  "nbformat": 4,
  "nbformat_minor": 0,
  "metadata": {
    "colab": {
      "name": "cdnow.ipynb",
      "provenance": [],
      "collapsed_sections": []
    },
    "kernelspec": {
      "name": "python3",
      "display_name": "Python 3"
    }
  },
  "cells": [
    {
      "cell_type": "code",
      "metadata": {
        "id": "qecmzOEFp7pH",
        "colab_type": "code",
        "colab": {}
      },
      "source": [
        "# !wget http://www.brucehardie.com/datasets/CDNOW_master.zip\n",
        "# !unzip CDNOW_master.zip\n",
        "# !pip install lifetimes"
      ],
      "execution_count": 0,
      "outputs": []
    },
    {
      "cell_type": "markdown",
      "metadata": {
        "id": "7LRdHrOc4PaT",
        "colab_type": "text"
      },
      "source": [
        "### Loading Libraries"
      ]
    },
    {
      "cell_type": "code",
      "metadata": {
        "id": "O90B7xviqL2j",
        "colab_type": "code",
        "colab": {}
      },
      "source": [
        "import pandas as pd\n",
        "import matplotlib.pyplot as plt\n",
        "import seaborn as sns\n",
        "from lifetimes import BetaGeoFitter, GammaGammaFitter\n",
        "from lifetimes.utils import calibration_and_holdout_data,calculate_alive_path\n",
        "from lifetimes.plotting import plot_period_transactions,plot_history_alive,plot_calibration_purchases_vs_holdout_purchases\n",
        "import numpy as np\n",
        "import warnings\n",
        "warnings.filterwarnings(\"ignore\")"
      ],
      "execution_count": 0,
      "outputs": []
    },
    {
      "cell_type": "markdown",
      "metadata": {
        "id": "fkeK47dk4Thz",
        "colab_type": "text"
      },
      "source": [
        "### Load CDNOW Dataset"
      ]
    },
    {
      "cell_type": "code",
      "metadata": {
        "id": "CRnvqd2mqXcB",
        "colab_type": "code",
        "outputId": "798b0a58-7940-4a6e-ff57-2e1a34552dc5",
        "colab": {
          "base_uri": "https://localhost:8080/",
          "height": 206
        }
      },
      "source": [
        "raw_data = pd.read_csv('CDNOW_master.txt','\\s+',header=None,names=['Customer_ID','Transaction_Date','Quantity','Price'])\n",
        "raw_data.head()"
      ],
      "execution_count": 0,
      "outputs": [
        {
          "output_type": "execute_result",
          "data": {
            "text/html": [
              "<div>\n",
              "<style scoped>\n",
              "    .dataframe tbody tr th:only-of-type {\n",
              "        vertical-align: middle;\n",
              "    }\n",
              "\n",
              "    .dataframe tbody tr th {\n",
              "        vertical-align: top;\n",
              "    }\n",
              "\n",
              "    .dataframe thead th {\n",
              "        text-align: right;\n",
              "    }\n",
              "</style>\n",
              "<table border=\"1\" class=\"dataframe\">\n",
              "  <thead>\n",
              "    <tr style=\"text-align: right;\">\n",
              "      <th></th>\n",
              "      <th>Customer_ID</th>\n",
              "      <th>Transaction_Date</th>\n",
              "      <th>Quantity</th>\n",
              "      <th>Price</th>\n",
              "    </tr>\n",
              "  </thead>\n",
              "  <tbody>\n",
              "    <tr>\n",
              "      <th>0</th>\n",
              "      <td>1</td>\n",
              "      <td>19970101</td>\n",
              "      <td>1</td>\n",
              "      <td>11.77</td>\n",
              "    </tr>\n",
              "    <tr>\n",
              "      <th>1</th>\n",
              "      <td>2</td>\n",
              "      <td>19970112</td>\n",
              "      <td>1</td>\n",
              "      <td>12.00</td>\n",
              "    </tr>\n",
              "    <tr>\n",
              "      <th>2</th>\n",
              "      <td>2</td>\n",
              "      <td>19970112</td>\n",
              "      <td>5</td>\n",
              "      <td>77.00</td>\n",
              "    </tr>\n",
              "    <tr>\n",
              "      <th>3</th>\n",
              "      <td>3</td>\n",
              "      <td>19970102</td>\n",
              "      <td>2</td>\n",
              "      <td>20.76</td>\n",
              "    </tr>\n",
              "    <tr>\n",
              "      <th>4</th>\n",
              "      <td>3</td>\n",
              "      <td>19970330</td>\n",
              "      <td>2</td>\n",
              "      <td>20.76</td>\n",
              "    </tr>\n",
              "  </tbody>\n",
              "</table>\n",
              "</div>"
            ],
            "text/plain": [
              "   Customer_ID  Transaction_Date  Quantity  Price\n",
              "0            1          19970101         1  11.77\n",
              "1            2          19970112         1  12.00\n",
              "2            2          19970112         5  77.00\n",
              "3            3          19970102         2  20.76\n",
              "4            3          19970330         2  20.76"
            ]
          },
          "metadata": {
            "tags": []
          },
          "execution_count": 3
        }
      ]
    },
    {
      "cell_type": "code",
      "metadata": {
        "id": "9BDWVmD6rNPc",
        "colab_type": "code",
        "outputId": "b7cb506b-f26e-404a-f21e-a7057de0eac2",
        "colab": {
          "base_uri": "https://localhost:8080/",
          "height": 35
        }
      },
      "source": [
        "raw_data.shape"
      ],
      "execution_count": 0,
      "outputs": [
        {
          "output_type": "execute_result",
          "data": {
            "text/plain": [
              "(69659, 4)"
            ]
          },
          "metadata": {
            "tags": []
          },
          "execution_count": 4
        }
      ]
    },
    {
      "cell_type": "code",
      "metadata": {
        "id": "l7XLGviwxfGj",
        "colab_type": "code",
        "outputId": "7722b8c3-1ad7-41a5-ae9b-994b9f5bee76",
        "colab": {
          "base_uri": "https://localhost:8080/",
          "height": 300
        }
      },
      "source": [
        "raw_data.describe()"
      ],
      "execution_count": 0,
      "outputs": [
        {
          "output_type": "execute_result",
          "data": {
            "text/html": [
              "<div>\n",
              "<style scoped>\n",
              "    .dataframe tbody tr th:only-of-type {\n",
              "        vertical-align: middle;\n",
              "    }\n",
              "\n",
              "    .dataframe tbody tr th {\n",
              "        vertical-align: top;\n",
              "    }\n",
              "\n",
              "    .dataframe thead th {\n",
              "        text-align: right;\n",
              "    }\n",
              "</style>\n",
              "<table border=\"1\" class=\"dataframe\">\n",
              "  <thead>\n",
              "    <tr style=\"text-align: right;\">\n",
              "      <th></th>\n",
              "      <th>Customer_ID</th>\n",
              "      <th>Transaction_Date</th>\n",
              "      <th>Quantity</th>\n",
              "      <th>Price</th>\n",
              "    </tr>\n",
              "  </thead>\n",
              "  <tbody>\n",
              "    <tr>\n",
              "      <th>count</th>\n",
              "      <td>69659.000000</td>\n",
              "      <td>6.965900e+04</td>\n",
              "      <td>69659.000000</td>\n",
              "      <td>69659.000000</td>\n",
              "    </tr>\n",
              "    <tr>\n",
              "      <th>mean</th>\n",
              "      <td>11470.854592</td>\n",
              "      <td>1.997228e+07</td>\n",
              "      <td>2.410040</td>\n",
              "      <td>35.893648</td>\n",
              "    </tr>\n",
              "    <tr>\n",
              "      <th>std</th>\n",
              "      <td>6819.904848</td>\n",
              "      <td>3.837735e+03</td>\n",
              "      <td>2.333924</td>\n",
              "      <td>36.281942</td>\n",
              "    </tr>\n",
              "    <tr>\n",
              "      <th>min</th>\n",
              "      <td>1.000000</td>\n",
              "      <td>1.997010e+07</td>\n",
              "      <td>1.000000</td>\n",
              "      <td>0.000000</td>\n",
              "    </tr>\n",
              "    <tr>\n",
              "      <th>25%</th>\n",
              "      <td>5506.000000</td>\n",
              "      <td>1.997022e+07</td>\n",
              "      <td>1.000000</td>\n",
              "      <td>14.490000</td>\n",
              "    </tr>\n",
              "    <tr>\n",
              "      <th>50%</th>\n",
              "      <td>11410.000000</td>\n",
              "      <td>1.997042e+07</td>\n",
              "      <td>2.000000</td>\n",
              "      <td>25.980000</td>\n",
              "    </tr>\n",
              "    <tr>\n",
              "      <th>75%</th>\n",
              "      <td>17273.000000</td>\n",
              "      <td>1.997111e+07</td>\n",
              "      <td>3.000000</td>\n",
              "      <td>43.700000</td>\n",
              "    </tr>\n",
              "    <tr>\n",
              "      <th>max</th>\n",
              "      <td>23570.000000</td>\n",
              "      <td>1.998063e+07</td>\n",
              "      <td>99.000000</td>\n",
              "      <td>1286.010000</td>\n",
              "    </tr>\n",
              "  </tbody>\n",
              "</table>\n",
              "</div>"
            ],
            "text/plain": [
              "        Customer_ID  Transaction_Date      Quantity         Price\n",
              "count  69659.000000      6.965900e+04  69659.000000  69659.000000\n",
              "mean   11470.854592      1.997228e+07      2.410040     35.893648\n",
              "std     6819.904848      3.837735e+03      2.333924     36.281942\n",
              "min        1.000000      1.997010e+07      1.000000      0.000000\n",
              "25%     5506.000000      1.997022e+07      1.000000     14.490000\n",
              "50%    11410.000000      1.997042e+07      2.000000     25.980000\n",
              "75%    17273.000000      1.997111e+07      3.000000     43.700000\n",
              "max    23570.000000      1.998063e+07     99.000000   1286.010000"
            ]
          },
          "metadata": {
            "tags": []
          },
          "execution_count": 5
        }
      ]
    },
    {
      "cell_type": "markdown",
      "metadata": {
        "id": "jlAPABVg4hP1",
        "colab_type": "text"
      },
      "source": [
        "### Format Purchase Date to Python DatetTime Object"
      ]
    },
    {
      "cell_type": "code",
      "metadata": {
        "id": "TS8eJem-nFET",
        "colab_type": "code",
        "outputId": "e488ea2b-8f42-49e3-db81-8466bc5d68d2",
        "colab": {
          "base_uri": "https://localhost:8080/",
          "height": 146
        }
      },
      "source": [
        "raw_data['Transaction_Date'] = pd.to_datetime(raw_data['Transaction_Date'],format='%Y%m%d')\n",
        "raw_data['Transaction_Date'].describe()"
      ],
      "execution_count": 0,
      "outputs": [
        {
          "output_type": "execute_result",
          "data": {
            "text/plain": [
              "count                   69659\n",
              "unique                    546\n",
              "top       1997-02-24 00:00:00\n",
              "freq                      504\n",
              "first     1997-01-01 00:00:00\n",
              "last      1998-06-30 00:00:00\n",
              "Name: Transaction_Date, dtype: object"
            ]
          },
          "metadata": {
            "tags": []
          },
          "execution_count": 6
        }
      ]
    },
    {
      "cell_type": "markdown",
      "metadata": {
        "id": "EjZYhUn94u6T",
        "colab_type": "text"
      },
      "source": [
        "### Train & Test Data Split. Test on last three months of data"
      ]
    },
    {
      "cell_type": "code",
      "metadata": {
        "id": "oB2czpR93t8r",
        "colab_type": "code",
        "colab": {}
      },
      "source": [
        "train_period =  raw_data['Transaction_Date'].max() + pd.DateOffset(months=-3)\n",
        "rfm_data = calibration_and_holdout_data(raw_data,'Customer_ID','Transaction_Date',monetary_value_col='Price',freq=\"M\", calibration_period_end=train_period,)"
      ],
      "execution_count": 0,
      "outputs": []
    },
    {
      "cell_type": "markdown",
      "metadata": {
        "id": "k3BzvGkA5A7O",
        "colab_type": "text"
      },
      "source": [
        "### RFM Dataset"
      ]
    },
    {
      "cell_type": "code",
      "metadata": {
        "id": "bVFZZ2K34tI8",
        "colab_type": "code",
        "outputId": "a2709460-3179-4986-80bb-ee43805d91c7",
        "colab": {
          "base_uri": "https://localhost:8080/",
          "height": 238
        }
      },
      "source": [
        "rfm_data.head()"
      ],
      "execution_count": 0,
      "outputs": [
        {
          "output_type": "execute_result",
          "data": {
            "text/html": [
              "<div>\n",
              "<style scoped>\n",
              "    .dataframe tbody tr th:only-of-type {\n",
              "        vertical-align: middle;\n",
              "    }\n",
              "\n",
              "    .dataframe tbody tr th {\n",
              "        vertical-align: top;\n",
              "    }\n",
              "\n",
              "    .dataframe thead th {\n",
              "        text-align: right;\n",
              "    }\n",
              "</style>\n",
              "<table border=\"1\" class=\"dataframe\">\n",
              "  <thead>\n",
              "    <tr style=\"text-align: right;\">\n",
              "      <th></th>\n",
              "      <th>frequency_cal</th>\n",
              "      <th>recency_cal</th>\n",
              "      <th>T_cal</th>\n",
              "      <th>monetary_value_cal</th>\n",
              "      <th>frequency_holdout</th>\n",
              "      <th>monetary_value_holdout</th>\n",
              "      <th>duration_holdout</th>\n",
              "    </tr>\n",
              "    <tr>\n",
              "      <th>Customer_ID</th>\n",
              "      <th></th>\n",
              "      <th></th>\n",
              "      <th></th>\n",
              "      <th></th>\n",
              "      <th></th>\n",
              "      <th></th>\n",
              "      <th></th>\n",
              "    </tr>\n",
              "  </thead>\n",
              "  <tbody>\n",
              "    <tr>\n",
              "      <th>1</th>\n",
              "      <td>0.0</td>\n",
              "      <td>0.000000</td>\n",
              "      <td>13.930471</td>\n",
              "      <td>0.00000</td>\n",
              "      <td>0.0</td>\n",
              "      <td>0.00</td>\n",
              "      <td>3</td>\n",
              "    </tr>\n",
              "    <tr>\n",
              "      <th>2</th>\n",
              "      <td>0.0</td>\n",
              "      <td>0.000000</td>\n",
              "      <td>13.930471</td>\n",
              "      <td>0.00000</td>\n",
              "      <td>0.0</td>\n",
              "      <td>0.00</td>\n",
              "      <td>3</td>\n",
              "    </tr>\n",
              "    <tr>\n",
              "      <th>3</th>\n",
              "      <td>3.0</td>\n",
              "      <td>9.987885</td>\n",
              "      <td>13.930471</td>\n",
              "      <td>39.57000</td>\n",
              "      <td>1.0</td>\n",
              "      <td>16.99</td>\n",
              "      <td>3</td>\n",
              "    </tr>\n",
              "    <tr>\n",
              "      <th>4</th>\n",
              "      <td>2.0</td>\n",
              "      <td>10.973531</td>\n",
              "      <td>13.930471</td>\n",
              "      <td>20.72000</td>\n",
              "      <td>0.0</td>\n",
              "      <td>0.00</td>\n",
              "      <td>3</td>\n",
              "    </tr>\n",
              "    <tr>\n",
              "      <th>5</th>\n",
              "      <td>8.0</td>\n",
              "      <td>11.992033</td>\n",
              "      <td>13.930471</td>\n",
              "      <td>42.78875</td>\n",
              "      <td>0.0</td>\n",
              "      <td>0.00</td>\n",
              "      <td>3</td>\n",
              "    </tr>\n",
              "  </tbody>\n",
              "</table>\n",
              "</div>"
            ],
            "text/plain": [
              "             frequency_cal  ...  duration_holdout\n",
              "Customer_ID                 ...                  \n",
              "1                      0.0  ...                 3\n",
              "2                      0.0  ...                 3\n",
              "3                      3.0  ...                 3\n",
              "4                      2.0  ...                 3\n",
              "5                      8.0  ...                 3\n",
              "\n",
              "[5 rows x 7 columns]"
            ]
          },
          "metadata": {
            "tags": []
          },
          "execution_count": 8
        }
      ]
    },
    {
      "cell_type": "markdown",
      "metadata": {
        "id": "wXaG2bQi5EMi",
        "colab_type": "text"
      },
      "source": [
        "### Fit BG/NBD Model"
      ]
    },
    {
      "cell_type": "code",
      "metadata": {
        "id": "HL72kFXC48NZ",
        "colab_type": "code",
        "outputId": "87333a2f-69c8-4be3-de94-2499679573e6",
        "colab": {
          "base_uri": "https://localhost:8080/",
          "height": 35
        }
      },
      "source": [
        "bgf = BetaGeoFitter(penalizer_coef=0.0)\n",
        "bgf.fit(rfm_data['frequency_cal'], rfm_data['recency_cal'], rfm_data['T_cal'])"
      ],
      "execution_count": 0,
      "outputs": [
        {
          "output_type": "execute_result",
          "data": {
            "text/plain": [
              "<lifetimes.BetaGeoFitter: fitted with 23570 subjects, a: 0.09, alpha: 4.31, b: 0.87, r: 0.43>"
            ]
          },
          "metadata": {
            "tags": []
          },
          "execution_count": 9
        }
      ]
    },
    {
      "cell_type": "markdown",
      "metadata": {
        "id": "5vj55pL05HlN",
        "colab_type": "text"
      },
      "source": [
        "### Compare Actual Data with Data Simulated with BG/NBD Model Parameters"
      ]
    },
    {
      "cell_type": "code",
      "metadata": {
        "id": "-CXqYbMc2pka",
        "colab_type": "code",
        "outputId": "2120fba6-848b-4e9c-e4ef-3328d947af2b",
        "colab": {
          "base_uri": "https://localhost:8080/",
          "height": 364
        }
      },
      "source": [
        "plot_period_transactions(bgf,figsize=(15,5))"
      ],
      "execution_count": 0,
      "outputs": [
        {
          "output_type": "execute_result",
          "data": {
            "text/plain": [
              "<matplotlib.axes._subplots.AxesSubplot at 0x7fe559272080>"
            ]
          },
          "metadata": {
            "tags": []
          },
          "execution_count": 10
        },
        {
          "output_type": "display_data",
          "data": {
            "image/png": "[encoded data removed]",
            "text/plain": [
              "<Figure size 1080x360 with 1 Axes>"
            ]
          },
          "metadata": {
            "tags": []
          }
        }
      ]
    },
    {
      "cell_type": "markdown",
      "metadata": {
        "id": "iXDk7M2v5W5B",
        "colab_type": "text"
      },
      "source": [
        "### Holdout Prediction Model vs Actual"
      ]
    },
    {
      "cell_type": "code",
      "metadata": {
        "colab_type": "code",
        "outputId": "9f473292-4726-4609-a61a-eb596bbaa3ce",
        "id": "5rv3yGbO-YiJ",
        "colab": {
          "base_uri": "https://localhost:8080/",
          "height": 368
        }
      },
      "source": [
        "plot_calibration_purchases_vs_holdout_purchases(bgf, rfm_data,figsize=(15,5))"
      ],
      "execution_count": 0,
      "outputs": [
        {
          "output_type": "execute_result",
          "data": {
            "text/plain": [
              "<matplotlib.axes._subplots.AxesSubplot at 0x7fe5591efbe0>"
            ]
          },
          "metadata": {
            "tags": []
          },
          "execution_count": 11
        },
        {
          "output_type": "display_data",
          "data": {
            "image/png": "[encoded data removed]",
            "text/plain": [
              "<Figure size 1080x360 with 1 Axes>"
            ]
          },
          "metadata": {
            "tags": []
          }
        }
      ]
    },
    {
      "cell_type": "markdown",
      "metadata": {
        "id": "Wa4YAqwi5mXf",
        "colab_type": "text"
      },
      "source": [
        "### Expected number of purchase for each customer in Holdout period"
      ]
    },
    {
      "cell_type": "code",
      "metadata": {
        "id": "iJsAq5UE6oqA",
        "colab_type": "code",
        "outputId": "8130801e-e225-46f8-fda3-0a25ab4d578c",
        "colab": {
          "base_uri": "https://localhost:8080/",
          "height": 238
        }
      },
      "source": [
        "t = 3\n",
        "rfm_data['Predict_Freq'] = bgf.conditional_expected_number_of_purchases_up_to_time(t,\n",
        "                                                                                   rfm_data['frequency_cal'], \n",
        "                                                                                   rfm_data['recency_cal'], \n",
        "                                                                                   rfm_data['T_cal'])\n",
        "rfm_data['Predict_Freq'] =rfm_data['Predict_Freq'].fillna(0).round()\n",
        "rfm_data.head()"
      ],
      "execution_count": 0,
      "outputs": [
        {
          "output_type": "execute_result",
          "data": {
            "text/html": [
              "<div>\n",
              "<style scoped>\n",
              "    .dataframe tbody tr th:only-of-type {\n",
              "        vertical-align: middle;\n",
              "    }\n",
              "\n",
              "    .dataframe tbody tr th {\n",
              "        vertical-align: top;\n",
              "    }\n",
              "\n",
              "    .dataframe thead th {\n",
              "        text-align: right;\n",
              "    }\n",
              "</style>\n",
              "<table border=\"1\" class=\"dataframe\">\n",
              "  <thead>\n",
              "    <tr style=\"text-align: right;\">\n",
              "      <th></th>\n",
              "      <th>frequency_cal</th>\n",
              "      <th>recency_cal</th>\n",
              "      <th>T_cal</th>\n",
              "      <th>monetary_value_cal</th>\n",
              "      <th>frequency_holdout</th>\n",
              "      <th>monetary_value_holdout</th>\n",
              "      <th>duration_holdout</th>\n",
              "      <th>Predict_Freq</th>\n",
              "    </tr>\n",
              "    <tr>\n",
              "      <th>Customer_ID</th>\n",
              "      <th></th>\n",
              "      <th></th>\n",
              "      <th></th>\n",
              "      <th></th>\n",
              "      <th></th>\n",
              "      <th></th>\n",
              "      <th></th>\n",
              "      <th></th>\n",
              "    </tr>\n",
              "  </thead>\n",
              "  <tbody>\n",
              "    <tr>\n",
              "      <th>1</th>\n",
              "      <td>0.0</td>\n",
              "      <td>0.000000</td>\n",
              "      <td>13.930471</td>\n",
              "      <td>0.00000</td>\n",
              "      <td>0.0</td>\n",
              "      <td>0.00</td>\n",
              "      <td>3</td>\n",
              "      <td>0.0</td>\n",
              "    </tr>\n",
              "    <tr>\n",
              "      <th>2</th>\n",
              "      <td>0.0</td>\n",
              "      <td>0.000000</td>\n",
              "      <td>13.930471</td>\n",
              "      <td>0.00000</td>\n",
              "      <td>0.0</td>\n",
              "      <td>0.00</td>\n",
              "      <td>3</td>\n",
              "      <td>0.0</td>\n",
              "    </tr>\n",
              "    <tr>\n",
              "      <th>3</th>\n",
              "      <td>3.0</td>\n",
              "      <td>9.987885</td>\n",
              "      <td>13.930471</td>\n",
              "      <td>39.57000</td>\n",
              "      <td>1.0</td>\n",
              "      <td>16.99</td>\n",
              "      <td>3</td>\n",
              "      <td>1.0</td>\n",
              "    </tr>\n",
              "    <tr>\n",
              "      <th>4</th>\n",
              "      <td>2.0</td>\n",
              "      <td>10.973531</td>\n",
              "      <td>13.930471</td>\n",
              "      <td>20.72000</td>\n",
              "      <td>0.0</td>\n",
              "      <td>0.00</td>\n",
              "      <td>3</td>\n",
              "      <td>0.0</td>\n",
              "    </tr>\n",
              "    <tr>\n",
              "      <th>5</th>\n",
              "      <td>8.0</td>\n",
              "      <td>11.992033</td>\n",
              "      <td>13.930471</td>\n",
              "      <td>42.78875</td>\n",
              "      <td>0.0</td>\n",
              "      <td>0.00</td>\n",
              "      <td>3</td>\n",
              "      <td>1.0</td>\n",
              "    </tr>\n",
              "  </tbody>\n",
              "</table>\n",
              "</div>"
            ],
            "text/plain": [
              "             frequency_cal  recency_cal  ...  duration_holdout  Predict_Freq\n",
              "Customer_ID                              ...                                \n",
              "1                      0.0     0.000000  ...                 3           0.0\n",
              "2                      0.0     0.000000  ...                 3           0.0\n",
              "3                      3.0     9.987885  ...                 3           1.0\n",
              "4                      2.0    10.973531  ...                 3           0.0\n",
              "5                      8.0    11.992033  ...                 3           1.0\n",
              "\n",
              "[5 rows x 8 columns]"
            ]
          },
          "metadata": {
            "tags": []
          },
          "execution_count": 12
        }
      ]
    },
    {
      "cell_type": "markdown",
      "metadata": {
        "id": "3lRZaCVB5w7f",
        "colab_type": "text"
      },
      "source": [
        "### Probability of alive for single customer"
      ]
    },
    {
      "cell_type": "code",
      "metadata": {
        "id": "_aA20Tzd_Nfs",
        "colab_type": "code",
        "outputId": "b0ef2238-57dc-4501-b791-13a184aa9598",
        "colab": {
          "base_uri": "https://localhost:8080/",
          "height": 354
        }
      },
      "source": [
        "id = 6394\n",
        "sp_trans = raw_data.loc[raw_data['Customer_ID'] == id]\n",
        "plt.figure(figsize=(15,5))\n",
        "plot_history_alive(bgf, 24, sp_trans, 'Transaction_Date',freq='M')"
      ],
      "execution_count": 0,
      "outputs": [
        {
          "output_type": "execute_result",
          "data": {
            "text/plain": [
              "<matplotlib.axes._subplots.AxesSubplot at 0x7fe5591e8588>"
            ]
          },
          "metadata": {
            "tags": []
          },
          "execution_count": 13
        },
        {
          "output_type": "display_data",
          "data": {
            "image/png": "[encoded data removed]",
            "text/plain": [
              "<Figure size 1080x360 with 1 Axes>"
            ]
          },
          "metadata": {
            "tags": []
          }
        }
      ]
    },
    {
      "cell_type": "markdown",
      "metadata": {
        "id": "sTQrPdYA53s0",
        "colab_type": "text"
      },
      "source": [
        "### compute Probability of alive for customer who were active in last three months of training period for next three months i.e. Holdout Period"
      ]
    },
    {
      "cell_type": "code",
      "metadata": {
        "id": "WXljd7Wm4T-L",
        "colab_type": "code",
        "colab": {}
      },
      "source": [
        "active_period = train_period + pd.DateOffset(months=-3)\n",
        "train_active = raw_data[(raw_data['Transaction_Date'] >= active_period) & (raw_data['Transaction_Date']<=train_period)]['Customer_ID']\n",
        "active_customers_rfm = rfm_data.loc[rfm_data.index.isin(train_active),:].copy()\n",
        "active_customers_rfm = active_customers_rfm[active_customers_rfm['recency_cal'] > 0].copy()"
      ],
      "execution_count": 0,
      "outputs": []
    },
    {
      "cell_type": "code",
      "metadata": {
        "id": "f229nNHvU4uz",
        "colab_type": "code",
        "colab": {}
      },
      "source": [
        "def get_alive_prob(row,model,time_period):\n",
        "  alive_prob = model.conditional_probability_alive(row['frequency_cal'],row['recency_cal'],row['T_cal']+time_period)\n",
        "  return alive_prob[0]\n",
        "\n",
        "active_customers_rfm['alive_prob'] = active_customers_rfm.apply(get_alive_prob, model=bgf, time_period=12,axis=1)"
      ],
      "execution_count": 0,
      "outputs": []
    },
    {
      "cell_type": "code",
      "metadata": {
        "id": "ZMFuoNzu9zwz",
        "colab_type": "code",
        "outputId": "88ad17b0-e7f4-42d7-c47a-2846c4b73c9b",
        "colab": {
          "base_uri": "https://localhost:8080/",
          "height": 258
        }
      },
      "source": [
        "active_customers_rfm.sample(5)"
      ],
      "execution_count": 0,
      "outputs": [
        {
          "output_type": "execute_result",
          "data": {
            "text/html": [
              "<div>\n",
              "<style scoped>\n",
              "    .dataframe tbody tr th:only-of-type {\n",
              "        vertical-align: middle;\n",
              "    }\n",
              "\n",
              "    .dataframe tbody tr th {\n",
              "        vertical-align: top;\n",
              "    }\n",
              "\n",
              "    .dataframe thead th {\n",
              "        text-align: right;\n",
              "    }\n",
              "</style>\n",
              "<table border=\"1\" class=\"dataframe\">\n",
              "  <thead>\n",
              "    <tr style=\"text-align: right;\">\n",
              "      <th></th>\n",
              "      <th>frequency_cal</th>\n",
              "      <th>recency_cal</th>\n",
              "      <th>T_cal</th>\n",
              "      <th>monetary_value_cal</th>\n",
              "      <th>frequency_holdout</th>\n",
              "      <th>monetary_value_holdout</th>\n",
              "      <th>duration_holdout</th>\n",
              "      <th>Predict_Freq</th>\n",
              "      <th>alive_prob</th>\n",
              "    </tr>\n",
              "    <tr>\n",
              "      <th>Customer_ID</th>\n",
              "      <th></th>\n",
              "      <th></th>\n",
              "      <th></th>\n",
              "      <th></th>\n",
              "      <th></th>\n",
              "      <th></th>\n",
              "      <th></th>\n",
              "      <th></th>\n",
              "      <th></th>\n",
              "    </tr>\n",
              "  </thead>\n",
              "  <tbody>\n",
              "    <tr>\n",
              "      <th>21817</th>\n",
              "      <td>7.0</td>\n",
              "      <td>10.053595</td>\n",
              "      <td>11.992033</td>\n",
              "      <td>65.927143</td>\n",
              "      <td>0.0</td>\n",
              "      <td>0.000</td>\n",
              "      <td>3</td>\n",
              "      <td>1.0</td>\n",
              "      <td>0.332706</td>\n",
              "    </tr>\n",
              "    <tr>\n",
              "      <th>17259</th>\n",
              "      <td>4.0</td>\n",
              "      <td>11.992033</td>\n",
              "      <td>11.992033</td>\n",
              "      <td>76.380000</td>\n",
              "      <td>0.0</td>\n",
              "      <td>0.000</td>\n",
              "      <td>3</td>\n",
              "      <td>1.0</td>\n",
              "      <td>0.790207</td>\n",
              "    </tr>\n",
              "    <tr>\n",
              "      <th>22413</th>\n",
              "      <td>2.0</td>\n",
              "      <td>10.053595</td>\n",
              "      <td>11.992033</td>\n",
              "      <td>29.475000</td>\n",
              "      <td>0.0</td>\n",
              "      <td>0.000</td>\n",
              "      <td>3</td>\n",
              "      <td>0.0</td>\n",
              "      <td>0.801464</td>\n",
              "    </tr>\n",
              "    <tr>\n",
              "      <th>790</th>\n",
              "      <td>6.0</td>\n",
              "      <td>11.992033</td>\n",
              "      <td>13.930471</td>\n",
              "      <td>26.161667</td>\n",
              "      <td>3.0</td>\n",
              "      <td>20.684</td>\n",
              "      <td>3</td>\n",
              "      <td>1.0</td>\n",
              "      <td>0.553090</td>\n",
              "    </tr>\n",
              "    <tr>\n",
              "      <th>8464</th>\n",
              "      <td>3.0</td>\n",
              "      <td>12.911969</td>\n",
              "      <td>12.911969</td>\n",
              "      <td>49.606667</td>\n",
              "      <td>1.0</td>\n",
              "      <td>46.470</td>\n",
              "      <td>3</td>\n",
              "      <td>1.0</td>\n",
              "      <td>0.839938</td>\n",
              "    </tr>\n",
              "  </tbody>\n",
              "</table>\n",
              "</div>"
            ],
            "text/plain": [
              "             frequency_cal  recency_cal  ...  Predict_Freq  alive_prob\n",
              "Customer_ID                              ...                          \n",
              "21817                  7.0    10.053595  ...           1.0    0.332706\n",
              "17259                  4.0    11.992033  ...           1.0    0.790207\n",
              "22413                  2.0    10.053595  ...           0.0    0.801464\n",
              "790                    6.0    11.992033  ...           1.0    0.553090\n",
              "8464                   3.0    12.911969  ...           1.0    0.839938\n",
              "\n",
              "[5 rows x 9 columns]"
            ]
          },
          "metadata": {
            "tags": []
          },
          "execution_count": 16
        }
      ]
    },
    {
      "cell_type": "code",
      "metadata": {
        "id": "adkaLQVL-SFf",
        "colab_type": "code",
        "outputId": "12a26fb3-ba10-46cf-a6b5-82f1df87bc5d",
        "colab": {
          "base_uri": "https://localhost:8080/",
          "height": 35
        }
      },
      "source": [
        "repeated_customer = rfm_data[(rfm_data['frequency_cal'] > 0) & (rfm_data['monetary_value_cal'] > 0)].copy()\n",
        "repeated_customer.shape"
      ],
      "execution_count": 0,
      "outputs": [
        {
          "output_type": "execute_result",
          "data": {
            "text/plain": [
              "(10407, 8)"
            ]
          },
          "metadata": {
            "tags": []
          },
          "execution_count": 17
        }
      ]
    },
    {
      "cell_type": "markdown",
      "metadata": {
        "id": "S7i218Yx7PFP",
        "colab_type": "text"
      },
      "source": [
        "### Checking Assumptions of Gamma-Gamma Monetary Estimation Model"
      ]
    },
    {
      "cell_type": "code",
      "metadata": {
        "id": "DiRvXHyyHC2Z",
        "colab_type": "code",
        "outputId": "2781fc20-42ec-4202-cf99-9cac4f06d31b",
        "colab": {
          "base_uri": "https://localhost:8080/",
          "height": 112
        }
      },
      "source": [
        "repeated_customer[['monetary_value_cal', 'frequency_cal']].corr()"
      ],
      "execution_count": 0,
      "outputs": [
        {
          "output_type": "execute_result",
          "data": {
            "text/html": [
              "<div>\n",
              "<style scoped>\n",
              "    .dataframe tbody tr th:only-of-type {\n",
              "        vertical-align: middle;\n",
              "    }\n",
              "\n",
              "    .dataframe tbody tr th {\n",
              "        vertical-align: top;\n",
              "    }\n",
              "\n",
              "    .dataframe thead th {\n",
              "        text-align: right;\n",
              "    }\n",
              "</style>\n",
              "<table border=\"1\" class=\"dataframe\">\n",
              "  <thead>\n",
              "    <tr style=\"text-align: right;\">\n",
              "      <th></th>\n",
              "      <th>monetary_value_cal</th>\n",
              "      <th>frequency_cal</th>\n",
              "    </tr>\n",
              "  </thead>\n",
              "  <tbody>\n",
              "    <tr>\n",
              "      <th>monetary_value_cal</th>\n",
              "      <td>1.000000</td>\n",
              "      <td>0.196816</td>\n",
              "    </tr>\n",
              "    <tr>\n",
              "      <th>frequency_cal</th>\n",
              "      <td>0.196816</td>\n",
              "      <td>1.000000</td>\n",
              "    </tr>\n",
              "  </tbody>\n",
              "</table>\n",
              "</div>"
            ],
            "text/plain": [
              "                    monetary_value_cal  frequency_cal\n",
              "monetary_value_cal            1.000000       0.196816\n",
              "frequency_cal                 0.196816       1.000000"
            ]
          },
          "metadata": {
            "tags": []
          },
          "execution_count": 18
        }
      ]
    },
    {
      "cell_type": "markdown",
      "metadata": {
        "id": "lH5XLJp86Pe0",
        "colab_type": "text"
      },
      "source": [
        "### Estimating Monetary value for repeated customers"
      ]
    },
    {
      "cell_type": "code",
      "metadata": {
        "id": "vF-zEwZbHuut",
        "colab_type": "code",
        "outputId": "13be1ef3-990a-4255-bf04-ad319703adb8",
        "colab": {
          "base_uri": "https://localhost:8080/",
          "height": 35
        }
      },
      "source": [
        "ggf = GammaGammaFitter(penalizer_coef = 0)\n",
        "ggf.fit(repeated_customer['frequency_cal'],repeated_customer['monetary_value_cal'])"
      ],
      "execution_count": 0,
      "outputs": [
        {
          "output_type": "execute_result",
          "data": {
            "text/plain": [
              "<lifetimes.GammaGammaFitter: fitted with 10407 subjects, p: 4.32, q: 3.34, v: 24.02>"
            ]
          },
          "metadata": {
            "tags": []
          },
          "execution_count": 19
        }
      ]
    },
    {
      "cell_type": "code",
      "metadata": {
        "id": "y4GPVNZPIDTH",
        "colab_type": "code",
        "colab": {}
      },
      "source": [
        "repeated_customer['predicted_monetary_holdout'] = ggf.conditional_expected_average_profit(repeated_customer['Predict_Freq'],repeated_customer['monetary_value_cal'] )"
      ],
      "execution_count": 0,
      "outputs": []
    },
    {
      "cell_type": "markdown",
      "metadata": {
        "id": "raNUsDN96i5_",
        "colab_type": "text"
      },
      "source": [
        "### Estimating Customer Life Time Value"
      ]
    },
    {
      "cell_type": "code",
      "metadata": {
        "id": "svDGtYlzLKpv",
        "colab_type": "code",
        "colab": {}
      },
      "source": [
        "repeated_customer['cltv']= ggf.customer_lifetime_value(bgf,repeated_customer['frequency_cal'], repeated_customer['recency_cal'],\n",
        "                                                      repeated_customer['T_cal'], repeated_customer['monetary_value_cal'],\n",
        "                                                      time=3, discount_rate=0.01, freq = 'M')"
      ],
      "execution_count": 0,
      "outputs": []
    },
    {
      "cell_type": "markdown",
      "metadata": {
        "id": "9dGxpk6G6mf4",
        "colab_type": "text"
      },
      "source": [
        "### Sort Customers based on theri CLTV. Top 10 Customers"
      ]
    },
    {
      "cell_type": "code",
      "metadata": {
        "id": "lOTZfbsxUoR0",
        "colab_type": "code",
        "outputId": "92f09749-973d-45fc-f637-5a9cd9a616fb",
        "colab": {
          "base_uri": "https://localhost:8080/",
          "height": 414
        }
      },
      "source": [
        "repeated_customer.sort_values(by='cltv',ascending=False).head(10)"
      ],
      "execution_count": 0,
      "outputs": [
        {
          "output_type": "execute_result",
          "data": {
            "text/html": [
              "<div>\n",
              "<style scoped>\n",
              "    .dataframe tbody tr th:only-of-type {\n",
              "        vertical-align: middle;\n",
              "    }\n",
              "\n",
              "    .dataframe tbody tr th {\n",
              "        vertical-align: top;\n",
              "    }\n",
              "\n",
              "    .dataframe thead th {\n",
              "        text-align: right;\n",
              "    }\n",
              "</style>\n",
              "<table border=\"1\" class=\"dataframe\">\n",
              "  <thead>\n",
              "    <tr style=\"text-align: right;\">\n",
              "      <th></th>\n",
              "      <th>frequency_cal</th>\n",
              "      <th>recency_cal</th>\n",
              "      <th>T_cal</th>\n",
              "      <th>monetary_value_cal</th>\n",
              "      <th>frequency_holdout</th>\n",
              "      <th>monetary_value_holdout</th>\n",
              "      <th>duration_holdout</th>\n",
              "      <th>Predict_Freq</th>\n",
              "      <th>predicted_monetary_holdout</th>\n",
              "      <th>cltv</th>\n",
              "    </tr>\n",
              "    <tr>\n",
              "      <th>Customer_ID</th>\n",
              "      <th></th>\n",
              "      <th></th>\n",
              "      <th></th>\n",
              "      <th></th>\n",
              "      <th></th>\n",
              "      <th></th>\n",
              "      <th></th>\n",
              "      <th></th>\n",
              "      <th></th>\n",
              "      <th></th>\n",
              "    </tr>\n",
              "  </thead>\n",
              "  <tbody>\n",
              "    <tr>\n",
              "      <th>7592</th>\n",
              "      <td>14.0</td>\n",
              "      <td>13.930471</td>\n",
              "      <td>13.930471</td>\n",
              "      <td>812.762143</td>\n",
              "      <td>3.0</td>\n",
              "      <td>69.803056</td>\n",
              "      <td>3</td>\n",
              "      <td>2.0</td>\n",
              "      <td>649.176707</td>\n",
              "      <td>1800.030523</td>\n",
              "    </tr>\n",
              "    <tr>\n",
              "      <th>14048</th>\n",
              "      <td>13.0</td>\n",
              "      <td>12.911969</td>\n",
              "      <td>12.911969</td>\n",
              "      <td>553.510769</td>\n",
              "      <td>3.0</td>\n",
              "      <td>45.815263</td>\n",
              "      <td>3</td>\n",
              "      <td>2.0</td>\n",
              "      <td>445.120644</td>\n",
              "      <td>1205.317457</td>\n",
              "    </tr>\n",
              "    <tr>\n",
              "      <th>7931</th>\n",
              "      <td>14.0</td>\n",
              "      <td>13.930471</td>\n",
              "      <td>13.930471</td>\n",
              "      <td>382.035000</td>\n",
              "      <td>3.0</td>\n",
              "      <td>126.305000</td>\n",
              "      <td>3</td>\n",
              "      <td>2.0</td>\n",
              "      <td>310.152525</td>\n",
              "      <td>848.105475</td>\n",
              "    </tr>\n",
              "    <tr>\n",
              "      <th>7983</th>\n",
              "      <td>12.0</td>\n",
              "      <td>12.911969</td>\n",
              "      <td>12.911969</td>\n",
              "      <td>400.796667</td>\n",
              "      <td>3.0</td>\n",
              "      <td>26.112045</td>\n",
              "      <td>3</td>\n",
              "      <td>2.0</td>\n",
              "      <td>324.919783</td>\n",
              "      <td>805.946074</td>\n",
              "    </tr>\n",
              "    <tr>\n",
              "      <th>22279</th>\n",
              "      <td>6.0</td>\n",
              "      <td>11.992033</td>\n",
              "      <td>11.992033</td>\n",
              "      <td>586.205000</td>\n",
              "      <td>0.0</td>\n",
              "      <td>0.000000</td>\n",
              "      <td>3</td>\n",
              "      <td>1.0</td>\n",
              "      <td>395.998784</td>\n",
              "      <td>613.580578</td>\n",
              "    </tr>\n",
              "    <tr>\n",
              "      <th>6569</th>\n",
              "      <td>13.0</td>\n",
              "      <td>13.930471</td>\n",
              "      <td>13.930471</td>\n",
              "      <td>294.653846</td>\n",
              "      <td>3.0</td>\n",
              "      <td>175.950000</td>\n",
              "      <td>3</td>\n",
              "      <td>2.0</td>\n",
              "      <td>241.375053</td>\n",
              "      <td>607.816748</td>\n",
              "    </tr>\n",
              "    <tr>\n",
              "      <th>13167</th>\n",
              "      <td>8.0</td>\n",
              "      <td>12.911969</td>\n",
              "      <td>12.911969</td>\n",
              "      <td>433.320000</td>\n",
              "      <td>2.0</td>\n",
              "      <td>111.583333</td>\n",
              "      <td>3</td>\n",
              "      <td>1.0</td>\n",
              "      <td>296.786064</td>\n",
              "      <td>577.313073</td>\n",
              "    </tr>\n",
              "    <tr>\n",
              "      <th>2664</th>\n",
              "      <td>12.0</td>\n",
              "      <td>13.930471</td>\n",
              "      <td>13.930471</td>\n",
              "      <td>290.356667</td>\n",
              "      <td>3.0</td>\n",
              "      <td>81.150000</td>\n",
              "      <td>3</td>\n",
              "      <td>2.0</td>\n",
              "      <td>237.992755</td>\n",
              "      <td>552.524847</td>\n",
              "    </tr>\n",
              "    <tr>\n",
              "      <th>22061</th>\n",
              "      <td>12.0</td>\n",
              "      <td>11.992033</td>\n",
              "      <td>11.992033</td>\n",
              "      <td>252.580000</td>\n",
              "      <td>3.0</td>\n",
              "      <td>23.084000</td>\n",
              "      <td>3</td>\n",
              "      <td>2.0</td>\n",
              "      <td>208.258841</td>\n",
              "      <td>537.916225</td>\n",
              "    </tr>\n",
              "    <tr>\n",
              "      <th>12367</th>\n",
              "      <td>13.0</td>\n",
              "      <td>12.911969</td>\n",
              "      <td>12.911969</td>\n",
              "      <td>239.304615</td>\n",
              "      <td>3.0</td>\n",
              "      <td>41.936923</td>\n",
              "      <td>3</td>\n",
              "      <td>2.0</td>\n",
              "      <td>197.809822</td>\n",
              "      <td>523.383018</td>\n",
              "    </tr>\n",
              "  </tbody>\n",
              "</table>\n",
              "</div>"
            ],
            "text/plain": [
              "             frequency_cal  ...         cltv\n",
              "Customer_ID                 ...             \n",
              "7592                  14.0  ...  1800.030523\n",
              "14048                 13.0  ...  1205.317457\n",
              "7931                  14.0  ...   848.105475\n",
              "7983                  12.0  ...   805.946074\n",
              "22279                  6.0  ...   613.580578\n",
              "6569                  13.0  ...   607.816748\n",
              "13167                  8.0  ...   577.313073\n",
              "2664                  12.0  ...   552.524847\n",
              "22061                 12.0  ...   537.916225\n",
              "12367                 13.0  ...   523.383018\n",
              "\n",
              "[10 rows x 10 columns]"
            ]
          },
          "metadata": {
            "tags": []
          },
          "execution_count": 22
        }
      ]
    },
    {
      "cell_type": "code",
      "metadata": {
        "id": "a74Q5paoU7IN",
        "colab_type": "code",
        "colab": {}
      },
      "source": [
        ""
      ],
      "execution_count": 0,
      "outputs": []
    }
  ]
}
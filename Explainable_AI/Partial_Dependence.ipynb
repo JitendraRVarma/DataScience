{
 "cells": [
  {
   "cell_type": "code",
   "execution_count": 1,
   "metadata": {
    "id": "Nfs98MyhBYnl"
   },
   "outputs": [],
   "source": [
    "import pandas as pd\n",
    "import numpy as np\n",
    "import matplotlib.pyplot as plt\n",
    "import seaborn as sns\n",
    "\n",
    "from sklearn.ensemble import RandomForestRegressor\n",
    "from sklearn.metrics import mean_squared_error\n",
    "from sklearn.preprocessing import StandardScaler\n",
    "from sklearn.inspection import plot_partial_dependence\n",
    "from sklearn.inspection import partial_dependence\n",
    "\n",
    "pd.set_option('display.max_columns', 1000)\n",
    "pd.set_option('display.max_colwidth', 1000)\n",
    "pd.options.display.float_format = '{:.4f}'.format\n",
    "sns.set()"
   ]
  },
  {
   "cell_type": "code",
   "execution_count": 2,
   "metadata": {
    "colab": {
     "base_uri": "https://localhost:8080/",
     "height": 142
    },
    "id": "cLV4krcqCwUB",
    "outputId": "b7b11c4b-91f4-4661-e3b1-80412639e43d"
   },
   "outputs": [
    {
     "data": {
      "text/html": [
       "<div>\n",
       "<style scoped>\n",
       "    .dataframe tbody tr th:only-of-type {\n",
       "        vertical-align: middle;\n",
       "    }\n",
       "\n",
       "    .dataframe tbody tr th {\n",
       "        vertical-align: top;\n",
       "    }\n",
       "\n",
       "    .dataframe thead th {\n",
       "        text-align: right;\n",
       "    }\n",
       "</style>\n",
       "<table border=\"1\" class=\"dataframe\">\n",
       "  <thead>\n",
       "    <tr style=\"text-align: right;\">\n",
       "      <th></th>\n",
       "      <th>season</th>\n",
       "      <th>yr</th>\n",
       "      <th>mnth</th>\n",
       "      <th>holiday</th>\n",
       "      <th>weekday</th>\n",
       "      <th>workingday</th>\n",
       "      <th>weathersit</th>\n",
       "      <th>temp</th>\n",
       "      <th>hum</th>\n",
       "      <th>windspeed</th>\n",
       "      <th>cnt</th>\n",
       "      <th>days_since_2011</th>\n",
       "    </tr>\n",
       "  </thead>\n",
       "  <tbody>\n",
       "    <tr>\n",
       "      <th>0</th>\n",
       "      <td>SPRING</td>\n",
       "      <td>2011</td>\n",
       "      <td>JAN</td>\n",
       "      <td>NO HOLIDAY</td>\n",
       "      <td>SAT</td>\n",
       "      <td>NO WORKING DAY</td>\n",
       "      <td>MISTY</td>\n",
       "      <td>8.1758</td>\n",
       "      <td>80.5833</td>\n",
       "      <td>10.7499</td>\n",
       "      <td>985</td>\n",
       "      <td>0</td>\n",
       "    </tr>\n",
       "    <tr>\n",
       "      <th>1</th>\n",
       "      <td>SPRING</td>\n",
       "      <td>2011</td>\n",
       "      <td>JAN</td>\n",
       "      <td>NO HOLIDAY</td>\n",
       "      <td>SUN</td>\n",
       "      <td>NO WORKING DAY</td>\n",
       "      <td>MISTY</td>\n",
       "      <td>9.0835</td>\n",
       "      <td>69.6087</td>\n",
       "      <td>16.6521</td>\n",
       "      <td>801</td>\n",
       "      <td>1</td>\n",
       "    </tr>\n",
       "    <tr>\n",
       "      <th>2</th>\n",
       "      <td>SPRING</td>\n",
       "      <td>2011</td>\n",
       "      <td>JAN</td>\n",
       "      <td>NO HOLIDAY</td>\n",
       "      <td>MON</td>\n",
       "      <td>WORKING DAY</td>\n",
       "      <td>GOOD</td>\n",
       "      <td>1.2291</td>\n",
       "      <td>43.7273</td>\n",
       "      <td>16.6367</td>\n",
       "      <td>1349</td>\n",
       "      <td>2</td>\n",
       "    </tr>\n",
       "  </tbody>\n",
       "</table>\n",
       "</div>"
      ],
      "text/plain": [
       "   season    yr mnth     holiday weekday      workingday weathersit   temp  \\\n",
       "0  SPRING  2011  JAN  NO HOLIDAY     SAT  NO WORKING DAY      MISTY 8.1758   \n",
       "1  SPRING  2011  JAN  NO HOLIDAY     SUN  NO WORKING DAY      MISTY 9.0835   \n",
       "2  SPRING  2011  JAN  NO HOLIDAY     MON     WORKING DAY       GOOD 1.2291   \n",
       "\n",
       "      hum  windspeed   cnt  days_since_2011  \n",
       "0 80.5833    10.7499   985                0  \n",
       "1 69.6087    16.6521   801                1  \n",
       "2 43.7273    16.6367  1349                2  "
      ]
     },
     "execution_count": 2,
     "metadata": {},
     "output_type": "execute_result"
    }
   ],
   "source": [
    "# load dataset\n",
    "raw_df = pd.read_csv(\"bike.csv\")\n",
    "raw_df.head(3)"
   ]
  },
  {
   "cell_type": "code",
   "execution_count": 3,
   "metadata": {
    "colab": {
     "base_uri": "https://localhost:8080/",
     "height": 179
    },
    "id": "Q5loG8XsDKE7",
    "outputId": "b002a1ec-65b9-4fd4-e2a7-59cf814c793e"
   },
   "outputs": [
    {
     "data": {
      "text/html": [
       "<div>\n",
       "<style scoped>\n",
       "    .dataframe tbody tr th:only-of-type {\n",
       "        vertical-align: middle;\n",
       "    }\n",
       "\n",
       "    .dataframe tbody tr th {\n",
       "        vertical-align: top;\n",
       "    }\n",
       "\n",
       "    .dataframe thead th {\n",
       "        text-align: right;\n",
       "    }\n",
       "</style>\n",
       "<table border=\"1\" class=\"dataframe\">\n",
       "  <thead>\n",
       "    <tr style=\"text-align: right;\">\n",
       "      <th></th>\n",
       "      <th>yr</th>\n",
       "      <th>temp</th>\n",
       "      <th>hum</th>\n",
       "      <th>windspeed</th>\n",
       "      <th>cnt</th>\n",
       "      <th>days_since_2011</th>\n",
       "      <th>season_FALL</th>\n",
       "      <th>season_SPRING</th>\n",
       "      <th>season_SUMMER</th>\n",
       "      <th>season_WINTER</th>\n",
       "      <th>mnth_APR</th>\n",
       "      <th>mnth_AUG</th>\n",
       "      <th>mnth_DEC</th>\n",
       "      <th>mnth_FEB</th>\n",
       "      <th>mnth_JAN</th>\n",
       "      <th>mnth_JUL</th>\n",
       "      <th>mnth_JUN</th>\n",
       "      <th>mnth_MAR</th>\n",
       "      <th>mnth_MAY</th>\n",
       "      <th>mnth_NOV</th>\n",
       "      <th>mnth_OCT</th>\n",
       "      <th>mnth_SEP</th>\n",
       "      <th>holiday_HOLIDAY</th>\n",
       "      <th>holiday_NO HOLIDAY</th>\n",
       "      <th>weekday_FRI</th>\n",
       "      <th>weekday_MON</th>\n",
       "      <th>weekday_SAT</th>\n",
       "      <th>weekday_SUN</th>\n",
       "      <th>weekday_THU</th>\n",
       "      <th>weekday_TUE</th>\n",
       "      <th>weekday_WED</th>\n",
       "      <th>workingday_NO WORKING DAY</th>\n",
       "      <th>workingday_WORKING DAY</th>\n",
       "      <th>weathersit_GOOD</th>\n",
       "      <th>weathersit_MISTY</th>\n",
       "      <th>weathersit_RAIN/SNOW/STORM</th>\n",
       "    </tr>\n",
       "  </thead>\n",
       "  <tbody>\n",
       "    <tr>\n",
       "      <th>0</th>\n",
       "      <td>2011</td>\n",
       "      <td>8.1758</td>\n",
       "      <td>80.5833</td>\n",
       "      <td>10.7499</td>\n",
       "      <td>985</td>\n",
       "      <td>0</td>\n",
       "      <td>0</td>\n",
       "      <td>1</td>\n",
       "      <td>0</td>\n",
       "      <td>0</td>\n",
       "      <td>0</td>\n",
       "      <td>0</td>\n",
       "      <td>0</td>\n",
       "      <td>0</td>\n",
       "      <td>1</td>\n",
       "      <td>0</td>\n",
       "      <td>0</td>\n",
       "      <td>0</td>\n",
       "      <td>0</td>\n",
       "      <td>0</td>\n",
       "      <td>0</td>\n",
       "      <td>0</td>\n",
       "      <td>0</td>\n",
       "      <td>1</td>\n",
       "      <td>0</td>\n",
       "      <td>0</td>\n",
       "      <td>1</td>\n",
       "      <td>0</td>\n",
       "      <td>0</td>\n",
       "      <td>0</td>\n",
       "      <td>0</td>\n",
       "      <td>1</td>\n",
       "      <td>0</td>\n",
       "      <td>0</td>\n",
       "      <td>1</td>\n",
       "      <td>0</td>\n",
       "    </tr>\n",
       "    <tr>\n",
       "      <th>1</th>\n",
       "      <td>2011</td>\n",
       "      <td>9.0835</td>\n",
       "      <td>69.6087</td>\n",
       "      <td>16.6521</td>\n",
       "      <td>801</td>\n",
       "      <td>1</td>\n",
       "      <td>0</td>\n",
       "      <td>1</td>\n",
       "      <td>0</td>\n",
       "      <td>0</td>\n",
       "      <td>0</td>\n",
       "      <td>0</td>\n",
       "      <td>0</td>\n",
       "      <td>0</td>\n",
       "      <td>1</td>\n",
       "      <td>0</td>\n",
       "      <td>0</td>\n",
       "      <td>0</td>\n",
       "      <td>0</td>\n",
       "      <td>0</td>\n",
       "      <td>0</td>\n",
       "      <td>0</td>\n",
       "      <td>0</td>\n",
       "      <td>1</td>\n",
       "      <td>0</td>\n",
       "      <td>0</td>\n",
       "      <td>0</td>\n",
       "      <td>1</td>\n",
       "      <td>0</td>\n",
       "      <td>0</td>\n",
       "      <td>0</td>\n",
       "      <td>1</td>\n",
       "      <td>0</td>\n",
       "      <td>0</td>\n",
       "      <td>1</td>\n",
       "      <td>0</td>\n",
       "    </tr>\n",
       "    <tr>\n",
       "      <th>2</th>\n",
       "      <td>2011</td>\n",
       "      <td>1.2291</td>\n",
       "      <td>43.7273</td>\n",
       "      <td>16.6367</td>\n",
       "      <td>1349</td>\n",
       "      <td>2</td>\n",
       "      <td>0</td>\n",
       "      <td>1</td>\n",
       "      <td>0</td>\n",
       "      <td>0</td>\n",
       "      <td>0</td>\n",
       "      <td>0</td>\n",
       "      <td>0</td>\n",
       "      <td>0</td>\n",
       "      <td>1</td>\n",
       "      <td>0</td>\n",
       "      <td>0</td>\n",
       "      <td>0</td>\n",
       "      <td>0</td>\n",
       "      <td>0</td>\n",
       "      <td>0</td>\n",
       "      <td>0</td>\n",
       "      <td>0</td>\n",
       "      <td>1</td>\n",
       "      <td>0</td>\n",
       "      <td>1</td>\n",
       "      <td>0</td>\n",
       "      <td>0</td>\n",
       "      <td>0</td>\n",
       "      <td>0</td>\n",
       "      <td>0</td>\n",
       "      <td>0</td>\n",
       "      <td>1</td>\n",
       "      <td>1</td>\n",
       "      <td>0</td>\n",
       "      <td>0</td>\n",
       "    </tr>\n",
       "  </tbody>\n",
       "</table>\n",
       "</div>"
      ],
      "text/plain": [
       "     yr   temp     hum  windspeed   cnt  days_since_2011  season_FALL  \\\n",
       "0  2011 8.1758 80.5833    10.7499   985                0            0   \n",
       "1  2011 9.0835 69.6087    16.6521   801                1            0   \n",
       "2  2011 1.2291 43.7273    16.6367  1349                2            0   \n",
       "\n",
       "   season_SPRING  season_SUMMER  season_WINTER  mnth_APR  mnth_AUG  mnth_DEC  \\\n",
       "0              1              0              0         0         0         0   \n",
       "1              1              0              0         0         0         0   \n",
       "2              1              0              0         0         0         0   \n",
       "\n",
       "   mnth_FEB  mnth_JAN  mnth_JUL  mnth_JUN  mnth_MAR  mnth_MAY  mnth_NOV  \\\n",
       "0         0         1         0         0         0         0         0   \n",
       "1         0         1         0         0         0         0         0   \n",
       "2         0         1         0         0         0         0         0   \n",
       "\n",
       "   mnth_OCT  mnth_SEP  holiday_HOLIDAY  holiday_NO HOLIDAY  weekday_FRI  \\\n",
       "0         0         0                0                   1            0   \n",
       "1         0         0                0                   1            0   \n",
       "2         0         0                0                   1            0   \n",
       "\n",
       "   weekday_MON  weekday_SAT  weekday_SUN  weekday_THU  weekday_TUE  \\\n",
       "0            0            1            0            0            0   \n",
       "1            0            0            1            0            0   \n",
       "2            1            0            0            0            0   \n",
       "\n",
       "   weekday_WED  workingday_NO WORKING DAY  workingday_WORKING DAY  \\\n",
       "0            0                          1                       0   \n",
       "1            0                          1                       0   \n",
       "2            0                          0                       1   \n",
       "\n",
       "   weathersit_GOOD  weathersit_MISTY  weathersit_RAIN/SNOW/STORM  \n",
       "0                0                 1                           0  \n",
       "1                0                 1                           0  \n",
       "2                1                 0                           0  "
      ]
     },
     "execution_count": 3,
     "metadata": {},
     "output_type": "execute_result"
    }
   ],
   "source": [
    "# dummy encode categorical columns\n",
    "df = pd.get_dummies(data=raw_df)\n",
    "df.head(3)"
   ]
  },
  {
   "cell_type": "code",
   "execution_count": 4,
   "metadata": {
    "colab": {
     "base_uri": "https://localhost:8080/"
    },
    "id": "a1xfSoRtDR4K",
    "outputId": "63a8f045-38fd-42d6-ef71-ebc644eb6163"
   },
   "outputs": [
    {
     "data": {
      "text/plain": [
       "RandomForestRegressor(bootstrap=True, ccp_alpha=0.0, criterion='mse',\n",
       "                      max_depth=5, max_features='auto', max_leaf_nodes=None,\n",
       "                      max_samples=None, min_impurity_decrease=0.0,\n",
       "                      min_impurity_split=None, min_samples_leaf=1,\n",
       "                      min_samples_split=2, min_weight_fraction_leaf=0.0,\n",
       "                      n_estimators=50, n_jobs=-1, oob_score=False,\n",
       "                      random_state=42, verbose=0, warm_start=False)"
      ]
     },
     "execution_count": 4,
     "metadata": {},
     "output_type": "execute_result"
    }
   ],
   "source": [
    "# train simple model\n",
    "y = df['cnt']\n",
    "x = df.drop('cnt', axis=1)\n",
    "\n",
    "rf = RandomForestRegressor(random_state=42, n_estimators=50, n_jobs=-1,max_depth=5)\n",
    "rf.fit(x, y)"
   ]
  },
  {
   "cell_type": "code",
   "execution_count": 5,
   "metadata": {
    "colab": {
     "base_uri": "https://localhost:8080/",
     "height": 502
    },
    "id": "yFmnymHZEkOx",
    "outputId": "15fa1c7c-90bd-4b39-8b12-0b56e3a4203d"
   },
   "outputs": [
    {
     "data": {
      "text/plain": [
       "<matplotlib.axes._subplots.AxesSubplot at 0x7f39a8ef8a50>"
      ]
     },
     "execution_count": 5,
     "metadata": {},
     "output_type": "execute_result"
    },
    {
     "data": {
      "image/png": "[encoded data removed]",
      "text/plain": [
       "<Figure size 1080x576 with 1 Axes>"
      ]
     },
     "metadata": {
      "needs_background": "light"
     },
     "output_type": "display_data"
    }
   ],
   "source": [
    "feat_importances = pd.Series(rf.feature_importances_, index=x.columns)\n",
    "feat_importances.sort_values(ascending=True).tail(10).plot(kind='barh',figsize=(15,8)) "
   ]
  },
  {
   "cell_type": "code",
   "execution_count": 6,
   "metadata": {
    "colab": {
     "base_uri": "https://localhost:8080/"
    },
    "id": "mg_JyFkiEsE0",
    "outputId": "3513206a-492a-4e7a-daa7-ba7875ad59dc"
   },
   "outputs": [
    {
     "data": {
      "text/plain": [
       "1.0"
      ]
     },
     "execution_count": 6,
     "metadata": {},
     "output_type": "execute_result"
    }
   ],
   "source": [
    "feat_importances.sum()"
   ]
  },
  {
   "cell_type": "code",
   "execution_count": 7,
   "metadata": {
    "colab": {
     "base_uri": "https://localhost:8080/"
    },
    "id": "2_SvtRw8H14B",
    "outputId": "d5840b75-b3aa-4047-a106-9dd02fb177b6"
   },
   "outputs": [
    {
     "data": {
      "text/plain": [
       "595.5003611949719"
      ]
     },
     "execution_count": 7,
     "metadata": {},
     "output_type": "execute_result"
    }
   ],
   "source": [
    "# check rmse\n",
    "predict = rf.predict(x)\n",
    "mean_squared_error(y, predict,squared=False)"
   ]
  },
  {
   "cell_type": "code",
   "execution_count": 8,
   "metadata": {
    "colab": {
     "base_uri": "https://localhost:8080/",
     "height": 148
    },
    "id": "iyDrc36IxRGH",
    "outputId": "ef83c843-421e-4832-981f-3c3cfbcab2a5"
   },
   "outputs": [
    {
     "data": {
      "text/html": [
       "<div>\n",
       "<style scoped>\n",
       "    .dataframe tbody tr th:only-of-type {\n",
       "        vertical-align: middle;\n",
       "    }\n",
       "\n",
       "    .dataframe tbody tr th {\n",
       "        vertical-align: top;\n",
       "    }\n",
       "\n",
       "    .dataframe thead th {\n",
       "        text-align: right;\n",
       "    }\n",
       "</style>\n",
       "<table border=\"1\" class=\"dataframe\">\n",
       "  <thead>\n",
       "    <tr style=\"text-align: right;\">\n",
       "      <th></th>\n",
       "      <th>yr</th>\n",
       "      <th>temp</th>\n",
       "      <th>hum</th>\n",
       "      <th>windspeed</th>\n",
       "      <th>days_since_2011</th>\n",
       "      <th>season_FALL</th>\n",
       "      <th>season_SPRING</th>\n",
       "      <th>season_SUMMER</th>\n",
       "      <th>season_WINTER</th>\n",
       "      <th>mnth_APR</th>\n",
       "      <th>mnth_AUG</th>\n",
       "      <th>mnth_DEC</th>\n",
       "      <th>mnth_FEB</th>\n",
       "      <th>mnth_JAN</th>\n",
       "      <th>mnth_JUL</th>\n",
       "      <th>mnth_JUN</th>\n",
       "      <th>mnth_MAR</th>\n",
       "      <th>mnth_MAY</th>\n",
       "      <th>mnth_NOV</th>\n",
       "      <th>mnth_OCT</th>\n",
       "      <th>mnth_SEP</th>\n",
       "      <th>holiday_HOLIDAY</th>\n",
       "      <th>holiday_NO HOLIDAY</th>\n",
       "      <th>weekday_FRI</th>\n",
       "      <th>weekday_MON</th>\n",
       "      <th>weekday_SAT</th>\n",
       "      <th>weekday_SUN</th>\n",
       "      <th>weekday_THU</th>\n",
       "      <th>weekday_TUE</th>\n",
       "      <th>weekday_WED</th>\n",
       "      <th>workingday_NO WORKING DAY</th>\n",
       "      <th>workingday_WORKING DAY</th>\n",
       "      <th>weathersit_GOOD</th>\n",
       "      <th>weathersit_MISTY</th>\n",
       "      <th>weathersit_RAIN/SNOW/STORM</th>\n",
       "    </tr>\n",
       "  </thead>\n",
       "  <tbody>\n",
       "    <tr>\n",
       "      <th>0</th>\n",
       "      <td>2011</td>\n",
       "      <td>8.1758</td>\n",
       "      <td>80.5833</td>\n",
       "      <td>10.7499</td>\n",
       "      <td>0</td>\n",
       "      <td>0</td>\n",
       "      <td>1</td>\n",
       "      <td>0</td>\n",
       "      <td>0</td>\n",
       "      <td>0</td>\n",
       "      <td>0</td>\n",
       "      <td>0</td>\n",
       "      <td>0</td>\n",
       "      <td>1</td>\n",
       "      <td>0</td>\n",
       "      <td>0</td>\n",
       "      <td>0</td>\n",
       "      <td>0</td>\n",
       "      <td>0</td>\n",
       "      <td>0</td>\n",
       "      <td>0</td>\n",
       "      <td>0</td>\n",
       "      <td>1</td>\n",
       "      <td>0</td>\n",
       "      <td>0</td>\n",
       "      <td>1</td>\n",
       "      <td>0</td>\n",
       "      <td>0</td>\n",
       "      <td>0</td>\n",
       "      <td>0</td>\n",
       "      <td>1</td>\n",
       "      <td>0</td>\n",
       "      <td>0</td>\n",
       "      <td>1</td>\n",
       "      <td>0</td>\n",
       "    </tr>\n",
       "    <tr>\n",
       "      <th>1</th>\n",
       "      <td>2011</td>\n",
       "      <td>9.0835</td>\n",
       "      <td>69.6087</td>\n",
       "      <td>16.6521</td>\n",
       "      <td>1</td>\n",
       "      <td>0</td>\n",
       "      <td>1</td>\n",
       "      <td>0</td>\n",
       "      <td>0</td>\n",
       "      <td>0</td>\n",
       "      <td>0</td>\n",
       "      <td>0</td>\n",
       "      <td>0</td>\n",
       "      <td>1</td>\n",
       "      <td>0</td>\n",
       "      <td>0</td>\n",
       "      <td>0</td>\n",
       "      <td>0</td>\n",
       "      <td>0</td>\n",
       "      <td>0</td>\n",
       "      <td>0</td>\n",
       "      <td>0</td>\n",
       "      <td>1</td>\n",
       "      <td>0</td>\n",
       "      <td>0</td>\n",
       "      <td>0</td>\n",
       "      <td>1</td>\n",
       "      <td>0</td>\n",
       "      <td>0</td>\n",
       "      <td>0</td>\n",
       "      <td>1</td>\n",
       "      <td>0</td>\n",
       "      <td>0</td>\n",
       "      <td>1</td>\n",
       "      <td>0</td>\n",
       "    </tr>\n",
       "  </tbody>\n",
       "</table>\n",
       "</div>"
      ],
      "text/plain": [
       "     yr   temp     hum  windspeed  days_since_2011  season_FALL  \\\n",
       "0  2011 8.1758 80.5833    10.7499                0            0   \n",
       "1  2011 9.0835 69.6087    16.6521                1            0   \n",
       "\n",
       "   season_SPRING  season_SUMMER  season_WINTER  mnth_APR  mnth_AUG  mnth_DEC  \\\n",
       "0              1              0              0         0         0         0   \n",
       "1              1              0              0         0         0         0   \n",
       "\n",
       "   mnth_FEB  mnth_JAN  mnth_JUL  mnth_JUN  mnth_MAR  mnth_MAY  mnth_NOV  \\\n",
       "0         0         1         0         0         0         0         0   \n",
       "1         0         1         0         0         0         0         0   \n",
       "\n",
       "   mnth_OCT  mnth_SEP  holiday_HOLIDAY  holiday_NO HOLIDAY  weekday_FRI  \\\n",
       "0         0         0                0                   1            0   \n",
       "1         0         0                0                   1            0   \n",
       "\n",
       "   weekday_MON  weekday_SAT  weekday_SUN  weekday_THU  weekday_TUE  \\\n",
       "0            0            1            0            0            0   \n",
       "1            0            0            1            0            0   \n",
       "\n",
       "   weekday_WED  workingday_NO WORKING DAY  workingday_WORKING DAY  \\\n",
       "0            0                          1                       0   \n",
       "1            0                          1                       0   \n",
       "\n",
       "   weathersit_GOOD  weathersit_MISTY  weathersit_RAIN/SNOW/STORM  \n",
       "0                0                 1                           0  \n",
       "1                0                 1                           0  "
      ]
     },
     "execution_count": 8,
     "metadata": {},
     "output_type": "execute_result"
    }
   ],
   "source": [
    "x.head(2)"
   ]
  },
  {
   "cell_type": "code",
   "execution_count": 9,
   "metadata": {
    "colab": {
     "base_uri": "https://localhost:8080/",
     "height": 502
    },
    "id": "ZoU1BeQBwgkc",
    "outputId": "0efb08dd-01af-4243-ed19-a2027bcaf3b6"
   },
   "outputs": [
    {
     "data": {
      "image/png": "[encoded data removed]",
      "text/plain": [
       "<Figure size 1080x576 with 4 Axes>"
      ]
     },
     "metadata": {
      "needs_background": "light"
     },
     "output_type": "display_data"
    }
   ],
   "source": [
    "# univarte PDP Plots - numeric\n",
    "features = ['days_since_2011', 'temp','hum']\n",
    "fig, ax = plt.subplots(figsize=(15, 8))\n",
    "fig= plot_partial_dependence(estimator=rf, target=y,X=x,features=features, grid_resolution=20,ax=ax)"
   ]
  },
  {
   "cell_type": "code",
   "execution_count": 10,
   "metadata": {
    "colab": {
     "base_uri": "https://localhost:8080/",
     "height": 504
    },
    "id": "4CB33qy5xwPa",
    "outputId": "37abd639-3b17-4b88-aa48-f34772cb3df5"
   },
   "outputs": [
    {
     "data": {
      "image/png": "[encoded data removed]",
      "text/plain": [
       "<Figure size 1080x576 with 5 Axes>"
      ]
     },
     "metadata": {
      "needs_background": "light"
     },
     "output_type": "display_data"
    }
   ],
   "source": [
    "# univarte PDP Plots - numeric\n",
    "features = ['season_FALL','season_SPRING','season_SUMMER','season_WINTER']\n",
    "fig, ax = plt.subplots(figsize=(15, 8))\n",
    "fig= plot_partial_dependence(estimator=rf, target=y,X=x,features=features, grid_resolution=20,ax=ax)"
   ]
  },
  {
   "cell_type": "code",
   "execution_count": 11,
   "metadata": {
    "colab": {
     "base_uri": "https://localhost:8080/"
    },
    "id": "ObFTBuM-0bCW",
    "outputId": "421c33ed-1292-4d94-c3ec-3bed8807c9b1"
   },
   "outputs": [
    {
     "data": {
      "text/plain": [
       "(array([[4521.45750653, 4521.4014737 ]]), [array([0, 1], dtype=uint8)])"
      ]
     },
     "execution_count": 11,
     "metadata": {},
     "output_type": "execute_result"
    }
   ],
   "source": [
    "pdp, axes = partial_dependence(rf, x,features=features[0])\n",
    "pdp,axes"
   ]
  },
  {
   "cell_type": "code",
   "execution_count": 12,
   "metadata": {
    "colab": {
     "base_uri": "https://localhost:8080/",
     "height": 503
    },
    "id": "j4TEZ2_N0xlv",
    "outputId": "716bf97a-e5cc-44a0-d161-44a1b7d2f3cc"
   },
   "outputs": [
    {
     "data": {
      "text/plain": [
       "<BarContainer object of 4 artists>"
      ]
     },
     "execution_count": 12,
     "metadata": {},
     "output_type": "execute_result"
    },
    {
     "data": {
      "image/png": "[encoded data removed]",
      "text/plain": [
       "<Figure size 1080x576 with 1 Axes>"
      ]
     },
     "metadata": {
      "needs_background": "light"
     },
     "output_type": "display_data"
    }
   ],
   "source": [
    "out = {}\n",
    "for feat in features:\n",
    "    pdp, axes = partial_dependence(rf, x,features=feat)\n",
    "    out[feat] = pdp[0][1]\n",
    "\n",
    "plt.figure(figsize=(15,8))\n",
    "plt.bar(out.keys(), out.values())"
   ]
  },
  {
   "cell_type": "code",
   "execution_count": 13,
   "metadata": {
    "colab": {
     "base_uri": "https://localhost:8080/",
     "height": 628
    },
    "id": "GrN9XxN74wFN",
    "outputId": "ddb2cb9b-02e2-4026-eb81-37137df1259e"
   },
   "outputs": [
    {
     "data": {
      "text/plain": [
       "<sklearn.inspection._partial_dependence.PartialDependenceDisplay at 0x7f39abe33d10>"
      ]
     },
     "execution_count": 13,
     "metadata": {},
     "output_type": "execute_result"
    },
    {
     "data": {
      "image/png": "[encoded data removed]",
      "text/plain": [
       "<Figure size 1440x720 with 2 Axes>"
      ]
     },
     "metadata": {
      "needs_background": "light"
     },
     "output_type": "display_data"
    }
   ],
   "source": [
    "features = [('temp', 'hum')]\n",
    "fig, ax = plt.subplots(figsize=(20, 10))\n",
    "plot_partial_dependence(estimator=rf, target=y,X=x, features=features, ax=ax, grid_resolution=20)"
   ]
  }
 ],
 "metadata": {
  "colab": {
   "collapsed_sections": [],
   "name": "Partial_Dependence.ipynb",
   "provenance": []
  },
  "kernelspec": {
   "display_name": "Python 3",
   "language": "python",
   "name": "python3"
  },
  "language_info": {
   "codemirror_mode": {
    "name": "ipython",
    "version": 3
   },
   "file_extension": ".py",
   "mimetype": "text/x-python",
   "name": "python",
   "nbconvert_exporter": "python",
   "pygments_lexer": "ipython3",
   "version": "3.8.8"
  }
 },
 "nbformat": 4,
 "nbformat_minor": 1
}

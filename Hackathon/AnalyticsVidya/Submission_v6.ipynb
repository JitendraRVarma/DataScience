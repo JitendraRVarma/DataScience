{
 "cells": [
  {
   "cell_type": "markdown",
   "id": "64f1c693",
   "metadata": {},
   "source": [
    "# Problem Statement\n",
    "\n",
    "### Credit Card Lead Prediction\n",
    "\n",
    "Happy Customer Bank is a mid-sized private bank that deals in all kinds of banking products, like Savings accounts, Current accounts, investment products, credit products, among other offerings.\n",
    "\n",
    "\n",
    "The bank also cross-sells products to its existing customers and to do so they use different kinds of communication like tele-calling, e-mails, recommendations on net banking, mobile banking, etc. \n",
    "\n",
    "\n",
    "In this case, the Happy Customer Bank wants to cross sell its credit cards to its existing customers. The bank has identified a set of customers that are eligible for taking these credit cards.\n",
    "\n",
    "\n",
    "Now, the bank is looking for your help in identifying customers that could show higher intent towards a recommended credit card, given:\n",
    "\n",
    "    Customer details (gender, age, region etc.)\n",
    "    Details of his/her relationship with the bank (Channel_Code,Vintage, 'Avg_Asset_Value etc.)\n"
   ]
  },
  {
   "cell_type": "code",
   "execution_count": 1,
   "id": "02ec4c56",
   "metadata": {},
   "outputs": [],
   "source": [
    "import pandas as pd\n",
    "import numpy as np\n",
    "import matplotlib.pyplot as plt\n",
    "import seaborn as sns\n",
    "from sklearn.model_selection import train_test_split\n",
    "\n",
    "from sklearn.preprocessing import LabelEncoder\n",
    "from lightgbm import LGBMClassifier\n",
    "from sklearn.metrics import roc_auc_score\n",
    "from xgboost import XGBClassifier\n",
    "\n",
    "\n",
    "from catboost import CatBoostClassifier\n",
    "from sklearn.ensemble import AdaBoostClassifier\n",
    "from sklearn.ensemble import GradientBoostingClassifier\n",
    "\n",
    "from sklearn.experimental import enable_hist_gradient_boosting\n",
    "from sklearn.ensemble import HistGradientBoostingClassifier\n",
    "\n",
    "from sklearn.linear_model import LogisticRegression\n",
    "\n",
    "pd.options.display.max_columns = 200"
   ]
  },
  {
   "cell_type": "code",
   "execution_count": 2,
   "id": "1528de3e",
   "metadata": {},
   "outputs": [
    {
     "name": "stdout",
     "output_type": "stream",
     "text": [
      "Train shape (245725, 11), Test Shape (105312, 10)\n"
     ]
    }
   ],
   "source": [
    "data = pd.read_csv(\"train_s3TEQDk.csv\")\n",
    "test = pd.read_csv(\"test_mSzZ8RL.csv\")\n",
    "print(f\"Train shape {data.shape}, Test Shape {test.shape}\")"
   ]
  },
  {
   "cell_type": "code",
   "execution_count": 3,
   "id": "30a20324",
   "metadata": {},
   "outputs": [
    {
     "name": "stdout",
     "output_type": "stream",
     "text": [
      "Train shape (196580, 11) Validation shape (49145, 11)\n"
     ]
    }
   ],
   "source": [
    "train,valid = train_test_split(data,test_size=0.20,random_state=345,stratify=data['Is_Lead'])\n",
    "train = train.copy()\n",
    "valid = valid.copy()\n",
    "print(f\"Train shape {train.shape} Validation shape {valid.shape}\")"
   ]
  },
  {
   "cell_type": "code",
   "execution_count": 4,
   "id": "b478f327",
   "metadata": {},
   "outputs": [
    {
     "data": {
      "text/html": [
       "<div>\n",
       "<style scoped>\n",
       "    .dataframe tbody tr th:only-of-type {\n",
       "        vertical-align: middle;\n",
       "    }\n",
       "\n",
       "    .dataframe tbody tr th {\n",
       "        vertical-align: top;\n",
       "    }\n",
       "\n",
       "    .dataframe thead th {\n",
       "        text-align: right;\n",
       "    }\n",
       "</style>\n",
       "<table border=\"1\" class=\"dataframe\">\n",
       "  <thead>\n",
       "    <tr style=\"text-align: right;\">\n",
       "      <th></th>\n",
       "      <th>ID</th>\n",
       "      <th>Gender</th>\n",
       "      <th>Age</th>\n",
       "      <th>Region_Code</th>\n",
       "      <th>Occupation</th>\n",
       "      <th>Channel_Code</th>\n",
       "      <th>Vintage</th>\n",
       "      <th>Credit_Product</th>\n",
       "      <th>Avg_Account_Balance</th>\n",
       "      <th>Is_Active</th>\n",
       "      <th>Is_Lead</th>\n",
       "    </tr>\n",
       "  </thead>\n",
       "  <tbody>\n",
       "    <tr>\n",
       "      <th>53078</th>\n",
       "      <td>N3ZQ84QR</td>\n",
       "      <td>Female</td>\n",
       "      <td>46</td>\n",
       "      <td>RG280</td>\n",
       "      <td>Self_Employed</td>\n",
       "      <td>X2</td>\n",
       "      <td>51</td>\n",
       "      <td>No</td>\n",
       "      <td>863584</td>\n",
       "      <td>Yes</td>\n",
       "      <td>0</td>\n",
       "    </tr>\n",
       "    <tr>\n",
       "      <th>213644</th>\n",
       "      <td>JWGAMK7P</td>\n",
       "      <td>Male</td>\n",
       "      <td>67</td>\n",
       "      <td>RG258</td>\n",
       "      <td>Other</td>\n",
       "      <td>X2</td>\n",
       "      <td>43</td>\n",
       "      <td>Yes</td>\n",
       "      <td>706126</td>\n",
       "      <td>No</td>\n",
       "      <td>0</td>\n",
       "    </tr>\n",
       "    <tr>\n",
       "      <th>131870</th>\n",
       "      <td>CX9NGNQT</td>\n",
       "      <td>Male</td>\n",
       "      <td>46</td>\n",
       "      <td>RG279</td>\n",
       "      <td>Self_Employed</td>\n",
       "      <td>X2</td>\n",
       "      <td>26</td>\n",
       "      <td>Yes</td>\n",
       "      <td>422207</td>\n",
       "      <td>Yes</td>\n",
       "      <td>0</td>\n",
       "    </tr>\n",
       "  </tbody>\n",
       "</table>\n",
       "</div>"
      ],
      "text/plain": [
       "              ID  Gender  Age Region_Code     Occupation Channel_Code  \\\n",
       "53078   N3ZQ84QR  Female   46       RG280  Self_Employed           X2   \n",
       "213644  JWGAMK7P    Male   67       RG258          Other           X2   \n",
       "131870  CX9NGNQT    Male   46       RG279  Self_Employed           X2   \n",
       "\n",
       "        Vintage Credit_Product  Avg_Account_Balance Is_Active  Is_Lead  \n",
       "53078        51             No               863584       Yes        0  \n",
       "213644       43            Yes               706126        No        0  \n",
       "131870       26            Yes               422207       Yes        0  "
      ]
     },
     "execution_count": 4,
     "metadata": {},
     "output_type": "execute_result"
    }
   ],
   "source": [
    "train.head(3)"
   ]
  },
  {
   "cell_type": "code",
   "execution_count": 5,
   "id": "45a1c85e",
   "metadata": {},
   "outputs": [
    {
     "data": {
      "text/html": [
       "<div>\n",
       "<style scoped>\n",
       "    .dataframe tbody tr th:only-of-type {\n",
       "        vertical-align: middle;\n",
       "    }\n",
       "\n",
       "    .dataframe tbody tr th {\n",
       "        vertical-align: top;\n",
       "    }\n",
       "\n",
       "    .dataframe thead th {\n",
       "        text-align: right;\n",
       "    }\n",
       "</style>\n",
       "<table border=\"1\" class=\"dataframe\">\n",
       "  <thead>\n",
       "    <tr style=\"text-align: right;\">\n",
       "      <th></th>\n",
       "      <th>ID</th>\n",
       "      <th>Gender</th>\n",
       "      <th>Age</th>\n",
       "      <th>Region_Code</th>\n",
       "      <th>Occupation</th>\n",
       "      <th>Channel_Code</th>\n",
       "      <th>Vintage</th>\n",
       "      <th>Credit_Product</th>\n",
       "      <th>Avg_Account_Balance</th>\n",
       "      <th>Is_Active</th>\n",
       "    </tr>\n",
       "  </thead>\n",
       "  <tbody>\n",
       "    <tr>\n",
       "      <th>0</th>\n",
       "      <td>VBENBARO</td>\n",
       "      <td>Male</td>\n",
       "      <td>29</td>\n",
       "      <td>RG254</td>\n",
       "      <td>Other</td>\n",
       "      <td>X1</td>\n",
       "      <td>25</td>\n",
       "      <td>Yes</td>\n",
       "      <td>742366</td>\n",
       "      <td>No</td>\n",
       "    </tr>\n",
       "    <tr>\n",
       "      <th>1</th>\n",
       "      <td>CCMEWNKY</td>\n",
       "      <td>Male</td>\n",
       "      <td>43</td>\n",
       "      <td>RG268</td>\n",
       "      <td>Other</td>\n",
       "      <td>X2</td>\n",
       "      <td>49</td>\n",
       "      <td>NaN</td>\n",
       "      <td>925537</td>\n",
       "      <td>No</td>\n",
       "    </tr>\n",
       "    <tr>\n",
       "      <th>2</th>\n",
       "      <td>VK3KGA9M</td>\n",
       "      <td>Male</td>\n",
       "      <td>31</td>\n",
       "      <td>RG270</td>\n",
       "      <td>Salaried</td>\n",
       "      <td>X1</td>\n",
       "      <td>14</td>\n",
       "      <td>No</td>\n",
       "      <td>215949</td>\n",
       "      <td>No</td>\n",
       "    </tr>\n",
       "  </tbody>\n",
       "</table>\n",
       "</div>"
      ],
      "text/plain": [
       "         ID Gender  Age Region_Code Occupation Channel_Code  Vintage  \\\n",
       "0  VBENBARO   Male   29       RG254      Other           X1       25   \n",
       "1  CCMEWNKY   Male   43       RG268      Other           X2       49   \n",
       "2  VK3KGA9M   Male   31       RG270   Salaried           X1       14   \n",
       "\n",
       "  Credit_Product  Avg_Account_Balance Is_Active  \n",
       "0            Yes               742366        No  \n",
       "1            NaN               925537        No  \n",
       "2             No               215949        No  "
      ]
     },
     "execution_count": 5,
     "metadata": {},
     "output_type": "execute_result"
    }
   ],
   "source": [
    "test.head(3)"
   ]
  },
  {
   "cell_type": "code",
   "execution_count": 6,
   "id": "32335780",
   "metadata": {},
   "outputs": [
    {
     "data": {
      "text/html": [
       "<div>\n",
       "<style scoped>\n",
       "    .dataframe tbody tr th:only-of-type {\n",
       "        vertical-align: middle;\n",
       "    }\n",
       "\n",
       "    .dataframe tbody tr th {\n",
       "        vertical-align: top;\n",
       "    }\n",
       "\n",
       "    .dataframe thead th {\n",
       "        text-align: right;\n",
       "    }\n",
       "</style>\n",
       "<table border=\"1\" class=\"dataframe\">\n",
       "  <thead>\n",
       "    <tr style=\"text-align: right;\">\n",
       "      <th></th>\n",
       "      <th>ID</th>\n",
       "      <th>Gender</th>\n",
       "      <th>Age</th>\n",
       "      <th>Region_Code</th>\n",
       "      <th>Occupation</th>\n",
       "      <th>Channel_Code</th>\n",
       "      <th>Vintage</th>\n",
       "      <th>Credit_Product</th>\n",
       "      <th>Avg_Account_Balance</th>\n",
       "      <th>Is_Active</th>\n",
       "      <th>Is_Lead</th>\n",
       "    </tr>\n",
       "  </thead>\n",
       "  <tbody>\n",
       "    <tr>\n",
       "      <th>148453</th>\n",
       "      <td>OK9KJGZ2</td>\n",
       "      <td>Female</td>\n",
       "      <td>55</td>\n",
       "      <td>RG268</td>\n",
       "      <td>Self_Employed</td>\n",
       "      <td>X1</td>\n",
       "      <td>37</td>\n",
       "      <td>No</td>\n",
       "      <td>929257</td>\n",
       "      <td>No</td>\n",
       "      <td>0</td>\n",
       "    </tr>\n",
       "    <tr>\n",
       "      <th>117997</th>\n",
       "      <td>TTC7CPSI</td>\n",
       "      <td>Male</td>\n",
       "      <td>57</td>\n",
       "      <td>RG283</td>\n",
       "      <td>Self_Employed</td>\n",
       "      <td>X3</td>\n",
       "      <td>87</td>\n",
       "      <td>NaN</td>\n",
       "      <td>909740</td>\n",
       "      <td>No</td>\n",
       "      <td>0</td>\n",
       "    </tr>\n",
       "    <tr>\n",
       "      <th>5432</th>\n",
       "      <td>MPUWVRAX</td>\n",
       "      <td>Male</td>\n",
       "      <td>39</td>\n",
       "      <td>RG275</td>\n",
       "      <td>Salaried</td>\n",
       "      <td>X1</td>\n",
       "      <td>8</td>\n",
       "      <td>Yes</td>\n",
       "      <td>961742</td>\n",
       "      <td>Yes</td>\n",
       "      <td>0</td>\n",
       "    </tr>\n",
       "  </tbody>\n",
       "</table>\n",
       "</div>"
      ],
      "text/plain": [
       "              ID  Gender  Age Region_Code     Occupation Channel_Code  \\\n",
       "148453  OK9KJGZ2  Female   55       RG268  Self_Employed           X1   \n",
       "117997  TTC7CPSI    Male   57       RG283  Self_Employed           X3   \n",
       "5432    MPUWVRAX    Male   39       RG275       Salaried           X1   \n",
       "\n",
       "        Vintage Credit_Product  Avg_Account_Balance Is_Active  Is_Lead  \n",
       "148453       37             No               929257        No        0  \n",
       "117997       87            NaN               909740        No        0  \n",
       "5432          8            Yes               961742       Yes        0  "
      ]
     },
     "execution_count": 6,
     "metadata": {},
     "output_type": "execute_result"
    }
   ],
   "source": [
    "valid.head(3)"
   ]
  },
  {
   "cell_type": "code",
   "execution_count": 7,
   "id": "0efc5ac1",
   "metadata": {},
   "outputs": [
    {
     "data": {
      "text/plain": [
       "196580"
      ]
     },
     "execution_count": 7,
     "metadata": {},
     "output_type": "execute_result"
    }
   ],
   "source": [
    "train['ID'].nunique()"
   ]
  },
  {
   "cell_type": "code",
   "execution_count": 8,
   "id": "41a302c2",
   "metadata": {},
   "outputs": [
    {
     "data": {
      "text/plain": [
       "ID                         0\n",
       "Gender                     0\n",
       "Age                        0\n",
       "Region_Code                0\n",
       "Occupation                 0\n",
       "Channel_Code               0\n",
       "Vintage                    0\n",
       "Credit_Product         23525\n",
       "Avg_Account_Balance        0\n",
       "Is_Active                  0\n",
       "Is_Lead                    0\n",
       "dtype: int64"
      ]
     },
     "execution_count": 8,
     "metadata": {},
     "output_type": "execute_result"
    }
   ],
   "source": [
    "train.isna().sum()"
   ]
  },
  {
   "cell_type": "code",
   "execution_count": 9,
   "id": "d3be6c4c",
   "metadata": {},
   "outputs": [
    {
     "data": {
      "text/plain": [
       "Male      0.546693\n",
       "Female    0.453307\n",
       "Name: Gender, dtype: float64"
      ]
     },
     "execution_count": 9,
     "metadata": {},
     "output_type": "execute_result"
    }
   ],
   "source": [
    "train['Gender'].value_counts(normalize=True)"
   ]
  },
  {
   "cell_type": "code",
   "execution_count": 10,
   "id": "8ffeee55",
   "metadata": {},
   "outputs": [
    {
     "data": {
      "text/plain": [
       "35"
      ]
     },
     "execution_count": 10,
     "metadata": {},
     "output_type": "execute_result"
    }
   ],
   "source": [
    "train['Region_Code'].nunique()"
   ]
  },
  {
   "cell_type": "code",
   "execution_count": 11,
   "id": "32d4860a",
   "metadata": {},
   "outputs": [
    {
     "data": {
      "text/plain": [
       "Self_Employed    0.411532\n",
       "Salaried         0.292731\n",
       "Other            0.284866\n",
       "Entrepreneur     0.010871\n",
       "Name: Occupation, dtype: float64"
      ]
     },
     "execution_count": 11,
     "metadata": {},
     "output_type": "execute_result"
    }
   ],
   "source": [
    "train['Occupation'].value_counts(normalize=True)"
   ]
  },
  {
   "cell_type": "code",
   "execution_count": 12,
   "id": "f8280cb0",
   "metadata": {},
   "outputs": [
    {
     "data": {
      "text/plain": [
       "X1    0.421279\n",
       "X3    0.280359\n",
       "X2    0.275669\n",
       "X4    0.022693\n",
       "Name: Channel_Code, dtype: float64"
      ]
     },
     "execution_count": 12,
     "metadata": {},
     "output_type": "execute_result"
    }
   ],
   "source": [
    "train['Channel_Code'].value_counts(normalize=True)"
   ]
  },
  {
   "cell_type": "code",
   "execution_count": 13,
   "id": "3ecac6f8",
   "metadata": {},
   "outputs": [
    {
     "data": {
      "text/plain": [
       "No     0.667019\n",
       "Yes    0.332981\n",
       "Name: Credit_Product, dtype: float64"
      ]
     },
     "execution_count": 13,
     "metadata": {},
     "output_type": "execute_result"
    }
   ],
   "source": [
    "train['Credit_Product'].value_counts(normalize=True)"
   ]
  },
  {
   "cell_type": "code",
   "execution_count": 14,
   "id": "0fc8a088",
   "metadata": {},
   "outputs": [
    {
     "data": {
      "text/plain": [
       "count    1.965800e+05\n",
       "mean     1.129489e+06\n",
       "std      8.532486e+05\n",
       "min      2.079000e+04\n",
       "25%      6.042470e+05\n",
       "50%      8.954865e+05\n",
       "75%      1.368733e+06\n",
       "max      1.035201e+07\n",
       "Name: Avg_Account_Balance, dtype: float64"
      ]
     },
     "execution_count": 14,
     "metadata": {},
     "output_type": "execute_result"
    }
   ],
   "source": [
    "train['Avg_Account_Balance'].describe()"
   ]
  },
  {
   "cell_type": "code",
   "execution_count": 15,
   "id": "c1e51136",
   "metadata": {},
   "outputs": [
    {
     "data": {
      "text/plain": [
       "No     0.611375\n",
       "Yes    0.388625\n",
       "Name: Is_Active, dtype: float64"
      ]
     },
     "execution_count": 15,
     "metadata": {},
     "output_type": "execute_result"
    }
   ],
   "source": [
    "train['Is_Active'].value_counts(normalize=True)"
   ]
  },
  {
   "cell_type": "code",
   "execution_count": 16,
   "id": "21e5d053",
   "metadata": {},
   "outputs": [
    {
     "data": {
      "text/plain": [
       "0    0.762794\n",
       "1    0.237206\n",
       "Name: Is_Lead, dtype: float64"
      ]
     },
     "execution_count": 16,
     "metadata": {},
     "output_type": "execute_result"
    }
   ],
   "source": [
    "train['Is_Lead'].value_counts(normalize=True)"
   ]
  },
  {
   "cell_type": "code",
   "execution_count": 17,
   "id": "57a91305",
   "metadata": {},
   "outputs": [
    {
     "data": {
      "text/plain": [
       "count    196580.000000\n",
       "mean         43.864971\n",
       "std          14.821238\n",
       "min          23.000000\n",
       "25%          30.000000\n",
       "50%          43.000000\n",
       "75%          54.000000\n",
       "max          85.000000\n",
       "Name: Age, dtype: float64"
      ]
     },
     "execution_count": 17,
     "metadata": {},
     "output_type": "execute_result"
    }
   ],
   "source": [
    "train['Age'].describe()"
   ]
  },
  {
   "cell_type": "code",
   "execution_count": 18,
   "id": "a309e4e5",
   "metadata": {},
   "outputs": [
    {
     "data": {
      "text/plain": [
       "count    196580.000000\n",
       "mean         46.978121\n",
       "std          32.346981\n",
       "min           7.000000\n",
       "25%          20.000000\n",
       "50%          32.000000\n",
       "75%          73.000000\n",
       "max         135.000000\n",
       "Name: Vintage, dtype: float64"
      ]
     },
     "execution_count": 18,
     "metadata": {},
     "output_type": "execute_result"
    }
   ],
   "source": [
    "train['Vintage'].describe()"
   ]
  },
  {
   "cell_type": "code",
   "execution_count": 19,
   "id": "cc317e76",
   "metadata": {},
   "outputs": [
    {
     "data": {
      "text/html": [
       "<div>\n",
       "<style scoped>\n",
       "    .dataframe tbody tr th:only-of-type {\n",
       "        vertical-align: middle;\n",
       "    }\n",
       "\n",
       "    .dataframe tbody tr th {\n",
       "        vertical-align: top;\n",
       "    }\n",
       "\n",
       "    .dataframe thead th {\n",
       "        text-align: right;\n",
       "    }\n",
       "</style>\n",
       "<table border=\"1\" class=\"dataframe\">\n",
       "  <thead>\n",
       "    <tr style=\"text-align: right;\">\n",
       "      <th></th>\n",
       "      <th>Age</th>\n",
       "      <th>Avg_Account_Balance</th>\n",
       "    </tr>\n",
       "    <tr>\n",
       "      <th>Is_Lead</th>\n",
       "      <th></th>\n",
       "      <th></th>\n",
       "    </tr>\n",
       "  </thead>\n",
       "  <tbody>\n",
       "    <tr>\n",
       "      <th>0</th>\n",
       "      <td>38</td>\n",
       "      <td>871158</td>\n",
       "    </tr>\n",
       "    <tr>\n",
       "      <th>1</th>\n",
       "      <td>49</td>\n",
       "      <td>980686</td>\n",
       "    </tr>\n",
       "  </tbody>\n",
       "</table>\n",
       "</div>"
      ],
      "text/plain": [
       "         Age  Avg_Account_Balance\n",
       "Is_Lead                          \n",
       "0         38               871158\n",
       "1         49               980686"
      ]
     },
     "execution_count": 19,
     "metadata": {},
     "output_type": "execute_result"
    }
   ],
   "source": [
    "train.groupby(['Is_Lead'])[['Age','Avg_Account_Balance']].median()"
   ]
  },
  {
   "cell_type": "code",
   "execution_count": 20,
   "id": "06aad9bb",
   "metadata": {},
   "outputs": [
    {
     "data": {
      "text/plain": [
       "<AxesSubplot:xlabel='Avg_Account_Balance'>"
      ]
     },
     "execution_count": 20,
     "metadata": {},
     "output_type": "execute_result"
    },
    {
     "data": {
      "image/png": "[encoded data removed]",
      "text/plain": [
       "<Figure size 432x288 with 1 Axes>"
      ]
     },
     "metadata": {
      "needs_background": "light"
     },
     "output_type": "display_data"
    }
   ],
   "source": [
    "sns.boxplot(x = train['Avg_Account_Balance'])"
   ]
  },
  {
   "cell_type": "code",
   "execution_count": 21,
   "id": "4a6a27d2",
   "metadata": {},
   "outputs": [
    {
     "data": {
      "text/plain": [
       "764486.0"
      ]
     },
     "execution_count": 21,
     "metadata": {},
     "output_type": "execute_result"
    }
   ],
   "source": [
    "iqr = train['Avg_Account_Balance'].quantile(0.75)-train['Avg_Account_Balance'].quantile(0.25)\n",
    "iqr"
   ]
  },
  {
   "cell_type": "code",
   "execution_count": 22,
   "id": "9c6b8501",
   "metadata": {},
   "outputs": [
    {
     "data": {
      "text/plain": [
       "1146729.0"
      ]
     },
     "execution_count": 22,
     "metadata": {},
     "output_type": "execute_result"
    }
   ],
   "source": [
    "iqr = 1.5*iqr\n",
    "iqr"
   ]
  },
  {
   "cell_type": "code",
   "execution_count": 23,
   "id": "e374b275",
   "metadata": {},
   "outputs": [],
   "source": [
    "train['balance_above_iqr'] = (train['Avg_Account_Balance'] >= iqr).astype(int)\n",
    "test['balance_above_iqr'] = (test['Avg_Account_Balance'] >= iqr).astype(int)\n",
    "valid['balance_above_iqr'] = (valid['Avg_Account_Balance'] >= iqr).astype(int)"
   ]
  },
  {
   "cell_type": "code",
   "execution_count": 24,
   "id": "f0b6950a",
   "metadata": {},
   "outputs": [],
   "source": [
    "train['Credit_Product'] = train['Credit_Product'].fillna('NA')\n",
    "train['Avg_Account_Balance'] = np.log(1+train['Avg_Account_Balance'])\n",
    "\n",
    "test['Credit_Product'] = test['Credit_Product'].fillna('NA')\n",
    "test['Avg_Account_Balance'] = np.log(1+test['Avg_Account_Balance'])\n",
    "\n",
    "valid['Credit_Product'] = valid['Credit_Product'].fillna('NA')\n",
    "valid['Avg_Account_Balance'] = np.log(1+valid['Avg_Account_Balance'])\n"
   ]
  },
  {
   "cell_type": "code",
   "execution_count": null,
   "id": "d099c35a",
   "metadata": {},
   "outputs": [],
   "source": []
  },
  {
   "cell_type": "code",
   "execution_count": 25,
   "id": "cd664be0",
   "metadata": {},
   "outputs": [
    {
     "data": {
      "text/html": [
       "<div>\n",
       "<style scoped>\n",
       "    .dataframe tbody tr th:only-of-type {\n",
       "        vertical-align: middle;\n",
       "    }\n",
       "\n",
       "    .dataframe tbody tr th {\n",
       "        vertical-align: top;\n",
       "    }\n",
       "\n",
       "    .dataframe thead th {\n",
       "        text-align: right;\n",
       "    }\n",
       "</style>\n",
       "<table border=\"1\" class=\"dataframe\">\n",
       "  <thead>\n",
       "    <tr style=\"text-align: right;\">\n",
       "      <th></th>\n",
       "      <th>ID</th>\n",
       "      <th>Gender</th>\n",
       "      <th>Age</th>\n",
       "      <th>Region_Code</th>\n",
       "      <th>Occupation</th>\n",
       "      <th>Channel_Code</th>\n",
       "      <th>Vintage</th>\n",
       "      <th>Credit_Product</th>\n",
       "      <th>Avg_Account_Balance</th>\n",
       "      <th>Is_Active</th>\n",
       "      <th>Is_Lead</th>\n",
       "      <th>balance_above_iqr</th>\n",
       "    </tr>\n",
       "  </thead>\n",
       "  <tbody>\n",
       "    <tr>\n",
       "      <th>156925</th>\n",
       "      <td>Z5F95HCJ</td>\n",
       "      <td>Male</td>\n",
       "      <td>50</td>\n",
       "      <td>RG271</td>\n",
       "      <td>Self_Employed</td>\n",
       "      <td>X2</td>\n",
       "      <td>26</td>\n",
       "      <td>NA</td>\n",
       "      <td>13.500978</td>\n",
       "      <td>No</td>\n",
       "      <td>1</td>\n",
       "      <td>0</td>\n",
       "    </tr>\n",
       "    <tr>\n",
       "      <th>139516</th>\n",
       "      <td>9SSLSKEN</td>\n",
       "      <td>Male</td>\n",
       "      <td>54</td>\n",
       "      <td>RG268</td>\n",
       "      <td>Salaried</td>\n",
       "      <td>X2</td>\n",
       "      <td>91</td>\n",
       "      <td>Yes</td>\n",
       "      <td>14.024446</td>\n",
       "      <td>Yes</td>\n",
       "      <td>1</td>\n",
       "      <td>1</td>\n",
       "    </tr>\n",
       "    <tr>\n",
       "      <th>57810</th>\n",
       "      <td>2GEMZXBY</td>\n",
       "      <td>Male</td>\n",
       "      <td>57</td>\n",
       "      <td>RG261</td>\n",
       "      <td>Other</td>\n",
       "      <td>X2</td>\n",
       "      <td>110</td>\n",
       "      <td>NA</td>\n",
       "      <td>14.544781</td>\n",
       "      <td>Yes</td>\n",
       "      <td>1</td>\n",
       "      <td>1</td>\n",
       "    </tr>\n",
       "  </tbody>\n",
       "</table>\n",
       "</div>"
      ],
      "text/plain": [
       "              ID Gender  Age Region_Code     Occupation Channel_Code  Vintage  \\\n",
       "156925  Z5F95HCJ   Male   50       RG271  Self_Employed           X2       26   \n",
       "139516  9SSLSKEN   Male   54       RG268       Salaried           X2       91   \n",
       "57810   2GEMZXBY   Male   57       RG261          Other           X2      110   \n",
       "\n",
       "       Credit_Product  Avg_Account_Balance Is_Active  Is_Lead  \\\n",
       "156925             NA            13.500978        No        1   \n",
       "139516            Yes            14.024446       Yes        1   \n",
       "57810              NA            14.544781       Yes        1   \n",
       "\n",
       "        balance_above_iqr  \n",
       "156925                  0  \n",
       "139516                  1  \n",
       "57810                   1  "
      ]
     },
     "execution_count": 25,
     "metadata": {},
     "output_type": "execute_result"
    }
   ],
   "source": [
    "train.sample(3)"
   ]
  },
  {
   "cell_type": "code",
   "execution_count": 26,
   "id": "d3a49be5",
   "metadata": {},
   "outputs": [],
   "source": [
    "train['Is_Active'] = train['Is_Active'].replace({'No':'N','Yes':'Y'})\n",
    "test['Is_Active'] = test['Is_Active'].replace({'No':'N','Yes':'Y'})\n",
    "valid['Is_Active'] = valid['Is_Active'].replace({'No':'N','Yes':'Y'})"
   ]
  },
  {
   "cell_type": "code",
   "execution_count": 27,
   "id": "ecefda78",
   "metadata": {},
   "outputs": [],
   "source": [
    "cat_cols = ['Gender','Region_Code','Occupation','Channel_Code','Credit_Product','Is_Active']\n",
    "featured_cols = []\n",
    "# for idx,col in enumerate(cat_cols):\n",
    "#     for sub_col in cat_cols[idx+1:]:\n",
    "#         new_col = f\"{col}-{sub_col}\"\n",
    "#         featured_cols.append(new_col)\n",
    "#         train[new_col] = train[col] + \"-\" + train[sub_col]\n",
    "#         test[new_col] = test[col] + \"-\" + test[sub_col]\n",
    "#         valid[new_col] = valid[col] + \"-\" + valid[sub_col]\n",
    "\n",
    "# train.sample(3)"
   ]
  },
  {
   "cell_type": "code",
   "execution_count": 28,
   "id": "5c53ccff",
   "metadata": {},
   "outputs": [],
   "source": [
    "train['join_age'] = train['Age']-train['Vintage'].div(12)\n",
    "test['join_age'] = test['Age']-test['Vintage'].div(12)\n",
    "valid['join_age'] = valid['Age']-valid['Vintage'].div(12)"
   ]
  },
  {
   "cell_type": "code",
   "execution_count": 29,
   "id": "52435aa5",
   "metadata": {},
   "outputs": [],
   "source": [
    "# all_cat_cols = cat_cols + featured_cols\n",
    "# num_col = ['Age','Vintage','Avg_Account_Balance','join_age']\n",
    "# for idx,col in enumerate (all_cat_cols):\n",
    "#     for ind, num in enumerate(num_col):\n",
    "#         print(f\"Working Cat Col {col} {idx}/{len(all_cat_cols)}, Num col {num} {ind}/{len(num_col)}\")\n",
    "#         grp = train.groupby([col])[num].agg(['mean','median','std'])\n",
    "#         grp = grp.add_prefix(f'{col}-{num}-')\n",
    "#         grp = grp.reset_index()\n",
    "#         train = train.merge(grp,on=[col],how='left')\n",
    "#         test = test.merge(grp,on=[col],how='left')\n",
    "#         valid = valid.merge(grp,on=[col],how='left')"
   ]
  },
  {
   "cell_type": "code",
   "execution_count": 30,
   "id": "43ad8f2f",
   "metadata": {},
   "outputs": [],
   "source": [
    "all_cat_cols = cat_cols + featured_cols\n",
    "encoder = LabelEncoder()\n",
    "for col in all_cat_cols:\n",
    "    train[col] = encoder.fit_transform(train[col])\n",
    "    test[col] = encoder.transform(test[col])\n",
    "    valid[col] = encoder.transform(valid[col])"
   ]
  },
  {
   "cell_type": "code",
   "execution_count": 31,
   "id": "33ac23e6",
   "metadata": {},
   "outputs": [
    {
     "data": {
      "text/html": [
       "<div>\n",
       "<style scoped>\n",
       "    .dataframe tbody tr th:only-of-type {\n",
       "        vertical-align: middle;\n",
       "    }\n",
       "\n",
       "    .dataframe tbody tr th {\n",
       "        vertical-align: top;\n",
       "    }\n",
       "\n",
       "    .dataframe thead th {\n",
       "        text-align: right;\n",
       "    }\n",
       "</style>\n",
       "<table border=\"1\" class=\"dataframe\">\n",
       "  <thead>\n",
       "    <tr style=\"text-align: right;\">\n",
       "      <th></th>\n",
       "      <th>ID</th>\n",
       "      <th>Gender</th>\n",
       "      <th>Age</th>\n",
       "      <th>Region_Code</th>\n",
       "      <th>Occupation</th>\n",
       "      <th>Channel_Code</th>\n",
       "      <th>Vintage</th>\n",
       "      <th>Credit_Product</th>\n",
       "      <th>Avg_Account_Balance</th>\n",
       "      <th>Is_Active</th>\n",
       "      <th>Is_Lead</th>\n",
       "      <th>balance_above_iqr</th>\n",
       "      <th>join_age</th>\n",
       "    </tr>\n",
       "  </thead>\n",
       "  <tbody>\n",
       "    <tr>\n",
       "      <th>118962</th>\n",
       "      <td>XYXTWV5X</td>\n",
       "      <td>0</td>\n",
       "      <td>30</td>\n",
       "      <td>24</td>\n",
       "      <td>1</td>\n",
       "      <td>0</td>\n",
       "      <td>39</td>\n",
       "      <td>1</td>\n",
       "      <td>13.071093</td>\n",
       "      <td>1</td>\n",
       "      <td>0</td>\n",
       "      <td>0</td>\n",
       "      <td>26.750000</td>\n",
       "    </tr>\n",
       "    <tr>\n",
       "      <th>81065</th>\n",
       "      <td>S3ENMTMV</td>\n",
       "      <td>1</td>\n",
       "      <td>64</td>\n",
       "      <td>19</td>\n",
       "      <td>1</td>\n",
       "      <td>3</td>\n",
       "      <td>14</td>\n",
       "      <td>2</td>\n",
       "      <td>13.932364</td>\n",
       "      <td>0</td>\n",
       "      <td>0</td>\n",
       "      <td>0</td>\n",
       "      <td>62.833333</td>\n",
       "    </tr>\n",
       "    <tr>\n",
       "      <th>211709</th>\n",
       "      <td>FJG7WOKH</td>\n",
       "      <td>1</td>\n",
       "      <td>28</td>\n",
       "      <td>4</td>\n",
       "      <td>2</td>\n",
       "      <td>0</td>\n",
       "      <td>25</td>\n",
       "      <td>1</td>\n",
       "      <td>14.252770</td>\n",
       "      <td>0</td>\n",
       "      <td>0</td>\n",
       "      <td>1</td>\n",
       "      <td>25.916667</td>\n",
       "    </tr>\n",
       "  </tbody>\n",
       "</table>\n",
       "</div>"
      ],
      "text/plain": [
       "              ID  Gender  Age  Region_Code  Occupation  Channel_Code  Vintage  \\\n",
       "118962  XYXTWV5X       0   30           24           1             0       39   \n",
       "81065   S3ENMTMV       1   64           19           1             3       14   \n",
       "211709  FJG7WOKH       1   28            4           2             0       25   \n",
       "\n",
       "        Credit_Product  Avg_Account_Balance  Is_Active  Is_Lead  \\\n",
       "118962               1            13.071093          1        0   \n",
       "81065                2            13.932364          0        0   \n",
       "211709               1            14.252770          0        0   \n",
       "\n",
       "        balance_above_iqr   join_age  \n",
       "118962                  0  26.750000  \n",
       "81065                   0  62.833333  \n",
       "211709                  1  25.916667  "
      ]
     },
     "execution_count": 31,
     "metadata": {},
     "output_type": "execute_result"
    }
   ],
   "source": [
    "train.sample(3)"
   ]
  },
  {
   "cell_type": "code",
   "execution_count": 32,
   "id": "7bd2c31b",
   "metadata": {},
   "outputs": [
    {
     "data": {
      "text/html": [
       "<div>\n",
       "<style scoped>\n",
       "    .dataframe tbody tr th:only-of-type {\n",
       "        vertical-align: middle;\n",
       "    }\n",
       "\n",
       "    .dataframe tbody tr th {\n",
       "        vertical-align: top;\n",
       "    }\n",
       "\n",
       "    .dataframe thead th {\n",
       "        text-align: right;\n",
       "    }\n",
       "</style>\n",
       "<table border=\"1\" class=\"dataframe\">\n",
       "  <thead>\n",
       "    <tr style=\"text-align: right;\">\n",
       "      <th></th>\n",
       "      <th>ID</th>\n",
       "      <th>Gender</th>\n",
       "      <th>Age</th>\n",
       "      <th>Region_Code</th>\n",
       "      <th>Occupation</th>\n",
       "      <th>Channel_Code</th>\n",
       "      <th>Vintage</th>\n",
       "      <th>Credit_Product</th>\n",
       "      <th>Avg_Account_Balance</th>\n",
       "      <th>Is_Active</th>\n",
       "      <th>balance_above_iqr</th>\n",
       "      <th>join_age</th>\n",
       "    </tr>\n",
       "  </thead>\n",
       "  <tbody>\n",
       "    <tr>\n",
       "      <th>70788</th>\n",
       "      <td>7AAC6ANC</td>\n",
       "      <td>1</td>\n",
       "      <td>30</td>\n",
       "      <td>2</td>\n",
       "      <td>2</td>\n",
       "      <td>0</td>\n",
       "      <td>32</td>\n",
       "      <td>1</td>\n",
       "      <td>13.874526</td>\n",
       "      <td>0</td>\n",
       "      <td>0</td>\n",
       "      <td>27.333333</td>\n",
       "    </tr>\n",
       "    <tr>\n",
       "      <th>79387</th>\n",
       "      <td>DJYKQIY9</td>\n",
       "      <td>1</td>\n",
       "      <td>53</td>\n",
       "      <td>5</td>\n",
       "      <td>3</td>\n",
       "      <td>1</td>\n",
       "      <td>63</td>\n",
       "      <td>2</td>\n",
       "      <td>13.840077</td>\n",
       "      <td>1</td>\n",
       "      <td>0</td>\n",
       "      <td>47.750000</td>\n",
       "    </tr>\n",
       "    <tr>\n",
       "      <th>44883</th>\n",
       "      <td>CGHZKEFT</td>\n",
       "      <td>1</td>\n",
       "      <td>29</td>\n",
       "      <td>19</td>\n",
       "      <td>2</td>\n",
       "      <td>0</td>\n",
       "      <td>26</td>\n",
       "      <td>1</td>\n",
       "      <td>13.558082</td>\n",
       "      <td>0</td>\n",
       "      <td>0</td>\n",
       "      <td>26.833333</td>\n",
       "    </tr>\n",
       "  </tbody>\n",
       "</table>\n",
       "</div>"
      ],
      "text/plain": [
       "             ID  Gender  Age  Region_Code  Occupation  Channel_Code  Vintage  \\\n",
       "70788  7AAC6ANC       1   30            2           2             0       32   \n",
       "79387  DJYKQIY9       1   53            5           3             1       63   \n",
       "44883  CGHZKEFT       1   29           19           2             0       26   \n",
       "\n",
       "       Credit_Product  Avg_Account_Balance  Is_Active  balance_above_iqr  \\\n",
       "70788               1            13.874526          0                  0   \n",
       "79387               2            13.840077          1                  0   \n",
       "44883               1            13.558082          0                  0   \n",
       "\n",
       "        join_age  \n",
       "70788  27.333333  \n",
       "79387  47.750000  \n",
       "44883  26.833333  "
      ]
     },
     "execution_count": 32,
     "metadata": {},
     "output_type": "execute_result"
    }
   ],
   "source": [
    "test.sample(3)"
   ]
  },
  {
   "cell_type": "code",
   "execution_count": 33,
   "id": "649f418c",
   "metadata": {},
   "outputs": [
    {
     "data": {
      "text/html": [
       "<div>\n",
       "<style scoped>\n",
       "    .dataframe tbody tr th:only-of-type {\n",
       "        vertical-align: middle;\n",
       "    }\n",
       "\n",
       "    .dataframe tbody tr th {\n",
       "        vertical-align: top;\n",
       "    }\n",
       "\n",
       "    .dataframe thead th {\n",
       "        text-align: right;\n",
       "    }\n",
       "</style>\n",
       "<table border=\"1\" class=\"dataframe\">\n",
       "  <thead>\n",
       "    <tr style=\"text-align: right;\">\n",
       "      <th></th>\n",
       "      <th>ID</th>\n",
       "      <th>Gender</th>\n",
       "      <th>Age</th>\n",
       "      <th>Region_Code</th>\n",
       "      <th>Occupation</th>\n",
       "      <th>Channel_Code</th>\n",
       "      <th>Vintage</th>\n",
       "      <th>Credit_Product</th>\n",
       "      <th>Avg_Account_Balance</th>\n",
       "      <th>Is_Active</th>\n",
       "      <th>Is_Lead</th>\n",
       "      <th>balance_above_iqr</th>\n",
       "      <th>join_age</th>\n",
       "    </tr>\n",
       "  </thead>\n",
       "  <tbody>\n",
       "    <tr>\n",
       "      <th>118288</th>\n",
       "      <td>ZCDQCYXW</td>\n",
       "      <td>0</td>\n",
       "      <td>29</td>\n",
       "      <td>33</td>\n",
       "      <td>2</td>\n",
       "      <td>0</td>\n",
       "      <td>25</td>\n",
       "      <td>1</td>\n",
       "      <td>13.444627</td>\n",
       "      <td>0</td>\n",
       "      <td>0</td>\n",
       "      <td>0</td>\n",
       "      <td>26.916667</td>\n",
       "    </tr>\n",
       "    <tr>\n",
       "      <th>197623</th>\n",
       "      <td>JOSDXVSB</td>\n",
       "      <td>0</td>\n",
       "      <td>42</td>\n",
       "      <td>4</td>\n",
       "      <td>0</td>\n",
       "      <td>1</td>\n",
       "      <td>33</td>\n",
       "      <td>2</td>\n",
       "      <td>14.699079</td>\n",
       "      <td>1</td>\n",
       "      <td>1</td>\n",
       "      <td>1</td>\n",
       "      <td>39.250000</td>\n",
       "    </tr>\n",
       "    <tr>\n",
       "      <th>235817</th>\n",
       "      <td>2VU2GSMZ</td>\n",
       "      <td>1</td>\n",
       "      <td>31</td>\n",
       "      <td>33</td>\n",
       "      <td>3</td>\n",
       "      <td>2</td>\n",
       "      <td>33</td>\n",
       "      <td>2</td>\n",
       "      <td>14.633426</td>\n",
       "      <td>0</td>\n",
       "      <td>0</td>\n",
       "      <td>1</td>\n",
       "      <td>28.250000</td>\n",
       "    </tr>\n",
       "  </tbody>\n",
       "</table>\n",
       "</div>"
      ],
      "text/plain": [
       "              ID  Gender  Age  Region_Code  Occupation  Channel_Code  Vintage  \\\n",
       "118288  ZCDQCYXW       0   29           33           2             0       25   \n",
       "197623  JOSDXVSB       0   42            4           0             1       33   \n",
       "235817  2VU2GSMZ       1   31           33           3             2       33   \n",
       "\n",
       "        Credit_Product  Avg_Account_Balance  Is_Active  Is_Lead  \\\n",
       "118288               1            13.444627          0        0   \n",
       "197623               2            14.699079          1        1   \n",
       "235817               2            14.633426          0        0   \n",
       "\n",
       "        balance_above_iqr   join_age  \n",
       "118288                  0  26.916667  \n",
       "197623                  1  39.250000  \n",
       "235817                  1  28.250000  "
      ]
     },
     "execution_count": 33,
     "metadata": {},
     "output_type": "execute_result"
    }
   ],
   "source": [
    "valid.sample(3)"
   ]
  },
  {
   "cell_type": "code",
   "execution_count": 34,
   "id": "a9bef45a",
   "metadata": {},
   "outputs": [],
   "source": [
    "x_train = train.drop(['ID','Is_Lead'],axis=1)\n",
    "y_train = train['Is_Lead']\n",
    "\n",
    "x_valid = valid.drop(['ID','Is_Lead'],axis=1)\n",
    "y_valid = valid['Is_Lead']\n",
    "\n",
    "x_test = test.drop(['ID'],axis=1)"
   ]
  },
  {
   "cell_type": "code",
   "execution_count": 35,
   "id": "777b5d76",
   "metadata": {},
   "outputs": [
    {
     "name": "stdout",
     "output_type": "stream",
     "text": [
      "Training until validation scores don't improve for 10 rounds\n",
      "Early stopping, best iteration is:\n",
      "[272]\tvalid_0's binary_logloss: 0.423408\n",
      "roc_auc_score: 0.8735623706102029\n"
     ]
    }
   ],
   "source": [
    "lgb_params= {'learning_rate': 0.05, \n",
    "             'n_estimators': 500, \n",
    "             'max_bin': 100,\n",
    "             'num_leaves': 10, \n",
    "             'max_depth': 50, \n",
    "             'reg_alpha': 12, \n",
    "             'reg_lambda': 7, \n",
    "             'subsample': 1,\n",
    "            'random_state': 426791785,\n",
    "             'class_weight':'balanced'\n",
    "            }\n",
    "\n",
    "\n",
    "lgb = LGBMClassifier(**lgb_params)\n",
    "lgb.fit(x_train, y_train,eval_set=[(x_valid, y_valid)],early_stopping_rounds=10,verbose=400)\n",
    "pred = lgb.predict_proba(x_valid)[:, 1]\n",
    "roc_score = roc_auc_score(y_valid, pred)\n",
    "print(f\"roc_auc_score: {roc_score}\")"
   ]
  },
  {
   "cell_type": "code",
   "execution_count": 36,
   "id": "e0231fc2",
   "metadata": {},
   "outputs": [
    {
     "data": {
      "text/plain": [
       "<AxesSubplot:xlabel='Value', ylabel='Feature'>"
      ]
     },
     "execution_count": 36,
     "metadata": {},
     "output_type": "execute_result"
    },
    {
     "data": {
      "image/png": "[encoded data removed]",
      "text/plain": [
       "<Figure size 1440x2160 with 1 Axes>"
      ]
     },
     "metadata": {
      "needs_background": "light"
     },
     "output_type": "display_data"
    }
   ],
   "source": [
    "feature_imp = pd.DataFrame(sorted(zip(lgb.feature_importances_,x_train.columns)), columns=['Value','Feature'])\n",
    "plt.figure(figsize=(20, 30))\n",
    "sns.barplot(x=\"Value\", y=\"Feature\", data=feature_imp.sort_values(by=\"Value\", ascending=False).head(30))"
   ]
  },
  {
   "cell_type": "code",
   "execution_count": 37,
   "id": "3f96ab2f",
   "metadata": {},
   "outputs": [],
   "source": [
    "pred = lgb.predict_proba(x_test)[:, 1]\n",
    "sub = pd.DataFrame()\n",
    "sub['ID'] = test['ID']\n",
    "sub['Is_Lead'] = pred\n",
    "sub.to_csv(\"Sub_6.csv\",index=False)"
   ]
  },
  {
   "cell_type": "code",
   "execution_count": null,
   "id": "fe0b9128",
   "metadata": {},
   "outputs": [],
   "source": []
  }
 ],
 "metadata": {
  "kernelspec": {
   "display_name": "Python 3",
   "language": "python",
   "name": "python3"
  },
  "language_info": {
   "codemirror_mode": {
    "name": "ipython",
    "version": 3
   },
   "file_extension": ".py",
   "mimetype": "text/x-python",
   "name": "python",
   "nbconvert_exporter": "python",
   "pygments_lexer": "ipython3",
   "version": "3.8.8"
  }
 },
 "nbformat": 4,
 "nbformat_minor": 5
}

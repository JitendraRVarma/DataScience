{
 "cells": [
  {
   "cell_type": "markdown",
   "metadata": {},
   "source": [
    "# Problem Statement Health Insurance Lead Prediction\n",
    "\n",
    "Your Client FinMan is a financial services company that provides various financial services like loan, investment funds, insurance etc. to its customers. FinMan wishes to cross-sell health insurance to the existing customers who may or may not hold insurance policies with the company. The company recommend health insurance to it's customers based on their profile once these customers land on the website. Customers might browse the recommended health insurance policy and consequently fill up a form to apply. When these customers fill-up the form, their Response towards the policy is considered positive and they are classified as a lead.\n",
    "\n",
    "Once these leads are acquired, the sales advisors approach them to convert and thus the company can sell proposed health insurance to these leads in a more efficient manner.\n",
    "\n",
    "Now the company needs your help in building a model to predict whether the person will be interested in their proposed Health plan/policy given the information about:\n",
    "\n",
    "    Demographics (city, age, region etc.)\n",
    "    Information regarding holding policies of the customer\n",
    "    Recommended Policy Information"
   ]
  },
  {
   "cell_type": "code",
   "execution_count": 1,
   "metadata": {},
   "outputs": [],
   "source": [
    "import pandas as pd\n",
    "import numpy as np\n",
    "import matplotlib.pyplot as plt\n",
    "import seaborn as sns\n",
    "from sklearn.model_selection import train_test_split\n",
    "from sklearn.preprocessing import OneHotEncoder\n",
    "from sklearn.preprocessing import StandardScaler\n",
    "\n",
    "from sklearn.neighbors import KNeighborsClassifier\n",
    "\n",
    "from sklearn.linear_model import LogisticRegression\n",
    "from sklearn.ensemble import RandomForestClassifier\n",
    "from sklearn.svm import LinearSVC\n",
    "from sklearn.svm import SVC\n",
    "from sklearn.naive_bayes import GaussianNB\n",
    "from sklearn.ensemble import AdaBoostClassifier\n",
    "from sklearn.ensemble import GradientBoostingClassifier\n",
    "from sklearn.ensemble import StackingClassifier\n",
    "\n",
    "from xgboost import XGBClassifier\n",
    "\n",
    "# explicitly require this experimental feature\n",
    "from sklearn.experimental import enable_hist_gradient_boosting  # noqa\n",
    "# now you can import normally from ensemble\n",
    "from sklearn.ensemble import HistGradientBoostingClassifier\n",
    "\n",
    "from sklearn.metrics import roc_auc_score\n",
    "\n",
    "sns.set()\n",
    "pd.options.display.max_columns = 100"
   ]
  },
  {
   "cell_type": "code",
   "execution_count": 2,
   "metadata": {},
   "outputs": [
    {
     "data": {
      "text/plain": [
       "(50882, 14)"
      ]
     },
     "execution_count": 2,
     "metadata": {},
     "output_type": "execute_result"
    }
   ],
   "source": [
    "raw_data = pd.read_csv(\"train_Df64byy.csv\")\n",
    "raw_data.shape"
   ]
  },
  {
   "cell_type": "code",
   "execution_count": 3,
   "metadata": {},
   "outputs": [
    {
     "name": "stdout",
     "output_type": "stream",
     "text": [
      "Train Shape (34090, 14)\n",
      "Valid Shape (16792, 14)\n"
     ]
    }
   ],
   "source": [
    "# split train and validation\n",
    "train, valid = train_test_split(raw_data, test_size=0.33, random_state=42,stratify=raw_data['Response'])\n",
    "train = train.copy()\n",
    "valid = valid.copy()\n",
    "print(f\"Train Shape {train.shape}\")\n",
    "print(f\"Valid Shape {valid.shape}\")"
   ]
  },
  {
   "cell_type": "code",
   "execution_count": 4,
   "metadata": {},
   "outputs": [
    {
     "data": {
      "text/html": [
       "<div>\n",
       "<style scoped>\n",
       "    .dataframe tbody tr th:only-of-type {\n",
       "        vertical-align: middle;\n",
       "    }\n",
       "\n",
       "    .dataframe tbody tr th {\n",
       "        vertical-align: top;\n",
       "    }\n",
       "\n",
       "    .dataframe thead th {\n",
       "        text-align: right;\n",
       "    }\n",
       "</style>\n",
       "<table border=\"1\" class=\"dataframe\">\n",
       "  <thead>\n",
       "    <tr style=\"text-align: right;\">\n",
       "      <th></th>\n",
       "      <th>ID</th>\n",
       "      <th>City_Code</th>\n",
       "      <th>Region_Code</th>\n",
       "      <th>Accomodation_Type</th>\n",
       "      <th>Reco_Insurance_Type</th>\n",
       "      <th>Upper_Age</th>\n",
       "      <th>Lower_Age</th>\n",
       "      <th>Is_Spouse</th>\n",
       "      <th>Health Indicator</th>\n",
       "      <th>Holding_Policy_Duration</th>\n",
       "      <th>Holding_Policy_Type</th>\n",
       "      <th>Reco_Policy_Cat</th>\n",
       "      <th>Reco_Policy_Premium</th>\n",
       "      <th>Response</th>\n",
       "    </tr>\n",
       "  </thead>\n",
       "  <tbody>\n",
       "    <tr>\n",
       "      <th>18517</th>\n",
       "      <td>18518</td>\n",
       "      <td>C19</td>\n",
       "      <td>2270</td>\n",
       "      <td>Owned</td>\n",
       "      <td>Individual</td>\n",
       "      <td>65</td>\n",
       "      <td>65</td>\n",
       "      <td>No</td>\n",
       "      <td>X5</td>\n",
       "      <td>9.0</td>\n",
       "      <td>3.0</td>\n",
       "      <td>2</td>\n",
       "      <td>19080.0</td>\n",
       "      <td>0</td>\n",
       "    </tr>\n",
       "    <tr>\n",
       "      <th>21636</th>\n",
       "      <td>21637</td>\n",
       "      <td>C7</td>\n",
       "      <td>1625</td>\n",
       "      <td>Owned</td>\n",
       "      <td>Individual</td>\n",
       "      <td>69</td>\n",
       "      <td>69</td>\n",
       "      <td>No</td>\n",
       "      <td>X2</td>\n",
       "      <td>2.0</td>\n",
       "      <td>4.0</td>\n",
       "      <td>15</td>\n",
       "      <td>14504.0</td>\n",
       "      <td>0</td>\n",
       "    </tr>\n",
       "    <tr>\n",
       "      <th>2743</th>\n",
       "      <td>2744</td>\n",
       "      <td>C33</td>\n",
       "      <td>912</td>\n",
       "      <td>Owned</td>\n",
       "      <td>Individual</td>\n",
       "      <td>52</td>\n",
       "      <td>52</td>\n",
       "      <td>No</td>\n",
       "      <td>NaN</td>\n",
       "      <td>12.0</td>\n",
       "      <td>3.0</td>\n",
       "      <td>8</td>\n",
       "      <td>17640.0</td>\n",
       "      <td>1</td>\n",
       "    </tr>\n",
       "  </tbody>\n",
       "</table>\n",
       "</div>"
      ],
      "text/plain": [
       "          ID City_Code  Region_Code Accomodation_Type Reco_Insurance_Type  \\\n",
       "18517  18518       C19         2270             Owned          Individual   \n",
       "21636  21637        C7         1625             Owned          Individual   \n",
       "2743    2744       C33          912             Owned          Individual   \n",
       "\n",
       "       Upper_Age  Lower_Age Is_Spouse Health Indicator  \\\n",
       "18517         65         65        No               X5   \n",
       "21636         69         69        No               X2   \n",
       "2743          52         52        No              NaN   \n",
       "\n",
       "      Holding_Policy_Duration  Holding_Policy_Type  Reco_Policy_Cat  \\\n",
       "18517                     9.0                  3.0                2   \n",
       "21636                     2.0                  4.0               15   \n",
       "2743                     12.0                  3.0                8   \n",
       "\n",
       "       Reco_Policy_Premium  Response  \n",
       "18517              19080.0         0  \n",
       "21636              14504.0         0  \n",
       "2743               17640.0         1  "
      ]
     },
     "execution_count": 4,
     "metadata": {},
     "output_type": "execute_result"
    }
   ],
   "source": [
    "train.head(3)"
   ]
  },
  {
   "cell_type": "code",
   "execution_count": 5,
   "metadata": {},
   "outputs": [
    {
     "data": {
      "text/plain": [
       "ID                           int64\n",
       "City_Code                   object\n",
       "Region_Code                  int64\n",
       "Accomodation_Type           object\n",
       "Reco_Insurance_Type         object\n",
       "Upper_Age                    int64\n",
       "Lower_Age                    int64\n",
       "Is_Spouse                   object\n",
       "Health Indicator            object\n",
       "Holding_Policy_Duration     object\n",
       "Holding_Policy_Type        float64\n",
       "Reco_Policy_Cat              int64\n",
       "Reco_Policy_Premium        float64\n",
       "Response                     int64\n",
       "dtype: object"
      ]
     },
     "execution_count": 5,
     "metadata": {},
     "output_type": "execute_result"
    }
   ],
   "source": [
    "train.dtypes"
   ]
  },
  {
   "cell_type": "code",
   "execution_count": 6,
   "metadata": {},
   "outputs": [],
   "source": [
    "object_type = ['ID','Region_Code','Holding_Policy_Type','Reco_Policy_Cat']\n",
    "for col in object_type:\n",
    "    train[col] = train[col].astype(np.object)    "
   ]
  },
  {
   "cell_type": "code",
   "execution_count": 7,
   "metadata": {},
   "outputs": [
    {
     "data": {
      "text/html": [
       "<div>\n",
       "<style scoped>\n",
       "    .dataframe tbody tr th:only-of-type {\n",
       "        vertical-align: middle;\n",
       "    }\n",
       "\n",
       "    .dataframe tbody tr th {\n",
       "        vertical-align: top;\n",
       "    }\n",
       "\n",
       "    .dataframe thead th {\n",
       "        text-align: right;\n",
       "    }\n",
       "</style>\n",
       "<table border=\"1\" class=\"dataframe\">\n",
       "  <thead>\n",
       "    <tr style=\"text-align: right;\">\n",
       "      <th></th>\n",
       "      <th>count</th>\n",
       "      <th>unique</th>\n",
       "      <th>top</th>\n",
       "      <th>freq</th>\n",
       "    </tr>\n",
       "  </thead>\n",
       "  <tbody>\n",
       "    <tr>\n",
       "      <th>ID</th>\n",
       "      <td>34090</td>\n",
       "      <td>34090</td>\n",
       "      <td>50882</td>\n",
       "      <td>1</td>\n",
       "    </tr>\n",
       "    <tr>\n",
       "      <th>City_Code</th>\n",
       "      <td>34090</td>\n",
       "      <td>36</td>\n",
       "      <td>C1</td>\n",
       "      <td>6079</td>\n",
       "    </tr>\n",
       "    <tr>\n",
       "      <th>Region_Code</th>\n",
       "      <td>34090</td>\n",
       "      <td>5029</td>\n",
       "      <td>1</td>\n",
       "      <td>62</td>\n",
       "    </tr>\n",
       "    <tr>\n",
       "      <th>Accomodation_Type</th>\n",
       "      <td>34090</td>\n",
       "      <td>2</td>\n",
       "      <td>Owned</td>\n",
       "      <td>18729</td>\n",
       "    </tr>\n",
       "    <tr>\n",
       "      <th>Reco_Insurance_Type</th>\n",
       "      <td>34090</td>\n",
       "      <td>2</td>\n",
       "      <td>Individual</td>\n",
       "      <td>27096</td>\n",
       "    </tr>\n",
       "    <tr>\n",
       "      <th>Is_Spouse</th>\n",
       "      <td>34090</td>\n",
       "      <td>2</td>\n",
       "      <td>No</td>\n",
       "      <td>28418</td>\n",
       "    </tr>\n",
       "    <tr>\n",
       "      <th>Health Indicator</th>\n",
       "      <td>26311</td>\n",
       "      <td>9</td>\n",
       "      <td>X1</td>\n",
       "      <td>8803</td>\n",
       "    </tr>\n",
       "    <tr>\n",
       "      <th>Holding_Policy_Duration</th>\n",
       "      <td>20500</td>\n",
       "      <td>15</td>\n",
       "      <td>1.0</td>\n",
       "      <td>3002</td>\n",
       "    </tr>\n",
       "    <tr>\n",
       "      <th>Holding_Policy_Type</th>\n",
       "      <td>20500</td>\n",
       "      <td>4</td>\n",
       "      <td>3</td>\n",
       "      <td>8867</td>\n",
       "    </tr>\n",
       "    <tr>\n",
       "      <th>Reco_Policy_Cat</th>\n",
       "      <td>34090</td>\n",
       "      <td>22</td>\n",
       "      <td>22</td>\n",
       "      <td>4402</td>\n",
       "    </tr>\n",
       "  </tbody>\n",
       "</table>\n",
       "</div>"
      ],
      "text/plain": [
       "                         count unique         top   freq\n",
       "ID                       34090  34090       50882      1\n",
       "City_Code                34090     36          C1   6079\n",
       "Region_Code              34090   5029           1     62\n",
       "Accomodation_Type        34090      2       Owned  18729\n",
       "Reco_Insurance_Type      34090      2  Individual  27096\n",
       "Is_Spouse                34090      2          No  28418\n",
       "Health Indicator         26311      9          X1   8803\n",
       "Holding_Policy_Duration  20500     15         1.0   3002\n",
       "Holding_Policy_Type      20500      4           3   8867\n",
       "Reco_Policy_Cat          34090     22          22   4402"
      ]
     },
     "execution_count": 7,
     "metadata": {},
     "output_type": "execute_result"
    }
   ],
   "source": [
    "train.describe(include=np.object).T"
   ]
  },
  {
   "cell_type": "code",
   "execution_count": 8,
   "metadata": {},
   "outputs": [
    {
     "data": {
      "text/html": [
       "<div>\n",
       "<style scoped>\n",
       "    .dataframe tbody tr th:only-of-type {\n",
       "        vertical-align: middle;\n",
       "    }\n",
       "\n",
       "    .dataframe tbody tr th {\n",
       "        vertical-align: top;\n",
       "    }\n",
       "\n",
       "    .dataframe thead th {\n",
       "        text-align: right;\n",
       "    }\n",
       "</style>\n",
       "<table border=\"1\" class=\"dataframe\">\n",
       "  <thead>\n",
       "    <tr style=\"text-align: right;\">\n",
       "      <th></th>\n",
       "      <th>Upper_Age</th>\n",
       "      <th>Lower_Age</th>\n",
       "      <th>Reco_Policy_Premium</th>\n",
       "      <th>Response</th>\n",
       "    </tr>\n",
       "  </thead>\n",
       "  <tbody>\n",
       "    <tr>\n",
       "      <th>count</th>\n",
       "      <td>34090.000000</td>\n",
       "      <td>34090.000000</td>\n",
       "      <td>34090.000000</td>\n",
       "      <td>34090.000000</td>\n",
       "    </tr>\n",
       "    <tr>\n",
       "      <th>mean</th>\n",
       "      <td>44.915342</td>\n",
       "      <td>42.770549</td>\n",
       "      <td>14215.008043</td>\n",
       "      <td>0.239953</td>\n",
       "    </tr>\n",
       "    <tr>\n",
       "      <th>std</th>\n",
       "      <td>17.323759</td>\n",
       "      <td>17.328425</td>\n",
       "      <td>6598.390147</td>\n",
       "      <td>0.427061</td>\n",
       "    </tr>\n",
       "    <tr>\n",
       "      <th>min</th>\n",
       "      <td>18.000000</td>\n",
       "      <td>16.000000</td>\n",
       "      <td>2280.000000</td>\n",
       "      <td>0.000000</td>\n",
       "    </tr>\n",
       "    <tr>\n",
       "      <th>25%</th>\n",
       "      <td>28.000000</td>\n",
       "      <td>27.000000</td>\n",
       "      <td>9248.000000</td>\n",
       "      <td>0.000000</td>\n",
       "    </tr>\n",
       "    <tr>\n",
       "      <th>50%</th>\n",
       "      <td>44.000000</td>\n",
       "      <td>40.000000</td>\n",
       "      <td>13216.000000</td>\n",
       "      <td>0.000000</td>\n",
       "    </tr>\n",
       "    <tr>\n",
       "      <th>75%</th>\n",
       "      <td>60.000000</td>\n",
       "      <td>57.000000</td>\n",
       "      <td>18172.000000</td>\n",
       "      <td>0.000000</td>\n",
       "    </tr>\n",
       "    <tr>\n",
       "      <th>max</th>\n",
       "      <td>75.000000</td>\n",
       "      <td>75.000000</td>\n",
       "      <td>43046.400000</td>\n",
       "      <td>1.000000</td>\n",
       "    </tr>\n",
       "  </tbody>\n",
       "</table>\n",
       "</div>"
      ],
      "text/plain": [
       "          Upper_Age     Lower_Age  Reco_Policy_Premium      Response\n",
       "count  34090.000000  34090.000000         34090.000000  34090.000000\n",
       "mean      44.915342     42.770549         14215.008043      0.239953\n",
       "std       17.323759     17.328425          6598.390147      0.427061\n",
       "min       18.000000     16.000000          2280.000000      0.000000\n",
       "25%       28.000000     27.000000          9248.000000      0.000000\n",
       "50%       44.000000     40.000000         13216.000000      0.000000\n",
       "75%       60.000000     57.000000         18172.000000      0.000000\n",
       "max       75.000000     75.000000         43046.400000      1.000000"
      ]
     },
     "execution_count": 8,
     "metadata": {},
     "output_type": "execute_result"
    }
   ],
   "source": [
    "train.describe()"
   ]
  },
  {
   "cell_type": "code",
   "execution_count": 9,
   "metadata": {},
   "outputs": [],
   "source": [
    "na_col = ['Health Indicator','Holding_Policy_Duration','Holding_Policy_Type']\n",
    "for col in na_col:\n",
    "    train[col] = train[col].fillna('na')"
   ]
  },
  {
   "cell_type": "code",
   "execution_count": 10,
   "metadata": {},
   "outputs": [
    {
     "data": {
      "text/plain": [
       "0    0.760047\n",
       "1    0.239953\n",
       "Name: Response, dtype: float64"
      ]
     },
     "execution_count": 10,
     "metadata": {},
     "output_type": "execute_result"
    }
   ],
   "source": [
    "train['Response'].value_counts(normalize=True)"
   ]
  },
  {
   "cell_type": "code",
   "execution_count": 11,
   "metadata": {},
   "outputs": [
    {
     "data": {
      "text/plain": [
       "C1     0.178322\n",
       "C2     0.330625\n",
       "C3     0.427750\n",
       "C4     0.499619\n",
       "C9     0.541625\n",
       "C6     0.580141\n",
       "C7     0.616280\n",
       "C8     0.651951\n",
       "C10    0.683045\n",
       "C5     0.710414\n",
       "C15    0.733236\n",
       "C17    0.755940\n",
       "C16    0.778351\n",
       "C11    0.800645\n",
       "C13    0.820006\n",
       "C20    0.837430\n",
       "C19    0.854825\n",
       "C12    0.871135\n",
       "C18    0.886800\n",
       "C14    0.901936\n",
       "C21    0.915635\n",
       "C23    0.927134\n",
       "C24    0.938105\n",
       "C26    0.948313\n",
       "C22    0.958404\n",
       "C29    0.966500\n",
       "C25    0.973951\n",
       "C33    0.979818\n",
       "C27    0.985685\n",
       "C28    0.990701\n",
       "C32    0.993928\n",
       "C34    0.996597\n",
       "C35    0.997741\n",
       "C30    0.998827\n",
       "C36    0.999648\n",
       "C31    1.000000\n",
       "Name: City_Code, dtype: float64"
      ]
     },
     "execution_count": 11,
     "metadata": {},
     "output_type": "execute_result"
    }
   ],
   "source": [
    "train['City_Code'].value_counts(normalize=True).cumsum()"
   ]
  },
  {
   "cell_type": "code",
   "execution_count": 12,
   "metadata": {},
   "outputs": [
    {
     "data": {
      "text/plain": [
       "other    0.458375\n",
       "C1       0.178322\n",
       "C2       0.152303\n",
       "C3       0.097125\n",
       "C4       0.071869\n",
       "C9       0.042006\n",
       "Name: new_city_code, dtype: float64"
      ]
     },
     "execution_count": 12,
     "metadata": {},
     "output_type": "execute_result"
    }
   ],
   "source": [
    "city_code = ['C1','C2','C3','C4','C9']\n",
    "train['new_city_code'] =  train['City_Code'].apply(lambda x : x if x in city_code else 'other')\n",
    "train['new_city_code'].value_counts(normalize=True)"
   ]
  },
  {
   "cell_type": "code",
   "execution_count": 13,
   "metadata": {},
   "outputs": [
    {
     "data": {
      "text/plain": [
       "5029"
      ]
     },
     "execution_count": 13,
     "metadata": {},
     "output_type": "execute_result"
    }
   ],
   "source": [
    "train['Region_Code'].nunique()"
   ]
  },
  {
   "cell_type": "code",
   "execution_count": 14,
   "metadata": {},
   "outputs": [
    {
     "data": {
      "text/plain": [
       "True     0.794837\n",
       "False    0.205163\n",
       "Name: age_gap, dtype: float64"
      ]
     },
     "execution_count": 14,
     "metadata": {},
     "output_type": "execute_result"
    }
   ],
   "source": [
    "train['age_gap'] = (train['Upper_Age'] == train['Lower_Age'])\n",
    "train['age_gap'].value_counts(normalize=True)"
   ]
  },
  {
   "cell_type": "code",
   "execution_count": 15,
   "metadata": {},
   "outputs": [
    {
     "data": {
      "text/plain": [
       "X1    0.258228\n",
       "na    0.486418\n",
       "X2    0.687885\n",
       "X3    0.822206\n",
       "X4    0.935260\n",
       "X5    0.968759\n",
       "X6    0.993517\n",
       "X7    0.997448\n",
       "X8    0.998856\n",
       "X9    1.000000\n",
       "Name: Health Indicator, dtype: float64"
      ]
     },
     "execution_count": 15,
     "metadata": {},
     "output_type": "execute_result"
    }
   ],
   "source": [
    "train['Health Indicator'].value_counts(normalize=True).cumsum()"
   ]
  },
  {
   "cell_type": "code",
   "execution_count": 16,
   "metadata": {},
   "outputs": [
    {
     "data": {
      "text/plain": [
       "X1       0.258228\n",
       "na       0.228190\n",
       "X2       0.201467\n",
       "other    0.177794\n",
       "X3       0.134321\n",
       "Name: new_health_ind, dtype: float64"
      ]
     },
     "execution_count": 16,
     "metadata": {},
     "output_type": "execute_result"
    }
   ],
   "source": [
    "health_ind = ['X1','na','X2','X3']\n",
    "train['new_health_ind'] =  train['Health Indicator'].apply(lambda x : x if x in health_ind else 'other')\n",
    "train['new_health_ind'].value_counts(normalize=True)"
   ]
  },
  {
   "cell_type": "code",
   "execution_count": 17,
   "metadata": {},
   "outputs": [
    {
     "data": {
      "text/plain": [
       "na      0.398651\n",
       "1.0     0.088061\n",
       "2.0     0.083896\n",
       "14+     0.082752\n",
       "3.0     0.070255\n",
       "4.0     0.055001\n",
       "5.0     0.046465\n",
       "6.0     0.037489\n",
       "7.0     0.032678\n",
       "8.0     0.025902\n",
       "9.0     0.022265\n",
       "10.0    0.015987\n",
       "11.0    0.010766\n",
       "12.0    0.010560\n",
       "13.0    0.010003\n",
       "14.0    0.009270\n",
       "Name: Holding_Policy_Duration, dtype: float64"
      ]
     },
     "execution_count": 17,
     "metadata": {},
     "output_type": "execute_result"
    }
   ],
   "source": [
    "train['Holding_Policy_Duration'].value_counts(normalize=True)"
   ]
  },
  {
   "cell_type": "code",
   "execution_count": 18,
   "metadata": {},
   "outputs": [
    {
     "data": {
      "text/plain": [
       "count    34090.000000\n",
       "mean         3.603579\n",
       "std          4.546766\n",
       "min          0.000000\n",
       "25%          0.000000\n",
       "50%          2.000000\n",
       "75%          6.000000\n",
       "max         14.000000\n",
       "Name: policy_duration, dtype: float64"
      ]
     },
     "execution_count": 18,
     "metadata": {},
     "output_type": "execute_result"
    }
   ],
   "source": [
    "train['policy_duration'] = train['Holding_Policy_Duration'].replace({'na':'0','14+':'14'}).astype(float)\n",
    "train['policy_duration'].describe()"
   ]
  },
  {
   "cell_type": "code",
   "execution_count": 19,
   "metadata": {},
   "outputs": [
    {
     "data": {
      "text/plain": [
       "na     0.398651\n",
       "3.0    0.260106\n",
       "1.0    0.159959\n",
       "2.0    0.097917\n",
       "4.0    0.083368\n",
       "Name: Holding_Policy_Type, dtype: float64"
      ]
     },
     "execution_count": 19,
     "metadata": {},
     "output_type": "execute_result"
    }
   ],
   "source": [
    "train['Holding_Policy_Type'].value_counts(normalize=True)"
   ]
  },
  {
   "cell_type": "code",
   "execution_count": 20,
   "metadata": {},
   "outputs": [
    {
     "data": {
      "text/plain": [
       "22    0.129129\n",
       "18    0.237694\n",
       "21    0.336022\n",
       "16    0.416603\n",
       "17    0.491610\n",
       "19    0.565679\n",
       "20    0.627105\n",
       "12    0.669757\n",
       "1     0.708214\n",
       "2     0.746377\n",
       "14    0.780375\n",
       "13    0.813259\n",
       "15    0.844911\n",
       "3     0.865415\n",
       "5     0.885538\n",
       "4     0.905104\n",
       "6     0.921795\n",
       "7     0.938252\n",
       "11    0.954297\n",
       "9     0.970226\n",
       "10    0.985362\n",
       "8     1.000000\n",
       "Name: Reco_Policy_Cat, dtype: float64"
      ]
     },
     "execution_count": 20,
     "metadata": {},
     "output_type": "execute_result"
    }
   ],
   "source": [
    "train['Reco_Policy_Cat'].value_counts(normalize=True).cumsum()"
   ]
  },
  {
   "cell_type": "code",
   "execution_count": 21,
   "metadata": {},
   "outputs": [
    {
     "data": {
      "text/plain": [
       "other    0.372895\n",
       "22       0.129129\n",
       "18       0.108566\n",
       "21       0.098328\n",
       "16       0.080581\n",
       "17       0.075007\n",
       "19       0.074069\n",
       "20       0.061426\n",
       "Name: new_reco_policy, dtype: float64"
      ]
     },
     "execution_count": 21,
     "metadata": {},
     "output_type": "execute_result"
    }
   ],
   "source": [
    "recom_policy = [22,18,21,16,17,19,20]\n",
    "train['new_reco_policy'] =  train['Reco_Policy_Cat'].apply(lambda x : str(x) if x in recom_policy else 'other')\n",
    "train['new_reco_policy'].value_counts(normalize=True)"
   ]
  },
  {
   "cell_type": "code",
   "execution_count": 22,
   "metadata": {},
   "outputs": [
    {
     "data": {
      "text/plain": [
       "<matplotlib.axes._subplots.AxesSubplot at 0x21a6d8176d8>"
      ]
     },
     "execution_count": 22,
     "metadata": {},
     "output_type": "execute_result"
    },
    {
     "data": {
      "image/png": "[encoded data removed]",
      "text/plain": [
       "<Figure size 432x288 with 1 Axes>"
      ]
     },
     "metadata": {
      "needs_background": "light"
     },
     "output_type": "display_data"
    }
   ],
   "source": [
    "train['Reco_Policy_Premium'].hist()"
   ]
  },
  {
   "cell_type": "code",
   "execution_count": 23,
   "metadata": {},
   "outputs": [
    {
     "data": {
      "text/plain": [
       "<matplotlib.axes._subplots.AxesSubplot at 0x21a6d80cfd0>"
      ]
     },
     "execution_count": 23,
     "metadata": {},
     "output_type": "execute_result"
    },
    {
     "data": {
      "image/png": "[encoded data removed]",
      "text/plain": [
       "<Figure size 432x288 with 1 Axes>"
      ]
     },
     "metadata": {
      "needs_background": "light"
     },
     "output_type": "display_data"
    }
   ],
   "source": [
    "train['recom_prem'] = np.log(train['Reco_Policy_Premium'])\n",
    "train['recom_prem'].hist()"
   ]
  },
  {
   "cell_type": "code",
   "execution_count": 24,
   "metadata": {},
   "outputs": [
    {
     "data": {
      "text/plain": [
       "5       0.002925\n",
       "4       0.005687\n",
       "10      0.008178\n",
       "7       0.010615\n",
       "6       0.012944\n",
       "          ...   \n",
       "4958    0.999783\n",
       "4869    0.999838\n",
       "4883    0.999892\n",
       "4892    0.999946\n",
       "5932    1.000000\n",
       "Name: Region_Code, Length: 2468, dtype: float64"
      ]
     },
     "execution_count": 24,
     "metadata": {},
     "output_type": "execute_result"
    }
   ],
   "source": [
    "train[train['new_city_code'] != 'other']['Region_Code'].value_counts(normalize=True).cumsum()"
   ]
  },
  {
   "cell_type": "code",
   "execution_count": 25,
   "metadata": {},
   "outputs": [
    {
     "data": {
      "text/html": [
       "<div>\n",
       "<style scoped>\n",
       "    .dataframe tbody tr th:only-of-type {\n",
       "        vertical-align: middle;\n",
       "    }\n",
       "\n",
       "    .dataframe tbody tr th {\n",
       "        vertical-align: top;\n",
       "    }\n",
       "\n",
       "    .dataframe thead th {\n",
       "        text-align: right;\n",
       "    }\n",
       "</style>\n",
       "<table border=\"1\" class=\"dataframe\">\n",
       "  <thead>\n",
       "    <tr style=\"text-align: right;\">\n",
       "      <th></th>\n",
       "      <th>ID</th>\n",
       "      <th>City_Code</th>\n",
       "      <th>Region_Code</th>\n",
       "      <th>Accomodation_Type</th>\n",
       "      <th>Reco_Insurance_Type</th>\n",
       "      <th>Upper_Age</th>\n",
       "      <th>Lower_Age</th>\n",
       "      <th>Is_Spouse</th>\n",
       "      <th>Health Indicator</th>\n",
       "      <th>Holding_Policy_Duration</th>\n",
       "      <th>Holding_Policy_Type</th>\n",
       "      <th>Reco_Policy_Cat</th>\n",
       "      <th>Reco_Policy_Premium</th>\n",
       "      <th>Response</th>\n",
       "      <th>new_city_code</th>\n",
       "      <th>age_gap</th>\n",
       "      <th>new_health_ind</th>\n",
       "      <th>policy_duration</th>\n",
       "      <th>new_reco_policy</th>\n",
       "      <th>recom_prem</th>\n",
       "    </tr>\n",
       "  </thead>\n",
       "  <tbody>\n",
       "    <tr>\n",
       "      <th>41843</th>\n",
       "      <td>41844</td>\n",
       "      <td>C6</td>\n",
       "      <td>1010</td>\n",
       "      <td>Rented</td>\n",
       "      <td>Individual</td>\n",
       "      <td>28</td>\n",
       "      <td>28</td>\n",
       "      <td>No</td>\n",
       "      <td>X2</td>\n",
       "      <td>na</td>\n",
       "      <td>na</td>\n",
       "      <td>13</td>\n",
       "      <td>8022.0</td>\n",
       "      <td>0</td>\n",
       "      <td>other</td>\n",
       "      <td>True</td>\n",
       "      <td>X2</td>\n",
       "      <td>0.0</td>\n",
       "      <td>other</td>\n",
       "      <td>8.989943</td>\n",
       "    </tr>\n",
       "    <tr>\n",
       "      <th>16142</th>\n",
       "      <td>16143</td>\n",
       "      <td>C2</td>\n",
       "      <td>3301</td>\n",
       "      <td>Rented</td>\n",
       "      <td>Individual</td>\n",
       "      <td>18</td>\n",
       "      <td>18</td>\n",
       "      <td>No</td>\n",
       "      <td>X3</td>\n",
       "      <td>na</td>\n",
       "      <td>na</td>\n",
       "      <td>12</td>\n",
       "      <td>7956.0</td>\n",
       "      <td>0</td>\n",
       "      <td>C2</td>\n",
       "      <td>True</td>\n",
       "      <td>X3</td>\n",
       "      <td>0.0</td>\n",
       "      <td>other</td>\n",
       "      <td>8.981682</td>\n",
       "    </tr>\n",
       "    <tr>\n",
       "      <th>13793</th>\n",
       "      <td>13794</td>\n",
       "      <td>C2</td>\n",
       "      <td>832</td>\n",
       "      <td>Rented</td>\n",
       "      <td>Individual</td>\n",
       "      <td>34</td>\n",
       "      <td>34</td>\n",
       "      <td>No</td>\n",
       "      <td>X2</td>\n",
       "      <td>13.0</td>\n",
       "      <td>3</td>\n",
       "      <td>22</td>\n",
       "      <td>10224.0</td>\n",
       "      <td>0</td>\n",
       "      <td>C2</td>\n",
       "      <td>True</td>\n",
       "      <td>X2</td>\n",
       "      <td>13.0</td>\n",
       "      <td>22</td>\n",
       "      <td>9.232493</td>\n",
       "    </tr>\n",
       "  </tbody>\n",
       "</table>\n",
       "</div>"
      ],
      "text/plain": [
       "          ID City_Code Region_Code Accomodation_Type Reco_Insurance_Type  \\\n",
       "41843  41844        C6        1010            Rented          Individual   \n",
       "16142  16143        C2        3301            Rented          Individual   \n",
       "13793  13794        C2         832            Rented          Individual   \n",
       "\n",
       "       Upper_Age  Lower_Age Is_Spouse Health Indicator  \\\n",
       "41843         28         28        No               X2   \n",
       "16142         18         18        No               X3   \n",
       "13793         34         34        No               X2   \n",
       "\n",
       "      Holding_Policy_Duration Holding_Policy_Type Reco_Policy_Cat  \\\n",
       "41843                      na                  na              13   \n",
       "16142                      na                  na              12   \n",
       "13793                    13.0                   3              22   \n",
       "\n",
       "       Reco_Policy_Premium  Response new_city_code  age_gap new_health_ind  \\\n",
       "41843               8022.0         0         other     True             X2   \n",
       "16142               7956.0         0            C2     True             X3   \n",
       "13793              10224.0         0            C2     True             X2   \n",
       "\n",
       "       policy_duration new_reco_policy  recom_prem  \n",
       "41843              0.0           other    8.989943  \n",
       "16142              0.0           other    8.981682  \n",
       "13793             13.0              22    9.232493  "
      ]
     },
     "execution_count": 25,
     "metadata": {},
     "output_type": "execute_result"
    }
   ],
   "source": [
    "train.sample(3)"
   ]
  },
  {
   "cell_type": "code",
   "execution_count": 26,
   "metadata": {},
   "outputs": [],
   "source": [
    "train['Holding_Policy_Type'] = train['Holding_Policy_Type'].astype(str)"
   ]
  },
  {
   "cell_type": "code",
   "execution_count": 27,
   "metadata": {},
   "outputs": [
    {
     "data": {
      "text/html": [
       "<div>\n",
       "<style scoped>\n",
       "    .dataframe tbody tr th:only-of-type {\n",
       "        vertical-align: middle;\n",
       "    }\n",
       "\n",
       "    .dataframe tbody tr th {\n",
       "        vertical-align: top;\n",
       "    }\n",
       "\n",
       "    .dataframe thead th {\n",
       "        text-align: right;\n",
       "    }\n",
       "</style>\n",
       "<table border=\"1\" class=\"dataframe\">\n",
       "  <thead>\n",
       "    <tr style=\"text-align: right;\">\n",
       "      <th></th>\n",
       "      <th>Accomodation_Type_Rented</th>\n",
       "      <th>Reco_Insurance_Type_Joint</th>\n",
       "      <th>Is_Spouse_Yes</th>\n",
       "      <th>new_city_code_C2</th>\n",
       "      <th>new_city_code_C3</th>\n",
       "      <th>new_city_code_C4</th>\n",
       "      <th>new_city_code_C9</th>\n",
       "      <th>new_city_code_other</th>\n",
       "      <th>new_health_ind_X2</th>\n",
       "      <th>new_health_ind_X3</th>\n",
       "      <th>new_health_ind_na</th>\n",
       "      <th>new_health_ind_other</th>\n",
       "      <th>new_reco_policy_17</th>\n",
       "      <th>new_reco_policy_18</th>\n",
       "      <th>new_reco_policy_19</th>\n",
       "      <th>new_reco_policy_20</th>\n",
       "      <th>new_reco_policy_21</th>\n",
       "      <th>new_reco_policy_22</th>\n",
       "      <th>new_reco_policy_other</th>\n",
       "      <th>Holding_Policy_Type_2.0</th>\n",
       "      <th>Holding_Policy_Type_3.0</th>\n",
       "      <th>Holding_Policy_Type_4.0</th>\n",
       "      <th>Holding_Policy_Type_na</th>\n",
       "      <th>age_gap_True</th>\n",
       "    </tr>\n",
       "  </thead>\n",
       "  <tbody>\n",
       "    <tr>\n",
       "      <th>18517</th>\n",
       "      <td>0.0</td>\n",
       "      <td>0.0</td>\n",
       "      <td>0.0</td>\n",
       "      <td>0.0</td>\n",
       "      <td>0.0</td>\n",
       "      <td>0.0</td>\n",
       "      <td>0.0</td>\n",
       "      <td>1.0</td>\n",
       "      <td>0.0</td>\n",
       "      <td>0.0</td>\n",
       "      <td>0.0</td>\n",
       "      <td>1.0</td>\n",
       "      <td>0.0</td>\n",
       "      <td>0.0</td>\n",
       "      <td>0.0</td>\n",
       "      <td>0.0</td>\n",
       "      <td>0.0</td>\n",
       "      <td>0.0</td>\n",
       "      <td>1.0</td>\n",
       "      <td>0.0</td>\n",
       "      <td>1.0</td>\n",
       "      <td>0.0</td>\n",
       "      <td>0.0</td>\n",
       "      <td>1.0</td>\n",
       "    </tr>\n",
       "    <tr>\n",
       "      <th>21636</th>\n",
       "      <td>0.0</td>\n",
       "      <td>0.0</td>\n",
       "      <td>0.0</td>\n",
       "      <td>0.0</td>\n",
       "      <td>0.0</td>\n",
       "      <td>0.0</td>\n",
       "      <td>0.0</td>\n",
       "      <td>1.0</td>\n",
       "      <td>1.0</td>\n",
       "      <td>0.0</td>\n",
       "      <td>0.0</td>\n",
       "      <td>0.0</td>\n",
       "      <td>0.0</td>\n",
       "      <td>0.0</td>\n",
       "      <td>0.0</td>\n",
       "      <td>0.0</td>\n",
       "      <td>0.0</td>\n",
       "      <td>0.0</td>\n",
       "      <td>1.0</td>\n",
       "      <td>0.0</td>\n",
       "      <td>0.0</td>\n",
       "      <td>1.0</td>\n",
       "      <td>0.0</td>\n",
       "      <td>1.0</td>\n",
       "    </tr>\n",
       "    <tr>\n",
       "      <th>2743</th>\n",
       "      <td>0.0</td>\n",
       "      <td>0.0</td>\n",
       "      <td>0.0</td>\n",
       "      <td>0.0</td>\n",
       "      <td>0.0</td>\n",
       "      <td>0.0</td>\n",
       "      <td>0.0</td>\n",
       "      <td>1.0</td>\n",
       "      <td>0.0</td>\n",
       "      <td>0.0</td>\n",
       "      <td>1.0</td>\n",
       "      <td>0.0</td>\n",
       "      <td>0.0</td>\n",
       "      <td>0.0</td>\n",
       "      <td>0.0</td>\n",
       "      <td>0.0</td>\n",
       "      <td>0.0</td>\n",
       "      <td>0.0</td>\n",
       "      <td>1.0</td>\n",
       "      <td>0.0</td>\n",
       "      <td>1.0</td>\n",
       "      <td>0.0</td>\n",
       "      <td>0.0</td>\n",
       "      <td>1.0</td>\n",
       "    </tr>\n",
       "  </tbody>\n",
       "</table>\n",
       "</div>"
      ],
      "text/plain": [
       "       Accomodation_Type_Rented  Reco_Insurance_Type_Joint  Is_Spouse_Yes  \\\n",
       "18517                       0.0                        0.0            0.0   \n",
       "21636                       0.0                        0.0            0.0   \n",
       "2743                        0.0                        0.0            0.0   \n",
       "\n",
       "       new_city_code_C2  new_city_code_C3  new_city_code_C4  new_city_code_C9  \\\n",
       "18517               0.0               0.0               0.0               0.0   \n",
       "21636               0.0               0.0               0.0               0.0   \n",
       "2743                0.0               0.0               0.0               0.0   \n",
       "\n",
       "       new_city_code_other  new_health_ind_X2  new_health_ind_X3  \\\n",
       "18517                  1.0                0.0                0.0   \n",
       "21636                  1.0                1.0                0.0   \n",
       "2743                   1.0                0.0                0.0   \n",
       "\n",
       "       new_health_ind_na  new_health_ind_other  new_reco_policy_17  \\\n",
       "18517                0.0                   1.0                 0.0   \n",
       "21636                0.0                   0.0                 0.0   \n",
       "2743                 1.0                   0.0                 0.0   \n",
       "\n",
       "       new_reco_policy_18  new_reco_policy_19  new_reco_policy_20  \\\n",
       "18517                 0.0                 0.0                 0.0   \n",
       "21636                 0.0                 0.0                 0.0   \n",
       "2743                  0.0                 0.0                 0.0   \n",
       "\n",
       "       new_reco_policy_21  new_reco_policy_22  new_reco_policy_other  \\\n",
       "18517                 0.0                 0.0                    1.0   \n",
       "21636                 0.0                 0.0                    1.0   \n",
       "2743                  0.0                 0.0                    1.0   \n",
       "\n",
       "       Holding_Policy_Type_2.0  Holding_Policy_Type_3.0  \\\n",
       "18517                      0.0                      1.0   \n",
       "21636                      0.0                      0.0   \n",
       "2743                       0.0                      1.0   \n",
       "\n",
       "       Holding_Policy_Type_4.0  Holding_Policy_Type_na  age_gap_True  \n",
       "18517                      0.0                     0.0           1.0  \n",
       "21636                      1.0                     0.0           1.0  \n",
       "2743                       0.0                     0.0           1.0  "
      ]
     },
     "execution_count": 27,
     "metadata": {},
     "output_type": "execute_result"
    }
   ],
   "source": [
    "one_hot_cols = ['Accomodation_Type','Reco_Insurance_Type','Is_Spouse','new_city_code','new_health_ind',\n",
    "               'new_reco_policy','Holding_Policy_Type','age_gap']\n",
    "\n",
    "cat_encoder = OneHotEncoder(drop='first')\n",
    "cat_array = cat_encoder.fit_transform(train[one_hot_cols])\n",
    "one_hot = pd.DataFrame(cat_array.todense(),index=train.index,columns=cat_encoder.get_feature_names())\n",
    "\n",
    "\n",
    "for idx, col in enumerate(one_hot_cols):\n",
    "    one_hot.columns = one_hot.columns.str.replace(f\"x{idx}\",f\"{col}\")\n",
    "\n",
    "one_hot.head(3)"
   ]
  },
  {
   "cell_type": "code",
   "execution_count": 28,
   "metadata": {},
   "outputs": [
    {
     "data": {
      "text/html": [
       "<div>\n",
       "<style scoped>\n",
       "    .dataframe tbody tr th:only-of-type {\n",
       "        vertical-align: middle;\n",
       "    }\n",
       "\n",
       "    .dataframe tbody tr th {\n",
       "        vertical-align: top;\n",
       "    }\n",
       "\n",
       "    .dataframe thead th {\n",
       "        text-align: right;\n",
       "    }\n",
       "</style>\n",
       "<table border=\"1\" class=\"dataframe\">\n",
       "  <thead>\n",
       "    <tr style=\"text-align: right;\">\n",
       "      <th></th>\n",
       "      <th>Upper_Age</th>\n",
       "      <th>Lower_Age</th>\n",
       "      <th>policy_duration</th>\n",
       "      <th>recom_prem</th>\n",
       "    </tr>\n",
       "  </thead>\n",
       "  <tbody>\n",
       "    <tr>\n",
       "      <th>18517</th>\n",
       "      <td>1.159388</td>\n",
       "      <td>1.282850</td>\n",
       "      <td>1.186888</td>\n",
       "      <td>0.831886</td>\n",
       "    </tr>\n",
       "    <tr>\n",
       "      <th>21636</th>\n",
       "      <td>1.390288</td>\n",
       "      <td>1.513688</td>\n",
       "      <td>-0.352691</td>\n",
       "      <td>0.270871</td>\n",
       "    </tr>\n",
       "    <tr>\n",
       "      <th>2743</th>\n",
       "      <td>0.408962</td>\n",
       "      <td>0.532627</td>\n",
       "      <td>1.846707</td>\n",
       "      <td>0.671342</td>\n",
       "    </tr>\n",
       "  </tbody>\n",
       "</table>\n",
       "</div>"
      ],
      "text/plain": [
       "       Upper_Age  Lower_Age  policy_duration  recom_prem\n",
       "18517   1.159388   1.282850         1.186888    0.831886\n",
       "21636   1.390288   1.513688        -0.352691    0.270871\n",
       "2743    0.408962   0.532627         1.846707    0.671342"
      ]
     },
     "execution_count": 28,
     "metadata": {},
     "output_type": "execute_result"
    }
   ],
   "source": [
    "num_col = ['Upper_Age','Lower_Age','policy_duration','recom_prem']\n",
    "scaler = StandardScaler()\n",
    "num_array = scaler.fit_transform(train[num_col])\n",
    "num_df = pd.DataFrame(num_array,index=train.index,columns=num_col)\n",
    "num_df.head(3)"
   ]
  },
  {
   "cell_type": "code",
   "execution_count": 29,
   "metadata": {},
   "outputs": [
    {
     "data": {
      "text/html": [
       "<div>\n",
       "<style scoped>\n",
       "    .dataframe tbody tr th:only-of-type {\n",
       "        vertical-align: middle;\n",
       "    }\n",
       "\n",
       "    .dataframe tbody tr th {\n",
       "        vertical-align: top;\n",
       "    }\n",
       "\n",
       "    .dataframe thead th {\n",
       "        text-align: right;\n",
       "    }\n",
       "</style>\n",
       "<table border=\"1\" class=\"dataframe\">\n",
       "  <thead>\n",
       "    <tr style=\"text-align: right;\">\n",
       "      <th></th>\n",
       "      <th>Upper_Age</th>\n",
       "      <th>Lower_Age</th>\n",
       "      <th>policy_duration</th>\n",
       "      <th>recom_prem</th>\n",
       "      <th>Accomodation_Type_Rented</th>\n",
       "      <th>Reco_Insurance_Type_Joint</th>\n",
       "      <th>Is_Spouse_Yes</th>\n",
       "      <th>new_city_code_C2</th>\n",
       "      <th>new_city_code_C3</th>\n",
       "      <th>new_city_code_C4</th>\n",
       "      <th>new_city_code_C9</th>\n",
       "      <th>new_city_code_other</th>\n",
       "      <th>new_health_ind_X2</th>\n",
       "      <th>new_health_ind_X3</th>\n",
       "      <th>new_health_ind_na</th>\n",
       "      <th>new_health_ind_other</th>\n",
       "      <th>new_reco_policy_17</th>\n",
       "      <th>new_reco_policy_18</th>\n",
       "      <th>new_reco_policy_19</th>\n",
       "      <th>new_reco_policy_20</th>\n",
       "      <th>new_reco_policy_21</th>\n",
       "      <th>new_reco_policy_22</th>\n",
       "      <th>new_reco_policy_other</th>\n",
       "      <th>Holding_Policy_Type_2.0</th>\n",
       "      <th>Holding_Policy_Type_3.0</th>\n",
       "      <th>Holding_Policy_Type_4.0</th>\n",
       "      <th>Holding_Policy_Type_na</th>\n",
       "      <th>age_gap_True</th>\n",
       "    </tr>\n",
       "  </thead>\n",
       "  <tbody>\n",
       "    <tr>\n",
       "      <th>44867</th>\n",
       "      <td>0.120337</td>\n",
       "      <td>0.244080</td>\n",
       "      <td>2.286586</td>\n",
       "      <td>0.300003</td>\n",
       "      <td>0.0</td>\n",
       "      <td>0.0</td>\n",
       "      <td>0.0</td>\n",
       "      <td>0.0</td>\n",
       "      <td>0.0</td>\n",
       "      <td>0.0</td>\n",
       "      <td>0.0</td>\n",
       "      <td>1.0</td>\n",
       "      <td>0.0</td>\n",
       "      <td>0.0</td>\n",
       "      <td>1.0</td>\n",
       "      <td>0.0</td>\n",
       "      <td>0.0</td>\n",
       "      <td>0.0</td>\n",
       "      <td>1.0</td>\n",
       "      <td>0.0</td>\n",
       "      <td>0.0</td>\n",
       "      <td>0.0</td>\n",
       "      <td>0.0</td>\n",
       "      <td>0.0</td>\n",
       "      <td>1.0</td>\n",
       "      <td>0.0</td>\n",
       "      <td>0.0</td>\n",
       "      <td>1.0</td>\n",
       "    </tr>\n",
       "    <tr>\n",
       "      <th>45506</th>\n",
       "      <td>1.101663</td>\n",
       "      <td>1.225141</td>\n",
       "      <td>-0.792570</td>\n",
       "      <td>1.200601</td>\n",
       "      <td>0.0</td>\n",
       "      <td>0.0</td>\n",
       "      <td>0.0</td>\n",
       "      <td>1.0</td>\n",
       "      <td>0.0</td>\n",
       "      <td>0.0</td>\n",
       "      <td>0.0</td>\n",
       "      <td>0.0</td>\n",
       "      <td>1.0</td>\n",
       "      <td>0.0</td>\n",
       "      <td>0.0</td>\n",
       "      <td>0.0</td>\n",
       "      <td>0.0</td>\n",
       "      <td>0.0</td>\n",
       "      <td>0.0</td>\n",
       "      <td>0.0</td>\n",
       "      <td>0.0</td>\n",
       "      <td>1.0</td>\n",
       "      <td>0.0</td>\n",
       "      <td>0.0</td>\n",
       "      <td>0.0</td>\n",
       "      <td>0.0</td>\n",
       "      <td>1.0</td>\n",
       "      <td>1.0</td>\n",
       "    </tr>\n",
       "  </tbody>\n",
       "</table>\n",
       "</div>"
      ],
      "text/plain": [
       "       Upper_Age  Lower_Age  policy_duration  recom_prem  \\\n",
       "44867   0.120337   0.244080         2.286586    0.300003   \n",
       "45506   1.101663   1.225141        -0.792570    1.200601   \n",
       "\n",
       "       Accomodation_Type_Rented  Reco_Insurance_Type_Joint  Is_Spouse_Yes  \\\n",
       "44867                       0.0                        0.0            0.0   \n",
       "45506                       0.0                        0.0            0.0   \n",
       "\n",
       "       new_city_code_C2  new_city_code_C3  new_city_code_C4  new_city_code_C9  \\\n",
       "44867               0.0               0.0               0.0               0.0   \n",
       "45506               1.0               0.0               0.0               0.0   \n",
       "\n",
       "       new_city_code_other  new_health_ind_X2  new_health_ind_X3  \\\n",
       "44867                  1.0                0.0                0.0   \n",
       "45506                  0.0                1.0                0.0   \n",
       "\n",
       "       new_health_ind_na  new_health_ind_other  new_reco_policy_17  \\\n",
       "44867                1.0                   0.0                 0.0   \n",
       "45506                0.0                   0.0                 0.0   \n",
       "\n",
       "       new_reco_policy_18  new_reco_policy_19  new_reco_policy_20  \\\n",
       "44867                 0.0                 1.0                 0.0   \n",
       "45506                 0.0                 0.0                 0.0   \n",
       "\n",
       "       new_reco_policy_21  new_reco_policy_22  new_reco_policy_other  \\\n",
       "44867                 0.0                 0.0                    0.0   \n",
       "45506                 0.0                 1.0                    0.0   \n",
       "\n",
       "       Holding_Policy_Type_2.0  Holding_Policy_Type_3.0  \\\n",
       "44867                      0.0                      1.0   \n",
       "45506                      0.0                      0.0   \n",
       "\n",
       "       Holding_Policy_Type_4.0  Holding_Policy_Type_na  age_gap_True  \n",
       "44867                      0.0                     0.0           1.0  \n",
       "45506                      0.0                     1.0           1.0  "
      ]
     },
     "execution_count": 29,
     "metadata": {},
     "output_type": "execute_result"
    }
   ],
   "source": [
    "x_train = pd.concat([num_df,one_hot],axis=1,ignore_index=False,sort=False)\n",
    "x_train.sample(2)"
   ]
  },
  {
   "cell_type": "code",
   "execution_count": 30,
   "metadata": {},
   "outputs": [
    {
     "data": {
      "text/plain": [
       "((34090, 28), (34090, 20))"
      ]
     },
     "execution_count": 30,
     "metadata": {},
     "output_type": "execute_result"
    }
   ],
   "source": [
    "x_train.shape,train.shape"
   ]
  },
  {
   "cell_type": "code",
   "execution_count": 31,
   "metadata": {},
   "outputs": [],
   "source": [
    "def prep_data(data,cat_encoder,scaler):\n",
    "    object_type = ['ID','Region_Code','Holding_Policy_Type','Reco_Policy_Cat']\n",
    "    for col in object_type:\n",
    "        data[col] = data[col].astype(np.object)  \n",
    "\n",
    "    na_col = ['Health Indicator','Holding_Policy_Duration','Holding_Policy_Type']\n",
    "    for col in na_col:\n",
    "        data[col] = data[col].fillna('na')\n",
    "\n",
    "    city_code = ['C1','C2','C3','C4','C9']\n",
    "    data['new_city_code'] =  data['City_Code'].apply(lambda x : x if x in city_code else 'other')\n",
    "\n",
    "    data['age_gap'] = (data['Upper_Age'] == data['Lower_Age'])\n",
    "\n",
    "\n",
    "    health_ind = ['X1','na','X2','X3']\n",
    "    data['new_health_ind'] =  data['Health Indicator'].apply(lambda x : x if x in health_ind else 'other')\n",
    "\n",
    "    data['policy_duration'] = data['Holding_Policy_Duration'].replace({'na':'0','14+':'14'}).astype(float)\n",
    "\n",
    "    recom_policy = [22,18,21,16,17,19,20]\n",
    "    data['new_reco_policy'] =  data['Reco_Policy_Cat'].apply(lambda x : str(x) if x in recom_policy else 'other')\n",
    "\n",
    "    data['recom_prem'] = np.log(data['Reco_Policy_Premium'])\n",
    "\n",
    "    data['Holding_Policy_Type'] = data['Holding_Policy_Type'].astype(str)\n",
    "\n",
    "    one_hot_cols = ['Accomodation_Type','Reco_Insurance_Type','Is_Spouse','new_city_code','new_health_ind',\n",
    "                   'new_reco_policy','Holding_Policy_Type','age_gap']\n",
    "\n",
    "    cat_array = cat_encoder.transform(data[one_hot_cols])\n",
    "    one_hot = pd.DataFrame(cat_array.todense(),index=data.index,columns=cat_encoder.get_feature_names())\n",
    "\n",
    "\n",
    "    for idx, col in enumerate(one_hot_cols):\n",
    "        one_hot.columns = one_hot.columns.str.replace(f\"x{idx}\",f\"{col}\")\n",
    "\n",
    "    num_col = ['Upper_Age','Lower_Age','policy_duration','recom_prem']\n",
    "    num_array = scaler.transform(data[num_col])\n",
    "    num_df = pd.DataFrame(num_array,index=data.index,columns=num_col)\n",
    "\n",
    "    x_data = pd.concat([num_df,one_hot],axis=1,ignore_index=False,sort=False)\n",
    "    \n",
    "    return x_data"
   ]
  },
  {
   "cell_type": "code",
   "execution_count": 32,
   "metadata": {},
   "outputs": [
    {
     "data": {
      "text/html": [
       "<div>\n",
       "<style scoped>\n",
       "    .dataframe tbody tr th:only-of-type {\n",
       "        vertical-align: middle;\n",
       "    }\n",
       "\n",
       "    .dataframe tbody tr th {\n",
       "        vertical-align: top;\n",
       "    }\n",
       "\n",
       "    .dataframe thead th {\n",
       "        text-align: right;\n",
       "    }\n",
       "</style>\n",
       "<table border=\"1\" class=\"dataframe\">\n",
       "  <thead>\n",
       "    <tr style=\"text-align: right;\">\n",
       "      <th></th>\n",
       "      <th>Upper_Age</th>\n",
       "      <th>Lower_Age</th>\n",
       "      <th>policy_duration</th>\n",
       "      <th>recom_prem</th>\n",
       "      <th>Accomodation_Type_Rented</th>\n",
       "      <th>Reco_Insurance_Type_Joint</th>\n",
       "      <th>Is_Spouse_Yes</th>\n",
       "      <th>new_city_code_C2</th>\n",
       "      <th>new_city_code_C3</th>\n",
       "      <th>new_city_code_C4</th>\n",
       "      <th>new_city_code_C9</th>\n",
       "      <th>new_city_code_other</th>\n",
       "      <th>new_health_ind_X2</th>\n",
       "      <th>new_health_ind_X3</th>\n",
       "      <th>new_health_ind_na</th>\n",
       "      <th>new_health_ind_other</th>\n",
       "      <th>new_reco_policy_17</th>\n",
       "      <th>new_reco_policy_18</th>\n",
       "      <th>new_reco_policy_19</th>\n",
       "      <th>new_reco_policy_20</th>\n",
       "      <th>new_reco_policy_21</th>\n",
       "      <th>new_reco_policy_22</th>\n",
       "      <th>new_reco_policy_other</th>\n",
       "      <th>Holding_Policy_Type_2.0</th>\n",
       "      <th>Holding_Policy_Type_3.0</th>\n",
       "      <th>Holding_Policy_Type_4.0</th>\n",
       "      <th>Holding_Policy_Type_na</th>\n",
       "      <th>age_gap_True</th>\n",
       "    </tr>\n",
       "  </thead>\n",
       "  <tbody>\n",
       "    <tr>\n",
       "      <th>26144</th>\n",
       "      <td>-0.860989</td>\n",
       "      <td>-0.736982</td>\n",
       "      <td>0.527068</td>\n",
       "      <td>-0.930094</td>\n",
       "      <td>1.0</td>\n",
       "      <td>0.0</td>\n",
       "      <td>0.0</td>\n",
       "      <td>1.0</td>\n",
       "      <td>0.0</td>\n",
       "      <td>0.0</td>\n",
       "      <td>0.0</td>\n",
       "      <td>0.0</td>\n",
       "      <td>0.0</td>\n",
       "      <td>0.0</td>\n",
       "      <td>1.0</td>\n",
       "      <td>0.0</td>\n",
       "      <td>0.0</td>\n",
       "      <td>0.0</td>\n",
       "      <td>0.0</td>\n",
       "      <td>0.0</td>\n",
       "      <td>0.0</td>\n",
       "      <td>0.0</td>\n",
       "      <td>1.0</td>\n",
       "      <td>0.0</td>\n",
       "      <td>0.0</td>\n",
       "      <td>1.0</td>\n",
       "      <td>0.0</td>\n",
       "      <td>1.0</td>\n",
       "    </tr>\n",
       "    <tr>\n",
       "      <th>4755</th>\n",
       "      <td>-1.034164</td>\n",
       "      <td>-0.910110</td>\n",
       "      <td>-0.792570</td>\n",
       "      <td>-1.702586</td>\n",
       "      <td>1.0</td>\n",
       "      <td>0.0</td>\n",
       "      <td>0.0</td>\n",
       "      <td>0.0</td>\n",
       "      <td>0.0</td>\n",
       "      <td>1.0</td>\n",
       "      <td>0.0</td>\n",
       "      <td>0.0</td>\n",
       "      <td>0.0</td>\n",
       "      <td>0.0</td>\n",
       "      <td>0.0</td>\n",
       "      <td>1.0</td>\n",
       "      <td>0.0</td>\n",
       "      <td>0.0</td>\n",
       "      <td>0.0</td>\n",
       "      <td>0.0</td>\n",
       "      <td>0.0</td>\n",
       "      <td>1.0</td>\n",
       "      <td>0.0</td>\n",
       "      <td>0.0</td>\n",
       "      <td>0.0</td>\n",
       "      <td>0.0</td>\n",
       "      <td>1.0</td>\n",
       "      <td>1.0</td>\n",
       "    </tr>\n",
       "    <tr>\n",
       "      <th>45533</th>\n",
       "      <td>0.351237</td>\n",
       "      <td>0.474917</td>\n",
       "      <td>1.626767</td>\n",
       "      <td>-0.172158</td>\n",
       "      <td>1.0</td>\n",
       "      <td>0.0</td>\n",
       "      <td>0.0</td>\n",
       "      <td>0.0</td>\n",
       "      <td>0.0</td>\n",
       "      <td>0.0</td>\n",
       "      <td>0.0</td>\n",
       "      <td>1.0</td>\n",
       "      <td>0.0</td>\n",
       "      <td>1.0</td>\n",
       "      <td>0.0</td>\n",
       "      <td>0.0</td>\n",
       "      <td>0.0</td>\n",
       "      <td>0.0</td>\n",
       "      <td>0.0</td>\n",
       "      <td>0.0</td>\n",
       "      <td>0.0</td>\n",
       "      <td>0.0</td>\n",
       "      <td>1.0</td>\n",
       "      <td>0.0</td>\n",
       "      <td>1.0</td>\n",
       "      <td>0.0</td>\n",
       "      <td>0.0</td>\n",
       "      <td>1.0</td>\n",
       "    </tr>\n",
       "  </tbody>\n",
       "</table>\n",
       "</div>"
      ],
      "text/plain": [
       "       Upper_Age  Lower_Age  policy_duration  recom_prem  \\\n",
       "26144  -0.860989  -0.736982         0.527068   -0.930094   \n",
       "4755   -1.034164  -0.910110        -0.792570   -1.702586   \n",
       "45533   0.351237   0.474917         1.626767   -0.172158   \n",
       "\n",
       "       Accomodation_Type_Rented  Reco_Insurance_Type_Joint  Is_Spouse_Yes  \\\n",
       "26144                       1.0                        0.0            0.0   \n",
       "4755                        1.0                        0.0            0.0   \n",
       "45533                       1.0                        0.0            0.0   \n",
       "\n",
       "       new_city_code_C2  new_city_code_C3  new_city_code_C4  new_city_code_C9  \\\n",
       "26144               1.0               0.0               0.0               0.0   \n",
       "4755                0.0               0.0               1.0               0.0   \n",
       "45533               0.0               0.0               0.0               0.0   \n",
       "\n",
       "       new_city_code_other  new_health_ind_X2  new_health_ind_X3  \\\n",
       "26144                  0.0                0.0                0.0   \n",
       "4755                   0.0                0.0                0.0   \n",
       "45533                  1.0                0.0                1.0   \n",
       "\n",
       "       new_health_ind_na  new_health_ind_other  new_reco_policy_17  \\\n",
       "26144                1.0                   0.0                 0.0   \n",
       "4755                 0.0                   1.0                 0.0   \n",
       "45533                0.0                   0.0                 0.0   \n",
       "\n",
       "       new_reco_policy_18  new_reco_policy_19  new_reco_policy_20  \\\n",
       "26144                 0.0                 0.0                 0.0   \n",
       "4755                  0.0                 0.0                 0.0   \n",
       "45533                 0.0                 0.0                 0.0   \n",
       "\n",
       "       new_reco_policy_21  new_reco_policy_22  new_reco_policy_other  \\\n",
       "26144                 0.0                 0.0                    1.0   \n",
       "4755                  0.0                 1.0                    0.0   \n",
       "45533                 0.0                 0.0                    1.0   \n",
       "\n",
       "       Holding_Policy_Type_2.0  Holding_Policy_Type_3.0  \\\n",
       "26144                      0.0                      0.0   \n",
       "4755                       0.0                      0.0   \n",
       "45533                      0.0                      1.0   \n",
       "\n",
       "       Holding_Policy_Type_4.0  Holding_Policy_Type_na  age_gap_True  \n",
       "26144                      1.0                     0.0           1.0  \n",
       "4755                       0.0                     1.0           1.0  \n",
       "45533                      0.0                     0.0           1.0  "
      ]
     },
     "execution_count": 32,
     "metadata": {},
     "output_type": "execute_result"
    }
   ],
   "source": [
    "x_valid = prep_data(valid,cat_encoder,scaler)\n",
    "x_valid.head(3)"
   ]
  },
  {
   "cell_type": "code",
   "execution_count": 33,
   "metadata": {},
   "outputs": [
    {
     "data": {
      "text/plain": [
       "3.167481662591687"
      ]
     },
     "execution_count": 33,
     "metadata": {},
     "output_type": "execute_result"
    }
   ],
   "source": [
    "y_train = train['Response'].astype(int)\n",
    "y_valid = valid['Response'].astype(int)\n",
    "\n",
    "wgt = np.sum(y_train == 0)/np.sum(y_train==1)\n",
    "wgt"
   ]
  },
  {
   "cell_type": "code",
   "execution_count": 34,
   "metadata": {},
   "outputs": [],
   "source": [
    "def fit_model(models,x_train,y_train,x_valid,y_valid):\n",
    "    for classifier in models:\n",
    "        print(f\"=========== Fitting {classifier} =====================\")\n",
    "        clf = models[classifier]\n",
    "        clf.fit(x_train,y_train)\n",
    "        train_auc =  roc_auc_score(y_train, clf.predict(x_train))\n",
    "        valid_auc =  roc_auc_score(y_valid, clf.predict(x_valid))\n",
    "        print(f\"\\tTrain AUC {train_auc}\")\n",
    "        print(f\"\\tValid AUC {valid_auc}\")\n",
    "    return"
   ]
  },
  {
   "cell_type": "code",
   "execution_count": 35,
   "metadata": {},
   "outputs": [],
   "source": [
    "models = {\n",
    "          \"knn\"            : KNeighborsClassifier(n_neighbors=5),\n",
    "          \"logisitc\"       : LogisticRegression(class_weight='balanced',random_state=33),\n",
    "          \"linear svm\"     : LinearSVC(class_weight='balanced',random_state=65,max_iter=300),\n",
    "          \"non linear svm\" : SVC(gamma='auto',class_weight='balanced',random_state=98,kernel='poly',degree=2),\n",
    "          \"naive bayes\"    : GaussianNB(),\n",
    "          \"random forest\"  : RandomForestClassifier(random_state=0,n_estimators=100, max_depth=5),\n",
    "          \"ada bosst\"      : AdaBoostClassifier(n_estimators=50,random_state=34),\n",
    "          \"gradient boost\" : GradientBoostingClassifier(n_estimators=50,subsample=0.8,max_depth=5,random_state=89),\n",
    "          \"xgb boost\"      : XGBClassifier(random_state=0, subsample=0.8,n_estimators=50, \n",
    "                                           max_depth=5,scale_pos_weight=wgt,eval_metric='auc'),\n",
    "          \"hist gradient\"  : HistGradientBoostingClassifier(max_depth=5,random_state=43)\n",
    "     }"
   ]
  },
  {
   "cell_type": "code",
   "execution_count": 36,
   "metadata": {},
   "outputs": [
    {
     "name": "stdout",
     "output_type": "stream",
     "text": [
      "=========== Fitting knn =====================\n",
      "\tTrain AUC 0.6191643964107465\n",
      "\tValid AUC 0.5177831228179262\n",
      "=========== Fitting logisitc =====================\n",
      "\tTrain AUC 0.5532019337201655\n",
      "\tValid AUC 0.55291237758407\n",
      "=========== Fitting linear svm =====================\n"
     ]
    },
    {
     "name": "stderr",
     "output_type": "stream",
     "text": [
      "c:\\program files\\python36\\lib\\site-packages\\sklearn\\svm\\_base.py:986: ConvergenceWarning: Liblinear failed to converge, increase the number of iterations.\n",
      "  \"the number of iterations.\", ConvergenceWarning)\n"
     ]
    },
    {
     "name": "stdout",
     "output_type": "stream",
     "text": [
      "\tTrain AUC 0.553214767310957\n",
      "\tValid AUC 0.5531342859465926\n",
      "=========== Fitting non linear svm =====================\n",
      "\tTrain AUC 0.5651756739286546\n",
      "\tValid AUC 0.5585707588486177\n",
      "=========== Fitting naive bayes =====================\n",
      "\tTrain AUC 0.5413636539497735\n",
      "\tValid AUC 0.5411152673634056\n",
      "=========== Fitting random forest =====================\n",
      "\tTrain AUC 0.5\n",
      "\tValid AUC 0.5\n",
      "=========== Fitting ada bosst =====================\n",
      "\tTrain AUC 0.5000611246943766\n",
      "\tValid AUC 0.4999608242576197\n",
      "=========== Fitting gradient boost =====================\n",
      "\tTrain AUC 0.5041018185009423\n",
      "\tValid AUC 0.5002616091706981\n",
      "=========== Fitting xgb boost =====================\n",
      "\tTrain AUC 0.6513919491865297\n",
      "\tValid AUC 0.5563356412697593\n",
      "=========== Fitting hist gradient =====================\n",
      "\tTrain AUC 0.5028278958856074\n",
      "\tValid AUC 0.5012672949137246\n"
     ]
    }
   ],
   "source": [
    "# sample_x_train = x_train.head(350)\n",
    "# sample_y_train = y_train.head(350).astype(int)\n",
    "# sample_x_valid = x_valid.head(350)\n",
    "# sample_y_valid = y_valid.head(350).astype(int)\n",
    "\n",
    "# fit_model(models,sample_x_train,sample_y_train,sample_x_valid,sample_y_valid)\n",
    "\n",
    "fit_model(models,x_train,y_train,x_valid,y_valid)"
   ]
  },
  {
   "cell_type": "code",
   "execution_count": 42,
   "metadata": {},
   "outputs": [],
   "source": [
    "estimators = [(\"knn\" ,KNeighborsClassifier(n_neighbors=5)),\n",
    "              ( \"logisitc\",LogisticRegression(class_weight='balanced',random_state=33)),\n",
    "              (\"linear svm\",LinearSVC(class_weight='balanced',random_state=65,max_iter=300)),\n",
    "              (\"non linear svm\",SVC(gamma='auto',class_weight='balanced',random_state=98,kernel='poly',degree=2)),\n",
    "              (\"naive bayes\" ,GaussianNB()),\n",
    "              (\"random forest\",RandomForestClassifier(random_state=0,n_estimators=100, max_depth=5)),\n",
    "              (\"ada bosst\" ,AdaBoostClassifier(n_estimators=50,random_state=34)),\n",
    "              (\"gradient boost\" ,GradientBoostingClassifier(n_estimators=50,subsample=0.8,max_depth=5,random_state=89)),\n",
    "              (\"xgb boost\" ,XGBClassifier(random_state=0, subsample=0.8,n_estimators=50, \n",
    "                                           max_depth=5,scale_pos_weight=wgt,eval_metric='auc')),\n",
    "              (\"hist gradient\",HistGradientBoostingClassifier(max_depth=5,random_state=43))\n",
    "             ]"
   ]
  },
  {
   "cell_type": "code",
   "execution_count": 43,
   "metadata": {},
   "outputs": [
    {
     "name": "stderr",
     "output_type": "stream",
     "text": [
      "c:\\program files\\python36\\lib\\site-packages\\sklearn\\svm\\_base.py:986: ConvergenceWarning: Liblinear failed to converge, increase the number of iterations.\n",
      "  \"the number of iterations.\", ConvergenceWarning)\n",
      "c:\\program files\\python36\\lib\\site-packages\\sklearn\\svm\\_base.py:986: ConvergenceWarning: Liblinear failed to converge, increase the number of iterations.\n",
      "  \"the number of iterations.\", ConvergenceWarning)\n",
      "c:\\program files\\python36\\lib\\site-packages\\sklearn\\svm\\_base.py:986: ConvergenceWarning: Liblinear failed to converge, increase the number of iterations.\n",
      "  \"the number of iterations.\", ConvergenceWarning)\n",
      "c:\\program files\\python36\\lib\\site-packages\\sklearn\\svm\\_base.py:986: ConvergenceWarning: Liblinear failed to converge, increase the number of iterations.\n",
      "  \"the number of iterations.\", ConvergenceWarning)\n",
      "c:\\program files\\python36\\lib\\site-packages\\sklearn\\linear_model\\_logistic.py:765: ConvergenceWarning: lbfgs failed to converge (status=1):\n",
      "STOP: TOTAL NO. of ITERATIONS REACHED LIMIT.\n",
      "\n",
      "Increase the number of iterations (max_iter) or scale the data as shown in:\n",
      "    https://scikit-learn.org/stable/modules/preprocessing.html\n",
      "Please also refer to the documentation for alternative solver options:\n",
      "    https://scikit-learn.org/stable/modules/linear_model.html#logistic-regression\n",
      "  extra_warning_msg=_LOGISTIC_SOLVER_CONVERGENCE_MSG)\n"
     ]
    },
    {
     "data": {
      "text/plain": [
       "StackingClassifier(cv=3,\n",
       "                   estimators=[('knn', KNeighborsClassifier()),\n",
       "                               ('logisitc',\n",
       "                                LogisticRegression(class_weight='balanced',\n",
       "                                                   random_state=33)),\n",
       "                               ('linear svm',\n",
       "                                LinearSVC(class_weight='balanced', max_iter=300,\n",
       "                                          random_state=65)),\n",
       "                               ('non linear svm',\n",
       "                                SVC(class_weight='balanced', degree=2,\n",
       "                                    gamma='auto', kernel='poly',\n",
       "                                    random_state=98)),\n",
       "                               ('naive bayes', GaussianNB()),\n",
       "                               ('rand...\n",
       "                                              n_estimators=50, n_jobs=None,\n",
       "                                              num_parallel_tree=None,\n",
       "                                              random_state=0, reg_alpha=None,\n",
       "                                              reg_lambda=None,\n",
       "                                              scale_pos_weight=3.167481662591687,\n",
       "                                              subsample=0.8, tree_method=None,\n",
       "                                              validate_parameters=None,\n",
       "                                              verbosity=None)),\n",
       "                               ('hist gradient',\n",
       "                                HistGradientBoostingClassifier(max_depth=5,\n",
       "                                                               random_state=43))],\n",
       "                   final_estimator=LogisticRegression(class_weight='balanced',\n",
       "                                                      random_state=33))"
      ]
     },
     "execution_count": 43,
     "metadata": {},
     "output_type": "execute_result"
    }
   ],
   "source": [
    "final_est = LogisticRegression(class_weight='balanced',random_state=33)\n",
    "clf = StackingClassifier(estimators=estimators, final_estimator=final_est,cv=3)\n",
    "clf.fit(x_train,y_train)"
   ]
  },
  {
   "cell_type": "code",
   "execution_count": 44,
   "metadata": {},
   "outputs": [
    {
     "name": "stdout",
     "output_type": "stream",
     "text": [
      "\tTrain AUC 0.619314884417473\n",
      "\tValid AUC 0.5712976147408293\n"
     ]
    }
   ],
   "source": [
    "train_auc =  roc_auc_score(y_train, clf.predict(x_train))\n",
    "valid_auc =  roc_auc_score(y_valid, clf.predict(x_valid))\n",
    "print(f\"\\tTrain AUC {train_auc}\")\n",
    "print(f\"\\tValid AUC {valid_auc}\")"
   ]
  },
  {
   "cell_type": "code",
   "execution_count": 45,
   "metadata": {},
   "outputs": [],
   "source": [
    "test = pd.read_csv(\"test_YCcRUnU.csv\")\n",
    "x_test = prep_data(test,cat_encoder,scaler)\n",
    "test['Response'] = clf.predict(x_test)\n",
    "test[['ID','Response']].to_csv(\"submit_1.csv\",index=False)"
   ]
  },
  {
   "cell_type": "code",
   "execution_count": null,
   "metadata": {},
   "outputs": [],
   "source": []
  }
 ],
 "metadata": {
  "kernelspec": {
   "display_name": "Python 3",
   "language": "python",
   "name": "python3"
  },
  "language_info": {
   "codemirror_mode": {
    "name": "ipython",
    "version": 3
   },
   "file_extension": ".py",
   "mimetype": "text/x-python",
   "name": "python",
   "nbconvert_exporter": "python",
   "pygments_lexer": "ipython3",
   "version": "3.6.8"
  }
 },
 "nbformat": 4,
 "nbformat_minor": 2
}

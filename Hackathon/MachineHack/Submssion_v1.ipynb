{
 "cells": [
  {
   "cell_type": "code",
   "execution_count": 39,
   "id": "3f2f32a1",
   "metadata": {},
   "outputs": [],
   "source": [
    "import pandas as pd\n",
    "import numpy as np\n",
    "import matplotlib.pyplot as plt\n",
    "import seaborn as sns\n",
    "\n",
    "from sklearn.model_selection import train_test_split\n",
    "from sklearn.dummy import DummyRegressor\n",
    "from sklearn.metrics import mean_squared_error\n",
    "from sklearn.preprocessing import LabelEncoder\n",
    "\n",
    "np.random.seed(42)\n",
    "pd.options.display.max_columns = 100"
   ]
  },
  {
   "cell_type": "code",
   "execution_count": 13,
   "id": "f869092b",
   "metadata": {},
   "outputs": [
    {
     "data": {
      "text/html": [
       "<div>\n",
       "<style scoped>\n",
       "    .dataframe tbody tr th:only-of-type {\n",
       "        vertical-align: middle;\n",
       "    }\n",
       "\n",
       "    .dataframe tbody tr th {\n",
       "        vertical-align: top;\n",
       "    }\n",
       "\n",
       "    .dataframe thead th {\n",
       "        text-align: right;\n",
       "    }\n",
       "</style>\n",
       "<table border=\"1\" class=\"dataframe\">\n",
       "  <thead>\n",
       "    <tr style=\"text-align: right;\">\n",
       "      <th></th>\n",
       "      <th>Item_ID</th>\n",
       "      <th>Item_W</th>\n",
       "      <th>Item_Type</th>\n",
       "      <th>Item_MRP</th>\n",
       "      <th>Outlet_ID</th>\n",
       "      <th>Outlet_Year</th>\n",
       "      <th>Outlet_Size</th>\n",
       "      <th>Outlet_Location_Type</th>\n",
       "      <th>Sales</th>\n",
       "    </tr>\n",
       "  </thead>\n",
       "  <tbody>\n",
       "    <tr>\n",
       "      <th>0</th>\n",
       "      <td>FDU32</td>\n",
       "      <td>21.027499</td>\n",
       "      <td>Baking Goods</td>\n",
       "      <td>197.352319</td>\n",
       "      <td>OUT046</td>\n",
       "      <td>2004</td>\n",
       "      <td>Small</td>\n",
       "      <td>Tier 2</td>\n",
       "      <td>2689.457781</td>\n",
       "    </tr>\n",
       "    <tr>\n",
       "      <th>1</th>\n",
       "      <td>NCT54</td>\n",
       "      <td>21.102371</td>\n",
       "      <td>Meat</td>\n",
       "      <td>148.250214</td>\n",
       "      <td>OUT035</td>\n",
       "      <td>1987</td>\n",
       "      <td>Small</td>\n",
       "      <td>Tier 1</td>\n",
       "      <td>3437.350375</td>\n",
       "    </tr>\n",
       "    <tr>\n",
       "      <th>2</th>\n",
       "      <td>FDW08</td>\n",
       "      <td>20.882263</td>\n",
       "      <td>Hard Drinks</td>\n",
       "      <td>205.465010</td>\n",
       "      <td>OUT035</td>\n",
       "      <td>1999</td>\n",
       "      <td>Small</td>\n",
       "      <td>Tier 3</td>\n",
       "      <td>3129.967268</td>\n",
       "    </tr>\n",
       "  </tbody>\n",
       "</table>\n",
       "</div>"
      ],
      "text/plain": [
       "  Item_ID     Item_W     Item_Type    Item_MRP Outlet_ID  Outlet_Year  \\\n",
       "0   FDU32  21.027499  Baking Goods  197.352319    OUT046         2004   \n",
       "1   NCT54  21.102371          Meat  148.250214    OUT035         1987   \n",
       "2   FDW08  20.882263   Hard Drinks  205.465010    OUT035         1999   \n",
       "\n",
       "  Outlet_Size Outlet_Location_Type        Sales  \n",
       "0       Small               Tier 2  2689.457781  \n",
       "1       Small               Tier 1  3437.350375  \n",
       "2       Small               Tier 3  3129.967268  "
      ]
     },
     "execution_count": 13,
     "metadata": {},
     "output_type": "execute_result"
    }
   ],
   "source": [
    "df = pd.read_csv(\"train.csv\")\n",
    "df.head(3)"
   ]
  },
  {
   "cell_type": "code",
   "execution_count": 14,
   "id": "8ebf7402",
   "metadata": {},
   "outputs": [
    {
     "data": {
      "text/plain": [
       "(87864, 9)"
      ]
     },
     "execution_count": 14,
     "metadata": {},
     "output_type": "execute_result"
    }
   ],
   "source": [
    "df.shape"
   ]
  },
  {
   "cell_type": "code",
   "execution_count": 24,
   "id": "d3272569",
   "metadata": {},
   "outputs": [
    {
     "data": {
      "text/plain": [
       "DummyRegressor()"
      ]
     },
     "execution_count": 24,
     "metadata": {},
     "output_type": "execute_result"
    }
   ],
   "source": [
    "dummy_regr = DummyRegressor(strategy=\"mean\")\n",
    "dummy_regr.fit(raw_test.drop('Sales',axis=1), raw_test['Sales'])"
   ]
  },
  {
   "cell_type": "code",
   "execution_count": 26,
   "id": "f20e696c",
   "metadata": {},
   "outputs": [
    {
     "data": {
      "text/plain": [
       "array([1918.46438763, 1918.46438763, 1918.46438763, ..., 1918.46438763,\n",
       "       1918.46438763, 1918.46438763])"
      ]
     },
     "execution_count": 26,
     "metadata": {},
     "output_type": "execute_result"
    }
   ],
   "source": []
  },
  {
   "cell_type": "code",
   "execution_count": 17,
   "id": "628f0cd9",
   "metadata": {},
   "outputs": [],
   "source": [
    "raw_train,raw_test = train_test_split(df,test_size=0.20, random_state=42)"
   ]
  },
  {
   "cell_type": "code",
   "execution_count": 34,
   "id": "a914dfc8",
   "metadata": {},
   "outputs": [
    {
     "name": "stdout",
     "output_type": "stream",
     "text": [
      "mean - RMSE - 1295.4402155200703\n",
      "median - RMSE - 1333.5618104255848\n"
     ]
    }
   ],
   "source": [
    "# baseline model\n",
    "for strategy in [\"mean\", \"median\"]:\n",
    "    baseline_model = DummyRegressor(strategy=strategy)\n",
    "    baseline_model.fit(raw_train, raw_train['Sales'])\n",
    "    baseline_predict = baseline_model.predict(raw_test)\n",
    "    baseline_rmse = mean_squared_error(raw_test['Sales'], baseline_predict, squared=False)\n",
    "    print(f\"{strategy} - RMSE - {baseline_rmse}\")"
   ]
  },
  {
   "cell_type": "code",
   "execution_count": 18,
   "id": "78dc4a9f",
   "metadata": {},
   "outputs": [
    {
     "name": "stdout",
     "output_type": "stream",
     "text": [
      "<class 'pandas.core.frame.DataFrame'>\n",
      "Int64Index: 70291 entries, 28033 to 15795\n",
      "Data columns (total 9 columns):\n",
      " #   Column                Non-Null Count  Dtype  \n",
      "---  ------                --------------  -----  \n",
      " 0   Item_ID               70291 non-null  object \n",
      " 1   Item_W                70291 non-null  float64\n",
      " 2   Item_Type             70291 non-null  object \n",
      " 3   Item_MRP              70291 non-null  float64\n",
      " 4   Outlet_ID             70291 non-null  object \n",
      " 5   Outlet_Year           70291 non-null  int64  \n",
      " 6   Outlet_Size           70291 non-null  object \n",
      " 7   Outlet_Location_Type  70291 non-null  object \n",
      " 8   Sales                 70291 non-null  float64\n",
      "dtypes: float64(3), int64(1), object(5)\n",
      "memory usage: 5.4+ MB\n"
     ]
    }
   ],
   "source": [
    "raw_train.info()"
   ]
  },
  {
   "cell_type": "code",
   "execution_count": 5,
   "id": "a3fc1332",
   "metadata": {},
   "outputs": [
    {
     "data": {
      "text/html": [
       "<div>\n",
       "<style scoped>\n",
       "    .dataframe tbody tr th:only-of-type {\n",
       "        vertical-align: middle;\n",
       "    }\n",
       "\n",
       "    .dataframe tbody tr th {\n",
       "        vertical-align: top;\n",
       "    }\n",
       "\n",
       "    .dataframe thead th {\n",
       "        text-align: right;\n",
       "    }\n",
       "</style>\n",
       "<table border=\"1\" class=\"dataframe\">\n",
       "  <thead>\n",
       "    <tr style=\"text-align: right;\">\n",
       "      <th></th>\n",
       "      <th>Item_W</th>\n",
       "      <th>Item_MRP</th>\n",
       "      <th>Outlet_Year</th>\n",
       "      <th>Sales</th>\n",
       "    </tr>\n",
       "  </thead>\n",
       "  <tbody>\n",
       "    <tr>\n",
       "      <th>count</th>\n",
       "      <td>87864.000000</td>\n",
       "      <td>87864.000000</td>\n",
       "      <td>87864.00000</td>\n",
       "      <td>87864.000000</td>\n",
       "    </tr>\n",
       "    <tr>\n",
       "      <th>mean</th>\n",
       "      <td>15.591469</td>\n",
       "      <td>151.242943</td>\n",
       "      <td>1999.87063</td>\n",
       "      <td>1911.842120</td>\n",
       "    </tr>\n",
       "    <tr>\n",
       "      <th>std</th>\n",
       "      <td>4.364429</td>\n",
       "      <td>59.536366</td>\n",
       "      <td>6.63429</td>\n",
       "      <td>1291.386004</td>\n",
       "    </tr>\n",
       "    <tr>\n",
       "      <th>min</th>\n",
       "      <td>7.992700</td>\n",
       "      <td>32.910015</td>\n",
       "      <td>1987.00000</td>\n",
       "      <td>-1229.360345</td>\n",
       "    </tr>\n",
       "    <tr>\n",
       "      <th>25%</th>\n",
       "      <td>10.968658</td>\n",
       "      <td>112.423337</td>\n",
       "      <td>1997.00000</td>\n",
       "      <td>959.249675</td>\n",
       "    </tr>\n",
       "    <tr>\n",
       "      <th>50%</th>\n",
       "      <td>15.831170</td>\n",
       "      <td>145.581473</td>\n",
       "      <td>1999.00000</td>\n",
       "      <td>1606.307877</td>\n",
       "    </tr>\n",
       "    <tr>\n",
       "      <th>75%</th>\n",
       "      <td>19.969936</td>\n",
       "      <td>197.110367</td>\n",
       "      <td>2004.00000</td>\n",
       "      <td>2608.057736</td>\n",
       "    </tr>\n",
       "    <tr>\n",
       "      <th>max</th>\n",
       "      <td>21.250000</td>\n",
       "      <td>265.214271</td>\n",
       "      <td>2009.00000</td>\n",
       "      <td>10309.283310</td>\n",
       "    </tr>\n",
       "  </tbody>\n",
       "</table>\n",
       "</div>"
      ],
      "text/plain": [
       "             Item_W      Item_MRP  Outlet_Year         Sales\n",
       "count  87864.000000  87864.000000  87864.00000  87864.000000\n",
       "mean      15.591469    151.242943   1999.87063   1911.842120\n",
       "std        4.364429     59.536366      6.63429   1291.386004\n",
       "min        7.992700     32.910015   1987.00000  -1229.360345\n",
       "25%       10.968658    112.423337   1997.00000    959.249675\n",
       "50%       15.831170    145.581473   1999.00000   1606.307877\n",
       "75%       19.969936    197.110367   2004.00000   2608.057736\n",
       "max       21.250000    265.214271   2009.00000  10309.283310"
      ]
     },
     "execution_count": 5,
     "metadata": {},
     "output_type": "execute_result"
    }
   ],
   "source": [
    "raw_train.describe()"
   ]
  },
  {
   "cell_type": "code",
   "execution_count": 19,
   "id": "366b9777",
   "metadata": {},
   "outputs": [
    {
     "data": {
      "text/html": [
       "<div>\n",
       "<style scoped>\n",
       "    .dataframe tbody tr th:only-of-type {\n",
       "        vertical-align: middle;\n",
       "    }\n",
       "\n",
       "    .dataframe tbody tr th {\n",
       "        vertical-align: top;\n",
       "    }\n",
       "\n",
       "    .dataframe thead th {\n",
       "        text-align: right;\n",
       "    }\n",
       "</style>\n",
       "<table border=\"1\" class=\"dataframe\">\n",
       "  <thead>\n",
       "    <tr style=\"text-align: right;\">\n",
       "      <th></th>\n",
       "      <th>Item_ID</th>\n",
       "      <th>Item_Type</th>\n",
       "      <th>Outlet_ID</th>\n",
       "      <th>Outlet_Size</th>\n",
       "      <th>Outlet_Location_Type</th>\n",
       "    </tr>\n",
       "  </thead>\n",
       "  <tbody>\n",
       "    <tr>\n",
       "      <th>count</th>\n",
       "      <td>70291</td>\n",
       "      <td>70291</td>\n",
       "      <td>70291</td>\n",
       "      <td>70291</td>\n",
       "      <td>70291</td>\n",
       "    </tr>\n",
       "    <tr>\n",
       "      <th>unique</th>\n",
       "      <td>894</td>\n",
       "      <td>16</td>\n",
       "      <td>5</td>\n",
       "      <td>3</td>\n",
       "      <td>3</td>\n",
       "    </tr>\n",
       "    <tr>\n",
       "      <th>top</th>\n",
       "      <td>FDE11</td>\n",
       "      <td>Baking Goods</td>\n",
       "      <td>OUT035</td>\n",
       "      <td>Small</td>\n",
       "      <td>Tier 1</td>\n",
       "    </tr>\n",
       "    <tr>\n",
       "      <th>freq</th>\n",
       "      <td>329</td>\n",
       "      <td>11731</td>\n",
       "      <td>19334</td>\n",
       "      <td>38863</td>\n",
       "      <td>26916</td>\n",
       "    </tr>\n",
       "  </tbody>\n",
       "</table>\n",
       "</div>"
      ],
      "text/plain": [
       "       Item_ID     Item_Type Outlet_ID Outlet_Size Outlet_Location_Type\n",
       "count    70291         70291     70291       70291                70291\n",
       "unique     894            16         5           3                    3\n",
       "top      FDE11  Baking Goods    OUT035       Small               Tier 1\n",
       "freq       329         11731     19334       38863                26916"
      ]
     },
     "execution_count": 19,
     "metadata": {},
     "output_type": "execute_result"
    }
   ],
   "source": [
    "raw_train.describe(include=np.object)"
   ]
  },
  {
   "cell_type": "code",
   "execution_count": null,
   "id": "e7aee172",
   "metadata": {},
   "outputs": [],
   "source": []
  },
  {
   "cell_type": "code",
   "execution_count": null,
   "id": "9e40e263",
   "metadata": {},
   "outputs": [],
   "source": []
  }
 ],
 "metadata": {
  "kernelspec": {
   "display_name": "Python 3",
   "language": "python",
   "name": "python3"
  },
  "language_info": {
   "codemirror_mode": {
    "name": "ipython",
    "version": 3
   },
   "file_extension": ".py",
   "mimetype": "text/x-python",
   "name": "python",
   "nbconvert_exporter": "python",
   "pygments_lexer": "ipython3",
   "version": "3.8.8"
  }
 },
 "nbformat": 4,
 "nbformat_minor": 5
}

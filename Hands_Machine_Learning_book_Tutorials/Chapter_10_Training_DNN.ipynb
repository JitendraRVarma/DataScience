{
 "cells": [
  {
   "cell_type": "code",
   "execution_count": 37,
   "metadata": {},
   "outputs": [],
   "source": [
    "import tensorflow as tf\n",
    "import numpy as np\n",
    "from tensorflow import keras\n",
    "from functools import partial"
   ]
  },
  {
   "cell_type": "code",
   "execution_count": 2,
   "metadata": {},
   "outputs": [
    {
     "data": {
      "text/plain": [
       "['Constant',\n",
       " 'GlorotNormal',\n",
       " 'GlorotUniform',\n",
       " 'HeNormal',\n",
       " 'HeUniform',\n",
       " 'Identity',\n",
       " 'Initializer',\n",
       " 'LecunNormal',\n",
       " 'LecunUniform',\n",
       " 'Ones',\n",
       " 'Orthogonal',\n",
       " 'RandomNormal',\n",
       " 'RandomUniform',\n",
       " 'TruncatedNormal',\n",
       " 'VarianceScaling',\n",
       " 'Zeros',\n",
       " 'constant',\n",
       " 'deserialize',\n",
       " 'get',\n",
       " 'glorot_normal',\n",
       " 'glorot_uniform',\n",
       " 'he_normal',\n",
       " 'he_uniform',\n",
       " 'identity',\n",
       " 'lecun_normal',\n",
       " 'lecun_uniform',\n",
       " 'ones',\n",
       " 'orthogonal',\n",
       " 'random_normal',\n",
       " 'random_uniform',\n",
       " 'serialize',\n",
       " 'truncated_normal',\n",
       " 'variance_scaling',\n",
       " 'zeros']"
      ]
     },
     "execution_count": 2,
     "metadata": {},
     "output_type": "execute_result"
    }
   ],
   "source": [
    "# initializers in keras\n",
    "[name for name in dir(keras.initializers) if not name.startswith(\"_\")]"
   ]
  },
  {
   "cell_type": "code",
   "execution_count": 3,
   "metadata": {},
   "outputs": [],
   "source": [
    "# dataset \n",
    "(X_train_full, y_train_full), (X_test, y_test) = keras.datasets.fashion_mnist.load_data()\n",
    "X_train_full = X_train_full / 255.0\n",
    "X_test = X_test / 255.0\n",
    "X_valid, X_train = X_train_full[:5000], X_train_full[5000:]\n",
    "y_valid, y_train = y_train_full[:5000], y_train_full[5000:]"
   ]
  },
  {
   "cell_type": "code",
   "execution_count": 4,
   "metadata": {},
   "outputs": [],
   "source": [
    "tf.random.set_seed(42)\n",
    "np.random.seed(42)"
   ]
  },
  {
   "cell_type": "code",
   "execution_count": 5,
   "metadata": {},
   "outputs": [],
   "source": [
    "# custom intializers\n",
    "init = keras.initializers.VarianceScaling(scale=2., mode='fan_avg',distribution='uniform')\n",
    "\n",
    "# leaky relu\n",
    "leaky_relu = keras.layers.LeakyReLU(alpha=0.2)\n",
    "\n",
    "# selu\n",
    "layer = keras.layers.Dense(10, activation=\"selu\",kernel_initializer=\"lecun_normal\")"
   ]
  },
  {
   "cell_type": "code",
   "execution_count": 6,
   "metadata": {},
   "outputs": [],
   "source": [
    "# Model with HE initlialization and Leaky Relu activation\n",
    "\n",
    "model = keras.models.Sequential([keras.layers.Flatten(input_shape=[28, 28]),\n",
    "                                 keras.layers.Dense(300, kernel_initializer=\"he_normal\"),\n",
    "                                 keras.layers.LeakyReLU(),\n",
    "                                 keras.layers.Dense(100, kernel_initializer=\"he_normal\"),\n",
    "                                 keras.layers.LeakyReLU(),\n",
    "                                 keras.layers.Dense(10, activation=\"softmax\")])"
   ]
  },
  {
   "cell_type": "code",
   "execution_count": 7,
   "metadata": {},
   "outputs": [
    {
     "name": "stdout",
     "output_type": "stream",
     "text": [
      "Epoch 1/10\n",
      "1719/1719 [==============================] - 6s 3ms/step - loss: 1.2819 - accuracy: 0.6229 - val_loss: 0.8886 - val_accuracy: 0.7160\n",
      "Epoch 2/10\n",
      "1719/1719 [==============================] - 6s 3ms/step - loss: 0.7955 - accuracy: 0.7362 - val_loss: 0.7130 - val_accuracy: 0.7656\n",
      "Epoch 3/10\n",
      "1719/1719 [==============================] - 6s 3ms/step - loss: 0.6816 - accuracy: 0.7721 - val_loss: 0.6427 - val_accuracy: 0.7898\n",
      "Epoch 4/10\n",
      "1719/1719 [==============================] - 5s 3ms/step - loss: 0.6217 - accuracy: 0.7944 - val_loss: 0.5900 - val_accuracy: 0.8066\n",
      "Epoch 5/10\n",
      "1719/1719 [==============================] - 6s 3ms/step - loss: 0.5832 - accuracy: 0.8075 - val_loss: 0.5582 - val_accuracy: 0.8198\n",
      "Epoch 6/10\n",
      "1719/1719 [==============================] - 5s 3ms/step - loss: 0.5553 - accuracy: 0.8157 - val_loss: 0.5350 - val_accuracy: 0.8238\n",
      "Epoch 7/10\n",
      "1719/1719 [==============================] - 6s 4ms/step - loss: 0.5338 - accuracy: 0.8225 - val_loss: 0.5156 - val_accuracy: 0.8304\n",
      "Epoch 8/10\n",
      "1719/1719 [==============================] - 5s 3ms/step - loss: 0.5173 - accuracy: 0.8273 - val_loss: 0.5079 - val_accuracy: 0.8284\n",
      "Epoch 9/10\n",
      "1719/1719 [==============================] - 4s 3ms/step - loss: 0.5040 - accuracy: 0.8290 - val_loss: 0.4895 - val_accuracy: 0.8388\n",
      "Epoch 10/10\n",
      "1719/1719 [==============================] - 6s 3ms/step - loss: 0.4924 - accuracy: 0.8321 - val_loss: 0.4817 - val_accuracy: 0.8396\n"
     ]
    }
   ],
   "source": [
    "model.compile(loss=\"sparse_categorical_crossentropy\",optimizer=keras.optimizers.SGD(lr=1e-3),metrics=[\"accuracy\"])\n",
    "history = model.fit(X_train, y_train, epochs=10,validation_data=(X_valid, y_valid))              "
   ]
  },
  {
   "cell_type": "code",
   "execution_count": 8,
   "metadata": {},
   "outputs": [
    {
     "name": "stdout",
     "output_type": "stream",
     "text": [
      "Epoch 1/10\n",
      "1719/1719 [==============================] - 5s 3ms/step - loss: 0.7083 - accuracy: 0.7570 - val_loss: 0.5345 - val_accuracy: 0.8156\n",
      "Epoch 2/10\n",
      "1719/1719 [==============================] - 6s 3ms/step - loss: 0.5048 - accuracy: 0.8244 - val_loss: 0.4741 - val_accuracy: 0.8342\n",
      "Epoch 3/10\n",
      "1719/1719 [==============================] - 5s 3ms/step - loss: 0.4619 - accuracy: 0.8385 - val_loss: 0.4510 - val_accuracy: 0.8430\n",
      "Epoch 4/10\n",
      "1719/1719 [==============================] - 6s 3ms/step - loss: 0.4374 - accuracy: 0.8478 - val_loss: 0.4327 - val_accuracy: 0.8486\n",
      "Epoch 5/10\n",
      "1719/1719 [==============================] - 5s 3ms/step - loss: 0.4207 - accuracy: 0.8538 - val_loss: 0.4216 - val_accuracy: 0.8538\n",
      "Epoch 6/10\n",
      "1719/1719 [==============================] - 5s 3ms/step - loss: 0.4074 - accuracy: 0.8571 - val_loss: 0.4129 - val_accuracy: 0.8558\n",
      "Epoch 7/10\n",
      "1719/1719 [==============================] - 5s 3ms/step - loss: 0.3970 - accuracy: 0.8611 - val_loss: 0.4044 - val_accuracy: 0.8602\n",
      "Epoch 8/10\n",
      "1719/1719 [==============================] - 4s 2ms/step - loss: 0.3880 - accuracy: 0.8643 - val_loss: 0.4024 - val_accuracy: 0.8618\n",
      "Epoch 9/10\n",
      "1719/1719 [==============================] - 5s 3ms/step - loss: 0.3803 - accuracy: 0.8665 - val_loss: 0.3942 - val_accuracy: 0.8644\n",
      "Epoch 10/10\n",
      "1719/1719 [==============================] - 6s 3ms/step - loss: 0.3732 - accuracy: 0.8693 - val_loss: 0.3911 - val_accuracy: 0.8632\n"
     ]
    }
   ],
   "source": [
    "tf.random.set_seed(42)\n",
    "np.random.seed(42)\n",
    "\n",
    "# Model with Lecun Normal initlialization and Leaky Relu activation\n",
    "\n",
    "model = keras.models.Sequential([keras.layers.Flatten(input_shape=[28, 28]),\n",
    "                                 keras.layers.Dense(300, activation=\"selu\",kernel_initializer=\"lecun_normal\"),\n",
    "                                 keras.layers.Dense(100, activation=\"selu\",kernel_initializer=\"lecun_normal\"),\n",
    "                                 keras.layers.Dense(10, activation=\"softmax\")])\n",
    "\n",
    "# normalizing input\n",
    "pixel_means = X_train.mean(axis=0, keepdims=True)\n",
    "pixel_stds = X_train.std(axis=0, keepdims=True)\n",
    "X_train_scaled = (X_train - pixel_means) / pixel_stds\n",
    "X_valid_scaled = (X_valid - pixel_means) / pixel_stds\n",
    "X_test_scaled = (X_test - pixel_means) / pixel_stds\n",
    "\n",
    "# model complile\n",
    "model.compile(loss=\"sparse_categorical_crossentropy\",optimizer=keras.optimizers.SGD(lr=1e-3),metrics=[\"accuracy\"])\n",
    "\n",
    "# train the model\n",
    "history = model.fit(X_train_scaled, y_train, epochs=10, validation_data=(X_valid_scaled, y_valid))"
   ]
  },
  {
   "cell_type": "code",
   "execution_count": 9,
   "metadata": {},
   "outputs": [
    {
     "name": "stdout",
     "output_type": "stream",
     "text": [
      "Epoch 1/10\n",
      "1719/1719 [==============================] - 5s 3ms/step - loss: 1.3461 - accuracy: 0.6209 - val_loss: 0.9255 - val_accuracy: 0.7186\n",
      "Epoch 2/10\n",
      "1719/1719 [==============================] - 4s 3ms/step - loss: 0.8197 - accuracy: 0.7356 - val_loss: 0.7305 - val_accuracy: 0.7628\n",
      "Epoch 3/10\n",
      "1719/1719 [==============================] - 5s 3ms/step - loss: 0.6966 - accuracy: 0.7693 - val_loss: 0.6565 - val_accuracy: 0.7878\n",
      "Epoch 4/10\n",
      "1719/1719 [==============================] - 5s 3ms/step - loss: 0.6331 - accuracy: 0.7909 - val_loss: 0.6004 - val_accuracy: 0.8046\n",
      "Epoch 5/10\n",
      "1719/1719 [==============================] - 5s 3ms/step - loss: 0.5917 - accuracy: 0.8057 - val_loss: 0.5656 - val_accuracy: 0.8182\n",
      "Epoch 6/10\n",
      "1719/1719 [==============================] - 6s 4ms/step - loss: 0.5618 - accuracy: 0.8136 - val_loss: 0.5406 - val_accuracy: 0.8238\n",
      "Epoch 7/10\n",
      "1719/1719 [==============================] - 4s 3ms/step - loss: 0.5390 - accuracy: 0.8206 - val_loss: 0.5196 - val_accuracy: 0.8312\n",
      "Epoch 8/10\n",
      "1719/1719 [==============================] - 6s 3ms/step - loss: 0.5213 - accuracy: 0.8257 - val_loss: 0.5113 - val_accuracy: 0.8320\n",
      "Epoch 9/10\n",
      "1719/1719 [==============================] - 4s 3ms/step - loss: 0.5070 - accuracy: 0.8288 - val_loss: 0.4916 - val_accuracy: 0.8380\n",
      "Epoch 10/10\n",
      "1719/1719 [==============================] - 5s 3ms/step - loss: 0.4945 - accuracy: 0.8315 - val_loss: 0.4826 - val_accuracy: 0.8396\n"
     ]
    }
   ],
   "source": [
    "# Model with Prelu\n",
    "\n",
    "\n",
    "tf.random.set_seed(42)\n",
    "np.random.seed(42)\n",
    "\n",
    "model = keras.models.Sequential([keras.layers.Flatten(input_shape=[28, 28]),\n",
    "                                 keras.layers.Dense(300, kernel_initializer=\"he_normal\"),\n",
    "                                 keras.layers.PReLU(),\n",
    "                                 keras.layers.Dense(100, kernel_initializer=\"he_normal\"),\n",
    "                                 keras.layers.PReLU(),\n",
    "                                 keras.layers.Dense(10, activation=\"softmax\")])\n",
    "\n",
    "model.compile(loss=\"sparse_categorical_crossentropy\",optimizer=keras.optimizers.SGD(lr=1e-3),metrics=[\"accuracy\"])\n",
    "history = model.fit(X_train, y_train, epochs=10,validation_data=(X_valid, y_valid))              "
   ]
  },
  {
   "cell_type": "code",
   "execution_count": 10,
   "metadata": {},
   "outputs": [
    {
     "name": "stdout",
     "output_type": "stream",
     "text": [
      "Epoch 1/10\n",
      "1719/1719 [==============================] - 5s 3ms/step - loss: 1.3468 - accuracy: 0.6209 - val_loss: 0.9259 - val_accuracy: 0.7186\n",
      "Epoch 2/10\n",
      "1719/1719 [==============================] - 5s 3ms/step - loss: 0.8200 - accuracy: 0.7354 - val_loss: 0.7308 - val_accuracy: 0.7626\n",
      "Epoch 3/10\n",
      "1719/1719 [==============================] - 4s 2ms/step - loss: 0.6968 - accuracy: 0.7694 - val_loss: 0.6566 - val_accuracy: 0.7880\n",
      "Epoch 4/10\n",
      "1719/1719 [==============================] - 4s 3ms/step - loss: 0.6333 - accuracy: 0.7911 - val_loss: 0.6005 - val_accuracy: 0.8042\n",
      "Epoch 5/10\n",
      "1719/1719 [==============================] - 4s 2ms/step - loss: 0.5918 - accuracy: 0.8054 - val_loss: 0.5658 - val_accuracy: 0.8180\n",
      "Epoch 6/10\n",
      "1719/1719 [==============================] - 5s 3ms/step - loss: 0.5619 - accuracy: 0.8135 - val_loss: 0.5407 - val_accuracy: 0.8232\n",
      "Epoch 7/10\n",
      "1719/1719 [==============================] - 6s 3ms/step - loss: 0.5391 - accuracy: 0.8204 - val_loss: 0.5197 - val_accuracy: 0.8314\n",
      "Epoch 8/10\n",
      "1719/1719 [==============================] - 6s 3ms/step - loss: 0.5214 - accuracy: 0.8257 - val_loss: 0.5115 - val_accuracy: 0.8310\n",
      "Epoch 9/10\n",
      "1719/1719 [==============================] - 5s 3ms/step - loss: 0.5071 - accuracy: 0.8287 - val_loss: 0.4918 - val_accuracy: 0.8376\n",
      "Epoch 10/10\n",
      "1719/1719 [==============================] - 5s 3ms/step - loss: 0.4946 - accuracy: 0.8317 - val_loss: 0.4827 - val_accuracy: 0.8396\n"
     ]
    }
   ],
   "source": [
    "# Relu activation\n",
    "np.random.seed(42)\n",
    "tf.random.set_seed(42)\n",
    "\n",
    "model = keras.models.Sequential([keras.layers.Flatten(input_shape=[28, 28]),\n",
    "                                 keras.layers.Dense(300, kernel_initializer=\"he_normal\",activation='relu'),\n",
    "                                 keras.layers.Dense(100, kernel_initializer=\"he_normal\",activation='relu'),\n",
    "                                 keras.layers.Dense(10, activation=\"softmax\")])\n",
    "\n",
    "model.compile(loss=\"sparse_categorical_crossentropy\",optimizer=keras.optimizers.SGD(lr=1e-3),metrics=[\"accuracy\"])\n",
    "history = model.fit(X_train, y_train, epochs=10,validation_data=(X_valid, y_valid))   "
   ]
  },
  {
   "cell_type": "code",
   "execution_count": 11,
   "metadata": {},
   "outputs": [
    {
     "name": "stdout",
     "output_type": "stream",
     "text": [
      "Epoch 1/10\n",
      "1719/1719 [==============================] - 8s 4ms/step - loss: 0.8727 - accuracy: 0.7073 - val_loss: 0.6013 - val_accuracy: 0.7950\n",
      "Epoch 2/10\n",
      "1719/1719 [==============================] - 8s 4ms/step - loss: 0.6018 - accuracy: 0.7933 - val_loss: 0.5190 - val_accuracy: 0.8218\n",
      "Epoch 3/10\n",
      "1719/1719 [==============================] - 7s 4ms/step - loss: 0.5466 - accuracy: 0.8109 - val_loss: 0.4829 - val_accuracy: 0.8352\n",
      "Epoch 4/10\n",
      "1719/1719 [==============================] - 7s 4ms/step - loss: 0.5108 - accuracy: 0.8231 - val_loss: 0.4597 - val_accuracy: 0.8428\n",
      "Epoch 5/10\n",
      "1719/1719 [==============================] - 7s 4ms/step - loss: 0.4871 - accuracy: 0.8296 - val_loss: 0.4434 - val_accuracy: 0.8462\n",
      "Epoch 6/10\n",
      "1719/1719 [==============================] - 8s 5ms/step - loss: 0.4712 - accuracy: 0.8350 - val_loss: 0.4309 - val_accuracy: 0.8530\n",
      "Epoch 7/10\n",
      "1719/1719 [==============================] - 10s 6ms/step - loss: 0.4591 - accuracy: 0.8403 - val_loss: 0.4199 - val_accuracy: 0.8562\n",
      "Epoch 8/10\n",
      "1719/1719 [==============================] - 8s 5ms/step - loss: 0.4486 - accuracy: 0.8434 - val_loss: 0.4139 - val_accuracy: 0.8598\n",
      "Epoch 9/10\n",
      "1719/1719 [==============================] - 9s 5ms/step - loss: 0.4381 - accuracy: 0.8470 - val_loss: 0.4069 - val_accuracy: 0.8596\n",
      "Epoch 10/10\n",
      "1719/1719 [==============================] - 9s 5ms/step - loss: 0.4303 - accuracy: 0.8487 - val_loss: 0.4015 - val_accuracy: 0.8612\n"
     ]
    }
   ],
   "source": [
    "## Training with Batch Normalization after the activation function\n",
    "np.random.seed(42)\n",
    "tf.random.set_seed(42)\n",
    "\n",
    "model = keras.models.Sequential([keras.layers.Flatten(input_shape=[28, 28]),\n",
    "                                 keras.layers.BatchNormalization(),\n",
    "                                 keras.layers.Dense(300, activation=\"elu\", kernel_initializer=\"he_normal\"),\n",
    "                                 keras.layers.BatchNormalization(),\n",
    "                                 keras.layers.Dense(100, activation=\"elu\", kernel_initializer=\"he_normal\"),\n",
    "                                 keras.layers.BatchNormalization(),\n",
    "                                 keras.layers.Dense(10, activation=\"softmax\")])\n",
    "\n",
    "model.compile(loss=\"sparse_categorical_crossentropy\",optimizer=keras.optimizers.SGD(lr=1e-3),metrics=[\"accuracy\"])\n",
    "history = model.fit(X_train, y_train, epochs=10,validation_data=(X_valid, y_valid)) "
   ]
  },
  {
   "cell_type": "code",
   "execution_count": 12,
   "metadata": {},
   "outputs": [
    {
     "data": {
      "text/plain": [
       "[('batch_normalization/gamma:0', True),\n",
       " ('batch_normalization/beta:0', True),\n",
       " ('batch_normalization/moving_mean:0', False),\n",
       " ('batch_normalization/moving_variance:0', False)]"
      ]
     },
     "execution_count": 12,
     "metadata": {},
     "output_type": "execute_result"
    }
   ],
   "source": [
    "# To sum up, four parameter vectors are learned in each batch-normalized\n",
    "# layer: gamma (the ouput scale vector) and beta (the output offset vector) are learned through\n",
    "# regular backpropagation, and mean (the final input mean vector), and variance (the final input\n",
    "# standard deviation vector) are estimated using an exponential moving average. which are used for prediction\n",
    "\n",
    "[(var.name, var.trainable) for var in model.layers[1].variables]"
   ]
  },
  {
   "cell_type": "code",
   "execution_count": 13,
   "metadata": {},
   "outputs": [
    {
     "name": "stdout",
     "output_type": "stream",
     "text": [
      "Epoch 1/10\n",
      "1719/1719 [==============================] - 8s 4ms/step - loss: 0.8720 - accuracy: 0.7082 - val_loss: 0.6038 - val_accuracy: 0.7956\n",
      "Epoch 2/10\n",
      "1719/1719 [==============================] - 9s 5ms/step - loss: 0.6055 - accuracy: 0.7924 - val_loss: 0.5222 - val_accuracy: 0.8212\n",
      "Epoch 3/10\n",
      "1719/1719 [==============================] - 9s 5ms/step - loss: 0.5505 - accuracy: 0.8097 - val_loss: 0.4865 - val_accuracy: 0.8344\n",
      "Epoch 4/10\n",
      "1719/1719 [==============================] - 7s 4ms/step - loss: 0.5155 - accuracy: 0.8217 - val_loss: 0.4633 - val_accuracy: 0.8402\n",
      "Epoch 5/10\n",
      "1719/1719 [==============================] - 9s 5ms/step - loss: 0.4928 - accuracy: 0.8285 - val_loss: 0.4472 - val_accuracy: 0.8456\n",
      "Epoch 6/10\n",
      "1719/1719 [==============================] - 8s 5ms/step - loss: 0.4768 - accuracy: 0.8341 - val_loss: 0.4352 - val_accuracy: 0.8514\n",
      "Epoch 7/10\n",
      "1719/1719 [==============================] - 7s 4ms/step - loss: 0.4649 - accuracy: 0.8382 - val_loss: 0.4243 - val_accuracy: 0.8546\n",
      "Epoch 8/10\n",
      "1719/1719 [==============================] - 7s 4ms/step - loss: 0.4543 - accuracy: 0.8410 - val_loss: 0.4185 - val_accuracy: 0.8596\n",
      "Epoch 9/10\n",
      "1719/1719 [==============================] - 9s 5ms/step - loss: 0.4437 - accuracy: 0.8451 - val_loss: 0.4116 - val_accuracy: 0.8612\n",
      "Epoch 10/10\n",
      "1719/1719 [==============================] - 9s 5ms/step - loss: 0.4365 - accuracy: 0.8466 - val_loss: 0.4064 - val_accuracy: 0.8608\n"
     ]
    }
   ],
   "source": [
    "## Training with Batch Normalization before the activation function\n",
    "np.random.seed(42)\n",
    "tf.random.set_seed(42)\n",
    "\n",
    "model = keras.models.Sequential([keras.layers.Flatten(input_shape=[28, 28]),\n",
    "                                 keras.layers.BatchNormalization(),\n",
    "                                 keras.layers.Dense(300, kernel_initializer=\"he_normal\", use_bias=False),\n",
    "                                 keras.layers.BatchNormalization(),\n",
    "                                 keras.layers.Activation(\"elu\"),\n",
    "                                 keras.layers.Dense(100, kernel_initializer=\"he_normal\", use_bias=False),\n",
    "                                 keras.layers.Activation(\"elu\"),\n",
    "                                 keras.layers.BatchNormalization(),\n",
    "                                 keras.layers.Dense(10, activation=\"softmax\")])\n",
    "\n",
    "model.compile(loss=\"sparse_categorical_crossentropy\",optimizer=keras.optimizers.SGD(lr=1e-3),metrics=[\"accuracy\"])\n",
    "history = model.fit(X_train, y_train, epochs=10,validation_data=(X_valid, y_valid)) "
   ]
  },
  {
   "cell_type": "code",
   "execution_count": 14,
   "metadata": {},
   "outputs": [
    {
     "name": "stdout",
     "output_type": "stream",
     "text": [
      "Epoch 1/10\n",
      "1719/1719 [==============================] - 6s 3ms/step - loss: 1.3468 - accuracy: 0.6209 - val_loss: 0.9259 - val_accuracy: 0.7186\n",
      "Epoch 2/10\n",
      "1719/1719 [==============================] - 5s 3ms/step - loss: 0.8200 - accuracy: 0.7354 - val_loss: 0.7308 - val_accuracy: 0.7626\n",
      "Epoch 3/10\n",
      "1719/1719 [==============================] - 6s 3ms/step - loss: 0.6968 - accuracy: 0.7694 - val_loss: 0.6566 - val_accuracy: 0.7880\n",
      "Epoch 4/10\n",
      "1719/1719 [==============================] - 6s 3ms/step - loss: 0.6333 - accuracy: 0.7911 - val_loss: 0.6005 - val_accuracy: 0.8042\n",
      "Epoch 5/10\n",
      "1719/1719 [==============================] - 6s 3ms/step - loss: 0.5918 - accuracy: 0.8054 - val_loss: 0.5658 - val_accuracy: 0.8180\n",
      "Epoch 6/10\n",
      "1719/1719 [==============================] - 4s 3ms/step - loss: 0.5619 - accuracy: 0.8135 - val_loss: 0.5407 - val_accuracy: 0.8232\n",
      "Epoch 7/10\n",
      "1719/1719 [==============================] - 4s 2ms/step - loss: 0.5391 - accuracy: 0.8204 - val_loss: 0.5197 - val_accuracy: 0.8314\n",
      "Epoch 8/10\n",
      "1719/1719 [==============================] - 6s 3ms/step - loss: 0.5214 - accuracy: 0.8257 - val_loss: 0.5115 - val_accuracy: 0.8310\n",
      "Epoch 9/10\n",
      "1719/1719 [==============================] - 6s 3ms/step - loss: 0.5071 - accuracy: 0.8287 - val_loss: 0.4918 - val_accuracy: 0.8376\n",
      "Epoch 10/10\n",
      "1719/1719 [==============================] - 5s 3ms/step - loss: 0.4946 - accuracy: 0.8317 - val_loss: 0.4827 - val_accuracy: 0.8396\n"
     ]
    }
   ],
   "source": [
    "# graddient clipping with clipvalue\n",
    "optimizer = keras.optimizers.SGD(lr=1e-3,clipvalue=1.0)\n",
    "\n",
    "np.random.seed(42)\n",
    "tf.random.set_seed(42)\n",
    "\n",
    "model = keras.models.Sequential([keras.layers.Flatten(input_shape=[28, 28]),\n",
    "                                 keras.layers.Dense(300, kernel_initializer=\"he_normal\",activation='relu'),\n",
    "                                 keras.layers.Dense(100, kernel_initializer=\"he_normal\",activation='relu'),\n",
    "                                 keras.layers.Dense(10, activation=\"softmax\")])\n",
    "\n",
    "model.compile(loss=\"sparse_categorical_crossentropy\",optimizer=optimizer,metrics=[\"accuracy\"])\n",
    "history = model.fit(X_train, y_train, epochs=10,validation_data=(X_valid, y_valid))   "
   ]
  },
  {
   "cell_type": "code",
   "execution_count": 15,
   "metadata": {},
   "outputs": [
    {
     "name": "stdout",
     "output_type": "stream",
     "text": [
      "Epoch 1/10\n",
      "1719/1719 [==============================] - 6s 3ms/step - loss: 1.5560 - accuracy: 0.5628 - val_loss: 1.0931 - val_accuracy: 0.6886\n",
      "Epoch 2/10\n",
      "1719/1719 [==============================] - 5s 3ms/step - loss: 0.9391 - accuracy: 0.7088 - val_loss: 0.8213 - val_accuracy: 0.7394\n",
      "Epoch 3/10\n",
      "1719/1719 [==============================] - 5s 3ms/step - loss: 0.7755 - accuracy: 0.7452 - val_loss: 0.7210 - val_accuracy: 0.7678\n",
      "Epoch 4/10\n",
      "1719/1719 [==============================] - 6s 3ms/step - loss: 0.6991 - accuracy: 0.7684 - val_loss: 0.6610 - val_accuracy: 0.7828\n",
      "Epoch 5/10\n",
      "1719/1719 [==============================] - 6s 3ms/step - loss: 0.6513 - accuracy: 0.7841 - val_loss: 0.6229 - val_accuracy: 0.7978\n",
      "Epoch 6/10\n",
      "1719/1719 [==============================] - 5s 3ms/step - loss: 0.6171 - accuracy: 0.7951 - val_loss: 0.5937 - val_accuracy: 0.8048\n",
      "Epoch 7/10\n",
      "1719/1719 [==============================] - 6s 3ms/step - loss: 0.5908 - accuracy: 0.8042 - val_loss: 0.5696 - val_accuracy: 0.8160\n",
      "Epoch 8/10\n",
      "1719/1719 [==============================] - 5s 3ms/step - loss: 0.5704 - accuracy: 0.8101 - val_loss: 0.5534 - val_accuracy: 0.8190\n",
      "Epoch 9/10\n",
      "1719/1719 [==============================] - 5s 3ms/step - loss: 0.5540 - accuracy: 0.8147 - val_loss: 0.5370 - val_accuracy: 0.8238\n",
      "Epoch 10/10\n",
      "1719/1719 [==============================] - 6s 3ms/step - loss: 0.5402 - accuracy: 0.8185 - val_loss: 0.5248 - val_accuracy: 0.8270\n"
     ]
    }
   ],
   "source": [
    "# graddient clipping with clipnorm\n",
    "optimizer = keras.optimizers.SGD(lr=1e-3,clipnorm=1.0)\n",
    "\n",
    "np.random.seed(42)\n",
    "tf.random.set_seed(42)\n",
    "\n",
    "model = keras.models.Sequential([keras.layers.Flatten(input_shape=[28, 28]),\n",
    "                                 keras.layers.Dense(300, kernel_initializer=\"he_normal\",activation='relu'),\n",
    "                                 keras.layers.Dense(100, kernel_initializer=\"he_normal\",activation='relu'),\n",
    "                                 keras.layers.Dense(10, activation=\"softmax\")])\n",
    "\n",
    "model.compile(loss=\"sparse_categorical_crossentropy\",optimizer=optimizer,metrics=[\"accuracy\"])\n",
    "history = model.fit(X_train, y_train, epochs=10,validation_data=(X_valid, y_valid))  "
   ]
  },
  {
   "cell_type": "code",
   "execution_count": 16,
   "metadata": {},
   "outputs": [],
   "source": [
    "## Resusing Mdelling - Create Base Model dataset\n",
    "\n",
    "\n",
    "def split_dataset(X, y):\n",
    "    y_5_or_6 = (y == 5) | (y == 6) # sandals or shirts\n",
    "    y_A = y[~y_5_or_6]\n",
    "    y_A[y_A > 6] -= 2 # class indices 7, 8, 9 should be moved to 5, 6, 7\n",
    "    y_B = (y[y_5_or_6] == 6).astype(np.float32) # binary classification task: is it a shirt (class 6)?\n",
    "    return ((X[~y_5_or_6], y_A),            (X[y_5_or_6], y_B))\n",
    "\n",
    "(X_train_A, y_train_A), (X_train_B, y_train_B) = split_dataset(X_train, y_train)\n",
    "(X_valid_A, y_valid_A), (X_valid_B, y_valid_B) = split_dataset(X_valid, y_valid)\n",
    "(X_test_A, y_test_A), (X_test_B, y_test_B) = split_dataset(X_test, y_test)\n",
    "X_train_B = X_train_B[:200]\n",
    "y_train_B = y_train_B[:200]"
   ]
  },
  {
   "cell_type": "code",
   "execution_count": 17,
   "metadata": {},
   "outputs": [
    {
     "name": "stdout",
     "output_type": "stream",
     "text": [
      "Epoch 1/20\n",
      "1375/1375 [==============================] - 5s 3ms/step - loss: 0.5926 - accuracy: 0.8103 - val_loss: 0.3895 - val_accuracy: 0.8665\n",
      "Epoch 2/20\n",
      "1375/1375 [==============================] - 5s 4ms/step - loss: 0.3523 - accuracy: 0.8784 - val_loss: 0.3287 - val_accuracy: 0.8824\n",
      "Epoch 3/20\n",
      "1375/1375 [==============================] - 5s 4ms/step - loss: 0.3171 - accuracy: 0.8896 - val_loss: 0.3014 - val_accuracy: 0.8994\n",
      "Epoch 4/20\n",
      "1375/1375 [==============================] - 5s 4ms/step - loss: 0.2974 - accuracy: 0.8976 - val_loss: 0.2894 - val_accuracy: 0.9021\n",
      "Epoch 5/20\n",
      "1375/1375 [==============================] - 5s 4ms/step - loss: 0.2836 - accuracy: 0.9020 - val_loss: 0.2775 - val_accuracy: 0.9061\n",
      "Epoch 6/20\n",
      "1375/1375 [==============================] - 5s 3ms/step - loss: 0.2730 - accuracy: 0.9059 - val_loss: 0.2735 - val_accuracy: 0.9063\n",
      "Epoch 7/20\n",
      "1375/1375 [==============================] - 5s 3ms/step - loss: 0.2642 - accuracy: 0.9094 - val_loss: 0.2721 - val_accuracy: 0.9083\n",
      "Epoch 8/20\n",
      "1375/1375 [==============================] - 5s 3ms/step - loss: 0.2574 - accuracy: 0.9127 - val_loss: 0.2589 - val_accuracy: 0.9136\n",
      "Epoch 9/20\n",
      "1375/1375 [==============================] - 5s 4ms/step - loss: 0.2519 - accuracy: 0.9135 - val_loss: 0.2562 - val_accuracy: 0.9143\n",
      "Epoch 10/20\n",
      "1375/1375 [==============================] - 5s 3ms/step - loss: 0.2470 - accuracy: 0.9155 - val_loss: 0.2543 - val_accuracy: 0.9155\n",
      "Epoch 11/20\n",
      "1375/1375 [==============================] - 5s 3ms/step - loss: 0.2423 - accuracy: 0.9179 - val_loss: 0.2497 - val_accuracy: 0.9158\n",
      "Epoch 12/20\n",
      "1375/1375 [==============================] - 4s 3ms/step - loss: 0.2383 - accuracy: 0.9187 - val_loss: 0.2514 - val_accuracy: 0.9128\n",
      "Epoch 13/20\n",
      "1375/1375 [==============================] - 4s 3ms/step - loss: 0.2351 - accuracy: 0.9196 - val_loss: 0.2447 - val_accuracy: 0.9160\n",
      "Epoch 14/20\n",
      "1375/1375 [==============================] - 5s 4ms/step - loss: 0.2316 - accuracy: 0.9213 - val_loss: 0.2416 - val_accuracy: 0.9178\n",
      "Epoch 15/20\n",
      "1375/1375 [==============================] - 5s 3ms/step - loss: 0.2288 - accuracy: 0.9213 - val_loss: 0.2448 - val_accuracy: 0.9188\n",
      "Epoch 16/20\n",
      "1375/1375 [==============================] - 5s 3ms/step - loss: 0.2254 - accuracy: 0.9222 - val_loss: 0.2386 - val_accuracy: 0.9195\n",
      "Epoch 17/20\n",
      "1375/1375 [==============================] - 5s 4ms/step - loss: 0.2231 - accuracy: 0.9235 - val_loss: 0.2407 - val_accuracy: 0.9183\n",
      "Epoch 18/20\n",
      "1375/1375 [==============================] - 5s 4ms/step - loss: 0.2201 - accuracy: 0.9245 - val_loss: 0.2432 - val_accuracy: 0.9153\n",
      "Epoch 19/20\n",
      "1375/1375 [==============================] - 5s 4ms/step - loss: 0.2178 - accuracy: 0.9251 - val_loss: 0.2332 - val_accuracy: 0.9208\n",
      "Epoch 20/20\n",
      "1375/1375 [==============================] - 5s 4ms/step - loss: 0.2156 - accuracy: 0.9262 - val_loss: 0.2333 - val_accuracy: 0.9200\n"
     ]
    }
   ],
   "source": [
    "# Train Base Model A\n",
    "tf.random.set_seed(42)\n",
    "np.random.seed(42)\n",
    "\n",
    "model_A = keras.models.Sequential()\n",
    "model_A.add(keras.layers.Flatten(input_shape=[28, 28]))\n",
    "for n_hidden in (300, 100, 50, 50, 50):\n",
    "    model_A.add(keras.layers.Dense(n_hidden, activation=\"selu\"))\n",
    "model_A.add(keras.layers.Dense(8, activation=\"softmax\"))\n",
    "\n",
    "model_A.compile(loss=\"sparse_categorical_crossentropy\",optimizer=keras.optimizers.SGD(lr=1e-3),metrics=[\"accuracy\"])\n",
    "                \n",
    "\n",
    "history = model_A.fit(X_train_A, y_train_A, epochs=20,validation_data=(X_valid_A, y_valid_A))"
   ]
  },
  {
   "cell_type": "code",
   "execution_count": 18,
   "metadata": {},
   "outputs": [],
   "source": [
    "model_A.save(\"my_model_A.h5\")"
   ]
  },
  {
   "cell_type": "code",
   "execution_count": 19,
   "metadata": {},
   "outputs": [
    {
     "name": "stdout",
     "output_type": "stream",
     "text": [
      "Epoch 1/20\n",
      "7/7 [==============================] - 0s 38ms/step - loss: 0.9573 - accuracy: 0.4650 - val_loss: 0.6314 - val_accuracy: 0.6004\n",
      "Epoch 2/20\n",
      "7/7 [==============================] - 0s 22ms/step - loss: 0.5692 - accuracy: 0.7450 - val_loss: 0.4784 - val_accuracy: 0.8529\n",
      "Epoch 3/20\n",
      "7/7 [==============================] - 0s 18ms/step - loss: 0.4503 - accuracy: 0.8650 - val_loss: 0.4102 - val_accuracy: 0.8945\n",
      "Epoch 4/20\n",
      "7/7 [==============================] - 0s 16ms/step - loss: 0.3879 - accuracy: 0.8950 - val_loss: 0.3647 - val_accuracy: 0.9178\n",
      "Epoch 5/20\n",
      "7/7 [==============================] - 0s 20ms/step - loss: 0.3435 - accuracy: 0.9250 - val_loss: 0.3300 - val_accuracy: 0.9320\n",
      "Epoch 6/20\n",
      "7/7 [==============================] - 0s 22ms/step - loss: 0.3081 - accuracy: 0.9300 - val_loss: 0.3019 - val_accuracy: 0.9402\n",
      "Epoch 7/20\n",
      "7/7 [==============================] - 0s 20ms/step - loss: 0.2800 - accuracy: 0.9350 - val_loss: 0.2804 - val_accuracy: 0.9422\n",
      "Epoch 8/20\n",
      "7/7 [==============================] - 0s 20ms/step - loss: 0.2564 - accuracy: 0.9450 - val_loss: 0.2606 - val_accuracy: 0.9473\n",
      "Epoch 9/20\n",
      "7/7 [==============================] - 0s 16ms/step - loss: 0.2362 - accuracy: 0.9550 - val_loss: 0.2428 - val_accuracy: 0.9523\n",
      "Epoch 10/20\n",
      "7/7 [==============================] - 0s 18ms/step - loss: 0.2188 - accuracy: 0.9600 - val_loss: 0.2281 - val_accuracy: 0.9544\n",
      "Epoch 11/20\n",
      "7/7 [==============================] - 0s 18ms/step - loss: 0.2036 - accuracy: 0.9700 - val_loss: 0.2150 - val_accuracy: 0.9584\n",
      "Epoch 12/20\n",
      "7/7 [==============================] - 0s 16ms/step - loss: 0.1898 - accuracy: 0.9700 - val_loss: 0.2036 - val_accuracy: 0.9584\n",
      "Epoch 13/20\n",
      "7/7 [==============================] - 0s 18ms/step - loss: 0.1773 - accuracy: 0.9750 - val_loss: 0.1931 - val_accuracy: 0.9615\n",
      "Epoch 14/20\n",
      "7/7 [==============================] - 0s 18ms/step - loss: 0.1668 - accuracy: 0.9800 - val_loss: 0.1838 - val_accuracy: 0.9635\n",
      "Epoch 15/20\n",
      "7/7 [==============================] - 0s 18ms/step - loss: 0.1570 - accuracy: 0.9900 - val_loss: 0.1746 - val_accuracy: 0.9686\n",
      "Epoch 16/20\n",
      "7/7 [==============================] - 0s 16ms/step - loss: 0.1481 - accuracy: 0.9900 - val_loss: 0.1674 - val_accuracy: 0.9686\n",
      "Epoch 17/20\n",
      "7/7 [==============================] - 0s 18ms/step - loss: 0.1406 - accuracy: 0.9900 - val_loss: 0.1604 - val_accuracy: 0.9706\n",
      "Epoch 18/20\n",
      "7/7 [==============================] - 0s 18ms/step - loss: 0.1334 - accuracy: 0.9900 - val_loss: 0.1539 - val_accuracy: 0.9706\n",
      "Epoch 19/20\n",
      "7/7 [==============================] - 0s 20ms/step - loss: 0.1268 - accuracy: 0.9900 - val_loss: 0.1482 - val_accuracy: 0.9716\n",
      "Epoch 20/20\n",
      "7/7 [==============================] - 0s 29ms/step - loss: 0.1208 - accuracy: 0.9900 - val_loss: 0.1431 - val_accuracy: 0.9716\n"
     ]
    }
   ],
   "source": [
    "### Training Model B from scratch\n",
    "model_B = keras.models.Sequential()\n",
    "model_B.add(keras.layers.Flatten(input_shape=[28, 28]))\n",
    "\n",
    "for n_hidden in (300, 100, 50, 50, 50):\n",
    "    model_B.add(keras.layers.Dense(n_hidden, activation=\"selu\"))\n",
    "\n",
    "model_B.add(keras.layers.Dense(1, activation=\"sigmoid\"))\n",
    "\n",
    "model_B.compile(loss=\"binary_crossentropy\",optimizer=keras.optimizers.SGD(lr=1e-3),metrics=[\"accuracy\"])\n",
    "\n",
    "history = model_B.fit(X_train_B, y_train_B, epochs=20,validation_data=(X_valid_B, y_valid_B))"
   ]
  },
  {
   "cell_type": "code",
   "execution_count": 20,
   "metadata": {},
   "outputs": [],
   "source": [
    "# Training Model B by reusing layers from Model A\n",
    "\n",
    "\n",
    "model_A = keras.models.load_model(\"my_model_A.h5\")\n",
    "model_B_on_A = keras.models.Sequential(model_A.layers[:-1])\n",
    "model_B_on_A.add(keras.layers.Dense(1, activation=\"sigmoid\"))\n",
    "\n",
    "\n",
    "# clone Model A as training will modify the model paramters\n",
    "model_A_clone = keras.models.clone_model(model_A)\n",
    "model_A_clone.set_weights(model_A.get_weights())\n",
    "\n",
    "for layer in model_B_on_A.layers[:-1]:\n",
    "    layer.trainable = False\n",
    "\n",
    "model_B_on_A.compile(loss=\"binary_crossentropy\",optimizer=keras.optimizers.SGD(lr=1e-3),metrics=[\"accuracy\"])"
   ]
  },
  {
   "cell_type": "code",
   "execution_count": 21,
   "metadata": {},
   "outputs": [
    {
     "name": "stdout",
     "output_type": "stream",
     "text": [
      "Epoch 1/4\n",
      "7/7 [==============================] - 0s 47ms/step - loss: 0.5813 - accuracy: 0.6500 - val_loss: 0.5860 - val_accuracy: 0.6318\n",
      "Epoch 2/4\n",
      "7/7 [==============================] - 0s 16ms/step - loss: 0.5446 - accuracy: 0.6700 - val_loss: 0.5482 - val_accuracy: 0.6704\n",
      "Epoch 3/4\n",
      "7/7 [==============================] - 0s 18ms/step - loss: 0.5075 - accuracy: 0.7300 - val_loss: 0.5160 - val_accuracy: 0.7069\n",
      "Epoch 4/4\n",
      "7/7 [==============================] - 0s 16ms/step - loss: 0.4758 - accuracy: 0.7500 - val_loss: 0.4871 - val_accuracy: 0.7292\n",
      "Epoch 1/16\n",
      "7/7 [==============================] - 0s 42ms/step - loss: 0.3968 - accuracy: 0.8150 - val_loss: 0.3469 - val_accuracy: 0.8631\n",
      "Epoch 2/16\n",
      "7/7 [==============================] - 0s 20ms/step - loss: 0.2802 - accuracy: 0.9350 - val_loss: 0.2609 - val_accuracy: 0.9249\n",
      "Epoch 3/16\n",
      "7/7 [==============================] - 0s 18ms/step - loss: 0.2087 - accuracy: 0.9650 - val_loss: 0.2115 - val_accuracy: 0.9554\n",
      "Epoch 4/16\n",
      "7/7 [==============================] - 0s 18ms/step - loss: 0.1673 - accuracy: 0.9800 - val_loss: 0.1795 - val_accuracy: 0.9696\n",
      "Epoch 5/16\n",
      "7/7 [==============================] - 0s 18ms/step - loss: 0.1399 - accuracy: 0.9800 - val_loss: 0.1565 - val_accuracy: 0.9757\n",
      "Epoch 6/16\n",
      "7/7 [==============================] - 0s 20ms/step - loss: 0.1199 - accuracy: 0.9950 - val_loss: 0.1396 - val_accuracy: 0.9807\n",
      "Epoch 7/16\n",
      "7/7 [==============================] - 0s 20ms/step - loss: 0.1052 - accuracy: 0.9950 - val_loss: 0.1269 - val_accuracy: 0.9838\n",
      "Epoch 8/16\n",
      "7/7 [==============================] - 0s 20ms/step - loss: 0.0938 - accuracy: 0.9950 - val_loss: 0.1166 - val_accuracy: 0.9858\n",
      "Epoch 9/16\n",
      "7/7 [==============================] - 0s 16ms/step - loss: 0.0848 - accuracy: 1.0000 - val_loss: 0.1067 - val_accuracy: 0.9888\n",
      "Epoch 10/16\n",
      "7/7 [==============================] - 0s 13ms/step - loss: 0.0762 - accuracy: 1.0000 - val_loss: 0.1001 - val_accuracy: 0.9899\n",
      "Epoch 11/16\n",
      "7/7 [==============================] - 0s 16ms/step - loss: 0.0704 - accuracy: 1.0000 - val_loss: 0.0941 - val_accuracy: 0.9899\n",
      "Epoch 12/16\n",
      "7/7 [==============================] - 0s 20ms/step - loss: 0.0649 - accuracy: 1.0000 - val_loss: 0.0889 - val_accuracy: 0.9899\n",
      "Epoch 13/16\n",
      "7/7 [==============================] - 0s 20ms/step - loss: 0.0602 - accuracy: 1.0000 - val_loss: 0.0841 - val_accuracy: 0.9899\n",
      "Epoch 14/16\n",
      "7/7 [==============================] - 0s 18ms/step - loss: 0.0559 - accuracy: 1.0000 - val_loss: 0.0804 - val_accuracy: 0.9899\n",
      "Epoch 15/16\n",
      "7/7 [==============================] - 0s 16ms/step - loss: 0.0525 - accuracy: 1.0000 - val_loss: 0.0770 - val_accuracy: 0.9899\n",
      "Epoch 16/16\n",
      "7/7 [==============================] - 0s 16ms/step - loss: 0.0496 - accuracy: 1.0000 - val_loss: 0.0740 - val_accuracy: 0.9899\n"
     ]
    }
   ],
   "source": [
    "history = model_B_on_A.fit(X_train_B, y_train_B, epochs=4, validation_data=(X_valid_B, y_valid_B))\n",
    "\n",
    "for layer in model_B_on_A.layers[:-1]:\n",
    "    layer.trainable = True\n",
    "\n",
    "model_B_on_A.compile(loss=\"binary_crossentropy\",optimizer=keras.optimizers.SGD(lr=1e-3),metrics=[\"accuracy\"])\n",
    "\n",
    "history = model_B_on_A.fit(X_train_B, y_train_B, epochs=16,validation_data=(X_valid_B, y_valid_B))"
   ]
  },
  {
   "cell_type": "code",
   "execution_count": 22,
   "metadata": {},
   "outputs": [
    {
     "name": "stdout",
     "output_type": "stream",
     "text": [
      "63/63 [==============================] - 0s 2ms/step - loss: 0.1408 - accuracy: 0.9705\n"
     ]
    },
    {
     "data": {
      "text/plain": [
       "[0.1408407837152481, 0.9704999923706055]"
      ]
     },
     "execution_count": 22,
     "metadata": {},
     "output_type": "execute_result"
    }
   ],
   "source": [
    "model_B.evaluate(X_test_B, y_test_B)"
   ]
  },
  {
   "cell_type": "code",
   "execution_count": 23,
   "metadata": {},
   "outputs": [
    {
     "name": "stdout",
     "output_type": "stream",
     "text": [
      "63/63 [==============================] - 0s 2ms/step - loss: 0.0683 - accuracy: 0.9930\n"
     ]
    },
    {
     "data": {
      "text/plain": [
       "[0.06832191348075867, 0.9929999709129333]"
      ]
     },
     "execution_count": 23,
     "metadata": {},
     "output_type": "execute_result"
    }
   ],
   "source": [
    "model_B_on_A.evaluate(X_test_B, y_test_B)"
   ]
  },
  {
   "cell_type": "code",
   "execution_count": 24,
   "metadata": {},
   "outputs": [
    {
     "name": "stdout",
     "output_type": "stream",
     "text": [
      "Epoch 1/10\n",
      "1719/1719 [==============================] - 6s 4ms/step - loss: 0.7049 - accuracy: 0.7683 - val_loss: 0.5035 - val_accuracy: 0.8300\n",
      "Epoch 2/10\n",
      "1719/1719 [==============================] - 6s 3ms/step - loss: 0.4798 - accuracy: 0.8327 - val_loss: 0.4546 - val_accuracy: 0.8476\n",
      "Epoch 3/10\n",
      "1719/1719 [==============================] - 5s 3ms/step - loss: 0.4362 - accuracy: 0.8470 - val_loss: 0.4152 - val_accuracy: 0.8582\n",
      "Epoch 4/10\n",
      "1719/1719 [==============================] - 6s 3ms/step - loss: 0.4097 - accuracy: 0.8569 - val_loss: 0.4004 - val_accuracy: 0.8622\n",
      "Epoch 5/10\n",
      "1719/1719 [==============================] - 5s 3ms/step - loss: 0.3921 - accuracy: 0.8633 - val_loss: 0.3791 - val_accuracy: 0.8694\n",
      "Epoch 6/10\n",
      "1719/1719 [==============================] - 5s 3ms/step - loss: 0.3771 - accuracy: 0.8668 - val_loss: 0.3684 - val_accuracy: 0.8716\n",
      "Epoch 7/10\n",
      "1719/1719 [==============================] - 5s 3ms/step - loss: 0.3649 - accuracy: 0.8714 - val_loss: 0.3593 - val_accuracy: 0.8744\n",
      "Epoch 8/10\n",
      "1719/1719 [==============================] - 5s 3ms/step - loss: 0.3531 - accuracy: 0.8757 - val_loss: 0.3620 - val_accuracy: 0.8756\n",
      "Epoch 9/10\n",
      "1719/1719 [==============================] - 6s 3ms/step - loss: 0.3422 - accuracy: 0.8796 - val_loss: 0.3478 - val_accuracy: 0.8758\n",
      "Epoch 10/10\n",
      "1719/1719 [==============================] - 5s 3ms/step - loss: 0.3330 - accuracy: 0.8819 - val_loss: 0.3366 - val_accuracy: 0.8822\n"
     ]
    }
   ],
   "source": [
    "# momentum optimization\n",
    "np.random.seed(42)\n",
    "tf.random.set_seed(42)\n",
    "\n",
    "optimizer = keras.optimizers.SGD(lr=0.001, momentum=0.9)\n",
    "\n",
    "model = keras.models.Sequential([keras.layers.Flatten(input_shape=[28, 28]),\n",
    "                                 keras.layers.Dense(300, kernel_initializer=\"he_normal\",activation='relu'),\n",
    "                                 keras.layers.Dense(100, kernel_initializer=\"he_normal\",activation='relu'),\n",
    "                                 keras.layers.Dense(10, activation=\"softmax\")])\n",
    "\n",
    "model.compile(loss=\"sparse_categorical_crossentropy\",optimizer=optimizer,metrics=[\"accuracy\"])\n",
    "history = model.fit(X_train, y_train, epochs=10,validation_data=(X_valid, y_valid))"
   ]
  },
  {
   "cell_type": "code",
   "execution_count": 25,
   "metadata": {},
   "outputs": [
    {
     "name": "stdout",
     "output_type": "stream",
     "text": [
      "Epoch 1/10\n",
      "1719/1719 [==============================] - 5s 3ms/step - loss: 0.7002 - accuracy: 0.7699 - val_loss: 0.4985 - val_accuracy: 0.8320\n",
      "Epoch 2/10\n",
      "1719/1719 [==============================] - 5s 3ms/step - loss: 0.4752 - accuracy: 0.8350 - val_loss: 0.4426 - val_accuracy: 0.8518\n",
      "Epoch 3/10\n",
      "1719/1719 [==============================] - 5s 3ms/step - loss: 0.4326 - accuracy: 0.8483 - val_loss: 0.4204 - val_accuracy: 0.8522\n",
      "Epoch 4/10\n",
      "1719/1719 [==============================] - 6s 3ms/step - loss: 0.4067 - accuracy: 0.8577 - val_loss: 0.4017 - val_accuracy: 0.8624\n",
      "Epoch 5/10\n",
      "1719/1719 [==============================] - 6s 3ms/step - loss: 0.3893 - accuracy: 0.8642 - val_loss: 0.3754 - val_accuracy: 0.8706\n",
      "Epoch 6/10\n",
      "1719/1719 [==============================] - 6s 3ms/step - loss: 0.3741 - accuracy: 0.8681 - val_loss: 0.3676 - val_accuracy: 0.8720\n",
      "Epoch 7/10\n",
      "1719/1719 [==============================] - 5s 3ms/step - loss: 0.3623 - accuracy: 0.8722 - val_loss: 0.3585 - val_accuracy: 0.8756\n",
      "Epoch 8/10\n",
      "1719/1719 [==============================] - 5s 3ms/step - loss: 0.3511 - accuracy: 0.8764 - val_loss: 0.3687 - val_accuracy: 0.8726\n",
      "Epoch 9/10\n",
      "1719/1719 [==============================] - 5s 3ms/step - loss: 0.3408 - accuracy: 0.8801 - val_loss: 0.3468 - val_accuracy: 0.8776\n",
      "Epoch 10/10\n",
      "1719/1719 [==============================] - 5s 3ms/step - loss: 0.3311 - accuracy: 0.8831 - val_loss: 0.3377 - val_accuracy: 0.8808\n"
     ]
    }
   ],
   "source": [
    "# Nesterov Accelerated Gradient\n",
    "optimizer = keras.optimizers.SGD(lr=0.001, momentum=0.9, nesterov=True)\n",
    "\n",
    "np.random.seed(42)\n",
    "tf.random.set_seed(42)\n",
    "\n",
    "model = keras.models.Sequential([keras.layers.Flatten(input_shape=[28, 28]),\n",
    "                                 keras.layers.Dense(300, kernel_initializer=\"he_normal\",activation='relu'),\n",
    "                                 keras.layers.Dense(100, kernel_initializer=\"he_normal\",activation='relu'),\n",
    "                                 keras.layers.Dense(10, activation=\"softmax\")])\n",
    "\n",
    "model.compile(loss=\"sparse_categorical_crossentropy\",optimizer=optimizer,metrics=[\"accuracy\"])\n",
    "history = model.fit(X_train, y_train, epochs=10,validation_data=(X_valid, y_valid))"
   ]
  },
  {
   "cell_type": "code",
   "execution_count": 26,
   "metadata": {},
   "outputs": [
    {
     "name": "stdout",
     "output_type": "stream",
     "text": [
      "Epoch 1/10\n",
      "1719/1719 [==============================] - 6s 3ms/step - loss: 1.0012 - accuracy: 0.6995 - val_loss: 0.7025 - val_accuracy: 0.7744\n",
      "Epoch 2/10\n",
      "1719/1719 [==============================] - 5s 3ms/step - loss: 0.6501 - accuracy: 0.7871 - val_loss: 0.5943 - val_accuracy: 0.8102\n",
      "Epoch 3/10\n",
      "1719/1719 [==============================] - 5s 3ms/step - loss: 0.5768 - accuracy: 0.8124 - val_loss: 0.5520 - val_accuracy: 0.8220\n",
      "Epoch 4/10\n",
      "1719/1719 [==============================] - 6s 3ms/step - loss: 0.5382 - accuracy: 0.8237 - val_loss: 0.5159 - val_accuracy: 0.8342\n",
      "Epoch 5/10\n",
      "1719/1719 [==============================] - 5s 3ms/step - loss: 0.5133 - accuracy: 0.8303 - val_loss: 0.4960 - val_accuracy: 0.8388\n",
      "Epoch 6/10\n",
      "1719/1719 [==============================] - 6s 3ms/step - loss: 0.4951 - accuracy: 0.8336 - val_loss: 0.4812 - val_accuracy: 0.8426\n",
      "Epoch 7/10\n",
      "1719/1719 [==============================] - 5s 3ms/step - loss: 0.4809 - accuracy: 0.8378 - val_loss: 0.4682 - val_accuracy: 0.8462\n",
      "Epoch 8/10\n",
      "1719/1719 [==============================] - 5s 3ms/step - loss: 0.4696 - accuracy: 0.8418 - val_loss: 0.4623 - val_accuracy: 0.8478\n",
      "Epoch 9/10\n",
      "1719/1719 [==============================] - 5s 3ms/step - loss: 0.4604 - accuracy: 0.8434 - val_loss: 0.4508 - val_accuracy: 0.8520\n",
      "Epoch 10/10\n",
      "1719/1719 [==============================] - 5s 3ms/step - loss: 0.4521 - accuracy: 0.8460 - val_loss: 0.4447 - val_accuracy: 0.8546\n"
     ]
    }
   ],
   "source": [
    "# Adagrad optimization\n",
    "optimizer = keras.optimizers.Adagrad(lr=0.001)\n",
    "\n",
    "np.random.seed(42)\n",
    "tf.random.set_seed(42)\n",
    "\n",
    "model = keras.models.Sequential([keras.layers.Flatten(input_shape=[28, 28]),\n",
    "                                 keras.layers.Dense(300, kernel_initializer=\"he_normal\",activation='relu'),\n",
    "                                 keras.layers.Dense(100, kernel_initializer=\"he_normal\",activation='relu'),\n",
    "                                 keras.layers.Dense(10, activation=\"softmax\")])\n",
    "\n",
    "model.compile(loss=\"sparse_categorical_crossentropy\",optimizer=optimizer,metrics=[\"accuracy\"])\n",
    "history = model.fit(X_train, y_train, epochs=10,validation_data=(X_valid, y_valid))"
   ]
  },
  {
   "cell_type": "code",
   "execution_count": 27,
   "metadata": {},
   "outputs": [
    {
     "name": "stdout",
     "output_type": "stream",
     "text": [
      "Epoch 1/10\n",
      "1719/1719 [==============================] - 7s 4ms/step - loss: 0.5038 - accuracy: 0.8167 - val_loss: 0.4570 - val_accuracy: 0.8396\n",
      "Epoch 2/10\n",
      "1719/1719 [==============================] - 7s 4ms/step - loss: 0.3921 - accuracy: 0.8612 - val_loss: 0.4112 - val_accuracy: 0.8598\n",
      "Epoch 3/10\n",
      "1719/1719 [==============================] - 7s 4ms/step - loss: 0.3717 - accuracy: 0.8717 - val_loss: 0.6163 - val_accuracy: 0.8122\n",
      "Epoch 4/10\n",
      "1719/1719 [==============================] - 7s 4ms/step - loss: 0.3563 - accuracy: 0.8754 - val_loss: 0.3640 - val_accuracy: 0.8828\n",
      "Epoch 5/10\n",
      "1719/1719 [==============================] - 7s 4ms/step - loss: 0.3492 - accuracy: 0.8812 - val_loss: 0.4623 - val_accuracy: 0.8738\n",
      "Epoch 6/10\n",
      "1719/1719 [==============================] - 7s 4ms/step - loss: 0.3381 - accuracy: 0.8848 - val_loss: 0.4417 - val_accuracy: 0.8772\n",
      "Epoch 7/10\n",
      "1719/1719 [==============================] - 7s 4ms/step - loss: 0.3308 - accuracy: 0.8877 - val_loss: 0.4780 - val_accuracy: 0.8820\n",
      "Epoch 8/10\n",
      "1719/1719 [==============================] - 7s 4ms/step - loss: 0.3277 - accuracy: 0.8900 - val_loss: 0.5752 - val_accuracy: 0.8448\n",
      "Epoch 9/10\n",
      "1719/1719 [==============================] - 6s 4ms/step - loss: 0.3224 - accuracy: 0.8910 - val_loss: 0.4382 - val_accuracy: 0.8848\n",
      "Epoch 10/10\n",
      "1719/1719 [==============================] - 6s 4ms/step - loss: 0.3148 - accuracy: 0.8947 - val_loss: 0.4848 - val_accuracy: 0.8750\n"
     ]
    }
   ],
   "source": [
    "# RMSProp\n",
    "optimizer = keras.optimizers.RMSprop(lr=0.001, rho=0.9)\n",
    "\n",
    "np.random.seed(42)\n",
    "tf.random.set_seed(42)\n",
    "\n",
    "model = keras.models.Sequential([keras.layers.Flatten(input_shape=[28, 28]),\n",
    "                                 keras.layers.Dense(300, kernel_initializer=\"he_normal\",activation='relu'),\n",
    "                                 keras.layers.Dense(100, kernel_initializer=\"he_normal\",activation='relu'),\n",
    "                                 keras.layers.Dense(10, activation=\"softmax\")])\n",
    "\n",
    "model.compile(loss=\"sparse_categorical_crossentropy\",optimizer=optimizer,metrics=[\"accuracy\"])\n",
    "history = model.fit(X_train, y_train, epochs=10,validation_data=(X_valid, y_valid))"
   ]
  },
  {
   "cell_type": "code",
   "execution_count": 28,
   "metadata": {},
   "outputs": [
    {
     "name": "stdout",
     "output_type": "stream",
     "text": [
      "Epoch 1/10\n",
      "1719/1719 [==============================] - 6s 4ms/step - loss: 0.4862 - accuracy: 0.8246 - val_loss: 0.3643 - val_accuracy: 0.8662\n",
      "Epoch 2/10\n",
      "1719/1719 [==============================] - 5s 3ms/step - loss: 0.3658 - accuracy: 0.8662 - val_loss: 0.4018 - val_accuracy: 0.8564\n",
      "Epoch 3/10\n",
      "1719/1719 [==============================] - 6s 3ms/step - loss: 0.3307 - accuracy: 0.8779 - val_loss: 0.3156 - val_accuracy: 0.8870\n",
      "Epoch 4/10\n",
      "1719/1719 [==============================] - 6s 3ms/step - loss: 0.3050 - accuracy: 0.8856 - val_loss: 0.3063 - val_accuracy: 0.8892\n",
      "Epoch 5/10\n",
      "1719/1719 [==============================] - 6s 4ms/step - loss: 0.2884 - accuracy: 0.8921 - val_loss: 0.3086 - val_accuracy: 0.8838\n",
      "Epoch 6/10\n",
      "1719/1719 [==============================] - 6s 4ms/step - loss: 0.2717 - accuracy: 0.8993 - val_loss: 0.3206 - val_accuracy: 0.8872\n",
      "Epoch 7/10\n",
      "1719/1719 [==============================] - 5s 3ms/step - loss: 0.2623 - accuracy: 0.9017 - val_loss: 0.3099 - val_accuracy: 0.8914\n",
      "Epoch 8/10\n",
      "1719/1719 [==============================] - 5s 3ms/step - loss: 0.2475 - accuracy: 0.9051 - val_loss: 0.3116 - val_accuracy: 0.8926\n",
      "Epoch 9/10\n",
      "1719/1719 [==============================] - 6s 4ms/step - loss: 0.2363 - accuracy: 0.9095 - val_loss: 0.2986 - val_accuracy: 0.8966\n",
      "Epoch 10/10\n",
      "1719/1719 [==============================] - 5s 3ms/step - loss: 0.2277 - accuracy: 0.9138 - val_loss: 0.3062 - val_accuracy: 0.8974\n"
     ]
    }
   ],
   "source": [
    "# Adam Optimization\n",
    "optimizer = keras.optimizers.Adam(lr=0.001, beta_1=0.9, beta_2=0.999)\n",
    "\n",
    "np.random.seed(42)\n",
    "tf.random.set_seed(42)\n",
    "\n",
    "model = keras.models.Sequential([keras.layers.Flatten(input_shape=[28, 28]),\n",
    "                                 keras.layers.Dense(300, kernel_initializer=\"he_normal\",activation='relu'),\n",
    "                                 keras.layers.Dense(100, kernel_initializer=\"he_normal\",activation='relu'),\n",
    "                                 keras.layers.Dense(10, activation=\"softmax\")])\n",
    "\n",
    "model.compile(loss=\"sparse_categorical_crossentropy\",optimizer=optimizer,metrics=[\"accuracy\"])\n",
    "history = model.fit(X_train, y_train, epochs=10,validation_data=(X_valid, y_valid))"
   ]
  },
  {
   "cell_type": "code",
   "execution_count": 29,
   "metadata": {},
   "outputs": [
    {
     "name": "stdout",
     "output_type": "stream",
     "text": [
      "Epoch 1/10\n",
      "1719/1719 [==============================] - 6s 3ms/step - loss: 0.5132 - accuracy: 0.8213 - val_loss: 0.3983 - val_accuracy: 0.8636\n",
      "Epoch 2/10\n",
      "1719/1719 [==============================] - 6s 3ms/step - loss: 0.3856 - accuracy: 0.8628 - val_loss: 0.3873 - val_accuracy: 0.8630\n",
      "Epoch 3/10\n",
      "1719/1719 [==============================] - 6s 3ms/step - loss: 0.3454 - accuracy: 0.8739 - val_loss: 0.3376 - val_accuracy: 0.8792\n",
      "Epoch 4/10\n",
      "1719/1719 [==============================] - 6s 3ms/step - loss: 0.3174 - accuracy: 0.8848 - val_loss: 0.3133 - val_accuracy: 0.8838\n",
      "Epoch 5/10\n",
      "1719/1719 [==============================] - 6s 3ms/step - loss: 0.2992 - accuracy: 0.8908 - val_loss: 0.3070 - val_accuracy: 0.8906\n",
      "Epoch 6/10\n",
      "1719/1719 [==============================] - 6s 3ms/step - loss: 0.2844 - accuracy: 0.8963 - val_loss: 0.3125 - val_accuracy: 0.8866\n",
      "Epoch 7/10\n",
      "1719/1719 [==============================] - 5s 3ms/step - loss: 0.2717 - accuracy: 0.9006 - val_loss: 0.2948 - val_accuracy: 0.8924\n",
      "Epoch 8/10\n",
      "1719/1719 [==============================] - 5s 3ms/step - loss: 0.2583 - accuracy: 0.9044 - val_loss: 0.2986 - val_accuracy: 0.8902\n",
      "Epoch 9/10\n",
      "1719/1719 [==============================] - 6s 3ms/step - loss: 0.2477 - accuracy: 0.9078 - val_loss: 0.2921 - val_accuracy: 0.8916\n",
      "Epoch 10/10\n",
      "1719/1719 [==============================] - 6s 3ms/step - loss: 0.2378 - accuracy: 0.9120 - val_loss: 0.2849 - val_accuracy: 0.8974\n"
     ]
    }
   ],
   "source": [
    "# Admax Optimization\n",
    "optimizer = keras.optimizers.Adamax(lr=0.001, beta_1=0.9, beta_2=0.999)\n",
    "\n",
    "np.random.seed(42)\n",
    "tf.random.set_seed(42)\n",
    "\n",
    "model = keras.models.Sequential([keras.layers.Flatten(input_shape=[28, 28]),\n",
    "                                 keras.layers.Dense(300, kernel_initializer=\"he_normal\",activation='relu'),\n",
    "                                 keras.layers.Dense(100, kernel_initializer=\"he_normal\",activation='relu'),\n",
    "                                 keras.layers.Dense(10, activation=\"softmax\")])\n",
    "\n",
    "model.compile(loss=\"sparse_categorical_crossentropy\",optimizer=optimizer,metrics=[\"accuracy\"])\n",
    "history = model.fit(X_train, y_train, epochs=10,validation_data=(X_valid, y_valid))"
   ]
  },
  {
   "cell_type": "code",
   "execution_count": 30,
   "metadata": {},
   "outputs": [
    {
     "name": "stdout",
     "output_type": "stream",
     "text": [
      "Epoch 1/10\n",
      "1719/1719 [==============================] - 8s 5ms/step - loss: 0.4721 - accuracy: 0.8289 - val_loss: 0.3726 - val_accuracy: 0.8640\n",
      "Epoch 2/10\n",
      "1719/1719 [==============================] - 8s 5ms/step - loss: 0.3503 - accuracy: 0.8725 - val_loss: 0.3294 - val_accuracy: 0.8796\n",
      "Epoch 3/10\n",
      "1719/1719 [==============================] - 8s 5ms/step - loss: 0.3176 - accuracy: 0.8829 - val_loss: 0.3534 - val_accuracy: 0.8704\n",
      "Epoch 4/10\n",
      "1719/1719 [==============================] - 8s 5ms/step - loss: 0.2922 - accuracy: 0.8916 - val_loss: 0.3228 - val_accuracy: 0.8880\n",
      "Epoch 5/10\n",
      "1719/1719 [==============================] - 8s 5ms/step - loss: 0.2773 - accuracy: 0.8958 - val_loss: 0.3069 - val_accuracy: 0.8870\n",
      "Epoch 6/10\n",
      "1719/1719 [==============================] - 8s 5ms/step - loss: 0.2636 - accuracy: 0.9025 - val_loss: 0.3057 - val_accuracy: 0.8938\n",
      "Epoch 7/10\n",
      "1719/1719 [==============================] - 8s 5ms/step - loss: 0.2519 - accuracy: 0.9054 - val_loss: 0.3097 - val_accuracy: 0.8926\n",
      "Epoch 8/10\n",
      "1719/1719 [==============================] - 9s 5ms/step - loss: 0.2393 - accuracy: 0.9100 - val_loss: 0.3073 - val_accuracy: 0.8902\n",
      "Epoch 9/10\n",
      "1719/1719 [==============================] - 8s 5ms/step - loss: 0.2295 - accuracy: 0.9123 - val_loss: 0.3131 - val_accuracy: 0.8914\n",
      "Epoch 10/10\n",
      "1719/1719 [==============================] - 8s 5ms/step - loss: 0.2202 - accuracy: 0.9167 - val_loss: 0.2990 - val_accuracy: 0.9000\n"
     ]
    }
   ],
   "source": [
    "# Nadam Optimization\n",
    "\n",
    "optimizer = keras.optimizers.Nadam(lr=0.001, beta_1=0.9, beta_2=0.999)\n",
    "\n",
    "np.random.seed(42)\n",
    "tf.random.set_seed(42)\n",
    "\n",
    "model = keras.models.Sequential([keras.layers.Flatten(input_shape=[28, 28]),\n",
    "                                 keras.layers.Dense(300, kernel_initializer=\"he_normal\",activation='relu'),\n",
    "                                 keras.layers.Dense(100, kernel_initializer=\"he_normal\",activation='relu'),\n",
    "                                 keras.layers.Dense(10, activation=\"softmax\")])\n",
    "\n",
    "model.compile(loss=\"sparse_categorical_crossentropy\",optimizer=optimizer,metrics=[\"accuracy\"])\n",
    "history = model.fit(X_train, y_train, epochs=10,validation_data=(X_valid, y_valid))\n"
   ]
  },
  {
   "cell_type": "code",
   "execution_count": 31,
   "metadata": {},
   "outputs": [
    {
     "name": "stdout",
     "output_type": "stream",
     "text": [
      "Epoch 1/10\n",
      "1719/1719 [==============================] - 5s 3ms/step - loss: 0.7021 - accuracy: 0.7700 - val_loss: 0.5205 - val_accuracy: 0.8262\n",
      "Epoch 2/10\n",
      "1719/1719 [==============================] - 5s 3ms/step - loss: 0.4876 - accuracy: 0.8297 - val_loss: 0.4415 - val_accuracy: 0.8524\n",
      "Epoch 3/10\n",
      "1719/1719 [==============================] - 5s 3ms/step - loss: 0.4450 - accuracy: 0.8440 - val_loss: 0.5029 - val_accuracy: 0.8124\n",
      "Epoch 4/10\n",
      "1719/1719 [==============================] - 5s 3ms/step - loss: 0.4214 - accuracy: 0.8531 - val_loss: 0.4074 - val_accuracy: 0.8622\n",
      "Epoch 5/10\n",
      "1719/1719 [==============================] - 5s 3ms/step - loss: 0.4060 - accuracy: 0.8584 - val_loss: 0.3912 - val_accuracy: 0.8656\n",
      "Epoch 6/10\n",
      "1719/1719 [==============================] - 5s 3ms/step - loss: 0.3914 - accuracy: 0.8626 - val_loss: 0.3863 - val_accuracy: 0.8704\n",
      "Epoch 7/10\n",
      "1719/1719 [==============================] - 5s 3ms/step - loss: 0.3820 - accuracy: 0.8659 - val_loss: 0.3821 - val_accuracy: 0.8678\n",
      "Epoch 8/10\n",
      "1719/1719 [==============================] - 5s 3ms/step - loss: 0.3736 - accuracy: 0.8690 - val_loss: 0.3965 - val_accuracy: 0.8616\n",
      "Epoch 9/10\n",
      "1719/1719 [==============================] - 5s 3ms/step - loss: 0.3666 - accuracy: 0.8714 - val_loss: 0.3691 - val_accuracy: 0.8692\n",
      "Epoch 10/10\n",
      "1719/1719 [==============================] - 5s 3ms/step - loss: 0.3599 - accuracy: 0.8740 - val_loss: 0.3688 - val_accuracy: 0.8698\n"
     ]
    }
   ],
   "source": [
    "# Learning Rate Schedule - Power Scheduling\n",
    "\"\"\"\n",
    "\n",
    "lr = lr0 / (1 + steps / s)**c\n",
    "\n",
    "    Keras uses c=1 and s = 1 / decay\n",
    "\n",
    "\"\"\"\n",
    "\n",
    "optimizer = keras.optimizers.SGD(lr=0.01, decay=1e-4)\n",
    "\n",
    "np.random.seed(42)\n",
    "tf.random.set_seed(42)\n",
    "\n",
    "model = keras.models.Sequential([keras.layers.Flatten(input_shape=[28, 28]),\n",
    "                                 keras.layers.Dense(300, kernel_initializer=\"he_normal\",activation='relu'),\n",
    "                                 keras.layers.Dense(100, kernel_initializer=\"he_normal\",activation='relu'),\n",
    "                                 keras.layers.Dense(10, activation=\"softmax\")])\n",
    "\n",
    "model.compile(loss=\"sparse_categorical_crossentropy\",optimizer=optimizer,metrics=[\"accuracy\"])\n",
    "history = model.fit(X_train, y_train, epochs=10,validation_data=(X_valid, y_valid))"
   ]
  },
  {
   "cell_type": "code",
   "execution_count": 32,
   "metadata": {},
   "outputs": [
    {
     "name": "stdout",
     "output_type": "stream",
     "text": [
      "Epoch 1/10\n",
      "1719/1719 [==============================] - 9s 5ms/step - loss: 0.7730 - accuracy: 0.7561 - val_loss: 0.6975 - val_accuracy: 0.7358\n",
      "Epoch 2/10\n",
      "1719/1719 [==============================] - 9s 5ms/step - loss: 0.6635 - accuracy: 0.7844 - val_loss: 0.6512 - val_accuracy: 0.8108\n",
      "Epoch 3/10\n",
      "1719/1719 [==============================] - 8s 5ms/step - loss: 0.5356 - accuracy: 0.8313 - val_loss: 0.5087 - val_accuracy: 0.8396\n",
      "Epoch 4/10\n",
      "1719/1719 [==============================] - 9s 5ms/step - loss: 0.4658 - accuracy: 0.8526 - val_loss: 0.4667 - val_accuracy: 0.8576\n",
      "Epoch 5/10\n",
      "1719/1719 [==============================] - 8s 5ms/step - loss: 0.4450 - accuracy: 0.8607 - val_loss: 0.5446 - val_accuracy: 0.8268\n",
      "Epoch 6/10\n",
      "1719/1719 [==============================] - 9s 5ms/step - loss: 0.5405 - accuracy: 0.8315 - val_loss: 0.5677 - val_accuracy: 0.8332\n",
      "Epoch 7/10\n",
      "1719/1719 [==============================] - 9s 5ms/step - loss: 0.4756 - accuracy: 0.8444 - val_loss: 0.5133 - val_accuracy: 0.8488\n",
      "Epoch 8/10\n",
      "1719/1719 [==============================] - 9s 5ms/step - loss: 0.4321 - accuracy: 0.8595 - val_loss: 0.5959 - val_accuracy: 0.8380\n",
      "Epoch 9/10\n",
      "1719/1719 [==============================] - 9s 5ms/step - loss: 0.3921 - accuracy: 0.8713 - val_loss: 0.5114 - val_accuracy: 0.8588\n",
      "Epoch 10/10\n",
      "1719/1719 [==============================] - 9s 5ms/step - loss: 0.3868 - accuracy: 0.8774 - val_loss: 0.5634 - val_accuracy: 0.8540\n"
     ]
    }
   ],
   "source": [
    "## Learning Schedule - Exponential decay\n",
    "\n",
    "def exponential_decay(lr0, s):\n",
    "    def exponential_decay_fn(epoch):\n",
    "        return lr0 * 0.1**(epoch / s)\n",
    "    return exponential_decay_fn\n",
    "\n",
    "exponential_decay_fn = exponential_decay(lr0=0.01, s=20)\n",
    "\n",
    "np.random.seed(42)\n",
    "tf.random.set_seed(42)\n",
    "\n",
    "model = keras.models.Sequential([keras.layers.Flatten(input_shape=[28, 28]),\n",
    "                                 keras.layers.Dense(300, kernel_initializer=\"he_normal\",activation='relu'),\n",
    "                                 keras.layers.Dense(100, kernel_initializer=\"he_normal\",activation='relu'),\n",
    "                                 keras.layers.Dense(10, activation=\"softmax\")])\n",
    "\n",
    "model.compile(loss=\"sparse_categorical_crossentropy\",optimizer='nadam',metrics=[\"accuracy\"])\n",
    "\n",
    "\n",
    "lr_scheduler = keras.callbacks.LearningRateScheduler(exponential_decay_fn)\n",
    "history = model.fit(X_train_scaled, y_train, epochs=10,validation_data=(X_valid_scaled, y_valid),\n",
    "                    callbacks=[lr_scheduler])"
   ]
  },
  {
   "cell_type": "code",
   "execution_count": 33,
   "metadata": {},
   "outputs": [
    {
     "name": "stdout",
     "output_type": "stream",
     "text": [
      "Epoch 1/10\n",
      "1719/1719 [==============================] - 10s 6ms/step - loss: 0.8340 - accuracy: 0.7586 - val_loss: 1.0441 - val_accuracy: 0.7446\n",
      "Epoch 2/10\n",
      "1719/1719 [==============================] - 10s 6ms/step - loss: 0.6719 - accuracy: 0.7965 - val_loss: 0.5452 - val_accuracy: 0.8212\n",
      "Epoch 3/10\n",
      "1719/1719 [==============================] - 10s 6ms/step - loss: 0.5808 - accuracy: 0.8197 - val_loss: 0.6421 - val_accuracy: 0.8114\n",
      "Epoch 4/10\n",
      "1719/1719 [==============================] - 9s 6ms/step - loss: 0.5488 - accuracy: 0.8331 - val_loss: 0.5430 - val_accuracy: 0.8292\n",
      "Epoch 5/10\n",
      "1719/1719 [==============================] - 10s 6ms/step - loss: 0.4959 - accuracy: 0.8451 - val_loss: 0.5617 - val_accuracy: 0.8604\n",
      "Epoch 6/10\n",
      "1719/1719 [==============================] - 10s 6ms/step - loss: 0.4552 - accuracy: 0.8566 - val_loss: 0.4542 - val_accuracy: 0.8492\n",
      "Epoch 7/10\n",
      "1719/1719 [==============================] - 9s 5ms/step - loss: 0.4134 - accuracy: 0.8695 - val_loss: 0.4526 - val_accuracy: 0.8484\n",
      "Epoch 8/10\n",
      "1719/1719 [==============================] - 9s 5ms/step - loss: 0.3805 - accuracy: 0.8753 - val_loss: 0.5113 - val_accuracy: 0.8478\n",
      "Epoch 9/10\n",
      "1719/1719 [==============================] - 9s 5ms/step - loss: 0.3572 - accuracy: 0.8823 - val_loss: 0.5139 - val_accuracy: 0.8670\n",
      "Epoch 10/10\n",
      "1719/1719 [==============================] - 10s 6ms/step - loss: 0.3199 - accuracy: 0.8937 - val_loss: 0.5019 - val_accuracy: 0.8838\n"
     ]
    }
   ],
   "source": [
    "# exponential decay updating the learning rate at the end of iteration instead of batch\n",
    "\n",
    "K = keras.backend\n",
    "\n",
    "class ExponentialDecay(keras.callbacks.Callback):\n",
    "    def __init__(self, s=40000):\n",
    "        super().__init__()\n",
    "        self.s = s\n",
    "\n",
    "    def on_batch_begin(self, batch, logs=None):\n",
    "        # Note: the `batch` argument is reset at each epoch\n",
    "        lr = K.get_value(self.model.optimizer.lr)\n",
    "        K.set_value(self.model.optimizer.lr, lr * 0.1**(1 / s))\n",
    "\n",
    "    def on_epoch_end(self, epoch, logs=None):\n",
    "        logs = logs or {}\n",
    "        logs['lr'] = K.get_value(self.model.optimizer.lr)\n",
    "\n",
    "model = keras.models.Sequential([keras.layers.Flatten(input_shape=[28, 28]),\n",
    "                                 keras.layers.Dense(300, activation=\"selu\", kernel_initializer=\"lecun_normal\"),\n",
    "                                 keras.layers.Dense(100, activation=\"selu\", kernel_initializer=\"lecun_normal\"),\n",
    "                                 keras.layers.Dense(10, activation=\"softmax\")])\n",
    "\n",
    "lr0 = 0.01\n",
    "optimizer = keras.optimizers.Nadam(lr=lr0)\n",
    "model.compile(loss=\"sparse_categorical_crossentropy\", optimizer=optimizer, metrics=[\"accuracy\"])\n",
    "n_epochs = 10\n",
    "\n",
    "s = 20 * len(X_train) // 32 # number of steps in 20 epochs (batch size = 32)\n",
    "\n",
    "exp_decay = ExponentialDecay(s)\n",
    "\n",
    "history = model.fit(X_train_scaled, y_train, epochs=n_epochs,validation_data=(X_valid_scaled, y_valid),\n",
    "                    callbacks=[exp_decay])"
   ]
  },
  {
   "cell_type": "code",
   "execution_count": 34,
   "metadata": {},
   "outputs": [
    {
     "name": "stdout",
     "output_type": "stream",
     "text": [
      "Epoch 1/10\n",
      "1719/1719 [==============================] - 11s 6ms/step - loss: 0.8725 - accuracy: 0.7526 - val_loss: 0.7744 - val_accuracy: 0.7876\n",
      "Epoch 2/10\n",
      "1719/1719 [==============================] - 9s 5ms/step - loss: 0.9104 - accuracy: 0.7297 - val_loss: 0.8860 - val_accuracy: 0.6904\n",
      "Epoch 3/10\n",
      "1719/1719 [==============================] - 9s 5ms/step - loss: 0.8078 - accuracy: 0.7627 - val_loss: 1.2252 - val_accuracy: 0.6354\n",
      "Epoch 4/10\n",
      "1719/1719 [==============================] - 9s 5ms/step - loss: 0.7851 - accuracy: 0.7677 - val_loss: 1.2156 - val_accuracy: 0.5210\n",
      "Epoch 5/10\n",
      "1719/1719 [==============================] - 9s 5ms/step - loss: 0.8788 - accuracy: 0.7257 - val_loss: 0.7876 - val_accuracy: 0.7928\n",
      "Epoch 6/10\n",
      "1719/1719 [==============================] - 9s 5ms/step - loss: 0.5332 - accuracy: 0.8467 - val_loss: 0.6334 - val_accuracy: 0.8468\n",
      "Epoch 7/10\n",
      "1719/1719 [==============================] - 9s 5ms/step - loss: 0.4864 - accuracy: 0.8589 - val_loss: 0.6823 - val_accuracy: 0.8440\n",
      "Epoch 8/10\n",
      "1719/1719 [==============================] - 9s 5ms/step - loss: 0.4709 - accuracy: 0.8643 - val_loss: 0.7151 - val_accuracy: 0.8240\n",
      "Epoch 9/10\n",
      "1719/1719 [==============================] - 9s 5ms/step - loss: 0.4578 - accuracy: 0.8681 - val_loss: 0.7119 - val_accuracy: 0.8594\n",
      "Epoch 10/10\n",
      "1719/1719 [==============================] - 9s 5ms/step - loss: 0.4386 - accuracy: 0.8731 - val_loss: 0.6241 - val_accuracy: 0.8660\n"
     ]
    }
   ],
   "source": [
    "# Piece Wise constant learning rate\n",
    "def piecewise_constant_fn(epoch):\n",
    "    if epoch < 5:\n",
    "        return 0.01\n",
    "    elif epoch < 15:\n",
    "        return 0.005\n",
    "    else:\n",
    "        return 0.00\n",
    "    \n",
    "    \n",
    "lr_scheduler = keras.callbacks.LearningRateScheduler(piecewise_constant_fn)\n",
    "\n",
    "model = keras.models.Sequential([keras.layers.Flatten(input_shape=[28, 28]),\n",
    "                                 keras.layers.Dense(300, activation=\"selu\", kernel_initializer=\"lecun_normal\"),\n",
    "                                 keras.layers.Dense(100, activation=\"selu\", kernel_initializer=\"lecun_normal\"),\n",
    "                                 keras.layers.Dense(10, activation=\"softmax\")])\n",
    "\n",
    "model.compile(loss=\"sparse_categorical_crossentropy\", optimizer=\"nadam\", metrics=[\"accuracy\"])\n",
    "n_epochs = 10\n",
    "history = model.fit(X_train_scaled, y_train, epochs=n_epochs,validation_data=(X_valid_scaled, y_valid),\n",
    "                    callbacks=[lr_scheduler])"
   ]
  },
  {
   "cell_type": "code",
   "execution_count": 35,
   "metadata": {},
   "outputs": [
    {
     "name": "stdout",
     "output_type": "stream",
     "text": [
      "Epoch 1/10\n",
      "1719/1719 [==============================] - 6s 4ms/step - loss: 0.5908 - accuracy: 0.8070 - val_loss: 0.4503 - val_accuracy: 0.8514\n",
      "Epoch 2/10\n",
      "1719/1719 [==============================] - 6s 4ms/step - loss: 0.4944 - accuracy: 0.8413 - val_loss: 0.6110 - val_accuracy: 0.8238\n",
      "Epoch 3/10\n",
      "1719/1719 [==============================] - 6s 4ms/step - loss: 0.5178 - accuracy: 0.8415 - val_loss: 0.6581 - val_accuracy: 0.8238\n",
      "Epoch 4/10\n",
      "1719/1719 [==============================] - 6s 4ms/step - loss: 0.5240 - accuracy: 0.8454 - val_loss: 0.5332 - val_accuracy: 0.8482\n",
      "Epoch 5/10\n",
      "1719/1719 [==============================] - 6s 4ms/step - loss: 0.5020 - accuracy: 0.8515 - val_loss: 0.4589 - val_accuracy: 0.8566\n",
      "Epoch 6/10\n",
      "1719/1719 [==============================] - 6s 4ms/step - loss: 0.5123 - accuracy: 0.8539 - val_loss: 0.6514 - val_accuracy: 0.8452\n",
      "Epoch 7/10\n",
      "1719/1719 [==============================] - 6s 3ms/step - loss: 0.3033 - accuracy: 0.8945 - val_loss: 0.3940 - val_accuracy: 0.8810\n",
      "Epoch 8/10\n",
      "1719/1719 [==============================] - 5s 3ms/step - loss: 0.2543 - accuracy: 0.9080 - val_loss: 0.3935 - val_accuracy: 0.8742\n",
      "Epoch 9/10\n",
      "1719/1719 [==============================] - 6s 3ms/step - loss: 0.2326 - accuracy: 0.9140 - val_loss: 0.3943 - val_accuracy: 0.8868\n",
      "Epoch 10/10\n",
      "1719/1719 [==============================] - 5s 3ms/step - loss: 0.2194 - accuracy: 0.9195 - val_loss: 0.4221 - val_accuracy: 0.8800\n"
     ]
    }
   ],
   "source": [
    "# Performance Sceduling - Chnage learning rate if validation best is not improved\n",
    "tf.random.set_seed(42)\n",
    "np.random.seed(42)\n",
    "\n",
    "# Reduce learning rate when a metric has stopped improving.\n",
    "# factor: factor by which the learning rate will be reduced. new_lr = lr * factor\n",
    "lr_scheduler = keras.callbacks.ReduceLROnPlateau(factor=0.5, patience=5)\n",
    "\n",
    "model = keras.models.Sequential([keras.layers.Flatten(input_shape=[28, 28]),\n",
    "                                 keras.layers.Dense(300, activation=\"selu\", kernel_initializer=\"lecun_normal\"),\n",
    "                                 keras.layers.Dense(100, activation=\"selu\", kernel_initializer=\"lecun_normal\"),\n",
    "                                 keras.layers.Dense(10, activation=\"softmax\")])\n",
    "\n",
    "optimizer = keras.optimizers.SGD(lr=0.02, momentum=0.9)\n",
    "model.compile(loss=\"sparse_categorical_crossentropy\", optimizer=optimizer, metrics=[\"accuracy\"])\n",
    "\n",
    "n_epochs = 10\n",
    "history = model.fit(X_train_scaled, y_train, epochs=n_epochs,validation_data=(X_valid_scaled, y_valid),\n",
    "                    callbacks=[lr_scheduler])"
   ]
  },
  {
   "cell_type": "code",
   "execution_count": 36,
   "metadata": {},
   "outputs": [
    {
     "name": "stdout",
     "output_type": "stream",
     "text": [
      "Epoch 1/10\n",
      "1719/1719 [==============================] - 5s 3ms/step - loss: 0.4893 - accuracy: 0.8275 - val_loss: 0.4093 - val_accuracy: 0.8598\n",
      "Epoch 2/10\n",
      "1719/1719 [==============================] - 6s 3ms/step - loss: 0.3819 - accuracy: 0.8652 - val_loss: 0.3739 - val_accuracy: 0.8698\n",
      "Epoch 3/10\n",
      "1719/1719 [==============================] - 5s 3ms/step - loss: 0.3486 - accuracy: 0.8764 - val_loss: 0.3730 - val_accuracy: 0.8686\n",
      "Epoch 4/10\n",
      "1719/1719 [==============================] - 5s 3ms/step - loss: 0.3263 - accuracy: 0.8837 - val_loss: 0.3495 - val_accuracy: 0.8802\n",
      "Epoch 5/10\n",
      "1719/1719 [==============================] - 5s 3ms/step - loss: 0.3103 - accuracy: 0.8896 - val_loss: 0.3431 - val_accuracy: 0.8800\n",
      "Epoch 6/10\n",
      "1719/1719 [==============================] - 5s 3ms/step - loss: 0.2957 - accuracy: 0.8952 - val_loss: 0.3417 - val_accuracy: 0.8810\n",
      "Epoch 7/10\n",
      "1719/1719 [==============================] - 5s 3ms/step - loss: 0.2853 - accuracy: 0.8987 - val_loss: 0.3355 - val_accuracy: 0.8818\n",
      "Epoch 8/10\n",
      "1719/1719 [==============================] - 6s 3ms/step - loss: 0.2759 - accuracy: 0.9016 - val_loss: 0.3368 - val_accuracy: 0.8816\n",
      "Epoch 9/10\n",
      "1719/1719 [==============================] - 6s 3ms/step - loss: 0.2676 - accuracy: 0.9054 - val_loss: 0.3266 - val_accuracy: 0.8858\n",
      "Epoch 10/10\n",
      "1719/1719 [==============================] - 5s 3ms/step - loss: 0.2607 - accuracy: 0.9068 - val_loss: 0.3242 - val_accuracy: 0.8858\n"
     ]
    }
   ],
   "source": [
    "# learning rate schedule easy way \n",
    "\n",
    "model = keras.models.Sequential([keras.layers.Flatten(input_shape=[28, 28]),\n",
    "                                 keras.layers.Dense(300, activation=\"selu\", kernel_initializer=\"lecun_normal\"),\n",
    "                                 keras.layers.Dense(100, activation=\"selu\", kernel_initializer=\"lecun_normal\"),\n",
    "                                 keras.layers.Dense(10, activation=\"softmax\")])\n",
    "\n",
    "\n",
    "# This approach updates the learning rate at each step rather than at each epoch\n",
    "s = 20 * len(X_train) // 32 # number of steps in 20 epochs (batch size = 32)\n",
    "\n",
    "# A LearningRateSchedule that uses an exponential decay schedule.\n",
    "# initial_learning_rate * decay_rate ^ (step / decay_steps)\n",
    "learning_rate = keras.optimizers.schedules.ExponentialDecay(initial_learning_rate= 0.01,decay_steps= s, decay_rate=0.1)\n",
    "\n",
    "# optimizer with learning rate\n",
    "optimizer = keras.optimizers.SGD(learning_rate)\n",
    "\n",
    "model.compile(loss=\"sparse_categorical_crossentropy\", optimizer=optimizer, metrics=[\"accuracy\"])\n",
    "\n",
    "n_epochs = 10\n",
    "\n",
    "history = model.fit(X_train_scaled, y_train, epochs=n_epochs,validation_data=(X_valid_scaled, y_valid))"
   ]
  },
  {
   "cell_type": "code",
   "execution_count": 38,
   "metadata": {},
   "outputs": [
    {
     "name": "stdout",
     "output_type": "stream",
     "text": [
      "Epoch 1/3\n",
      "1719/1719 [==============================] - 6s 3ms/step - loss: 6.4569 - accuracy: 0.8212 - val_loss: 4.6113 - val_accuracy: 0.8582\n",
      "Epoch 2/3\n",
      "1719/1719 [==============================] - 6s 3ms/step - loss: 3.5158 - accuracy: 0.8526 - val_loss: 2.6297 - val_accuracy: 0.8582\n",
      "Epoch 3/3\n",
      "1719/1719 [==============================] - 6s 3ms/step - loss: 2.0910 - accuracy: 0.8543 - val_loss: 1.6578 - val_accuracy: 0.8540\n"
     ]
    }
   ],
   "source": [
    "#### L1 & L2 Regularization\n",
    "\n",
    "\n",
    "\n",
    "# partial function to create dense layer so as to avoid repeating code \n",
    "RegularizedDense = partial(keras.layers.Dense, activation=\"elu\", kernel_initializer=\"he_normal\",\n",
    "                           kernel_regularizer=keras.regularizers.l2(0.01))\n",
    "\n",
    "\n",
    "\n",
    "model = keras.models.Sequential([keras.layers.Flatten(input_shape=[28, 28]),\n",
    "                                 RegularizedDense(300),\n",
    "                                 RegularizedDense(100),\n",
    "                                 RegularizedDense(10, activation=\"softmax\",kernel_initializer=\"glorot_uniform\")])\n",
    "\n",
    "\n",
    "optimizer = keras.optimizers.SGD()\n",
    "model.compile(loss=\"sparse_categorical_crossentropy\", optimizer=optimizer, metrics=[\"accuracy\"])\n",
    "\n",
    "n_epochs = 3\n",
    "history = model.fit(X_train_scaled, y_train, epochs=n_epochs,validation_data=(X_valid_scaled, y_valid))"
   ]
  },
  {
   "cell_type": "code",
   "execution_count": 39,
   "metadata": {},
   "outputs": [
    {
     "name": "stdout",
     "output_type": "stream",
     "text": [
      "Epoch 1/3\n",
      "1719/1719 [==============================] - 9s 5ms/step - loss: 0.6819 - accuracy: 0.7666 - val_loss: 0.4215 - val_accuracy: 0.8512\n",
      "Epoch 2/3\n",
      "1719/1719 [==============================] - 7s 4ms/step - loss: 0.4997 - accuracy: 0.8196 - val_loss: 0.3871 - val_accuracy: 0.8604\n",
      "Epoch 3/3\n",
      "1719/1719 [==============================] - 7s 4ms/step - loss: 0.4604 - accuracy: 0.8317 - val_loss: 0.3807 - val_accuracy: 0.8660\n"
     ]
    }
   ],
   "source": [
    "### Drop out regularization\n",
    "\n",
    "model = keras.models.Sequential([keras.layers.Flatten(input_shape=[28, 28]),\n",
    "                                 keras.layers.Dropout(rate=0.2),\n",
    "                                 keras.layers.Dense(300, activation=\"elu\", kernel_initializer=\"he_normal\"),\n",
    "                                 keras.layers.Dropout(rate=0.2),\n",
    "                                 keras.layers.Dense(100, activation=\"elu\", kernel_initializer=\"he_normal\"),\n",
    "                                 keras.layers.Dropout(rate=0.2),\n",
    "                                 keras.layers.Dense(10, activation=\"softmax\")])\n",
    "\n",
    "optimizer = keras.optimizers.SGD()\n",
    "model.compile(loss=\"sparse_categorical_crossentropy\", optimizer=optimizer, metrics=[\"accuracy\"])\n",
    "\n",
    "n_epochs = 3\n",
    "history = model.fit(X_train_scaled, y_train, epochs=n_epochs,validation_data=(X_valid_scaled, y_valid))"
   ]
  },
  {
   "cell_type": "code",
   "execution_count": null,
   "metadata": {},
   "outputs": [],
   "source": []
  }
 ],
 "metadata": {
  "kernelspec": {
   "display_name": "Python 3",
   "language": "python",
   "name": "python3"
  },
  "language_info": {
   "codemirror_mode": {
    "name": "ipython",
    "version": 3
   },
   "file_extension": ".py",
   "mimetype": "text/x-python",
   "name": "python",
   "nbconvert_exporter": "python",
   "pygments_lexer": "ipython3",
   "version": "3.6.8"
  }
 },
 "nbformat": 4,
 "nbformat_minor": 2
}

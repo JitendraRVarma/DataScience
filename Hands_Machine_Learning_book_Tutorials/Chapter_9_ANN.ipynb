{
 "cells": [
  {
   "cell_type": "code",
   "execution_count": 61,
   "metadata": {},
   "outputs": [],
   "source": [
    "import numpy as np\n",
    "from sklearn.datasets import load_iris\n",
    "from sklearn.linear_model import Perceptron\n",
    "import tensorflow as tf\n",
    "from tensorflow import keras\n",
    "import pandas as pd\n",
    "import matplotlib.pyplot as plt\n",
    "import seaborn as sns\n",
    "from sklearn.datasets import fetch_california_housing\n",
    "from sklearn.model_selection import train_test_split\n",
    "from sklearn.preprocessing import StandardScaler\n",
    "from scipy.stats import reciprocal\n",
    "from sklearn.model_selection import RandomizedSearchCV\n",
    "import os\n",
    "sns.set()"
   ]
  },
  {
   "cell_type": "code",
   "execution_count": 2,
   "metadata": {},
   "outputs": [],
   "source": [
    "keras.backend.clear_session()\n",
    "np.random.seed(42)\n",
    "tf.random.set_seed(42)"
   ]
  },
  {
   "cell_type": "code",
   "execution_count": 3,
   "metadata": {},
   "outputs": [],
   "source": [
    "iris = load_iris()\n",
    "X = iris.data[:, (2, 3)] # petal length, petal width\n",
    "y = (iris.target == 0).astype(np.int) # Iris Setosa?"
   ]
  },
  {
   "cell_type": "code",
   "execution_count": 4,
   "metadata": {},
   "outputs": [
    {
     "data": {
      "text/plain": [
       "Perceptron(alpha=0.0001, class_weight=None, early_stopping=False, eta0=1.0,\n",
       "           fit_intercept=True, max_iter=1000, n_iter_no_change=5, n_jobs=None,\n",
       "           penalty=None, random_state=0, shuffle=True, tol=0.001,\n",
       "           validation_fraction=0.1, verbose=0, warm_start=False)"
      ]
     },
     "execution_count": 4,
     "metadata": {},
     "output_type": "execute_result"
    }
   ],
   "source": [
    "# Perceptron model\n",
    "per_clf = Perceptron()\n",
    "per_clf.fit(X, y)"
   ]
  },
  {
   "cell_type": "code",
   "execution_count": 5,
   "metadata": {},
   "outputs": [
    {
     "data": {
      "text/plain": [
       "array([0])"
      ]
     },
     "execution_count": 5,
     "metadata": {},
     "output_type": "execute_result"
    }
   ],
   "source": [
    "y_pred = per_clf.predict([[2, 0.5]])\n",
    "y_pred"
   ]
  },
  {
   "cell_type": "code",
   "execution_count": 6,
   "metadata": {},
   "outputs": [
    {
     "name": "stdout",
     "output_type": "stream",
     "text": [
      "2.3.0\n",
      "2.4.0\n"
     ]
    }
   ],
   "source": [
    "print(tf.__version__)\n",
    "print(keras.__version__)"
   ]
  },
  {
   "cell_type": "code",
   "execution_count": 7,
   "metadata": {},
   "outputs": [],
   "source": [
    "fashion_mnist = keras.datasets.fashion_mnist\n",
    "(X_train_full, y_train_full), (X_test, y_test) = fashion_mnist.load_data()"
   ]
  },
  {
   "cell_type": "code",
   "execution_count": 8,
   "metadata": {},
   "outputs": [
    {
     "data": {
      "text/plain": [
       "(60000, 28, 28)"
      ]
     },
     "execution_count": 8,
     "metadata": {},
     "output_type": "execute_result"
    }
   ],
   "source": [
    " X_train_full.shape"
   ]
  },
  {
   "cell_type": "code",
   "execution_count": 9,
   "metadata": {},
   "outputs": [],
   "source": [
    "# feature scaling & validation set creation\n",
    "X_valid, X_train = X_train_full[:5000] / 255.0, X_train_full[5000:] / 255.0\n",
    "y_valid, y_train = y_train_full[:5000], y_train_full[5000:]"
   ]
  },
  {
   "cell_type": "code",
   "execution_count": 10,
   "metadata": {},
   "outputs": [],
   "source": [
    "class_names = [\"T-shirt/top\", \"Trouser\", \"Pullover\", \"Dress\", \"Coat\",\"Sandal\", \"Shirt\", \"Sneaker\", \"Bag\", \"Ankle boot\"]"
   ]
  },
  {
   "cell_type": "code",
   "execution_count": 11,
   "metadata": {},
   "outputs": [],
   "source": [
    "### Keras Model Sequential  -- stacking layers\n",
    "model = keras.models.Sequential()\n",
    "model.add(keras.layers.Flatten(input_shape=[28, 28]))\n",
    "model.add(keras.layers.Dense(300, activation=\"relu\"))\n",
    "model.add(keras.layers.Dense(100, activation=\"relu\"))\n",
    "model.add(keras.layers.Dense(10, activation=\"softmax\"))"
   ]
  },
  {
   "cell_type": "code",
   "execution_count": 12,
   "metadata": {},
   "outputs": [],
   "source": [
    "### Keras Model Sequential  -- list of layers\n",
    "# model = keras.models.Sequential([keras.layers.Flatten(input_shape=[28, 28]),\n",
    "#                                  keras.layers.Dense(300, activation=\"relu\"),\n",
    "#                                  keras.layers.Dense(100, activation=\"relu\"),\n",
    "#                                  keras.layers.Dense(10, activation=\"softmax\")\n",
    "#                                 ])"
   ]
  },
  {
   "cell_type": "code",
   "execution_count": 13,
   "metadata": {},
   "outputs": [
    {
     "name": "stdout",
     "output_type": "stream",
     "text": [
      "Model: \"sequential\"\n",
      "_________________________________________________________________\n",
      "Layer (type)                 Output Shape              Param #   \n",
      "=================================================================\n",
      "flatten (Flatten)            (None, 784)               0         \n",
      "_________________________________________________________________\n",
      "dense (Dense)                (None, 300)               235500    \n",
      "_________________________________________________________________\n",
      "dense_1 (Dense)              (None, 100)               30100     \n",
      "_________________________________________________________________\n",
      "dense_2 (Dense)              (None, 10)                1010      \n",
      "=================================================================\n",
      "Total params: 266,610\n",
      "Trainable params: 266,610\n",
      "Non-trainable params: 0\n",
      "_________________________________________________________________\n"
     ]
    }
   ],
   "source": [
    "model.summary()"
   ]
  },
  {
   "cell_type": "code",
   "execution_count": 14,
   "metadata": {},
   "outputs": [
    {
     "data": {
      "text/plain": [
       "235500"
      ]
     },
     "execution_count": 14,
     "metadata": {},
     "output_type": "execute_result"
    }
   ],
   "source": [
    "# first layer param\n",
    "784 * 300 + 300    # +300 bias term"
   ]
  },
  {
   "cell_type": "code",
   "execution_count": 15,
   "metadata": {},
   "outputs": [
    {
     "data": {
      "text/plain": [
       "30100"
      ]
     },
     "execution_count": 15,
     "metadata": {},
     "output_type": "execute_result"
    }
   ],
   "source": [
    "## second layers param\n",
    "300 * 100 + 100"
   ]
  },
  {
   "cell_type": "code",
   "execution_count": 16,
   "metadata": {},
   "outputs": [
    {
     "data": {
      "text/plain": [
       "[<tensorflow.python.keras.layers.core.Flatten at 0x1a5ddb36358>,\n",
       " <tensorflow.python.keras.layers.core.Dense at 0x1a5baea3400>,\n",
       " <tensorflow.python.keras.layers.core.Dense at 0x1a5ddb36cf8>,\n",
       " <tensorflow.python.keras.layers.core.Dense at 0x1a5ddc79080>]"
      ]
     },
     "execution_count": 16,
     "metadata": {},
     "output_type": "execute_result"
    }
   ],
   "source": [
    "model.layers"
   ]
  },
  {
   "cell_type": "code",
   "execution_count": 17,
   "metadata": {},
   "outputs": [
    {
     "data": {
      "text/plain": [
       "'dense'"
      ]
     },
     "execution_count": 17,
     "metadata": {},
     "output_type": "execute_result"
    }
   ],
   "source": [
    "model.layers[1].name"
   ]
  },
  {
   "cell_type": "code",
   "execution_count": 18,
   "metadata": {},
   "outputs": [
    {
     "data": {
      "text/plain": [
       "'dense'"
      ]
     },
     "execution_count": 18,
     "metadata": {},
     "output_type": "execute_result"
    }
   ],
   "source": [
    " model.get_layer('dense').name"
   ]
  },
  {
   "cell_type": "code",
   "execution_count": 19,
   "metadata": {},
   "outputs": [],
   "source": [
    "hidden1 = model.layers[1]\n",
    "weights, biases = hidden1.get_weights()"
   ]
  },
  {
   "cell_type": "code",
   "execution_count": 20,
   "metadata": {},
   "outputs": [
    {
     "data": {
      "text/plain": [
       "array([[ 0.02448617, -0.00877795, -0.02189048, ..., -0.02766046,\n",
       "         0.03859074, -0.06889391],\n",
       "       [ 0.00476504, -0.03105379, -0.0586676 , ...,  0.00602964,\n",
       "        -0.02763776, -0.04165364],\n",
       "       [-0.06189284, -0.06901957,  0.07102345, ..., -0.04238207,\n",
       "         0.07121518, -0.07331658],\n",
       "       ...,\n",
       "       [-0.03048757,  0.02155137, -0.05400612, ..., -0.00113463,\n",
       "         0.00228987,  0.05581069],\n",
       "       [ 0.07061854, -0.06960931,  0.07038955, ..., -0.00384101,\n",
       "         0.00034875,  0.02878492],\n",
       "       [-0.06022581,  0.01577859, -0.02585464, ..., -0.00527829,\n",
       "         0.00272203, -0.06793761]], dtype=float32)"
      ]
     },
     "execution_count": 20,
     "metadata": {},
     "output_type": "execute_result"
    }
   ],
   "source": [
    "weights"
   ]
  },
  {
   "cell_type": "code",
   "execution_count": 21,
   "metadata": {},
   "outputs": [
    {
     "data": {
      "text/plain": [
       "(784, 300)"
      ]
     },
     "execution_count": 21,
     "metadata": {},
     "output_type": "execute_result"
    }
   ],
   "source": [
    "weights.shape"
   ]
  },
  {
   "cell_type": "code",
   "execution_count": 22,
   "metadata": {},
   "outputs": [
    {
     "data": {
      "text/plain": [
       "array([0., 0., 0., 0., 0., 0., 0., 0., 0., 0., 0., 0., 0., 0., 0., 0., 0.,\n",
       "       0., 0., 0., 0., 0., 0., 0., 0., 0., 0., 0., 0., 0., 0., 0., 0., 0.,\n",
       "       0., 0., 0., 0., 0., 0., 0., 0., 0., 0., 0., 0., 0., 0., 0., 0., 0.,\n",
       "       0., 0., 0., 0., 0., 0., 0., 0., 0., 0., 0., 0., 0., 0., 0., 0., 0.,\n",
       "       0., 0., 0., 0., 0., 0., 0., 0., 0., 0., 0., 0., 0., 0., 0., 0., 0.,\n",
       "       0., 0., 0., 0., 0., 0., 0., 0., 0., 0., 0., 0., 0., 0., 0., 0., 0.,\n",
       "       0., 0., 0., 0., 0., 0., 0., 0., 0., 0., 0., 0., 0., 0., 0., 0., 0.,\n",
       "       0., 0., 0., 0., 0., 0., 0., 0., 0., 0., 0., 0., 0., 0., 0., 0., 0.,\n",
       "       0., 0., 0., 0., 0., 0., 0., 0., 0., 0., 0., 0., 0., 0., 0., 0., 0.,\n",
       "       0., 0., 0., 0., 0., 0., 0., 0., 0., 0., 0., 0., 0., 0., 0., 0., 0.,\n",
       "       0., 0., 0., 0., 0., 0., 0., 0., 0., 0., 0., 0., 0., 0., 0., 0., 0.,\n",
       "       0., 0., 0., 0., 0., 0., 0., 0., 0., 0., 0., 0., 0., 0., 0., 0., 0.,\n",
       "       0., 0., 0., 0., 0., 0., 0., 0., 0., 0., 0., 0., 0., 0., 0., 0., 0.,\n",
       "       0., 0., 0., 0., 0., 0., 0., 0., 0., 0., 0., 0., 0., 0., 0., 0., 0.,\n",
       "       0., 0., 0., 0., 0., 0., 0., 0., 0., 0., 0., 0., 0., 0., 0., 0., 0.,\n",
       "       0., 0., 0., 0., 0., 0., 0., 0., 0., 0., 0., 0., 0., 0., 0., 0., 0.,\n",
       "       0., 0., 0., 0., 0., 0., 0., 0., 0., 0., 0., 0., 0., 0., 0., 0., 0.,\n",
       "       0., 0., 0., 0., 0., 0., 0., 0., 0., 0., 0.], dtype=float32)"
      ]
     },
     "execution_count": 22,
     "metadata": {},
     "output_type": "execute_result"
    }
   ],
   "source": [
    "biases"
   ]
  },
  {
   "cell_type": "code",
   "execution_count": 23,
   "metadata": {},
   "outputs": [
    {
     "data": {
      "text/plain": [
       "(300,)"
      ]
     },
     "execution_count": 23,
     "metadata": {},
     "output_type": "execute_result"
    }
   ],
   "source": [
    "biases.shape"
   ]
  },
  {
   "cell_type": "code",
   "execution_count": 24,
   "metadata": {},
   "outputs": [],
   "source": [
    "model.compile(loss=\"sparse_categorical_crossentropy\",optimizer=\"sgd\",metrics=[\"accuracy\"])"
   ]
  },
  {
   "cell_type": "code",
   "execution_count": 25,
   "metadata": {},
   "outputs": [
    {
     "name": "stdout",
     "output_type": "stream",
     "text": [
      "Epoch 1/30\n",
      "1719/1719 [==============================] - 5s 3ms/step - loss: 0.7237 - accuracy: 0.7644 - val_loss: 0.5207 - val_accuracy: 0.8234\n",
      "Epoch 2/30\n",
      "1719/1719 [==============================] - 5s 3ms/step - loss: 0.4843 - accuracy: 0.8318 - val_loss: 0.4345 - val_accuracy: 0.8538\n",
      "Epoch 3/30\n",
      "1719/1719 [==============================] - 5s 3ms/step - loss: 0.4393 - accuracy: 0.8454 - val_loss: 0.5341 - val_accuracy: 0.7988\n",
      "Epoch 4/30\n",
      "1719/1719 [==============================] - 5s 3ms/step - loss: 0.4126 - accuracy: 0.8565 - val_loss: 0.3915 - val_accuracy: 0.8644\n",
      "Epoch 5/30\n",
      "1719/1719 [==============================] - 5s 3ms/step - loss: 0.3940 - accuracy: 0.8618 - val_loss: 0.3748 - val_accuracy: 0.8690\n",
      "Epoch 6/30\n",
      "1719/1719 [==============================] - 5s 3ms/step - loss: 0.3753 - accuracy: 0.8677 - val_loss: 0.3707 - val_accuracy: 0.8728\n",
      "Epoch 7/30\n",
      "1719/1719 [==============================] - 5s 3ms/step - loss: 0.3633 - accuracy: 0.8715 - val_loss: 0.3623 - val_accuracy: 0.8720\n",
      "Epoch 8/30\n",
      "1719/1719 [==============================] - 5s 3ms/step - loss: 0.3519 - accuracy: 0.8750 - val_loss: 0.3848 - val_accuracy: 0.8624\n",
      "Epoch 9/30\n",
      "1719/1719 [==============================] - 5s 3ms/step - loss: 0.3416 - accuracy: 0.8792 - val_loss: 0.3588 - val_accuracy: 0.8704\n",
      "Epoch 10/30\n",
      "1719/1719 [==============================] - 5s 3ms/step - loss: 0.3324 - accuracy: 0.8819 - val_loss: 0.3427 - val_accuracy: 0.8780\n",
      "Epoch 11/30\n",
      "1719/1719 [==============================] - 5s 3ms/step - loss: 0.3243 - accuracy: 0.8835 - val_loss: 0.3433 - val_accuracy: 0.8786\n",
      "Epoch 12/30\n",
      "1719/1719 [==============================] - 5s 3ms/step - loss: 0.3151 - accuracy: 0.8866 - val_loss: 0.3310 - val_accuracy: 0.8820\n",
      "Epoch 13/30\n",
      "1719/1719 [==============================] - 5s 3ms/step - loss: 0.3083 - accuracy: 0.8885 - val_loss: 0.3262 - val_accuracy: 0.8888\n",
      "Epoch 14/30\n",
      "1719/1719 [==============================] - 5s 3ms/step - loss: 0.3024 - accuracy: 0.8914 - val_loss: 0.3387 - val_accuracy: 0.8774\n",
      "Epoch 15/30\n",
      "1719/1719 [==============================] - 5s 3ms/step - loss: 0.2950 - accuracy: 0.8939 - val_loss: 0.3205 - val_accuracy: 0.8864\n",
      "Epoch 16/30\n",
      "1719/1719 [==============================] - 5s 3ms/step - loss: 0.2892 - accuracy: 0.8972 - val_loss: 0.3083 - val_accuracy: 0.8908\n",
      "Epoch 17/30\n",
      "1719/1719 [==============================] - 5s 3ms/step - loss: 0.2841 - accuracy: 0.8977 - val_loss: 0.3546 - val_accuracy: 0.8740\n",
      "Epoch 18/30\n",
      "1719/1719 [==============================] - 5s 3ms/step - loss: 0.2780 - accuracy: 0.9000 - val_loss: 0.3138 - val_accuracy: 0.8902\n",
      "Epoch 19/30\n",
      "1719/1719 [==============================] - 5s 3ms/step - loss: 0.2729 - accuracy: 0.9021 - val_loss: 0.3130 - val_accuracy: 0.8898\n",
      "Epoch 20/30\n",
      "1719/1719 [==============================] - 5s 3ms/step - loss: 0.2678 - accuracy: 0.9035 - val_loss: 0.3271 - val_accuracy: 0.8804\n",
      "Epoch 21/30\n",
      "1719/1719 [==============================] - 5s 3ms/step - loss: 0.2626 - accuracy: 0.9056 - val_loss: 0.3069 - val_accuracy: 0.8918\n",
      "Epoch 22/30\n",
      "1719/1719 [==============================] - 5s 3ms/step - loss: 0.2578 - accuracy: 0.9072 - val_loss: 0.2971 - val_accuracy: 0.8960\n",
      "Epoch 23/30\n",
      "1719/1719 [==============================] - 5s 3ms/step - loss: 0.2538 - accuracy: 0.9082 - val_loss: 0.2986 - val_accuracy: 0.8936\n",
      "Epoch 24/30\n",
      "1719/1719 [==============================] - 5s 3ms/step - loss: 0.2485 - accuracy: 0.9105 - val_loss: 0.3073 - val_accuracy: 0.8882\n",
      "Epoch 25/30\n",
      "1719/1719 [==============================] - 5s 3ms/step - loss: 0.2447 - accuracy: 0.9121 - val_loss: 0.2970 - val_accuracy: 0.8954\n",
      "Epoch 26/30\n",
      "1719/1719 [==============================] - 5s 3ms/step - loss: 0.2409 - accuracy: 0.9136 - val_loss: 0.3055 - val_accuracy: 0.8888\n",
      "Epoch 27/30\n",
      "1719/1719 [==============================] - 5s 3ms/step - loss: 0.2366 - accuracy: 0.9155 - val_loss: 0.3019 - val_accuracy: 0.8952\n",
      "Epoch 28/30\n",
      "1719/1719 [==============================] - 5s 3ms/step - loss: 0.2331 - accuracy: 0.9167 - val_loss: 0.2993 - val_accuracy: 0.8930\n",
      "Epoch 29/30\n",
      "1719/1719 [==============================] - 5s 3ms/step - loss: 0.2287 - accuracy: 0.9182 - val_loss: 0.3052 - val_accuracy: 0.8892\n",
      "Epoch 30/30\n",
      "1719/1719 [==============================] - 5s 3ms/step - loss: 0.2255 - accuracy: 0.9187 - val_loss: 0.3032 - val_accuracy: 0.8930\n"
     ]
    }
   ],
   "source": [
    "history = model.fit(X_train, y_train, epochs=30,validation_data=(X_valid, y_valid))"
   ]
  },
  {
   "cell_type": "code",
   "execution_count": 26,
   "metadata": {},
   "outputs": [
    {
     "data": {
      "image/png": "[encoded data removed]",
      "text/plain": [
       "<Figure size 1080x360 with 1 Axes>"
      ]
     },
     "metadata": {
      "needs_background": "light"
     },
     "output_type": "display_data"
    }
   ],
   "source": [
    "pd.DataFrame(history.history).plot(figsize=(15, 5))\n",
    "plt.grid(True)\n",
    "plt.gca().set_ylim(0, 1) # set the vertical range to [0-1]\n",
    "plt.show()"
   ]
  },
  {
   "cell_type": "code",
   "execution_count": 27,
   "metadata": {},
   "outputs": [
    {
     "name": "stdout",
     "output_type": "stream",
     "text": [
      "313/313 [==============================] - 1s 2ms/step - loss: 78.9946 - accuracy: 0.8294\n"
     ]
    },
    {
     "data": {
      "text/plain": [
       "[78.99458312988281, 0.8294000029563904]"
      ]
     },
     "execution_count": 27,
     "metadata": {},
     "output_type": "execute_result"
    }
   ],
   "source": [
    "model.evaluate(X_test, y_test)"
   ]
  },
  {
   "cell_type": "code",
   "execution_count": 28,
   "metadata": {},
   "outputs": [
    {
     "data": {
      "text/plain": [
       "array([[0., 0., 0., 0., 0., 0., 0., 0., 0., 1.],\n",
       "       [0., 0., 1., 0., 0., 0., 0., 0., 0., 0.],\n",
       "       [0., 1., 0., 0., 0., 0., 0., 0., 0., 0.]], dtype=float32)"
      ]
     },
     "execution_count": 28,
     "metadata": {},
     "output_type": "execute_result"
    }
   ],
   "source": [
    "X_new = X_test[:3]\n",
    "y_proba = model.predict(X_new)\n",
    "y_proba.round(2)"
   ]
  },
  {
   "cell_type": "code",
   "execution_count": 29,
   "metadata": {},
   "outputs": [
    {
     "data": {
      "text/plain": [
       "array(['Ankle boot', 'Pullover', 'Trouser'], dtype='<U11')"
      ]
     },
     "execution_count": 29,
     "metadata": {},
     "output_type": "execute_result"
    }
   ],
   "source": [
    "y_pred = np.argmax(model.predict(X_new),axis=1)\n",
    "np.array(class_names)[y_pred]"
   ]
  },
  {
   "cell_type": "code",
   "execution_count": 30,
   "metadata": {},
   "outputs": [],
   "source": [
    "# preparaing data for regression\n",
    "\n",
    "housing = fetch_california_housing()\n",
    "X_train_full, X_test, y_train_full, y_test = train_test_split(housing.data, housing.target)\n",
    "X_train, X_valid, y_train, y_valid = train_test_split(X_train_full, y_train_full)\n",
    "\n",
    "scaler = StandardScaler()\n",
    "X_train_scaled = scaler.fit_transform(X_train)\n",
    "X_valid_scaled = scaler.transform(X_valid)\n",
    "X_test_scaled = scaler.transform(X_test)"
   ]
  },
  {
   "cell_type": "code",
   "execution_count": 31,
   "metadata": {},
   "outputs": [],
   "source": [
    "np.random.seed(42)\n",
    "tf.random.set_seed(42)"
   ]
  },
  {
   "cell_type": "code",
   "execution_count": 32,
   "metadata": {},
   "outputs": [
    {
     "name": "stdout",
     "output_type": "stream",
     "text": [
      "Epoch 1/20\n",
      "363/363 [==============================] - 1s 2ms/step - loss: 22043.9473 - val_loss: 8.5689\n",
      "Epoch 2/20\n",
      "363/363 [==============================] - 1s 1ms/step - loss: 47.2472 - val_loss: 4.3033\n",
      "Epoch 3/20\n",
      "363/363 [==============================] - 0s 1ms/step - loss: 47.0789 - val_loss: 5.6353\n",
      "Epoch 4/20\n",
      "363/363 [==============================] - 0s 1ms/step - loss: 45.0282 - val_loss: 7.6293\n",
      "Epoch 5/20\n",
      "363/363 [==============================] - 0s 1ms/step - loss: 48.6190 - val_loss: 32.6265\n",
      "Epoch 6/20\n",
      "363/363 [==============================] - 0s 1ms/step - loss: 42.7955 - val_loss: 19.8680\n",
      "Epoch 7/20\n",
      "363/363 [==============================] - 0s 1ms/step - loss: 45.0575 - val_loss: 27.4110\n",
      "Epoch 8/20\n",
      "363/363 [==============================] - 0s 1ms/step - loss: 52.4177 - val_loss: 1.5153\n",
      "Epoch 9/20\n",
      "363/363 [==============================] - 1s 1ms/step - loss: 42.8383 - val_loss: 8.0325\n",
      "Epoch 10/20\n",
      "363/363 [==============================] - 0s 1ms/step - loss: 37.3185 - val_loss: 10.6413\n",
      "Epoch 11/20\n",
      "363/363 [==============================] - 0s 1ms/step - loss: 39.9309 - val_loss: 1.2077\n",
      "Epoch 12/20\n",
      "363/363 [==============================] - 0s 1ms/step - loss: 37.7884 - val_loss: 127.5336\n",
      "Epoch 13/20\n",
      "363/363 [==============================] - 0s 1ms/step - loss: 36.9179 - val_loss: 338.9418\n",
      "Epoch 14/20\n",
      "363/363 [==============================] - 0s 1ms/step - loss: 39.4342 - val_loss: 11.0009\n",
      "Epoch 15/20\n",
      "363/363 [==============================] - 0s 1ms/step - loss: 39.3454 - val_loss: 1.3528\n",
      "Epoch 16/20\n",
      "363/363 [==============================] - 0s 1ms/step - loss: 34.8085 - val_loss: 10.8313\n",
      "Epoch 17/20\n",
      "363/363 [==============================] - 0s 1ms/step - loss: 36.3370 - val_loss: 3.6199\n",
      "Epoch 18/20\n",
      "363/363 [==============================] - 0s 1ms/step - loss: 40.3407 - val_loss: 308.0929\n",
      "Epoch 19/20\n",
      "363/363 [==============================] - 1s 1ms/step - loss: 39.4864 - val_loss: 142.3401\n",
      "Epoch 20/20\n",
      "363/363 [==============================] - 1s 1ms/step - loss: 35.2751 - val_loss: 0.9094\n",
      "162/162 [==============================] - 0s 965us/step - loss: 0.8907\n"
     ]
    }
   ],
   "source": [
    "# ANN for regression\n",
    "model = keras.models.Sequential([keras.layers.Dense(30, activation=\"relu\", input_shape=X_train.shape[1:]),\n",
    "                                 keras.layers.Dense(1)])\n",
    "\n",
    "model.compile(loss=\"mean_squared_error\", optimizer='rmsprop')\n",
    "history = model.fit(X_train, y_train, epochs=20, validation_data=(X_valid, y_valid))\n",
    "\n",
    "mse_test = model.evaluate(X_test, y_test)\n",
    "X_new = X_test[:3]\n",
    "y_pred = model.predict(X_new)"
   ]
  },
  {
   "cell_type": "code",
   "execution_count": 33,
   "metadata": {},
   "outputs": [
    {
     "name": "stdout",
     "output_type": "stream",
     "text": [
      "0.8907460570335388\n",
      "[[1.0866421]\n",
      " [1.7713727]\n",
      " [1.8141049]]\n"
     ]
    }
   ],
   "source": [
    "print(mse_test)\n",
    "print(y_pred)"
   ]
  },
  {
   "cell_type": "code",
   "execution_count": 34,
   "metadata": {},
   "outputs": [],
   "source": [
    "# Wide and Deep Neural Network using functional API with one input\n",
    "model_in = keras.layers.Input(shape=X_train.shape[1:])\n",
    "\n",
    "hidden1 = keras.layers.Dense(30, activation=\"relu\")(model_in)\n",
    "hidden2 = keras.layers.Dense(30, activation=\"relu\")(hidden1)\n",
    "\n",
    "concat = keras.layers.Concatenate()([model_in, hidden2])\n",
    "output = keras.layers.Dense(1)(concat)\n",
    "\n",
    "model = keras.models.Model(inputs=[model_in], outputs=[output])"
   ]
  },
  {
   "cell_type": "code",
   "execution_count": 35,
   "metadata": {},
   "outputs": [
    {
     "name": "stdout",
     "output_type": "stream",
     "text": [
      "Epoch 1/20\n",
      "363/363 [==============================] - 1s 2ms/step - loss: 147.0075 - val_loss: 2.9851\n",
      "Epoch 2/20\n",
      "363/363 [==============================] - 1s 1ms/step - loss: 90.2154 - val_loss: 1.3150\n",
      "Epoch 3/20\n",
      "363/363 [==============================] - 1s 1ms/step - loss: 81.9733 - val_loss: 0.8356\n",
      "Epoch 4/20\n",
      "363/363 [==============================] - 0s 1ms/step - loss: 71.1933 - val_loss: 55.3695\n",
      "Epoch 5/20\n",
      "363/363 [==============================] - 1s 1ms/step - loss: 80.1836 - val_loss: 25.4222\n",
      "Epoch 6/20\n",
      "363/363 [==============================] - 0s 1ms/step - loss: 48.8046 - val_loss: 0.8021\n",
      "Epoch 7/20\n",
      "363/363 [==============================] - 0s 1ms/step - loss: 49.3656 - val_loss: 8.4368\n",
      "Epoch 8/20\n",
      "363/363 [==============================] - 1s 1ms/step - loss: 42.1042 - val_loss: 5.3831\n",
      "Epoch 9/20\n",
      "363/363 [==============================] - 1s 1ms/step - loss: 41.9673 - val_loss: 0.7604\n",
      "Epoch 10/20\n",
      "363/363 [==============================] - 0s 1ms/step - loss: 37.0259 - val_loss: 19.4093\n",
      "Epoch 11/20\n",
      "363/363 [==============================] - 1s 1ms/step - loss: 35.1292 - val_loss: 0.7720\n",
      "Epoch 12/20\n",
      "363/363 [==============================] - 1s 1ms/step - loss: 32.6211 - val_loss: 2.5112\n",
      "Epoch 13/20\n",
      "363/363 [==============================] - 1s 1ms/step - loss: 23.6430 - val_loss: 170.7824\n",
      "Epoch 14/20\n",
      "363/363 [==============================] - 1s 1ms/step - loss: 24.4206 - val_loss: 16.8217\n",
      "Epoch 15/20\n",
      "363/363 [==============================] - 1s 1ms/step - loss: 22.8891 - val_loss: 1.0620\n",
      "Epoch 16/20\n",
      "363/363 [==============================] - 0s 1ms/step - loss: 19.4242 - val_loss: 1.5618\n",
      "Epoch 17/20\n",
      "363/363 [==============================] - 1s 1ms/step - loss: 18.0387 - val_loss: 1.1456\n",
      "Epoch 18/20\n",
      "363/363 [==============================] - 1s 1ms/step - loss: 19.1172 - val_loss: 150.6541\n",
      "Epoch 19/20\n",
      "363/363 [==============================] - 1s 1ms/step - loss: 21.2719 - val_loss: 32.9597\n",
      "Epoch 20/20\n",
      "363/363 [==============================] - 1s 1ms/step - loss: 14.6211 - val_loss: 8.4987\n",
      "162/162 [==============================] - 0s 772us/step - loss: 8.1494\n",
      "8.149446487426758\n",
      "[[3.2451518]\n",
      " [4.14564  ]\n",
      " [4.6325126]]\n"
     ]
    }
   ],
   "source": [
    "model.compile(loss=\"mean_squared_error\", optimizer='rmsprop')\n",
    "history = model.fit(X_train, y_train, epochs=20, validation_data=(X_valid, y_valid))\n",
    "\n",
    "mse_test = model.evaluate(X_test, y_test)\n",
    "X_new = X_test[:3]\n",
    "y_pred = model.predict(X_new)\n",
    "\n",
    "print(mse_test)\n",
    "print(y_pred)"
   ]
  },
  {
   "cell_type": "code",
   "execution_count": 36,
   "metadata": {},
   "outputs": [],
   "source": [
    "# Wide and Deep Neural Network using functional API with two inputs\n",
    "\n",
    "input_A = keras.layers.Input(shape=[5])\n",
    "input_B = keras.layers.Input(shape=[6])\n",
    "\n",
    "hidden1 = keras.layers.Dense(30, activation=\"relu\")(input_B)\n",
    "hidden2 = keras.layers.Dense(30, activation=\"relu\")(hidden1)\n",
    "\n",
    "concat = keras.layers.concatenate([input_A, hidden2])\n",
    "output = keras.layers.Dense(1)(concat)\n",
    "\n",
    "model = keras.models.Model(inputs=[input_A, input_B], outputs=[output])\n",
    "model.compile(loss=\"mse\", optimizer=\"rmsprop\")"
   ]
  },
  {
   "cell_type": "code",
   "execution_count": 37,
   "metadata": {},
   "outputs": [
    {
     "name": "stdout",
     "output_type": "stream",
     "text": [
      "Epoch 1/20\n",
      "363/363 [==============================] - 1s 2ms/step - loss: 2535.0195 - val_loss: 8.2356\n",
      "Epoch 2/20\n",
      "363/363 [==============================] - 1s 2ms/step - loss: 123.8016 - val_loss: 8.6486\n",
      "Epoch 3/20\n",
      "363/363 [==============================] - 1s 2ms/step - loss: 109.1110 - val_loss: 2.8909\n",
      "Epoch 4/20\n",
      "363/363 [==============================] - 1s 1ms/step - loss: 94.3956 - val_loss: 3.3478\n",
      "Epoch 5/20\n",
      "363/363 [==============================] - 1s 2ms/step - loss: 91.5698 - val_loss: 45.9808\n",
      "Epoch 6/20\n",
      "363/363 [==============================] - 1s 2ms/step - loss: 51.1935 - val_loss: 280.8838\n",
      "Epoch 7/20\n",
      "363/363 [==============================] - 1s 1ms/step - loss: 44.9423 - val_loss: 1.8714\n",
      "Epoch 8/20\n",
      "363/363 [==============================] - 1s 2ms/step - loss: 53.3369 - val_loss: 6.5302\n",
      "Epoch 9/20\n",
      "363/363 [==============================] - 1s 1ms/step - loss: 36.9041 - val_loss: 12.1785\n",
      "Epoch 10/20\n",
      "363/363 [==============================] - 1s 1ms/step - loss: 35.0788 - val_loss: 1.6128\n",
      "Epoch 11/20\n",
      "363/363 [==============================] - 1s 1ms/step - loss: 35.2145 - val_loss: 66.6051\n",
      "Epoch 12/20\n",
      "363/363 [==============================] - 1s 1ms/step - loss: 33.9837 - val_loss: 1.4236\n",
      "Epoch 13/20\n",
      "363/363 [==============================] - 0s 1ms/step - loss: 27.8110 - val_loss: 77.1143\n",
      "Epoch 14/20\n",
      "363/363 [==============================] - 1s 1ms/step - loss: 26.2669 - val_loss: 17.3744\n",
      "Epoch 15/20\n",
      "363/363 [==============================] - 1s 1ms/step - loss: 25.2613 - val_loss: 1.0066\n",
      "Epoch 16/20\n",
      "363/363 [==============================] - 0s 1ms/step - loss: 23.9055 - val_loss: 84.6887\n",
      "Epoch 17/20\n",
      "363/363 [==============================] - 1s 1ms/step - loss: 17.8206 - val_loss: 1.1956\n",
      "Epoch 18/20\n",
      "363/363 [==============================] - 1s 1ms/step - loss: 17.6126 - val_loss: 261.7566\n",
      "Epoch 19/20\n",
      "363/363 [==============================] - 1s 1ms/step - loss: 22.6928 - val_loss: 59.8525\n",
      "Epoch 20/20\n",
      "363/363 [==============================] - 1s 1ms/step - loss: 15.7753 - val_loss: 0.7559\n",
      "162/162 [==============================] - 0s 772us/step - loss: 0.7335\n",
      "0.7334797382354736\n",
      "[[1.3146174]\n",
      " [1.7403414]\n",
      " [2.3601744]]\n"
     ]
    }
   ],
   "source": [
    "X_train_A, X_train_B = X_train[:, :5], X_train[:, 2:]\n",
    "X_valid_A, X_valid_B = X_valid[:, :5], X_valid[:, 2:]\n",
    "\n",
    "X_test_A, X_test_B = X_test[:, :5], X_test[:, 2:]\n",
    "X_new_A, X_new_B = X_test_A[:3], X_test_B[:3]\n",
    "\n",
    "history = model.fit((X_train_A, X_train_B), y_train, epochs=20,validation_data=((X_valid_A, X_valid_B), y_valid))\n",
    "mse_test = model.evaluate((X_test_A, X_test_B), y_test)\n",
    "y_pred = model.predict((X_new_A, X_new_B))\n",
    "\n",
    "print(mse_test)\n",
    "print(y_pred)          "
   ]
  },
  {
   "cell_type": "code",
   "execution_count": 38,
   "metadata": {},
   "outputs": [],
   "source": [
    "# model with two input and two output\n",
    "input_A = keras.layers.Input(shape=[5], name=\"wide_input\")\n",
    "input_B = keras.layers.Input(shape=[6], name=\"deep_input\")\n",
    "\n",
    "hidden1 = keras.layers.Dense(30, activation=\"relu\")(input_B)\n",
    "hidden2 = keras.layers.Dense(30, activation=\"relu\")(hidden1)\n",
    "\n",
    "concat = keras.layers.concatenate([input_A, hidden2])\n",
    "output = keras.layers.Dense(1, name=\"main_output\")(concat)\n",
    "\n",
    "aux_output = keras.layers.Dense(1, name=\"aux_output\")(hidden2)\n",
    "\n",
    "# multiple output\n",
    "model = keras.models.Model(inputs=[input_A, input_B],outputs=[output, aux_output])"
   ]
  },
  {
   "cell_type": "code",
   "execution_count": 39,
   "metadata": {},
   "outputs": [],
   "source": [
    "# loss and weight for each output \n",
    "model.compile(loss=[\"mse\", \"mse\"], loss_weights=[0.9, 0.1], optimizer=\"rmsprop\")"
   ]
  },
  {
   "cell_type": "code",
   "execution_count": 40,
   "metadata": {},
   "outputs": [
    {
     "name": "stdout",
     "output_type": "stream",
     "text": [
      "Epoch 1/20\n",
      "363/363 [==============================] - 1s 2ms/step - loss: 456.4582 - main_output_loss: 484.7685 - aux_output_loss: 201.6651 - val_loss: 49.0452 - val_main_output_loss: 52.2290 - val_aux_output_loss: 20.3904\n",
      "Epoch 2/20\n",
      "363/363 [==============================] - 1s 2ms/step - loss: 143.0918 - main_output_loss: 153.4250 - aux_output_loss: 50.0928 - val_loss: 7.8384 - val_main_output_loss: 7.1844 - val_aux_output_loss: 13.7246\n",
      "Epoch 3/20\n",
      "363/363 [==============================] - 1s 2ms/step - loss: 126.5891 - main_output_loss: 135.5635 - aux_output_loss: 45.8188 - val_loss: 5.0849 - val_main_output_loss: 4.5745 - val_aux_output_loss: 9.6786\n",
      "Epoch 4/20\n",
      "363/363 [==============================] - 1s 2ms/step - loss: 87.5134 - main_output_loss: 92.8687 - aux_output_loss: 39.3158 - val_loss: 3.1866 - val_main_output_loss: 2.7894 - val_aux_output_loss: 6.7607\n",
      "Epoch 5/20\n",
      "363/363 [==============================] - 1s 2ms/step - loss: 83.5235 - main_output_loss: 86.6924 - aux_output_loss: 55.0038 - val_loss: 3.1713 - val_main_output_loss: 2.5561 - val_aux_output_loss: 8.7080\n",
      "Epoch 6/20\n",
      "363/363 [==============================] - 1s 2ms/step - loss: 56.5233 - main_output_loss: 60.5138 - aux_output_loss: 20.6088 - val_loss: 9.5987 - val_main_output_loss: 9.6633 - val_aux_output_loss: 9.0175\n",
      "Epoch 7/20\n",
      "363/363 [==============================] - 1s 2ms/step - loss: 46.7079 - main_output_loss: 49.1516 - aux_output_loss: 24.7143 - val_loss: 1.3667 - val_main_output_loss: 1.3002 - val_aux_output_loss: 1.9647\n",
      "Epoch 8/20\n",
      "363/363 [==============================] - 1s 2ms/step - loss: 36.7723 - main_output_loss: 37.4828 - aux_output_loss: 30.3773 - val_loss: 278.6000 - val_main_output_loss: 301.9402 - val_aux_output_loss: 68.5376\n",
      "Epoch 9/20\n",
      "363/363 [==============================] - 1s 2ms/step - loss: 30.4434 - main_output_loss: 31.1715 - aux_output_loss: 23.8907 - val_loss: 4.3207 - val_main_output_loss: 4.5545 - val_aux_output_loss: 2.2167\n",
      "Epoch 10/20\n",
      "363/363 [==============================] - 1s 2ms/step - loss: 21.4346 - main_output_loss: 21.9619 - aux_output_loss: 16.6889 - val_loss: 2.2045 - val_main_output_loss: 2.1391 - val_aux_output_loss: 2.7932\n",
      "Epoch 11/20\n",
      "363/363 [==============================] - 1s 2ms/step - loss: 18.0233 - main_output_loss: 18.5196 - aux_output_loss: 13.5560 - val_loss: 65.1413 - val_main_output_loss: 70.6698 - val_aux_output_loss: 15.3848\n",
      "Epoch 12/20\n",
      "363/363 [==============================] - 1s 2ms/step - loss: 16.9692 - main_output_loss: 17.3889 - aux_output_loss: 13.1922 - val_loss: 1.4162 - val_main_output_loss: 1.2785 - val_aux_output_loss: 2.6551\n",
      "Epoch 13/20\n",
      "363/363 [==============================] - 1s 2ms/step - loss: 11.7128 - main_output_loss: 11.7995 - aux_output_loss: 10.9328 - val_loss: 119.2353 - val_main_output_loss: 127.3507 - val_aux_output_loss: 46.1968\n",
      "Epoch 14/20\n",
      "363/363 [==============================] - 1s 2ms/step - loss: 11.0753 - main_output_loss: 11.1842 - aux_output_loss: 10.0953 - val_loss: 5.7878 - val_main_output_loss: 5.6372 - val_aux_output_loss: 7.1431\n",
      "Epoch 15/20\n",
      "363/363 [==============================] - 1s 2ms/step - loss: 10.0166 - main_output_loss: 10.3275 - aux_output_loss: 7.2185 - val_loss: 1.0795 - val_main_output_loss: 0.8317 - val_aux_output_loss: 3.3100\n",
      "Epoch 16/20\n",
      "363/363 [==============================] - 1s 2ms/step - loss: 8.4675 - main_output_loss: 8.8449 - aux_output_loss: 5.0709 - val_loss: 42.1576 - val_main_output_loss: 45.1147 - val_aux_output_loss: 15.5429\n",
      "Epoch 17/20\n",
      "363/363 [==============================] - 1s 2ms/step - loss: 8.4716 - main_output_loss: 8.8889 - aux_output_loss: 4.7154 - val_loss: 1.0834 - val_main_output_loss: 1.0172 - val_aux_output_loss: 1.6794\n",
      "Epoch 18/20\n",
      "363/363 [==============================] - 1s 2ms/step - loss: 8.2642 - main_output_loss: 8.6816 - aux_output_loss: 4.5085 - val_loss: 114.3419 - val_main_output_loss: 126.4381 - val_aux_output_loss: 5.4766\n",
      "Epoch 19/20\n",
      "363/363 [==============================] - 1s 2ms/step - loss: 11.2492 - main_output_loss: 12.0044 - aux_output_loss: 4.4520 - val_loss: 26.7180 - val_main_output_loss: 28.6203 - val_aux_output_loss: 9.5974\n",
      "Epoch 20/20\n",
      "363/363 [==============================] - 1s 2ms/step - loss: 8.2439 - main_output_loss: 8.5979 - aux_output_loss: 5.0582 - val_loss: 0.7914 - val_main_output_loss: 0.7119 - val_aux_output_loss: 1.5072\n"
     ]
    }
   ],
   "source": [
    "history = model.fit([X_train_A, X_train_B], [y_train, y_train], epochs=20,\n",
    "                    validation_data=([X_valid_A, X_valid_B], [y_valid, y_valid]))"
   ]
  },
  {
   "cell_type": "code",
   "execution_count": 41,
   "metadata": {},
   "outputs": [
    {
     "name": "stdout",
     "output_type": "stream",
     "text": [
      "162/162 [==============================] - 0s 1ms/step - loss: 0.7698 - main_output_loss: 0.6882 - aux_output_loss: 1.5039\n"
     ]
    },
    {
     "data": {
      "text/plain": [
       "(0.7698028683662415, 0.6882373690605164, 1.5038928985595703)"
      ]
     },
     "execution_count": 41,
     "metadata": {},
     "output_type": "execute_result"
    }
   ],
   "source": [
    "total_loss, main_loss, aux_loss = model.evaluate([X_test_A, X_test_B], [y_test, y_test])\n",
    "total_loss, main_loss, aux_loss "
   ]
  },
  {
   "cell_type": "code",
   "execution_count": 42,
   "metadata": {},
   "outputs": [
    {
     "data": {
      "text/plain": [
       "0.7698029220104218"
      ]
     },
     "execution_count": 42,
     "metadata": {},
     "output_type": "execute_result"
    }
   ],
   "source": [
    "0.9*main_loss + 0.1 * aux_loss"
   ]
  },
  {
   "cell_type": "code",
   "execution_count": 43,
   "metadata": {},
   "outputs": [
    {
     "name": "stdout",
     "output_type": "stream",
     "text": [
      "WARNING:tensorflow:5 out of the last 6 calls to <function Model.make_predict_function.<locals>.predict_function at 0x000001A5E92FD268> triggered tf.function retracing. Tracing is expensive and the excessive number of tracings could be due to (1) creating @tf.function repeatedly in a loop, (2) passing tensors with different shapes, (3) passing Python objects instead of tensors. For (1), please define your @tf.function outside of the loop. For (2), @tf.function has experimental_relax_shapes=True option that relaxes argument shapes that can avoid unnecessary retracing. For (3), please refer to https://www.tensorflow.org/tutorials/customization/performance#python_or_tensor_args and https://www.tensorflow.org/api_docs/python/tf/function for  more details.\n"
     ]
    },
    {
     "data": {
      "text/plain": [
       "(array([[1.1734118],\n",
       "        [1.597095 ],\n",
       "        [2.1400104]], dtype=float32),)"
      ]
     },
     "execution_count": 43,
     "metadata": {},
     "output_type": "execute_result"
    }
   ],
   "source": [
    "y_pred_main, y_pred_aux = model.predict([X_new_A, X_new_B])\n",
    "y_pred_main, "
   ]
  },
  {
   "cell_type": "code",
   "execution_count": 44,
   "metadata": {},
   "outputs": [
    {
     "data": {
      "text/plain": [
       "array([[1.2522546],\n",
       "       [1.4913131],\n",
       "       [1.2300426]], dtype=float32)"
      ]
     },
     "execution_count": 44,
     "metadata": {},
     "output_type": "execute_result"
    }
   ],
   "source": [
    "y_pred_aux"
   ]
  },
  {
   "cell_type": "code",
   "execution_count": 45,
   "metadata": {},
   "outputs": [],
   "source": [
    "### Model building using subclassing API\n",
    "class WideAndDeepModel(keras.models.Model):\n",
    "\n",
    "    def __init__(self, units=30, activation=\"relu\", **kwargs):\n",
    "        super().__init__(**kwargs) # handles standard args (e.g., name)\n",
    "        \n",
    "        self.hidden1 = keras.layers.Dense(units, activation=activation)\n",
    "        self.hidden2 = keras.layers.Dense(units, activation=activation)\n",
    "        \n",
    "        self.main_output = keras.layers.Dense(1)\n",
    "        self.aux_output = keras.layers.Dense(1)\n",
    "    \n",
    "    def call(self, inputs):\n",
    "        input_A, input_B = inputs\n",
    "        \n",
    "        hidden1 = self.hidden1(input_B)\n",
    "        hidden2 = self.hidden2(hidden1)\n",
    "       \n",
    "        concat = keras.layers.concatenate([input_A, hidden2])\n",
    "        \n",
    "        main_output = self.main_output(concat)\n",
    "        aux_output = self.aux_output(hidden2)\n",
    "        \n",
    "        return main_output, aux_output\n",
    "\n",
    "sub_class_model = WideAndDeepModel()"
   ]
  },
  {
   "cell_type": "code",
   "execution_count": 46,
   "metadata": {},
   "outputs": [
    {
     "name": "stdout",
     "output_type": "stream",
     "text": [
      "Epoch 1/10\n",
      "363/363 [==============================] - 1s 2ms/step - loss: 261.5790 - output_1_loss: 263.7236 - output_2_loss: 242.2760 - val_loss: 6.4824 - val_output_1_loss: 6.6376 - val_output_2_loss: 5.0853\n",
      "Epoch 2/10\n",
      "363/363 [==============================] - 1s 2ms/step - loss: 165.2875 - output_1_loss: 182.4976 - output_2_loss: 10.3961 - val_loss: 272.5189 - val_output_1_loss: 301.8724 - val_output_2_loss: 8.3383\n",
      "Epoch 3/10\n",
      "363/363 [==============================] - 1s 2ms/step - loss: 155.1221 - output_1_loss: 171.3842 - output_2_loss: 8.7643 - val_loss: 15.3073 - val_output_1_loss: 16.6669 - val_output_2_loss: 3.0710\n",
      "Epoch 4/10\n",
      "363/363 [==============================] - 1s 2ms/step - loss: 130.9639 - output_1_loss: 144.6144 - output_2_loss: 8.1090 - val_loss: 6.2793 - val_output_1_loss: 6.4602 - val_output_2_loss: 4.6515\n",
      "Epoch 5/10\n",
      "363/363 [==============================] - 1s 2ms/step - loss: 146.7577 - output_1_loss: 161.3253 - output_2_loss: 15.6495 - val_loss: 34.8653 - val_output_1_loss: 38.2551 - val_output_2_loss: 4.3568\n",
      "Epoch 6/10\n",
      "363/363 [==============================] - 1s 2ms/step - loss: 107.8161 - output_1_loss: 119.0137 - output_2_loss: 7.0388 - val_loss: 259.0634 - val_output_1_loss: 286.7392 - val_output_2_loss: 9.9810\n",
      "Epoch 7/10\n",
      "363/363 [==============================] - 1s 2ms/step - loss: 95.9621 - output_1_loss: 105.9384 - output_2_loss: 6.1757 - val_loss: 31.1531 - val_output_1_loss: 34.2004 - val_output_2_loss: 3.7275\n",
      "Epoch 8/10\n",
      "363/363 [==============================] - 1s 2ms/step - loss: 85.7509 - output_1_loss: 94.4707 - output_2_loss: 7.2729 - val_loss: 566.8775 - val_output_1_loss: 626.2820 - val_output_2_loss: 32.2356\n",
      "Epoch 9/10\n",
      "363/363 [==============================] - 1s 2ms/step - loss: 82.7103 - output_1_loss: 90.6159 - output_2_loss: 11.5593 - val_loss: 1.5339 - val_output_1_loss: 1.3575 - val_output_2_loss: 3.1219\n",
      "Epoch 10/10\n",
      "363/363 [==============================] - 1s 2ms/step - loss: 72.8222 - output_1_loss: 79.9767 - output_2_loss: 8.4317 - val_loss: 4.5064 - val_output_1_loss: 4.7076 - val_output_2_loss: 2.6953\n",
      "162/162 [==============================] - 0s 965us/step - loss: 4.0877 - output_1_loss: 4.2917 - output_2_loss: 2.2520\n",
      "WARNING:tensorflow:6 out of the last 7 calls to <function Model.make_predict_function.<locals>.predict_function at 0x000001A5EB370840> triggered tf.function retracing. Tracing is expensive and the excessive number of tracings could be due to (1) creating @tf.function repeatedly in a loop, (2) passing tensors with different shapes, (3) passing Python objects instead of tensors. For (1), please define your @tf.function outside of the loop. For (2), @tf.function has experimental_relax_shapes=True option that relaxes argument shapes that can avoid unnecessary retracing. For (3), please refer to https://www.tensorflow.org/tutorials/customization/performance#python_or_tensor_args and https://www.tensorflow.org/api_docs/python/tf/function for  more details.\n"
     ]
    }
   ],
   "source": [
    "keras.backend.clear_session()\n",
    "np.random.seed(42)\n",
    "tf.random.set_seed(42)\n",
    "\n",
    "sub_class_model.compile(loss=\"mse\", loss_weights=[0.9, 0.1], optimizer='rmsprop')\n",
    "\n",
    "history = sub_class_model.fit((X_train_A, X_train_B), (y_train, y_train), epochs=10,\n",
    "                              validation_data=((X_valid_A, X_valid_B), (y_valid, y_valid)))\n",
    "\n",
    "total_loss, main_loss, aux_loss = sub_class_model.evaluate((X_test_A, X_test_B), (y_test, y_test))\n",
    "\n",
    "y_pred_main, y_pred_aux = sub_class_model.predict((X_new_A, X_new_B))"
   ]
  },
  {
   "cell_type": "code",
   "execution_count": 47,
   "metadata": {},
   "outputs": [
    {
     "name": "stdout",
     "output_type": "stream",
     "text": [
      "Epoch 1/10\n",
      "363/363 [==============================] - 1s 2ms/step - loss: 672.7534 - val_loss: 82.4977\n",
      "Epoch 2/10\n",
      "363/363 [==============================] - 0s 1ms/step - loss: 381.5422 - val_loss: 1086.3650\n",
      "Epoch 3/10\n",
      "363/363 [==============================] - 0s 1ms/step - loss: 328.2492 - val_loss: 13.7559\n",
      "Epoch 4/10\n",
      "363/363 [==============================] - 0s 1ms/step - loss: 275.6665 - val_loss: 22.9317\n",
      "Epoch 5/10\n",
      "363/363 [==============================] - 0s 1ms/step - loss: 270.0629 - val_loss: 19.3198\n",
      "Epoch 6/10\n",
      "363/363 [==============================] - 0s 1ms/step - loss: 218.5030 - val_loss: 620.9624\n",
      "Epoch 7/10\n",
      "363/363 [==============================] - 0s 1ms/step - loss: 182.2321 - val_loss: 3.1678\n",
      "Epoch 8/10\n",
      "363/363 [==============================] - 0s 1ms/step - loss: 237.4891 - val_loss: 6.0228\n",
      "Epoch 9/10\n",
      "363/363 [==============================] - 0s 1ms/step - loss: 175.4698 - val_loss: 1.8787\n",
      "Epoch 10/10\n",
      "363/363 [==============================] - 0s 1ms/step - loss: 155.1455 - val_loss: 2.0824\n",
      "162/162 [==============================] - 0s 675us/step - loss: 2.0590\n"
     ]
    }
   ],
   "source": [
    "model = keras.models.Sequential([keras.layers.Dense(30, activation=\"relu\", input_shape=[8]),\n",
    "                                 keras.layers.Dense(30, activation=\"relu\"),\n",
    "                                 keras.layers.Dense(1)])\n",
    "\n",
    "model.compile(loss=\"mse\", optimizer='rmsprop')\n",
    "history = model.fit(X_train, y_train, epochs=10, validation_data=(X_valid, y_valid))\n",
    "mse_test = model.evaluate(X_test, y_test)"
   ]
  },
  {
   "cell_type": "code",
   "execution_count": 48,
   "metadata": {},
   "outputs": [],
   "source": [
    "# saving & restoring model\n",
    "model.save(\"my_keras_model.h5\")\n",
    "model = keras.models.load_model(\"my_keras_model.h5\")"
   ]
  },
  {
   "cell_type": "code",
   "execution_count": 49,
   "metadata": {},
   "outputs": [
    {
     "name": "stdout",
     "output_type": "stream",
     "text": [
      "Epoch 1/10\n",
      "337/363 [==========================>...] - ETA: 0s - loss: 140.4432WARNING:tensorflow:Can save best model only with val_loss available, skipping.\n",
      "363/363 [==============================] - 0s 1ms/step - loss: 142.4475\n",
      "Epoch 2/10\n",
      "321/363 [=========================>....] - ETA: 0s - loss: 136.2672WARNING:tensorflow:Can save best model only with val_loss available, skipping.\n",
      "363/363 [==============================] - 0s 1ms/step - loss: 127.6945\n",
      "Epoch 3/10\n",
      "358/363 [============================>.] - ETA: 0s - loss: 117.6271WARNING:tensorflow:Can save best model only with val_loss available, skipping.\n",
      "363/363 [==============================] - 0s 1ms/step - loss: 118.3889\n",
      "Epoch 4/10\n",
      "360/363 [============================>.] - ETA: 0s - loss: 106.7131WARNING:tensorflow:Can save best model only with val_loss available, skipping.\n",
      "363/363 [==============================] - 0s 1ms/step - loss: 105.9028\n",
      "Epoch 5/10\n",
      "363/363 [==============================] - ETA: 0s - loss: 99.4294WARNING:tensorflow:Can save best model only with val_loss available, skipping.\n",
      "363/363 [==============================] - 0s 1ms/step - loss: 99.4294\n",
      "Epoch 6/10\n",
      "353/363 [============================>.] - ETA: 0s - loss: 72.9428WARNING:tensorflow:Can save best model only with val_loss available, skipping.\n",
      "363/363 [==============================] - 0s 1ms/step - loss: 72.9203\n",
      "Epoch 7/10\n",
      "331/363 [==========================>...] - ETA: 0s - loss: 59.0476WARNING:tensorflow:Can save best model only with val_loss available, skipping.\n",
      "363/363 [==============================] - 0s 1ms/step - loss: 58.1188\n",
      "Epoch 8/10\n",
      "360/363 [============================>.] - ETA: 0s - loss: 55.1287WARNING:tensorflow:Can save best model only with val_loss available, skipping.\n",
      "363/363 [==============================] - 0s 1ms/step - loss: 54.7203\n",
      "Epoch 9/10\n",
      "356/363 [============================>.] - ETA: 0s - loss: 43.7605WARNING:tensorflow:Can save best model only with val_loss available, skipping.\n",
      "363/363 [==============================] - 0s 1ms/step - loss: 44.4880\n",
      "Epoch 10/10\n",
      "355/363 [============================>.] - ETA: 0s - loss: 37.1205WARNING:tensorflow:Can save best model only with val_loss available, skipping.\n",
      "363/363 [==============================] - 0s 1ms/step - loss: 37.4061\n"
     ]
    }
   ],
   "source": [
    "# callbacks to save checkpoint\n",
    "# checkpoint_cb = keras.callbacks.ModelCheckpoint(\"my_keras_model.h5\")\n",
    "checkpoint_cb = keras.callbacks.ModelCheckpoint(\"my_keras_model.h5\",save_best_only=True)\n",
    "history = model.fit(X_train, y_train, epochs=10, callbacks=[checkpoint_cb])"
   ]
  },
  {
   "cell_type": "code",
   "execution_count": 50,
   "metadata": {},
   "outputs": [
    {
     "name": "stdout",
     "output_type": "stream",
     "text": [
      "Epoch 1/100\n",
      "363/363 [==============================] - 1s 2ms/step - loss: 43.0082 - val_loss: 1.5227\n",
      "Epoch 2/100\n",
      "363/363 [==============================] - 1s 2ms/step - loss: 35.0147 - val_loss: 29.5000\n",
      "Epoch 3/100\n",
      "363/363 [==============================] - 1s 2ms/step - loss: 34.7994 - val_loss: 1.7463\n",
      "Epoch 4/100\n",
      "363/363 [==============================] - 1s 1ms/step - loss: 31.9502 - val_loss: 4.1358\n",
      "Epoch 5/100\n",
      "363/363 [==============================] - 1s 1ms/step - loss: 43.8798 - val_loss: 10.3506\n",
      "Epoch 6/100\n",
      "363/363 [==============================] - 1s 2ms/step - loss: 27.5931 - val_loss: 132.9028\n",
      "Epoch 7/100\n",
      "363/363 [==============================] - 1s 1ms/step - loss: 24.6392 - val_loss: 13.4895\n",
      "Epoch 8/100\n",
      "363/363 [==============================] - 1s 2ms/step - loss: 29.3407 - val_loss: 4.6200\n",
      "Epoch 9/100\n",
      "363/363 [==============================] - 1s 2ms/step - loss: 21.4222 - val_loss: 1.0363\n",
      "Epoch 10/100\n",
      "363/363 [==============================] - 1s 1ms/step - loss: 20.3197 - val_loss: 11.5390\n",
      "Epoch 11/100\n",
      "363/363 [==============================] - 1s 2ms/step - loss: 19.1564 - val_loss: 17.0297\n",
      "Epoch 12/100\n",
      "363/363 [==============================] - 1s 2ms/step - loss: 17.8938 - val_loss: 1.1363\n",
      "Epoch 13/100\n",
      "363/363 [==============================] - 1s 2ms/step - loss: 15.9808 - val_loss: 174.1543\n",
      "Epoch 14/100\n",
      "363/363 [==============================] - 1s 2ms/step - loss: 16.9455 - val_loss: 17.6112\n",
      "Epoch 15/100\n",
      "363/363 [==============================] - 1s 1ms/step - loss: 15.0432 - val_loss: 16.8166\n",
      "Epoch 16/100\n",
      "363/363 [==============================] - 0s 1ms/step - loss: 14.4338 - val_loss: 48.3257\n",
      "Epoch 17/100\n",
      "363/363 [==============================] - 1s 2ms/step - loss: 14.2490 - val_loss: 0.8568\n",
      "Epoch 18/100\n",
      "363/363 [==============================] - 1s 1ms/step - loss: 15.3219 - val_loss: 142.3888\n",
      "Epoch 19/100\n",
      "363/363 [==============================] - 0s 1ms/step - loss: 17.7785 - val_loss: 48.7664\n",
      "Epoch 20/100\n",
      "363/363 [==============================] - 1s 1ms/step - loss: 12.9965 - val_loss: 0.8074\n",
      "Epoch 21/100\n",
      "363/363 [==============================] - 0s 1ms/step - loss: 15.5397 - val_loss: 39.4429\n",
      "Epoch 22/100\n",
      "363/363 [==============================] - 0s 1ms/step - loss: 13.4506 - val_loss: 0.8316\n",
      "Epoch 23/100\n",
      "363/363 [==============================] - 0s 1ms/step - loss: 10.7010 - val_loss: 90.0636\n",
      "Epoch 24/100\n",
      "363/363 [==============================] - 0s 1ms/step - loss: 12.3270 - val_loss: 0.8165\n",
      "Epoch 25/100\n",
      "363/363 [==============================] - 1s 1ms/step - loss: 10.1973 - val_loss: 1.0208\n",
      "Epoch 26/100\n",
      "363/363 [==============================] - 0s 1ms/step - loss: 9.8455 - val_loss: 1.8928\n",
      "Epoch 27/100\n",
      "363/363 [==============================] - 1s 1ms/step - loss: 9.8855 - val_loss: 0.8507\n",
      "Epoch 28/100\n",
      "363/363 [==============================] - 1s 2ms/step - loss: 9.1096 - val_loss: 0.7998\n",
      "Epoch 29/100\n",
      "363/363 [==============================] - 0s 1ms/step - loss: 8.8293 - val_loss: 20.8727\n",
      "Epoch 30/100\n",
      "363/363 [==============================] - 1s 1ms/step - loss: 7.7320 - val_loss: 2.3208\n",
      "Epoch 31/100\n",
      "363/363 [==============================] - 1s 2ms/step - loss: 7.7876 - val_loss: 0.7614\n",
      "Epoch 32/100\n",
      "363/363 [==============================] - 1s 1ms/step - loss: 8.8805 - val_loss: 2.1498\n",
      "Epoch 33/100\n",
      "363/363 [==============================] - 0s 1ms/step - loss: 6.9693 - val_loss: 1.6282\n",
      "Epoch 34/100\n",
      "363/363 [==============================] - 0s 1ms/step - loss: 8.5574 - val_loss: 13.0376\n",
      "Epoch 35/100\n",
      "363/363 [==============================] - 0s 1ms/step - loss: 6.7892 - val_loss: 0.7910\n",
      "Epoch 36/100\n",
      "363/363 [==============================] - 0s 1ms/step - loss: 6.0077 - val_loss: 0.7700\n",
      "Epoch 37/100\n",
      "363/363 [==============================] - 1s 1ms/step - loss: 5.4075 - val_loss: 13.9782\n",
      "Epoch 38/100\n",
      "363/363 [==============================] - 0s 1ms/step - loss: 5.4763 - val_loss: 0.7846\n",
      "Epoch 39/100\n",
      "363/363 [==============================] - 0s 1ms/step - loss: 6.3014 - val_loss: 0.8599\n",
      "Epoch 40/100\n",
      "363/363 [==============================] - 0s 1ms/step - loss: 4.1195 - val_loss: 0.7840\n",
      "Epoch 41/100\n",
      "363/363 [==============================] - 1s 1ms/step - loss: 4.1336 - val_loss: 0.8701\n"
     ]
    }
   ],
   "source": [
    "# early stopping\n",
    "early_stopping_cb = keras.callbacks.EarlyStopping(patience=10,restore_best_weights=True)\n",
    "history = model.fit(X_train, y_train, epochs=100,validation_data=(X_valid, y_valid),callbacks=[checkpoint_cb, early_stopping_cb])"
   ]
  },
  {
   "cell_type": "code",
   "execution_count": 51,
   "metadata": {},
   "outputs": [],
   "source": [
    "# Tensorboard\n",
    "root_logdir = os.path.join(os.curdir, \"my_logs\")\n",
    "\n",
    "def get_run_logdir():\n",
    "    import time\n",
    "    run_id = time.strftime(\"run_%Y_%m_%d-%H_%M_%S\")\n",
    "    return os.path.join(root_logdir, run_id)\n",
    "\n",
    "run_logdir = get_run_logdir() # e.g., './my_logs/run_2019_01_16-11_28_43'"
   ]
  },
  {
   "cell_type": "code",
   "execution_count": 52,
   "metadata": {},
   "outputs": [],
   "source": [
    "model = keras.models.Sequential([keras.layers.Dense(30, activation=\"relu\", input_shape=[8]),\n",
    "                                 keras.layers.Dense(30, activation=\"relu\"),\n",
    "                                 keras.layers.Dense(1)])\n",
    "\n",
    "model.compile(loss=\"mse\", optimizer='rmsprop')"
   ]
  },
  {
   "cell_type": "code",
   "execution_count": 53,
   "metadata": {},
   "outputs": [
    {
     "name": "stdout",
     "output_type": "stream",
     "text": [
      "Epoch 1/30\n",
      "  1/363 [..............................] - ETA: 0s - loss: 63714.3125WARNING:tensorflow:From c:\\program files\\python36\\lib\\site-packages\\tensorflow\\python\\ops\\summary_ops_v2.py:1277: stop (from tensorflow.python.eager.profiler) is deprecated and will be removed after 2020-07-01.\n",
      "Instructions for updating:\n",
      "use `tf.profiler.experimental.stop` instead.\n",
      "  2/363 [..............................] - ETA: 1:33 - loss: 40874.0977WARNING:tensorflow:Callbacks method `on_train_batch_end` is slow compared to the batch time (batch time: 0.0000s vs `on_train_batch_end` time: 0.5158s). Check your callbacks.\n",
      "363/363 [==============================] - 1s 4ms/step - loss: 382.9419 - val_loss: 53.3961\n",
      "Epoch 2/30\n",
      "363/363 [==============================] - 1s 2ms/step - loss: 111.5775 - val_loss: 79.1232\n",
      "Epoch 3/30\n",
      "363/363 [==============================] - 1s 2ms/step - loss: 90.7779 - val_loss: 2.3024\n",
      "Epoch 4/30\n",
      "363/363 [==============================] - 1s 2ms/step - loss: 71.5392 - val_loss: 1.8784\n",
      "Epoch 5/30\n",
      "363/363 [==============================] - 1s 2ms/step - loss: 90.3656 - val_loss: 24.7476\n",
      "Epoch 6/30\n",
      "363/363 [==============================] - 1s 2ms/step - loss: 48.2158 - val_loss: 5.1613\n",
      "Epoch 7/30\n",
      "363/363 [==============================] - 1s 2ms/step - loss: 37.7393 - val_loss: 28.2299\n",
      "Epoch 8/30\n",
      "363/363 [==============================] - 1s 2ms/step - loss: 38.7293 - val_loss: 232.9263\n",
      "Epoch 9/30\n",
      "363/363 [==============================] - 1s 2ms/step - loss: 31.6435 - val_loss: 73.6129\n",
      "Epoch 10/30\n",
      "363/363 [==============================] - 1s 2ms/step - loss: 23.1872 - val_loss: 1.3924\n",
      "Epoch 11/30\n",
      "363/363 [==============================] - 1s 2ms/step - loss: 19.7307 - val_loss: 1.0755\n",
      "Epoch 12/30\n",
      "363/363 [==============================] - 1s 2ms/step - loss: 18.6429 - val_loss: 1.4450\n",
      "Epoch 13/30\n",
      "363/363 [==============================] - 1s 1ms/step - loss: 14.6587 - val_loss: 57.2552\n",
      "Epoch 14/30\n",
      "363/363 [==============================] - 1s 2ms/step - loss: 14.3809 - val_loss: 97.7436\n",
      "Epoch 15/30\n",
      "363/363 [==============================] - 1s 2ms/step - loss: 12.7651 - val_loss: 1.0215\n",
      "Epoch 16/30\n",
      "363/363 [==============================] - 1s 1ms/step - loss: 11.1323 - val_loss: 9.1569\n",
      "Epoch 17/30\n",
      "363/363 [==============================] - 1s 2ms/step - loss: 9.3488 - val_loss: 1.0190\n",
      "Epoch 18/30\n",
      "363/363 [==============================] - 1s 2ms/step - loss: 9.9891 - val_loss: 19.6679\n",
      "Epoch 19/30\n",
      "363/363 [==============================] - 1s 1ms/step - loss: 9.7629 - val_loss: 19.0314\n",
      "Epoch 20/30\n",
      "363/363 [==============================] - 1s 1ms/step - loss: 6.3452 - val_loss: 1.1664\n",
      "Epoch 21/30\n",
      "363/363 [==============================] - 1s 2ms/step - loss: 4.9788 - val_loss: 5.7944\n",
      "Epoch 22/30\n",
      "363/363 [==============================] - 1s 2ms/step - loss: 3.8900 - val_loss: 0.9856\n",
      "Epoch 23/30\n",
      "363/363 [==============================] - 1s 2ms/step - loss: 3.4845 - val_loss: 8.4938\n",
      "Epoch 24/30\n",
      "363/363 [==============================] - 1s 1ms/step - loss: 2.6512 - val_loss: 1.0808\n",
      "Epoch 25/30\n",
      "363/363 [==============================] - 1s 2ms/step - loss: 2.0689 - val_loss: 0.8675\n",
      "Epoch 26/30\n",
      "363/363 [==============================] - 1s 2ms/step - loss: 1.9528 - val_loss: 0.7689\n",
      "Epoch 27/30\n",
      "363/363 [==============================] - 1s 2ms/step - loss: 1.5405 - val_loss: 0.9068\n",
      "Epoch 28/30\n",
      "363/363 [==============================] - 1s 1ms/step - loss: 1.4130 - val_loss: 0.9943\n",
      "Epoch 29/30\n",
      "363/363 [==============================] - 1s 2ms/step - loss: 1.1930 - val_loss: 1.2183\n",
      "Epoch 30/30\n",
      "363/363 [==============================] - 1s 2ms/step - loss: 1.0605 - val_loss: 0.7225\n"
     ]
    }
   ],
   "source": [
    "# run tensorboard command :  tensorboard --logdir=./my_logs --port=6006\n",
    "tensorboard_cb = keras.callbacks.TensorBoard(run_logdir)\n",
    "history = model.fit(X_train, y_train, epochs=30,validation_data=(X_valid, y_valid),callbacks=[tensorboard_cb])"
   ]
  },
  {
   "cell_type": "code",
   "execution_count": 62,
   "metadata": {},
   "outputs": [],
   "source": [
    "keras.backend.clear_session()\n",
    "np.random.seed(42)\n",
    "tf.random.set_seed(42)"
   ]
  },
  {
   "cell_type": "code",
   "execution_count": 63,
   "metadata": {},
   "outputs": [],
   "source": [
    "## Hyperparameter tunning\n",
    "def build_model(n_hidden=1, n_neurons=30, learning_rate=3e-3, input_shape=[8]):\n",
    "    model = keras.models.Sequential()\n",
    "    options = {\"input_shape\": input_shape}\n",
    "    for layer in range(n_hidden):\n",
    "        model.add(keras.layers.Dense(n_neurons, activation=\"relu\", **options))\n",
    "    options = {}\n",
    "    model.add(keras.layers.Dense(1, **options))\n",
    "    optimizer = keras.optimizers.RMSprop()\n",
    "    model.compile(loss=\"mse\", optimizer=optimizer)\n",
    "    return model"
   ]
  },
  {
   "cell_type": "code",
   "execution_count": 64,
   "metadata": {},
   "outputs": [],
   "source": [
    "# sklearn warapper\n",
    "keras_reg = keras.wrappers.scikit_learn.KerasRegressor(build_model)\n",
    "\n",
    "# keras_reg.fit(X_train, y_train, epochs=100,validation_data=(X_valid, y_valid),\n",
    "#               callbacks=[keras.callbacks.EarlyStopping(patience=10)])\n",
    "\n",
    "# mse_test = keras_reg.score(X_test, y_test)\n",
    "\n",
    "# y_pred = keras_reg.predict(X_new)"
   ]
  },
  {
   "cell_type": "code",
   "execution_count": 70,
   "metadata": {
    "scrolled": true
   },
   "outputs": [],
   "source": [
    "# # randmoized search\n",
    "\n",
    "# param_distribs = {\"n_hidden\": [0, 1, 2, 3],\"n_neurons\": np.arange(1, 100),\"learning_rate\": reciprocal(3e-4, 3e-2),}\n",
    "\n",
    "# rnd_search_cv = RandomizedSearchCV(keras_reg, param_distribs, n_iter=10, cv=3)\n",
    "\n",
    "# rnd_search_cv.fit(X_train, y_train, epochs=100,validation_data=(X_valid, y_valid),\n",
    "#                   callbacks=[keras.callbacks.EarlyStopping(patience=10)])"
   ]
  },
  {
   "cell_type": "code",
   "execution_count": 67,
   "metadata": {},
   "outputs": [
    {
     "data": {
      "text/plain": [
       "{'learning_rate': 0.0006154014789262348, 'n_hidden': 2, 'n_neurons': 87}"
      ]
     },
     "execution_count": 67,
     "metadata": {},
     "output_type": "execute_result"
    }
   ],
   "source": [
    "rnd_search_cv.best_params_"
   ]
  },
  {
   "cell_type": "code",
   "execution_count": 68,
   "metadata": {},
   "outputs": [
    {
     "data": {
      "text/plain": [
       "-0.6136356790860494"
      ]
     },
     "execution_count": 68,
     "metadata": {},
     "output_type": "execute_result"
    }
   ],
   "source": [
    "rnd_search_cv.best_score_"
   ]
  },
  {
   "cell_type": "code",
   "execution_count": null,
   "metadata": {},
   "outputs": [],
   "source": []
  }
 ],
 "metadata": {
  "kernelspec": {
   "display_name": "Python 3",
   "language": "python",
   "name": "python3"
  },
  "language_info": {
   "codemirror_mode": {
    "name": "ipython",
    "version": 3
   },
   "file_extension": ".py",
   "mimetype": "text/x-python",
   "name": "python",
   "nbconvert_exporter": "python",
   "pygments_lexer": "ipython3",
   "version": "3.6.8"
  }
 },
 "nbformat": 4,
 "nbformat_minor": 2
}

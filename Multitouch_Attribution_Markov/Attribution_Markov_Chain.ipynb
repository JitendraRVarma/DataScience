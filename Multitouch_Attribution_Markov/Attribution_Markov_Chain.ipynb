{
 "cells": [
  {
   "cell_type": "code",
   "execution_count": 39,
   "metadata": {
    "colab": {},
    "colab_type": "code",
    "id": "_Job9xv7MUna"
   },
   "outputs": [],
   "source": [
    "import pandas as pd\n",
    "import numpy as np\n",
    "import matplotlib.pyplot as plt"
   ]
  },
  {
   "cell_type": "markdown",
   "metadata": {
    "colab_type": "text",
    "id": "JXZzJNPfr_39"
   },
   "source": [
    "### Load Data"
   ]
  },
  {
   "cell_type": "code",
   "execution_count": 40,
   "metadata": {
    "colab": {
     "base_uri": "https://localhost:8080/",
     "height": 206
    },
    "colab_type": "code",
    "id": "bSxa_3RzMXqm",
    "outputId": "7e56c135-51f4-48d1-bc52-a3edb92e8d20"
   },
   "outputs": [
    {
     "data": {
      "text/html": [
       "<div>\n",
       "<style scoped>\n",
       "    .dataframe tbody tr th:only-of-type {\n",
       "        vertical-align: middle;\n",
       "    }\n",
       "\n",
       "    .dataframe tbody tr th {\n",
       "        vertical-align: top;\n",
       "    }\n",
       "\n",
       "    .dataframe thead th {\n",
       "        text-align: right;\n",
       "    }\n",
       "</style>\n",
       "<table border=\"1\" class=\"dataframe\">\n",
       "  <thead>\n",
       "    <tr style=\"text-align: right;\">\n",
       "      <th></th>\n",
       "      <th>cookie</th>\n",
       "      <th>time</th>\n",
       "      <th>interaction</th>\n",
       "      <th>conversion</th>\n",
       "      <th>conversion_value</th>\n",
       "      <th>channel</th>\n",
       "    </tr>\n",
       "  </thead>\n",
       "  <tbody>\n",
       "    <tr>\n",
       "      <th>0</th>\n",
       "      <td>00000FkCnDfDDf0iC97iC703B</td>\n",
       "      <td>2018-07-03T13:02:11Z</td>\n",
       "      <td>impression</td>\n",
       "      <td>0</td>\n",
       "      <td>0.0</td>\n",
       "      <td>Instagram</td>\n",
       "    </tr>\n",
       "    <tr>\n",
       "      <th>1</th>\n",
       "      <td>00000FkCnDfDDf0iC97iC703B</td>\n",
       "      <td>2018-07-17T19:15:07Z</td>\n",
       "      <td>impression</td>\n",
       "      <td>0</td>\n",
       "      <td>0.0</td>\n",
       "      <td>Online Display</td>\n",
       "    </tr>\n",
       "    <tr>\n",
       "      <th>2</th>\n",
       "      <td>00000FkCnDfDDf0iC97iC703B</td>\n",
       "      <td>2018-07-24T15:51:46Z</td>\n",
       "      <td>impression</td>\n",
       "      <td>0</td>\n",
       "      <td>0.0</td>\n",
       "      <td>Online Display</td>\n",
       "    </tr>\n",
       "    <tr>\n",
       "      <th>3</th>\n",
       "      <td>00000FkCnDfDDf0iC97iC703B</td>\n",
       "      <td>2018-07-29T07:44:51Z</td>\n",
       "      <td>impression</td>\n",
       "      <td>0</td>\n",
       "      <td>0.0</td>\n",
       "      <td>Online Display</td>\n",
       "    </tr>\n",
       "    <tr>\n",
       "      <th>4</th>\n",
       "      <td>0000nACkD9nFkBBDECD3ki00E</td>\n",
       "      <td>2018-07-03T09:44:57Z</td>\n",
       "      <td>impression</td>\n",
       "      <td>0</td>\n",
       "      <td>0.0</td>\n",
       "      <td>Paid Search</td>\n",
       "    </tr>\n",
       "  </tbody>\n",
       "</table>\n",
       "</div>"
      ],
      "text/plain": [
       "                      cookie                  time interaction  conversion  \\\n",
       "0  00000FkCnDfDDf0iC97iC703B  2018-07-03T13:02:11Z  impression           0   \n",
       "1  00000FkCnDfDDf0iC97iC703B  2018-07-17T19:15:07Z  impression           0   \n",
       "2  00000FkCnDfDDf0iC97iC703B  2018-07-24T15:51:46Z  impression           0   \n",
       "3  00000FkCnDfDDf0iC97iC703B  2018-07-29T07:44:51Z  impression           0   \n",
       "4  0000nACkD9nFkBBDECD3ki00E  2018-07-03T09:44:57Z  impression           0   \n",
       "\n",
       "   conversion_value         channel  \n",
       "0               0.0       Instagram  \n",
       "1               0.0  Online Display  \n",
       "2               0.0  Online Display  \n",
       "3               0.0  Online Display  \n",
       "4               0.0     Paid Search  "
      ]
     },
     "execution_count": 40,
     "metadata": {},
     "output_type": "execute_result"
    }
   ],
   "source": [
    "raw_df = pd.read_csv('attribution_data.csv')\n",
    "raw_df.head()"
   ]
  },
  {
   "cell_type": "code",
   "execution_count": 41,
   "metadata": {
    "colab": {
     "base_uri": "https://localhost:8080/",
     "height": 36
    },
    "colab_type": "code",
    "id": "Ou12M9TOMfB9",
    "outputId": "e74fdc89-22a8-43d1-8a27-0b25022d8dee"
   },
   "outputs": [
    {
     "data": {
      "text/plain": [
       "(586737, 6)"
      ]
     },
     "execution_count": 41,
     "metadata": {},
     "output_type": "execute_result"
    }
   ],
   "source": [
    "raw_df.shape"
   ]
  },
  {
   "cell_type": "code",
   "execution_count": 42,
   "metadata": {
    "colab": {
     "base_uri": "https://localhost:8080/",
     "height": 148
    },
    "colab_type": "code",
    "id": "-FArO6kMNO-s",
    "outputId": "f9466e30-6d5d-4b1a-b9c9-da5f7d5a96f7"
   },
   "outputs": [
    {
     "data": {
      "text/plain": [
       "cookie               object\n",
       "time                 object\n",
       "interaction          object\n",
       "conversion            int64\n",
       "conversion_value    float64\n",
       "channel              object\n",
       "dtype: object"
      ]
     },
     "execution_count": 42,
     "metadata": {},
     "output_type": "execute_result"
    }
   ],
   "source": [
    "raw_df.dtypes"
   ]
  },
  {
   "cell_type": "code",
   "execution_count": 43,
   "metadata": {
    "colab": {
     "base_uri": "https://localhost:8080/",
     "height": 73
    },
    "colab_type": "code",
    "id": "e-YahBtLMmpi",
    "outputId": "45a78111-fcae-48aa-c863-92358eefb02f"
   },
   "outputs": [
    {
     "data": {
      "text/plain": [
       "0    0.969937\n",
       "1    0.030063\n",
       "Name: conversion, dtype: float64"
      ]
     },
     "execution_count": 43,
     "metadata": {},
     "output_type": "execute_result"
    }
   ],
   "source": [
    "raw_df['conversion'].value_counts(normalize=True)"
   ]
  },
  {
   "cell_type": "code",
   "execution_count": 44,
   "metadata": {
    "colab": {
     "base_uri": "https://localhost:8080/",
     "height": 129
    },
    "colab_type": "code",
    "id": "Ox0XSK6rMuji",
    "outputId": "e5df86ee-0a3b-49b8-bc04-1883f5ee3296"
   },
   "outputs": [
    {
     "data": {
      "text/plain": [
       "Facebook          0.299523\n",
       "Paid Search       0.258105\n",
       "Online Video      0.193105\n",
       "Instagram         0.128168\n",
       "Online Display    0.121099\n",
       "Name: channel, dtype: float64"
      ]
     },
     "execution_count": 44,
     "metadata": {},
     "output_type": "execute_result"
    }
   ],
   "source": [
    "raw_df['channel'].value_counts(normalize=True)"
   ]
  },
  {
   "cell_type": "markdown",
   "metadata": {
    "colab_type": "text",
    "id": "hRPUjW6DsHfS"
   },
   "source": [
    "### Convert Time to Pandas Date Time Format"
   ]
  },
  {
   "cell_type": "code",
   "execution_count": 45,
   "metadata": {
    "colab": {
     "base_uri": "https://localhost:8080/",
     "height": 148
    },
    "colab_type": "code",
    "id": "v_msrbQeM-Vb",
    "outputId": "11bf49e4-f3ca-4dd8-a361-9a545c78c60a"
   },
   "outputs": [
    {
     "data": {
      "text/plain": [
       "count                        586737\n",
       "unique                       485110\n",
       "top       2018-07-14 20:50:09+00:00\n",
       "freq                             12\n",
       "first     2018-07-01 13:13:16+00:00\n",
       "last      2018-07-31 23:59:30+00:00\n",
       "Name: formated_time, dtype: object"
      ]
     },
     "execution_count": 45,
     "metadata": {},
     "output_type": "execute_result"
    }
   ],
   "source": [
    "raw_df['formated_time'] = pd.to_datetime(raw_df['time'])\n",
    "raw_df['formated_time'].describe()"
   ]
  },
  {
   "cell_type": "code",
   "execution_count": 46,
   "metadata": {
    "colab": {
     "base_uri": "https://localhost:8080/",
     "height": 36
    },
    "colab_type": "code",
    "id": "fGTjJ_NFOBfy",
    "outputId": "d786dc0e-ff91-443d-8634-68ccfe8bf402"
   },
   "outputs": [
    {
     "data": {
      "text/plain": [
       "240108"
      ]
     },
     "execution_count": 46,
     "metadata": {},
     "output_type": "execute_result"
    }
   ],
   "source": [
    "raw_df['cookie'].nunique()"
   ]
  },
  {
   "cell_type": "code",
   "execution_count": 47,
   "metadata": {
    "colab": {
     "base_uri": "https://localhost:8080/",
     "height": 186
    },
    "colab_type": "code",
    "id": "hjkalDceUPuy",
    "outputId": "3fbcb430-c9c4-484a-a2c1-8dc72f6123d0"
   },
   "outputs": [
    {
     "data": {
      "text/plain": [
       "count    240108.000000\n",
       "mean          2.443638\n",
       "std           3.104849\n",
       "min           1.000000\n",
       "25%           1.000000\n",
       "50%           1.000000\n",
       "75%           3.000000\n",
       "max         134.000000\n",
       "Name: cookie, dtype: float64"
      ]
     },
     "execution_count": 47,
     "metadata": {},
     "output_type": "execute_result"
    }
   ],
   "source": [
    "raw_df['cookie'].value_counts().describe()"
   ]
  },
  {
   "cell_type": "code",
   "execution_count": 48,
   "metadata": {
    "colab": {},
    "colab_type": "code",
    "id": "dow_xiomWpyb"
   },
   "outputs": [],
   "source": [
    "# Create duplicate of original data frame\n",
    "df = raw_df.copy()"
   ]
  },
  {
   "cell_type": "markdown",
   "metadata": {
    "colab_type": "text",
    "id": "dCNOlYWlsWw8"
   },
   "source": [
    "### Sort by Cookie and Time for mapping each customer journey/touchpoint with respect to time"
   ]
  },
  {
   "cell_type": "code",
   "execution_count": 49,
   "metadata": {
    "colab": {},
    "colab_type": "code",
    "id": "4UKY5AOtUaf3"
   },
   "outputs": [],
   "source": [
    "# each cookier refers to unique customers\n",
    "df = df.sort_values(['cookie', 'formated_time'], ascending=[False, True])\n",
    "df['visit_order'] = df.groupby('cookie').cumcount() + 1"
   ]
  },
  {
   "cell_type": "code",
   "execution_count": 50,
   "metadata": {
    "colab": {
     "base_uri": "https://localhost:8080/",
     "height": 293
    },
    "colab_type": "code",
    "id": "ntWvV0zyWv9O",
    "outputId": "6889236d-0bb4-43ad-f560-c5262a1bbecb"
   },
   "outputs": [
    {
     "data": {
      "text/html": [
       "<div>\n",
       "<style scoped>\n",
       "    .dataframe tbody tr th:only-of-type {\n",
       "        vertical-align: middle;\n",
       "    }\n",
       "\n",
       "    .dataframe tbody tr th {\n",
       "        vertical-align: top;\n",
       "    }\n",
       "\n",
       "    .dataframe thead th {\n",
       "        text-align: right;\n",
       "    }\n",
       "</style>\n",
       "<table border=\"1\" class=\"dataframe\">\n",
       "  <thead>\n",
       "    <tr style=\"text-align: right;\">\n",
       "      <th></th>\n",
       "      <th>cookie</th>\n",
       "      <th>time</th>\n",
       "      <th>interaction</th>\n",
       "      <th>conversion</th>\n",
       "      <th>conversion_value</th>\n",
       "      <th>channel</th>\n",
       "      <th>formated_time</th>\n",
       "      <th>visit_order</th>\n",
       "    </tr>\n",
       "  </thead>\n",
       "  <tbody>\n",
       "    <tr>\n",
       "      <th>586736</th>\n",
       "      <td>ooooohAFofEnonEikhAi3fF9o</td>\n",
       "      <td>2018-07-14T17:17:12Z</td>\n",
       "      <td>impression</td>\n",
       "      <td>0</td>\n",
       "      <td>0.0</td>\n",
       "      <td>Paid Search</td>\n",
       "      <td>2018-07-14 17:17:12+00:00</td>\n",
       "      <td>1</td>\n",
       "    </tr>\n",
       "    <tr>\n",
       "      <th>586734</th>\n",
       "      <td>ooooiBh70D3k3BfAhDFfii9h7</td>\n",
       "      <td>2018-07-03T12:57:25Z</td>\n",
       "      <td>impression</td>\n",
       "      <td>0</td>\n",
       "      <td>0.0</td>\n",
       "      <td>Paid Search</td>\n",
       "      <td>2018-07-03 12:57:25+00:00</td>\n",
       "      <td>1</td>\n",
       "    </tr>\n",
       "    <tr>\n",
       "      <th>586735</th>\n",
       "      <td>ooooiBh70D3k3BfAhDFfii9h7</td>\n",
       "      <td>2018-07-19T08:17:59Z</td>\n",
       "      <td>impression</td>\n",
       "      <td>0</td>\n",
       "      <td>0.0</td>\n",
       "      <td>Online Video</td>\n",
       "      <td>2018-07-19 08:17:59+00:00</td>\n",
       "      <td>2</td>\n",
       "    </tr>\n",
       "    <tr>\n",
       "      <th>586731</th>\n",
       "      <td>ooooEiB0CCoEf9fiiC90Dfhfk</td>\n",
       "      <td>2018-07-06T23:30:38Z</td>\n",
       "      <td>impression</td>\n",
       "      <td>0</td>\n",
       "      <td>0.0</td>\n",
       "      <td>Online Display</td>\n",
       "      <td>2018-07-06 23:30:38+00:00</td>\n",
       "      <td>1</td>\n",
       "    </tr>\n",
       "    <tr>\n",
       "      <th>586732</th>\n",
       "      <td>ooooEiB0CCoEf9fiiC90Dfhfk</td>\n",
       "      <td>2018-07-12T23:50:45Z</td>\n",
       "      <td>impression</td>\n",
       "      <td>0</td>\n",
       "      <td>0.0</td>\n",
       "      <td>Online Display</td>\n",
       "      <td>2018-07-12 23:50:45+00:00</td>\n",
       "      <td>2</td>\n",
       "    </tr>\n",
       "  </tbody>\n",
       "</table>\n",
       "</div>"
      ],
      "text/plain": [
       "                           cookie                  time interaction  \\\n",
       "586736  ooooohAFofEnonEikhAi3fF9o  2018-07-14T17:17:12Z  impression   \n",
       "586734  ooooiBh70D3k3BfAhDFfii9h7  2018-07-03T12:57:25Z  impression   \n",
       "586735  ooooiBh70D3k3BfAhDFfii9h7  2018-07-19T08:17:59Z  impression   \n",
       "586731  ooooEiB0CCoEf9fiiC90Dfhfk  2018-07-06T23:30:38Z  impression   \n",
       "586732  ooooEiB0CCoEf9fiiC90Dfhfk  2018-07-12T23:50:45Z  impression   \n",
       "\n",
       "        conversion  conversion_value         channel  \\\n",
       "586736           0               0.0     Paid Search   \n",
       "586734           0               0.0     Paid Search   \n",
       "586735           0               0.0    Online Video   \n",
       "586731           0               0.0  Online Display   \n",
       "586732           0               0.0  Online Display   \n",
       "\n",
       "                   formated_time  visit_order  \n",
       "586736 2018-07-14 17:17:12+00:00            1  \n",
       "586734 2018-07-03 12:57:25+00:00            1  \n",
       "586735 2018-07-19 08:17:59+00:00            2  \n",
       "586731 2018-07-06 23:30:38+00:00            1  \n",
       "586732 2018-07-12 23:50:45+00:00            2  "
      ]
     },
     "execution_count": 50,
     "metadata": {},
     "output_type": "execute_result"
    }
   ],
   "source": [
    "df.head()"
   ]
  },
  {
   "cell_type": "code",
   "execution_count": 51,
   "metadata": {
    "colab": {
     "base_uri": "https://localhost:8080/",
     "height": 878
    },
    "colab_type": "code",
    "id": "dxdfGuaZWxW2",
    "outputId": "0a2cc65e-4dbc-4b84-eeba-5ec89a1a68b1"
   },
   "outputs": [
    {
     "data": {
      "text/html": [
       "<div>\n",
       "<style scoped>\n",
       "    .dataframe tbody tr th:only-of-type {\n",
       "        vertical-align: middle;\n",
       "    }\n",
       "\n",
       "    .dataframe tbody tr th {\n",
       "        vertical-align: top;\n",
       "    }\n",
       "\n",
       "    .dataframe thead th {\n",
       "        text-align: right;\n",
       "    }\n",
       "</style>\n",
       "<table border=\"1\" class=\"dataframe\">\n",
       "  <thead>\n",
       "    <tr style=\"text-align: right;\">\n",
       "      <th></th>\n",
       "      <th>cookie</th>\n",
       "      <th>time</th>\n",
       "      <th>interaction</th>\n",
       "      <th>conversion</th>\n",
       "      <th>conversion_value</th>\n",
       "      <th>channel</th>\n",
       "      <th>formated_time</th>\n",
       "      <th>visit_order</th>\n",
       "    </tr>\n",
       "  </thead>\n",
       "  <tbody>\n",
       "    <tr>\n",
       "      <th>579011</th>\n",
       "      <td>oih7Fh0oonhhCkfFAof7CDkiA</td>\n",
       "      <td>2018-07-23T12:53:53Z</td>\n",
       "      <td>impression</td>\n",
       "      <td>0</td>\n",
       "      <td>0.0</td>\n",
       "      <td>Facebook</td>\n",
       "      <td>2018-07-23 12:53:53+00:00</td>\n",
       "      <td>1</td>\n",
       "    </tr>\n",
       "    <tr>\n",
       "      <th>579012</th>\n",
       "      <td>oih7Fh0oonhhCkfFAof7CDkiA</td>\n",
       "      <td>2018-07-23T12:58:56Z</td>\n",
       "      <td>impression</td>\n",
       "      <td>0</td>\n",
       "      <td>0.0</td>\n",
       "      <td>Facebook</td>\n",
       "      <td>2018-07-23 12:58:56+00:00</td>\n",
       "      <td>2</td>\n",
       "    </tr>\n",
       "    <tr>\n",
       "      <th>579013</th>\n",
       "      <td>oih7Fh0oonhhCkfFAof7CDkiA</td>\n",
       "      <td>2018-07-23T13:10:59Z</td>\n",
       "      <td>impression</td>\n",
       "      <td>0</td>\n",
       "      <td>0.0</td>\n",
       "      <td>Facebook</td>\n",
       "      <td>2018-07-23 13:10:59+00:00</td>\n",
       "      <td>3</td>\n",
       "    </tr>\n",
       "    <tr>\n",
       "      <th>579014</th>\n",
       "      <td>oih7Fh0oonhhCkfFAof7CDkiA</td>\n",
       "      <td>2018-07-23T13:19:58Z</td>\n",
       "      <td>impression</td>\n",
       "      <td>0</td>\n",
       "      <td>0.0</td>\n",
       "      <td>Facebook</td>\n",
       "      <td>2018-07-23 13:19:58+00:00</td>\n",
       "      <td>4</td>\n",
       "    </tr>\n",
       "    <tr>\n",
       "      <th>579015</th>\n",
       "      <td>oih7Fh0oonhhCkfFAof7CDkiA</td>\n",
       "      <td>2018-07-23T13:25:57Z</td>\n",
       "      <td>impression</td>\n",
       "      <td>0</td>\n",
       "      <td>0.0</td>\n",
       "      <td>Facebook</td>\n",
       "      <td>2018-07-23 13:25:57+00:00</td>\n",
       "      <td>5</td>\n",
       "    </tr>\n",
       "    <tr>\n",
       "      <th>579016</th>\n",
       "      <td>oih7Fh0oonhhCkfFAof7CDkiA</td>\n",
       "      <td>2018-07-23T13:45:32Z</td>\n",
       "      <td>impression</td>\n",
       "      <td>0</td>\n",
       "      <td>0.0</td>\n",
       "      <td>Facebook</td>\n",
       "      <td>2018-07-23 13:45:32+00:00</td>\n",
       "      <td>6</td>\n",
       "    </tr>\n",
       "    <tr>\n",
       "      <th>579017</th>\n",
       "      <td>oih7Fh0oonhhCkfFAof7CDkiA</td>\n",
       "      <td>2018-07-23T22:50:24Z</td>\n",
       "      <td>impression</td>\n",
       "      <td>0</td>\n",
       "      <td>0.0</td>\n",
       "      <td>Facebook</td>\n",
       "      <td>2018-07-23 22:50:24+00:00</td>\n",
       "      <td>7</td>\n",
       "    </tr>\n",
       "    <tr>\n",
       "      <th>579018</th>\n",
       "      <td>oih7Fh0oonhhCkfFAof7CDkiA</td>\n",
       "      <td>2018-07-23T23:37:29Z</td>\n",
       "      <td>impression</td>\n",
       "      <td>0</td>\n",
       "      <td>0.0</td>\n",
       "      <td>Facebook</td>\n",
       "      <td>2018-07-23 23:37:29+00:00</td>\n",
       "      <td>8</td>\n",
       "    </tr>\n",
       "    <tr>\n",
       "      <th>579019</th>\n",
       "      <td>oih7Fh0oonhhCkfFAof7CDkiA</td>\n",
       "      <td>2018-07-23T23:54:15Z</td>\n",
       "      <td>impression</td>\n",
       "      <td>0</td>\n",
       "      <td>0.0</td>\n",
       "      <td>Facebook</td>\n",
       "      <td>2018-07-23 23:54:15+00:00</td>\n",
       "      <td>9</td>\n",
       "    </tr>\n",
       "    <tr>\n",
       "      <th>579020</th>\n",
       "      <td>oih7Fh0oonhhCkfFAof7CDkiA</td>\n",
       "      <td>2018-07-24T16:14:48Z</td>\n",
       "      <td>impression</td>\n",
       "      <td>0</td>\n",
       "      <td>0.0</td>\n",
       "      <td>Facebook</td>\n",
       "      <td>2018-07-24 16:14:48+00:00</td>\n",
       "      <td>10</td>\n",
       "    </tr>\n",
       "    <tr>\n",
       "      <th>579021</th>\n",
       "      <td>oih7Fh0oonhhCkfFAof7CDkiA</td>\n",
       "      <td>2018-07-24T16:15:12Z</td>\n",
       "      <td>impression</td>\n",
       "      <td>0</td>\n",
       "      <td>0.0</td>\n",
       "      <td>Facebook</td>\n",
       "      <td>2018-07-24 16:15:12+00:00</td>\n",
       "      <td>11</td>\n",
       "    </tr>\n",
       "    <tr>\n",
       "      <th>579022</th>\n",
       "      <td>oih7Fh0oonhhCkfFAof7CDkiA</td>\n",
       "      <td>2018-07-25T14:39:03Z</td>\n",
       "      <td>impression</td>\n",
       "      <td>0</td>\n",
       "      <td>0.0</td>\n",
       "      <td>Facebook</td>\n",
       "      <td>2018-07-25 14:39:03+00:00</td>\n",
       "      <td>12</td>\n",
       "    </tr>\n",
       "    <tr>\n",
       "      <th>579023</th>\n",
       "      <td>oih7Fh0oonhhCkfFAof7CDkiA</td>\n",
       "      <td>2018-07-25T14:58:53Z</td>\n",
       "      <td>impression</td>\n",
       "      <td>0</td>\n",
       "      <td>0.0</td>\n",
       "      <td>Instagram</td>\n",
       "      <td>2018-07-25 14:58:53+00:00</td>\n",
       "      <td>13</td>\n",
       "    </tr>\n",
       "    <tr>\n",
       "      <th>579024</th>\n",
       "      <td>oih7Fh0oonhhCkfFAof7CDkiA</td>\n",
       "      <td>2018-07-28T12:04:29Z</td>\n",
       "      <td>impression</td>\n",
       "      <td>0</td>\n",
       "      <td>0.0</td>\n",
       "      <td>Facebook</td>\n",
       "      <td>2018-07-28 12:04:29+00:00</td>\n",
       "      <td>14</td>\n",
       "    </tr>\n",
       "    <tr>\n",
       "      <th>579025</th>\n",
       "      <td>oih7Fh0oonhhCkfFAof7CDkiA</td>\n",
       "      <td>2018-07-28T14:41:42Z</td>\n",
       "      <td>impression</td>\n",
       "      <td>0</td>\n",
       "      <td>0.0</td>\n",
       "      <td>Facebook</td>\n",
       "      <td>2018-07-28 14:41:42+00:00</td>\n",
       "      <td>15</td>\n",
       "    </tr>\n",
       "    <tr>\n",
       "      <th>579026</th>\n",
       "      <td>oih7Fh0oonhhCkfFAof7CDkiA</td>\n",
       "      <td>2018-07-28T14:42:18Z</td>\n",
       "      <td>impression</td>\n",
       "      <td>0</td>\n",
       "      <td>0.0</td>\n",
       "      <td>Facebook</td>\n",
       "      <td>2018-07-28 14:42:18+00:00</td>\n",
       "      <td>16</td>\n",
       "    </tr>\n",
       "    <tr>\n",
       "      <th>579027</th>\n",
       "      <td>oih7Fh0oonhhCkfFAof7CDkiA</td>\n",
       "      <td>2018-07-28T18:16:11Z</td>\n",
       "      <td>impression</td>\n",
       "      <td>0</td>\n",
       "      <td>0.0</td>\n",
       "      <td>Facebook</td>\n",
       "      <td>2018-07-28 18:16:11+00:00</td>\n",
       "      <td>17</td>\n",
       "    </tr>\n",
       "  </tbody>\n",
       "</table>\n",
       "</div>"
      ],
      "text/plain": [
       "                           cookie                  time interaction  \\\n",
       "579011  oih7Fh0oonhhCkfFAof7CDkiA  2018-07-23T12:53:53Z  impression   \n",
       "579012  oih7Fh0oonhhCkfFAof7CDkiA  2018-07-23T12:58:56Z  impression   \n",
       "579013  oih7Fh0oonhhCkfFAof7CDkiA  2018-07-23T13:10:59Z  impression   \n",
       "579014  oih7Fh0oonhhCkfFAof7CDkiA  2018-07-23T13:19:58Z  impression   \n",
       "579015  oih7Fh0oonhhCkfFAof7CDkiA  2018-07-23T13:25:57Z  impression   \n",
       "579016  oih7Fh0oonhhCkfFAof7CDkiA  2018-07-23T13:45:32Z  impression   \n",
       "579017  oih7Fh0oonhhCkfFAof7CDkiA  2018-07-23T22:50:24Z  impression   \n",
       "579018  oih7Fh0oonhhCkfFAof7CDkiA  2018-07-23T23:37:29Z  impression   \n",
       "579019  oih7Fh0oonhhCkfFAof7CDkiA  2018-07-23T23:54:15Z  impression   \n",
       "579020  oih7Fh0oonhhCkfFAof7CDkiA  2018-07-24T16:14:48Z  impression   \n",
       "579021  oih7Fh0oonhhCkfFAof7CDkiA  2018-07-24T16:15:12Z  impression   \n",
       "579022  oih7Fh0oonhhCkfFAof7CDkiA  2018-07-25T14:39:03Z  impression   \n",
       "579023  oih7Fh0oonhhCkfFAof7CDkiA  2018-07-25T14:58:53Z  impression   \n",
       "579024  oih7Fh0oonhhCkfFAof7CDkiA  2018-07-28T12:04:29Z  impression   \n",
       "579025  oih7Fh0oonhhCkfFAof7CDkiA  2018-07-28T14:41:42Z  impression   \n",
       "579026  oih7Fh0oonhhCkfFAof7CDkiA  2018-07-28T14:42:18Z  impression   \n",
       "579027  oih7Fh0oonhhCkfFAof7CDkiA  2018-07-28T18:16:11Z  impression   \n",
       "\n",
       "        conversion  conversion_value    channel             formated_time  \\\n",
       "579011           0               0.0   Facebook 2018-07-23 12:53:53+00:00   \n",
       "579012           0               0.0   Facebook 2018-07-23 12:58:56+00:00   \n",
       "579013           0               0.0   Facebook 2018-07-23 13:10:59+00:00   \n",
       "579014           0               0.0   Facebook 2018-07-23 13:19:58+00:00   \n",
       "579015           0               0.0   Facebook 2018-07-23 13:25:57+00:00   \n",
       "579016           0               0.0   Facebook 2018-07-23 13:45:32+00:00   \n",
       "579017           0               0.0   Facebook 2018-07-23 22:50:24+00:00   \n",
       "579018           0               0.0   Facebook 2018-07-23 23:37:29+00:00   \n",
       "579019           0               0.0   Facebook 2018-07-23 23:54:15+00:00   \n",
       "579020           0               0.0   Facebook 2018-07-24 16:14:48+00:00   \n",
       "579021           0               0.0   Facebook 2018-07-24 16:15:12+00:00   \n",
       "579022           0               0.0   Facebook 2018-07-25 14:39:03+00:00   \n",
       "579023           0               0.0  Instagram 2018-07-25 14:58:53+00:00   \n",
       "579024           0               0.0   Facebook 2018-07-28 12:04:29+00:00   \n",
       "579025           0               0.0   Facebook 2018-07-28 14:41:42+00:00   \n",
       "579026           0               0.0   Facebook 2018-07-28 14:42:18+00:00   \n",
       "579027           0               0.0   Facebook 2018-07-28 18:16:11+00:00   \n",
       "\n",
       "        visit_order  \n",
       "579011            1  \n",
       "579012            2  \n",
       "579013            3  \n",
       "579014            4  \n",
       "579015            5  \n",
       "579016            6  \n",
       "579017            7  \n",
       "579018            8  \n",
       "579019            9  \n",
       "579020           10  \n",
       "579021           11  \n",
       "579022           12  \n",
       "579023           13  \n",
       "579024           14  \n",
       "579025           15  \n",
       "579026           16  \n",
       "579027           17  "
      ]
     },
     "execution_count": 51,
     "metadata": {},
     "output_type": "execute_result"
    }
   ],
   "source": [
    "df[df['cookie'] == 'oih7Fh0oonhhCkfFAof7CDkiA']"
   ]
  },
  {
   "cell_type": "markdown",
   "metadata": {
    "colab_type": "text",
    "id": "EWv_SaRRtLwn"
   },
   "source": [
    "### Function to get unique customer touchpoints "
   ]
  },
  {
   "cell_type": "code",
   "execution_count": 53,
   "metadata": {
    "colab": {},
    "colab_type": "code",
    "id": "m_ZGtcccYB2L"
   },
   "outputs": [],
   "source": [
    "def get_touchpoints(grp_obj):\n",
    "    journey = []\n",
    "    for channel in grp_obj:\n",
    "        if channel not in journey:\n",
    "            journey.append(channel)\n",
    "    return journey \n",
    "df_paths = df.groupby('cookie')['channel'].aggregate(get_touchpoints).reset_index()"
   ]
  },
  {
   "cell_type": "code",
   "execution_count": 54,
   "metadata": {
    "colab": {
     "base_uri": "https://localhost:8080/",
     "height": 206
    },
    "colab_type": "code",
    "id": "ZRFlh2IC9dG6",
    "outputId": "2b66cd92-0a1e-48d3-de3f-ab700702f8a0"
   },
   "outputs": [
    {
     "data": {
      "text/html": [
       "<div>\n",
       "<style scoped>\n",
       "    .dataframe tbody tr th:only-of-type {\n",
       "        vertical-align: middle;\n",
       "    }\n",
       "\n",
       "    .dataframe tbody tr th {\n",
       "        vertical-align: top;\n",
       "    }\n",
       "\n",
       "    .dataframe thead th {\n",
       "        text-align: right;\n",
       "    }\n",
       "</style>\n",
       "<table border=\"1\" class=\"dataframe\">\n",
       "  <thead>\n",
       "    <tr style=\"text-align: right;\">\n",
       "      <th></th>\n",
       "      <th>cookie</th>\n",
       "      <th>channel</th>\n",
       "    </tr>\n",
       "  </thead>\n",
       "  <tbody>\n",
       "    <tr>\n",
       "      <th>200508</th>\n",
       "      <td>kBiohC9E0BD9onECfnD3hE7B3</td>\n",
       "      <td>[Paid Search]</td>\n",
       "    </tr>\n",
       "    <tr>\n",
       "      <th>64124</th>\n",
       "      <td>AB0fD0EifAnADf70kf9EDf3EB</td>\n",
       "      <td>[Paid Search]</td>\n",
       "    </tr>\n",
       "    <tr>\n",
       "      <th>82833</th>\n",
       "      <td>BEioCFhhFo0CB0EFinf0BAAiE</td>\n",
       "      <td>[Facebook]</td>\n",
       "    </tr>\n",
       "    <tr>\n",
       "      <th>156745</th>\n",
       "      <td>fD79DCoh9DkF0BDB7Fi9iFniF</td>\n",
       "      <td>[Facebook]</td>\n",
       "    </tr>\n",
       "    <tr>\n",
       "      <th>14383</th>\n",
       "      <td>0oD7kf9EAD30fkCoifihiifCE</td>\n",
       "      <td>[Instagram]</td>\n",
       "    </tr>\n",
       "  </tbody>\n",
       "</table>\n",
       "</div>"
      ],
      "text/plain": [
       "                           cookie        channel\n",
       "200508  kBiohC9E0BD9onECfnD3hE7B3  [Paid Search]\n",
       "64124   AB0fD0EifAnADf70kf9EDf3EB  [Paid Search]\n",
       "82833   BEioCFhhFo0CB0EFinf0BAAiE     [Facebook]\n",
       "156745  fD79DCoh9DkF0BDB7Fi9iFniF     [Facebook]\n",
       "14383   0oD7kf9EAD30fkCoifihiifCE    [Instagram]"
      ]
     },
     "execution_count": 54,
     "metadata": {},
     "output_type": "execute_result"
    }
   ],
   "source": [
    "df_paths.sample(5)"
   ]
  },
  {
   "cell_type": "code",
   "execution_count": 55,
   "metadata": {
    "colab": {},
    "colab_type": "code",
    "id": "_PNml-PTaDwY"
   },
   "outputs": [],
   "source": [
    "df_last_interaction = df.drop_duplicates('cookie', keep='last')[['cookie', 'conversion']]\n",
    "df_paths = pd.merge(df_paths, df_last_interaction, how='left', on='cookie')"
   ]
  },
  {
   "cell_type": "code",
   "execution_count": 56,
   "metadata": {
    "colab": {
     "base_uri": "https://localhost:8080/",
     "height": 206
    },
    "colab_type": "code",
    "id": "fURBXK4Jaga9",
    "outputId": "4709bd49-4708-499f-b50f-6fec22515315"
   },
   "outputs": [
    {
     "data": {
      "text/html": [
       "<div>\n",
       "<style scoped>\n",
       "    .dataframe tbody tr th:only-of-type {\n",
       "        vertical-align: middle;\n",
       "    }\n",
       "\n",
       "    .dataframe tbody tr th {\n",
       "        vertical-align: top;\n",
       "    }\n",
       "\n",
       "    .dataframe thead th {\n",
       "        text-align: right;\n",
       "    }\n",
       "</style>\n",
       "<table border=\"1\" class=\"dataframe\">\n",
       "  <thead>\n",
       "    <tr style=\"text-align: right;\">\n",
       "      <th></th>\n",
       "      <th>cookie</th>\n",
       "      <th>channel</th>\n",
       "      <th>conversion</th>\n",
       "    </tr>\n",
       "  </thead>\n",
       "  <tbody>\n",
       "    <tr>\n",
       "      <th>7578</th>\n",
       "      <td>0E3C7FkofAo9D33nhABiC093F</td>\n",
       "      <td>[Paid Search, Instagram]</td>\n",
       "      <td>0</td>\n",
       "    </tr>\n",
       "    <tr>\n",
       "      <th>142357</th>\n",
       "      <td>FE0CB33F99Ck7oD77DAonB3D7</td>\n",
       "      <td>[Facebook, Instagram]</td>\n",
       "      <td>0</td>\n",
       "    </tr>\n",
       "    <tr>\n",
       "      <th>209992</th>\n",
       "      <td>konDkhkCFoB3iF3C0hnnhFfFi</td>\n",
       "      <td>[Paid Search]</td>\n",
       "      <td>0</td>\n",
       "    </tr>\n",
       "    <tr>\n",
       "      <th>176972</th>\n",
       "      <td>hiF3oCEC3oE0f7AhDBkoE7Ekk</td>\n",
       "      <td>[Facebook]</td>\n",
       "      <td>0</td>\n",
       "    </tr>\n",
       "    <tr>\n",
       "      <th>111661</th>\n",
       "      <td>DDAFokhnA90Dn0Eo7f790i3CE</td>\n",
       "      <td>[Facebook]</td>\n",
       "      <td>0</td>\n",
       "    </tr>\n",
       "  </tbody>\n",
       "</table>\n",
       "</div>"
      ],
      "text/plain": [
       "                           cookie                   channel  conversion\n",
       "7578    0E3C7FkofAo9D33nhABiC093F  [Paid Search, Instagram]           0\n",
       "142357  FE0CB33F99Ck7oD77DAonB3D7     [Facebook, Instagram]           0\n",
       "209992  konDkhkCFoB3iF3C0hnnhFfFi             [Paid Search]           0\n",
       "176972  hiF3oCEC3oE0f7AhDBkoE7Ekk                [Facebook]           0\n",
       "111661  DDAFokhnA90Dn0Eo7f790i3CE                [Facebook]           0"
      ]
     },
     "execution_count": 56,
     "metadata": {},
     "output_type": "execute_result"
    }
   ],
   "source": [
    "df_paths.sample(5)"
   ]
  },
  {
   "cell_type": "markdown",
   "metadata": {
    "colab_type": "text",
    "id": "yVJ8ZCNctgX-"
   },
   "source": [
    "### Adding 'Start' Path and 'Null'/'Conversion' to the customer journey"
   ]
  },
  {
   "cell_type": "code",
   "execution_count": 57,
   "metadata": {
    "colab": {
     "base_uri": "https://localhost:8080/",
     "height": 206
    },
    "colab_type": "code",
    "id": "z31eEZf3aiHD",
    "outputId": "0e9c8b2e-7571-4ea0-e25e-15c990da160e"
   },
   "outputs": [
    {
     "data": {
      "text/html": [
       "<div>\n",
       "<style scoped>\n",
       "    .dataframe tbody tr th:only-of-type {\n",
       "        vertical-align: middle;\n",
       "    }\n",
       "\n",
       "    .dataframe tbody tr th {\n",
       "        vertical-align: top;\n",
       "    }\n",
       "\n",
       "    .dataframe thead th {\n",
       "        text-align: right;\n",
       "    }\n",
       "</style>\n",
       "<table border=\"1\" class=\"dataframe\">\n",
       "  <thead>\n",
       "    <tr style=\"text-align: right;\">\n",
       "      <th></th>\n",
       "      <th>cookie</th>\n",
       "      <th>channel</th>\n",
       "      <th>conversion</th>\n",
       "      <th>path</th>\n",
       "    </tr>\n",
       "  </thead>\n",
       "  <tbody>\n",
       "    <tr>\n",
       "      <th>30752</th>\n",
       "      <td>70oi7o0hnC0h7nFf00o7kkBFo</td>\n",
       "      <td>[Paid Search]</td>\n",
       "      <td>0</td>\n",
       "      <td>[Start, Paid Search, Null]</td>\n",
       "    </tr>\n",
       "    <tr>\n",
       "      <th>94209</th>\n",
       "      <td>CAnACn3EFAFAf0EAD7Dk7i0CF</td>\n",
       "      <td>[Paid Search]</td>\n",
       "      <td>0</td>\n",
       "      <td>[Start, Paid Search, Null]</td>\n",
       "    </tr>\n",
       "    <tr>\n",
       "      <th>42903</th>\n",
       "      <td>7ko09DoDEoi9DCFDi9ihF0fBE</td>\n",
       "      <td>[Facebook, Instagram]</td>\n",
       "      <td>0</td>\n",
       "      <td>[Start, Facebook, Instagram, Null]</td>\n",
       "    </tr>\n",
       "    <tr>\n",
       "      <th>148862</th>\n",
       "      <td>FnnDFhn9EAED3EAnfnfB0033F</td>\n",
       "      <td>[Instagram, Facebook]</td>\n",
       "      <td>0</td>\n",
       "      <td>[Start, Instagram, Facebook, Null]</td>\n",
       "    </tr>\n",
       "    <tr>\n",
       "      <th>79877</th>\n",
       "      <td>BBfD9FonC9FoB3hDD79DoAhA9</td>\n",
       "      <td>[Facebook, Instagram]</td>\n",
       "      <td>1</td>\n",
       "      <td>[Start, Facebook, Instagram, Conversion]</td>\n",
       "    </tr>\n",
       "  </tbody>\n",
       "</table>\n",
       "</div>"
      ],
      "text/plain": [
       "                           cookie                channel  conversion  \\\n",
       "30752   70oi7o0hnC0h7nFf00o7kkBFo          [Paid Search]           0   \n",
       "94209   CAnACn3EFAFAf0EAD7Dk7i0CF          [Paid Search]           0   \n",
       "42903   7ko09DoDEoi9DCFDi9ihF0fBE  [Facebook, Instagram]           0   \n",
       "148862  FnnDFhn9EAED3EAnfnfB0033F  [Instagram, Facebook]           0   \n",
       "79877   BBfD9FonC9FoB3hDD79DoAhA9  [Facebook, Instagram]           1   \n",
       "\n",
       "                                            path  \n",
       "30752                 [Start, Paid Search, Null]  \n",
       "94209                 [Start, Paid Search, Null]  \n",
       "42903         [Start, Facebook, Instagram, Null]  \n",
       "148862        [Start, Instagram, Facebook, Null]  \n",
       "79877   [Start, Facebook, Instagram, Conversion]  "
      ]
     },
     "execution_count": 57,
     "metadata": {},
     "output_type": "execute_result"
    }
   ],
   "source": [
    "df_paths['path'] = None\n",
    "idx = df_paths['conversion'] == 0\n",
    "df_paths.loc[idx,'path'] = df_paths.loc[idx,:]['channel'].apply(lambda x : ['Start'] + x + ['Null'])\n",
    "idx = df_paths['conversion'] == 1\n",
    "df_paths.loc[idx,'path'] = df_paths.loc[idx,:]['channel'].apply(lambda x : ['Start'] + x + ['Conversion'])\n",
    "df_paths.sample(5)"
   ]
  },
  {
   "cell_type": "markdown",
   "metadata": {
    "colab_type": "text",
    "id": "MEjSM_9wtz9N"
   },
   "source": [
    "### Function for Computing Raw Count for Transition Matrix"
   ]
  },
  {
   "cell_type": "code",
   "execution_count": 58,
   "metadata": {
    "colab": {},
    "colab_type": "code",
    "id": "m-HHUyMw-pmA"
   },
   "outputs": [],
   "source": [
    "def get_transition_matrix(path,transition_matrix):\n",
    "    for idx in range(len(path)-1):\n",
    "        transition_matrix.at[path[idx],path[idx+1]] = transition_matrix.at[path[idx],path[idx+1]] +1\n",
    "    return"
   ]
  },
  {
   "cell_type": "markdown",
   "metadata": {
    "colab_type": "text",
    "id": "v930Y4QPt78M"
   },
   "source": [
    "### Create Transition Matrix"
   ]
  },
  {
   "cell_type": "code",
   "execution_count": 59,
   "metadata": {
    "colab": {
     "base_uri": "https://localhost:8080/",
     "height": 237
    },
    "colab_type": "code",
    "id": "mnzS4DuTBpUV",
    "outputId": "520a99a2-b498-47ad-d786-89546f78203f"
   },
   "outputs": [
    {
     "data": {
      "text/html": [
       "<div>\n",
       "<style scoped>\n",
       "    .dataframe tbody tr th:only-of-type {\n",
       "        vertical-align: middle;\n",
       "    }\n",
       "\n",
       "    .dataframe tbody tr th {\n",
       "        vertical-align: top;\n",
       "    }\n",
       "\n",
       "    .dataframe thead th {\n",
       "        text-align: right;\n",
       "    }\n",
       "</style>\n",
       "<table border=\"1\" class=\"dataframe\">\n",
       "  <thead>\n",
       "    <tr style=\"text-align: right;\">\n",
       "      <th></th>\n",
       "      <th>Paid Search</th>\n",
       "      <th>Online Video</th>\n",
       "      <th>Online Display</th>\n",
       "      <th>Instagram</th>\n",
       "      <th>Facebook</th>\n",
       "      <th>Null</th>\n",
       "      <th>Conversion</th>\n",
       "    </tr>\n",
       "  </thead>\n",
       "  <tbody>\n",
       "    <tr>\n",
       "      <th>Start</th>\n",
       "      <td>0</td>\n",
       "      <td>0</td>\n",
       "      <td>0</td>\n",
       "      <td>0</td>\n",
       "      <td>0</td>\n",
       "      <td>0</td>\n",
       "      <td>0</td>\n",
       "    </tr>\n",
       "    <tr>\n",
       "      <th>Paid Search</th>\n",
       "      <td>0</td>\n",
       "      <td>0</td>\n",
       "      <td>0</td>\n",
       "      <td>0</td>\n",
       "      <td>0</td>\n",
       "      <td>0</td>\n",
       "      <td>0</td>\n",
       "    </tr>\n",
       "    <tr>\n",
       "      <th>Online Video</th>\n",
       "      <td>0</td>\n",
       "      <td>0</td>\n",
       "      <td>0</td>\n",
       "      <td>0</td>\n",
       "      <td>0</td>\n",
       "      <td>0</td>\n",
       "      <td>0</td>\n",
       "    </tr>\n",
       "    <tr>\n",
       "      <th>Online Display</th>\n",
       "      <td>0</td>\n",
       "      <td>0</td>\n",
       "      <td>0</td>\n",
       "      <td>0</td>\n",
       "      <td>0</td>\n",
       "      <td>0</td>\n",
       "      <td>0</td>\n",
       "    </tr>\n",
       "    <tr>\n",
       "      <th>Instagram</th>\n",
       "      <td>0</td>\n",
       "      <td>0</td>\n",
       "      <td>0</td>\n",
       "      <td>0</td>\n",
       "      <td>0</td>\n",
       "      <td>0</td>\n",
       "      <td>0</td>\n",
       "    </tr>\n",
       "    <tr>\n",
       "      <th>Facebook</th>\n",
       "      <td>0</td>\n",
       "      <td>0</td>\n",
       "      <td>0</td>\n",
       "      <td>0</td>\n",
       "      <td>0</td>\n",
       "      <td>0</td>\n",
       "      <td>0</td>\n",
       "    </tr>\n",
       "  </tbody>\n",
       "</table>\n",
       "</div>"
      ],
      "text/plain": [
       "                Paid Search  Online Video  Online Display  Instagram  \\\n",
       "Start                     0             0               0          0   \n",
       "Paid Search               0             0               0          0   \n",
       "Online Video              0             0               0          0   \n",
       "Online Display            0             0               0          0   \n",
       "Instagram                 0             0               0          0   \n",
       "Facebook                  0             0               0          0   \n",
       "\n",
       "                Facebook  Null  Conversion  \n",
       "Start                  0     0           0  \n",
       "Paid Search            0     0           0  \n",
       "Online Video           0     0           0  \n",
       "Online Display         0     0           0  \n",
       "Instagram              0     0           0  \n",
       "Facebook               0     0           0  "
      ]
     },
     "execution_count": 59,
     "metadata": {},
     "output_type": "execute_result"
    }
   ],
   "source": [
    "all_channel = ['Start']+ df['channel'].unique().tolist() \n",
    "all_touchpoints = df['channel'].unique().tolist() + ['Null','Conversion']\n",
    "transition_matrix = pd.DataFrame(data=0,columns=all_touchpoints,index=all_channel)\n",
    "transition_matrix"
   ]
  },
  {
   "cell_type": "markdown",
   "metadata": {
    "colab_type": "text",
    "id": "u-ZfPKNet_Jw"
   },
   "source": [
    "### Fill Transition Matrix"
   ]
  },
  {
   "cell_type": "code",
   "execution_count": 60,
   "metadata": {
    "colab": {
     "base_uri": "https://localhost:8080/",
     "height": 237
    },
    "colab_type": "code",
    "id": "VZeKzVO9B3yT",
    "outputId": "1ec2120e-8189-466e-dd5c-e90ce1433807"
   },
   "outputs": [
    {
     "data": {
      "text/html": [
       "<div>\n",
       "<style scoped>\n",
       "    .dataframe tbody tr th:only-of-type {\n",
       "        vertical-align: middle;\n",
       "    }\n",
       "\n",
       "    .dataframe tbody tr th {\n",
       "        vertical-align: top;\n",
       "    }\n",
       "\n",
       "    .dataframe thead th {\n",
       "        text-align: right;\n",
       "    }\n",
       "</style>\n",
       "<table border=\"1\" class=\"dataframe\">\n",
       "  <thead>\n",
       "    <tr style=\"text-align: right;\">\n",
       "      <th></th>\n",
       "      <th>Paid Search</th>\n",
       "      <th>Online Video</th>\n",
       "      <th>Online Display</th>\n",
       "      <th>Instagram</th>\n",
       "      <th>Facebook</th>\n",
       "      <th>Null</th>\n",
       "      <th>Conversion</th>\n",
       "    </tr>\n",
       "  </thead>\n",
       "  <tbody>\n",
       "    <tr>\n",
       "      <th>Start</th>\n",
       "      <td>76210</td>\n",
       "      <td>34182</td>\n",
       "      <td>34250</td>\n",
       "      <td>28618</td>\n",
       "      <td>66848</td>\n",
       "      <td>0</td>\n",
       "      <td>0</td>\n",
       "    </tr>\n",
       "    <tr>\n",
       "      <th>Paid Search</th>\n",
       "      <td>0</td>\n",
       "      <td>2596</td>\n",
       "      <td>4269</td>\n",
       "      <td>3038</td>\n",
       "      <td>5725</td>\n",
       "      <td>68476</td>\n",
       "      <td>4736</td>\n",
       "    </tr>\n",
       "    <tr>\n",
       "      <th>Online Video</th>\n",
       "      <td>1964</td>\n",
       "      <td>0</td>\n",
       "      <td>775</td>\n",
       "      <td>1307</td>\n",
       "      <td>2430</td>\n",
       "      <td>31285</td>\n",
       "      <td>3201</td>\n",
       "    </tr>\n",
       "    <tr>\n",
       "      <th>Online Display</th>\n",
       "      <td>3936</td>\n",
       "      <td>737</td>\n",
       "      <td>0</td>\n",
       "      <td>1251</td>\n",
       "      <td>2300</td>\n",
       "      <td>32236</td>\n",
       "      <td>2144</td>\n",
       "    </tr>\n",
       "    <tr>\n",
       "      <th>Instagram</th>\n",
       "      <td>2266</td>\n",
       "      <td>1193</td>\n",
       "      <td>1164</td>\n",
       "      <td>0</td>\n",
       "      <td>10822</td>\n",
       "      <td>31153</td>\n",
       "      <td>2868</td>\n",
       "    </tr>\n",
       "    <tr>\n",
       "      <th>Facebook</th>\n",
       "      <td>4464</td>\n",
       "      <td>2254</td>\n",
       "      <td>2146</td>\n",
       "      <td>15252</td>\n",
       "      <td>0</td>\n",
       "      <td>59319</td>\n",
       "      <td>4690</td>\n",
       "    </tr>\n",
       "  </tbody>\n",
       "</table>\n",
       "</div>"
      ],
      "text/plain": [
       "                Paid Search  Online Video  Online Display  Instagram  \\\n",
       "Start                 76210         34182           34250      28618   \n",
       "Paid Search               0          2596            4269       3038   \n",
       "Online Video           1964             0             775       1307   \n",
       "Online Display         3936           737               0       1251   \n",
       "Instagram              2266          1193            1164          0   \n",
       "Facebook               4464          2254            2146      15252   \n",
       "\n",
       "                Facebook   Null  Conversion  \n",
       "Start              66848      0           0  \n",
       "Paid Search         5725  68476        4736  \n",
       "Online Video        2430  31285        3201  \n",
       "Online Display      2300  32236        2144  \n",
       "Instagram          10822  31153        2868  \n",
       "Facebook               0  59319        4690  "
      ]
     },
     "execution_count": 60,
     "metadata": {},
     "output_type": "execute_result"
    }
   ],
   "source": [
    "df_paths['path'].apply(get_transition_matrix,transition_matrix=transition_matrix)\n",
    "transition_matrix"
   ]
  },
  {
   "cell_type": "markdown",
   "metadata": {
    "colab_type": "text",
    "id": "W8ZAdscyuCe_"
   },
   "source": [
    "### Compute Transition Probability from Raw Transition Count"
   ]
  },
  {
   "cell_type": "code",
   "execution_count": 61,
   "metadata": {
    "colab": {
     "base_uri": "https://localhost:8080/",
     "height": 237
    },
    "colab_type": "code",
    "id": "BIBsOkGXEO9e",
    "outputId": "41260fe6-ef3a-4116-a943-e5ca25c92b1d"
   },
   "outputs": [
    {
     "data": {
      "text/html": [
       "<div>\n",
       "<style scoped>\n",
       "    .dataframe tbody tr th:only-of-type {\n",
       "        vertical-align: middle;\n",
       "    }\n",
       "\n",
       "    .dataframe tbody tr th {\n",
       "        vertical-align: top;\n",
       "    }\n",
       "\n",
       "    .dataframe thead th {\n",
       "        text-align: right;\n",
       "    }\n",
       "</style>\n",
       "<table border=\"1\" class=\"dataframe\">\n",
       "  <thead>\n",
       "    <tr style=\"text-align: right;\">\n",
       "      <th></th>\n",
       "      <th>Paid Search</th>\n",
       "      <th>Online Video</th>\n",
       "      <th>Online Display</th>\n",
       "      <th>Instagram</th>\n",
       "      <th>Facebook</th>\n",
       "      <th>Null</th>\n",
       "      <th>Conversion</th>\n",
       "    </tr>\n",
       "  </thead>\n",
       "  <tbody>\n",
       "    <tr>\n",
       "      <th>Start</th>\n",
       "      <td>0.317399</td>\n",
       "      <td>0.142361</td>\n",
       "      <td>0.142644</td>\n",
       "      <td>0.119188</td>\n",
       "      <td>0.278408</td>\n",
       "      <td>0.000000</td>\n",
       "      <td>0.000000</td>\n",
       "    </tr>\n",
       "    <tr>\n",
       "      <th>Paid Search</th>\n",
       "      <td>0.000000</td>\n",
       "      <td>0.029221</td>\n",
       "      <td>0.048053</td>\n",
       "      <td>0.034196</td>\n",
       "      <td>0.064442</td>\n",
       "      <td>0.770779</td>\n",
       "      <td>0.053309</td>\n",
       "    </tr>\n",
       "    <tr>\n",
       "      <th>Online Video</th>\n",
       "      <td>0.047947</td>\n",
       "      <td>0.000000</td>\n",
       "      <td>0.018920</td>\n",
       "      <td>0.031908</td>\n",
       "      <td>0.059323</td>\n",
       "      <td>0.763757</td>\n",
       "      <td>0.078146</td>\n",
       "    </tr>\n",
       "    <tr>\n",
       "      <th>Online Display</th>\n",
       "      <td>0.092386</td>\n",
       "      <td>0.017299</td>\n",
       "      <td>0.000000</td>\n",
       "      <td>0.029363</td>\n",
       "      <td>0.053986</td>\n",
       "      <td>0.756643</td>\n",
       "      <td>0.050324</td>\n",
       "    </tr>\n",
       "    <tr>\n",
       "      <th>Instagram</th>\n",
       "      <td>0.045809</td>\n",
       "      <td>0.024118</td>\n",
       "      <td>0.023531</td>\n",
       "      <td>0.000000</td>\n",
       "      <td>0.218777</td>\n",
       "      <td>0.629786</td>\n",
       "      <td>0.057979</td>\n",
       "    </tr>\n",
       "    <tr>\n",
       "      <th>Facebook</th>\n",
       "      <td>0.050655</td>\n",
       "      <td>0.025577</td>\n",
       "      <td>0.024352</td>\n",
       "      <td>0.173072</td>\n",
       "      <td>0.000000</td>\n",
       "      <td>0.673123</td>\n",
       "      <td>0.053220</td>\n",
       "    </tr>\n",
       "  </tbody>\n",
       "</table>\n",
       "</div>"
      ],
      "text/plain": [
       "                Paid Search  Online Video  Online Display  Instagram  \\\n",
       "Start              0.317399      0.142361        0.142644   0.119188   \n",
       "Paid Search        0.000000      0.029221        0.048053   0.034196   \n",
       "Online Video       0.047947      0.000000        0.018920   0.031908   \n",
       "Online Display     0.092386      0.017299        0.000000   0.029363   \n",
       "Instagram          0.045809      0.024118        0.023531   0.000000   \n",
       "Facebook           0.050655      0.025577        0.024352   0.173072   \n",
       "\n",
       "                Facebook      Null  Conversion  \n",
       "Start           0.278408  0.000000    0.000000  \n",
       "Paid Search     0.064442  0.770779    0.053309  \n",
       "Online Video    0.059323  0.763757    0.078146  \n",
       "Online Display  0.053986  0.756643    0.050324  \n",
       "Instagram       0.218777  0.629786    0.057979  \n",
       "Facebook        0.000000  0.673123    0.053220  "
      ]
     },
     "execution_count": 61,
     "metadata": {},
     "output_type": "execute_result"
    }
   ],
   "source": [
    "transition_prob = transition_matrix.div(transition_matrix.sum(axis=1),axis=0)\n",
    "transition_prob"
   ]
  },
  {
   "cell_type": "code",
   "execution_count": 62,
   "metadata": {
    "colab": {
     "base_uri": "https://localhost:8080/",
     "height": 148
    },
    "colab_type": "code",
    "id": "l_CmPg5yEwNF",
    "outputId": "f36617ba-c6c7-48a9-b8f8-78faffb29517"
   },
   "outputs": [
    {
     "data": {
      "text/plain": [
       "Start             1.0\n",
       "Paid Search       1.0\n",
       "Online Video      1.0\n",
       "Online Display    1.0\n",
       "Instagram         1.0\n",
       "Facebook          1.0\n",
       "dtype: float64"
      ]
     },
     "execution_count": 62,
     "metadata": {},
     "output_type": "execute_result"
    }
   ],
   "source": [
    "# Row wise sum should be equal to 1 to satisfy transition matrix property\n",
    "transition_prob.sum(axis=1)"
   ]
  },
  {
   "cell_type": "code",
   "execution_count": 63,
   "metadata": {
    "colab": {
     "base_uri": "https://localhost:8080/",
     "height": 206
    },
    "colab_type": "code",
    "id": "y3FUWGSA7y_l",
    "outputId": "62324263-1013-4a11-e2d7-fbc0d214988d"
   },
   "outputs": [
    {
     "data": {
      "text/html": [
       "<div>\n",
       "<style scoped>\n",
       "    .dataframe tbody tr th:only-of-type {\n",
       "        vertical-align: middle;\n",
       "    }\n",
       "\n",
       "    .dataframe tbody tr th {\n",
       "        vertical-align: top;\n",
       "    }\n",
       "\n",
       "    .dataframe thead th {\n",
       "        text-align: right;\n",
       "    }\n",
       "</style>\n",
       "<table border=\"1\" class=\"dataframe\">\n",
       "  <thead>\n",
       "    <tr style=\"text-align: right;\">\n",
       "      <th></th>\n",
       "      <th>cookie</th>\n",
       "      <th>channel</th>\n",
       "      <th>conversion</th>\n",
       "      <th>path</th>\n",
       "      <th>str_path</th>\n",
       "    </tr>\n",
       "  </thead>\n",
       "  <tbody>\n",
       "    <tr>\n",
       "      <th>0</th>\n",
       "      <td>00000FkCnDfDDf0iC97iC703B</td>\n",
       "      <td>[Instagram, Online Display]</td>\n",
       "      <td>0</td>\n",
       "      <td>[Start, Instagram, Online Display, Null]</td>\n",
       "      <td>Start&gt;Instagram&gt;Online Display&gt;Null</td>\n",
       "    </tr>\n",
       "    <tr>\n",
       "      <th>1</th>\n",
       "      <td>0000nACkD9nFkBBDECD3ki00E</td>\n",
       "      <td>[Paid Search]</td>\n",
       "      <td>0</td>\n",
       "      <td>[Start, Paid Search, Null]</td>\n",
       "      <td>Start&gt;Paid Search&gt;Null</td>\n",
       "    </tr>\n",
       "    <tr>\n",
       "      <th>2</th>\n",
       "      <td>0003EfE37E93D0BC03iBhBBhF</td>\n",
       "      <td>[Paid Search]</td>\n",
       "      <td>0</td>\n",
       "      <td>[Start, Paid Search, Null]</td>\n",
       "      <td>Start&gt;Paid Search&gt;Null</td>\n",
       "    </tr>\n",
       "    <tr>\n",
       "      <th>3</th>\n",
       "      <td>00073CFE3FoFCn70fBhB3kfon</td>\n",
       "      <td>[Instagram]</td>\n",
       "      <td>0</td>\n",
       "      <td>[Start, Instagram, Null]</td>\n",
       "      <td>Start&gt;Instagram&gt;Null</td>\n",
       "    </tr>\n",
       "    <tr>\n",
       "      <th>4</th>\n",
       "      <td>00079hhBkDF3k3kDkiFi9EFAD</td>\n",
       "      <td>[Paid Search]</td>\n",
       "      <td>0</td>\n",
       "      <td>[Start, Paid Search, Null]</td>\n",
       "      <td>Start&gt;Paid Search&gt;Null</td>\n",
       "    </tr>\n",
       "  </tbody>\n",
       "</table>\n",
       "</div>"
      ],
      "text/plain": [
       "                      cookie                      channel  conversion  \\\n",
       "0  00000FkCnDfDDf0iC97iC703B  [Instagram, Online Display]           0   \n",
       "1  0000nACkD9nFkBBDECD3ki00E                [Paid Search]           0   \n",
       "2  0003EfE37E93D0BC03iBhBBhF                [Paid Search]           0   \n",
       "3  00073CFE3FoFCn70fBhB3kfon                  [Instagram]           0   \n",
       "4  00079hhBkDF3k3kDkiFi9EFAD                [Paid Search]           0   \n",
       "\n",
       "                                       path  \\\n",
       "0  [Start, Instagram, Online Display, Null]   \n",
       "1                [Start, Paid Search, Null]   \n",
       "2                [Start, Paid Search, Null]   \n",
       "3                  [Start, Instagram, Null]   \n",
       "4                [Start, Paid Search, Null]   \n",
       "\n",
       "                              str_path  \n",
       "0  Start>Instagram>Online Display>Null  \n",
       "1               Start>Paid Search>Null  \n",
       "2               Start>Paid Search>Null  \n",
       "3                 Start>Instagram>Null  \n",
       "4               Start>Paid Search>Null  "
      ]
     },
     "execution_count": 63,
     "metadata": {},
     "output_type": "execute_result"
    }
   ],
   "source": [
    "df_paths['str_path']= df_paths['path'].apply(lambda x : \">\".join(x))\n",
    "df_paths.head()"
   ]
  },
  {
   "cell_type": "code",
   "execution_count": 64,
   "metadata": {
    "colab": {
     "base_uri": "https://localhost:8080/",
     "height": 36
    },
    "colab_type": "code",
    "id": "UITzZaqQiBt5",
    "outputId": "4d3cb833-18e3-4fbb-af97-24e60733415b"
   },
   "outputs": [
    {
     "data": {
      "text/plain": [
       "415"
      ]
     },
     "execution_count": 64,
     "metadata": {},
     "output_type": "execute_result"
    }
   ],
   "source": [
    "total_paths = df_paths['str_path'].nunique()\n",
    "total_paths"
   ]
  },
  {
   "cell_type": "code",
   "execution_count": 65,
   "metadata": {
    "colab": {
     "base_uri": "https://localhost:8080/",
     "height": 36
    },
    "colab_type": "code",
    "id": "CUWHmNpCvzsM",
    "outputId": "274d2bc6-fde6-40bc-8767-4614540f0e05"
   },
   "outputs": [
    {
     "data": {
      "text/plain": [
       "415"
      ]
     },
     "execution_count": 65,
     "metadata": {},
     "output_type": "execute_result"
    }
   ],
   "source": [
    "total_conversion_paths = df_paths['str_path'].nunique()\n",
    "total_conversion_paths"
   ]
  },
  {
   "cell_type": "code",
   "execution_count": 66,
   "metadata": {
    "colab": {
     "base_uri": "https://localhost:8080/",
     "height": 36
    },
    "colab_type": "code",
    "id": "tONhuoqG8Vez",
    "outputId": "c065dec2-0b58-42f9-8040-4649f354e115"
   },
   "outputs": [
    {
     "data": {
      "text/plain": [
       "165"
      ]
     },
     "execution_count": 66,
     "metadata": {},
     "output_type": "execute_result"
    }
   ],
   "source": [
    "conversion_paths = (df_paths.loc[df_paths['conversion']==1,]['str_path'].unique()).tolist()\n",
    "len(conversion_paths)"
   ]
  },
  {
   "cell_type": "markdown",
   "metadata": {
    "colab_type": "text",
    "id": "1kDz4GZQueEz"
   },
   "source": [
    "### Function to get calculate Path Probability in Markov Chain"
   ]
  },
  {
   "cell_type": "code",
   "execution_count": 67,
   "metadata": {
    "colab": {},
    "colab_type": "code",
    "id": "7JBIc7qQ89dq"
   },
   "outputs": [],
   "source": [
    "def path_prob(path,transition_prob):\n",
    "    channels = path.split('>')\n",
    "    prob = 1\n",
    "    for idx in range(len(channels)-1):\n",
    "        prob = prob * transition_prob.at[channels[idx],channels[idx+1]]\n",
    "    return prob"
   ]
  },
  {
   "cell_type": "code",
   "execution_count": 68,
   "metadata": {
    "colab": {
     "base_uri": "https://localhost:8080/",
     "height": 36
    },
    "colab_type": "code",
    "id": "szJvTlKyB2tH",
    "outputId": "485e051d-360d-4637-e796-a54a584f6154"
   },
   "outputs": [
    {
     "data": {
      "text/plain": [
       "0.002122118382165311"
      ]
     },
     "execution_count": 68,
     "metadata": {},
     "output_type": "execute_result"
    }
   ],
   "source": [
    "path ='Start>Instagram>Online Display>Null'\n",
    "path_prob(path,transition_prob)"
   ]
  },
  {
   "cell_type": "markdown",
   "metadata": {
    "colab_type": "text",
    "id": "MLUKXiU2umOF"
   },
   "source": [
    "### Overall Conversion Probability"
   ]
  },
  {
   "cell_type": "code",
   "execution_count": 69,
   "metadata": {
    "colab": {
     "base_uri": "https://localhost:8080/",
     "height": 36
    },
    "colab_type": "code",
    "id": "XVO1mmTWCV3v",
    "outputId": "5d38b647-ea8e-485e-cdce-7f6b1998c77d"
   },
   "outputs": [
    {
     "data": {
      "text/plain": [
       "0.07138023933374517"
      ]
     },
     "execution_count": 69,
     "metadata": {},
     "output_type": "execute_result"
    }
   ],
   "source": [
    "conversion_prob = 0\n",
    "for path in conversion_paths:\n",
    "    conversion_prob = conversion_prob + path_prob(path,transition_prob)\n",
    "conversion_prob"
   ]
  },
  {
   "cell_type": "code",
   "execution_count": 70,
   "metadata": {
    "colab": {
     "base_uri": "https://localhost:8080/",
     "height": 36
    },
    "colab_type": "code",
    "id": "En7ghJTCHxQP",
    "outputId": "b72428bf-3604-4d06-b9d6-164799021588"
   },
   "outputs": [
    {
     "data": {
      "text/plain": [
       "0.07346277508454528"
      ]
     },
     "execution_count": 70,
     "metadata": {},
     "output_type": "execute_result"
    }
   ],
   "source": [
    "df_paths['conversion'].mean()"
   ]
  },
  {
   "cell_type": "code",
   "execution_count": 71,
   "metadata": {
    "colab": {
     "base_uri": "https://localhost:8080/",
     "height": 36
    },
    "colab_type": "code",
    "id": "5C58nsYgIFoB",
    "outputId": "ddcc6526-ca83-47d2-e2d9-503c4e681c32"
   },
   "outputs": [
    {
     "data": {
      "text/plain": [
       "['Paid Search', 'Online Video', 'Online Display', 'Instagram', 'Facebook']"
      ]
     },
     "execution_count": 71,
     "metadata": {},
     "output_type": "execute_result"
    }
   ],
   "source": [
    "unique_channels = df['channel'].unique().tolist()\n",
    "unique_channels"
   ]
  },
  {
   "cell_type": "markdown",
   "metadata": {
    "colab_type": "text",
    "id": "jzbUwn6Huttr"
   },
   "source": [
    "## Compute Removal Effect of each channel"
   ]
  },
  {
   "cell_type": "code",
   "execution_count": 72,
   "metadata": {
    "colab": {
     "base_uri": "https://localhost:8080/",
     "height": 206
    },
    "colab_type": "code",
    "id": "Hc3bDSW7J59B",
    "outputId": "799abb19-b0be-4749-c04b-5a1952750581"
   },
   "outputs": [
    {
     "data": {
      "text/html": [
       "<div>\n",
       "<style scoped>\n",
       "    .dataframe tbody tr th:only-of-type {\n",
       "        vertical-align: middle;\n",
       "    }\n",
       "\n",
       "    .dataframe tbody tr th {\n",
       "        vertical-align: top;\n",
       "    }\n",
       "\n",
       "    .dataframe thead th {\n",
       "        text-align: right;\n",
       "    }\n",
       "</style>\n",
       "<table border=\"1\" class=\"dataframe\">\n",
       "  <thead>\n",
       "    <tr style=\"text-align: right;\">\n",
       "      <th></th>\n",
       "      <th>conversion</th>\n",
       "    </tr>\n",
       "  </thead>\n",
       "  <tbody>\n",
       "    <tr>\n",
       "      <th>0</th>\n",
       "      <td>Start&gt;Paid Search&gt;Conversion</td>\n",
       "    </tr>\n",
       "    <tr>\n",
       "      <th>1</th>\n",
       "      <td>Start&gt;Facebook&gt;Conversion</td>\n",
       "    </tr>\n",
       "    <tr>\n",
       "      <th>2</th>\n",
       "      <td>Start&gt;Online Video&gt;Instagram&gt;Conversion</td>\n",
       "    </tr>\n",
       "    <tr>\n",
       "      <th>3</th>\n",
       "      <td>Start&gt;Online Video&gt;Conversion</td>\n",
       "    </tr>\n",
       "    <tr>\n",
       "      <th>4</th>\n",
       "      <td>Start&gt;Instagram&gt;Facebook&gt;Conversion</td>\n",
       "    </tr>\n",
       "  </tbody>\n",
       "</table>\n",
       "</div>"
      ],
      "text/plain": [
       "                                conversion\n",
       "0             Start>Paid Search>Conversion\n",
       "1                Start>Facebook>Conversion\n",
       "2  Start>Online Video>Instagram>Conversion\n",
       "3            Start>Online Video>Conversion\n",
       "4      Start>Instagram>Facebook>Conversion"
      ]
     },
     "execution_count": 72,
     "metadata": {},
     "output_type": "execute_result"
    }
   ],
   "source": [
    "removal_effect = pd.DataFrame(conversion_paths,columns=['conversion'])\n",
    "removal_effect.head()"
   ]
  },
  {
   "cell_type": "code",
   "execution_count": 73,
   "metadata": {
    "colab": {
     "base_uri": "https://localhost:8080/",
     "height": 206
    },
    "colab_type": "code",
    "id": "HePEUvNjaoqT",
    "outputId": "05364750-5a01-441f-efad-8843f0d23aab"
   },
   "outputs": [
    {
     "data": {
      "text/html": [
       "<div>\n",
       "<style scoped>\n",
       "    .dataframe tbody tr th:only-of-type {\n",
       "        vertical-align: middle;\n",
       "    }\n",
       "\n",
       "    .dataframe tbody tr th {\n",
       "        vertical-align: top;\n",
       "    }\n",
       "\n",
       "    .dataframe thead th {\n",
       "        text-align: right;\n",
       "    }\n",
       "</style>\n",
       "<table border=\"1\" class=\"dataframe\">\n",
       "  <thead>\n",
       "    <tr style=\"text-align: right;\">\n",
       "      <th></th>\n",
       "      <th>conversion</th>\n",
       "      <th>path</th>\n",
       "    </tr>\n",
       "  </thead>\n",
       "  <tbody>\n",
       "    <tr>\n",
       "      <th>0</th>\n",
       "      <td>Start&gt;Paid Search&gt;Conversion</td>\n",
       "      <td>[Start, Paid Search, Conversion]</td>\n",
       "    </tr>\n",
       "    <tr>\n",
       "      <th>1</th>\n",
       "      <td>Start&gt;Facebook&gt;Conversion</td>\n",
       "      <td>[Start, Facebook, Conversion]</td>\n",
       "    </tr>\n",
       "    <tr>\n",
       "      <th>2</th>\n",
       "      <td>Start&gt;Online Video&gt;Instagram&gt;Conversion</td>\n",
       "      <td>[Start, Online Video, Instagram, Conversion]</td>\n",
       "    </tr>\n",
       "    <tr>\n",
       "      <th>3</th>\n",
       "      <td>Start&gt;Online Video&gt;Conversion</td>\n",
       "      <td>[Start, Online Video, Conversion]</td>\n",
       "    </tr>\n",
       "    <tr>\n",
       "      <th>4</th>\n",
       "      <td>Start&gt;Instagram&gt;Facebook&gt;Conversion</td>\n",
       "      <td>[Start, Instagram, Facebook, Conversion]</td>\n",
       "    </tr>\n",
       "  </tbody>\n",
       "</table>\n",
       "</div>"
      ],
      "text/plain": [
       "                                conversion  \\\n",
       "0             Start>Paid Search>Conversion   \n",
       "1                Start>Facebook>Conversion   \n",
       "2  Start>Online Video>Instagram>Conversion   \n",
       "3            Start>Online Video>Conversion   \n",
       "4      Start>Instagram>Facebook>Conversion   \n",
       "\n",
       "                                           path  \n",
       "0              [Start, Paid Search, Conversion]  \n",
       "1                 [Start, Facebook, Conversion]  \n",
       "2  [Start, Online Video, Instagram, Conversion]  \n",
       "3             [Start, Online Video, Conversion]  \n",
       "4      [Start, Instagram, Facebook, Conversion]  "
      ]
     },
     "execution_count": 73,
     "metadata": {},
     "output_type": "execute_result"
    }
   ],
   "source": [
    "removal_effect['path'] = removal_effect['conversion'].apply(lambda x : x.split('>'))\n",
    "removal_effect.head()"
   ]
  },
  {
   "cell_type": "code",
   "execution_count": 74,
   "metadata": {
    "colab": {},
    "colab_type": "code",
    "id": "AO27Gx9Par02"
   },
   "outputs": [],
   "source": [
    "for channel in unique_channels:\n",
    "    removal_effect[channel] = removal_effect['path'].apply(lambda x : channel in x)"
   ]
  },
  {
   "cell_type": "code",
   "execution_count": 75,
   "metadata": {
    "colab": {
     "base_uri": "https://localhost:8080/",
     "height": 206
    },
    "colab_type": "code",
    "id": "38uwccChbiM1",
    "outputId": "a466e395-edfe-416c-85f3-f37253e69272"
   },
   "outputs": [
    {
     "data": {
      "text/html": [
       "<div>\n",
       "<style scoped>\n",
       "    .dataframe tbody tr th:only-of-type {\n",
       "        vertical-align: middle;\n",
       "    }\n",
       "\n",
       "    .dataframe tbody tr th {\n",
       "        vertical-align: top;\n",
       "    }\n",
       "\n",
       "    .dataframe thead th {\n",
       "        text-align: right;\n",
       "    }\n",
       "</style>\n",
       "<table border=\"1\" class=\"dataframe\">\n",
       "  <thead>\n",
       "    <tr style=\"text-align: right;\">\n",
       "      <th></th>\n",
       "      <th>channel</th>\n",
       "      <th>conversion_prob</th>\n",
       "      <th>removal_effect</th>\n",
       "    </tr>\n",
       "  </thead>\n",
       "  <tbody>\n",
       "    <tr>\n",
       "      <th>0</th>\n",
       "      <td>Paid Search</td>\n",
       "      <td>0.047794</td>\n",
       "      <td>0.330427</td>\n",
       "    </tr>\n",
       "    <tr>\n",
       "      <th>1</th>\n",
       "      <td>Online Video</td>\n",
       "      <td>0.056545</td>\n",
       "      <td>0.207833</td>\n",
       "    </tr>\n",
       "    <tr>\n",
       "      <th>2</th>\n",
       "      <td>Online Display</td>\n",
       "      <td>0.060470</td>\n",
       "      <td>0.152852</td>\n",
       "    </tr>\n",
       "    <tr>\n",
       "      <th>3</th>\n",
       "      <td>Instagram</td>\n",
       "      <td>0.057055</td>\n",
       "      <td>0.200683</td>\n",
       "    </tr>\n",
       "    <tr>\n",
       "      <th>4</th>\n",
       "      <td>Facebook</td>\n",
       "      <td>0.047112</td>\n",
       "      <td>0.339983</td>\n",
       "    </tr>\n",
       "  </tbody>\n",
       "</table>\n",
       "</div>"
      ],
      "text/plain": [
       "          channel  conversion_prob  removal_effect\n",
       "0     Paid Search         0.047794        0.330427\n",
       "1    Online Video         0.056545        0.207833\n",
       "2  Online Display         0.060470        0.152852\n",
       "3       Instagram         0.057055        0.200683\n",
       "4        Facebook         0.047112        0.339983"
      ]
     },
     "execution_count": 75,
     "metadata": {},
     "output_type": "execute_result"
    }
   ],
   "source": [
    "removal_weight = {}\n",
    "conversion_effect = {}\n",
    "total_weight = 0\n",
    "for channel in unique_channels:\n",
    "    prob = removal_effect.loc[~removal_effect[channel],'conversion'].apply(path_prob,transition_prob=transition_prob)\n",
    "    conversion_effect[channel] = prob.sum()\n",
    "    removal_weight[channel] = (conversion_prob - prob.sum())/conversion_prob\n",
    "    total_weight = total_weight + removal_weight[channel]\n",
    "\n",
    "channel_removal = pd.DataFrame({'channel':list(removal_weight.keys()),\n",
    "                                'conversion_prob': list(conversion_effect.values()),\n",
    "                                'removal_effect':list(removal_weight.values()),})\n",
    "channel_removal"
   ]
  },
  {
   "cell_type": "code",
   "execution_count": 76,
   "metadata": {
    "colab": {
     "base_uri": "https://localhost:8080/",
     "height": 206
    },
    "colab_type": "code",
    "id": "Lwda000WwgYI",
    "outputId": "118c028e-c3cf-47f0-abda-f09e99043c49"
   },
   "outputs": [
    {
     "data": {
      "text/html": [
       "<div>\n",
       "<style scoped>\n",
       "    .dataframe tbody tr th:only-of-type {\n",
       "        vertical-align: middle;\n",
       "    }\n",
       "\n",
       "    .dataframe tbody tr th {\n",
       "        vertical-align: top;\n",
       "    }\n",
       "\n",
       "    .dataframe thead th {\n",
       "        text-align: right;\n",
       "    }\n",
       "</style>\n",
       "<table border=\"1\" class=\"dataframe\">\n",
       "  <thead>\n",
       "    <tr style=\"text-align: right;\">\n",
       "      <th></th>\n",
       "      <th>channel</th>\n",
       "      <th>conversion_prob</th>\n",
       "      <th>removal_effect</th>\n",
       "      <th>attribution</th>\n",
       "    </tr>\n",
       "  </thead>\n",
       "  <tbody>\n",
       "    <tr>\n",
       "      <th>0</th>\n",
       "      <td>Paid Search</td>\n",
       "      <td>0.047794</td>\n",
       "      <td>0.330427</td>\n",
       "      <td>0.268252</td>\n",
       "    </tr>\n",
       "    <tr>\n",
       "      <th>1</th>\n",
       "      <td>Online Video</td>\n",
       "      <td>0.056545</td>\n",
       "      <td>0.207833</td>\n",
       "      <td>0.168726</td>\n",
       "    </tr>\n",
       "    <tr>\n",
       "      <th>2</th>\n",
       "      <td>Online Display</td>\n",
       "      <td>0.060470</td>\n",
       "      <td>0.152852</td>\n",
       "      <td>0.124090</td>\n",
       "    </tr>\n",
       "    <tr>\n",
       "      <th>3</th>\n",
       "      <td>Instagram</td>\n",
       "      <td>0.057055</td>\n",
       "      <td>0.200683</td>\n",
       "      <td>0.162921</td>\n",
       "    </tr>\n",
       "    <tr>\n",
       "      <th>4</th>\n",
       "      <td>Facebook</td>\n",
       "      <td>0.047112</td>\n",
       "      <td>0.339983</td>\n",
       "      <td>0.276010</td>\n",
       "    </tr>\n",
       "  </tbody>\n",
       "</table>\n",
       "</div>"
      ],
      "text/plain": [
       "          channel  conversion_prob  removal_effect  attribution\n",
       "0     Paid Search         0.047794        0.330427     0.268252\n",
       "1    Online Video         0.056545        0.207833     0.168726\n",
       "2  Online Display         0.060470        0.152852     0.124090\n",
       "3       Instagram         0.057055        0.200683     0.162921\n",
       "4        Facebook         0.047112        0.339983     0.276010"
      ]
     },
     "execution_count": 76,
     "metadata": {},
     "output_type": "execute_result"
    }
   ],
   "source": [
    "channel_removal['attribution'] = channel_removal['removal_effect']/channel_removal['removal_effect'].sum()\n",
    "channel_removal"
   ]
  },
  {
   "cell_type": "markdown",
   "metadata": {
    "colab_type": "text",
    "id": "EmZ_LHCbu4e2"
   },
   "source": [
    "### Interpretation of above channel removal effect table<br>\n",
    "\n",
    "1.   By removing paid search, the overall conversion probability drops from 7% to 4%\n",
    "2.   if we didn’t have the Paid Search channel in customer journeys we would lose 33% of conversions.\n",
    "3.   Paid Search Contribute 26% in Conversion.\n",
    "\n",
    "\n"
   ]
  },
  {
   "cell_type": "code",
   "execution_count": 77,
   "metadata": {
    "colab": {
     "base_uri": "https://localhost:8080/",
     "height": 339
    },
    "colab_type": "code",
    "id": "jN52vA6snBCV",
    "outputId": "a84482a0-817b-4674-a0bc-a7a327ed0388"
   },
   "outputs": [
    {
     "data": {
      "text/plain": [
       "<BarContainer object of 5 artists>"
      ]
     },
     "execution_count": 77,
     "metadata": {},
     "output_type": "execute_result"
    },
    {
     "data": {
      "image/png": "[encoded data removed]",
      "text/plain": [
       "<Figure size 720x360 with 1 Axes>"
      ]
     },
     "metadata": {
      "needs_background": "light"
     },
     "output_type": "display_data"
    }
   ],
   "source": [
    "# Total Conversion attribution\n",
    "channel_removal['conversion'] = df_paths['conversion'].sum()*channel_removal['attribution']\n",
    "channel_removal['conversion'] = channel_removal['conversion'].round()\n",
    "plt.figure(figsize=(10,5))\n",
    "plt.bar(channel_removal['channel'],channel_removal['conversion'])"
   ]
  },
  {
   "cell_type": "code",
   "execution_count": null,
   "metadata": {},
   "outputs": [],
   "source": []
  },
  {
   "cell_type": "code",
   "execution_count": null,
   "metadata": {},
   "outputs": [],
   "source": []
  }
 ],
 "metadata": {
  "colab": {
   "collapsed_sections": [],
   "name": "Attribution.ipynb",
   "provenance": []
  },
  "kernelspec": {
   "display_name": "Python 3",
   "language": "python",
   "name": "python3"
  },
  "language_info": {
   "codemirror_mode": {
    "name": "ipython",
    "version": 3
   },
   "file_extension": ".py",
   "mimetype": "text/x-python",
   "name": "python",
   "nbconvert_exporter": "python",
   "pygments_lexer": "ipython3",
   "version": "3.6.8"
  }
 },
 "nbformat": 4,
 "nbformat_minor": 1
}

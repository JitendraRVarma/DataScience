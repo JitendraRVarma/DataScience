{
 "cells": [
  {
   "cell_type": "code",
   "execution_count": 1,
   "metadata": {},
   "outputs": [],
   "source": [
    "import numpy as np\n",
    "import matplotlib.pyplot as plt\n",
    "import pandas as pd\n",
    "import seaborn as sns\n",
    "import warnings\n",
    "warnings.filterwarnings('ignore')\n",
    "import sys\n",
    "sns.set()\n",
    "np.random.seed(42)"
   ]
  },
  {
   "cell_type": "markdown",
   "metadata": {},
   "source": [
    "### Defining Quadratic Assignment problem\n",
    "\n",
    "The objective of the Quadratic Assignment Problem (QAP) is to assign n facilities to n locations in such a way as to minimize the assignment cost. The assignment cost is the sum, over all pairs, of the flow between a pair of facilities multiplied by the distance between their assigned locations"
   ]
  },
  {
   "cell_type": "code",
   "execution_count": 2,
   "metadata": {},
   "outputs": [],
   "source": [
    "facility = ['A','B','C','D','E','F','G','H',]\n",
    "location = ['L1','L2','L3','L4','L5','L6','L7','L8']\n",
    "\n",
    "distance_df = pd.DataFrame([[0,1,2,3,1,2,3,4],[1,0,1,2,2,1,2,3],[2,1,0,1,3,2,1,2],\n",
    "                            [3,2,1,0,4,3,2,1],[1,2,3,4,0,1,2,3],[2,1,2,3,1,0,1,2],\n",
    "                            [3,2,1,2,2,1,0,1],[4,3,2,1,3,2,1,0]],\n",
    "                           columns=location,index=location)\n",
    "\n",
    "frequency_df = pd.DataFrame([[0,5,2,4,1,0,0,6],[5,0,3,0,2,2,2,0],[2,3,0,0,0,0,0,5],\n",
    "                             [4,0,0,0,5,2,2,10],[1,2,0,5,0,10,0,0],[0,2,0,2,10,0,5,1],\n",
    "                             [0,2,0,2,0,5,0,10],[6,0,5,10,0,1,10,0]],\n",
    "                            columns=facility,index=facility)"
   ]
  },
  {
   "cell_type": "code",
   "execution_count": 3,
   "metadata": {},
   "outputs": [],
   "source": [
    "def get_fitness_value(chromosome,distance_df,frequency_df):\n",
    "    size = len(distance_df.columns)\n",
    "    lower_idx = np.tril_indices(size, -1)     #lower triangle matrix indices\n",
    "    assign = frequency_df.reindex(index=chromosome,columns=chromosome)\n",
    "    cost = distance_df.values * assign.values\n",
    "    cost = np.sum(cost[lower_idx])\n",
    "    return cost\n",
    "\n",
    "def get_family(parents_idx,fitness_values):\n",
    "    # select best parent from k candidates\n",
    "    values = fitness_values[parents_idx]  \n",
    "    select_idx = np.argsort(values)[0]\n",
    "    return parents_idx[select_idx]\n",
    "\n",
    "def cross_over(parents,pop,prob_crs_ovr=1):\n",
    "    # get parents chromosome from population\n",
    "    parent_1 = pop[parents[0]]\n",
    "    parent_2 = pop[parents[1]]\n",
    "    \n",
    "    \n",
    "    # cross over if random is less than probability of cross over\n",
    "    random =  np.random.rand()\n",
    "  \n",
    "    if random < prob_crs_ovr:\n",
    "         # create position for two point cross over\n",
    "        idx_1 = np.random.randint(0,len(parent_1))\n",
    "        idx_2 = np.random.randint(0,len(parent_2))\n",
    "\n",
    "        # position 1 and position 2 should not be equal\n",
    "        while idx_1 == idx_2:\n",
    "            idx_2 = np.random.randint(0,len(parent_2))\n",
    "\n",
    "        # position 1 should be before position 2\n",
    "        if idx_1 < idx_2:\n",
    "            pos_1 = idx_1\n",
    "            pos_2 = idx_2\n",
    "        else:\n",
    "            pos_1 = idx_2\n",
    "            pos_2 = idx_1\n",
    "    \n",
    "        # create children 1 by replicating middle part of parent 1 into parent 2\n",
    "        p1_mid = parent_1[pos_1:pos_2]\n",
    "        child_1 = np.copy(parent_2)\n",
    "        p1_idx = pos_1\n",
    "        for gene in p1_mid:\n",
    "            \n",
    "            # find gene position in parent 2\n",
    "            p2_idx = np.where(parent_2 == gene)[0][0] \n",
    "            \n",
    "            # put gene in same as position in parent 2 as in parent 1\n",
    "            # swap the values in parent 2 where gene needs to go with where gene is currently present\n",
    "            child_1[[p1_idx,p2_idx]] =child_1[[p2_idx,p1_idx]] \n",
    "           \n",
    "            # increment p1_idx\n",
    "            p1_idx = p1_idx+1\n",
    "    \n",
    "        # create children 2 by replicating middle part of parent 2 into parent 1\n",
    "        p2_mid = parent_2[pos_1:pos_2]\n",
    "        child_2 = np.copy(parent_2)\n",
    "        p2_idx = pos_1\n",
    "        for gene in p2_mid:\n",
    "            \n",
    "            # find gene position in parent 1\n",
    "            p1_idx = np.where(parent_1 == gene)[0][0] \n",
    "            \n",
    "            # put gene in same as position in parent 1 as in parent 2\n",
    "            # swap the values in parent 1 where gene needs to go with where gene is currently present\n",
    "            child_1[[p2_idx,p1_idx]] =child_1[[p1_idx,p2_idx]] \n",
    "           \n",
    "            # increment p1_idx\n",
    "            p2_idx = p2_idx+1\n",
    "            \n",
    "    else:\n",
    "        child_1 = parent_1\n",
    "        child_2 = parent_2\n",
    "    \n",
    "    return np.array([child_1,child_2])     \n",
    "\n",
    "def mutation(child,p_mutate):\n",
    "    # mutate gene where random number is less 0.2\n",
    "    random = np.random.rand()\n",
    "    if random < p_mutate:\n",
    "        # create position for mutation between two points\n",
    "        idx_1 = np.random.randint(0,len(child))\n",
    "        idx_2 = np.random.randint(0,len(child))\n",
    "\n",
    "        # position 1 and position 2 should not be equal\n",
    "        while idx_1 == idx_2:\n",
    "            idx_2 = np.random.randint(0,len(child))\n",
    "            \n",
    "        # position 1 should be before position 2\n",
    "        if idx_1 < idx_2:\n",
    "            pos_1 = idx_1\n",
    "            pos_2 = idx_2\n",
    "        else:\n",
    "            pos_1 = idx_2\n",
    "            pos_2 = idx_1\n",
    "            \n",
    "        # reverse the position between position 1 and position 2\n",
    "        child[pos_1:pos_2] = np.flip(child[pos_1:pos_2])\n",
    "                                     \n",
    "    return child                                     "
   ]
  },
  {
   "cell_type": "code",
   "execution_count": 4,
   "metadata": {},
   "outputs": [
    {
     "name": "stdout",
     "output_type": "stream",
     "text": [
      "Best Solution occus in gen 1 for sequence = ['C' 'H' 'G' 'F' 'B' 'A' 'D' 'E'] and obj value 107\n"
     ]
    }
   ],
   "source": [
    "p_mutation = 0.2        # Probability of mutation\n",
    "k = 3                   # For Tournament selection\n",
    "n_pop = 100             # Population per generation\n",
    "n_gen = 50              # Number of generations\n",
    "\n",
    "gen_sol = []\n",
    "gen_value = []\n",
    "\n",
    "# Generate initial population by replicating facility into n_pop dimension\n",
    "pop = np.tile(facility, (n_pop,1))\n",
    "\n",
    "# Random shuffle the solutions\n",
    "np.apply_along_axis(np.random.shuffle,1,pop)\n",
    "\n",
    "for gen in range(n_gen):\n",
    "    # compute fitness value for each chromosome\n",
    "    all_cost = np.apply_along_axis(get_fitness_value,1,pop,distance_df=distance_df,frequency_df=frequency_df)\n",
    "    \n",
    "    # find index for minimum value\n",
    "    best_idx = np.argmin(all_cost)\n",
    "    \n",
    "    # store best solution and best value for this generation\n",
    "    gen_sol.append(pop[best_idx])\n",
    "    gen_value.append(all_cost[best_idx])\n",
    "    \n",
    "    # select k candidate for mutation for n_pop times\n",
    "    candidates = np.random.choice(np.arange(0,n_pop),n_pop*k).reshape(n_pop,k)\n",
    "    \n",
    "    # Get the best parent from the candidates\n",
    "    family = np.apply_along_axis(get_family,1,candidates,fitness_values=all_cost)\n",
    "    \n",
    "    # reshaping to get two parent to produce two child\n",
    "    parents = family.reshape(int(n_pop/2),2)\n",
    "    \n",
    "    # create new population by crossover\n",
    "    new_pop = np.apply_along_axis(cross_over,1,parents,pop=pop)\n",
    "\n",
    "    # new population will be three dimensional array\n",
    "    # convert 3D array to 2D array\n",
    "    pop = np.vstack((new_pop[:,0,:],new_pop[:,1,:]))   \n",
    "    \n",
    "    # mutate child\n",
    "    pop = np.apply_along_axis(mutation,1,pop,p_mutate=p_mutation)\n",
    "    \n",
    "# choose the best value and best solution obtained from all generations \n",
    "best_idx = np.argmin(gen_value)\n",
    "best_min = gen_value[best_idx]\n",
    "chromosome = gen_sol[best_idx]\n",
    "print('Best Solution occus in gen {} for sequence = {} and obj value {}'.format(best_idx,chromosome,best_min))     "
   ]
  },
  {
   "cell_type": "code",
   "execution_count": 5,
   "metadata": {},
   "outputs": [
    {
     "data": {
      "text/plain": [
       "[<matplotlib.lines.Line2D at 0x26f8bc49208>]"
      ]
     },
     "execution_count": 5,
     "metadata": {},
     "output_type": "execute_result"
    },
    {
     "data": {
      "image/png": "[encoded data removed]",
      "text/plain": [
       "<Figure size 1080x432 with 1 Axes>"
      ]
     },
     "metadata": {
      "needs_background": "light"
     },
     "output_type": "display_data"
    }
   ],
   "source": [
    "plt.figure(figsize=(15,6))\n",
    "plt.xlabel('Generation')\n",
    "plt.ylabel('Objective function value')\n",
    "plt.plot(range(n_gen),gen_value)"
   ]
  },
  {
   "cell_type": "code",
   "execution_count": null,
   "metadata": {},
   "outputs": [],
   "source": []
  }
 ],
 "metadata": {
  "kernelspec": {
   "display_name": "Python 3",
   "language": "python",
   "name": "python3"
  },
  "language_info": {
   "codemirror_mode": {
    "name": "ipython",
    "version": 3
   },
   "file_extension": ".py",
   "mimetype": "text/x-python",
   "name": "python",
   "nbconvert_exporter": "python",
   "pygments_lexer": "ipython3",
   "version": "3.6.8"
  }
 },
 "nbformat": 4,
 "nbformat_minor": 2
}

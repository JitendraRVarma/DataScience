{
 "cells": [
  {
   "cell_type": "code",
   "execution_count": 1,
   "metadata": {},
   "outputs": [],
   "source": [
    "from pulp import *"
   ]
  },
  {
   "cell_type": "markdown",
   "metadata": {},
   "source": [
    "### Problem\n",
    "\n",
    "Delectation Delicatessen is the best take-out sandwich shop in the neighborhood, and business is booming. Business is so good that it can sell all of the sandwiches that it can make.\n",
    "\n",
    "Delectation only sells two types of sandwiches: the “Surf-n-Turf” which sells for \\\\$ 6.95,and the “Fish-n-Fowl” which sells for $5.50. \n",
    "\n",
    "Ingredient lists from the recipes for the two sandwiches are:\n",
    "\n",
    "</br>The Fish-n-Fowl: \n",
    "* 0.25 pounds of tuna fish salad \n",
    "* 0.5 pounds of sliced turkey \n",
    "* 2 slices of rye bread \n",
    "* 1 slice of pumpernickel bread \n",
    "\n",
    "</br>The Surf-n-Turf:\n",
    "* 0.40 pounds of sliced roast beef\n",
    "* 0.25 pounds of tuna fish salad\n",
    "* 1 slice of rye bread\n",
    "* 1 slice of pumpernickel bread\n",
    "\n",
    "Delectation gets all of its meats and breads from Edith's Wholesale Restaurant Supply. Based on conversations he has had with his customers, Delectation’s proprietor Joe has become convinced that it is the high quality of Edith's ingredients, as well as the deli's unique sandwich recipes, that makes Delectation Deli so popular.\n",
    "\n",
    "To assure a steady supply of ingredients, Delectation has entered into a long-term contract with Edith where, for a fixed sum of money, Edith's delivers 60 pounds of roast beef,200 pounds of tuna salad, 260 pounds of turkey, 60 loaves of rye bread, and 32 loaves of pumpernickel bread each day. There are 25 usable slices in each loaf of bread"
   ]
  },
  {
   "cell_type": "markdown",
   "metadata": {},
   "source": [
    "### Problem Formulation\n",
    "\n",
    "Decision Variables:<br>\n",
    "fish = # of Fish-n-Fowl sandwiches made each day <br>\n",
    "surf = # of Surf-n-Turf sandwiches made each day <br>\n",
    "\n",
    "objective function: <br>\n",
    "max 5.50 F + 6.95 S\n",
    "\n",
    "(Roast beef) 0.40 S <= 60 <br>\n",
    "(Tuna fish) 0.25 F + 0.25 S <= 200 <br>\n",
    "(Turkey) 0.5 F <= 260 <br>\n",
    "(Rye) 2 F + S <= 1500 <br>\n",
    "(Pumpernickel) F + S <= 800 <br>\n",
    "(Nonnegativity) F, S <= 0 <br>"
   ]
  },
  {
   "cell_type": "code",
   "execution_count": 17,
   "metadata": {},
   "outputs": [
    {
     "name": "stdout",
     "output_type": "stream",
     "text": [
      "Maximize_Profits:\n",
      "MAXIMIZE\n",
      "5.5*Fish + 6.95*Surf + 0.0\n",
      "SUBJECT TO\n",
      "roast_beef: 0.4 Surf <= 60\n",
      "\n",
      "tuna_fish: 0.25 Fish + 0.25 Surf <= 200\n",
      "\n",
      "turkey: 0.5 Fish <= 260\n",
      "\n",
      "rye: 0.5 Fish + Surf <= 1500\n",
      "\n",
      "pumpernickel: Fish + Surf <= 800\n",
      "\n",
      "fish_non_negativity: Fish >= 0\n",
      "\n",
      "surf_non_negativity: Surf >= 0\n",
      "\n",
      "VARIABLES\n",
      "Fish free Continuous\n",
      "Surf free Continuous\n",
      "\n"
     ]
    }
   ],
   "source": [
    "# define problem\n",
    "problem = LpProblem(\"Maximize_Profits\", LpMaximize)\n",
    "\n",
    "# define decision variables\n",
    "fish = LpVariable('Fish', lowBound=None, upBound=None, cat='Continuous')\n",
    "surf = LpVariable('Surf', lowBound=None, upBound=None, cat='Continuous')\n",
    "\n",
    "# define objective function : profit earned by selling each fish and surf\n",
    "problem += 5.50*fish + 6.95*surf\n",
    "\n",
    "# define constraints\n",
    "problem += 0.4*surf <= 60, \"roast beef\"\n",
    "problem += 0.25*fish + 0.25*surf <= 200, \"tuna fish\"\n",
    "problem += 0.5*fish  <= 260, \"turkey\"\n",
    "problem += 0.5*fish + surf <= 1500, \"rye\"\n",
    "problem += fish + surf <= 800, \"pumpernickel\"\n",
    "problem += fish >= 0 , \"fish non-negativity\"\n",
    "problem += surf >=0, \"surf non-negativity\"\n",
    "\n",
    "# print the problem\n",
    "print(problem)"
   ]
  },
  {
   "cell_type": "code",
   "execution_count": 18,
   "metadata": {},
   "outputs": [
    {
     "name": "stdout",
     "output_type": "stream",
     "text": [
      "Produce 520.0 Fish-n-Fowl sandwiches made each day\n",
      "Produce 150.0 Surf-n-Turf sandwiches made each day\n"
     ]
    }
   ],
   "source": [
    "# solving the problem\n",
    "problem.solve()\n",
    "\n",
    "# print the optmized value of decision variables\n",
    "print(\"Produce {} Fish-n-Fowl sandwiches made each day\".format(fish.varValue))\n",
    "print(\"Produce {} Surf-n-Turf sandwiches made each day\".format(surf.varValue))\n",
    "\n",
    "# print objective function value\n",
    "print('Maximum Profit is {}'.format(problem.objective.value()))"
   ]
  },
  {
   "cell_type": "markdown",
   "metadata": {},
   "source": [
    "### Problem\n",
    "Expected Demand of Drivers for each weekday<br>\n",
    "* Monday = 11\n",
    "* Tuesday = 14\n",
    "* Wednesday = 23\n",
    "* Thursday = 21\n",
    "* Friday = 20\n",
    "* Saturday = 15\n",
    "* Sunday = 8\n",
    "\n",
    "How many drivers, in total, do we need to hire?<br>\n",
    "Each driver works for 5 consecutive days,followed by 2 days off, repeated weekly"
   ]
  },
  {
   "cell_type": "markdown",
   "metadata": {},
   "source": [
    "### Problem Formulation\n",
    "\n",
    "Let work_mon, work_tue,...,work_sun be number of drivers who start their 5 day consecutive days on mon,tue,...,sun respectively. <br>\n",
    "\n",
    "Following drivers will be working on Monday<br>\n",
    "* Drivers started their 5 consecutive days on Mon\n",
    "* Drivers started their 5 consecutive days on Thur\n",
    "* Drivers started their 5 consecutive days on Fri\n",
    "* Drivers started their 5 consecutive days on Sat\n",
    "* Drivers started their 5 consecutive days on Sun\n",
    "\n",
    "Following drivers will be Not be working on Monday<br>\n",
    "* Drivers started their 5 consecutive days on Tue\n",
    "* Drivers started their 5 consecutive days on Wed\n",
    "\n",
    "All the drivers working on monday should atleast met the demand i.e. number >= 11 <br>\n",
    "\n",
    "Follow the same logic for other weekdays"
   ]
  },
  {
   "cell_type": "code",
   "execution_count": 34,
   "metadata": {},
   "outputs": [
    {
     "name": "stdout",
     "output_type": "stream",
     "text": [
      "Minimum_Drivers:\n",
      "MINIMIZE\n",
      "1*Drivers_Begin_Fri + 1*Drivers_Begin_Mon + 1*Drivers_Begin_Sat + 1*Drivers_Begin_Sun + 1*Drivers_Begin_Thur + 1*Drivers_Begin_Tue + 1*Drivers_Begin_Wed + 0\n",
      "SUBJECT TO\n",
      "Drivers_Working_Mon: Drivers_Begin_Fri + Drivers_Begin_Mon + Drivers_Begin_Sat\n",
      " + Drivers_Begin_Sun + Drivers_Begin_Thur >= 11\n",
      "\n",
      "Drivers_Working_Tue: Drivers_Begin_Fri + Drivers_Begin_Mon + Drivers_Begin_Sat\n",
      " + Drivers_Begin_Sun + Drivers_Begin_Tue >= 14\n",
      "\n",
      "Drivers_Working_Wed: Drivers_Begin_Mon + Drivers_Begin_Sat + Drivers_Begin_Sun\n",
      " + Drivers_Begin_Tue + Drivers_Begin_Wed >= 23\n",
      "\n",
      "Drivers_Working_Thur: Drivers_Begin_Fri + Drivers_Begin_Mon\n",
      " + Drivers_Begin_Sat + Drivers_Begin_Sun + Drivers_Begin_Tue >= 21\n",
      "\n",
      "Drivers_Working_Fri: Drivers_Begin_Fri + Drivers_Begin_Mon + Drivers_Begin_Sat\n",
      " + Drivers_Begin_Sun + Drivers_Begin_Thur >= 20\n",
      "\n",
      "Drivers_Working_Sat: Drivers_Begin_Fri + Drivers_Begin_Sat\n",
      " + Drivers_Begin_Thur + Drivers_Begin_Tue + Drivers_Begin_Wed >= 15\n",
      "\n",
      "Drivers_Working_Sun: Drivers_Begin_Fri + Drivers_Begin_Sat + Drivers_Begin_Sun\n",
      " + Drivers_Begin_Thur + Drivers_Begin_Wed >= 8\n",
      "\n",
      "VARIABLES\n",
      "0 <= Drivers_Begin_Fri Integer\n",
      "0 <= Drivers_Begin_Mon Integer\n",
      "0 <= Drivers_Begin_Sat Integer\n",
      "0 <= Drivers_Begin_Sun Integer\n",
      "0 <= Drivers_Begin_Thur Integer\n",
      "0 <= Drivers_Begin_Tue Integer\n",
      "0 <= Drivers_Begin_Wed Integer\n",
      "\n"
     ]
    }
   ],
   "source": [
    "# define problem\n",
    "problem = LpProblem(\"Minimum_Drivers\", LpMinimize)\n",
    "\n",
    "# define decision variables\n",
    "days = ['Mon','Tue','Wed','Thur','Fri','Sat','Sun']\n",
    "drivers = LpVariable.dicts('Drivers_Begin', days,lowBound=0, cat='Integer')\n",
    "\n",
    "\n",
    "# define objective function sum of  number of drivers working on each day\n",
    "problem += lpSum(drivers[key] for key in days)\n",
    "\n",
    "# define constraints\n",
    "problem += drivers['Mon']+drivers['Thur']+drivers['Fri']+drivers['Sat']+drivers['Sun'] >= 11, \"Drivers_Working_Mon\"\n",
    "problem += drivers['Mon']+drivers['Tue']+drivers['Fri']+drivers['Sat']+drivers['Sun']  >= 14, \"Drivers_Working_Tue\"\n",
    "problem += drivers['Mon']+drivers['Tue']+drivers['Wed']+drivers['Sat']+drivers['Sun']  >= 23, \"Drivers_Working_Wed\"\n",
    "problem += drivers['Mon']+drivers['Tue']+drivers['Fri']+drivers['Sat']+drivers['Sun']  >= 21, \"Drivers_Working_Thur\"\n",
    "problem += drivers['Mon']+drivers['Thur']+drivers['Fri']+drivers['Sat']+drivers['Sun'] >= 20, \"Drivers_Working_Fri\"\n",
    "problem += drivers['Tue']+drivers['Wed']+drivers['Thur']+drivers['Fri']+drivers['Sat'] >= 15, \"Drivers_Working_Sat\"\n",
    "problem += drivers['Wed']+drivers['Thur']+drivers['Fri']+drivers['Sat']+drivers['Sun'] >= 8,  \"Drivers_Working_Sun\"\n",
    "\n",
    "# print the problem\n",
    "print(problem)"
   ]
  },
  {
   "cell_type": "code",
   "execution_count": 41,
   "metadata": {},
   "outputs": [
    {
     "name": "stdout",
     "output_type": "stream",
     "text": [
      "Drivers_Begin_Mon: 8.0\n",
      "Drivers_Begin_Tue: 1.0\n",
      "Drivers_Begin_Wed: 2.0\n",
      "Drivers_Begin_Thur: 0.0\n",
      "Drivers_Begin_Fri: 0.0\n",
      "Drivers_Begin_Sat: 12.0\n",
      "Drivers_Begin_Sun: 0.0\n",
      "Minimum number of driver needed 23.0\n"
     ]
    }
   ],
   "source": [
    "# solve the problem\n",
    "problem.solve()\n",
    "\n",
    "# print decision variables\n",
    "for key in days:\n",
    "    print('Drivers_Begin_{}: {}'.format(key,drivers[key].varValue))\n",
    "    \n",
    "# print objective function value\n",
    "print('Minimum number of driver needed {}'.format(problem.objective.value()))"
   ]
  },
  {
   "cell_type": "code",
   "execution_count": null,
   "metadata": {},
   "outputs": [],
   "source": []
  }
 ],
 "metadata": {
  "kernelspec": {
   "display_name": "Python 3",
   "language": "python",
   "name": "python3"
  },
  "language_info": {
   "codemirror_mode": {
    "name": "ipython",
    "version": 3
   },
   "file_extension": ".py",
   "mimetype": "text/x-python",
   "name": "python",
   "nbconvert_exporter": "python",
   "pygments_lexer": "ipython3",
   "version": "3.6.8"
  }
 },
 "nbformat": 4,
 "nbformat_minor": 2
}

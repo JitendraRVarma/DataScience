{
 "cells": [
  {
   "cell_type": "code",
   "execution_count": 1,
   "metadata": {},
   "outputs": [],
   "source": [
    "import numpy as np\n",
    "import matplotlib.pyplot as plt\n",
    "import pandas as pd\n",
    "import seaborn as sns\n",
    "import warnings\n",
    "warnings.filterwarnings('ignore')\n",
    "import sys\n",
    "sns.set()"
   ]
  },
  {
   "cell_type": "markdown",
   "metadata": {},
   "source": [
    "### Defining Quadratic Assignment problem\n",
    " The objective of the Quadratic Assignment Problem (QAP) is to assign n facilities to n locations in such a way as to minimize the assignment cost. The assignment cost is the sum, over all pairs, of the flow between a pair of facilities multiplied by the distance between their assigned locations"
   ]
  },
  {
   "cell_type": "code",
   "execution_count": 2,
   "metadata": {},
   "outputs": [],
   "source": [
    "# np.random.seed(789)\n",
    "\n",
    "# facility = ['A','B','C','D','E','F','G','H','I','J']\n",
    "# location = ['L1','L2','L3','L4','L5','L6','L7','L8','L9','L10']\n",
    "\n",
    "# size = len(facility)\n",
    "# lower_idx = np.tril_indices(size, -1)\n",
    "\n",
    "# distance =np.random.randint(10,30,(size,size))\n",
    "# distance[lower_idx] = distance.T[lower_idx]\n",
    "# np.fill_diagonal(distance, 0)\n",
    "\n",
    "# frequency =np.random.randint(1,15,(size,size))\n",
    "# frequency[lower_idx] = frequency.T[lower_idx]\n",
    "# np.fill_diagonal(frequency, 0)"
   ]
  },
  {
   "cell_type": "code",
   "execution_count": 3,
   "metadata": {},
   "outputs": [],
   "source": [
    "# distance_df = pd.DataFrame(index=location,columns=location,data=distance)\n",
    "# distance_df"
   ]
  },
  {
   "cell_type": "code",
   "execution_count": 4,
   "metadata": {
    "scrolled": true
   },
   "outputs": [],
   "source": [
    "# frequency_df = pd.DataFrame(index=facility,columns=facility,data=frequency)\n",
    "# frequency_df"
   ]
  },
  {
   "cell_type": "code",
   "execution_count": 5,
   "metadata": {},
   "outputs": [],
   "source": [
    "facility = ['A','B','C','D','E','F','G','H',]\n",
    "location = ['L1','L2','L3','L4','L5','L6','L7','L8']\n",
    "\n",
    "distance_df = pd.DataFrame([[0,1,2,3,1,2,3,4],[1,0,1,2,2,1,2,3],[2,1,0,1,3,2,1,2],\n",
    "                            [3,2,1,0,4,3,2,1],[1,2,3,4,0,1,2,3],[2,1,2,3,1,0,1,2],\n",
    "                            [3,2,1,2,2,1,0,1],[4,3,2,1,3,2,1,0]],\n",
    "                           columns=location,index=location)\n",
    "\n",
    "frequency_df = pd.DataFrame([[0,5,2,4,1,0,0,6],[5,0,3,0,2,2,2,0],[2,3,0,0,0,0,0,5],\n",
    "                             [4,0,0,0,5,2,2,10],[1,2,0,5,0,10,0,0],[0,2,0,2,10,0,5,1],\n",
    "                             [0,2,0,2,0,5,0,10],[6,0,5,10,0,1,10,0]],\n",
    "                            columns=facility,index=facility)"
   ]
  },
  {
   "cell_type": "code",
   "execution_count": 6,
   "metadata": {},
   "outputs": [
    {
     "data": {
      "text/html": [
       "<div>\n",
       "<style scoped>\n",
       "    .dataframe tbody tr th:only-of-type {\n",
       "        vertical-align: middle;\n",
       "    }\n",
       "\n",
       "    .dataframe tbody tr th {\n",
       "        vertical-align: top;\n",
       "    }\n",
       "\n",
       "    .dataframe thead th {\n",
       "        text-align: right;\n",
       "    }\n",
       "</style>\n",
       "<table border=\"1\" class=\"dataframe\">\n",
       "  <thead>\n",
       "    <tr style=\"text-align: right;\">\n",
       "      <th></th>\n",
       "      <th>L1</th>\n",
       "      <th>L2</th>\n",
       "      <th>L3</th>\n",
       "      <th>L4</th>\n",
       "      <th>L5</th>\n",
       "      <th>L6</th>\n",
       "      <th>L7</th>\n",
       "      <th>L8</th>\n",
       "    </tr>\n",
       "  </thead>\n",
       "  <tbody>\n",
       "    <tr>\n",
       "      <th>L1</th>\n",
       "      <td>0</td>\n",
       "      <td>1</td>\n",
       "      <td>2</td>\n",
       "      <td>3</td>\n",
       "      <td>1</td>\n",
       "      <td>2</td>\n",
       "      <td>3</td>\n",
       "      <td>4</td>\n",
       "    </tr>\n",
       "    <tr>\n",
       "      <th>L2</th>\n",
       "      <td>1</td>\n",
       "      <td>0</td>\n",
       "      <td>1</td>\n",
       "      <td>2</td>\n",
       "      <td>2</td>\n",
       "      <td>1</td>\n",
       "      <td>2</td>\n",
       "      <td>3</td>\n",
       "    </tr>\n",
       "    <tr>\n",
       "      <th>L3</th>\n",
       "      <td>2</td>\n",
       "      <td>1</td>\n",
       "      <td>0</td>\n",
       "      <td>1</td>\n",
       "      <td>3</td>\n",
       "      <td>2</td>\n",
       "      <td>1</td>\n",
       "      <td>2</td>\n",
       "    </tr>\n",
       "    <tr>\n",
       "      <th>L4</th>\n",
       "      <td>3</td>\n",
       "      <td>2</td>\n",
       "      <td>1</td>\n",
       "      <td>0</td>\n",
       "      <td>4</td>\n",
       "      <td>3</td>\n",
       "      <td>2</td>\n",
       "      <td>1</td>\n",
       "    </tr>\n",
       "    <tr>\n",
       "      <th>L5</th>\n",
       "      <td>1</td>\n",
       "      <td>2</td>\n",
       "      <td>3</td>\n",
       "      <td>4</td>\n",
       "      <td>0</td>\n",
       "      <td>1</td>\n",
       "      <td>2</td>\n",
       "      <td>3</td>\n",
       "    </tr>\n",
       "    <tr>\n",
       "      <th>L6</th>\n",
       "      <td>2</td>\n",
       "      <td>1</td>\n",
       "      <td>2</td>\n",
       "      <td>3</td>\n",
       "      <td>1</td>\n",
       "      <td>0</td>\n",
       "      <td>1</td>\n",
       "      <td>2</td>\n",
       "    </tr>\n",
       "    <tr>\n",
       "      <th>L7</th>\n",
       "      <td>3</td>\n",
       "      <td>2</td>\n",
       "      <td>1</td>\n",
       "      <td>2</td>\n",
       "      <td>2</td>\n",
       "      <td>1</td>\n",
       "      <td>0</td>\n",
       "      <td>1</td>\n",
       "    </tr>\n",
       "    <tr>\n",
       "      <th>L8</th>\n",
       "      <td>4</td>\n",
       "      <td>3</td>\n",
       "      <td>2</td>\n",
       "      <td>1</td>\n",
       "      <td>3</td>\n",
       "      <td>2</td>\n",
       "      <td>1</td>\n",
       "      <td>0</td>\n",
       "    </tr>\n",
       "  </tbody>\n",
       "</table>\n",
       "</div>"
      ],
      "text/plain": [
       "    L1  L2  L3  L4  L5  L6  L7  L8\n",
       "L1   0   1   2   3   1   2   3   4\n",
       "L2   1   0   1   2   2   1   2   3\n",
       "L3   2   1   0   1   3   2   1   2\n",
       "L4   3   2   1   0   4   3   2   1\n",
       "L5   1   2   3   4   0   1   2   3\n",
       "L6   2   1   2   3   1   0   1   2\n",
       "L7   3   2   1   2   2   1   0   1\n",
       "L8   4   3   2   1   3   2   1   0"
      ]
     },
     "execution_count": 6,
     "metadata": {},
     "output_type": "execute_result"
    }
   ],
   "source": [
    "distance_df"
   ]
  },
  {
   "cell_type": "code",
   "execution_count": 7,
   "metadata": {},
   "outputs": [
    {
     "data": {
      "text/html": [
       "<div>\n",
       "<style scoped>\n",
       "    .dataframe tbody tr th:only-of-type {\n",
       "        vertical-align: middle;\n",
       "    }\n",
       "\n",
       "    .dataframe tbody tr th {\n",
       "        vertical-align: top;\n",
       "    }\n",
       "\n",
       "    .dataframe thead th {\n",
       "        text-align: right;\n",
       "    }\n",
       "</style>\n",
       "<table border=\"1\" class=\"dataframe\">\n",
       "  <thead>\n",
       "    <tr style=\"text-align: right;\">\n",
       "      <th></th>\n",
       "      <th>A</th>\n",
       "      <th>B</th>\n",
       "      <th>C</th>\n",
       "      <th>D</th>\n",
       "      <th>E</th>\n",
       "      <th>F</th>\n",
       "      <th>G</th>\n",
       "      <th>H</th>\n",
       "    </tr>\n",
       "  </thead>\n",
       "  <tbody>\n",
       "    <tr>\n",
       "      <th>A</th>\n",
       "      <td>0</td>\n",
       "      <td>5</td>\n",
       "      <td>2</td>\n",
       "      <td>4</td>\n",
       "      <td>1</td>\n",
       "      <td>0</td>\n",
       "      <td>0</td>\n",
       "      <td>6</td>\n",
       "    </tr>\n",
       "    <tr>\n",
       "      <th>B</th>\n",
       "      <td>5</td>\n",
       "      <td>0</td>\n",
       "      <td>3</td>\n",
       "      <td>0</td>\n",
       "      <td>2</td>\n",
       "      <td>2</td>\n",
       "      <td>2</td>\n",
       "      <td>0</td>\n",
       "    </tr>\n",
       "    <tr>\n",
       "      <th>C</th>\n",
       "      <td>2</td>\n",
       "      <td>3</td>\n",
       "      <td>0</td>\n",
       "      <td>0</td>\n",
       "      <td>0</td>\n",
       "      <td>0</td>\n",
       "      <td>0</td>\n",
       "      <td>5</td>\n",
       "    </tr>\n",
       "    <tr>\n",
       "      <th>D</th>\n",
       "      <td>4</td>\n",
       "      <td>0</td>\n",
       "      <td>0</td>\n",
       "      <td>0</td>\n",
       "      <td>5</td>\n",
       "      <td>2</td>\n",
       "      <td>2</td>\n",
       "      <td>10</td>\n",
       "    </tr>\n",
       "    <tr>\n",
       "      <th>E</th>\n",
       "      <td>1</td>\n",
       "      <td>2</td>\n",
       "      <td>0</td>\n",
       "      <td>5</td>\n",
       "      <td>0</td>\n",
       "      <td>10</td>\n",
       "      <td>0</td>\n",
       "      <td>0</td>\n",
       "    </tr>\n",
       "    <tr>\n",
       "      <th>F</th>\n",
       "      <td>0</td>\n",
       "      <td>2</td>\n",
       "      <td>0</td>\n",
       "      <td>2</td>\n",
       "      <td>10</td>\n",
       "      <td>0</td>\n",
       "      <td>5</td>\n",
       "      <td>1</td>\n",
       "    </tr>\n",
       "    <tr>\n",
       "      <th>G</th>\n",
       "      <td>0</td>\n",
       "      <td>2</td>\n",
       "      <td>0</td>\n",
       "      <td>2</td>\n",
       "      <td>0</td>\n",
       "      <td>5</td>\n",
       "      <td>0</td>\n",
       "      <td>10</td>\n",
       "    </tr>\n",
       "    <tr>\n",
       "      <th>H</th>\n",
       "      <td>6</td>\n",
       "      <td>0</td>\n",
       "      <td>5</td>\n",
       "      <td>10</td>\n",
       "      <td>0</td>\n",
       "      <td>1</td>\n",
       "      <td>10</td>\n",
       "      <td>0</td>\n",
       "    </tr>\n",
       "  </tbody>\n",
       "</table>\n",
       "</div>"
      ],
      "text/plain": [
       "   A  B  C   D   E   F   G   H\n",
       "A  0  5  2   4   1   0   0   6\n",
       "B  5  0  3   0   2   2   2   0\n",
       "C  2  3  0   0   0   0   0   5\n",
       "D  4  0  0   0   5   2   2  10\n",
       "E  1  2  0   5   0  10   0   0\n",
       "F  0  2  0   2  10   0   5   1\n",
       "G  0  2  0   2   0   5   0  10\n",
       "H  6  0  5  10   0   1  10   0"
      ]
     },
     "execution_count": 7,
     "metadata": {},
     "output_type": "execute_result"
    }
   ],
   "source": [
    "frequency_df"
   ]
  },
  {
   "cell_type": "code",
   "execution_count": 8,
   "metadata": {},
   "outputs": [],
   "source": [
    "size = len(facility)\n",
    "lower_idx = np.tril_indices(size, -1)"
   ]
  },
  {
   "cell_type": "code",
   "execution_count": 9,
   "metadata": {},
   "outputs": [],
   "source": [
    "initial_temp = 1000         # No of Iteration for Temperature change\n",
    "outer_iter = 500\n",
    "inner_iter = 50\n",
    "alpha = 0.9                # Factor for decreasing the Temperature"
   ]
  },
  {
   "cell_type": "code",
   "execution_count": 10,
   "metadata": {},
   "outputs": [],
   "source": [
    "# generate initial random solution\n",
    "initial_sol = np.copy(facility)\n",
    "np.random.shuffle(initial_sol)\n",
    "\n",
    "initial_assign = frequency_df.reindex(index=initial_sol,columns=initial_sol)\n",
    "initial_cost = distance_df.values * initial_assign.values\n",
    "initial_cost = np.sum(initial_cost[lower_idx])"
   ]
  },
  {
   "cell_type": "code",
   "execution_count": 11,
   "metadata": {},
   "outputs": [
    {
     "name": "stdout",
     "output_type": "stream",
     "text": [
      "Initial Solutions ['C' 'B' 'G' 'F' 'E' 'H' 'A' 'D']\n",
      "Initial cost 160\n",
      "Final Solutions ['C' 'H' 'G' 'F' 'B' 'A' 'D' 'E']\n",
      "Final cost 107\n"
     ]
    }
   ],
   "source": [
    "current_temp = initial_temp\n",
    "current_sol = np.copy(initial_sol)\n",
    "all_cost = []\n",
    "\n",
    "for outer_loop in range(outer_iter):\n",
    "    for inner_loop in range(inner_iter):\n",
    "        position_1 = np.random.randint(size)\n",
    "        position_2 = np.random.randint(size)\n",
    "        \n",
    "        while position_1 == position_2:\n",
    "            position_2 = np.random.randint(size)\n",
    "        \n",
    "        new_sol = np.copy(current_sol)\n",
    "        new_sol[position_2] = current_sol[position_1]\n",
    "        new_sol[position_1] = current_sol[position_2]\n",
    "        \n",
    "        current_assign = frequency_df.reindex(index=current_sol,columns=current_sol)\n",
    "        new_assign = frequency_df.reindex(index=new_sol,columns=new_sol)\n",
    "        \n",
    "        current_cost = distance_df.values * current_assign.values\n",
    "        current_cost = np.sum(current_cost[lower_idx])\n",
    "                              \n",
    "        new_cost = distance_df.values * new_assign.values\n",
    "        new_cost = np.sum(new_cost[lower_idx])\n",
    "        \n",
    "        prob_accept = 1/(np.exp(new_cost-current_cost)/current_temp)\n",
    "        \n",
    "        random_chance = np.random.rand()\n",
    "        \n",
    "        if new_cost <= current_cost:\n",
    "            current_sol = np.copy(new_sol)\n",
    "        elif random_chance <= prob_accept:\n",
    "            current_sol = np.copy(new_sol)\n",
    "        else:\n",
    "            current_sol = current_sol\n",
    "            \n",
    "    all_cost.append(current_cost)\n",
    "    current_temp = current_temp * alpha  \n",
    "    \n",
    "print('Initial Solutions {}'.format(initial_sol))\n",
    "print('Initial cost {}'.format(initial_cost))\n",
    "\n",
    "print('Final Solutions {}'.format(current_sol))\n",
    "print('Final cost {}'.format(current_cost))"
   ]
  },
  {
   "cell_type": "code",
   "execution_count": 12,
   "metadata": {},
   "outputs": [
    {
     "data": {
      "text/plain": [
       "[<matplotlib.lines.Line2D at 0x25277563668>]"
      ]
     },
     "execution_count": 12,
     "metadata": {},
     "output_type": "execute_result"
    },
    {
     "data": {
      "image/png": "[encoded data removed]",
      "text/plain": [
       "<Figure size 1080x432 with 1 Axes>"
      ]
     },
     "metadata": {
      "needs_background": "light"
     },
     "output_type": "display_data"
    }
   ],
   "source": [
    "plt.figure(figsize=(15,6))\n",
    "plt.xlabel('Iteration')\n",
    "plt.ylabel('Objective function value')\n",
    "plt.plot(range(outer_iter),all_cost)"
   ]
  },
  {
   "cell_type": "code",
   "execution_count": null,
   "metadata": {},
   "outputs": [],
   "source": []
  }
 ],
 "metadata": {
  "kernelspec": {
   "display_name": "Python 3",
   "language": "python",
   "name": "python3"
  },
  "language_info": {
   "codemirror_mode": {
    "name": "ipython",
    "version": 3
   },
   "file_extension": ".py",
   "mimetype": "text/x-python",
   "name": "python",
   "nbconvert_exporter": "python",
   "pygments_lexer": "ipython3",
   "version": "3.6.8"
  }
 },
 "nbformat": 4,
 "nbformat_minor": 2
}

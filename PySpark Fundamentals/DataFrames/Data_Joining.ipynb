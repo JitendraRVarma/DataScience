{
  "nbformat": 4,
  "nbformat_minor": 0,
  "metadata": {
    "colab": {
      "name": "Data_Joining.ipynb",
      "provenance": [],
      "collapsed_sections": []
    },
    "kernelspec": {
      "name": "python3",
      "display_name": "Python 3"
    },
    "language_info": {
      "name": "python"
    }
  },
  "cells": [
    {
      "cell_type": "markdown",
      "metadata": {
        "id": "Yp6mqGEAjYPM"
      },
      "source": [
        "## Configure PySpark Setup"
      ]
    },
    {
      "cell_type": "code",
      "metadata": {
        "colab": {
          "base_uri": "https://localhost:8080/",
          "height": 216
        },
        "id": "MCa9mNO1jZH9",
        "outputId": "c84c21e6-8c73-49a6-c1e1-66679044220f"
      },
      "source": [
        "!apt-get install openjdk-8-jdk-headless -qq > /dev/null\n",
        "!wget -q https://archive.apache.org/dist/spark/spark-2.4.1/spark-2.4.1-bin-hadoop2.7.tgz\n",
        "!tar xf spark-2.4.1-bin-hadoop2.7.tgz\n",
        "!pip install -q findspark\n",
        "\n",
        "import os\n",
        "os.environ[\"JAVA_HOME\"] = \"/usr/lib/jvm/java-8-openjdk-amd64\"\n",
        "os.environ[\"SPARK_HOME\"] = \"/content/spark-2.4.1-bin-hadoop2.7\"\n",
        "\n",
        "\n",
        "import findspark\n",
        "findspark.init()\n",
        "\n",
        "\n",
        "import pyspark \n",
        "from pyspark.sql import SparkSession\n",
        "spark = SparkSession.builder.appName(\"App\").getOrCreate()\n",
        "spark"
      ],
      "execution_count": 1,
      "outputs": [
        {
          "output_type": "execute_result",
          "data": {
            "text/html": [
              "\n",
              "            <div>\n",
              "                <p><b>SparkSession - in-memory</b></p>\n",
              "                \n",
              "        <div>\n",
              "            <p><b>SparkContext</b></p>\n",
              "\n",
              "            <p><a href=\"http://ccd3f8a4ffeb:4040\">Spark UI</a></p>\n",
              "\n",
              "            <dl>\n",
              "              <dt>Version</dt>\n",
              "                <dd><code>v2.4.1</code></dd>\n",
              "              <dt>Master</dt>\n",
              "                <dd><code>local[*]</code></dd>\n",
              "              <dt>AppName</dt>\n",
              "                <dd><code>App</code></dd>\n",
              "            </dl>\n",
              "        </div>\n",
              "        \n",
              "            </div>\n",
              "        "
            ],
            "text/plain": [
              "<pyspark.sql.session.SparkSession at 0x7fd2e05cb3d0>"
            ]
          },
          "metadata": {
            "tags": []
          },
          "execution_count": 1
        }
      ]
    },
    {
      "cell_type": "code",
      "metadata": {
        "colab": {
          "base_uri": "https://localhost:8080/"
        },
        "id": "a7bHaAOcld4r",
        "outputId": "57aa1192-d300-4aa9-d676-f4ec0c80d804"
      },
      "source": [
        "# check number of cores PySpark is using\n",
        "cores = spark._jsc.sc().getExecutorMemoryStatus().keySet().size()\n",
        "print(\"You are working with\", cores, \"core(s)\")"
      ],
      "execution_count": 2,
      "outputs": [
        {
          "output_type": "stream",
          "text": [
            "You are working with 1 core(s)\n"
          ],
          "name": "stdout"
        }
      ]
    },
    {
      "cell_type": "markdown",
      "metadata": {
        "id": "vX7IPLT4kX5d"
      },
      "source": [
        "## Load Datasets\n"
      ]
    },
    {
      "cell_type": "code",
      "metadata": {
        "id": "X3BH7XKykc2M",
        "colab": {
          "base_uri": "https://localhost:8080/"
        },
        "outputId": "00df2cde-5926-4909-8a5a-6684746d3625"
      },
      "source": [
        "!cp /content/drive/MyDrive/Datasets.zip .\n",
        "!unzip Datasets.zip"
      ],
      "execution_count": 3,
      "outputs": [
        {
          "output_type": "stream",
          "text": [
            "Archive:  Datasets.zip\n",
            "  inflating: Datasets/.DS_Store      \n",
            "  inflating: Datasets/fifa19.csv     \n",
            "  inflating: Datasets/googleplaystore.csv  \n",
            "  inflating: Datasets/nyc_air_bnb.csv  \n",
            "  inflating: Datasets/people.json    \n",
            "  inflating: Datasets/pga_tour_historical.csv  \n",
            "  inflating: Datasets/rec-crime-pfa.csv  \n",
            "  inflating: Datasets/Rep_vs_Dem_tweets.csv  \n",
            "  inflating: Datasets/students.csv   \n",
            "  inflating: Datasets/supermarket_sales.csv  \n",
            "  inflating: Datasets/users1.parquet  \n",
            "  inflating: Datasets/users2.parquet  \n",
            "  inflating: Datasets/users3.parquet  \n",
            "   creating: Datasets/uw-madison-courses/\n",
            "  inflating: Datasets/uw-madison-courses/course_offerings.csv  \n",
            "  inflating: Datasets/uw-madison-courses/courses.csv  \n",
            "  inflating: Datasets/uw-madison-courses/database.sqlite3  \n",
            "  inflating: Datasets/uw-madison-courses/grade_distributions.csv  \n",
            "  inflating: Datasets/uw-madison-courses/instructors.csv  \n",
            "  inflating: Datasets/uw-madison-courses/rooms.csv  \n",
            "  inflating: Datasets/uw-madison-courses/schedules.csv  \n",
            "  inflating: Datasets/uw-madison-courses/sections.csv  \n",
            "  inflating: Datasets/uw-madison-courses/subject_memberships.csv  \n",
            "  inflating: Datasets/uw-madison-courses/subjects.csv  \n",
            "  inflating: Datasets/uw-madison-courses/teachings.csv  \n",
            " extracting: Datasets/Weather.csv.zip  \n",
            "  inflating: Datasets/youtubevideos.csv  \n",
            "  inflating: Datasets/zomato.csv     \n"
          ],
          "name": "stdout"
        }
      ]
    },
    {
      "cell_type": "markdown",
      "metadata": {
        "id": "HgUFLSSMd5lw"
      },
      "source": [
        "# Load Libraries"
      ]
    },
    {
      "cell_type": "code",
      "metadata": {
        "id": "0S-d4r9Kd5Ec"
      },
      "source": [
        "from pyspark.sql.functions  import *\n",
        "from  pyspark.sql.types  import *\n",
        "import os"
      ],
      "execution_count": 18,
      "outputs": []
    },
    {
      "cell_type": "markdown",
      "metadata": {
        "id": "kWe2GGSCkO50"
      },
      "source": [
        "## Reading Data into PySpark"
      ]
    },
    {
      "cell_type": "code",
      "metadata": {
        "id": "bIjGt5OhqMKs",
        "colab": {
          "base_uri": "https://localhost:8080/"
        },
        "outputId": "7f112bdf-ffc6-4d57-ac07-394d6b20251d"
      },
      "source": [
        "# create dummy dataset\n",
        "valuesP = [('koala',1,'yes'),('caterpillar',2,'yes'),('deer',3,'yes'),('human',4,'yes')]\n",
        "eats_plants = spark.createDataFrame(valuesP,['name','id','eats_plants'])\n",
        "\n",
        "valuesM = [('shark',5,'yes'),('lion',6,'yes'),('tiger',7,'yes'),('human',4,'yes')]\n",
        "eats_meat = spark.createDataFrame(valuesM,['name','id','eats_meat'])\n",
        "\n",
        "print(\"Plant eaters (herbivores)\")\n",
        "print(eats_plants.show())\n",
        "\n",
        "print(\"Meat eaters (carnivores)\")\n",
        "print(eats_meat.show())"
      ],
      "execution_count": 6,
      "outputs": [
        {
          "output_type": "stream",
          "text": [
            "Plant eaters (herbivores)\n",
            "+-----------+---+-----------+\n",
            "|       name| id|eats_plants|\n",
            "+-----------+---+-----------+\n",
            "|      koala|  1|        yes|\n",
            "|caterpillar|  2|        yes|\n",
            "|       deer|  3|        yes|\n",
            "|      human|  4|        yes|\n",
            "+-----------+---+-----------+\n",
            "\n",
            "None\n",
            "Meat eaters (carnivores)\n",
            "+-----+---+---------+\n",
            "| name| id|eats_meat|\n",
            "+-----+---+---------+\n",
            "|shark|  5|      yes|\n",
            "| lion|  6|      yes|\n",
            "|tiger|  7|      yes|\n",
            "|human|  4|      yes|\n",
            "+-----+---+---------+\n",
            "\n",
            "None\n"
          ],
          "name": "stdout"
        }
      ]
    },
    {
      "cell_type": "code",
      "metadata": {
        "colab": {
          "base_uri": "https://localhost:8080/"
        },
        "id": "aOLj6jjUZdnu",
        "outputId": "b8a89634-abbf-43bf-a93f-38f1701558a1"
      },
      "source": [
        "# data appends\n",
        "\n",
        "new_df = eats_plants\n",
        "\n",
        "df_concat = eats_plants.union(new_df)\n",
        "\n",
        "\n",
        "print((\"eats_plants df Counts:\", eats_plants.count(), len(eats_plants.columns)))\n",
        "print((\"df_concat Counts:\", df_concat.count(), len(df_concat.columns)))\n",
        "print(df_concat.show())\n"
      ],
      "execution_count": 9,
      "outputs": [
        {
          "output_type": "stream",
          "text": [
            "('eats_plants df Counts:', 4, 3)\n",
            "('df_concat Counts:', 8, 3)\n",
            "+-----------+---+-----------+\n",
            "|       name| id|eats_plants|\n",
            "+-----------+---+-----------+\n",
            "|      koala|  1|        yes|\n",
            "|caterpillar|  2|        yes|\n",
            "|       deer|  3|        yes|\n",
            "|      human|  4|        yes|\n",
            "|      koala|  1|        yes|\n",
            "|caterpillar|  2|        yes|\n",
            "|       deer|  3|        yes|\n",
            "|      human|  4|        yes|\n",
            "+-----------+---+-----------+\n",
            "\n",
            "None\n"
          ],
          "name": "stdout"
        }
      ]
    },
    {
      "cell_type": "code",
      "metadata": {
        "colab": {
          "base_uri": "https://localhost:8080/"
        },
        "id": "q5kPeqQTZrPw",
        "outputId": "79c660cf-bd10-44a5-cafd-797bd5e79017"
      },
      "source": [
        "# inner join\n",
        "inner_join = eats_plants.join(eats_meat, on=[\"name\",\"id\"],how=\"inner\")\n",
        "inner_join.show()"
      ],
      "execution_count": 11,
      "outputs": [
        {
          "output_type": "stream",
          "text": [
            "+-----+---+-----------+---------+\n",
            "| name| id|eats_plants|eats_meat|\n",
            "+-----+---+-----------+---------+\n",
            "|human|  4|        yes|      yes|\n",
            "+-----+---+-----------+---------+\n",
            "\n"
          ],
          "name": "stdout"
        }
      ]
    },
    {
      "cell_type": "code",
      "metadata": {
        "colab": {
          "base_uri": "https://localhost:8080/"
        },
        "id": "Tc716qJwZ5Fm",
        "outputId": "53960cb1-db58-4efc-8e39-f08a71b6e7c3"
      },
      "source": [
        "# left join\n",
        "left_join = eats_plants.join(eats_meat, on=[\"name\",\"id\"], how='left') \n",
        "left_join.show()"
      ],
      "execution_count": 12,
      "outputs": [
        {
          "output_type": "stream",
          "text": [
            "+-----------+---+-----------+---------+\n",
            "|       name| id|eats_plants|eats_meat|\n",
            "+-----------+---+-----------+---------+\n",
            "|       deer|  3|        yes|     null|\n",
            "|      human|  4|        yes|      yes|\n",
            "|      koala|  1|        yes|     null|\n",
            "|caterpillar|  2|        yes|     null|\n",
            "+-----------+---+-----------+---------+\n",
            "\n"
          ],
          "name": "stdout"
        }
      ]
    },
    {
      "cell_type": "code",
      "metadata": {
        "colab": {
          "base_uri": "https://localhost:8080/"
        },
        "id": "xUpGWWa4aQQh",
        "outputId": "1ee3ebd1-b831-49e2-d734-57de4a7e8a82"
      },
      "source": [
        "# conditional joins\n",
        "conditional_join = eats_plants.join(eats_meat, on=[\"name\",\"id\"], how='left').filter(eats_meat['name'].isNull())\n",
        "conditional_join.show()"
      ],
      "execution_count": 14,
      "outputs": [
        {
          "output_type": "stream",
          "text": [
            "+-----------+---+-----------+---------+\n",
            "|       name| id|eats_plants|eats_meat|\n",
            "+-----------+---+-----------+---------+\n",
            "|       deer|  3|        yes|     null|\n",
            "|      koala|  1|        yes|     null|\n",
            "|caterpillar|  2|        yes|     null|\n",
            "+-----------+---+-----------+---------+\n",
            "\n"
          ],
          "name": "stdout"
        }
      ]
    },
    {
      "cell_type": "code",
      "metadata": {
        "colab": {
          "base_uri": "https://localhost:8080/"
        },
        "id": "DnROsVzua3ZW",
        "outputId": "2d612f5d-4634-4579-96cd-327bddddc16a"
      },
      "source": [
        "# right join\n",
        "right_join = eats_plants.join(eats_meat,  on=[\"name\",\"id\"],how='right') \n",
        "right_join.show()"
      ],
      "execution_count": 15,
      "outputs": [
        {
          "output_type": "stream",
          "text": [
            "+-----+---+-----------+---------+\n",
            "| name| id|eats_plants|eats_meat|\n",
            "+-----+---+-----------+---------+\n",
            "|shark|  5|       null|      yes|\n",
            "|human|  4|        yes|      yes|\n",
            "|tiger|  7|       null|      yes|\n",
            "| lion|  6|       null|      yes|\n",
            "+-----+---+-----------+---------+\n",
            "\n"
          ],
          "name": "stdout"
        }
      ]
    },
    {
      "cell_type": "code",
      "metadata": {
        "colab": {
          "base_uri": "https://localhost:8080/"
        },
        "id": "kEuwbkLMbDRS",
        "outputId": "d3de0d50-4b30-4b19-d18f-d31e4040419d"
      },
      "source": [
        "full_outer_join = eats_plants.join(eats_meat, on=[\"name\",\"id\"],how='full')\n",
        "full_outer_join.show()"
      ],
      "execution_count": 16,
      "outputs": [
        {
          "output_type": "stream",
          "text": [
            "+-----------+---+-----------+---------+\n",
            "|       name| id|eats_plants|eats_meat|\n",
            "+-----------+---+-----------+---------+\n",
            "|       deer|  3|        yes|     null|\n",
            "|      shark|  5|       null|      yes|\n",
            "|      human|  4|        yes|      yes|\n",
            "|      tiger|  7|       null|      yes|\n",
            "|       lion|  6|       null|      yes|\n",
            "|      koala|  1|        yes|     null|\n",
            "|caterpillar|  2|        yes|     null|\n",
            "+-----------+---+-----------+---------+\n",
            "\n"
          ],
          "name": "stdout"
        }
      ]
    },
    {
      "cell_type": "code",
      "metadata": {
        "colab": {
          "base_uri": "https://localhost:8080/"
        },
        "id": "_GnC5h6IbLcN",
        "outputId": "6f76fc9a-3d7c-4255-8ad5-d0d01aaa54ee"
      },
      "source": [
        "path = \"Datasets/uw-madison-courses/\"\n",
        "\n",
        "df_list = []\n",
        "for filename in os.listdir(path):\n",
        "    if filename.endswith(\".csv\"):\n",
        "        filename_list = filename.split(\".\") #separate path from .csv\n",
        "        df_name = filename_list[0]\n",
        "        df = spark.read.csv(path+filename,inferSchema=True,header=True)\n",
        "        df.name = df_name\n",
        "        df_list.append(df_name)\n",
        "        exec(df_name + ' = df')\n",
        "        \n",
        "print(df_list)"
      ],
      "execution_count": 19,
      "outputs": [
        {
          "output_type": "stream",
          "text": [
            "['courses', 'schedules', 'teachings', 'grade_distributions', 'subjects', 'subject_memberships', 'instructors', 'course_offerings', 'rooms', 'sections']\n"
          ],
          "name": "stdout"
        }
      ]
    },
    {
      "cell_type": "code",
      "metadata": {
        "colab": {
          "base_uri": "https://localhost:8080/",
          "height": 173
        },
        "id": "zNmC4JV_fGFO",
        "outputId": "afc84de0-5445-45de-f8eb-f340211d587f"
      },
      "source": [
        "course_offerings.limit(4).toPandas()"
      ],
      "execution_count": 20,
      "outputs": [
        {
          "output_type": "execute_result",
          "data": {
            "text/html": [
              "<div>\n",
              "<style scoped>\n",
              "    .dataframe tbody tr th:only-of-type {\n",
              "        vertical-align: middle;\n",
              "    }\n",
              "\n",
              "    .dataframe tbody tr th {\n",
              "        vertical-align: top;\n",
              "    }\n",
              "\n",
              "    .dataframe thead th {\n",
              "        text-align: right;\n",
              "    }\n",
              "</style>\n",
              "<table border=\"1\" class=\"dataframe\">\n",
              "  <thead>\n",
              "    <tr style=\"text-align: right;\">\n",
              "      <th></th>\n",
              "      <th>uuid</th>\n",
              "      <th>course_uuid</th>\n",
              "      <th>term_code</th>\n",
              "      <th>name</th>\n",
              "    </tr>\n",
              "  </thead>\n",
              "  <tbody>\n",
              "    <tr>\n",
              "      <th>0</th>\n",
              "      <td>344b3ebe-da7e-314c-83ed-9425269695fd</td>\n",
              "      <td>a3e3e1c3-543d-3bb5-ae65-5f2aec4ad1de</td>\n",
              "      <td>1092</td>\n",
              "      <td>Cooperative Education Prog</td>\n",
              "    </tr>\n",
              "    <tr>\n",
              "      <th>1</th>\n",
              "      <td>f718e6cd-33f0-3c14-a9a6-834d9c3610a8</td>\n",
              "      <td>a3e3e1c3-543d-3bb5-ae65-5f2aec4ad1de</td>\n",
              "      <td>1082</td>\n",
              "      <td>Cooperative Education Prog</td>\n",
              "    </tr>\n",
              "    <tr>\n",
              "      <th>2</th>\n",
              "      <td>ea3b717c-d66b-30dc-8b37-964d9688295f</td>\n",
              "      <td>a3e3e1c3-543d-3bb5-ae65-5f2aec4ad1de</td>\n",
              "      <td>1172</td>\n",
              "      <td>Cooperative Education Prog</td>\n",
              "    </tr>\n",
              "    <tr>\n",
              "      <th>3</th>\n",
              "      <td>075da420-5f49-3dd0-93df-13e3c152e1b1</td>\n",
              "      <td>a3e3e1c3-543d-3bb5-ae65-5f2aec4ad1de</td>\n",
              "      <td>1114</td>\n",
              "      <td>Cooperative Education Prog</td>\n",
              "    </tr>\n",
              "  </tbody>\n",
              "</table>\n",
              "</div>"
            ],
            "text/plain": [
              "                                   uuid  ...                        name\n",
              "0  344b3ebe-da7e-314c-83ed-9425269695fd  ...  Cooperative Education Prog\n",
              "1  f718e6cd-33f0-3c14-a9a6-834d9c3610a8  ...  Cooperative Education Prog\n",
              "2  ea3b717c-d66b-30dc-8b37-964d9688295f  ...  Cooperative Education Prog\n",
              "3  075da420-5f49-3dd0-93df-13e3c152e1b1  ...  Cooperative Education Prog\n",
              "\n",
              "[4 rows x 4 columns]"
            ]
          },
          "metadata": {
            "tags": []
          },
          "execution_count": 20
        }
      ]
    },
    {
      "cell_type": "code",
      "metadata": {
        "colab": {
          "base_uri": "https://localhost:8080/"
        },
        "id": "b2Oagd0vfMGe",
        "outputId": "3937ef9d-f6f3-4d39-97d5-ae9248025a16"
      },
      "source": [
        "instructors.show(4,False)"
      ],
      "execution_count": 21,
      "outputs": [
        {
          "output_type": "stream",
          "text": [
            "+-------+------------------+\n",
            "|id     |name              |\n",
            "+-------+------------------+\n",
            "|761703 |JOHN ARCHAMBAULT  |\n",
            "|3677061|STEPHANIE KANN    |\n",
            "|788586 |KATHY PREM        |\n",
            "|1600463|KRISTIN KLARKOWSKI|\n",
            "+-------+------------------+\n",
            "only showing top 4 rows\n",
            "\n"
          ],
          "name": "stdout"
        }
      ]
    },
    {
      "cell_type": "code",
      "metadata": {
        "colab": {
          "base_uri": "https://localhost:8080/"
        },
        "id": "soS35eslfOKE",
        "outputId": "4bce4d2e-d3df-47a4-cbe5-a6df5e13732a"
      },
      "source": [
        "teachings.show(3)"
      ],
      "execution_count": 22,
      "outputs": [
        {
          "output_type": "stream",
          "text": [
            "+-------------+--------------------+\n",
            "|instructor_id|        section_uuid|\n",
            "+-------------+--------------------+\n",
            "|       761703|45adf63c-48c9-365...|\n",
            "|       761703|c6280e23-5e43-385...|\n",
            "|       761703|9395dc21-15d1-3fa...|\n",
            "+-------------+--------------------+\n",
            "only showing top 3 rows\n",
            "\n"
          ],
          "name": "stdout"
        }
      ]
    },
    {
      "cell_type": "code",
      "metadata": {
        "colab": {
          "base_uri": "https://localhost:8080/",
          "height": 173
        },
        "id": "idWPWkglfQa4",
        "outputId": "a80e6434-97d2-49f3-c0d1-474983218b55"
      },
      "source": [
        "# joining all the datasets present in the list\n",
        "step1 = teachings.join(instructors, teachings['instructor_id'] == instructors['id'], how='left').select(['instructor_id','name','section_uuid'])\n",
        "step1.limit(4).toPandas()"
      ],
      "execution_count": 23,
      "outputs": [
        {
          "output_type": "execute_result",
          "data": {
            "text/html": [
              "<div>\n",
              "<style scoped>\n",
              "    .dataframe tbody tr th:only-of-type {\n",
              "        vertical-align: middle;\n",
              "    }\n",
              "\n",
              "    .dataframe tbody tr th {\n",
              "        vertical-align: top;\n",
              "    }\n",
              "\n",
              "    .dataframe thead th {\n",
              "        text-align: right;\n",
              "    }\n",
              "</style>\n",
              "<table border=\"1\" class=\"dataframe\">\n",
              "  <thead>\n",
              "    <tr style=\"text-align: right;\">\n",
              "      <th></th>\n",
              "      <th>instructor_id</th>\n",
              "      <th>name</th>\n",
              "      <th>section_uuid</th>\n",
              "    </tr>\n",
              "  </thead>\n",
              "  <tbody>\n",
              "    <tr>\n",
              "      <th>0</th>\n",
              "      <td>761703</td>\n",
              "      <td>JOHN ARCHAMBAULT</td>\n",
              "      <td>45adf63c-48c9-3659-8561-07556d2d4ddf</td>\n",
              "    </tr>\n",
              "    <tr>\n",
              "      <th>1</th>\n",
              "      <td>761703</td>\n",
              "      <td>JOHN ARCHAMBAULT</td>\n",
              "      <td>c6280e23-5e43-3859-893e-540d94993529</td>\n",
              "    </tr>\n",
              "    <tr>\n",
              "      <th>2</th>\n",
              "      <td>761703</td>\n",
              "      <td>JOHN ARCHAMBAULT</td>\n",
              "      <td>9395dc21-15d1-3fab-8d1f-6f3fe6114c48</td>\n",
              "    </tr>\n",
              "    <tr>\n",
              "      <th>3</th>\n",
              "      <td>3677061</td>\n",
              "      <td>STEPHANIE KANN</td>\n",
              "      <td>b99e440b-39db-350a-81eb-b6eb1bd8b0bc</td>\n",
              "    </tr>\n",
              "  </tbody>\n",
              "</table>\n",
              "</div>"
            ],
            "text/plain": [
              "   instructor_id              name                          section_uuid\n",
              "0         761703  JOHN ARCHAMBAULT  45adf63c-48c9-3659-8561-07556d2d4ddf\n",
              "1         761703  JOHN ARCHAMBAULT  c6280e23-5e43-3859-893e-540d94993529\n",
              "2         761703  JOHN ARCHAMBAULT  9395dc21-15d1-3fab-8d1f-6f3fe6114c48\n",
              "3        3677061    STEPHANIE KANN  b99e440b-39db-350a-81eb-b6eb1bd8b0bc"
            ]
          },
          "metadata": {
            "tags": []
          },
          "execution_count": 23
        }
      ]
    },
    {
      "cell_type": "code",
      "metadata": {
        "colab": {
          "base_uri": "https://localhost:8080/",
          "height": 173
        },
        "id": "GCjT3mXofgxH",
        "outputId": "7651171d-83ed-4c96-ef6b-443705977106"
      },
      "source": [
        "step2 = step1.join(sections, step1['section_uuid'] == sections['uuid'], how='left').select(['name','course_offering_uuid'])\n",
        "step2.limit(4).toPandas()"
      ],
      "execution_count": 24,
      "outputs": [
        {
          "output_type": "execute_result",
          "data": {
            "text/html": [
              "<div>\n",
              "<style scoped>\n",
              "    .dataframe tbody tr th:only-of-type {\n",
              "        vertical-align: middle;\n",
              "    }\n",
              "\n",
              "    .dataframe tbody tr th {\n",
              "        vertical-align: top;\n",
              "    }\n",
              "\n",
              "    .dataframe thead th {\n",
              "        text-align: right;\n",
              "    }\n",
              "</style>\n",
              "<table border=\"1\" class=\"dataframe\">\n",
              "  <thead>\n",
              "    <tr style=\"text-align: right;\">\n",
              "      <th></th>\n",
              "      <th>name</th>\n",
              "      <th>course_offering_uuid</th>\n",
              "    </tr>\n",
              "  </thead>\n",
              "  <tbody>\n",
              "    <tr>\n",
              "      <th>0</th>\n",
              "      <td>THOMAS JAHNS</td>\n",
              "      <td>f850ab24-740c-311a-a669-804a3fea7b0b</td>\n",
              "    </tr>\n",
              "    <tr>\n",
              "      <th>1</th>\n",
              "      <td>JEAN-FRANCOIS HOUDE</td>\n",
              "      <td>7e213b2b-c58b-3014-b3d1-01c0f7ed46ef</td>\n",
              "    </tr>\n",
              "    <tr>\n",
              "      <th>2</th>\n",
              "      <td>CHRISTOPHER R TABER</td>\n",
              "      <td>3beb7bd7-4877-3c63-8afc-62f8b74e72fc</td>\n",
              "    </tr>\n",
              "    <tr>\n",
              "      <th>3</th>\n",
              "      <td>MARISA S OTEGUI</td>\n",
              "      <td>db253216-2e66-3267-86b2-7b9f5fe07223</td>\n",
              "    </tr>\n",
              "  </tbody>\n",
              "</table>\n",
              "</div>"
            ],
            "text/plain": [
              "                  name                  course_offering_uuid\n",
              "0         THOMAS JAHNS  f850ab24-740c-311a-a669-804a3fea7b0b\n",
              "1  JEAN-FRANCOIS HOUDE  7e213b2b-c58b-3014-b3d1-01c0f7ed46ef\n",
              "2  CHRISTOPHER R TABER  3beb7bd7-4877-3c63-8afc-62f8b74e72fc\n",
              "3      MARISA S OTEGUI  db253216-2e66-3267-86b2-7b9f5fe07223"
            ]
          },
          "metadata": {
            "tags": []
          },
          "execution_count": 24
        }
      ]
    },
    {
      "cell_type": "code",
      "metadata": {
        "colab": {
          "base_uri": "https://localhost:8080/",
          "height": 173
        },
        "id": "vX-NZ8uvfnNe",
        "outputId": "e436c6a4-75b1-4ca6-9380-95bfe99d2b71"
      },
      "source": [
        "step3 = step2.withColumnRenamed('name', 'instructor').join(course_offerings, step2.course_offering_uuid == course_offerings.uuid, how='inner').select(['instructor','name','course_offering_uuid'])\n",
        "step3.limit(4).toPandas()"
      ],
      "execution_count": 25,
      "outputs": [
        {
          "output_type": "execute_result",
          "data": {
            "text/html": [
              "<div>\n",
              "<style scoped>\n",
              "    .dataframe tbody tr th:only-of-type {\n",
              "        vertical-align: middle;\n",
              "    }\n",
              "\n",
              "    .dataframe tbody tr th {\n",
              "        vertical-align: top;\n",
              "    }\n",
              "\n",
              "    .dataframe thead th {\n",
              "        text-align: right;\n",
              "    }\n",
              "</style>\n",
              "<table border=\"1\" class=\"dataframe\">\n",
              "  <thead>\n",
              "    <tr style=\"text-align: right;\">\n",
              "      <th></th>\n",
              "      <th>instructor</th>\n",
              "      <th>name</th>\n",
              "      <th>course_offering_uuid</th>\n",
              "    </tr>\n",
              "  </thead>\n",
              "  <tbody>\n",
              "    <tr>\n",
              "      <th>0</th>\n",
              "      <td>THOMAS JAHNS</td>\n",
              "      <td>Master's Research or Thesis</td>\n",
              "      <td>f850ab24-740c-311a-a669-804a3fea7b0b</td>\n",
              "    </tr>\n",
              "    <tr>\n",
              "      <th>1</th>\n",
              "      <td>JEAN-FRANCOIS HOUDE</td>\n",
              "      <td>Wrkshp-Industrl Organizatn</td>\n",
              "      <td>7e213b2b-c58b-3014-b3d1-01c0f7ed46ef</td>\n",
              "    </tr>\n",
              "    <tr>\n",
              "      <th>2</th>\n",
              "      <td>CHRISTOPHER R TABER</td>\n",
              "      <td>Workshop - Public Economics</td>\n",
              "      <td>3beb7bd7-4877-3c63-8afc-62f8b74e72fc</td>\n",
              "    </tr>\n",
              "    <tr>\n",
              "      <th>3</th>\n",
              "      <td>MARISA S OTEGUI</td>\n",
              "      <td>Plant Cell Biology</td>\n",
              "      <td>db253216-2e66-3267-86b2-7b9f5fe07223</td>\n",
              "    </tr>\n",
              "  </tbody>\n",
              "</table>\n",
              "</div>"
            ],
            "text/plain": [
              "            instructor  ...                  course_offering_uuid\n",
              "0         THOMAS JAHNS  ...  f850ab24-740c-311a-a669-804a3fea7b0b\n",
              "1  JEAN-FRANCOIS HOUDE  ...  7e213b2b-c58b-3014-b3d1-01c0f7ed46ef\n",
              "2  CHRISTOPHER R TABER  ...  3beb7bd7-4877-3c63-8afc-62f8b74e72fc\n",
              "3      MARISA S OTEGUI  ...  db253216-2e66-3267-86b2-7b9f5fe07223\n",
              "\n",
              "[4 rows x 3 columns]"
            ]
          },
          "metadata": {
            "tags": []
          },
          "execution_count": 25
        }
      ]
    },
    {
      "cell_type": "code",
      "metadata": {
        "id": "ea5dgSRDfwTN"
      },
      "source": [
        ""
      ],
      "execution_count": null,
      "outputs": []
    }
  ]
}
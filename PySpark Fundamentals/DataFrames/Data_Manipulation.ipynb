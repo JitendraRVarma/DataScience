{
  "nbformat": 4,
  "nbformat_minor": 0,
  "metadata": {
    "colab": {
      "name": "Data Manipulation",
      "provenance": [],
      "collapsed_sections": []
    },
    "kernelspec": {
      "name": "python3",
      "display_name": "Python 3"
    },
    "language_info": {
      "name": "python"
    }
  },
  "cells": [
    {
      "cell_type": "markdown",
      "metadata": {
        "id": "Yp6mqGEAjYPM"
      },
      "source": [
        "## Configure PySpark Setup"
      ]
    },
    {
      "cell_type": "code",
      "metadata": {
        "colab": {
          "base_uri": "https://localhost:8080/",
          "height": 216
        },
        "id": "MCa9mNO1jZH9",
        "outputId": "c30d7379-b42c-4c8e-aeb0-b3d1503afc5e"
      },
      "source": [
        "!apt-get install openjdk-8-jdk-headless -qq > /dev/null\n",
        "!wget -q https://archive.apache.org/dist/spark/spark-2.4.1/spark-2.4.1-bin-hadoop2.7.tgz\n",
        "!tar xf spark-2.4.1-bin-hadoop2.7.tgz\n",
        "!pip install -q findspark\n",
        "\n",
        "import os\n",
        "os.environ[\"JAVA_HOME\"] = \"/usr/lib/jvm/java-8-openjdk-amd64\"\n",
        "os.environ[\"SPARK_HOME\"] = \"/content/spark-2.4.1-bin-hadoop2.7\"\n",
        "\n",
        "\n",
        "import findspark\n",
        "findspark.init()\n",
        "\n",
        "\n",
        "import pyspark \n",
        "from pyspark.sql import SparkSession\n",
        "spark = SparkSession.builder.appName(\"App\").getOrCreate()\n",
        "spark"
      ],
      "execution_count": 1,
      "outputs": [
        {
          "output_type": "execute_result",
          "data": {
            "text/html": [
              "\n",
              "            <div>\n",
              "                <p><b>SparkSession - in-memory</b></p>\n",
              "                \n",
              "        <div>\n",
              "            <p><b>SparkContext</b></p>\n",
              "\n",
              "            <p><a href=\"http://83e945bbee81:4040\">Spark UI</a></p>\n",
              "\n",
              "            <dl>\n",
              "              <dt>Version</dt>\n",
              "                <dd><code>v2.4.1</code></dd>\n",
              "              <dt>Master</dt>\n",
              "                <dd><code>local[*]</code></dd>\n",
              "              <dt>AppName</dt>\n",
              "                <dd><code>App</code></dd>\n",
              "            </dl>\n",
              "        </div>\n",
              "        \n",
              "            </div>\n",
              "        "
            ],
            "text/plain": [
              "<pyspark.sql.session.SparkSession at 0x7f4c81f24490>"
            ]
          },
          "metadata": {
            "tags": []
          },
          "execution_count": 1
        }
      ]
    },
    {
      "cell_type": "code",
      "metadata": {
        "id": "sfxR0RkFpdr7"
      },
      "source": [
        "# Load Libraries\n"
      ],
      "execution_count": 2,
      "outputs": []
    },
    {
      "cell_type": "code",
      "metadata": {
        "colab": {
          "base_uri": "https://localhost:8080/"
        },
        "id": "a7bHaAOcld4r",
        "outputId": "db134494-9cbf-4118-c024-36e07f02e89d"
      },
      "source": [
        "# check number of cores PySpark is using\n",
        "cores = spark._jsc.sc().getExecutorMemoryStatus().keySet().size()\n",
        "print(\"You are working with\", cores, \"core(s)\")"
      ],
      "execution_count": 3,
      "outputs": [
        {
          "output_type": "stream",
          "text": [
            "You are working with 1 core(s)\n"
          ],
          "name": "stdout"
        }
      ]
    },
    {
      "cell_type": "markdown",
      "metadata": {
        "id": "vX7IPLT4kX5d"
      },
      "source": [
        "## Load Datasets\n"
      ]
    },
    {
      "cell_type": "code",
      "metadata": {
        "id": "X3BH7XKykc2M"
      },
      "source": [
        "!cp /content/drive/MyDrive/Datasets.zip .\n",
        "!unzip Datasets.zip"
      ],
      "execution_count": null,
      "outputs": []
    },
    {
      "cell_type": "markdown",
      "metadata": {
        "id": "HgUFLSSMd5lw"
      },
      "source": [
        "# Load Libraries"
      ]
    },
    {
      "cell_type": "code",
      "metadata": {
        "id": "0S-d4r9Kd5Ec"
      },
      "source": [
        "from pyspark.sql.functions import *\n",
        "from pyspark.sql.types import *\n",
        "\n",
        "import pyspark.sql.functions as f\n",
        "\n"
      ],
      "execution_count": 24,
      "outputs": []
    },
    {
      "cell_type": "markdown",
      "metadata": {
        "id": "kWe2GGSCkO50"
      },
      "source": [
        "## Reading Data into PySpark"
      ]
    },
    {
      "cell_type": "code",
      "metadata": {
        "id": "bIjGt5OhqMKs"
      },
      "source": [
        "path='Datasets/'\n",
        "data = spark.read.csv(path+'youtubevideos.csv',inferSchema=True,header=True)"
      ],
      "execution_count": 7,
      "outputs": []
    },
    {
      "cell_type": "code",
      "metadata": {
        "colab": {
          "base_uri": "https://localhost:8080/",
          "height": 383
        },
        "id": "deePmh9meHN2",
        "outputId": "736e2fc1-baff-48f6-890e-57d66b92e7b2"
      },
      "source": [
        "data.limit(3).toPandas()"
      ],
      "execution_count": 8,
      "outputs": [
        {
          "output_type": "execute_result",
          "data": {
            "text/html": [
              "<div>\n",
              "<style scoped>\n",
              "    .dataframe tbody tr th:only-of-type {\n",
              "        vertical-align: middle;\n",
              "    }\n",
              "\n",
              "    .dataframe tbody tr th {\n",
              "        vertical-align: top;\n",
              "    }\n",
              "\n",
              "    .dataframe thead th {\n",
              "        text-align: right;\n",
              "    }\n",
              "</style>\n",
              "<table border=\"1\" class=\"dataframe\">\n",
              "  <thead>\n",
              "    <tr style=\"text-align: right;\">\n",
              "      <th></th>\n",
              "      <th>video_id</th>\n",
              "      <th>trending_date</th>\n",
              "      <th>title</th>\n",
              "      <th>channel_title</th>\n",
              "      <th>category_id</th>\n",
              "      <th>publish_time</th>\n",
              "      <th>tags</th>\n",
              "      <th>views</th>\n",
              "      <th>likes</th>\n",
              "      <th>dislikes</th>\n",
              "      <th>comment_count</th>\n",
              "      <th>thumbnail_link</th>\n",
              "      <th>comments_disabled</th>\n",
              "      <th>ratings_disabled</th>\n",
              "      <th>video_error_or_removed</th>\n",
              "      <th>description</th>\n",
              "    </tr>\n",
              "  </thead>\n",
              "  <tbody>\n",
              "    <tr>\n",
              "      <th>0</th>\n",
              "      <td>2kyS6SvSYSE</td>\n",
              "      <td>17.14.11</td>\n",
              "      <td>WE WANT TO TALK ABOUT OUR MARRIAGE</td>\n",
              "      <td>CaseyNeistat</td>\n",
              "      <td>22</td>\n",
              "      <td>2017-11-13T17:13:01.000Z</td>\n",
              "      <td>SHANtell martin</td>\n",
              "      <td>748374</td>\n",
              "      <td>57527</td>\n",
              "      <td>2966</td>\n",
              "      <td>15954</td>\n",
              "      <td>https://i.ytimg.com/vi/2kyS6SvSYSE/default.jpg</td>\n",
              "      <td>False</td>\n",
              "      <td>False</td>\n",
              "      <td>False</td>\n",
              "      <td>SHANTELL'S CHANNEL - https://www.youtube.com/s...</td>\n",
              "    </tr>\n",
              "    <tr>\n",
              "      <th>1</th>\n",
              "      <td>1ZAPwfrtAFY</td>\n",
              "      <td>17.14.11</td>\n",
              "      <td>The Trump Presidency: Last Week Tonight with J...</td>\n",
              "      <td>LastWeekTonight</td>\n",
              "      <td>24</td>\n",
              "      <td>2017-11-13T07:30:00.000Z</td>\n",
              "      <td>\"last week tonight trump presidency\"|\"last wee...</td>\n",
              "      <td>2418783</td>\n",
              "      <td>97185</td>\n",
              "      <td>6146</td>\n",
              "      <td>12703</td>\n",
              "      <td>https://i.ytimg.com/vi/1ZAPwfrtAFY/default.jpg</td>\n",
              "      <td>False</td>\n",
              "      <td>False</td>\n",
              "      <td>False</td>\n",
              "      <td>One year after the presidential election, John...</td>\n",
              "    </tr>\n",
              "    <tr>\n",
              "      <th>2</th>\n",
              "      <td>5qpjK5DgCt4</td>\n",
              "      <td>17.14.11</td>\n",
              "      <td>Racist Superman | Rudy Mancuso, King Bach &amp; Le...</td>\n",
              "      <td>Rudy Mancuso</td>\n",
              "      <td>23</td>\n",
              "      <td>2017-11-12T19:05:24.000Z</td>\n",
              "      <td>\"racist superman\"|\"rudy\"|\"mancuso\"|\"king\"|\"bac...</td>\n",
              "      <td>3191434</td>\n",
              "      <td>146033</td>\n",
              "      <td>5339</td>\n",
              "      <td>8181</td>\n",
              "      <td>https://i.ytimg.com/vi/5qpjK5DgCt4/default.jpg</td>\n",
              "      <td>False</td>\n",
              "      <td>False</td>\n",
              "      <td>False</td>\n",
              "      <td>WATCH MY PREVIOUS VIDEO ▶ \\n\\nSUBSCRIBE ► http...</td>\n",
              "    </tr>\n",
              "  </tbody>\n",
              "</table>\n",
              "</div>"
            ],
            "text/plain": [
              "      video_id  ...                                        description\n",
              "0  2kyS6SvSYSE  ...  SHANTELL'S CHANNEL - https://www.youtube.com/s...\n",
              "1  1ZAPwfrtAFY  ...  One year after the presidential election, John...\n",
              "2  5qpjK5DgCt4  ...  WATCH MY PREVIOUS VIDEO ▶ \\n\\nSUBSCRIBE ► http...\n",
              "\n",
              "[3 rows x 16 columns]"
            ]
          },
          "metadata": {
            "tags": []
          },
          "execution_count": 8
        }
      ]
    },
    {
      "cell_type": "code",
      "metadata": {
        "colab": {
          "base_uri": "https://localhost:8080/"
        },
        "id": "a5ORD-lmecad",
        "outputId": "6653f381-c249-4169-d51f-1fa8d9275f8e"
      },
      "source": [
        "print(data.printSchema())"
      ],
      "execution_count": 9,
      "outputs": [
        {
          "output_type": "stream",
          "text": [
            "root\n",
            " |-- video_id: string (nullable = true)\n",
            " |-- trending_date: string (nullable = true)\n",
            " |-- title: string (nullable = true)\n",
            " |-- channel_title: string (nullable = true)\n",
            " |-- category_id: string (nullable = true)\n",
            " |-- publish_time: string (nullable = true)\n",
            " |-- tags: string (nullable = true)\n",
            " |-- views: string (nullable = true)\n",
            " |-- likes: string (nullable = true)\n",
            " |-- dislikes: string (nullable = true)\n",
            " |-- comment_count: string (nullable = true)\n",
            " |-- thumbnail_link: string (nullable = true)\n",
            " |-- comments_disabled: string (nullable = true)\n",
            " |-- ratings_disabled: string (nullable = true)\n",
            " |-- video_error_or_removed: string (nullable = true)\n",
            " |-- description: string (nullable = true)\n",
            "\n",
            "None\n"
          ],
          "name": "stdout"
        }
      ]
    },
    {
      "cell_type": "markdown",
      "metadata": {
        "id": "mPROlVL-gBmo"
      },
      "source": [
        "# isNan vs isNull\n",
        "\n",
        "null values represents \"no value\" or \"nothing\", it's not even an empty string or zero. It can be used to represent that nothing useful exists.\n",
        "\n",
        "NaN stands for \"Not a Number\", it's usually the result of a mathematical operation that doesn't make sense, e.g. 0.0/0.0."
      ]
    },
    {
      "cell_type": "code",
      "metadata": {
        "colab": {
          "base_uri": "https://localhost:8080/"
        },
        "id": "ZKta32t6eh6I",
        "outputId": "8c82449f-4a1b-4d12-9bf8-da1a383a8bd0"
      },
      "source": [
        "# count missing data for each column\n",
        "data.select([count(when(isnan(c) | col(c).isNull(), c)).alias(c) for c in data.columns]).show()"
      ],
      "execution_count": 11,
      "outputs": [
        {
          "output_type": "stream",
          "text": [
            "+--------+-------------+-----+-------------+-----------+------------+----+-----+-----+--------+-------------+--------------+-----------------+----------------+----------------------+-----------+\n",
            "|video_id|trending_date|title|channel_title|category_id|publish_time|tags|views|likes|dislikes|comment_count|thumbnail_link|comments_disabled|ratings_disabled|video_error_or_removed|description|\n",
            "+--------+-------------+-----+-------------+-----------+------------+----+-----+-----+--------+-------------+--------------+-----------------+----------------+----------------------+-----------+\n",
            "|       0|         5752| 5902|         6025|       6292|        6463|7021| 7076| 7094|    7102|         7102|          7102|             7115|            7177|                  7177|       7747|\n",
            "+--------+-------------+-----+-------------+-----------+------------+----+-----+-----+--------+-------------+--------------+-----------------+----------------+----------------------+-----------+\n",
            "\n"
          ],
          "name": "stdout"
        }
      ]
    },
    {
      "cell_type": "code",
      "metadata": {
        "colab": {
          "base_uri": "https://localhost:8080/",
          "height": 545
        },
        "id": "m-r6pxLCgToP",
        "outputId": "eb608f64-0815-4c57-c1a7-42b855ddb956"
      },
      "source": [
        "data.select([count(when(isnan(c) | col(c).isNull(), c)).alias(c) for c in data.columns]).toPandas().T"
      ],
      "execution_count": 13,
      "outputs": [
        {
          "output_type": "execute_result",
          "data": {
            "text/html": [
              "<div>\n",
              "<style scoped>\n",
              "    .dataframe tbody tr th:only-of-type {\n",
              "        vertical-align: middle;\n",
              "    }\n",
              "\n",
              "    .dataframe tbody tr th {\n",
              "        vertical-align: top;\n",
              "    }\n",
              "\n",
              "    .dataframe thead th {\n",
              "        text-align: right;\n",
              "    }\n",
              "</style>\n",
              "<table border=\"1\" class=\"dataframe\">\n",
              "  <thead>\n",
              "    <tr style=\"text-align: right;\">\n",
              "      <th></th>\n",
              "      <th>0</th>\n",
              "    </tr>\n",
              "  </thead>\n",
              "  <tbody>\n",
              "    <tr>\n",
              "      <th>video_id</th>\n",
              "      <td>0</td>\n",
              "    </tr>\n",
              "    <tr>\n",
              "      <th>trending_date</th>\n",
              "      <td>5752</td>\n",
              "    </tr>\n",
              "    <tr>\n",
              "      <th>title</th>\n",
              "      <td>5902</td>\n",
              "    </tr>\n",
              "    <tr>\n",
              "      <th>channel_title</th>\n",
              "      <td>6025</td>\n",
              "    </tr>\n",
              "    <tr>\n",
              "      <th>category_id</th>\n",
              "      <td>6292</td>\n",
              "    </tr>\n",
              "    <tr>\n",
              "      <th>publish_time</th>\n",
              "      <td>6463</td>\n",
              "    </tr>\n",
              "    <tr>\n",
              "      <th>tags</th>\n",
              "      <td>7021</td>\n",
              "    </tr>\n",
              "    <tr>\n",
              "      <th>views</th>\n",
              "      <td>7076</td>\n",
              "    </tr>\n",
              "    <tr>\n",
              "      <th>likes</th>\n",
              "      <td>7094</td>\n",
              "    </tr>\n",
              "    <tr>\n",
              "      <th>dislikes</th>\n",
              "      <td>7102</td>\n",
              "    </tr>\n",
              "    <tr>\n",
              "      <th>comment_count</th>\n",
              "      <td>7102</td>\n",
              "    </tr>\n",
              "    <tr>\n",
              "      <th>thumbnail_link</th>\n",
              "      <td>7102</td>\n",
              "    </tr>\n",
              "    <tr>\n",
              "      <th>comments_disabled</th>\n",
              "      <td>7115</td>\n",
              "    </tr>\n",
              "    <tr>\n",
              "      <th>ratings_disabled</th>\n",
              "      <td>7177</td>\n",
              "    </tr>\n",
              "    <tr>\n",
              "      <th>video_error_or_removed</th>\n",
              "      <td>7177</td>\n",
              "    </tr>\n",
              "    <tr>\n",
              "      <th>description</th>\n",
              "      <td>7747</td>\n",
              "    </tr>\n",
              "  </tbody>\n",
              "</table>\n",
              "</div>"
            ],
            "text/plain": [
              "                           0\n",
              "video_id                   0\n",
              "trending_date           5752\n",
              "title                   5902\n",
              "channel_title           6025\n",
              "category_id             6292\n",
              "publish_time            6463\n",
              "tags                    7021\n",
              "views                   7076\n",
              "likes                   7094\n",
              "dislikes                7102\n",
              "comment_count           7102\n",
              "thumbnail_link          7102\n",
              "comments_disabled       7115\n",
              "ratings_disabled        7177\n",
              "video_error_or_removed  7177\n",
              "description             7747"
            ]
          },
          "metadata": {
            "tags": []
          },
          "execution_count": 13
        }
      ]
    },
    {
      "cell_type": "code",
      "metadata": {
        "id": "dzTS1My5hUYD"
      },
      "source": [
        "help(to_date)"
      ],
      "execution_count": null,
      "outputs": []
    },
    {
      "cell_type": "code",
      "metadata": {
        "id": "qbzHv4mtgbmZ"
      },
      "source": [
        "# changing data type \n",
        "\n",
        "df = data.withColumn(\"views\", data[\"views\"].cast(IntegerType())) \\\n",
        "        .withColumn(\"likes\", data[\"likes\"].cast(IntegerType())) \\\n",
        "        .withColumn(\"dislikes\", data[\"dislikes\"].cast(IntegerType())) \\\n",
        "        .withColumn(\"trending_date\", to_date(data['trending_date'], 'dd.mm.yy'))"
      ],
      "execution_count": 17,
      "outputs": []
    },
    {
      "cell_type": "code",
      "metadata": {
        "colab": {
          "base_uri": "https://localhost:8080/"
        },
        "id": "acP8jR6XhbKb",
        "outputId": "3e14bbe9-2d82-446f-a651-8c9017db56a6"
      },
      "source": [
        "print(df.printSchema())"
      ],
      "execution_count": 18,
      "outputs": [
        {
          "output_type": "stream",
          "text": [
            "root\n",
            " |-- video_id: string (nullable = true)\n",
            " |-- trending_date: date (nullable = true)\n",
            " |-- title: string (nullable = true)\n",
            " |-- channel_title: string (nullable = true)\n",
            " |-- category_id: string (nullable = true)\n",
            " |-- publish_time: string (nullable = true)\n",
            " |-- tags: string (nullable = true)\n",
            " |-- views: integer (nullable = true)\n",
            " |-- likes: integer (nullable = true)\n",
            " |-- dislikes: integer (nullable = true)\n",
            " |-- comment_count: string (nullable = true)\n",
            " |-- thumbnail_link: string (nullable = true)\n",
            " |-- comments_disabled: string (nullable = true)\n",
            " |-- ratings_disabled: string (nullable = true)\n",
            " |-- video_error_or_removed: string (nullable = true)\n",
            " |-- description: string (nullable = true)\n",
            "\n",
            "None\n"
          ],
          "name": "stdout"
        }
      ]
    },
    {
      "cell_type": "code",
      "metadata": {
        "colab": {
          "base_uri": "https://localhost:8080/",
          "height": 448
        },
        "id": "Zu0cEPgJhnKF",
        "outputId": "b22811bc-f4c6-468f-e9aa-2e13b2f95880"
      },
      "source": [
        "# rename columns\n",
        "renamed = df.withColumnRenamed('channel_title','channel_title_new')\n",
        "renamed.limit(4).toPandas()"
      ],
      "execution_count": 19,
      "outputs": [
        {
          "output_type": "execute_result",
          "data": {
            "text/html": [
              "<div>\n",
              "<style scoped>\n",
              "    .dataframe tbody tr th:only-of-type {\n",
              "        vertical-align: middle;\n",
              "    }\n",
              "\n",
              "    .dataframe tbody tr th {\n",
              "        vertical-align: top;\n",
              "    }\n",
              "\n",
              "    .dataframe thead th {\n",
              "        text-align: right;\n",
              "    }\n",
              "</style>\n",
              "<table border=\"1\" class=\"dataframe\">\n",
              "  <thead>\n",
              "    <tr style=\"text-align: right;\">\n",
              "      <th></th>\n",
              "      <th>video_id</th>\n",
              "      <th>trending_date</th>\n",
              "      <th>title</th>\n",
              "      <th>channel_title_new</th>\n",
              "      <th>category_id</th>\n",
              "      <th>publish_time</th>\n",
              "      <th>tags</th>\n",
              "      <th>views</th>\n",
              "      <th>likes</th>\n",
              "      <th>dislikes</th>\n",
              "      <th>comment_count</th>\n",
              "      <th>thumbnail_link</th>\n",
              "      <th>comments_disabled</th>\n",
              "      <th>ratings_disabled</th>\n",
              "      <th>video_error_or_removed</th>\n",
              "      <th>description</th>\n",
              "    </tr>\n",
              "  </thead>\n",
              "  <tbody>\n",
              "    <tr>\n",
              "      <th>0</th>\n",
              "      <td>2kyS6SvSYSE</td>\n",
              "      <td>2011-01-17</td>\n",
              "      <td>WE WANT TO TALK ABOUT OUR MARRIAGE</td>\n",
              "      <td>CaseyNeistat</td>\n",
              "      <td>22</td>\n",
              "      <td>2017-11-13T17:13:01.000Z</td>\n",
              "      <td>SHANtell martin</td>\n",
              "      <td>748374</td>\n",
              "      <td>57527</td>\n",
              "      <td>2966</td>\n",
              "      <td>15954</td>\n",
              "      <td>https://i.ytimg.com/vi/2kyS6SvSYSE/default.jpg</td>\n",
              "      <td>False</td>\n",
              "      <td>False</td>\n",
              "      <td>False</td>\n",
              "      <td>SHANTELL'S CHANNEL - https://www.youtube.com/s...</td>\n",
              "    </tr>\n",
              "    <tr>\n",
              "      <th>1</th>\n",
              "      <td>1ZAPwfrtAFY</td>\n",
              "      <td>2011-01-17</td>\n",
              "      <td>The Trump Presidency: Last Week Tonight with J...</td>\n",
              "      <td>LastWeekTonight</td>\n",
              "      <td>24</td>\n",
              "      <td>2017-11-13T07:30:00.000Z</td>\n",
              "      <td>\"last week tonight trump presidency\"|\"last wee...</td>\n",
              "      <td>2418783</td>\n",
              "      <td>97185</td>\n",
              "      <td>6146</td>\n",
              "      <td>12703</td>\n",
              "      <td>https://i.ytimg.com/vi/1ZAPwfrtAFY/default.jpg</td>\n",
              "      <td>False</td>\n",
              "      <td>False</td>\n",
              "      <td>False</td>\n",
              "      <td>One year after the presidential election, John...</td>\n",
              "    </tr>\n",
              "    <tr>\n",
              "      <th>2</th>\n",
              "      <td>5qpjK5DgCt4</td>\n",
              "      <td>2011-01-17</td>\n",
              "      <td>Racist Superman | Rudy Mancuso, King Bach &amp; Le...</td>\n",
              "      <td>Rudy Mancuso</td>\n",
              "      <td>23</td>\n",
              "      <td>2017-11-12T19:05:24.000Z</td>\n",
              "      <td>\"racist superman\"|\"rudy\"|\"mancuso\"|\"king\"|\"bac...</td>\n",
              "      <td>3191434</td>\n",
              "      <td>146033</td>\n",
              "      <td>5339</td>\n",
              "      <td>8181</td>\n",
              "      <td>https://i.ytimg.com/vi/5qpjK5DgCt4/default.jpg</td>\n",
              "      <td>False</td>\n",
              "      <td>False</td>\n",
              "      <td>False</td>\n",
              "      <td>WATCH MY PREVIOUS VIDEO ▶ \\n\\nSUBSCRIBE ► http...</td>\n",
              "    </tr>\n",
              "    <tr>\n",
              "      <th>3</th>\n",
              "      <td>puqaWrEC7tY</td>\n",
              "      <td>2011-01-17</td>\n",
              "      <td>Nickelback Lyrics: Real or Fake?</td>\n",
              "      <td>Good Mythical Morning</td>\n",
              "      <td>24</td>\n",
              "      <td>2017-11-13T11:00:04.000Z</td>\n",
              "      <td>\"rhett and link\"|\"gmm\"|\"good mythical morning\"...</td>\n",
              "      <td>343168</td>\n",
              "      <td>10172</td>\n",
              "      <td>666</td>\n",
              "      <td>2146</td>\n",
              "      <td>https://i.ytimg.com/vi/puqaWrEC7tY/default.jpg</td>\n",
              "      <td>False</td>\n",
              "      <td>False</td>\n",
              "      <td>False</td>\n",
              "      <td>Today we find out if Link is a Nickelback amat...</td>\n",
              "    </tr>\n",
              "  </tbody>\n",
              "</table>\n",
              "</div>"
            ],
            "text/plain": [
              "      video_id  ...                                        description\n",
              "0  2kyS6SvSYSE  ...  SHANTELL'S CHANNEL - https://www.youtube.com/s...\n",
              "1  1ZAPwfrtAFY  ...  One year after the presidential election, John...\n",
              "2  5qpjK5DgCt4  ...  WATCH MY PREVIOUS VIDEO ▶ \\n\\nSUBSCRIBE ► http...\n",
              "3  puqaWrEC7tY  ...  Today we find out if Link is a Nickelback amat...\n",
              "\n",
              "[4 rows x 16 columns]"
            ]
          },
          "metadata": {
            "tags": []
          },
          "execution_count": 19
        }
      ]
    },
    {
      "cell_type": "code",
      "metadata": {
        "colab": {
          "base_uri": "https://localhost:8080/"
        },
        "id": "YGxf7mcQh3OJ",
        "outputId": "63ec4c7d-33cb-471d-b5e0-326cb42db6be"
      },
      "source": [
        "renamed.explain()"
      ],
      "execution_count": 20,
      "outputs": [
        {
          "output_type": "stream",
          "text": [
            "== Physical Plan ==\n",
            "*(1) Project [video_id#10, cast(cast(unix_timestamp(trending_date#11, dd.mm.yy, Some(Etc/UTC)) as timestamp) as date) AS trending_date#398, title#12, channel_title#13 AS channel_title_new#415, category_id#14, publish_time#15, tags#16, cast(views#17 as int) AS views#347, cast(likes#18 as int) AS likes#364, cast(dislikes#19 as int) AS dislikes#381, comment_count#20, thumbnail_link#21, comments_disabled#22, ratings_disabled#23, video_error_or_removed#24, description#25]\n",
            "+- *(1) FileScan csv [video_id#10,trending_date#11,title#12,channel_title#13,category_id#14,publish_time#15,tags#16,views#17,likes#18,dislikes#19,comment_count#20,thumbnail_link#21,comments_disabled#22,ratings_disabled#23,video_error_or_removed#24,description#25] Batched: false, Format: CSV, Location: InMemoryFileIndex[file:/content/Datasets/youtubevideos.csv], PartitionFilters: [], PushedFilters: [], ReadSchema: struct<video_id:string,trending_date:string,title:string,channel_title:string,category_id:string,...\n"
          ],
          "name": "stdout"
        }
      ]
    },
    {
      "cell_type": "code",
      "metadata": {
        "colab": {
          "base_uri": "https://localhost:8080/"
        },
        "id": "QpieEQnoiRJE",
        "outputId": "e69fc277-65b3-40d2-bca9-fee562b40a60"
      },
      "source": [
        "# replace characters in data frame\n",
        "df = df.withColumn('publish_time_2',regexp_replace(df['publish_time'], 'T', ' '))\n",
        "df = df.withColumn('publish_time_2',regexp_replace(df['publish_time_2'], 'Z', ''))\n",
        "df = df.withColumn(\"publish_time_3\", to_timestamp(df['publish_time_2'], 'yyyy-MM-dd HH:mm:ss.SSS'))\n",
        "print(df.printSchema())\n",
        "df.select(\"publish_time\", \"publish_time_2\",\"publish_time_3\").show(5,False)"
      ],
      "execution_count": 21,
      "outputs": [
        {
          "output_type": "stream",
          "text": [
            "root\n",
            " |-- video_id: string (nullable = true)\n",
            " |-- trending_date: date (nullable = true)\n",
            " |-- title: string (nullable = true)\n",
            " |-- channel_title: string (nullable = true)\n",
            " |-- category_id: string (nullable = true)\n",
            " |-- publish_time: string (nullable = true)\n",
            " |-- tags: string (nullable = true)\n",
            " |-- views: integer (nullable = true)\n",
            " |-- likes: integer (nullable = true)\n",
            " |-- dislikes: integer (nullable = true)\n",
            " |-- comment_count: string (nullable = true)\n",
            " |-- thumbnail_link: string (nullable = true)\n",
            " |-- comments_disabled: string (nullable = true)\n",
            " |-- ratings_disabled: string (nullable = true)\n",
            " |-- video_error_or_removed: string (nullable = true)\n",
            " |-- description: string (nullable = true)\n",
            " |-- publish_time_2: string (nullable = true)\n",
            " |-- publish_time_3: timestamp (nullable = true)\n",
            "\n",
            "None\n",
            "+------------------------+-----------------------+-------------------+\n",
            "|publish_time            |publish_time_2         |publish_time_3     |\n",
            "+------------------------+-----------------------+-------------------+\n",
            "|2017-11-13T17:13:01.000Z|2017-11-13 17:13:01.000|2017-11-13 17:13:01|\n",
            "|2017-11-13T07:30:00.000Z|2017-11-13 07:30:00.000|2017-11-13 07:30:00|\n",
            "|2017-11-12T19:05:24.000Z|2017-11-12 19:05:24.000|2017-11-12 19:05:24|\n",
            "|2017-11-13T11:00:04.000Z|2017-11-13 11:00:04.000|2017-11-13 11:00:04|\n",
            "|2017-11-12T18:01:41.000Z|2017-11-12 18:01:41.000|2017-11-12 18:01:41|\n",
            "+------------------------+-----------------------+-------------------+\n",
            "only showing top 5 rows\n",
            "\n"
          ],
          "name": "stdout"
        }
      ]
    },
    {
      "cell_type": "code",
      "metadata": {
        "colab": {
          "base_uri": "https://localhost:8080/"
        },
        "id": "9JxMBiiai0o1",
        "outputId": "dee257d6-c2d8-4133-ca2a-2c686ec2a1e5"
      },
      "source": [
        "# traslate function in PySpark\n",
        "help(translate)"
      ],
      "execution_count": 23,
      "outputs": [
        {
          "output_type": "stream",
          "text": [
            "Help on function translate in module pyspark.sql.functions:\n",
            "\n",
            "translate(srcCol, matching, replace)\n",
            "    A function translate any character in the `srcCol` by a character in `matching`.\n",
            "    The characters in `replace` is corresponding to the characters in `matching`.\n",
            "    The translate will happen when any character in the string matching with the character\n",
            "    in the `matching`.\n",
            "    \n",
            "    >>> spark.createDataFrame([('translate',)], ['a']).select(translate('a', \"rnlt\", \"123\") \\\n",
            "    ...     .alias('r')).collect()\n",
            "    [Row(r='1a2s3ae')]\n",
            "    \n",
            "    .. versionadded:: 1.5\n",
            "\n"
          ],
          "name": "stdout"
        }
      ]
    },
    {
      "cell_type": "code",
      "metadata": {
        "colab": {
          "base_uri": "https://localhost:8080/"
        },
        "id": "1INec-tVjOPq",
        "outputId": "d33b4b80-39a7-42f0-b29a-108bf4c0bc8f"
      },
      "source": [
        "df.select(\"publish_time\",translate(f.col(\"publish_time\"), \"TZ\", \" \").alias(\"translate_func\")).show(5,False)"
      ],
      "execution_count": 25,
      "outputs": [
        {
          "output_type": "stream",
          "text": [
            "+------------------------+-----------------------+\n",
            "|publish_time            |translate_func         |\n",
            "+------------------------+-----------------------+\n",
            "|2017-11-13T17:13:01.000Z|2017-11-13 17:13:01.000|\n",
            "|2017-11-13T07:30:00.000Z|2017-11-13 07:30:00.000|\n",
            "|2017-11-12T19:05:24.000Z|2017-11-12 19:05:24.000|\n",
            "|2017-11-13T11:00:04.000Z|2017-11-13 11:00:04.000|\n",
            "|2017-11-12T18:01:41.000Z|2017-11-12 18:01:41.000|\n",
            "+------------------------+-----------------------+\n",
            "only showing top 5 rows\n",
            "\n"
          ],
          "name": "stdout"
        }
      ]
    },
    {
      "cell_type": "code",
      "metadata": {
        "colab": {
          "base_uri": "https://localhost:8080/"
        },
        "id": "7BOz1EqmjfGO",
        "outputId": "4f5d1191-2d96-4100-b65a-3b9810869583"
      },
      "source": [
        "# trim strings\n",
        "df = df.withColumn('title',trim(df['title'])) # or rtrim/ltrim\n",
        "df.select(\"title\").show(5,False)"
      ],
      "execution_count": 27,
      "outputs": [
        {
          "output_type": "stream",
          "text": [
            "+--------------------------------------------------------------+\n",
            "|title                                                         |\n",
            "+--------------------------------------------------------------+\n",
            "|WE WANT TO TALK ABOUT OUR MARRIAGE                            |\n",
            "|The Trump Presidency: Last Week Tonight with John Oliver (HBO)|\n",
            "|Racist Superman | Rudy Mancuso, King Bach & Lele Pons         |\n",
            "|Nickelback Lyrics: Real or Fake?                              |\n",
            "|I Dare You: GOING BALD!?                                      |\n",
            "+--------------------------------------------------------------+\n",
            "only showing top 5 rows\n",
            "\n"
          ],
          "name": "stdout"
        }
      ]
    },
    {
      "cell_type": "code",
      "metadata": {
        "colab": {
          "base_uri": "https://localhost:8080/"
        },
        "id": "edN7bVT0joMm",
        "outputId": "d895fbc7-9232-4daa-c316-1d8b07ce7f69"
      },
      "source": [
        "# lower case\n",
        "df = df.withColumn('title',lower(df['title'])) \n",
        "df.select(\"title\").show(5,False)"
      ],
      "execution_count": 28,
      "outputs": [
        {
          "output_type": "stream",
          "text": [
            "+--------------------------------------------------------------+\n",
            "|title                                                         |\n",
            "+--------------------------------------------------------------+\n",
            "|we want to talk about our marriage                            |\n",
            "|the trump presidency: last week tonight with john oliver (hbo)|\n",
            "|racist superman | rudy mancuso, king bach & lele pons         |\n",
            "|nickelback lyrics: real or fake?                              |\n",
            "|i dare you: going bald!?                                      |\n",
            "+--------------------------------------------------------------+\n",
            "only showing top 5 rows\n",
            "\n"
          ],
          "name": "stdout"
        }
      ]
    },
    {
      "cell_type": "code",
      "metadata": {
        "colab": {
          "base_uri": "https://localhost:8080/"
        },
        "id": "se0KxA85j4PW",
        "outputId": "8a0b54b2-f622-4e9e-89a7-9e926173e1b6"
      },
      "source": [
        "# create new columns based on condition using \"when\" in sql functions\n",
        "df.select(\"likes\",\"dislikes\",(when(df['likes'] > df['dislikes'], 'Good').when(df['likes'] < df['dislikes'], 'Bad').otherwise('Undetermined')).alias(\"Favorability\")).show(3)\n"
      ],
      "execution_count": 29,
      "outputs": [
        {
          "output_type": "stream",
          "text": [
            "+------+--------+------------+\n",
            "| likes|dislikes|Favorability|\n",
            "+------+--------+------------+\n",
            "| 57527|    2966|        Good|\n",
            "| 97185|    6146|        Good|\n",
            "|146033|    5339|        Good|\n",
            "+------+--------+------------+\n",
            "only showing top 3 rows\n",
            "\n"
          ],
          "name": "stdout"
        }
      ]
    },
    {
      "cell_type": "code",
      "metadata": {
        "colab": {
          "base_uri": "https://localhost:8080/"
        },
        "id": "iWoePkP_keN0",
        "outputId": "bd506c0f-00d0-446d-ff80-da47b000d337"
      },
      "source": [
        "# create new columns based on condition using \"expr \" in sql functions\n",
        "df.select(\"likes\",\"dislikes\",expr(\"CASE WHEN likes > dislikes THEN  'Good' WHEN likes < dislikes THEN 'Bad' ELSE 'Undetermined' END AS Favorability\")).show(3)\n"
      ],
      "execution_count": 30,
      "outputs": [
        {
          "output_type": "stream",
          "text": [
            "+------+--------+------------+\n",
            "| likes|dislikes|Favorability|\n",
            "+------+--------+------------+\n",
            "| 57527|    2966|        Good|\n",
            "| 97185|    6146|        Good|\n",
            "|146033|    5339|        Good|\n",
            "+------+--------+------------+\n",
            "only showing top 3 rows\n",
            "\n"
          ],
          "name": "stdout"
        }
      ]
    },
    {
      "cell_type": "code",
      "metadata": {
        "colab": {
          "base_uri": "https://localhost:8080/"
        },
        "id": "pRC-v8XCkyak",
        "outputId": "2ebb9bec-8766-47bb-c4f0-510281a2c52e"
      },
      "source": [
        "df.selectExpr(\"likes\",\"dislikes\",\"CASE WHEN likes > dislikes THEN  'Good' WHEN likes < dislikes THEN 'Bad' ELSE 'Undetermined' END AS Favorability\").show(3)"
      ],
      "execution_count": 31,
      "outputs": [
        {
          "output_type": "stream",
          "text": [
            "+------+--------+------------+\n",
            "| likes|dislikes|Favorability|\n",
            "+------+--------+------------+\n",
            "| 57527|    2966|        Good|\n",
            "| 97185|    6146|        Good|\n",
            "|146033|    5339|        Good|\n",
            "+------+--------+------------+\n",
            "only showing top 3 rows\n",
            "\n"
          ],
          "name": "stdout"
        }
      ]
    },
    {
      "cell_type": "code",
      "metadata": {
        "colab": {
          "base_uri": "https://localhost:8080/"
        },
        "id": "zLKo-W6Yk8h7",
        "outputId": "66bfb030-f307-4e78-dca5-c05be3652444"
      },
      "source": [
        "# concatenate two string columns\n",
        "df.select(concat_ws(' ', df['title'], df['channel_title'],df['tags']).alias('text')).show(4,False)"
      ],
      "execution_count": 33,
      "outputs": [
        {
          "output_type": "stream",
          "text": [
            "+------------------------------------------------------------------------------------------------------------------------------------------------------------------------------------------------------------------------------------------------------------------------------------------------------------------------------------------------------------------------------------------------------------------------------------------------------------------------------------------------------------------------------------------------------+\n",
            "|text                                                                                                                                                                                                                                                                                                                                                                                                                                                                                                                                                  |\n",
            "+------------------------------------------------------------------------------------------------------------------------------------------------------------------------------------------------------------------------------------------------------------------------------------------------------------------------------------------------------------------------------------------------------------------------------------------------------------------------------------------------------------------------------------------------------+\n",
            "|we want to talk about our marriage CaseyNeistat SHANtell martin                                                                                                                                                                                                                                                                                                                                                                                                                                                                                       |\n",
            "|the trump presidency: last week tonight with john oliver (hbo) LastWeekTonight \"last week tonight trump presidency\"|\"last week tonight donald trump\"|\"john oliver trump\"|\"donald trump\"                                                                                                                                                                                                                                                                                                                                                               |\n",
            "|racist superman | rudy mancuso, king bach & lele pons Rudy Mancuso \"racist superman\"|\"rudy\"|\"mancuso\"|\"king\"|\"bach\"|\"racist\"|\"superman\"|\"love\"|\"rudy mancuso poo bear black white official music video\"|\"iphone x by pineapple\"|\"lelepons\"|\"hannahstocking\"|\"rudymancuso\"|\"inanna\"|\"anwar\"|\"sarkis\"|\"shots\"|\"shotsstudios\"|\"alesso\"|\"anitta\"|\"brazil\"|\"Getting My Driver's License | Lele Pons\"                                                                                                                                                       |\n",
            "|nickelback lyrics: real or fake? Good Mythical Morning \"rhett and link\"|\"gmm\"|\"good mythical morning\"|\"rhett and link good mythical morning\"|\"good mythical morning rhett and link\"|\"mythical morning\"|\"Season 12\"|\"nickelback lyrics\"|\"nickelback lyrics real or fake\"|\"nickelback\"|\"nickelback songs\"|\"nickelback song\"|\"rhett link nickelback\"|\"gmm nickelback\"|\"lyrics (website category)\"|\"nickelback (musical group)\"|\"rock\"|\"music\"|\"lyrics\"|\"chad kroeger\"|\"canada\"|\"music (industry)\"|\"mythical\"|\"gmm challenge\"|\"comedy\"|\"funny\"|\"challenge\"|\n",
            "+------------------------------------------------------------------------------------------------------------------------------------------------------------------------------------------------------------------------------------------------------------------------------------------------------------------------------------------------------------------------------------------------------------------------------------------------------------------------------------------------------------------------------------------------------+\n",
            "only showing top 4 rows\n",
            "\n"
          ],
          "name": "stdout"
        }
      ]
    },
    {
      "cell_type": "code",
      "metadata": {
        "colab": {
          "base_uri": "https://localhost:8080/"
        },
        "id": "xgO13A3mlbzZ",
        "outputId": "e4d21943-d7dd-4d97-8667-cf84538fcf05"
      },
      "source": [
        "# extract month and year from date/timestamp\n",
        "# Other options: dayofmonth, dayofweek, dayofyear, weekofyear\n",
        "df.select(\"trending_date\",year(\"trending_date\"),month(\"trending_date\")).show(5)"
      ],
      "execution_count": 35,
      "outputs": [
        {
          "output_type": "stream",
          "text": [
            "+-------------+-------------------+--------------------+\n",
            "|trending_date|year(trending_date)|month(trending_date)|\n",
            "+-------------+-------------------+--------------------+\n",
            "|   2011-01-17|               2011|                   1|\n",
            "|   2011-01-17|               2011|                   1|\n",
            "|   2011-01-17|               2011|                   1|\n",
            "|   2011-01-17|               2011|                   1|\n",
            "|   2011-01-17|               2011|                   1|\n",
            "+-------------+-------------------+--------------------+\n",
            "only showing top 5 rows\n",
            "\n"
          ],
          "name": "stdout"
        }
      ]
    },
    {
      "cell_type": "code",
      "metadata": {
        "colab": {
          "base_uri": "https://localhost:8080/"
        },
        "id": "h7M5t9RJmfGU",
        "outputId": "27c79c1c-5554-4167-9813-93f3d02f1bc3"
      },
      "source": [
        "df.select(\"trending_date\",weekofyear(\"trending_date\")).show(5)"
      ],
      "execution_count": 39,
      "outputs": [
        {
          "output_type": "stream",
          "text": [
            "+-------------+-------------------------+\n",
            "|trending_date|weekofyear(trending_date)|\n",
            "+-------------+-------------------------+\n",
            "|   2011-01-17|                        3|\n",
            "|   2011-01-17|                        3|\n",
            "|   2011-01-17|                        3|\n",
            "|   2011-01-17|                        3|\n",
            "|   2011-01-17|                        3|\n",
            "+-------------+-------------------------+\n",
            "only showing top 5 rows\n",
            "\n"
          ],
          "name": "stdout"
        }
      ]
    },
    {
      "cell_type": "code",
      "metadata": {
        "colab": {
          "base_uri": "https://localhost:8080/"
        },
        "id": "E7xRp0otmprq",
        "outputId": "7c6eb437-a942-4341-f318-aaad087aeacd"
      },
      "source": [
        "df.select(\"trending_date\",weekofyear(df[\"trending_date\"])).show(5)"
      ],
      "execution_count": 40,
      "outputs": [
        {
          "output_type": "stream",
          "text": [
            "+-------------+-------------------------+\n",
            "|trending_date|weekofyear(trending_date)|\n",
            "+-------------+-------------------------+\n",
            "|   2011-01-17|                        3|\n",
            "|   2011-01-17|                        3|\n",
            "|   2011-01-17|                        3|\n",
            "|   2011-01-17|                        3|\n",
            "|   2011-01-17|                        3|\n",
            "+-------------+-------------------------+\n",
            "only showing top 5 rows\n",
            "\n"
          ],
          "name": "stdout"
        }
      ]
    },
    {
      "cell_type": "code",
      "metadata": {
        "colab": {
          "base_uri": "https://localhost:8080/"
        },
        "id": "ar3lIScWm4e0",
        "outputId": "4652bbd0-5971-4a5d-d38b-ffbb567b7665"
      },
      "source": [
        "df.select(\"trending_date\",\"publish_time_3\",(datediff(df['trending_date'],df['publish_time_3'])/365).alias('diff')).show(5)"
      ],
      "execution_count": 41,
      "outputs": [
        {
          "output_type": "stream",
          "text": [
            "+-------------+-------------------+-------------------+\n",
            "|trending_date|     publish_time_3|               diff|\n",
            "+-------------+-------------------+-------------------+\n",
            "|   2011-01-17|2017-11-13 17:13:01|-6.8273972602739725|\n",
            "|   2011-01-17|2017-11-13 07:30:00|-6.8273972602739725|\n",
            "|   2011-01-17|2017-11-12 19:05:24| -6.824657534246575|\n",
            "|   2011-01-17|2017-11-13 11:00:04|-6.8273972602739725|\n",
            "|   2011-01-17|2017-11-12 18:01:41| -6.824657534246575|\n",
            "+-------------+-------------------+-------------------+\n",
            "only showing top 5 rows\n",
            "\n"
          ],
          "name": "stdout"
        }
      ]
    },
    {
      "cell_type": "code",
      "metadata": {
        "colab": {
          "base_uri": "https://localhost:8080/"
        },
        "id": "X4KioEkxm-Ea",
        "outputId": "13a378f1-8164-4e57-9254-bfbecdf606ed"
      },
      "source": [
        "df.select(\"trending_date\",\"publish_time_3\",(datediff('trending_date','publish_time_3')/365).alias('diff')).show(5)"
      ],
      "execution_count": 42,
      "outputs": [
        {
          "output_type": "stream",
          "text": [
            "+-------------+-------------------+-------------------+\n",
            "|trending_date|     publish_time_3|               diff|\n",
            "+-------------+-------------------+-------------------+\n",
            "|   2011-01-17|2017-11-13 17:13:01|-6.8273972602739725|\n",
            "|   2011-01-17|2017-11-13 07:30:00|-6.8273972602739725|\n",
            "|   2011-01-17|2017-11-12 19:05:24| -6.824657534246575|\n",
            "|   2011-01-17|2017-11-13 11:00:04|-6.8273972602739725|\n",
            "|   2011-01-17|2017-11-12 18:01:41| -6.824657534246575|\n",
            "+-------------+-------------------+-------------------+\n",
            "only showing top 5 rows\n",
            "\n"
          ],
          "name": "stdout"
        }
      ]
    },
    {
      "cell_type": "code",
      "metadata": {
        "colab": {
          "base_uri": "https://localhost:8080/"
        },
        "id": "S3U8X4LmnDGs",
        "outputId": "2f9c4fd0-1bab-47df-9a93-822cc3f4e90c"
      },
      "source": [
        "# split string\n",
        "df.select(split(df['title'], ' ').alias('new')).show(4,False)"
      ],
      "execution_count": 43,
      "outputs": [
        {
          "output_type": "stream",
          "text": [
            "+-------------------------------------------------------------------------+\n",
            "|new                                                                      |\n",
            "+-------------------------------------------------------------------------+\n",
            "|[we, want, to, talk, about, our, marriage]                               |\n",
            "|[the, trump, presidency:, last, week, tonight, with, john, oliver, (hbo)]|\n",
            "|[racist, superman, |, rudy, mancuso,, king, bach, &, lele, pons]         |\n",
            "|[nickelback, lyrics:, real, or, fake?]                                   |\n",
            "+-------------------------------------------------------------------------+\n",
            "only showing top 4 rows\n",
            "\n"
          ],
          "name": "stdout"
        }
      ]
    },
    {
      "cell_type": "code",
      "metadata": {
        "colab": {
          "base_uri": "https://localhost:8080/"
        },
        "id": "Ru09xKZ9nPzq",
        "outputId": "3b55469b-ae7c-4f2f-e2d3-970f397fd07d"
      },
      "source": [
        "# working with arrays inside data frame\n",
        "array_df = df.select(\"title\",split('title', ' ').alias('title_array'))\n",
        "\n",
        "array_df.select(\"title\",array_contains(array_df['title_array'], \"marriage\")).show(5, False)"
      ],
      "execution_count": 45,
      "outputs": [
        {
          "output_type": "stream",
          "text": [
            "+--------------------------------------------------------------+-------------------------------------+\n",
            "|title                                                         |array_contains(title_array, marriage)|\n",
            "+--------------------------------------------------------------+-------------------------------------+\n",
            "|we want to talk about our marriage                            |true                                 |\n",
            "|the trump presidency: last week tonight with john oliver (hbo)|false                                |\n",
            "|racist superman | rudy mancuso, king bach & lele pons         |false                                |\n",
            "|nickelback lyrics: real or fake?                              |false                                |\n",
            "|i dare you: going bald!?                                      |false                                |\n",
            "+--------------------------------------------------------------+-------------------------------------+\n",
            "only showing top 5 rows\n",
            "\n"
          ],
          "name": "stdout"
        }
      ]
    },
    {
      "cell_type": "code",
      "metadata": {
        "colab": {
          "base_uri": "https://localhost:8080/"
        },
        "id": "HeCpaP9in9Ja",
        "outputId": "1a7d62d9-47d9-4195-c711-5e24da96d9ec"
      },
      "source": [
        "# get rid of repeat values \n",
        "# get only unique values\n",
        "array_df.select(array_distinct('title_array')).show(5, False)"
      ],
      "execution_count": 46,
      "outputs": [
        {
          "output_type": "stream",
          "text": [
            "+-------------------------------------------------------------------------+\n",
            "|array_distinct(title_array)                                              |\n",
            "+-------------------------------------------------------------------------+\n",
            "|[we, want, to, talk, about, our, marriage]                               |\n",
            "|[the, trump, presidency:, last, week, tonight, with, john, oliver, (hbo)]|\n",
            "|[racist, superman, |, rudy, mancuso,, king, bach, &, lele, pons]         |\n",
            "|[nickelback, lyrics:, real, or, fake?]                                   |\n",
            "|[i, dare, you:, going, bald!?]                                           |\n",
            "+-------------------------------------------------------------------------+\n",
            "only showing top 5 rows\n",
            "\n"
          ],
          "name": "stdout"
        }
      ]
    },
    {
      "cell_type": "code",
      "metadata": {
        "colab": {
          "base_uri": "https://localhost:8080/"
        },
        "id": "f1AdhFOeoMVY",
        "outputId": "e9298f2c-f666-4162-a067-cb60cc38adef"
      },
      "source": [
        "# Remove certian values\n",
        "array_df.select(array_remove(array_df.title_array, \"we\")).show(5, False)"
      ],
      "execution_count": 47,
      "outputs": [
        {
          "output_type": "stream",
          "text": [
            "+-------------------------------------------------------------------------+\n",
            "|array_remove(title_array, we)                                            |\n",
            "+-------------------------------------------------------------------------+\n",
            "|[want, to, talk, about, our, marriage]                                   |\n",
            "|[the, trump, presidency:, last, week, tonight, with, john, oliver, (hbo)]|\n",
            "|[racist, superman, |, rudy, mancuso,, king, bach, &, lele, pons]         |\n",
            "|[nickelback, lyrics:, real, or, fake?]                                   |\n",
            "|[i, dare, you:, going, bald!?]                                           |\n",
            "+-------------------------------------------------------------------------+\n",
            "only showing top 5 rows\n",
            "\n"
          ],
          "name": "stdout"
        }
      ]
    },
    {
      "cell_type": "code",
      "metadata": {
        "colab": {
          "base_uri": "https://localhost:8080/"
        },
        "id": "J7GVfdWnoSvA",
        "outputId": "69ae96a3-0c5e-4d52-aed5-1f3a362e2fb4"
      },
      "source": [
        "# user define functions PySpark\n",
        "\n",
        "\n",
        "def square(x):\n",
        "    return int(x**2)\n",
        "\n",
        "# convert python function to PySpark functions\n",
        "square_udf = udf(lambda z: square(z), IntegerType())\n",
        "\n",
        "df.select('dislikes',square_udf('dislikes').alias('likes_sq')).where(col('dislikes').isNotNull()).show()"
      ],
      "execution_count": 52,
      "outputs": [
        {
          "output_type": "stream",
          "text": [
            "+--------+--------+\n",
            "|dislikes|likes_sq|\n",
            "+--------+--------+\n",
            "|    2966| 8797156|\n",
            "|    6146|37773316|\n",
            "|    5339|28504921|\n",
            "|     666|  443556|\n",
            "|    1989| 3956121|\n",
            "|     511|  261121|\n",
            "|    2445| 5978025|\n",
            "|     778|  605284|\n",
            "|     119|   14161|\n",
            "|    1363| 1857769|\n",
            "|      25|     625|\n",
            "|     303|   91809|\n",
            "|    1333| 1776889|\n",
            "|    1171| 1371241|\n",
            "|     246|   60516|\n",
            "|      52|    2704|\n",
            "|     638|  407044|\n",
            "|      53|    2809|\n",
            "|      36|    1296|\n",
            "|     191|   36481|\n",
            "+--------+--------+\n",
            "only showing top 20 rows\n",
            "\n"
          ],
          "name": "stdout"
        }
      ]
    },
    {
      "cell_type": "code",
      "metadata": {
        "id": "GSBCYtoYzBXD"
      },
      "source": [
        ""
      ],
      "execution_count": null,
      "outputs": []
    }
  ]
}
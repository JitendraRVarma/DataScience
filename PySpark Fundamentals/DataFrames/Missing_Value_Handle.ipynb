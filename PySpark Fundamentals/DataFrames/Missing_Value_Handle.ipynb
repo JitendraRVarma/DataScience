{
  "nbformat": 4,
  "nbformat_minor": 0,
  "metadata": {
    "colab": {
      "name": "Missing_Value_Handle.ipynb",
      "provenance": [],
      "collapsed_sections": []
    },
    "kernelspec": {
      "name": "python3",
      "display_name": "Python 3"
    },
    "language_info": {
      "name": "python"
    }
  },
  "cells": [
    {
      "cell_type": "markdown",
      "metadata": {
        "id": "Yp6mqGEAjYPM"
      },
      "source": [
        "## Configure PySpark Setup"
      ]
    },
    {
      "cell_type": "code",
      "metadata": {
        "colab": {
          "base_uri": "https://localhost:8080/",
          "height": 216
        },
        "id": "MCa9mNO1jZH9",
        "outputId": "3e6bf492-7d00-4ce7-cf4c-fb2a58740c66"
      },
      "source": [
        "!apt-get install openjdk-8-jdk-headless -qq > /dev/null\n",
        "!wget -q https://archive.apache.org/dist/spark/spark-2.4.1/spark-2.4.1-bin-hadoop2.7.tgz\n",
        "!tar xf spark-2.4.1-bin-hadoop2.7.tgz\n",
        "!pip install -q findspark\n",
        "\n",
        "import os\n",
        "os.environ[\"JAVA_HOME\"] = \"/usr/lib/jvm/java-8-openjdk-amd64\"\n",
        "os.environ[\"SPARK_HOME\"] = \"/content/spark-2.4.1-bin-hadoop2.7\"\n",
        "\n",
        "\n",
        "import findspark\n",
        "findspark.init()\n",
        "\n",
        "\n",
        "import pyspark \n",
        "from pyspark.sql import SparkSession\n",
        "spark = SparkSession.builder.appName(\"App\").getOrCreate()\n",
        "spark"
      ],
      "execution_count": 1,
      "outputs": [
        {
          "output_type": "execute_result",
          "data": {
            "text/html": [
              "\n",
              "            <div>\n",
              "                <p><b>SparkSession - in-memory</b></p>\n",
              "                \n",
              "        <div>\n",
              "            <p><b>SparkContext</b></p>\n",
              "\n",
              "            <p><a href=\"http://9421469e149c:4040\">Spark UI</a></p>\n",
              "\n",
              "            <dl>\n",
              "              <dt>Version</dt>\n",
              "                <dd><code>v2.4.1</code></dd>\n",
              "              <dt>Master</dt>\n",
              "                <dd><code>local[*]</code></dd>\n",
              "              <dt>AppName</dt>\n",
              "                <dd><code>App</code></dd>\n",
              "            </dl>\n",
              "        </div>\n",
              "        \n",
              "            </div>\n",
              "        "
            ],
            "text/plain": [
              "<pyspark.sql.session.SparkSession at 0x7fd08896a0d0>"
            ]
          },
          "metadata": {
            "tags": []
          },
          "execution_count": 1
        }
      ]
    },
    {
      "cell_type": "code",
      "metadata": {
        "colab": {
          "base_uri": "https://localhost:8080/"
        },
        "id": "a7bHaAOcld4r",
        "outputId": "b17db1bd-6664-4c64-fc4c-dc973c0b5a7b"
      },
      "source": [
        "# check number of cores PySpark is using\n",
        "cores = spark._jsc.sc().getExecutorMemoryStatus().keySet().size()\n",
        "print(\"You are working with\", cores, \"core(s)\")"
      ],
      "execution_count": 2,
      "outputs": [
        {
          "output_type": "stream",
          "text": [
            "You are working with 1 core(s)\n"
          ],
          "name": "stdout"
        }
      ]
    },
    {
      "cell_type": "code",
      "metadata": {
        "id": "X3BH7XKykc2M",
        "colab": {
          "base_uri": "https://localhost:8080/"
        },
        "outputId": "de4b673f-9f6d-4dcd-bce3-fc1e64b1f823"
      },
      "source": [
        "!cp /content/drive/MyDrive/Datasets.zip .\n",
        "!unzip Datasets.zip"
      ],
      "execution_count": 6,
      "outputs": [
        {
          "output_type": "stream",
          "text": [
            "Archive:  Datasets.zip\n",
            "  inflating: Datasets/.DS_Store      \n",
            "  inflating: Datasets/fifa19.csv     \n",
            "  inflating: Datasets/googleplaystore.csv  \n",
            "  inflating: Datasets/nyc_air_bnb.csv  \n",
            "  inflating: Datasets/people.json    \n",
            "  inflating: Datasets/pga_tour_historical.csv  \n",
            "  inflating: Datasets/rec-crime-pfa.csv  \n",
            "  inflating: Datasets/Rep_vs_Dem_tweets.csv  \n",
            "  inflating: Datasets/students.csv   \n",
            "  inflating: Datasets/supermarket_sales.csv  \n",
            "  inflating: Datasets/users1.parquet  \n",
            "  inflating: Datasets/users2.parquet  \n",
            "  inflating: Datasets/users3.parquet  \n",
            "   creating: Datasets/uw-madison-courses/\n",
            "  inflating: Datasets/uw-madison-courses/course_offerings.csv  \n",
            "  inflating: Datasets/uw-madison-courses/courses.csv  \n",
            "  inflating: Datasets/uw-madison-courses/database.sqlite3  \n",
            "  inflating: Datasets/uw-madison-courses/grade_distributions.csv  \n",
            "  inflating: Datasets/uw-madison-courses/instructors.csv  \n",
            "  inflating: Datasets/uw-madison-courses/rooms.csv  \n",
            "  inflating: Datasets/uw-madison-courses/schedules.csv  \n",
            "  inflating: Datasets/uw-madison-courses/sections.csv  \n",
            "  inflating: Datasets/uw-madison-courses/subject_memberships.csv  \n",
            "  inflating: Datasets/uw-madison-courses/subjects.csv  \n",
            "  inflating: Datasets/uw-madison-courses/teachings.csv  \n",
            " extracting: Datasets/Weather.csv.zip  \n",
            "  inflating: Datasets/youtubevideos.csv  \n",
            "  inflating: Datasets/zomato.csv     \n"
          ],
          "name": "stdout"
        }
      ]
    },
    {
      "cell_type": "markdown",
      "metadata": {
        "id": "HgUFLSSMd5lw"
      },
      "source": [
        "# Load Libraries"
      ]
    },
    {
      "cell_type": "code",
      "metadata": {
        "id": "0S-d4r9Kd5Ec"
      },
      "source": [
        "from pyspark.sql.functions  import *\n",
        "from  pyspark.sql.types  import *\n",
        "import os"
      ],
      "execution_count": 7,
      "outputs": []
    },
    {
      "cell_type": "markdown",
      "metadata": {
        "id": "kWe2GGSCkO50"
      },
      "source": [
        "## Reading Data into PySpark"
      ]
    },
    {
      "cell_type": "code",
      "metadata": {
        "colab": {
          "base_uri": "https://localhost:8080/"
        },
        "id": "Te_U1e_NHXqb",
        "outputId": "c3e9fd53-8261-457b-bc21-32365cc9c131"
      },
      "source": [
        "zomato = spark.read.csv('Datasets/zomato.csv',inferSchema=True,header=True)\n",
        "print(zomato.printSchema())"
      ],
      "execution_count": 8,
      "outputs": [
        {
          "output_type": "stream",
          "text": [
            "root\n",
            " |-- url: string (nullable = true)\n",
            " |-- address: string (nullable = true)\n",
            " |-- name: string (nullable = true)\n",
            " |-- online_order: string (nullable = true)\n",
            " |-- book_table: string (nullable = true)\n",
            " |-- rate: string (nullable = true)\n",
            " |-- votes: string (nullable = true)\n",
            " |-- phone: string (nullable = true)\n",
            " |-- location: string (nullable = true)\n",
            " |-- rest_type: string (nullable = true)\n",
            " |-- dish_liked: string (nullable = true)\n",
            " |-- cuisines: string (nullable = true)\n",
            " |-- approx_cost(for two people): string (nullable = true)\n",
            " |-- reviews_list: string (nullable = true)\n",
            " |-- menu_item: string (nullable = true)\n",
            " |-- listed_in(type): string (nullable = true)\n",
            " |-- listed_in(city): string (nullable = true)\n",
            "\n",
            "None\n"
          ],
          "name": "stdout"
        }
      ]
    },
    {
      "cell_type": "code",
      "metadata": {
        "colab": {
          "base_uri": "https://localhost:8080/"
        },
        "id": "_lW8Ao8_Hb2B",
        "outputId": "c88b4912-1a98-4cd2-b74d-ab3f91175a2b"
      },
      "source": [
        "df = zomato.withColumn(\"approx_cost(for two people)\", zomato[\"approx_cost(for two people)\"].cast(IntegerType())) \\\n",
        "        .withColumn(\"votes\", zomato[\"votes\"].cast(IntegerType()))\n",
        "#\n",
        "print(df.printSchema())"
      ],
      "execution_count": 9,
      "outputs": [
        {
          "output_type": "stream",
          "text": [
            "root\n",
            " |-- url: string (nullable = true)\n",
            " |-- address: string (nullable = true)\n",
            " |-- name: string (nullable = true)\n",
            " |-- online_order: string (nullable = true)\n",
            " |-- book_table: string (nullable = true)\n",
            " |-- rate: string (nullable = true)\n",
            " |-- votes: integer (nullable = true)\n",
            " |-- phone: string (nullable = true)\n",
            " |-- location: string (nullable = true)\n",
            " |-- rest_type: string (nullable = true)\n",
            " |-- dish_liked: string (nullable = true)\n",
            " |-- cuisines: string (nullable = true)\n",
            " |-- approx_cost(for two people): integer (nullable = true)\n",
            " |-- reviews_list: string (nullable = true)\n",
            " |-- menu_item: string (nullable = true)\n",
            " |-- listed_in(type): string (nullable = true)\n",
            " |-- listed_in(city): string (nullable = true)\n",
            "\n",
            "None\n"
          ],
          "name": "stdout"
        }
      ]
    },
    {
      "cell_type": "code",
      "metadata": {
        "colab": {
          "base_uri": "https://localhost:8080/",
          "height": 488
        },
        "id": "5X5y1KGOHleA",
        "outputId": "c2ab230e-6031-426b-ba97-807966bd9199"
      },
      "source": [
        "df.limit(4).toPandas()"
      ],
      "execution_count": 10,
      "outputs": [
        {
          "output_type": "execute_result",
          "data": {
            "text/html": [
              "<div>\n",
              "<style scoped>\n",
              "    .dataframe tbody tr th:only-of-type {\n",
              "        vertical-align: middle;\n",
              "    }\n",
              "\n",
              "    .dataframe tbody tr th {\n",
              "        vertical-align: top;\n",
              "    }\n",
              "\n",
              "    .dataframe thead th {\n",
              "        text-align: right;\n",
              "    }\n",
              "</style>\n",
              "<table border=\"1\" class=\"dataframe\">\n",
              "  <thead>\n",
              "    <tr style=\"text-align: right;\">\n",
              "      <th></th>\n",
              "      <th>url</th>\n",
              "      <th>address</th>\n",
              "      <th>name</th>\n",
              "      <th>online_order</th>\n",
              "      <th>book_table</th>\n",
              "      <th>rate</th>\n",
              "      <th>votes</th>\n",
              "      <th>phone</th>\n",
              "      <th>location</th>\n",
              "      <th>rest_type</th>\n",
              "      <th>dish_liked</th>\n",
              "      <th>cuisines</th>\n",
              "      <th>approx_cost(for two people)</th>\n",
              "      <th>reviews_list</th>\n",
              "      <th>menu_item</th>\n",
              "      <th>listed_in(type)</th>\n",
              "      <th>listed_in(city)</th>\n",
              "    </tr>\n",
              "  </thead>\n",
              "  <tbody>\n",
              "    <tr>\n",
              "      <th>0</th>\n",
              "      <td>https://www.zomato.com/bangalore/jalsa-banasha...</td>\n",
              "      <td>942, 21st Main Road, 2nd Stage, Banashankari, ...</td>\n",
              "      <td>Jalsa</td>\n",
              "      <td>Yes</td>\n",
              "      <td>Yes</td>\n",
              "      <td>4.1/5</td>\n",
              "      <td>775.0</td>\n",
              "      <td>080 42297555</td>\n",
              "      <td>None</td>\n",
              "      <td>None</td>\n",
              "      <td>None</td>\n",
              "      <td>None</td>\n",
              "      <td>NaN</td>\n",
              "      <td>None</td>\n",
              "      <td>None</td>\n",
              "      <td>None</td>\n",
              "      <td>None</td>\n",
              "    </tr>\n",
              "    <tr>\n",
              "      <th>1</th>\n",
              "      <td>+91 9743772233\"</td>\n",
              "      <td>Banashankari</td>\n",
              "      <td>Casual Dining</td>\n",
              "      <td>Pasta, Lunch Buffet, Masala Papad, Paneer Laja...</td>\n",
              "      <td>North Indian, Mughlai, Chinese</td>\n",
              "      <td>800</td>\n",
              "      <td>NaN</td>\n",
              "      <td>('Rated 4.0'</td>\n",
              "      <td>'RATED\\n  You canÃ\\x83Ã\\x83Ã\\x82Ã\\x82Ã\\x...</td>\n",
              "      <td>('Rated 5.0'</td>\n",
              "      <td>'RATED\\n  Overdelighted by the service and fo...</td>\n",
              "      <td>('Rated 4.0'</td>\n",
              "      <td>NaN</td>\n",
              "      <td>('Rated 4.0'</td>\n",
              "      <td>'RATED\\n  The place is nice and comfortable. ...</td>\n",
              "      <td>('Rated 4.0'</td>\n",
              "      <td>'RATED\\n  The place is nice and comfortable. ...</td>\n",
              "    </tr>\n",
              "    <tr>\n",
              "      <th>2</th>\n",
              "      <td>https://www.zomato.com/bangalore/spice-elephan...</td>\n",
              "      <td>2nd Floor, 80 Feet Road, Near Big Bazaar, 6th ...</td>\n",
              "      <td>Spice Elephant</td>\n",
              "      <td>Yes</td>\n",
              "      <td>No</td>\n",
              "      <td>4.1/5</td>\n",
              "      <td>787.0</td>\n",
              "      <td>080 41714161</td>\n",
              "      <td>Banashankari</td>\n",
              "      <td>Casual Dining</td>\n",
              "      <td>Momos, Lunch Buffet, Chocolate Nirvana, Thai G...</td>\n",
              "      <td>Chinese, North Indian, Thai</td>\n",
              "      <td>800.0</td>\n",
              "      <td>\"[('Rated 4.0', 'RATED\\n  Had been here for di...</td>\n",
              "      <td>rice was well cooked and overall was great\\n\\n...</td>\n",
              "      <td>('Rated 5.0'</td>\n",
              "      <td>'RATED\\n  This place just cool ? with good am...</td>\n",
              "    </tr>\n",
              "    <tr>\n",
              "      <th>3</th>\n",
              "      <td>https://www.zomato.com/SanchurroBangalore?cont...</td>\n",
              "      <td>1112, Next to KIMS Medical College, 17th Cross...</td>\n",
              "      <td>San Churro Cafe</td>\n",
              "      <td>Yes</td>\n",
              "      <td>No</td>\n",
              "      <td>3.8/5</td>\n",
              "      <td>918.0</td>\n",
              "      <td>+91 9663487993</td>\n",
              "      <td>Banashankari</td>\n",
              "      <td>Cafe, Casual Dining</td>\n",
              "      <td>Churros, Cannelloni, Minestrone Soup, Hot Choc...</td>\n",
              "      <td>Cafe, Mexican, Italian</td>\n",
              "      <td>800.0</td>\n",
              "      <td>\"[('Rated 3.0', \"\"RATED\\n  Ambience is not tha...</td>\n",
              "      <td>('Rated 3.0'</td>\n",
              "      <td>\"\"RATED\\n \\nWent there for a quick bite with ...</td>\n",
              "      <td>pasta churros and lasagne.\\n\\nNachos were pat...</td>\n",
              "    </tr>\n",
              "  </tbody>\n",
              "</table>\n",
              "</div>"
            ],
            "text/plain": [
              "                                                 url  ...                                    listed_in(city)\n",
              "0  https://www.zomato.com/bangalore/jalsa-banasha...  ...                                               None\n",
              "1                                    +91 9743772233\"  ...   'RATED\\n  The place is nice and comfortable. ...\n",
              "2  https://www.zomato.com/bangalore/spice-elephan...  ...   'RATED\\n  This place just cool ? with good am...\n",
              "3  https://www.zomato.com/SanchurroBangalore?cont...  ...   pasta churros and lasagne.\\n\\nNachos were pat...\n",
              "\n",
              "[4 rows x 17 columns]"
            ]
          },
          "metadata": {
            "tags": []
          },
          "execution_count": 10
        }
      ]
    },
    {
      "cell_type": "code",
      "metadata": {
        "colab": {
          "base_uri": "https://localhost:8080/"
        },
        "id": "Dt6zB-t1HzXT",
        "outputId": "7e3fe091-731e-4840-8562-ca71e07065f3"
      },
      "source": [
        "df.filter(df['cuisines'].isNull()).select(['name','cuisines']).show(5)"
      ],
      "execution_count": 11,
      "outputs": [
        {
          "output_type": "stream",
          "text": [
            "+---------------+--------+\n",
            "|           name|cuisines|\n",
            "+---------------+--------+\n",
            "|          Jalsa|    null|\n",
            "|  Grand Village|    null|\n",
            "|  Casual Dining|    null|\n",
            "|Timepass Dinner|    null|\n",
            "|  Casual Dining|    null|\n",
            "+---------------+--------+\n",
            "only showing top 5 rows\n",
            "\n"
          ],
          "name": "stdout"
        }
      ]
    },
    {
      "cell_type": "code",
      "metadata": {
        "colab": {
          "base_uri": "https://localhost:8080/",
          "height": 518
        },
        "id": "35QUsLidH-eW",
        "outputId": "0e6fe580-3f8c-447c-ab94-7eb3735662a7"
      },
      "source": [
        "# compute missing value statistics\n",
        "def null_value_calc(df):\n",
        "    null_columns_counts = []\n",
        "    numRows = df.count()\n",
        "    for k in df.columns:\n",
        "        nullRows = df.where(col(k).isNull()).count()\n",
        "        if(nullRows > 0):\n",
        "            temp = k,nullRows,(nullRows/numRows)*100\n",
        "            null_columns_counts.append(temp)\n",
        "    return(null_columns_counts)\n",
        "\n",
        "null_columns_calc_list = null_value_calc(df)\n",
        "spark.createDataFrame(null_columns_calc_list, ['Column_Name', 'Null_Values_Count','Null_Value_Percent']).toPandas()"
      ],
      "execution_count": 12,
      "outputs": [
        {
          "output_type": "execute_result",
          "data": {
            "text/html": [
              "<div>\n",
              "<style scoped>\n",
              "    .dataframe tbody tr th:only-of-type {\n",
              "        vertical-align: middle;\n",
              "    }\n",
              "\n",
              "    .dataframe tbody tr th {\n",
              "        vertical-align: top;\n",
              "    }\n",
              "\n",
              "    .dataframe thead th {\n",
              "        text-align: right;\n",
              "    }\n",
              "</style>\n",
              "<table border=\"1\" class=\"dataframe\">\n",
              "  <thead>\n",
              "    <tr style=\"text-align: right;\">\n",
              "      <th></th>\n",
              "      <th>Column_Name</th>\n",
              "      <th>Null_Values_Count</th>\n",
              "      <th>Null_Value_Percent</th>\n",
              "    </tr>\n",
              "  </thead>\n",
              "  <tbody>\n",
              "    <tr>\n",
              "      <th>0</th>\n",
              "      <td>name</td>\n",
              "      <td>85</td>\n",
              "      <td>0.118500</td>\n",
              "    </tr>\n",
              "    <tr>\n",
              "      <th>1</th>\n",
              "      <td>online_order</td>\n",
              "      <td>8111</td>\n",
              "      <td>11.307682</td>\n",
              "    </tr>\n",
              "    <tr>\n",
              "      <th>2</th>\n",
              "      <td>book_table</td>\n",
              "      <td>2</td>\n",
              "      <td>0.002788</td>\n",
              "    </tr>\n",
              "    <tr>\n",
              "      <th>3</th>\n",
              "      <td>rate</td>\n",
              "      <td>7775</td>\n",
              "      <td>10.839258</td>\n",
              "    </tr>\n",
              "    <tr>\n",
              "      <th>4</th>\n",
              "      <td>votes</td>\n",
              "      <td>20018</td>\n",
              "      <td>27.907431</td>\n",
              "    </tr>\n",
              "    <tr>\n",
              "      <th>5</th>\n",
              "      <td>phone</td>\n",
              "      <td>1227</td>\n",
              "      <td>1.710581</td>\n",
              "    </tr>\n",
              "    <tr>\n",
              "      <th>6</th>\n",
              "      <td>location</td>\n",
              "      <td>20054</td>\n",
              "      <td>27.957619</td>\n",
              "    </tr>\n",
              "    <tr>\n",
              "      <th>7</th>\n",
              "      <td>rest_type</td>\n",
              "      <td>20165</td>\n",
              "      <td>28.112366</td>\n",
              "    </tr>\n",
              "    <tr>\n",
              "      <th>8</th>\n",
              "      <td>dish_liked</td>\n",
              "      <td>46841</td>\n",
              "      <td>65.301826</td>\n",
              "    </tr>\n",
              "    <tr>\n",
              "      <th>9</th>\n",
              "      <td>cuisines</td>\n",
              "      <td>27305</td>\n",
              "      <td>38.066360</td>\n",
              "    </tr>\n",
              "    <tr>\n",
              "      <th>10</th>\n",
              "      <td>approx_cost(for two people)</td>\n",
              "      <td>43611</td>\n",
              "      <td>60.798829</td>\n",
              "    </tr>\n",
              "    <tr>\n",
              "      <th>11</th>\n",
              "      <td>reviews_list</td>\n",
              "      <td>28185</td>\n",
              "      <td>39.293183</td>\n",
              "    </tr>\n",
              "    <tr>\n",
              "      <th>12</th>\n",
              "      <td>menu_item</td>\n",
              "      <td>28611</td>\n",
              "      <td>39.887077</td>\n",
              "    </tr>\n",
              "    <tr>\n",
              "      <th>13</th>\n",
              "      <td>listed_in(type)</td>\n",
              "      <td>28983</td>\n",
              "      <td>40.405688</td>\n",
              "    </tr>\n",
              "    <tr>\n",
              "      <th>14</th>\n",
              "      <td>listed_in(city)</td>\n",
              "      <td>29344</td>\n",
              "      <td>40.908964</td>\n",
              "    </tr>\n",
              "  </tbody>\n",
              "</table>\n",
              "</div>"
            ],
            "text/plain": [
              "                    Column_Name  Null_Values_Count  Null_Value_Percent\n",
              "0                          name                 85            0.118500\n",
              "1                  online_order               8111           11.307682\n",
              "2                    book_table                  2            0.002788\n",
              "3                          rate               7775           10.839258\n",
              "4                         votes              20018           27.907431\n",
              "5                         phone               1227            1.710581\n",
              "6                      location              20054           27.957619\n",
              "7                     rest_type              20165           28.112366\n",
              "8                    dish_liked              46841           65.301826\n",
              "9                      cuisines              27305           38.066360\n",
              "10  approx_cost(for two people)              43611           60.798829\n",
              "11                 reviews_list              28185           39.293183\n",
              "12                    menu_item              28611           39.887077\n",
              "13              listed_in(type)              28983           40.405688\n",
              "14              listed_in(city)              29344           40.908964"
            ]
          },
          "metadata": {
            "tags": []
          },
          "execution_count": 12
        }
      ]
    },
    {
      "cell_type": "code",
      "metadata": {
        "colab": {
          "base_uri": "https://localhost:8080/",
          "height": 149
        },
        "id": "q8IXO303IU8b",
        "outputId": "e057ce0c-b5af-49ae-cb18-d9371b9e3f8d"
      },
      "source": [
        "# compute missing value statistics\n",
        "\n",
        "#first row: null count\n",
        "nulls = df.select([count(when(isnan(c) | col(c).isNull(), c)).alias(c) for c in df.columns])\n",
        "\n",
        "# Second row: null percent\n",
        "percent = df.select([format_number(((count(when(isnan(c) | col(c).isNull(), c))/df.count())*100),1).alias(c) for c in df.columns])\n",
        "\n",
        "result = nulls.union(percent)\n",
        "\n",
        "result.toPandas()"
      ],
      "execution_count": 13,
      "outputs": [
        {
          "output_type": "execute_result",
          "data": {
            "text/html": [
              "<div>\n",
              "<style scoped>\n",
              "    .dataframe tbody tr th:only-of-type {\n",
              "        vertical-align: middle;\n",
              "    }\n",
              "\n",
              "    .dataframe tbody tr th {\n",
              "        vertical-align: top;\n",
              "    }\n",
              "\n",
              "    .dataframe thead th {\n",
              "        text-align: right;\n",
              "    }\n",
              "</style>\n",
              "<table border=\"1\" class=\"dataframe\">\n",
              "  <thead>\n",
              "    <tr style=\"text-align: right;\">\n",
              "      <th></th>\n",
              "      <th>url</th>\n",
              "      <th>address</th>\n",
              "      <th>name</th>\n",
              "      <th>online_order</th>\n",
              "      <th>book_table</th>\n",
              "      <th>rate</th>\n",
              "      <th>votes</th>\n",
              "      <th>phone</th>\n",
              "      <th>location</th>\n",
              "      <th>rest_type</th>\n",
              "      <th>dish_liked</th>\n",
              "      <th>cuisines</th>\n",
              "      <th>approx_cost(for two people)</th>\n",
              "      <th>reviews_list</th>\n",
              "      <th>menu_item</th>\n",
              "      <th>listed_in(type)</th>\n",
              "      <th>listed_in(city)</th>\n",
              "    </tr>\n",
              "  </thead>\n",
              "  <tbody>\n",
              "    <tr>\n",
              "      <th>0</th>\n",
              "      <td>0</td>\n",
              "      <td>0</td>\n",
              "      <td>85</td>\n",
              "      <td>8111</td>\n",
              "      <td>2</td>\n",
              "      <td>7775</td>\n",
              "      <td>20018</td>\n",
              "      <td>1227</td>\n",
              "      <td>20054</td>\n",
              "      <td>20165</td>\n",
              "      <td>46841</td>\n",
              "      <td>27305</td>\n",
              "      <td>43611</td>\n",
              "      <td>28185</td>\n",
              "      <td>28611</td>\n",
              "      <td>28983</td>\n",
              "      <td>29344</td>\n",
              "    </tr>\n",
              "    <tr>\n",
              "      <th>1</th>\n",
              "      <td>0.0</td>\n",
              "      <td>0.0</td>\n",
              "      <td>0.1</td>\n",
              "      <td>11.3</td>\n",
              "      <td>0.0</td>\n",
              "      <td>10.8</td>\n",
              "      <td>27.9</td>\n",
              "      <td>1.7</td>\n",
              "      <td>28.0</td>\n",
              "      <td>28.1</td>\n",
              "      <td>65.3</td>\n",
              "      <td>38.1</td>\n",
              "      <td>60.8</td>\n",
              "      <td>39.3</td>\n",
              "      <td>39.9</td>\n",
              "      <td>40.4</td>\n",
              "      <td>40.9</td>\n",
              "    </tr>\n",
              "  </tbody>\n",
              "</table>\n",
              "</div>"
            ],
            "text/plain": [
              "   url address name  ... menu_item listed_in(type) listed_in(city)\n",
              "0    0       0   85  ...     28611           28983           29344\n",
              "1  0.0     0.0  0.1  ...      39.9            40.4            40.9\n",
              "\n",
              "[2 rows x 17 columns]"
            ]
          },
          "metadata": {
            "tags": []
          },
          "execution_count": 13
        }
      ]
    },
    {
      "cell_type": "code",
      "metadata": {
        "colab": {
          "base_uri": "https://localhost:8080/",
          "height": 488
        },
        "id": "xa8vaZBDIvWV",
        "outputId": "02620c51-ec37-4216-9700-9a585612cc17"
      },
      "source": [
        "# drop missing data\n",
        "df.na.drop().limit(4).toPandas() \n"
      ],
      "execution_count": 14,
      "outputs": [
        {
          "output_type": "execute_result",
          "data": {
            "text/html": [
              "<div>\n",
              "<style scoped>\n",
              "    .dataframe tbody tr th:only-of-type {\n",
              "        vertical-align: middle;\n",
              "    }\n",
              "\n",
              "    .dataframe tbody tr th {\n",
              "        vertical-align: top;\n",
              "    }\n",
              "\n",
              "    .dataframe thead th {\n",
              "        text-align: right;\n",
              "    }\n",
              "</style>\n",
              "<table border=\"1\" class=\"dataframe\">\n",
              "  <thead>\n",
              "    <tr style=\"text-align: right;\">\n",
              "      <th></th>\n",
              "      <th>url</th>\n",
              "      <th>address</th>\n",
              "      <th>name</th>\n",
              "      <th>online_order</th>\n",
              "      <th>book_table</th>\n",
              "      <th>rate</th>\n",
              "      <th>votes</th>\n",
              "      <th>phone</th>\n",
              "      <th>location</th>\n",
              "      <th>rest_type</th>\n",
              "      <th>dish_liked</th>\n",
              "      <th>cuisines</th>\n",
              "      <th>approx_cost(for two people)</th>\n",
              "      <th>reviews_list</th>\n",
              "      <th>menu_item</th>\n",
              "      <th>listed_in(type)</th>\n",
              "      <th>listed_in(city)</th>\n",
              "    </tr>\n",
              "  </thead>\n",
              "  <tbody>\n",
              "    <tr>\n",
              "      <th>0</th>\n",
              "      <td>https://www.zomato.com/bangalore/spice-elephan...</td>\n",
              "      <td>2nd Floor, 80 Feet Road, Near Big Bazaar, 6th ...</td>\n",
              "      <td>Spice Elephant</td>\n",
              "      <td>Yes</td>\n",
              "      <td>No</td>\n",
              "      <td>4.1/5</td>\n",
              "      <td>787</td>\n",
              "      <td>080 41714161</td>\n",
              "      <td>Banashankari</td>\n",
              "      <td>Casual Dining</td>\n",
              "      <td>Momos, Lunch Buffet, Chocolate Nirvana, Thai G...</td>\n",
              "      <td>Chinese, North Indian, Thai</td>\n",
              "      <td>800</td>\n",
              "      <td>\"[('Rated 4.0', 'RATED\\n  Had been here for di...</td>\n",
              "      <td>rice was well cooked and overall was great\\n\\n...</td>\n",
              "      <td>('Rated 5.0'</td>\n",
              "      <td>'RATED\\n  This place just cool ? with good am...</td>\n",
              "    </tr>\n",
              "    <tr>\n",
              "      <th>1</th>\n",
              "      <td>https://www.zomato.com/SanchurroBangalore?cont...</td>\n",
              "      <td>1112, Next to KIMS Medical College, 17th Cross...</td>\n",
              "      <td>San Churro Cafe</td>\n",
              "      <td>Yes</td>\n",
              "      <td>No</td>\n",
              "      <td>3.8/5</td>\n",
              "      <td>918</td>\n",
              "      <td>+91 9663487993</td>\n",
              "      <td>Banashankari</td>\n",
              "      <td>Cafe, Casual Dining</td>\n",
              "      <td>Churros, Cannelloni, Minestrone Soup, Hot Choc...</td>\n",
              "      <td>Cafe, Mexican, Italian</td>\n",
              "      <td>800</td>\n",
              "      <td>\"[('Rated 3.0', \"\"RATED\\n  Ambience is not tha...</td>\n",
              "      <td>('Rated 3.0'</td>\n",
              "      <td>\"\"RATED\\n \\nWent there for a quick bite with ...</td>\n",
              "      <td>pasta churros and lasagne.\\n\\nNachos were pat...</td>\n",
              "    </tr>\n",
              "    <tr>\n",
              "      <th>2</th>\n",
              "      <td>https://www.zomato.com/bangalore/addhuri-udupi...</td>\n",
              "      <td>1st Floor, Annakuteera, 3rd Stage, Banashankar...</td>\n",
              "      <td>Addhuri Udupi Bhojana</td>\n",
              "      <td>No</td>\n",
              "      <td>No</td>\n",
              "      <td>3.7/5</td>\n",
              "      <td>88</td>\n",
              "      <td>+91 9620009302</td>\n",
              "      <td>Banashankari</td>\n",
              "      <td>Quick Bites</td>\n",
              "      <td>Masala Dosa</td>\n",
              "      <td>South Indian, North Indian</td>\n",
              "      <td>300</td>\n",
              "      <td>\"[('Rated 4.0', \"\"RATED\\n  Great food and prop...</td>\n",
              "      <td>('Rated 2.0'</td>\n",
              "      <td>'RATED\\n  Reached the place at 3pm on Saturda...</td>\n",
              "      <td>('Rated 4.0'</td>\n",
              "    </tr>\n",
              "    <tr>\n",
              "      <th>3</th>\n",
              "      <td>https://www.zomato.com/bangalore/cafe-shuffle-...</td>\n",
              "      <td>941, 3rd FLOOR, 21st Main, 22nd Cross, Banasha...</td>\n",
              "      <td>Cafe Shuffle</td>\n",
              "      <td>Yes</td>\n",
              "      <td>Yes</td>\n",
              "      <td>4.2/5</td>\n",
              "      <td>150</td>\n",
              "      <td>+91 9742166777</td>\n",
              "      <td>Banashankari</td>\n",
              "      <td>Cafe</td>\n",
              "      <td>Mocktails, Peri Fries, Lasagne, Pizza, Chicken...</td>\n",
              "      <td>Cafe, Italian, Continental</td>\n",
              "      <td>600</td>\n",
              "      <td>\"[('Rated 1.0', \"\"RATED\\n \\n\\nHorrible. Not ev...</td>\n",
              "      <td>you get it literally half an hour late.\"\")</td>\n",
              "      <td>('Rated 4.0'</td>\n",
              "      <td>\"\"RATED\\n  While this place is more common fo...</td>\n",
              "    </tr>\n",
              "  </tbody>\n",
              "</table>\n",
              "</div>"
            ],
            "text/plain": [
              "                                                 url  ...                                    listed_in(city)\n",
              "0  https://www.zomato.com/bangalore/spice-elephan...  ...   'RATED\\n  This place just cool ? with good am...\n",
              "1  https://www.zomato.com/SanchurroBangalore?cont...  ...   pasta churros and lasagne.\\n\\nNachos were pat...\n",
              "2  https://www.zomato.com/bangalore/addhuri-udupi...  ...                                       ('Rated 4.0'\n",
              "3  https://www.zomato.com/bangalore/cafe-shuffle-...  ...   \"\"RATED\\n  While this place is more common fo...\n",
              "\n",
              "[4 rows x 17 columns]"
            ]
          },
          "metadata": {
            "tags": []
          },
          "execution_count": 14
        }
      ]
    },
    {
      "cell_type": "code",
      "metadata": {
        "colab": {
          "base_uri": "https://localhost:8080/"
        },
        "id": "k5kS7fnwJHRO",
        "outputId": "64bba037-3b7d-46d2-fba1-b37c16339630"
      },
      "source": [
        "# count no of rows that would be dropped using drop method without any additional parameter\n",
        "og_len = df.count()\n",
        "drop_len = df.na.drop().count()\n",
        "print(\"Total Rows Dropped:\",og_len-drop_len)\n",
        "print(\"Percentage of Rows Dropped\", (og_len-drop_len)/og_len)"
      ],
      "execution_count": 15,
      "outputs": [
        {
          "output_type": "stream",
          "text": [
            "Total Rows Dropped: 63124\n",
            "Percentage of Rows Dropped 0.8800223058692318\n"
          ],
          "name": "stdout"
        }
      ]
    },
    {
      "cell_type": "code",
      "metadata": {
        "colab": {
          "base_uri": "https://localhost:8080/"
        },
        "id": "8bAZcA28JR9d",
        "outputId": "a36ba312-3b9c-48ad-f304-91776394fbf4"
      },
      "source": [
        "# Drop rows that have at least 8 NON-null values\n",
        "og_len = df.count()\n",
        "drop_len = df.na.drop(thresh=8).count()\n",
        "print(\"Total Rows Dropped:\",og_len-drop_len)\n",
        "print(\"Percentage of Rows Dropped\", (og_len-drop_len)/og_len)"
      ],
      "execution_count": 17,
      "outputs": [
        {
          "output_type": "stream",
          "text": [
            "Total Rows Dropped: 1694\n",
            "Percentage of Rows Dropped 0.023616339049212325\n"
          ],
          "name": "stdout"
        }
      ]
    },
    {
      "cell_type": "code",
      "metadata": {
        "colab": {
          "base_uri": "https://localhost:8080/"
        },
        "id": "IL-T9n1BJd46",
        "outputId": "b42bc2b9-6591-499c-ff87-e409509b1efa"
      },
      "source": [
        "# Only drop the rows whose values in the votes column are null\n",
        "og_len = df.count()\n",
        "drop_len = df.na.drop(subset=[\"votes\"]).count() \n",
        "print(\"Total Rows Dropped:\",og_len-drop_len)\n",
        "print(\"Percentage of Rows Dropped\", (og_len-drop_len)/og_len)"
      ],
      "execution_count": 18,
      "outputs": [
        {
          "output_type": "stream",
          "text": [
            "Total Rows Dropped: 20018\n",
            "Percentage of Rows Dropped 0.2790743064268786\n"
          ],
          "name": "stdout"
        }
      ]
    },
    {
      "cell_type": "code",
      "metadata": {
        "colab": {
          "base_uri": "https://localhost:8080/"
        },
        "id": "bc7qfqQVJ67P",
        "outputId": "6de087f9-8ad9-47a4-b8ef-a0ef09ccd2eb"
      },
      "source": [
        "# filter non null values\n",
        "og_len = df.count()\n",
        "drop_len = df.filter(df['rate'].isNotNull()).count() \n",
        "print(\"Total Rows Dropped:\",og_len-drop_len)\n",
        "print(\"Percentage of Rows Dropped\", (og_len-drop_len)/og_len)"
      ],
      "execution_count": 19,
      "outputs": [
        {
          "output_type": "stream",
          "text": [
            "Total Rows Dropped: 7775\n",
            "Percentage of Rows Dropped 0.10839258329848041\n"
          ],
          "name": "stdout"
        }
      ]
    },
    {
      "cell_type": "code",
      "metadata": {
        "colab": {
          "base_uri": "https://localhost:8080/"
        },
        "id": "zWnAZdkMKDgh",
        "outputId": "c4ce99c7-81f5-42bd-d12a-13c5e244c71e"
      },
      "source": [
        "# Drop a row only if ALL its values are null.\n",
        "og_len = df.count()\n",
        "drop_len = df.na.drop(how='all').count() \n",
        "print(\"Total Rows Dropped:\",og_len-drop_len)\n",
        "print(\"Percentage of Rows Dropped\", (og_len-drop_len)/og_len)"
      ],
      "execution_count": 20,
      "outputs": [
        {
          "output_type": "stream",
          "text": [
            "Total Rows Dropped: 0\n",
            "Percentage of Rows Dropped 0.0\n"
          ],
          "name": "stdout"
        }
      ]
    },
    {
      "cell_type": "code",
      "metadata": {
        "colab": {
          "base_uri": "https://localhost:8080/",
          "height": 488
        },
        "id": "DiS3o0HgKIQI",
        "outputId": "114d523e-6b3e-4e13-9e74-322326e0ba86"
      },
      "source": [
        "# filling missing value\n",
        "# Fill all nulls values with one common value (character value)\n",
        "df.na.fill('MISSING').limit(4).toPandas()"
      ],
      "execution_count": 21,
      "outputs": [
        {
          "output_type": "execute_result",
          "data": {
            "text/html": [
              "<div>\n",
              "<style scoped>\n",
              "    .dataframe tbody tr th:only-of-type {\n",
              "        vertical-align: middle;\n",
              "    }\n",
              "\n",
              "    .dataframe tbody tr th {\n",
              "        vertical-align: top;\n",
              "    }\n",
              "\n",
              "    .dataframe thead th {\n",
              "        text-align: right;\n",
              "    }\n",
              "</style>\n",
              "<table border=\"1\" class=\"dataframe\">\n",
              "  <thead>\n",
              "    <tr style=\"text-align: right;\">\n",
              "      <th></th>\n",
              "      <th>url</th>\n",
              "      <th>address</th>\n",
              "      <th>name</th>\n",
              "      <th>online_order</th>\n",
              "      <th>book_table</th>\n",
              "      <th>rate</th>\n",
              "      <th>votes</th>\n",
              "      <th>phone</th>\n",
              "      <th>location</th>\n",
              "      <th>rest_type</th>\n",
              "      <th>dish_liked</th>\n",
              "      <th>cuisines</th>\n",
              "      <th>approx_cost(for two people)</th>\n",
              "      <th>reviews_list</th>\n",
              "      <th>menu_item</th>\n",
              "      <th>listed_in(type)</th>\n",
              "      <th>listed_in(city)</th>\n",
              "    </tr>\n",
              "  </thead>\n",
              "  <tbody>\n",
              "    <tr>\n",
              "      <th>0</th>\n",
              "      <td>https://www.zomato.com/bangalore/jalsa-banasha...</td>\n",
              "      <td>942, 21st Main Road, 2nd Stage, Banashankari, ...</td>\n",
              "      <td>Jalsa</td>\n",
              "      <td>Yes</td>\n",
              "      <td>Yes</td>\n",
              "      <td>4.1/5</td>\n",
              "      <td>775.0</td>\n",
              "      <td>080 42297555</td>\n",
              "      <td>MISSING</td>\n",
              "      <td>MISSING</td>\n",
              "      <td>MISSING</td>\n",
              "      <td>MISSING</td>\n",
              "      <td>NaN</td>\n",
              "      <td>MISSING</td>\n",
              "      <td>MISSING</td>\n",
              "      <td>MISSING</td>\n",
              "      <td>MISSING</td>\n",
              "    </tr>\n",
              "    <tr>\n",
              "      <th>1</th>\n",
              "      <td>+91 9743772233\"</td>\n",
              "      <td>Banashankari</td>\n",
              "      <td>Casual Dining</td>\n",
              "      <td>Pasta, Lunch Buffet, Masala Papad, Paneer Laja...</td>\n",
              "      <td>North Indian, Mughlai, Chinese</td>\n",
              "      <td>800</td>\n",
              "      <td>NaN</td>\n",
              "      <td>('Rated 4.0'</td>\n",
              "      <td>'RATED\\n  You canÃ\\x83Ã\\x83Ã\\x82Ã\\x82Ã\\x...</td>\n",
              "      <td>('Rated 5.0'</td>\n",
              "      <td>'RATED\\n  Overdelighted by the service and fo...</td>\n",
              "      <td>('Rated 4.0'</td>\n",
              "      <td>NaN</td>\n",
              "      <td>('Rated 4.0'</td>\n",
              "      <td>'RATED\\n  The place is nice and comfortable. ...</td>\n",
              "      <td>('Rated 4.0'</td>\n",
              "      <td>'RATED\\n  The place is nice and comfortable. ...</td>\n",
              "    </tr>\n",
              "    <tr>\n",
              "      <th>2</th>\n",
              "      <td>https://www.zomato.com/bangalore/spice-elephan...</td>\n",
              "      <td>2nd Floor, 80 Feet Road, Near Big Bazaar, 6th ...</td>\n",
              "      <td>Spice Elephant</td>\n",
              "      <td>Yes</td>\n",
              "      <td>No</td>\n",
              "      <td>4.1/5</td>\n",
              "      <td>787.0</td>\n",
              "      <td>080 41714161</td>\n",
              "      <td>Banashankari</td>\n",
              "      <td>Casual Dining</td>\n",
              "      <td>Momos, Lunch Buffet, Chocolate Nirvana, Thai G...</td>\n",
              "      <td>Chinese, North Indian, Thai</td>\n",
              "      <td>800.0</td>\n",
              "      <td>\"[('Rated 4.0', 'RATED\\n  Had been here for di...</td>\n",
              "      <td>rice was well cooked and overall was great\\n\\n...</td>\n",
              "      <td>('Rated 5.0'</td>\n",
              "      <td>'RATED\\n  This place just cool ? with good am...</td>\n",
              "    </tr>\n",
              "    <tr>\n",
              "      <th>3</th>\n",
              "      <td>https://www.zomato.com/SanchurroBangalore?cont...</td>\n",
              "      <td>1112, Next to KIMS Medical College, 17th Cross...</td>\n",
              "      <td>San Churro Cafe</td>\n",
              "      <td>Yes</td>\n",
              "      <td>No</td>\n",
              "      <td>3.8/5</td>\n",
              "      <td>918.0</td>\n",
              "      <td>+91 9663487993</td>\n",
              "      <td>Banashankari</td>\n",
              "      <td>Cafe, Casual Dining</td>\n",
              "      <td>Churros, Cannelloni, Minestrone Soup, Hot Choc...</td>\n",
              "      <td>Cafe, Mexican, Italian</td>\n",
              "      <td>800.0</td>\n",
              "      <td>\"[('Rated 3.0', \"\"RATED\\n  Ambience is not tha...</td>\n",
              "      <td>('Rated 3.0'</td>\n",
              "      <td>\"\"RATED\\n \\nWent there for a quick bite with ...</td>\n",
              "      <td>pasta churros and lasagne.\\n\\nNachos were pat...</td>\n",
              "    </tr>\n",
              "  </tbody>\n",
              "</table>\n",
              "</div>"
            ],
            "text/plain": [
              "                                                 url  ...                                    listed_in(city)\n",
              "0  https://www.zomato.com/bangalore/jalsa-banasha...  ...                                            MISSING\n",
              "1                                    +91 9743772233\"  ...   'RATED\\n  The place is nice and comfortable. ...\n",
              "2  https://www.zomato.com/bangalore/spice-elephan...  ...   'RATED\\n  This place just cool ? with good am...\n",
              "3  https://www.zomato.com/SanchurroBangalore?cont...  ...   pasta churros and lasagne.\\n\\nNachos were pat...\n",
              "\n",
              "[4 rows x 17 columns]"
            ]
          },
          "metadata": {
            "tags": []
          },
          "execution_count": 21
        }
      ]
    },
    {
      "cell_type": "code",
      "metadata": {
        "colab": {
          "base_uri": "https://localhost:8080/",
          "height": 986
        },
        "id": "Isiq3N3jKT6n",
        "outputId": "35d730e5-0855-4a44-87da-96698ee415dc"
      },
      "source": [
        "# Fill all nulls values with one common value (numeric value)\n",
        "df.na.fill(999).limit(10).toPandas()"
      ],
      "execution_count": 22,
      "outputs": [
        {
          "output_type": "execute_result",
          "data": {
            "text/html": [
              "<div>\n",
              "<style scoped>\n",
              "    .dataframe tbody tr th:only-of-type {\n",
              "        vertical-align: middle;\n",
              "    }\n",
              "\n",
              "    .dataframe tbody tr th {\n",
              "        vertical-align: top;\n",
              "    }\n",
              "\n",
              "    .dataframe thead th {\n",
              "        text-align: right;\n",
              "    }\n",
              "</style>\n",
              "<table border=\"1\" class=\"dataframe\">\n",
              "  <thead>\n",
              "    <tr style=\"text-align: right;\">\n",
              "      <th></th>\n",
              "      <th>url</th>\n",
              "      <th>address</th>\n",
              "      <th>name</th>\n",
              "      <th>online_order</th>\n",
              "      <th>book_table</th>\n",
              "      <th>rate</th>\n",
              "      <th>votes</th>\n",
              "      <th>phone</th>\n",
              "      <th>location</th>\n",
              "      <th>rest_type</th>\n",
              "      <th>dish_liked</th>\n",
              "      <th>cuisines</th>\n",
              "      <th>approx_cost(for two people)</th>\n",
              "      <th>reviews_list</th>\n",
              "      <th>menu_item</th>\n",
              "      <th>listed_in(type)</th>\n",
              "      <th>listed_in(city)</th>\n",
              "    </tr>\n",
              "  </thead>\n",
              "  <tbody>\n",
              "    <tr>\n",
              "      <th>0</th>\n",
              "      <td>https://www.zomato.com/bangalore/jalsa-banasha...</td>\n",
              "      <td>942, 21st Main Road, 2nd Stage, Banashankari, ...</td>\n",
              "      <td>Jalsa</td>\n",
              "      <td>Yes</td>\n",
              "      <td>Yes</td>\n",
              "      <td>4.1/5</td>\n",
              "      <td>775</td>\n",
              "      <td>080 42297555</td>\n",
              "      <td>None</td>\n",
              "      <td>None</td>\n",
              "      <td>None</td>\n",
              "      <td>None</td>\n",
              "      <td>999</td>\n",
              "      <td>None</td>\n",
              "      <td>None</td>\n",
              "      <td>None</td>\n",
              "      <td>None</td>\n",
              "    </tr>\n",
              "    <tr>\n",
              "      <th>1</th>\n",
              "      <td>+91 9743772233\"</td>\n",
              "      <td>Banashankari</td>\n",
              "      <td>Casual Dining</td>\n",
              "      <td>Pasta, Lunch Buffet, Masala Papad, Paneer Laja...</td>\n",
              "      <td>North Indian, Mughlai, Chinese</td>\n",
              "      <td>800</td>\n",
              "      <td>999</td>\n",
              "      <td>('Rated 4.0'</td>\n",
              "      <td>'RATED\\n  You canÃ\\x83Ã\\x83Ã\\x82Ã\\x82Ã\\x...</td>\n",
              "      <td>('Rated 5.0'</td>\n",
              "      <td>'RATED\\n  Overdelighted by the service and fo...</td>\n",
              "      <td>('Rated 4.0'</td>\n",
              "      <td>999</td>\n",
              "      <td>('Rated 4.0'</td>\n",
              "      <td>'RATED\\n  The place is nice and comfortable. ...</td>\n",
              "      <td>('Rated 4.0'</td>\n",
              "      <td>'RATED\\n  The place is nice and comfortable. ...</td>\n",
              "    </tr>\n",
              "    <tr>\n",
              "      <th>2</th>\n",
              "      <td>https://www.zomato.com/bangalore/spice-elephan...</td>\n",
              "      <td>2nd Floor, 80 Feet Road, Near Big Bazaar, 6th ...</td>\n",
              "      <td>Spice Elephant</td>\n",
              "      <td>Yes</td>\n",
              "      <td>No</td>\n",
              "      <td>4.1/5</td>\n",
              "      <td>787</td>\n",
              "      <td>080 41714161</td>\n",
              "      <td>Banashankari</td>\n",
              "      <td>Casual Dining</td>\n",
              "      <td>Momos, Lunch Buffet, Chocolate Nirvana, Thai G...</td>\n",
              "      <td>Chinese, North Indian, Thai</td>\n",
              "      <td>800</td>\n",
              "      <td>\"[('Rated 4.0', 'RATED\\n  Had been here for di...</td>\n",
              "      <td>rice was well cooked and overall was great\\n\\n...</td>\n",
              "      <td>('Rated 5.0'</td>\n",
              "      <td>'RATED\\n  This place just cool ? with good am...</td>\n",
              "    </tr>\n",
              "    <tr>\n",
              "      <th>3</th>\n",
              "      <td>https://www.zomato.com/SanchurroBangalore?cont...</td>\n",
              "      <td>1112, Next to KIMS Medical College, 17th Cross...</td>\n",
              "      <td>San Churro Cafe</td>\n",
              "      <td>Yes</td>\n",
              "      <td>No</td>\n",
              "      <td>3.8/5</td>\n",
              "      <td>918</td>\n",
              "      <td>+91 9663487993</td>\n",
              "      <td>Banashankari</td>\n",
              "      <td>Cafe, Casual Dining</td>\n",
              "      <td>Churros, Cannelloni, Minestrone Soup, Hot Choc...</td>\n",
              "      <td>Cafe, Mexican, Italian</td>\n",
              "      <td>800</td>\n",
              "      <td>\"[('Rated 3.0', \"\"RATED\\n  Ambience is not tha...</td>\n",
              "      <td>('Rated 3.0'</td>\n",
              "      <td>\"\"RATED\\n \\nWent there for a quick bite with ...</td>\n",
              "      <td>pasta churros and lasagne.\\n\\nNachos were pat...</td>\n",
              "    </tr>\n",
              "    <tr>\n",
              "      <th>4</th>\n",
              "      <td>https://www.zomato.com/bangalore/addhuri-udupi...</td>\n",
              "      <td>1st Floor, Annakuteera, 3rd Stage, Banashankar...</td>\n",
              "      <td>Addhuri Udupi Bhojana</td>\n",
              "      <td>No</td>\n",
              "      <td>No</td>\n",
              "      <td>3.7/5</td>\n",
              "      <td>88</td>\n",
              "      <td>+91 9620009302</td>\n",
              "      <td>Banashankari</td>\n",
              "      <td>Quick Bites</td>\n",
              "      <td>Masala Dosa</td>\n",
              "      <td>South Indian, North Indian</td>\n",
              "      <td>300</td>\n",
              "      <td>\"[('Rated 4.0', \"\"RATED\\n  Great food and prop...</td>\n",
              "      <td>('Rated 2.0'</td>\n",
              "      <td>'RATED\\n  Reached the place at 3pm on Saturda...</td>\n",
              "      <td>('Rated 4.0'</td>\n",
              "    </tr>\n",
              "    <tr>\n",
              "      <th>5</th>\n",
              "      <td>https://www.zomato.com/bangalore/grand-village...</td>\n",
              "      <td>10, 3rd Floor, Lakshmi Associates, Gandhi Baza...</td>\n",
              "      <td>Grand Village</td>\n",
              "      <td>No</td>\n",
              "      <td>No</td>\n",
              "      <td>3.8/5</td>\n",
              "      <td>166</td>\n",
              "      <td>+91 8026612447</td>\n",
              "      <td>None</td>\n",
              "      <td>None</td>\n",
              "      <td>None</td>\n",
              "      <td>None</td>\n",
              "      <td>999</td>\n",
              "      <td>None</td>\n",
              "      <td>None</td>\n",
              "      <td>None</td>\n",
              "      <td>None</td>\n",
              "    </tr>\n",
              "    <tr>\n",
              "      <th>6</th>\n",
              "      <td>+91 9901210005\"</td>\n",
              "      <td>Basavanagudi</td>\n",
              "      <td>Casual Dining</td>\n",
              "      <td>Panipuri, Gol Gappe</td>\n",
              "      <td>North Indian, Rajasthani</td>\n",
              "      <td>600</td>\n",
              "      <td>999</td>\n",
              "      <td>[]</td>\n",
              "      <td>Buffet</td>\n",
              "      <td>Banashankari</td>\n",
              "      <td>None</td>\n",
              "      <td>None</td>\n",
              "      <td>999</td>\n",
              "      <td>None</td>\n",
              "      <td>None</td>\n",
              "      <td>None</td>\n",
              "      <td>None</td>\n",
              "    </tr>\n",
              "    <tr>\n",
              "      <th>7</th>\n",
              "      <td>https://www.zomato.com/bangalore/timepass-dinn...</td>\n",
              "      <td>37, 5-1, 4th Floor, Bosco Court, Gandhi Bazaar...</td>\n",
              "      <td>Timepass Dinner</td>\n",
              "      <td>Yes</td>\n",
              "      <td>No</td>\n",
              "      <td>3.8/5</td>\n",
              "      <td>286</td>\n",
              "      <td>+91 9980040002</td>\n",
              "      <td>None</td>\n",
              "      <td>None</td>\n",
              "      <td>None</td>\n",
              "      <td>None</td>\n",
              "      <td>999</td>\n",
              "      <td>None</td>\n",
              "      <td>None</td>\n",
              "      <td>None</td>\n",
              "      <td>None</td>\n",
              "    </tr>\n",
              "    <tr>\n",
              "      <th>8</th>\n",
              "      <td>+91 9980063005\"</td>\n",
              "      <td>Basavanagudi</td>\n",
              "      <td>Casual Dining</td>\n",
              "      <td>Onion Rings, Pasta, Kadhai Paneer, Salads, Sal...</td>\n",
              "      <td>North Indian</td>\n",
              "      <td>600</td>\n",
              "      <td>999</td>\n",
              "      <td>[]</td>\n",
              "      <td>Buffet</td>\n",
              "      <td>Banashankari</td>\n",
              "      <td>None</td>\n",
              "      <td>None</td>\n",
              "      <td>999</td>\n",
              "      <td>None</td>\n",
              "      <td>None</td>\n",
              "      <td>None</td>\n",
              "      <td>None</td>\n",
              "    </tr>\n",
              "    <tr>\n",
              "      <th>9</th>\n",
              "      <td>https://www.zomato.com/bangalore/rosewood-inte...</td>\n",
              "      <td>19/1, New Timberyard Layout, Beside Satellite ...</td>\n",
              "      <td>Rosewood International Hotel - Bar &amp; Restaurant</td>\n",
              "      <td>No</td>\n",
              "      <td>No</td>\n",
              "      <td>3.6/5</td>\n",
              "      <td>8</td>\n",
              "      <td>+91 9731716688</td>\n",
              "      <td>None</td>\n",
              "      <td>None</td>\n",
              "      <td>None</td>\n",
              "      <td>None</td>\n",
              "      <td>999</td>\n",
              "      <td>None</td>\n",
              "      <td>None</td>\n",
              "      <td>None</td>\n",
              "      <td>None</td>\n",
              "    </tr>\n",
              "  </tbody>\n",
              "</table>\n",
              "</div>"
            ],
            "text/plain": [
              "                                                 url  ...                                    listed_in(city)\n",
              "0  https://www.zomato.com/bangalore/jalsa-banasha...  ...                                               None\n",
              "1                                    +91 9743772233\"  ...   'RATED\\n  The place is nice and comfortable. ...\n",
              "2  https://www.zomato.com/bangalore/spice-elephan...  ...   'RATED\\n  This place just cool ? with good am...\n",
              "3  https://www.zomato.com/SanchurroBangalore?cont...  ...   pasta churros and lasagne.\\n\\nNachos were pat...\n",
              "4  https://www.zomato.com/bangalore/addhuri-udupi...  ...                                       ('Rated 4.0'\n",
              "5  https://www.zomato.com/bangalore/grand-village...  ...                                               None\n",
              "6                                    +91 9901210005\"  ...                                               None\n",
              "7  https://www.zomato.com/bangalore/timepass-dinn...  ...                                               None\n",
              "8                                    +91 9980063005\"  ...                                               None\n",
              "9  https://www.zomato.com/bangalore/rosewood-inte...  ...                                               None\n",
              "\n",
              "[10 rows x 17 columns]"
            ]
          },
          "metadata": {
            "tags": []
          },
          "execution_count": 22
        }
      ]
    },
    {
      "cell_type": "code",
      "metadata": {
        "colab": {
          "base_uri": "https://localhost:8080/",
          "height": 519
        },
        "id": "B5VQomSOKZfx",
        "outputId": "95112b37-abf6-49ab-e262-feb8680bd1ac"
      },
      "source": [
        "# fill only one column\n",
        "df.filter(df['name'].isNull()).na.fill('No Name',subset=['name']).limit(5).toPandas()"
      ],
      "execution_count": 23,
      "outputs": [
        {
          "output_type": "execute_result",
          "data": {
            "text/html": [
              "<div>\n",
              "<style scoped>\n",
              "    .dataframe tbody tr th:only-of-type {\n",
              "        vertical-align: middle;\n",
              "    }\n",
              "\n",
              "    .dataframe tbody tr th {\n",
              "        vertical-align: top;\n",
              "    }\n",
              "\n",
              "    .dataframe thead th {\n",
              "        text-align: right;\n",
              "    }\n",
              "</style>\n",
              "<table border=\"1\" class=\"dataframe\">\n",
              "  <thead>\n",
              "    <tr style=\"text-align: right;\">\n",
              "      <th></th>\n",
              "      <th>url</th>\n",
              "      <th>address</th>\n",
              "      <th>name</th>\n",
              "      <th>online_order</th>\n",
              "      <th>book_table</th>\n",
              "      <th>rate</th>\n",
              "      <th>votes</th>\n",
              "      <th>phone</th>\n",
              "      <th>location</th>\n",
              "      <th>rest_type</th>\n",
              "      <th>dish_liked</th>\n",
              "      <th>cuisines</th>\n",
              "      <th>approx_cost(for two people)</th>\n",
              "      <th>reviews_list</th>\n",
              "      <th>menu_item</th>\n",
              "      <th>listed_in(type)</th>\n",
              "      <th>listed_in(city)</th>\n",
              "    </tr>\n",
              "  </thead>\n",
              "  <tbody>\n",
              "    <tr>\n",
              "      <th>0</th>\n",
              "      <td>+91 9986692090\"</td>\n",
              "      <td>BTM</td>\n",
              "      <td>No Name</td>\n",
              "      <td>Momos, Oreo Shake</td>\n",
              "      <td>Mughlai, North Indian, Chinese, Momos</td>\n",
              "      <td>600</td>\n",
              "      <td>None</td>\n",
              "      <td>('Rated 3.0'</td>\n",
              "      <td>'RATED\\n  Simple food with great north indian...</td>\n",
              "      <td>['Fry Chicken Kabab [5 Pieces]', 'Fry Chicken ...</td>\n",
              "      <td>Delivery</td>\n",
              "      <td>Bannerghatta Road</td>\n",
              "      <td>None</td>\n",
              "      <td>None</td>\n",
              "      <td>None</td>\n",
              "      <td>None</td>\n",
              "      <td>None</td>\n",
              "    </tr>\n",
              "    <tr>\n",
              "      <th>1</th>\n",
              "      <td>00 805074123\"</td>\n",
              "      <td>BTM</td>\n",
              "      <td>No Name</td>\n",
              "      <td>None</td>\n",
              "      <td>North Indian, Chinese, Arabian</td>\n",
              "      <td>700</td>\n",
              "      <td>None</td>\n",
              "      <td>[]</td>\n",
              "      <td>Delivery</td>\n",
              "      <td>Bannerghatta Road</td>\n",
              "      <td>None</td>\n",
              "      <td>None</td>\n",
              "      <td>None</td>\n",
              "      <td>None</td>\n",
              "      <td>None</td>\n",
              "      <td>None</td>\n",
              "      <td>None</td>\n",
              "    </tr>\n",
              "    <tr>\n",
              "      <th>2</th>\n",
              "      <td>+91 8971051846\"</td>\n",
              "      <td>Bannerghatta Road</td>\n",
              "      <td>No Name</td>\n",
              "      <td>None</td>\n",
              "      <td>Street Food, Burger</td>\n",
              "      <td>150</td>\n",
              "      <td>None</td>\n",
              "      <td>[]</td>\n",
              "      <td>Delivery</td>\n",
              "      <td>Bannerghatta Road</td>\n",
              "      <td>None</td>\n",
              "      <td>None</td>\n",
              "      <td>None</td>\n",
              "      <td>None</td>\n",
              "      <td>None</td>\n",
              "      <td>None</td>\n",
              "      <td>None</td>\n",
              "    </tr>\n",
              "    <tr>\n",
              "      <th>3</th>\n",
              "      <td>080 39457777\"</td>\n",
              "      <td>Bannerghatta Road</td>\n",
              "      <td>No Name</td>\n",
              "      <td>Chicken Biryani, Hyderabadi Biryani, Rolls, Mu...</td>\n",
              "      <td>Biryani, North Indian</td>\n",
              "      <td>500</td>\n",
              "      <td>None</td>\n",
              "      <td>('Rated 3.0'</td>\n",
              "      <td>'RATED\\n  too much oil in rice items')</td>\n",
              "      <td>('Rated 2.0'</td>\n",
              "      <td>'RATED\\n  salan was not provided')</td>\n",
              "      <td>('Rated 1.0'</td>\n",
              "      <td>None</td>\n",
              "      <td>('Rated 3.0'</td>\n",
              "      <td>'RATED\\n  ok ok biryani')</td>\n",
              "      <td>('Rated 1.0'</td>\n",
              "      <td>\"\"RATED\\n  poor test &amp; quality... will never ...</td>\n",
              "    </tr>\n",
              "    <tr>\n",
              "      <th>4</th>\n",
              "      <td>+91 8971051846\"</td>\n",
              "      <td>Bannerghatta Road</td>\n",
              "      <td>No Name</td>\n",
              "      <td>None</td>\n",
              "      <td>Street Food, Burger</td>\n",
              "      <td>150</td>\n",
              "      <td>None</td>\n",
              "      <td>[]</td>\n",
              "      <td>Dine-out</td>\n",
              "      <td>Bannerghatta Road</td>\n",
              "      <td>None</td>\n",
              "      <td>None</td>\n",
              "      <td>None</td>\n",
              "      <td>None</td>\n",
              "      <td>None</td>\n",
              "      <td>None</td>\n",
              "      <td>None</td>\n",
              "    </tr>\n",
              "  </tbody>\n",
              "</table>\n",
              "</div>"
            ],
            "text/plain": [
              "               url  ...                                    listed_in(city)\n",
              "0  +91 9986692090\"  ...                                               None\n",
              "1    00 805074123\"  ...                                               None\n",
              "2  +91 8971051846\"  ...                                               None\n",
              "3    080 39457777\"  ...   \"\"RATED\\n  poor test & quality... will never ...\n",
              "4  +91 8971051846\"  ...                                               None\n",
              "\n",
              "[5 rows x 17 columns]"
            ]
          },
          "metadata": {
            "tags": []
          },
          "execution_count": 23
        }
      ]
    },
    {
      "cell_type": "code",
      "metadata": {
        "colab": {
          "base_uri": "https://localhost:8080/",
          "height": 571
        },
        "id": "oznywsNKLU8Q",
        "outputId": "35a11257-21a3-4633-b9ca-cc92753102db"
      },
      "source": [
        "# fill missing value with mean value\n",
        "def fill_with_mean(df, include=set()): \n",
        "    stats = df.agg(*(avg(c).alias(c) for c in df.columns if c in include))\n",
        "    return df.na.fill(stats.first().asDict())\n",
        "\n",
        "updated_df = fill_with_mean(df, [\"votes\"])\n",
        "updated_df.limit(5).toPandas()"
      ],
      "execution_count": 34,
      "outputs": [
        {
          "output_type": "execute_result",
          "data": {
            "text/html": [
              "<div>\n",
              "<style scoped>\n",
              "    .dataframe tbody tr th:only-of-type {\n",
              "        vertical-align: middle;\n",
              "    }\n",
              "\n",
              "    .dataframe tbody tr th {\n",
              "        vertical-align: top;\n",
              "    }\n",
              "\n",
              "    .dataframe thead th {\n",
              "        text-align: right;\n",
              "    }\n",
              "</style>\n",
              "<table border=\"1\" class=\"dataframe\">\n",
              "  <thead>\n",
              "    <tr style=\"text-align: right;\">\n",
              "      <th></th>\n",
              "      <th>url</th>\n",
              "      <th>address</th>\n",
              "      <th>name</th>\n",
              "      <th>online_order</th>\n",
              "      <th>book_table</th>\n",
              "      <th>rate</th>\n",
              "      <th>votes</th>\n",
              "      <th>phone</th>\n",
              "      <th>location</th>\n",
              "      <th>rest_type</th>\n",
              "      <th>dish_liked</th>\n",
              "      <th>cuisines</th>\n",
              "      <th>approx_cost(for two people)</th>\n",
              "      <th>reviews_list</th>\n",
              "      <th>menu_item</th>\n",
              "      <th>listed_in(type)</th>\n",
              "      <th>listed_in(city)</th>\n",
              "    </tr>\n",
              "  </thead>\n",
              "  <tbody>\n",
              "    <tr>\n",
              "      <th>0</th>\n",
              "      <td>https://www.zomato.com/bangalore/jalsa-banasha...</td>\n",
              "      <td>942, 21st Main Road, 2nd Stage, Banashankari, ...</td>\n",
              "      <td>Jalsa</td>\n",
              "      <td>Yes</td>\n",
              "      <td>Yes</td>\n",
              "      <td>4.1/5</td>\n",
              "      <td>775</td>\n",
              "      <td>080 42297555</td>\n",
              "      <td>None</td>\n",
              "      <td>None</td>\n",
              "      <td>None</td>\n",
              "      <td>None</td>\n",
              "      <td>NaN</td>\n",
              "      <td>None</td>\n",
              "      <td>None</td>\n",
              "      <td>None</td>\n",
              "      <td>None</td>\n",
              "    </tr>\n",
              "    <tr>\n",
              "      <th>1</th>\n",
              "      <td>+91 9743772233\"</td>\n",
              "      <td>Banashankari</td>\n",
              "      <td>Casual Dining</td>\n",
              "      <td>Pasta, Lunch Buffet, Masala Papad, Paneer Laja...</td>\n",
              "      <td>North Indian, Mughlai, Chinese</td>\n",
              "      <td>800</td>\n",
              "      <td>283</td>\n",
              "      <td>('Rated 4.0'</td>\n",
              "      <td>'RATED\\n  You canÃ\\x83Ã\\x83Ã\\x82Ã\\x82Ã\\x...</td>\n",
              "      <td>('Rated 5.0'</td>\n",
              "      <td>'RATED\\n  Overdelighted by the service and fo...</td>\n",
              "      <td>('Rated 4.0'</td>\n",
              "      <td>NaN</td>\n",
              "      <td>('Rated 4.0'</td>\n",
              "      <td>'RATED\\n  The place is nice and comfortable. ...</td>\n",
              "      <td>('Rated 4.0'</td>\n",
              "      <td>'RATED\\n  The place is nice and comfortable. ...</td>\n",
              "    </tr>\n",
              "    <tr>\n",
              "      <th>2</th>\n",
              "      <td>https://www.zomato.com/bangalore/spice-elephan...</td>\n",
              "      <td>2nd Floor, 80 Feet Road, Near Big Bazaar, 6th ...</td>\n",
              "      <td>Spice Elephant</td>\n",
              "      <td>Yes</td>\n",
              "      <td>No</td>\n",
              "      <td>4.1/5</td>\n",
              "      <td>787</td>\n",
              "      <td>080 41714161</td>\n",
              "      <td>Banashankari</td>\n",
              "      <td>Casual Dining</td>\n",
              "      <td>Momos, Lunch Buffet, Chocolate Nirvana, Thai G...</td>\n",
              "      <td>Chinese, North Indian, Thai</td>\n",
              "      <td>800.0</td>\n",
              "      <td>\"[('Rated 4.0', 'RATED\\n  Had been here for di...</td>\n",
              "      <td>rice was well cooked and overall was great\\n\\n...</td>\n",
              "      <td>('Rated 5.0'</td>\n",
              "      <td>'RATED\\n  This place just cool ? with good am...</td>\n",
              "    </tr>\n",
              "    <tr>\n",
              "      <th>3</th>\n",
              "      <td>https://www.zomato.com/SanchurroBangalore?cont...</td>\n",
              "      <td>1112, Next to KIMS Medical College, 17th Cross...</td>\n",
              "      <td>San Churro Cafe</td>\n",
              "      <td>Yes</td>\n",
              "      <td>No</td>\n",
              "      <td>3.8/5</td>\n",
              "      <td>918</td>\n",
              "      <td>+91 9663487993</td>\n",
              "      <td>Banashankari</td>\n",
              "      <td>Cafe, Casual Dining</td>\n",
              "      <td>Churros, Cannelloni, Minestrone Soup, Hot Choc...</td>\n",
              "      <td>Cafe, Mexican, Italian</td>\n",
              "      <td>800.0</td>\n",
              "      <td>\"[('Rated 3.0', \"\"RATED\\n  Ambience is not tha...</td>\n",
              "      <td>('Rated 3.0'</td>\n",
              "      <td>\"\"RATED\\n \\nWent there for a quick bite with ...</td>\n",
              "      <td>pasta churros and lasagne.\\n\\nNachos were pat...</td>\n",
              "    </tr>\n",
              "    <tr>\n",
              "      <th>4</th>\n",
              "      <td>https://www.zomato.com/bangalore/addhuri-udupi...</td>\n",
              "      <td>1st Floor, Annakuteera, 3rd Stage, Banashankar...</td>\n",
              "      <td>Addhuri Udupi Bhojana</td>\n",
              "      <td>No</td>\n",
              "      <td>No</td>\n",
              "      <td>3.7/5</td>\n",
              "      <td>88</td>\n",
              "      <td>+91 9620009302</td>\n",
              "      <td>Banashankari</td>\n",
              "      <td>Quick Bites</td>\n",
              "      <td>Masala Dosa</td>\n",
              "      <td>South Indian, North Indian</td>\n",
              "      <td>300.0</td>\n",
              "      <td>\"[('Rated 4.0', \"\"RATED\\n  Great food and prop...</td>\n",
              "      <td>('Rated 2.0'</td>\n",
              "      <td>'RATED\\n  Reached the place at 3pm on Saturda...</td>\n",
              "      <td>('Rated 4.0'</td>\n",
              "    </tr>\n",
              "  </tbody>\n",
              "</table>\n",
              "</div>"
            ],
            "text/plain": [
              "                                                 url  ...                                    listed_in(city)\n",
              "0  https://www.zomato.com/bangalore/jalsa-banasha...  ...                                               None\n",
              "1                                    +91 9743772233\"  ...   'RATED\\n  The place is nice and comfortable. ...\n",
              "2  https://www.zomato.com/bangalore/spice-elephan...  ...   'RATED\\n  This place just cool ? with good am...\n",
              "3  https://www.zomato.com/SanchurroBangalore?cont...  ...   pasta churros and lasagne.\\n\\nNachos were pat...\n",
              "4  https://www.zomato.com/bangalore/addhuri-udupi...  ...                                       ('Rated 4.0'\n",
              "\n",
              "[5 rows x 17 columns]"
            ]
          },
          "metadata": {
            "tags": []
          },
          "execution_count": 34
        }
      ]
    },
    {
      "cell_type": "code",
      "metadata": {
        "colab": {
          "base_uri": "https://localhost:8080/"
        },
        "id": "sgCc3EpMKrgF",
        "outputId": "01328abe-fd2f-4336-bd2e-aa29a19c3093"
      },
      "source": [
        "# dummy dataset\n",
        "\n",
        "values = [('Pear',10),('Orange',36),('Banana',123),('Kiwi',None),('Peach',16),('Strawberry',1)]\n",
        "df = spark.createDataFrame(values,['fruit','quantity'])\n",
        "\n",
        "df.show()\n"
      ],
      "execution_count": 37,
      "outputs": [
        {
          "output_type": "stream",
          "text": [
            "+----------+--------+\n",
            "|     fruit|quantity|\n",
            "+----------+--------+\n",
            "|      Pear|      10|\n",
            "|    Orange|      36|\n",
            "|    Banana|     123|\n",
            "|      Kiwi|    null|\n",
            "|     Peach|      16|\n",
            "|Strawberry|       1|\n",
            "+----------+--------+\n",
            "\n"
          ],
          "name": "stdout"
        }
      ]
    },
    {
      "cell_type": "code",
      "metadata": {
        "colab": {
          "base_uri": "https://localhost:8080/"
        },
        "id": "AmS4I_p8MRS6",
        "outputId": "5420ae12-ede3-4d50-f832-3aaf21ff6c3b"
      },
      "source": [
        "# conditional missing value fill\n",
        "\n",
        "# When A is not null and A <5 then B = 0\n",
        "# When A is not null and A >= 5 then B=1\n",
        "\n",
        "\n",
        "df.withColumn('B',(when(df['quantity'].isNull(), 999).when(df['quantity'] < 5, 0).when(df['quantity'] >= 5, 1).otherwise(-2))).show()\n",
        "# df.withColumn('B',(when(df.quantity < 5, 0).when(df.quantity >= 5, 1).otherwise(999))).show()type(stats)"
      ],
      "execution_count": 38,
      "outputs": [
        {
          "output_type": "stream",
          "text": [
            "+----------+--------+---+\n",
            "|     fruit|quantity|  B|\n",
            "+----------+--------+---+\n",
            "|      Pear|      10|  1|\n",
            "|    Orange|      36|  1|\n",
            "|    Banana|     123|  1|\n",
            "|      Kiwi|    null|999|\n",
            "|     Peach|      16|  1|\n",
            "|Strawberry|       1|  0|\n",
            "+----------+--------+---+\n",
            "\n"
          ],
          "name": "stdout"
        }
      ]
    },
    {
      "cell_type": "code",
      "metadata": {
        "colab": {
          "base_uri": "https://localhost:8080/"
        },
        "id": "328uZH2JQHkc",
        "outputId": "9572e083-0176-4f6c-ab71-84d0d4a114ad"
      },
      "source": [
        "# dummy dataset\n",
        "\n",
        "values = [('Pear',10),('Orange',36),('Banana',None),('Kiwi',None),('Peach',16),('Strawberry',1)]\n",
        "df = spark.createDataFrame(values,['fruit','quantity'])\n",
        "\n",
        "df.show()"
      ],
      "execution_count": 47,
      "outputs": [
        {
          "output_type": "stream",
          "text": [
            "+----------+--------+\n",
            "|     fruit|quantity|\n",
            "+----------+--------+\n",
            "|      Pear|      10|\n",
            "|    Orange|      36|\n",
            "|    Banana|    null|\n",
            "|      Kiwi|    null|\n",
            "|     Peach|      16|\n",
            "|Strawberry|       1|\n",
            "+----------+--------+\n",
            "\n"
          ],
          "name": "stdout"
        }
      ]
    },
    {
      "cell_type": "code",
      "metadata": {
        "colab": {
          "base_uri": "https://localhost:8080/"
        },
        "id": "J_kipX3KMbf7",
        "outputId": "d836ecf8-770c-42e6-f0f0-505cb2a6fbc5"
      },
      "source": [
        "df.withColumn('B',(when((df['quantity'].isNull()) & (df['fruit'] == 'Kiwi'),-999).when(df['quantity'].isNull(),999).otherwise(df['quantity']))).show()\n"
      ],
      "execution_count": 50,
      "outputs": [
        {
          "output_type": "stream",
          "text": [
            "+----------+--------+----+\n",
            "|     fruit|quantity|   B|\n",
            "+----------+--------+----+\n",
            "|      Pear|      10|  10|\n",
            "|    Orange|      36|  36|\n",
            "|    Banana|    null| 999|\n",
            "|      Kiwi|    null|-999|\n",
            "|     Peach|      16|  16|\n",
            "|Strawberry|       1|   1|\n",
            "+----------+--------+----+\n",
            "\n"
          ],
          "name": "stdout"
        }
      ]
    },
    {
      "cell_type": "code",
      "metadata": {
        "id": "0pLe2Bc0OWe8"
      },
      "source": [
        ""
      ],
      "execution_count": null,
      "outputs": []
    }
  ]
}
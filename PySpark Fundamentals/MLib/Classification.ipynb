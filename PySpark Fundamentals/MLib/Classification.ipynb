{
  "nbformat": 4,
  "nbformat_minor": 0,
  "metadata": {
    "colab": {
      "name": "Classification.ipynb",
      "provenance": [],
      "collapsed_sections": []
    },
    "kernelspec": {
      "name": "python3",
      "display_name": "Python 3"
    },
    "language_info": {
      "name": "python"
    }
  },
  "cells": [
    {
      "cell_type": "markdown",
      "metadata": {
        "id": "Yp6mqGEAjYPM"
      },
      "source": [
        "## Configure PySpark Setup"
      ]
    },
    {
      "cell_type": "code",
      "metadata": {
        "colab": {
          "base_uri": "https://localhost:8080/",
          "height": 216
        },
        "id": "MCa9mNO1jZH9",
        "outputId": "6d711d66-d50b-42eb-fac6-192280033326"
      },
      "source": [
        "!apt-get install openjdk-8-jdk-headless -qq > /dev/null\n",
        "!wget -q https://archive.apache.org/dist/spark/spark-3.0.1/spark-3.0.1-bin-hadoop2.7.tgz\n",
        "!tar xf spark-3.0.1-bin-hadoop2.7.tgz\n",
        "!pip install -q findspark\n",
        "\n",
        "import os\n",
        "os.environ[\"JAVA_HOME\"] = \"/usr/lib/jvm/java-8-openjdk-amd64\"\n",
        "os.environ[\"SPARK_HOME\"] = \"/content/spark-3.0.1-bin-hadoop2.7\"\n",
        "\n",
        "\n",
        "import findspark\n",
        "findspark.init()\n",
        "\n",
        "\n",
        "import pyspark \n",
        "from pyspark.sql import SparkSession\n",
        "spark = SparkSession.builder.appName(\"App\").getOrCreate()\n",
        "spark"
      ],
      "execution_count": 1,
      "outputs": [
        {
          "output_type": "execute_result",
          "data": {
            "text/html": [
              "\n",
              "            <div>\n",
              "                <p><b>SparkSession - in-memory</b></p>\n",
              "                \n",
              "        <div>\n",
              "            <p><b>SparkContext</b></p>\n",
              "\n",
              "            <p><a href=\"http://97fa93884f49:4040\">Spark UI</a></p>\n",
              "\n",
              "            <dl>\n",
              "              <dt>Version</dt>\n",
              "                <dd><code>v3.0.1</code></dd>\n",
              "              <dt>Master</dt>\n",
              "                <dd><code>local[*]</code></dd>\n",
              "              <dt>AppName</dt>\n",
              "                <dd><code>App</code></dd>\n",
              "            </dl>\n",
              "        </div>\n",
              "        \n",
              "            </div>\n",
              "        "
            ],
            "text/plain": [
              "<pyspark.sql.session.SparkSession at 0x7fc9f004a550>"
            ]
          },
          "metadata": {},
          "execution_count": 1
        }
      ]
    },
    {
      "cell_type": "code",
      "metadata": {
        "colab": {
          "base_uri": "https://localhost:8080/"
        },
        "id": "a7bHaAOcld4r",
        "outputId": "0f752b49-9d8a-43a9-820f-8fd90c3e16b2"
      },
      "source": [
        "# check number of cores PySpark is using\n",
        "cores = spark._jsc.sc().getExecutorMemoryStatus().keySet().size()\n",
        "print(\"You are working with\", cores, \"core(s)\")"
      ],
      "execution_count": 2,
      "outputs": [
        {
          "output_type": "stream",
          "text": [
            "You are working with 1 core(s)\n"
          ],
          "name": "stdout"
        }
      ]
    },
    {
      "cell_type": "code",
      "metadata": {
        "id": "X3BH7XKykc2M",
        "colab": {
          "base_uri": "https://localhost:8080/"
        },
        "outputId": "d2d7cf16-b084-41b6-bf71-a508ee1a4936"
      },
      "source": [
        "!cp /content/drive/MyDrive/Datasets.zip .\n",
        "!unzip Datasets.zip"
      ],
      "execution_count": 3,
      "outputs": [
        {
          "output_type": "stream",
          "text": [
            "Archive:  Datasets.zip\n",
            "   creating: Datasets/\n",
            "  inflating: Datasets/fifa19.csv     \n",
            "  inflating: Datasets/.DS_Store      \n",
            "  inflating: Datasets/zomato.csv     \n",
            "  inflating: Datasets/nyc_air_bnb.csv  \n",
            "  inflating: Datasets/supermarket_sales.csv  \n",
            "  inflating: Datasets/users3.parquet  \n",
            "  inflating: Datasets/Toddler Autism dataset July 2018.csv  \n",
            "   creating: Datasets/uw-madison-courses/\n",
            "  inflating: Datasets/uw-madison-courses/course_offerings.csv  \n",
            "  inflating: Datasets/uw-madison-courses/sections.csv  \n",
            "  inflating: Datasets/uw-madison-courses/schedules.csv  \n",
            "  inflating: Datasets/uw-madison-courses/database.sqlite3  \n",
            "  inflating: Datasets/uw-madison-courses/rooms.csv  \n",
            "  inflating: Datasets/uw-madison-courses/teachings.csv  \n",
            "  inflating: Datasets/uw-madison-courses/subjects.csv  \n",
            "  inflating: Datasets/uw-madison-courses/subject_memberships.csv  \n",
            "  inflating: Datasets/uw-madison-courses/grade_distributions.csv  \n",
            "  inflating: Datasets/uw-madison-courses/instructors.csv  \n",
            "  inflating: Datasets/uw-madison-courses/courses.csv  \n",
            "  inflating: Datasets/googleplaystore.csv  \n",
            "  inflating: Datasets/Rep_vs_Dem_tweets.csv  \n",
            "  inflating: Datasets/users2.parquet  \n",
            "  inflating: Datasets/rec-crime-pfa.csv  \n",
            " extracting: Datasets/Weather.csv.zip  \n",
            "  inflating: Datasets/people.json    \n",
            "  inflating: Datasets/pga_tour_historical.csv  \n",
            "  inflating: Datasets/youtubevideos.csv  \n",
            "  inflating: Datasets/students.csv   \n",
            "  inflating: Datasets/users1.parquet  \n",
            "  inflating: Datasets/housing.csv    \n"
          ],
          "name": "stdout"
        }
      ]
    },
    {
      "cell_type": "markdown",
      "metadata": {
        "id": "HgUFLSSMd5lw"
      },
      "source": [
        "# Load Libraries"
      ]
    },
    {
      "cell_type": "code",
      "metadata": {
        "id": "0S-d4r9Kd5Ec"
      },
      "source": [
        "from pyspark.ml.feature import VectorAssembler, StringIndexer, MinMaxScaler,OneHotEncoder,StandardScaler\n",
        "from pyspark.sql.types import * \n",
        "\n",
        "from pyspark.ml.classification import *\n",
        "from pyspark.ml.evaluation import *\n",
        "from pyspark.sql.functions import *\n",
        "from pyspark.ml.tuning import CrossValidator, ParamGridBuilder\n",
        "from pyspark.mllib.evaluation import MulticlassMetrics\n",
        "\n",
        "import pandas as pd"
      ],
      "execution_count": 4,
      "outputs": []
    },
    {
      "cell_type": "markdown",
      "metadata": {
        "id": "7-hZLn9n9i1h"
      },
      "source": [
        "# ML Model Building"
      ]
    },
    {
      "cell_type": "code",
      "metadata": {
        "id": "5D9NODzC9iOn"
      },
      "source": [
        "path =\"Datasets/\"\n",
        "df = spark.read.csv(path+'Toddler Autism dataset July 2018.csv',inferSchema=True,header=True)"
      ],
      "execution_count": 5,
      "outputs": []
    },
    {
      "cell_type": "code",
      "metadata": {
        "colab": {
          "base_uri": "https://localhost:8080/",
          "height": 176
        },
        "id": "c5pEhnu_9hNO",
        "outputId": "060954aa-9abc-4eb1-f667-c654c67191ef"
      },
      "source": [
        "df.limit(3).toPandas()"
      ],
      "execution_count": 6,
      "outputs": [
        {
          "output_type": "execute_result",
          "data": {
            "text/html": [
              "<div>\n",
              "<style scoped>\n",
              "    .dataframe tbody tr th:only-of-type {\n",
              "        vertical-align: middle;\n",
              "    }\n",
              "\n",
              "    .dataframe tbody tr th {\n",
              "        vertical-align: top;\n",
              "    }\n",
              "\n",
              "    .dataframe thead th {\n",
              "        text-align: right;\n",
              "    }\n",
              "</style>\n",
              "<table border=\"1\" class=\"dataframe\">\n",
              "  <thead>\n",
              "    <tr style=\"text-align: right;\">\n",
              "      <th></th>\n",
              "      <th>Case_No</th>\n",
              "      <th>A1</th>\n",
              "      <th>A2</th>\n",
              "      <th>A3</th>\n",
              "      <th>A4</th>\n",
              "      <th>A5</th>\n",
              "      <th>A6</th>\n",
              "      <th>A7</th>\n",
              "      <th>A8</th>\n",
              "      <th>A9</th>\n",
              "      <th>A10</th>\n",
              "      <th>Age_Mons</th>\n",
              "      <th>Qchat-10-Score</th>\n",
              "      <th>Sex</th>\n",
              "      <th>Ethnicity</th>\n",
              "      <th>Jaundice</th>\n",
              "      <th>Family_mem_with_ASD</th>\n",
              "      <th>Who completed the test</th>\n",
              "      <th>Class/ASD Traits</th>\n",
              "    </tr>\n",
              "  </thead>\n",
              "  <tbody>\n",
              "    <tr>\n",
              "      <th>0</th>\n",
              "      <td>1</td>\n",
              "      <td>0</td>\n",
              "      <td>0</td>\n",
              "      <td>0</td>\n",
              "      <td>0</td>\n",
              "      <td>0</td>\n",
              "      <td>0</td>\n",
              "      <td>1</td>\n",
              "      <td>1</td>\n",
              "      <td>0</td>\n",
              "      <td>1</td>\n",
              "      <td>28</td>\n",
              "      <td>3</td>\n",
              "      <td>f</td>\n",
              "      <td>middle eastern</td>\n",
              "      <td>yes</td>\n",
              "      <td>no</td>\n",
              "      <td>family member</td>\n",
              "      <td>No</td>\n",
              "    </tr>\n",
              "    <tr>\n",
              "      <th>1</th>\n",
              "      <td>2</td>\n",
              "      <td>1</td>\n",
              "      <td>1</td>\n",
              "      <td>0</td>\n",
              "      <td>0</td>\n",
              "      <td>0</td>\n",
              "      <td>1</td>\n",
              "      <td>1</td>\n",
              "      <td>0</td>\n",
              "      <td>0</td>\n",
              "      <td>0</td>\n",
              "      <td>36</td>\n",
              "      <td>4</td>\n",
              "      <td>m</td>\n",
              "      <td>White European</td>\n",
              "      <td>yes</td>\n",
              "      <td>no</td>\n",
              "      <td>family member</td>\n",
              "      <td>Yes</td>\n",
              "    </tr>\n",
              "    <tr>\n",
              "      <th>2</th>\n",
              "      <td>3</td>\n",
              "      <td>1</td>\n",
              "      <td>0</td>\n",
              "      <td>0</td>\n",
              "      <td>0</td>\n",
              "      <td>0</td>\n",
              "      <td>0</td>\n",
              "      <td>1</td>\n",
              "      <td>1</td>\n",
              "      <td>0</td>\n",
              "      <td>1</td>\n",
              "      <td>36</td>\n",
              "      <td>4</td>\n",
              "      <td>m</td>\n",
              "      <td>middle eastern</td>\n",
              "      <td>yes</td>\n",
              "      <td>no</td>\n",
              "      <td>family member</td>\n",
              "      <td>Yes</td>\n",
              "    </tr>\n",
              "  </tbody>\n",
              "</table>\n",
              "</div>"
            ],
            "text/plain": [
              "   Case_No  A1  A2  ...  Family_mem_with_ASD  Who completed the test  Class/ASD Traits \n",
              "0        1   0   0  ...                   no           family member                 No\n",
              "1        2   1   1  ...                   no           family member                Yes\n",
              "2        3   1   0  ...                   no           family member                Yes\n",
              "\n",
              "[3 rows x 19 columns]"
            ]
          },
          "metadata": {},
          "execution_count": 6
        }
      ]
    },
    {
      "cell_type": "code",
      "metadata": {
        "colab": {
          "base_uri": "https://localhost:8080/"
        },
        "id": "5RF11fN9_8Om",
        "outputId": "aa9ee03a-2eae-44e0-ef99-b795ddc7b20b"
      },
      "source": [
        "df.printSchema()"
      ],
      "execution_count": 7,
      "outputs": [
        {
          "output_type": "stream",
          "text": [
            "root\n",
            " |-- Case_No: integer (nullable = true)\n",
            " |-- A1: integer (nullable = true)\n",
            " |-- A2: integer (nullable = true)\n",
            " |-- A3: integer (nullable = true)\n",
            " |-- A4: integer (nullable = true)\n",
            " |-- A5: integer (nullable = true)\n",
            " |-- A6: integer (nullable = true)\n",
            " |-- A7: integer (nullable = true)\n",
            " |-- A8: integer (nullable = true)\n",
            " |-- A9: integer (nullable = true)\n",
            " |-- A10: integer (nullable = true)\n",
            " |-- Age_Mons: integer (nullable = true)\n",
            " |-- Qchat-10-Score: integer (nullable = true)\n",
            " |-- Sex: string (nullable = true)\n",
            " |-- Ethnicity: string (nullable = true)\n",
            " |-- Jaundice: string (nullable = true)\n",
            " |-- Family_mem_with_ASD: string (nullable = true)\n",
            " |-- Who completed the test: string (nullable = true)\n",
            " |-- Class/ASD Traits : string (nullable = true)\n",
            "\n"
          ],
          "name": "stdout"
        }
      ]
    },
    {
      "cell_type": "code",
      "metadata": {
        "colab": {
          "base_uri": "https://localhost:8080/"
        },
        "id": "tbf0ZkygACDc",
        "outputId": "44eca79c-d327-46fc-a648-13d925457999"
      },
      "source": [
        "df.groupBy(\"Class/ASD Traits \").count().show()"
      ],
      "execution_count": 8,
      "outputs": [
        {
          "output_type": "stream",
          "text": [
            "+-----------------+-----+\n",
            "|Class/ASD Traits |count|\n",
            "+-----------------+-----+\n",
            "|               No|  326|\n",
            "|              Yes|  728|\n",
            "+-----------------+-----+\n",
            "\n"
          ],
          "name": "stdout"
        }
      ]
    },
    {
      "cell_type": "code",
      "metadata": {
        "id": "cFfFCvVkASYF"
      },
      "source": [
        "# input and output columns\n",
        "input_columns = df.columns              # Collect the column names as a list\n",
        "input_columns = input_columns[1:-1]     # keep only relevant columns: from column 1 to \n",
        "\n",
        "dependent_var = 'Class/ASD Traits '"
      ],
      "execution_count": 9,
      "outputs": []
    },
    {
      "cell_type": "code",
      "metadata": {
        "id": "hU-_jAQJG3Av"
      },
      "source": [
        "# Using StringIndexer built in method to format output label with zero index\n",
        "\n",
        "# change data type to string type\n",
        "renamed = df.withColumn(\"label_str\", df[dependent_var].cast(StringType())) \n",
        "\n",
        "# transform with string indexer\n",
        "indexer = StringIndexer(inputCol=\"label_str\", outputCol=\"label\")  \n",
        "indexed = indexer.fit(renamed).transform(renamed)"
      ],
      "execution_count": 10,
      "outputs": []
    },
    {
      "cell_type": "code",
      "metadata": {
        "colab": {
          "base_uri": "https://localhost:8080/",
          "height": 210
        },
        "id": "TAUv7W-VHwA9",
        "outputId": "851699b3-01e5-42f0-f7e9-117bfd98c97e"
      },
      "source": [
        "renamed.limit(3).toPandas()"
      ],
      "execution_count": 11,
      "outputs": [
        {
          "output_type": "execute_result",
          "data": {
            "text/html": [
              "<div>\n",
              "<style scoped>\n",
              "    .dataframe tbody tr th:only-of-type {\n",
              "        vertical-align: middle;\n",
              "    }\n",
              "\n",
              "    .dataframe tbody tr th {\n",
              "        vertical-align: top;\n",
              "    }\n",
              "\n",
              "    .dataframe thead th {\n",
              "        text-align: right;\n",
              "    }\n",
              "</style>\n",
              "<table border=\"1\" class=\"dataframe\">\n",
              "  <thead>\n",
              "    <tr style=\"text-align: right;\">\n",
              "      <th></th>\n",
              "      <th>Case_No</th>\n",
              "      <th>A1</th>\n",
              "      <th>A2</th>\n",
              "      <th>A3</th>\n",
              "      <th>A4</th>\n",
              "      <th>A5</th>\n",
              "      <th>A6</th>\n",
              "      <th>A7</th>\n",
              "      <th>A8</th>\n",
              "      <th>A9</th>\n",
              "      <th>A10</th>\n",
              "      <th>Age_Mons</th>\n",
              "      <th>Qchat-10-Score</th>\n",
              "      <th>Sex</th>\n",
              "      <th>Ethnicity</th>\n",
              "      <th>Jaundice</th>\n",
              "      <th>Family_mem_with_ASD</th>\n",
              "      <th>Who completed the test</th>\n",
              "      <th>Class/ASD Traits</th>\n",
              "      <th>label_str</th>\n",
              "    </tr>\n",
              "  </thead>\n",
              "  <tbody>\n",
              "    <tr>\n",
              "      <th>0</th>\n",
              "      <td>1</td>\n",
              "      <td>0</td>\n",
              "      <td>0</td>\n",
              "      <td>0</td>\n",
              "      <td>0</td>\n",
              "      <td>0</td>\n",
              "      <td>0</td>\n",
              "      <td>1</td>\n",
              "      <td>1</td>\n",
              "      <td>0</td>\n",
              "      <td>1</td>\n",
              "      <td>28</td>\n",
              "      <td>3</td>\n",
              "      <td>f</td>\n",
              "      <td>middle eastern</td>\n",
              "      <td>yes</td>\n",
              "      <td>no</td>\n",
              "      <td>family member</td>\n",
              "      <td>No</td>\n",
              "      <td>No</td>\n",
              "    </tr>\n",
              "    <tr>\n",
              "      <th>1</th>\n",
              "      <td>2</td>\n",
              "      <td>1</td>\n",
              "      <td>1</td>\n",
              "      <td>0</td>\n",
              "      <td>0</td>\n",
              "      <td>0</td>\n",
              "      <td>1</td>\n",
              "      <td>1</td>\n",
              "      <td>0</td>\n",
              "      <td>0</td>\n",
              "      <td>0</td>\n",
              "      <td>36</td>\n",
              "      <td>4</td>\n",
              "      <td>m</td>\n",
              "      <td>White European</td>\n",
              "      <td>yes</td>\n",
              "      <td>no</td>\n",
              "      <td>family member</td>\n",
              "      <td>Yes</td>\n",
              "      <td>Yes</td>\n",
              "    </tr>\n",
              "    <tr>\n",
              "      <th>2</th>\n",
              "      <td>3</td>\n",
              "      <td>1</td>\n",
              "      <td>0</td>\n",
              "      <td>0</td>\n",
              "      <td>0</td>\n",
              "      <td>0</td>\n",
              "      <td>0</td>\n",
              "      <td>1</td>\n",
              "      <td>1</td>\n",
              "      <td>0</td>\n",
              "      <td>1</td>\n",
              "      <td>36</td>\n",
              "      <td>4</td>\n",
              "      <td>m</td>\n",
              "      <td>middle eastern</td>\n",
              "      <td>yes</td>\n",
              "      <td>no</td>\n",
              "      <td>family member</td>\n",
              "      <td>Yes</td>\n",
              "      <td>Yes</td>\n",
              "    </tr>\n",
              "  </tbody>\n",
              "</table>\n",
              "</div>"
            ],
            "text/plain": [
              "   Case_No  A1  A2  ...  Who completed the test  Class/ASD Traits   label_str\n",
              "0        1   0   0  ...           family member                 No         No\n",
              "1        2   1   1  ...           family member                Yes        Yes\n",
              "2        3   1   0  ...           family member                Yes        Yes\n",
              "\n",
              "[3 rows x 20 columns]"
            ]
          },
          "metadata": {},
          "execution_count": 11
        }
      ]
    },
    {
      "cell_type": "code",
      "metadata": {
        "colab": {
          "base_uri": "https://localhost:8080/",
          "height": 227
        },
        "id": "GGNqKEneIrvx",
        "outputId": "cc7b0c4f-f9b8-4f54-e295-fe897cb0f071"
      },
      "source": [
        "indexed.limit(3).toPandas()"
      ],
      "execution_count": 12,
      "outputs": [
        {
          "output_type": "execute_result",
          "data": {
            "text/html": [
              "<div>\n",
              "<style scoped>\n",
              "    .dataframe tbody tr th:only-of-type {\n",
              "        vertical-align: middle;\n",
              "    }\n",
              "\n",
              "    .dataframe tbody tr th {\n",
              "        vertical-align: top;\n",
              "    }\n",
              "\n",
              "    .dataframe thead th {\n",
              "        text-align: right;\n",
              "    }\n",
              "</style>\n",
              "<table border=\"1\" class=\"dataframe\">\n",
              "  <thead>\n",
              "    <tr style=\"text-align: right;\">\n",
              "      <th></th>\n",
              "      <th>Case_No</th>\n",
              "      <th>A1</th>\n",
              "      <th>A2</th>\n",
              "      <th>A3</th>\n",
              "      <th>A4</th>\n",
              "      <th>A5</th>\n",
              "      <th>A6</th>\n",
              "      <th>A7</th>\n",
              "      <th>A8</th>\n",
              "      <th>A9</th>\n",
              "      <th>A10</th>\n",
              "      <th>Age_Mons</th>\n",
              "      <th>Qchat-10-Score</th>\n",
              "      <th>Sex</th>\n",
              "      <th>Ethnicity</th>\n",
              "      <th>Jaundice</th>\n",
              "      <th>Family_mem_with_ASD</th>\n",
              "      <th>Who completed the test</th>\n",
              "      <th>Class/ASD Traits</th>\n",
              "      <th>label_str</th>\n",
              "      <th>label</th>\n",
              "    </tr>\n",
              "  </thead>\n",
              "  <tbody>\n",
              "    <tr>\n",
              "      <th>0</th>\n",
              "      <td>1</td>\n",
              "      <td>0</td>\n",
              "      <td>0</td>\n",
              "      <td>0</td>\n",
              "      <td>0</td>\n",
              "      <td>0</td>\n",
              "      <td>0</td>\n",
              "      <td>1</td>\n",
              "      <td>1</td>\n",
              "      <td>0</td>\n",
              "      <td>1</td>\n",
              "      <td>28</td>\n",
              "      <td>3</td>\n",
              "      <td>f</td>\n",
              "      <td>middle eastern</td>\n",
              "      <td>yes</td>\n",
              "      <td>no</td>\n",
              "      <td>family member</td>\n",
              "      <td>No</td>\n",
              "      <td>No</td>\n",
              "      <td>1.0</td>\n",
              "    </tr>\n",
              "    <tr>\n",
              "      <th>1</th>\n",
              "      <td>2</td>\n",
              "      <td>1</td>\n",
              "      <td>1</td>\n",
              "      <td>0</td>\n",
              "      <td>0</td>\n",
              "      <td>0</td>\n",
              "      <td>1</td>\n",
              "      <td>1</td>\n",
              "      <td>0</td>\n",
              "      <td>0</td>\n",
              "      <td>0</td>\n",
              "      <td>36</td>\n",
              "      <td>4</td>\n",
              "      <td>m</td>\n",
              "      <td>White European</td>\n",
              "      <td>yes</td>\n",
              "      <td>no</td>\n",
              "      <td>family member</td>\n",
              "      <td>Yes</td>\n",
              "      <td>Yes</td>\n",
              "      <td>0.0</td>\n",
              "    </tr>\n",
              "    <tr>\n",
              "      <th>2</th>\n",
              "      <td>3</td>\n",
              "      <td>1</td>\n",
              "      <td>0</td>\n",
              "      <td>0</td>\n",
              "      <td>0</td>\n",
              "      <td>0</td>\n",
              "      <td>0</td>\n",
              "      <td>1</td>\n",
              "      <td>1</td>\n",
              "      <td>0</td>\n",
              "      <td>1</td>\n",
              "      <td>36</td>\n",
              "      <td>4</td>\n",
              "      <td>m</td>\n",
              "      <td>middle eastern</td>\n",
              "      <td>yes</td>\n",
              "      <td>no</td>\n",
              "      <td>family member</td>\n",
              "      <td>Yes</td>\n",
              "      <td>Yes</td>\n",
              "      <td>0.0</td>\n",
              "    </tr>\n",
              "  </tbody>\n",
              "</table>\n",
              "</div>"
            ],
            "text/plain": [
              "   Case_No  A1  A2  ...  Class/ASD Traits   label_str  label\n",
              "0        1   0   0  ...                 No         No    1.0\n",
              "1        2   1   1  ...                Yes        Yes    0.0\n",
              "2        3   1   0  ...                Yes        Yes    0.0\n",
              "\n",
              "[3 rows x 21 columns]"
            ]
          },
          "metadata": {},
          "execution_count": 12
        }
      ]
    },
    {
      "cell_type": "code",
      "metadata": {
        "colab": {
          "base_uri": "https://localhost:8080/"
        },
        "id": "pX4HVtVNHzC3",
        "outputId": "5134f0f3-87d5-4622-b7ae-d1ff90db078b"
      },
      "source": [
        "df.rdd.id(),renamed.rdd.id(), indexed.rdd.id()"
      ],
      "execution_count": 13,
      "outputs": [
        {
          "output_type": "execute_result",
          "data": {
            "text/plain": [
              "(40, 46, 52)"
            ]
          },
          "metadata": {},
          "execution_count": 13
        }
      ]
    },
    {
      "cell_type": "code",
      "metadata": {
        "id": "dHfTHmMTN7uc"
      },
      "source": [
        "# train test split\n",
        "train = indexed.sampleBy(\"label\", fractions={0: 0.7, 1: 0.7}, seed=10)\n",
        "test = indexed.subtract(train)"
      ],
      "execution_count": 14,
      "outputs": []
    },
    {
      "cell_type": "code",
      "metadata": {
        "colab": {
          "base_uri": "https://localhost:8080/"
        },
        "id": "ypLPlYXYPFy9",
        "outputId": "f7026035-276c-4969-edd5-fddb46a43cf7"
      },
      "source": [
        "train.groupby('label').count().show()"
      ],
      "execution_count": 15,
      "outputs": [
        {
          "output_type": "stream",
          "text": [
            "+-----+-----+\n",
            "|label|count|\n",
            "+-----+-----+\n",
            "|  0.0|  494|\n",
            "|  1.0|  230|\n",
            "+-----+-----+\n",
            "\n"
          ],
          "name": "stdout"
        }
      ]
    },
    {
      "cell_type": "code",
      "metadata": {
        "colab": {
          "base_uri": "https://localhost:8080/"
        },
        "id": "iiMRg_fQPQJj",
        "outputId": "0f66e542-423a-4749-977d-fc2f33cfb9f6"
      },
      "source": [
        "test.groupby('label').count().show()"
      ],
      "execution_count": 16,
      "outputs": [
        {
          "output_type": "stream",
          "text": [
            "+-----+-----+\n",
            "|label|count|\n",
            "+-----+-----+\n",
            "|  0.0|  234|\n",
            "|  1.0|   96|\n",
            "+-----+-----+\n",
            "\n"
          ],
          "name": "stdout"
        }
      ]
    },
    {
      "cell_type": "code",
      "metadata": {
        "colab": {
          "base_uri": "https://localhost:8080/"
        },
        "id": "TE_2purVPoKw",
        "outputId": "5baf8524-a0f7-4db7-9c33-aa268cc4c396"
      },
      "source": [
        "train.count(),test.count()"
      ],
      "execution_count": 17,
      "outputs": [
        {
          "output_type": "execute_result",
          "data": {
            "text/plain": [
              "(724, 330)"
            ]
          },
          "metadata": {},
          "execution_count": 17
        }
      ]
    },
    {
      "cell_type": "code",
      "metadata": {
        "id": "ArOIqktYICvJ"
      },
      "source": [
        "# Convert String data type to numeric\n",
        "\n",
        "numeric_inputs = []\n",
        "string_inputs = []\n",
        "labels = {}\n",
        "\n",
        "for column in input_columns:\n",
        "    \n",
        "    if str(train.schema[column].dataType) == 'StringType':\n",
        "        \n",
        "        # convert string to numeric\n",
        "        indexer = StringIndexer(inputCol=column, outputCol=column+\"_num\") \n",
        "        indexer = indexer.fit(train)\n",
        "        train  =  indexer.transform(train)\n",
        "        test    =  indexer.transform(test)\n",
        "        labels[column]=indexer.labels\n",
        "\n",
        "        # encode numeric string to one hot encoder -default drop lasts category\n",
        "        encoder = OneHotEncoder(inputCol=column+\"_num\", outputCol=column+\"_enc\")\n",
        "        encoder = encoder.fit(train)\n",
        "        train = encoder.transform(train)\n",
        "        test = encoder.transform(test)\n",
        "\n",
        "        new_col_name = column+\"_enc\"\n",
        "        string_inputs.append(new_col_name)\n",
        "    \n",
        "    else:\n",
        "       numeric_inputs.append(column)"
      ],
      "execution_count": 18,
      "outputs": []
    },
    {
      "cell_type": "code",
      "metadata": {
        "colab": {
          "base_uri": "https://localhost:8080/",
          "height": 315
        },
        "id": "-T0ds1tQ9pkX",
        "outputId": "f6fa3f12-8440-45d0-d78a-7c69954c8494"
      },
      "source": [
        "train.limit(3).toPandas()"
      ],
      "execution_count": 19,
      "outputs": [
        {
          "output_type": "execute_result",
          "data": {
            "text/html": [
              "<div>\n",
              "<style scoped>\n",
              "    .dataframe tbody tr th:only-of-type {\n",
              "        vertical-align: middle;\n",
              "    }\n",
              "\n",
              "    .dataframe tbody tr th {\n",
              "        vertical-align: top;\n",
              "    }\n",
              "\n",
              "    .dataframe thead th {\n",
              "        text-align: right;\n",
              "    }\n",
              "</style>\n",
              "<table border=\"1\" class=\"dataframe\">\n",
              "  <thead>\n",
              "    <tr style=\"text-align: right;\">\n",
              "      <th></th>\n",
              "      <th>Case_No</th>\n",
              "      <th>A1</th>\n",
              "      <th>A2</th>\n",
              "      <th>A3</th>\n",
              "      <th>A4</th>\n",
              "      <th>A5</th>\n",
              "      <th>A6</th>\n",
              "      <th>A7</th>\n",
              "      <th>A8</th>\n",
              "      <th>A9</th>\n",
              "      <th>A10</th>\n",
              "      <th>Age_Mons</th>\n",
              "      <th>Qchat-10-Score</th>\n",
              "      <th>Sex</th>\n",
              "      <th>Ethnicity</th>\n",
              "      <th>Jaundice</th>\n",
              "      <th>Family_mem_with_ASD</th>\n",
              "      <th>Who completed the test</th>\n",
              "      <th>Class/ASD Traits</th>\n",
              "      <th>label_str</th>\n",
              "      <th>label</th>\n",
              "      <th>Sex_num</th>\n",
              "      <th>Sex_enc</th>\n",
              "      <th>Ethnicity_num</th>\n",
              "      <th>Ethnicity_enc</th>\n",
              "      <th>Jaundice_num</th>\n",
              "      <th>Jaundice_enc</th>\n",
              "      <th>Family_mem_with_ASD_num</th>\n",
              "      <th>Family_mem_with_ASD_enc</th>\n",
              "      <th>Who completed the test_num</th>\n",
              "      <th>Who completed the test_enc</th>\n",
              "    </tr>\n",
              "  </thead>\n",
              "  <tbody>\n",
              "    <tr>\n",
              "      <th>0</th>\n",
              "      <td>1</td>\n",
              "      <td>0</td>\n",
              "      <td>0</td>\n",
              "      <td>0</td>\n",
              "      <td>0</td>\n",
              "      <td>0</td>\n",
              "      <td>0</td>\n",
              "      <td>1</td>\n",
              "      <td>1</td>\n",
              "      <td>0</td>\n",
              "      <td>1</td>\n",
              "      <td>28</td>\n",
              "      <td>3</td>\n",
              "      <td>f</td>\n",
              "      <td>middle eastern</td>\n",
              "      <td>yes</td>\n",
              "      <td>no</td>\n",
              "      <td>family member</td>\n",
              "      <td>No</td>\n",
              "      <td>No</td>\n",
              "      <td>1.0</td>\n",
              "      <td>1.0</td>\n",
              "      <td>(0.0)</td>\n",
              "      <td>2.0</td>\n",
              "      <td>(0.0, 0.0, 1.0, 0.0, 0.0, 0.0, 0.0, 0.0, 0.0, ...</td>\n",
              "      <td>1.0</td>\n",
              "      <td>(0.0)</td>\n",
              "      <td>0.0</td>\n",
              "      <td>(1.0)</td>\n",
              "      <td>0.0</td>\n",
              "      <td>(1.0, 0.0, 0.0, 0.0)</td>\n",
              "    </tr>\n",
              "    <tr>\n",
              "      <th>1</th>\n",
              "      <td>3</td>\n",
              "      <td>1</td>\n",
              "      <td>0</td>\n",
              "      <td>0</td>\n",
              "      <td>0</td>\n",
              "      <td>0</td>\n",
              "      <td>0</td>\n",
              "      <td>1</td>\n",
              "      <td>1</td>\n",
              "      <td>0</td>\n",
              "      <td>1</td>\n",
              "      <td>36</td>\n",
              "      <td>4</td>\n",
              "      <td>m</td>\n",
              "      <td>middle eastern</td>\n",
              "      <td>yes</td>\n",
              "      <td>no</td>\n",
              "      <td>family member</td>\n",
              "      <td>Yes</td>\n",
              "      <td>Yes</td>\n",
              "      <td>0.0</td>\n",
              "      <td>0.0</td>\n",
              "      <td>(1.0)</td>\n",
              "      <td>2.0</td>\n",
              "      <td>(0.0, 0.0, 1.0, 0.0, 0.0, 0.0, 0.0, 0.0, 0.0, ...</td>\n",
              "      <td>1.0</td>\n",
              "      <td>(0.0)</td>\n",
              "      <td>0.0</td>\n",
              "      <td>(1.0)</td>\n",
              "      <td>0.0</td>\n",
              "      <td>(1.0, 0.0, 0.0, 0.0)</td>\n",
              "    </tr>\n",
              "    <tr>\n",
              "      <th>2</th>\n",
              "      <td>5</td>\n",
              "      <td>1</td>\n",
              "      <td>1</td>\n",
              "      <td>0</td>\n",
              "      <td>1</td>\n",
              "      <td>1</td>\n",
              "      <td>1</td>\n",
              "      <td>1</td>\n",
              "      <td>1</td>\n",
              "      <td>1</td>\n",
              "      <td>1</td>\n",
              "      <td>20</td>\n",
              "      <td>9</td>\n",
              "      <td>f</td>\n",
              "      <td>White European</td>\n",
              "      <td>no</td>\n",
              "      <td>yes</td>\n",
              "      <td>family member</td>\n",
              "      <td>Yes</td>\n",
              "      <td>Yes</td>\n",
              "      <td>0.0</td>\n",
              "      <td>1.0</td>\n",
              "      <td>(0.0)</td>\n",
              "      <td>0.0</td>\n",
              "      <td>(1.0, 0.0, 0.0, 0.0, 0.0, 0.0, 0.0, 0.0, 0.0, ...</td>\n",
              "      <td>0.0</td>\n",
              "      <td>(1.0)</td>\n",
              "      <td>1.0</td>\n",
              "      <td>(0.0)</td>\n",
              "      <td>0.0</td>\n",
              "      <td>(1.0, 0.0, 0.0, 0.0)</td>\n",
              "    </tr>\n",
              "  </tbody>\n",
              "</table>\n",
              "</div>"
            ],
            "text/plain": [
              "   Case_No  A1  ...  Who completed the test_num  Who completed the test_enc\n",
              "0        1   0  ...                         0.0        (1.0, 0.0, 0.0, 0.0)\n",
              "1        3   1  ...                         0.0        (1.0, 0.0, 0.0, 0.0)\n",
              "2        5   1  ...                         0.0        (1.0, 0.0, 0.0, 0.0)\n",
              "\n",
              "[3 rows x 31 columns]"
            ]
          },
          "metadata": {},
          "execution_count": 19
        }
      ]
    },
    {
      "cell_type": "code",
      "metadata": {
        "colab": {
          "base_uri": "https://localhost:8080/"
        },
        "id": "6iqX8bopTgnF",
        "outputId": "baa1b119-07ff-4d39-e1e0-b934ef77de18"
      },
      "source": [
        "labels"
      ],
      "execution_count": 20,
      "outputs": [
        {
          "output_type": "execute_result",
          "data": {
            "text/plain": [
              "{'Ethnicity': ['White European',\n",
              "  'asian',\n",
              "  'middle eastern',\n",
              "  'black',\n",
              "  'south asian',\n",
              "  'Others',\n",
              "  'Hispanic',\n",
              "  'Latino',\n",
              "  'mixed',\n",
              "  'Pacifica',\n",
              "  'Native Indian'],\n",
              " 'Family_mem_with_ASD': ['no', 'yes'],\n",
              " 'Jaundice': ['no', 'yes'],\n",
              " 'Sex': ['m', 'f'],\n",
              " 'Who completed the test': ['family member',\n",
              "  'Health Care Professional',\n",
              "  'Health care professional',\n",
              "  'Others',\n",
              "  'Self']}"
            ]
          },
          "metadata": {},
          "execution_count": 20
        }
      ]
    },
    {
      "cell_type": "code",
      "metadata": {
        "colab": {
          "base_uri": "https://localhost:8080/"
        },
        "id": "JA0WXUpy9vb6",
        "outputId": "45baca86-f28e-4105-f5e5-9f4be3259a3b"
      },
      "source": [
        "# treating outlier by caopping quantiles value\n",
        "d = {}\n",
        "for col in numeric_inputs: \n",
        "    d[col] = train.approxQuantile(col,[0.01,0.99],0.25)\n",
        "d"
      ],
      "execution_count": 21,
      "outputs": [
        {
          "output_type": "execute_result",
          "data": {
            "text/plain": [
              "{'A1': [0.0, 1.0],\n",
              " 'A10': [0.0, 1.0],\n",
              " 'A2': [0.0, 1.0],\n",
              " 'A3': [0.0, 1.0],\n",
              " 'A4': [0.0, 1.0],\n",
              " 'A5': [0.0, 1.0],\n",
              " 'A6': [0.0, 1.0],\n",
              " 'A7': [0.0, 1.0],\n",
              " 'A8': [0.0, 1.0],\n",
              " 'A9': [0.0, 1.0],\n",
              " 'Age_Mons': [12.0, 36.0],\n",
              " 'Qchat-10-Score': [0.0, 10.0]}"
            ]
          },
          "metadata": {},
          "execution_count": 21
        }
      ]
    },
    {
      "cell_type": "code",
      "metadata": {
        "id": "MCbjRqSz-PXu"
      },
      "source": [
        "# treatment for skewness and outlier\n",
        "\n",
        "for key,data in {'train':train,'test':test}.items():\n",
        "    for col in numeric_inputs:\n",
        "        \n",
        "        # compute skewness    \n",
        "        skew = data.agg(skewness(data[col])).collect() \n",
        "        skew = skew[0][0]\n",
        "\n",
        "        # treatement for right skew - floor, cap and log(x+1)\n",
        "        if skew > 1: \n",
        "            data = data.withColumn(col,log(when(data[col] < d[col][0],d[col][0]).when(data[col] > d[col][1], d[col][1]).otherwise(data[col] ) +1).alias(col))\n",
        "            print(f\"{key} {col} has been treated for positive (right) skewness. (skew = {skew})\")\n",
        "        \n",
        "        # treatment for left skew - floor, cap and exp(x)\n",
        "        elif skew < -1:\n",
        "            data = data.withColumn(col,exp(when(data[col] < d[col][0],d[col][0]).when(data[col] > d[col][1], d[col][1]).otherwise(data[col] )).alias(col))\n",
        "            print(f\"{key} {col} has been treated for negative (left) skewness. (skew = {skew})\")"
      ],
      "execution_count": 22,
      "outputs": []
    },
    {
      "cell_type": "code",
      "metadata": {
        "colab": {
          "base_uri": "https://localhost:8080/"
        },
        "id": "3CqTga9DA6X4",
        "outputId": "ccfb2763-9325-496f-e556-6ab5ad2b0f9c"
      },
      "source": [
        "features_list = numeric_inputs + string_inputs\n",
        "features_list"
      ],
      "execution_count": 23,
      "outputs": [
        {
          "output_type": "execute_result",
          "data": {
            "text/plain": [
              "['A1',\n",
              " 'A2',\n",
              " 'A3',\n",
              " 'A4',\n",
              " 'A5',\n",
              " 'A6',\n",
              " 'A7',\n",
              " 'A8',\n",
              " 'A9',\n",
              " 'A10',\n",
              " 'Age_Mons',\n",
              " 'Qchat-10-Score',\n",
              " 'Sex_enc',\n",
              " 'Ethnicity_enc',\n",
              " 'Jaundice_enc',\n",
              " 'Family_mem_with_ASD_enc',\n",
              " 'Who completed the test_enc']"
            ]
          },
          "metadata": {},
          "execution_count": 23
        }
      ]
    },
    {
      "cell_type": "code",
      "metadata": {
        "colab": {
          "base_uri": "https://localhost:8080/"
        },
        "id": "F1bLI-pETsap",
        "outputId": "800fcbeb-2b45-4d2a-a9ec-a92ba97a59ba"
      },
      "source": [
        "features_names = []\n",
        "for name in features_list:\n",
        "    if \"_enc\" in name:\n",
        "        x = name.split('_enc')[0]\n",
        "         # last category is dropped hence not adding to feature names\n",
        "        for idx in range(0,len(labels[x])-1):\n",
        "            enc = labels[x][idx]\n",
        "            value = f\"{x}-{enc}\"\n",
        "            features_names.append(value)\n",
        "    else:\n",
        "        value = name\n",
        "        features_names.append(value)\n",
        "features_names"
      ],
      "execution_count": 24,
      "outputs": [
        {
          "output_type": "execute_result",
          "data": {
            "text/plain": [
              "['A1',\n",
              " 'A2',\n",
              " 'A3',\n",
              " 'A4',\n",
              " 'A5',\n",
              " 'A6',\n",
              " 'A7',\n",
              " 'A8',\n",
              " 'A9',\n",
              " 'A10',\n",
              " 'Age_Mons',\n",
              " 'Qchat-10-Score',\n",
              " 'Sex-m',\n",
              " 'Ethnicity-White European',\n",
              " 'Ethnicity-asian',\n",
              " 'Ethnicity-middle eastern',\n",
              " 'Ethnicity-black',\n",
              " 'Ethnicity-south asian',\n",
              " 'Ethnicity-Others',\n",
              " 'Ethnicity-Hispanic',\n",
              " 'Ethnicity-Latino',\n",
              " 'Ethnicity-mixed',\n",
              " 'Ethnicity-Pacifica',\n",
              " 'Jaundice-no',\n",
              " 'Family_mem_with_ASD-no',\n",
              " 'Who completed the test-family member',\n",
              " 'Who completed the test-Health Care Professional',\n",
              " 'Who completed the test-Health care professional',\n",
              " 'Who completed the test-Others']"
            ]
          },
          "metadata": {},
          "execution_count": 24
        }
      ]
    },
    {
      "cell_type": "code",
      "metadata": {
        "colab": {
          "base_uri": "https://localhost:8080/"
        },
        "id": "vcL0oMTrEJ2Y",
        "outputId": "149d82ff-d2d1-4f65-f4dd-567621f85995"
      },
      "source": [
        "len(features_names)"
      ],
      "execution_count": 25,
      "outputs": [
        {
          "output_type": "execute_result",
          "data": {
            "text/plain": [
              "29"
            ]
          },
          "metadata": {},
          "execution_count": 25
        }
      ]
    },
    {
      "cell_type": "code",
      "metadata": {
        "colab": {
          "base_uri": "https://localhost:8080/",
          "height": 219
        },
        "id": "h0ptyC6TBCoh",
        "outputId": "2ad3f828-c143-435e-c6f1-9702f3102ba8"
      },
      "source": [
        "# vectorized input features\n",
        "assembler = VectorAssembler(inputCols=features_list,outputCol='features')\n",
        "train_vec = assembler.transform(train)\n",
        "train_vec.limit(1).toPandas()"
      ],
      "execution_count": 26,
      "outputs": [
        {
          "output_type": "execute_result",
          "data": {
            "text/html": [
              "<div>\n",
              "<style scoped>\n",
              "    .dataframe tbody tr th:only-of-type {\n",
              "        vertical-align: middle;\n",
              "    }\n",
              "\n",
              "    .dataframe tbody tr th {\n",
              "        vertical-align: top;\n",
              "    }\n",
              "\n",
              "    .dataframe thead th {\n",
              "        text-align: right;\n",
              "    }\n",
              "</style>\n",
              "<table border=\"1\" class=\"dataframe\">\n",
              "  <thead>\n",
              "    <tr style=\"text-align: right;\">\n",
              "      <th></th>\n",
              "      <th>Case_No</th>\n",
              "      <th>A1</th>\n",
              "      <th>A2</th>\n",
              "      <th>A3</th>\n",
              "      <th>A4</th>\n",
              "      <th>A5</th>\n",
              "      <th>A6</th>\n",
              "      <th>A7</th>\n",
              "      <th>A8</th>\n",
              "      <th>A9</th>\n",
              "      <th>A10</th>\n",
              "      <th>Age_Mons</th>\n",
              "      <th>Qchat-10-Score</th>\n",
              "      <th>Sex</th>\n",
              "      <th>Ethnicity</th>\n",
              "      <th>Jaundice</th>\n",
              "      <th>Family_mem_with_ASD</th>\n",
              "      <th>Who completed the test</th>\n",
              "      <th>Class/ASD Traits</th>\n",
              "      <th>label_str</th>\n",
              "      <th>label</th>\n",
              "      <th>Sex_num</th>\n",
              "      <th>Sex_enc</th>\n",
              "      <th>Ethnicity_num</th>\n",
              "      <th>Ethnicity_enc</th>\n",
              "      <th>Jaundice_num</th>\n",
              "      <th>Jaundice_enc</th>\n",
              "      <th>Family_mem_with_ASD_num</th>\n",
              "      <th>Family_mem_with_ASD_enc</th>\n",
              "      <th>Who completed the test_num</th>\n",
              "      <th>Who completed the test_enc</th>\n",
              "      <th>features</th>\n",
              "    </tr>\n",
              "  </thead>\n",
              "  <tbody>\n",
              "    <tr>\n",
              "      <th>0</th>\n",
              "      <td>1</td>\n",
              "      <td>0</td>\n",
              "      <td>0</td>\n",
              "      <td>0</td>\n",
              "      <td>0</td>\n",
              "      <td>0</td>\n",
              "      <td>0</td>\n",
              "      <td>1</td>\n",
              "      <td>1</td>\n",
              "      <td>0</td>\n",
              "      <td>1</td>\n",
              "      <td>28</td>\n",
              "      <td>3</td>\n",
              "      <td>f</td>\n",
              "      <td>middle eastern</td>\n",
              "      <td>yes</td>\n",
              "      <td>no</td>\n",
              "      <td>family member</td>\n",
              "      <td>No</td>\n",
              "      <td>No</td>\n",
              "      <td>1.0</td>\n",
              "      <td>1.0</td>\n",
              "      <td>(0.0)</td>\n",
              "      <td>2.0</td>\n",
              "      <td>(0.0, 0.0, 1.0, 0.0, 0.0, 0.0, 0.0, 0.0, 0.0, ...</td>\n",
              "      <td>1.0</td>\n",
              "      <td>(0.0)</td>\n",
              "      <td>0.0</td>\n",
              "      <td>(1.0)</td>\n",
              "      <td>0.0</td>\n",
              "      <td>(1.0, 0.0, 0.0, 0.0)</td>\n",
              "      <td>(0.0, 0.0, 0.0, 0.0, 0.0, 0.0, 1.0, 1.0, 0.0, ...</td>\n",
              "    </tr>\n",
              "  </tbody>\n",
              "</table>\n",
              "</div>"
            ],
            "text/plain": [
              "   Case_No  ...                                           features\n",
              "0        1  ...  (0.0, 0.0, 0.0, 0.0, 0.0, 0.0, 1.0, 1.0, 0.0, ...\n",
              "\n",
              "[1 rows x 32 columns]"
            ]
          },
          "metadata": {},
          "execution_count": 26
        }
      ]
    },
    {
      "cell_type": "code",
      "metadata": {
        "colab": {
          "base_uri": "https://localhost:8080/",
          "height": 142
        },
        "id": "H316XzKIBSFF",
        "outputId": "cd9cfbd1-5ec3-4da9-84a2-779eb03f79cb"
      },
      "source": [
        "# select input and output columm\n",
        "train_vec = train_vec.select('features','label')\n",
        "train_vec.limit(3).toPandas()"
      ],
      "execution_count": 27,
      "outputs": [
        {
          "output_type": "execute_result",
          "data": {
            "text/html": [
              "<div>\n",
              "<style scoped>\n",
              "    .dataframe tbody tr th:only-of-type {\n",
              "        vertical-align: middle;\n",
              "    }\n",
              "\n",
              "    .dataframe tbody tr th {\n",
              "        vertical-align: top;\n",
              "    }\n",
              "\n",
              "    .dataframe thead th {\n",
              "        text-align: right;\n",
              "    }\n",
              "</style>\n",
              "<table border=\"1\" class=\"dataframe\">\n",
              "  <thead>\n",
              "    <tr style=\"text-align: right;\">\n",
              "      <th></th>\n",
              "      <th>features</th>\n",
              "      <th>label</th>\n",
              "    </tr>\n",
              "  </thead>\n",
              "  <tbody>\n",
              "    <tr>\n",
              "      <th>0</th>\n",
              "      <td>(0.0, 0.0, 0.0, 0.0, 0.0, 0.0, 1.0, 1.0, 0.0, ...</td>\n",
              "      <td>1.0</td>\n",
              "    </tr>\n",
              "    <tr>\n",
              "      <th>1</th>\n",
              "      <td>(1.0, 0.0, 0.0, 0.0, 0.0, 0.0, 1.0, 1.0, 0.0, ...</td>\n",
              "      <td>0.0</td>\n",
              "    </tr>\n",
              "    <tr>\n",
              "      <th>2</th>\n",
              "      <td>(1.0, 1.0, 0.0, 1.0, 1.0, 1.0, 1.0, 1.0, 1.0, ...</td>\n",
              "      <td>0.0</td>\n",
              "    </tr>\n",
              "  </tbody>\n",
              "</table>\n",
              "</div>"
            ],
            "text/plain": [
              "                                            features  label\n",
              "0  (0.0, 0.0, 0.0, 0.0, 0.0, 0.0, 1.0, 1.0, 0.0, ...    1.0\n",
              "1  (1.0, 0.0, 0.0, 0.0, 0.0, 0.0, 1.0, 1.0, 0.0, ...    0.0\n",
              "2  (1.0, 1.0, 0.0, 1.0, 1.0, 1.0, 1.0, 1.0, 1.0, ...    0.0"
            ]
          },
          "metadata": {},
          "execution_count": 27
        }
      ]
    },
    {
      "cell_type": "code",
      "metadata": {
        "colab": {
          "base_uri": "https://localhost:8080/",
          "height": 142
        },
        "id": "BvZBMZX4SCg5",
        "outputId": "e2ee0b9c-4227-4489-f833-13efeb87d94a"
      },
      "source": [
        "test_vec = assembler.transform(test)\n",
        "test_vec = test_vec.select('features','label')\n",
        "test_vec.limit(3).toPandas()"
      ],
      "execution_count": 28,
      "outputs": [
        {
          "output_type": "execute_result",
          "data": {
            "text/html": [
              "<div>\n",
              "<style scoped>\n",
              "    .dataframe tbody tr th:only-of-type {\n",
              "        vertical-align: middle;\n",
              "    }\n",
              "\n",
              "    .dataframe tbody tr th {\n",
              "        vertical-align: top;\n",
              "    }\n",
              "\n",
              "    .dataframe thead th {\n",
              "        text-align: right;\n",
              "    }\n",
              "</style>\n",
              "<table border=\"1\" class=\"dataframe\">\n",
              "  <thead>\n",
              "    <tr style=\"text-align: right;\">\n",
              "      <th></th>\n",
              "      <th>features</th>\n",
              "      <th>label</th>\n",
              "    </tr>\n",
              "  </thead>\n",
              "  <tbody>\n",
              "    <tr>\n",
              "      <th>0</th>\n",
              "      <td>(1.0, 1.0, 0.0, 1.0, 1.0, 0.0, 1.0, 0.0, 0.0, ...</td>\n",
              "      <td>0.0</td>\n",
              "    </tr>\n",
              "    <tr>\n",
              "      <th>1</th>\n",
              "      <td>(1.0, 1.0, 0.0, 0.0, 1.0, 1.0, 1.0, 0.0, 1.0, ...</td>\n",
              "      <td>0.0</td>\n",
              "    </tr>\n",
              "    <tr>\n",
              "      <th>2</th>\n",
              "      <td>(1.0, 1.0, 1.0, 1.0, 1.0, 1.0, 1.0, 1.0, 1.0, ...</td>\n",
              "      <td>0.0</td>\n",
              "    </tr>\n",
              "  </tbody>\n",
              "</table>\n",
              "</div>"
            ],
            "text/plain": [
              "                                            features  label\n",
              "0  (1.0, 1.0, 0.0, 1.0, 1.0, 0.0, 1.0, 0.0, 0.0, ...    0.0\n",
              "1  (1.0, 1.0, 0.0, 0.0, 1.0, 1.0, 1.0, 0.0, 1.0, ...    0.0\n",
              "2  (1.0, 1.0, 1.0, 1.0, 1.0, 1.0, 1.0, 1.0, 1.0, ...    0.0"
            ]
          },
          "metadata": {},
          "execution_count": 28
        }
      ]
    },
    {
      "cell_type": "code",
      "metadata": {
        "colab": {
          "base_uri": "https://localhost:8080/",
          "height": 142
        },
        "id": "4TfgoAZjCaJc",
        "outputId": "d64a3e6c-e1f8-41f3-c9ee-f47888693aeb"
      },
      "source": [
        "# scaling the vectors\n",
        "scaler = StandardScaler(inputCol=\"features\", outputCol=\"scaledFeatures\" )\n",
        "scaler = scaler.fit(train_vec)\n",
        "\n",
        "final_train = scaler.transform(train_vec)\n",
        "final_test = scaler.transform(test_vec)\n",
        "\n",
        "final_train = final_train.select('label','scaledFeatures').withColumnRenamed(\"scaledFeatures\",\"features\")\n",
        "final_test = final_test.select('label','scaledFeatures').withColumnRenamed(\"scaledFeatures\",\"features\")\n",
        "\n",
        "final_train.limit(3).toPandas()"
      ],
      "execution_count": 29,
      "outputs": [
        {
          "output_type": "execute_result",
          "data": {
            "text/html": [
              "<div>\n",
              "<style scoped>\n",
              "    .dataframe tbody tr th:only-of-type {\n",
              "        vertical-align: middle;\n",
              "    }\n",
              "\n",
              "    .dataframe tbody tr th {\n",
              "        vertical-align: top;\n",
              "    }\n",
              "\n",
              "    .dataframe thead th {\n",
              "        text-align: right;\n",
              "    }\n",
              "</style>\n",
              "<table border=\"1\" class=\"dataframe\">\n",
              "  <thead>\n",
              "    <tr style=\"text-align: right;\">\n",
              "      <th></th>\n",
              "      <th>label</th>\n",
              "      <th>features</th>\n",
              "    </tr>\n",
              "  </thead>\n",
              "  <tbody>\n",
              "    <tr>\n",
              "      <th>0</th>\n",
              "      <td>1.0</td>\n",
              "      <td>(0.0, 0.0, 0.0, 0.0, 0.0, 0.0, 2.0778303943445...</td>\n",
              "    </tr>\n",
              "    <tr>\n",
              "      <th>1</th>\n",
              "      <td>0.0</td>\n",
              "      <td>(2.010932390109971, 0.0, 0.0, 0.0, 0.0, 0.0, 2...</td>\n",
              "    </tr>\n",
              "    <tr>\n",
              "      <th>2</th>\n",
              "      <td>0.0</td>\n",
              "      <td>(2.010932390109971, 2.011561859255275, 0.0, 1....</td>\n",
              "    </tr>\n",
              "  </tbody>\n",
              "</table>\n",
              "</div>"
            ],
            "text/plain": [
              "   label                                           features\n",
              "0    1.0  (0.0, 0.0, 0.0, 0.0, 0.0, 0.0, 2.0778303943445...\n",
              "1    0.0  (2.010932390109971, 0.0, 0.0, 0.0, 0.0, 0.0, 2...\n",
              "2    0.0  (2.010932390109971, 2.011561859255275, 0.0, 1...."
            ]
          },
          "metadata": {},
          "execution_count": 29
        }
      ]
    },
    {
      "cell_type": "code",
      "metadata": {
        "colab": {
          "base_uri": "https://localhost:8080/"
        },
        "id": "9T0weHS5YQS9",
        "outputId": "c9da027f-0a91-4fd4-f67f-bebe05afe982"
      },
      "source": [
        "# compute class weight\n",
        "neg_count = train.where(train['label'] == 1).count() \n",
        "data_size = train.count()\n",
        "balance_ratio =  (data_size - neg_count)/ data_size\n",
        "balance_ratio"
      ],
      "execution_count": 30,
      "outputs": [
        {
          "output_type": "execute_result",
          "data": {
            "text/plain": [
              "0.6823204419889503"
            ]
          },
          "metadata": {},
          "execution_count": 30
        }
      ]
    },
    {
      "cell_type": "code",
      "metadata": {
        "colab": {
          "base_uri": "https://localhost:8080/",
          "height": 142
        },
        "id": "DZ6fmENyXJnR",
        "outputId": "25f762da-9fd4-447e-c045-a2790272b376"
      },
      "source": [
        "# function to assing class weight to each tow\n",
        "get_class_weights = udf(lambda x: 1 * balance_ratio if x == 0 else (1 * (1.0 - balance_ratio)), DoubleType())\n",
        "\n",
        "final_train = final_train.withColumn(\"class_weight\", get_class_weights(\"label\"))\n",
        "final_test = final_test.withColumn(\"class_weight\", get_class_weights(\"label\"))\n",
        "\n",
        "\n",
        "final_train.limit(3).toPandas()"
      ],
      "execution_count": 31,
      "outputs": [
        {
          "output_type": "execute_result",
          "data": {
            "text/html": [
              "<div>\n",
              "<style scoped>\n",
              "    .dataframe tbody tr th:only-of-type {\n",
              "        vertical-align: middle;\n",
              "    }\n",
              "\n",
              "    .dataframe tbody tr th {\n",
              "        vertical-align: top;\n",
              "    }\n",
              "\n",
              "    .dataframe thead th {\n",
              "        text-align: right;\n",
              "    }\n",
              "</style>\n",
              "<table border=\"1\" class=\"dataframe\">\n",
              "  <thead>\n",
              "    <tr style=\"text-align: right;\">\n",
              "      <th></th>\n",
              "      <th>label</th>\n",
              "      <th>features</th>\n",
              "      <th>class_weight</th>\n",
              "    </tr>\n",
              "  </thead>\n",
              "  <tbody>\n",
              "    <tr>\n",
              "      <th>0</th>\n",
              "      <td>1.0</td>\n",
              "      <td>(0.0, 0.0, 0.0, 0.0, 0.0, 0.0, 2.0778303943445...</td>\n",
              "      <td>0.31768</td>\n",
              "    </tr>\n",
              "    <tr>\n",
              "      <th>1</th>\n",
              "      <td>0.0</td>\n",
              "      <td>(2.010932390109971, 0.0, 0.0, 0.0, 0.0, 0.0, 2...</td>\n",
              "      <td>0.68232</td>\n",
              "    </tr>\n",
              "    <tr>\n",
              "      <th>2</th>\n",
              "      <td>0.0</td>\n",
              "      <td>(2.010932390109971, 2.011561859255275, 0.0, 1....</td>\n",
              "      <td>0.68232</td>\n",
              "    </tr>\n",
              "  </tbody>\n",
              "</table>\n",
              "</div>"
            ],
            "text/plain": [
              "   label                                           features  class_weight\n",
              "0    1.0  (0.0, 0.0, 0.0, 0.0, 0.0, 0.0, 2.0778303943445...       0.31768\n",
              "1    0.0  (2.010932390109971, 0.0, 0.0, 0.0, 0.0, 0.0, 2...       0.68232\n",
              "2    0.0  (2.010932390109971, 2.011561859255275, 0.0, 1....       0.68232"
            ]
          },
          "metadata": {},
          "execution_count": 31
        }
      ]
    },
    {
      "cell_type": "code",
      "metadata": {
        "id": "k8z5-Rz4NHpx"
      },
      "source": [
        "# model evaluator\n",
        "\n",
        "evaluator = BinaryClassificationEvaluator(rawPredictionCol='prediction') \n",
        "\n",
        "\n",
        "mc_evaluator = MulticlassClassificationEvaluator(metricName=\"accuracy\")"
      ],
      "execution_count": 32,
      "outputs": []
    },
    {
      "cell_type": "markdown",
      "metadata": {
        "id": "6vMvVEj4Ugcp"
      },
      "source": [
        "## Logistic Regression\n"
      ]
    },
    {
      "cell_type": "code",
      "metadata": {
        "id": "BdtQ4AHJUb33"
      },
      "source": [
        "classifier = LogisticRegression(weightCol=\"class_weight\",featuresCol='features', labelCol='label')\n",
        "model = classifier.fit(final_train)\n",
        "prediction = model.transform(final_test)"
      ],
      "execution_count": 33,
      "outputs": []
    },
    {
      "cell_type": "code",
      "metadata": {
        "colab": {
          "base_uri": "https://localhost:8080/"
        },
        "id": "9g7YRCYdT15p",
        "outputId": "6d36c964-65cf-491b-8843-4e19e24f6e49"
      },
      "source": [
        "prediction.limit(3).show()"
      ],
      "execution_count": 34,
      "outputs": [
        {
          "output_type": "stream",
          "text": [
            "+-----+--------------------+------------------+--------------------+--------------------+----------+\n",
            "|label|            features|      class_weight|       rawPrediction|         probability|prediction|\n",
            "+-----+--------------------+------------------+--------------------+--------------------+----------+\n",
            "|  0.0|(29,[0,1,3,4,6,10...|0.6823204419889503|[83.1369133695920...|[1.0,7.8360514913...|       0.0|\n",
            "|  0.0|(29,[0,1,4,5,6,8,...|0.6823204419889503|[181.260967183362...|[1.0,1.9026642925...|       0.0|\n",
            "|  0.0|(29,[0,1,2,3,4,5,...|0.6823204419889503|[327.535860172602...|[1.0,5.6621751785...|       0.0|\n",
            "+-----+--------------------+------------------+--------------------+--------------------+----------+\n",
            "\n"
          ],
          "name": "stdout"
        }
      ]
    },
    {
      "cell_type": "code",
      "metadata": {
        "colab": {
          "base_uri": "https://localhost:8080/"
        },
        "id": "qX8zWpzeq6UL",
        "outputId": "50f32d19-8c88-402a-ad7d-a5dcac395204"
      },
      "source": [
        "prediction.groupBy('prediction').count().show()"
      ],
      "execution_count": 35,
      "outputs": [
        {
          "output_type": "stream",
          "text": [
            "+----------+-----+\n",
            "|prediction|count|\n",
            "+----------+-----+\n",
            "|       0.0|  234|\n",
            "|       1.0|   96|\n",
            "+----------+-----+\n",
            "\n"
          ],
          "name": "stdout"
        }
      ]
    },
    {
      "cell_type": "code",
      "metadata": {
        "colab": {
          "base_uri": "https://localhost:8080/"
        },
        "id": "dlGnLIVubhMV",
        "outputId": "42229a02-515c-4e78-acc5-ac41e2d6dc9a"
      },
      "source": [
        "model.summary.predictions.describe().show()"
      ],
      "execution_count": 36,
      "outputs": [
        {
          "output_type": "stream",
          "text": [
            "+-------+-------------------+-------------------+-------------------+\n",
            "|summary|              label|       class_weight|         prediction|\n",
            "+-------+-------------------+-------------------+-------------------+\n",
            "|  count|                724|                724|                724|\n",
            "|   mean|0.31767955801104975| 0.5664814871340962|0.31767955801104975|\n",
            "| stddev| 0.4658959774100717|0.16988472104455643| 0.4658959774100717|\n",
            "|    min|                0.0|0.31767955801104975|                0.0|\n",
            "|    max|                1.0| 0.6823204419889503|                1.0|\n",
            "+-------+-------------------+-------------------+-------------------+\n",
            "\n"
          ],
          "name": "stdout"
        }
      ]
    },
    {
      "cell_type": "code",
      "metadata": {
        "colab": {
          "base_uri": "https://localhost:8080/"
        },
        "id": "0ilVnZz7bs_N",
        "outputId": "1041d751-a451-4827-9e15-2835a354f19b"
      },
      "source": [
        "[model.summary.falsePositiveRateByLabel,\n",
        "model.summary.truePositiveRateByLabel,\n",
        "model.summary.precisionByLabel,\n",
        "model.summary.recallByLabel,\n",
        "model.summary.accuracy,\n",
        "model.summary.weightedFalsePositiveRate,\n",
        "model.summary.weightedTruePositiveRate,\n",
        "model.summary.weightedFMeasure(),\n",
        "model.summary.weightedPrecision,\n",
        "model.summary.weightedRecall]"
      ],
      "execution_count": 37,
      "outputs": [
        {
          "output_type": "execute_result",
          "data": {
            "text/plain": [
              "[[0.0, 0.0], [1.0, 1.0], [1.0, 1.0], [1.0, 1.0], 1.0, 0.0, 1.0, 1.0, 1.0, 1.0]"
            ]
          },
          "metadata": {},
          "execution_count": 37
        }
      ]
    },
    {
      "cell_type": "code",
      "metadata": {
        "colab": {
          "base_uri": "https://localhost:8080/"
        },
        "id": "0SwNpeuhdojJ",
        "outputId": "dd4e52ec-2562-4e4a-e4ec-8de75cb244d8"
      },
      "source": [
        "#important: need to cast to float type, and order by prediction, else it won't work\n",
        "\n",
        "prediction = prediction.withColumn(\"label\", prediction[\"label\"].cast(FloatType())) \n",
        "prediction = prediction.withColumn(\"prediction\", prediction[\"prediction\"].cast(FloatType())) \n",
        "\n",
        "preds_and_labels = prediction.select(['prediction','label']).orderBy('prediction')\n",
        "metrics = MulticlassMetrics(preds_and_labels.rdd.map(tuple))\n",
        "\n",
        "print(metrics.confusionMatrix().toArray())"
      ],
      "execution_count": 38,
      "outputs": [
        {
          "output_type": "stream",
          "text": [
            "[[234.   0.]\n",
            " [  0.  96.]]\n"
          ],
          "name": "stdout"
        }
      ]
    },
    {
      "cell_type": "code",
      "metadata": {
        "colab": {
          "base_uri": "https://localhost:8080/"
        },
        "id": "kGihrMwZqdv8",
        "outputId": "63c5b3a0-e46c-45a4-b365-483256f5e2b2"
      },
      "source": [
        "# Overall statistics\n",
        "print(f\"Accuracy {metrics.accuracy}\")\n",
        "\n",
        "# Statistics by class\n",
        "labels = [0.0,1.0]\n",
        "for label in sorted(labels):\n",
        "    print(\"Class %s precision = %s\" % (label, metrics.precision(label)))\n",
        "    print(\"Class %s recall = %s\" % (label, metrics.recall(label)))\n",
        "    print(\"Class %s F1 Measure = %s\" % (label, metrics.fMeasure(label, beta=1.0)))\n",
        "\n",
        "# Weighted stats\n",
        "print(\"Weighted recall = %s\" % metrics.weightedRecall)\n",
        "print(\"Weighted precision = %s\" % metrics.weightedPrecision)\n",
        "print(\"Weighted F(1) Score = %s\" % metrics.weightedFMeasure())\n",
        "print(\"Weighted F(0.5) Score = %s\" % metrics.weightedFMeasure(beta=0.5))\n",
        "print(\"Weighted false positive rate = %s\" % metrics.weightedFalsePositiveRate)"
      ],
      "execution_count": 39,
      "outputs": [
        {
          "output_type": "stream",
          "text": [
            "Accuracy 1.0\n",
            "Class 0.0 precision = 1.0\n",
            "Class 0.0 recall = 1.0\n",
            "Class 0.0 F1 Measure = 1.0\n",
            "Class 1.0 precision = 1.0\n",
            "Class 1.0 recall = 1.0\n",
            "Class 1.0 F1 Measure = 1.0\n",
            "Weighted recall = 1.0\n",
            "Weighted precision = 1.0\n",
            "Weighted F(1) Score = 1.0\n",
            "Weighted F(0.5) Score = 1.0\n",
            "Weighted false positive rate = 0.0\n"
          ],
          "name": "stdout"
        }
      ]
    },
    {
      "cell_type": "code",
      "metadata": {
        "id": "SOZrWUOfWTOs",
        "colab": {
          "base_uri": "https://localhost:8080/"
        },
        "outputId": "679c2d52-da4a-4942-f043-530eb5a90713"
      },
      "source": [
        "len(features_names)"
      ],
      "execution_count": 40,
      "outputs": [
        {
          "output_type": "execute_result",
          "data": {
            "text/plain": [
              "29"
            ]
          },
          "metadata": {},
          "execution_count": 40
        }
      ]
    },
    {
      "cell_type": "code",
      "metadata": {
        "id": "eFnu-5_jWUwQ",
        "colab": {
          "base_uri": "https://localhost:8080/"
        },
        "outputId": "9a995e72-6867-4fbf-a106-81392d815835"
      },
      "source": [
        "model.coefficientMatrix.toArray().shape"
      ],
      "execution_count": 41,
      "outputs": [
        {
          "output_type": "execute_result",
          "data": {
            "text/plain": [
              "(1, 29)"
            ]
          },
          "metadata": {},
          "execution_count": 41
        }
      ]
    },
    {
      "cell_type": "code",
      "metadata": {
        "colab": {
          "base_uri": "https://localhost:8080/"
        },
        "id": "Brnl_ky2sIuA",
        "outputId": "041ed7b0-2b78-466c-a63c-375d3383ac7e"
      },
      "source": [
        "coeff=model.coefficientMatrix.toArray()[0,:].tolist()\n",
        "score = spark.createDataFrame(zip(features_names,coeff), schema=['feature','coeff'])\n",
        "score.show(truncate=False)"
      ],
      "execution_count": 42,
      "outputs": [
        {
          "output_type": "stream",
          "text": [
            "+------------------------+-------------------+\n",
            "|feature                 |coeff              |\n",
            "+------------------------+-------------------+\n",
            "|A1                      |-15.950664498498998|\n",
            "|A2                      |-21.819768862854446|\n",
            "|A3                      |-18.669951219085146|\n",
            "|A4                      |-19.406783877606994|\n",
            "|A5                      |-17.456711403135092|\n",
            "|A6                      |-16.428954386063094|\n",
            "|A7                      |-17.807156166738167|\n",
            "|A8                      |-20.009924200895362|\n",
            "|A9                      |-20.453743899013013|\n",
            "|A10                     |-15.262479549696668|\n",
            "|Age_Mons                |4.154841800882121  |\n",
            "|Qchat-10-Score          |-36.330078047845   |\n",
            "|Sex-m                   |0.4021956898875008 |\n",
            "|Ethnicity-White European|9.714454633201173  |\n",
            "|Ethnicity-asian         |5.0914974659666195 |\n",
            "|Ethnicity-middle eastern|7.733229776950162  |\n",
            "|Ethnicity-black         |5.3499788450763734 |\n",
            "|Ethnicity-south asian   |3.640500991961943  |\n",
            "|Ethnicity-Others        |-4.231840324422873 |\n",
            "|Ethnicity-Hispanic      |1.7500134976131814 |\n",
            "+------------------------+-------------------+\n",
            "only showing top 20 rows\n",
            "\n"
          ],
          "name": "stdout"
        }
      ]
    },
    {
      "cell_type": "code",
      "metadata": {
        "colab": {
          "base_uri": "https://localhost:8080/"
        },
        "id": "k7XNu6PTsaVg",
        "outputId": "2787fb88-93cc-4e0e-8d65-9a54353c0c08"
      },
      "source": [
        "model.interceptVector"
      ],
      "execution_count": 43,
      "outputs": [
        {
          "output_type": "execute_result",
          "data": {
            "text/plain": [
              "DenseVector([10.2714])"
            ]
          },
          "metadata": {},
          "execution_count": 43
        }
      ]
    },
    {
      "cell_type": "markdown",
      "metadata": {
        "id": "b-Fh9Ic-tTn4"
      },
      "source": [
        "## Perceptron Classifier"
      ]
    },
    {
      "cell_type": "code",
      "metadata": {
        "colab": {
          "base_uri": "https://localhost:8080/"
        },
        "id": "GRuXtL9as8rH",
        "outputId": "868faa7c-a9ce-4960-ae9f-1965ce603c1a"
      },
      "source": [
        "# Count how many features you have\n",
        "features = final_train.select(['features']).collect()\n",
        "features_count = len(features[0][0])\n",
        "\n",
        "# Count how many classes you have \n",
        "class_count = final_train.select(countDistinct(\"label\")).collect()\n",
        "classes = class_count[0][0]\n",
        "\n",
        "# define layers - input, 1st hidden, 2nd hidden, output\n",
        "layers = [features_count, features_count+1, features_count, classes]\n",
        "\n",
        "# Instaniate the classifier\n",
        "classifier = MultilayerPerceptronClassifier(maxIter=100, layers=layers, blockSize=128, seed=1234)\n",
        "\n",
        "# Fit the model\n",
        "model = classifier.fit(final_train)\n",
        "\n",
        "# Print the model Weights\n",
        "print('\\033[1m' + \"Model Weights: \"+ '\\033[0m',model.weights.size)\n",
        "   \n",
        "# Generate predictions on test dataframe\n",
        "predictions = model.transform(final_test)\n",
        "\n",
        "# Calculate accuracy score\n",
        "accuracy = (mc_evaluator.evaluate(predictions))*100\n",
        "\n",
        "# Print accuracy score\n",
        "print(\"Accuracy: \",accuracy)"
      ],
      "execution_count": 44,
      "outputs": [
        {
          "output_type": "stream",
          "text": [
            "\u001b[1mModel Weights: \u001b[0m 1859\n",
            "Accuracy:  99.39393939393939\n"
          ],
          "name": "stdout"
        }
      ]
    },
    {
      "cell_type": "markdown",
      "metadata": {
        "id": "soUtUZKpuTjF"
      },
      "source": [
        "## Naive Bayes"
      ]
    },
    {
      "cell_type": "code",
      "metadata": {
        "colab": {
          "base_uri": "https://localhost:8080/"
        },
        "id": "w37V48zGt0On",
        "outputId": "1666a181-43c3-40a2-e5d6-77ad712a4d80"
      },
      "source": [
        "# Instaniate the classifier\n",
        "classifier = NaiveBayes()\n",
        "\n",
        "# Fit the model\n",
        "model = classifier.fit(final_train)\n",
        "\n",
        "# Generate predictions on test dataframe\n",
        "predictions = model.transform(final_test)\n",
        "\n",
        "# Calculate accuracy score\n",
        "accuracy = (mc_evaluator.evaluate(predictions))*100\n",
        "\n",
        "# Print accuracy score\n",
        "print(\"Accuracy: \",accuracy)"
      ],
      "execution_count": 45,
      "outputs": [
        {
          "output_type": "stream",
          "text": [
            "Accuracy:  92.42424242424242\n"
          ],
          "name": "stdout"
        }
      ]
    },
    {
      "cell_type": "markdown",
      "metadata": {
        "id": "fCedWT20uaUv"
      },
      "source": [
        "## Support Vector Machine"
      ]
    },
    {
      "cell_type": "code",
      "metadata": {
        "colab": {
          "base_uri": "https://localhost:8080/"
        },
        "id": "m2MVz14IuZ1Z",
        "outputId": "ffbfb0c7-7baa-43b5-9b6b-7a98ff692890"
      },
      "source": [
        "# Instaniate the classifier\n",
        "classifier = LinearSVC()\n",
        "\n",
        "# Fit the model\n",
        "model = classifier.fit(final_train)\n",
        "\n",
        "# Generate predictions on test dataframe\n",
        "predictions = model.transform(final_test)\n",
        "\n",
        "# Calculate accuracy score\n",
        "accuracy = (mc_evaluator.evaluate(predictions))*100\n",
        "\n",
        "# Print accuracy score\n",
        "print(\"Accuracy: \",accuracy)"
      ],
      "execution_count": 46,
      "outputs": [
        {
          "output_type": "stream",
          "text": [
            "Accuracy:  99.39393939393939\n"
          ],
          "name": "stdout"
        }
      ]
    },
    {
      "cell_type": "code",
      "metadata": {
        "colab": {
          "base_uri": "https://localhost:8080/"
        },
        "id": "-9iD-HlpGyR5",
        "outputId": "755712ce-a8cd-406b-950b-63d44b5ab260"
      },
      "source": [
        "model.coefficients.toArray().shape"
      ],
      "execution_count": 47,
      "outputs": [
        {
          "output_type": "execute_result",
          "data": {
            "text/plain": [
              "(29,)"
            ]
          },
          "metadata": {},
          "execution_count": 47
        }
      ]
    },
    {
      "cell_type": "code",
      "metadata": {
        "colab": {
          "base_uri": "https://localhost:8080/"
        },
        "id": "BmKZDqxjGn0r",
        "outputId": "06b5702b-e219-41ee-d4f1-d06435fa9bc2"
      },
      "source": [
        "coeff=model.coefficients.toArray().tolist()\n",
        "score = spark.createDataFrame(zip(features_names,coeff), schema=['feature','coeff'])\n",
        "score.show(truncate=False)"
      ],
      "execution_count": 48,
      "outputs": [
        {
          "output_type": "stream",
          "text": [
            "+------------------------+--------------------+\n",
            "|feature                 |coeff               |\n",
            "+------------------------+--------------------+\n",
            "|A1                      |-0.9626037513284502 |\n",
            "|A2                      |-1.3192705206779651 |\n",
            "|A3                      |-0.8696585364757117 |\n",
            "|A4                      |-1.0758019059004766 |\n",
            "|A5                      |-0.9198731850046276 |\n",
            "|A6                      |-0.9558246596143612 |\n",
            "|A7                      |-1.065362678117776  |\n",
            "|A8                      |-1.1636261726315236 |\n",
            "|A9                      |-1.2005388082487953 |\n",
            "|A10                     |-0.8165198841917235 |\n",
            "|Age_Mons                |0.4060187386903567  |\n",
            "|Qchat-10-Score          |-2.1171335511181555 |\n",
            "|Sex-m                   |0.03955975737865233 |\n",
            "|Ethnicity-White European|0.5256061755623616  |\n",
            "|Ethnicity-asian         |0.0883029886588798  |\n",
            "|Ethnicity-middle eastern|0.4360643581468559  |\n",
            "|Ethnicity-black         |0.25173292772750333 |\n",
            "|Ethnicity-south asian   |0.14751082793363768 |\n",
            "|Ethnicity-Others        |-0.19526272975665784|\n",
            "|Ethnicity-Hispanic      |0.08638747745574984 |\n",
            "+------------------------+--------------------+\n",
            "only showing top 20 rows\n",
            "\n"
          ],
          "name": "stdout"
        }
      ]
    },
    {
      "cell_type": "markdown",
      "metadata": {
        "id": "3K93IJ3JuzRj"
      },
      "source": [
        "## Decision Tree Classifier\n"
      ]
    },
    {
      "cell_type": "code",
      "metadata": {
        "colab": {
          "base_uri": "https://localhost:8080/"
        },
        "id": "yivSBskouOCc",
        "outputId": "c4648b4c-804a-49db-b64b-cfa49ca1e50e"
      },
      "source": [
        "# Instaniate the classifier\n",
        "classifier = DecisionTreeClassifier()\n",
        "\n",
        "# Fit the model\n",
        "model = classifier.fit(final_train)\n",
        "\n",
        "# Generate predictions on test dataframe\n",
        "predictions = model.transform(final_test)\n",
        "\n",
        "# Calculate accuracy score\n",
        "accuracy = (mc_evaluator.evaluate(predictions))*100\n",
        "\n",
        "# Print accuracy score\n",
        "print(\"Accuracy: \",accuracy)"
      ],
      "execution_count": 49,
      "outputs": [
        {
          "output_type": "stream",
          "text": [
            "Accuracy:  100.0\n"
          ],
          "name": "stdout"
        }
      ]
    },
    {
      "cell_type": "code",
      "metadata": {
        "colab": {
          "base_uri": "https://localhost:8080/"
        },
        "id": "sGapzE9hu45l",
        "outputId": "31ba78fb-bf21-4c57-eb2f-d25f2321160d"
      },
      "source": [
        "imp_score =model.featureImportances.toArray().tolist()\n",
        "score = spark.createDataFrame(zip(features_names,imp_score), schema=['feature','imp score'])\n",
        "score.show(truncate=False)"
      ],
      "execution_count": 50,
      "outputs": [
        {
          "output_type": "stream",
          "text": [
            "+------------------------+---------+\n",
            "|feature                 |imp score|\n",
            "+------------------------+---------+\n",
            "|A1                      |0.0      |\n",
            "|A2                      |0.0      |\n",
            "|A3                      |0.0      |\n",
            "|A4                      |0.0      |\n",
            "|A5                      |0.0      |\n",
            "|A6                      |0.0      |\n",
            "|A7                      |0.0      |\n",
            "|A8                      |0.0      |\n",
            "|A9                      |0.0      |\n",
            "|A10                     |0.0      |\n",
            "|Age_Mons                |0.0      |\n",
            "|Qchat-10-Score          |1.0      |\n",
            "|Sex-m                   |0.0      |\n",
            "|Ethnicity-White European|0.0      |\n",
            "|Ethnicity-asian         |0.0      |\n",
            "|Ethnicity-middle eastern|0.0      |\n",
            "|Ethnicity-black         |0.0      |\n",
            "|Ethnicity-south asian   |0.0      |\n",
            "|Ethnicity-Others        |0.0      |\n",
            "|Ethnicity-Hispanic      |0.0      |\n",
            "+------------------------+---------+\n",
            "only showing top 20 rows\n",
            "\n"
          ],
          "name": "stdout"
        }
      ]
    },
    {
      "cell_type": "markdown",
      "metadata": {
        "id": "1wTkswPuvCLx"
      },
      "source": [
        "## Random Forest"
      ]
    },
    {
      "cell_type": "code",
      "metadata": {
        "colab": {
          "base_uri": "https://localhost:8080/"
        },
        "id": "MV9axX6Gu9Ah",
        "outputId": "dfb7c471-2387-4ae5-fe81-8ff4c4fd77cb"
      },
      "source": [
        "# Instaniate the classifier\n",
        "classifier = RandomForestClassifier(maxDepth=5)\n",
        "\n",
        "# Fit the model\n",
        "model = classifier.fit(final_train)\n",
        "\n",
        "# Generate predictions on test dataframe\n",
        "predictions = model.transform(final_test)\n",
        "\n",
        "# Calculate accuracy score\n",
        "accuracy = (mc_evaluator.evaluate(predictions))*100\n",
        "\n",
        "# Print accuracy score\n",
        "print(\"Accuracy: \",accuracy)"
      ],
      "execution_count": 51,
      "outputs": [
        {
          "output_type": "stream",
          "text": [
            "Accuracy:  100.0\n"
          ],
          "name": "stdout"
        }
      ]
    },
    {
      "cell_type": "code",
      "metadata": {
        "colab": {
          "base_uri": "https://localhost:8080/"
        },
        "id": "TcHeQ5e1vGMY",
        "outputId": "c7e39956-747e-49d8-a6bb-f82d2f7fc428"
      },
      "source": [
        "model.featureImportances.toArray()\n",
        "imp_score =model.featureImportances.toArray().tolist()\n",
        "score = spark.createDataFrame(zip(features_names,imp_score), schema=['feature','imp score'])\n",
        "score.show(truncate=False)"
      ],
      "execution_count": 52,
      "outputs": [
        {
          "output_type": "stream",
          "text": [
            "+------------------------+---------------------+\n",
            "|feature                 |imp score            |\n",
            "+------------------------+---------------------+\n",
            "|A1                      |0.07871928839597764  |\n",
            "|A2                      |0.02414839401092051  |\n",
            "|A3                      |0.017816012372591526 |\n",
            "|A4                      |0.03576924139260175  |\n",
            "|A5                      |0.09412356564155808  |\n",
            "|A6                      |0.06803484817608683  |\n",
            "|A7                      |0.10572241231002515  |\n",
            "|A8                      |0.03663690745236217  |\n",
            "|A9                      |0.08455059775335107  |\n",
            "|A10                     |0.00777176331837468  |\n",
            "|Age_Mons                |0.008316120289854964 |\n",
            "|Qchat-10-Score          |0.420198253901028    |\n",
            "|Sex-m                   |0.001377935610914058 |\n",
            "|Ethnicity-White European|0.0011866918776980515|\n",
            "|Ethnicity-asian         |0.0010477900550730126|\n",
            "|Ethnicity-middle eastern|0.0028008189525761847|\n",
            "|Ethnicity-black         |0.0                  |\n",
            "|Ethnicity-south asian   |0.0053843358605591375|\n",
            "|Ethnicity-Others        |0.0                  |\n",
            "|Ethnicity-Hispanic      |4.0076538546880865E-4|\n",
            "+------------------------+---------------------+\n",
            "only showing top 20 rows\n",
            "\n"
          ],
          "name": "stdout"
        }
      ]
    },
    {
      "cell_type": "markdown",
      "metadata": {
        "id": "RwHvw42TvQ92"
      },
      "source": [
        "## Gradient Boosting"
      ]
    },
    {
      "cell_type": "code",
      "metadata": {
        "colab": {
          "base_uri": "https://localhost:8080/"
        },
        "id": "6jixeU0kvOpd",
        "outputId": "cd96c5ef-fe6c-4257-e171-3a459872b4c1"
      },
      "source": [
        "# Instaniate the classifier\n",
        "classifier = GBTClassifier(maxIter=20,maxDepth=5,maxBins=3)\n",
        "\n",
        "# Fit the model\n",
        "model = classifier.fit(final_train)\n",
        "\n",
        "# Generate predictions on test dataframe\n",
        "predictions = model.transform(final_test)\n",
        "\n",
        "# Calculate accuracy score\n",
        "accuracy = (mc_evaluator.evaluate(predictions))*100\n",
        "\n",
        "# Print accuracy score\n",
        "print(\"Accuracy: \",accuracy)"
      ],
      "execution_count": 53,
      "outputs": [
        {
          "output_type": "stream",
          "text": [
            "Accuracy:  100.0\n"
          ],
          "name": "stdout"
        }
      ]
    },
    {
      "cell_type": "code",
      "metadata": {
        "colab": {
          "base_uri": "https://localhost:8080/"
        },
        "id": "jDG3ggjRvh0t",
        "outputId": "0ef2f45a-e4f7-4e7b-a1d1-809b99025e13"
      },
      "source": [
        "imp_score =model.featureImportances.toArray().tolist()\n",
        "score = spark.createDataFrame(zip(features_names,imp_score), schema=['feature','imp score'])\n",
        "score.show(truncate=False)"
      ],
      "execution_count": 54,
      "outputs": [
        {
          "output_type": "stream",
          "text": [
            "+------------------------+----------------------+\n",
            "|feature                 |imp score             |\n",
            "+------------------------+----------------------+\n",
            "|A1                      |0.0                   |\n",
            "|A2                      |0.0                   |\n",
            "|A3                      |1.0910696012422205E-16|\n",
            "|A4                      |0.0                   |\n",
            "|A5                      |2.150666040910148E-17 |\n",
            "|A6                      |3.0686332534937454E-17|\n",
            "|A7                      |0.0                   |\n",
            "|A8                      |0.0                   |\n",
            "|A9                      |3.1473161574294823E-18|\n",
            "|A10                     |2.8011113801122394E-16|\n",
            "|Age_Mons                |8.046638309161375E-16 |\n",
            "|Qchat-10-Score          |0.9999999999999961    |\n",
            "|Sex-m                   |0.0                   |\n",
            "|Ethnicity-White European|0.0                   |\n",
            "|Ethnicity-asian         |0.0                   |\n",
            "|Ethnicity-middle eastern|0.0                   |\n",
            "|Ethnicity-black         |2.0850969542970332E-17|\n",
            "|Ethnicity-south asian   |3.704653393640951E-18 |\n",
            "|Ethnicity-Others        |1.4998928562749903E-18|\n",
            "|Ethnicity-Hispanic      |2.5571943779114545E-18|\n",
            "+------------------------+----------------------+\n",
            "only showing top 20 rows\n",
            "\n"
          ],
          "name": "stdout"
        }
      ]
    },
    {
      "cell_type": "markdown",
      "metadata": {
        "id": "Kk_FHHHMvn5M"
      },
      "source": [
        "## Cross Validation - Finetuning Gradient Boosted Tree"
      ]
    },
    {
      "cell_type": "code",
      "metadata": {
        "colab": {
          "base_uri": "https://localhost:8080/"
        },
        "id": "aqcgwSugvnVV",
        "outputId": "bf1c77e2-b436-4fe5-83d1-443bcdeec378"
      },
      "source": [
        "classifier = GBTClassifier()\n",
        "\n",
        "# define parameters\n",
        "paramGrid = (ParamGridBuilder().addGrid(classifier.maxDepth, [2, 5, 10]) \\\n",
        "                                .addGrid(classifier.maxBins, [10, 20]) \\\n",
        "                                .addGrid(classifier.maxIter, [10, 15])\n",
        "                                .build())\n",
        "\n",
        "#Cross Validator requires all of the following parameters:\n",
        "crossval = CrossValidator(estimator=classifier,\n",
        "                          estimatorParamMaps=paramGrid,\n",
        "                          evaluator=MulticlassClassificationEvaluator(),\n",
        "                          numFolds=2) \n",
        "\n",
        "# Fit Model: Run cross-validation, and choose the best set of parameters.\n",
        "model = crossval.fit(final_train)\n",
        "best_model = model.bestModel\n",
        "\n",
        "feature_importances = best_model.featureImportances.toArray()\n",
        "print(\"Feature Importances: \",feature_importances)\n",
        "    \n",
        "predictions = model.transform(final_test)\n",
        "accuracy = (mc_evaluator.evaluate(predictions))*100\n",
        "\n",
        "print(\" \")\n",
        "print(\"Accuracy: \",accuracy)"
      ],
      "execution_count": 55,
      "outputs": [
        {
          "output_type": "stream",
          "text": [
            "Feature Importances:  [0.00000000e+00 0.00000000e+00 6.28015576e-16 0.00000000e+00\n",
            " 0.00000000e+00 0.00000000e+00 0.00000000e+00 0.00000000e+00\n",
            " 0.00000000e+00 0.00000000e+00 1.27645442e-16 1.00000000e+00\n",
            " 0.00000000e+00 0.00000000e+00 0.00000000e+00 0.00000000e+00\n",
            " 0.00000000e+00 0.00000000e+00 0.00000000e+00 0.00000000e+00\n",
            " 0.00000000e+00 7.07674310e-16 0.00000000e+00 0.00000000e+00\n",
            " 0.00000000e+00 0.00000000e+00 0.00000000e+00 2.95804351e-15\n",
            " 0.00000000e+00]\n",
            " \n",
            "Accuracy:  100.0\n"
          ],
          "name": "stdout"
        }
      ]
    },
    {
      "cell_type": "code",
      "metadata": {
        "colab": {
          "base_uri": "https://localhost:8080/"
        },
        "id": "qF6U3EahvmO-",
        "outputId": "6e8daf65-b1ae-484d-a44b-7301ebbe3929"
      },
      "source": [
        "best_model.getMaxBins(),best_model.getMaxDepth()"
      ],
      "execution_count": 56,
      "outputs": [
        {
          "output_type": "execute_result",
          "data": {
            "text/plain": [
              "(10, 2)"
            ]
          },
          "metadata": {},
          "execution_count": 56
        }
      ]
    },
    {
      "cell_type": "code",
      "metadata": {
        "colab": {
          "base_uri": "https://localhost:8080/"
        },
        "id": "ktoqkSR0HX-K",
        "outputId": "7d01fc54-5368-4a1a-efd0-c094baa02541"
      },
      "source": [
        "imp_score =best_model.featureImportances.toArray().tolist()\n",
        "score = spark.createDataFrame(zip(features_names,imp_score), schema=['feature','imp score'])\n",
        "score.show(truncate=False)"
      ],
      "execution_count": 57,
      "outputs": [
        {
          "output_type": "stream",
          "text": [
            "+------------------------+----------------------+\n",
            "|feature                 |imp score             |\n",
            "+------------------------+----------------------+\n",
            "|A1                      |0.0                   |\n",
            "|A2                      |0.0                   |\n",
            "|A3                      |6.280155758562281E-16 |\n",
            "|A4                      |0.0                   |\n",
            "|A5                      |0.0                   |\n",
            "|A6                      |0.0                   |\n",
            "|A7                      |0.0                   |\n",
            "|A8                      |0.0                   |\n",
            "|A9                      |0.0                   |\n",
            "|A10                     |0.0                   |\n",
            "|Age_Mons                |1.2764544224720084E-16|\n",
            "|Qchat-10-Score          |0.9999999999999956    |\n",
            "|Sex-m                   |0.0                   |\n",
            "|Ethnicity-White European|0.0                   |\n",
            "|Ethnicity-asian         |0.0                   |\n",
            "|Ethnicity-middle eastern|0.0                   |\n",
            "|Ethnicity-black         |0.0                   |\n",
            "|Ethnicity-south asian   |0.0                   |\n",
            "|Ethnicity-Others        |0.0                   |\n",
            "|Ethnicity-Hispanic      |0.0                   |\n",
            "+------------------------+----------------------+\n",
            "only showing top 20 rows\n",
            "\n"
          ],
          "name": "stdout"
        }
      ]
    },
    {
      "cell_type": "markdown",
      "metadata": {
        "id": "OZGznbwZ2LtI"
      },
      "source": [
        "### Extras Correlation Matrix Syntax"
      ]
    },
    {
      "cell_type": "code",
      "metadata": {
        "colab": {
          "base_uri": "https://localhost:8080/"
        },
        "id": "0TmGdXddzEMN",
        "outputId": "72d5d474-1e14-4c2d-9b38-cfaa0e4d3f1d"
      },
      "source": [
        "from pyspark.ml.stat import Correlation\n",
        "corr = Correlation.corr(final_train, 'features', 'pearson').collect()\n",
        "corr"
      ],
      "execution_count": 58,
      "outputs": [
        {
          "output_type": "execute_result",
          "data": {
            "text/plain": [
              "[Row(pearson(features)=DenseMatrix(29, 29, [1.0, 0.4743, 0.2522, 0.2447, 0.2889, 0.3771, 0.3411, 0.2219, ..., -0.0059, -0.0048, 0.0389, 0.0285, -0.3103, -0.0111, -0.0042, 1.0], False))]"
            ]
          },
          "metadata": {},
          "execution_count": 58
        }
      ]
    },
    {
      "cell_type": "code",
      "metadata": {
        "colab": {
          "base_uri": "https://localhost:8080/"
        },
        "id": "qx-QdzoW1wuz",
        "outputId": "226c7c20-3731-4ff1-909e-f06a8751539d"
      },
      "source": [
        "print(str(corr[0][0]).replace('nan', 'NaN'))"
      ],
      "execution_count": 59,
      "outputs": [
        {
          "output_type": "stream",
          "text": [
            "DenseMatrix([[ 1.00000000e+00,  4.74253038e-01,  2.52236475e-01,\n",
            "               2.44651964e-01,  2.88920672e-01,  3.77063322e-01,\n",
            "               3.41149623e-01,  2.21928011e-01,  3.56717268e-01,\n",
            "               1.32033318e-01,  5.80931015e-02,  6.20835843e-01,\n",
            "               1.45973013e-01,  8.27926546e-02, -3.03656891e-02,\n",
            "              -7.75247866e-02,  1.82539381e-02,  1.12241323e-02,\n",
            "               1.47905263e-02,  1.80821012e-03, -3.56030847e-02,\n",
            "              -4.08223709e-02,  2.92106955e-02,  1.98823908e-02,\n",
            "              -9.39199698e-02, -6.05621399e-02,  8.84369136e-02,\n",
            "              -2.88056591e-02,  5.77308437e-02],\n",
            "             [ 4.74253038e-01,  1.00000000e+00,  2.05470334e-01,\n",
            "               2.64158397e-01,  2.65273001e-01,  3.05920463e-01,\n",
            "               2.92556826e-01,  2.70477744e-01,  2.81435051e-01,\n",
            "               1.71006516e-01,  3.47166815e-02,  5.94435783e-01,\n",
            "               6.97696884e-02,  5.77164817e-02, -1.21696253e-01,\n",
            "              -4.39218528e-02,  1.33732663e-01,  2.68292516e-02,\n",
            "               4.25614078e-04,  1.39444021e-02, -1.75111515e-02,\n",
            "               1.04205879e-02,  8.35148594e-02, -3.41406739e-02,\n",
            "              -5.03017980e-02, -5.16018380e-02,  4.45526563e-02,\n",
            "              -1.42877750e-02,  7.22758157e-02],\n",
            "             [ 2.52236475e-01,  2.05470334e-01,  1.00000000e+00,\n",
            "               5.46314587e-01,  3.35195015e-01,  3.12163600e-01,\n",
            "               2.18608767e-01,  2.33759500e-01,  3.55114868e-01,\n",
            "               2.36526431e-02, -5.96135837e-02,  5.85026213e-01,\n",
            "               8.79452011e-02,  1.17618493e-02, -3.25487011e-02,\n",
            "              -8.36737976e-02,  9.16498638e-02,  1.19143279e-03,\n",
            "               6.10390733e-03,  1.84892648e-02,  3.52324623e-02,\n",
            "              -1.10335841e-02,  9.27749899e-02,  1.09221226e-02,\n",
            "              -6.67311886e-02, -3.16822113e-02,  2.97083038e-02,\n",
            "              -7.78567376e-03,  3.62520434e-02],\n",
            "             [ 2.44651964e-01,  2.64158397e-01,  5.46314587e-01,\n",
            "               1.00000000e+00,  3.52850148e-01,  3.47055778e-01,\n",
            "               3.11588080e-01,  2.50604638e-01,  4.08248410e-01,\n",
            "               2.99050292e-02, -6.46140756e-02,  6.32416426e-01,\n",
            "               1.15747341e-01,  5.24956823e-02, -5.45920502e-02,\n",
            "              -4.93237154e-02,  5.25901881e-02, -1.89289691e-02,\n",
            "              -1.69806768e-02, -2.86376692e-03,  5.72121069e-02,\n",
            "               2.27343010e-03,  3.91329908e-02, -3.06168824e-02,\n",
            "               3.39146199e-02, -5.17069706e-03,  1.25311227e-02,\n",
            "              -1.99040860e-02,  2.31125059e-02],\n",
            "             [ 2.88920672e-01,  2.65273001e-01,  3.35195015e-01,\n",
            "               3.52850148e-01,  1.00000000e+00,  4.22498417e-01,\n",
            "               3.49558912e-01,  3.45849069e-01,  4.34168165e-01,\n",
            "               5.72713134e-02,  7.83248147e-02,  6.48943656e-01,\n",
            "               1.50851221e-01,  2.92053772e-02,  4.76476695e-02,\n",
            "              -1.44588109e-01,  5.54054331e-02,  2.41955838e-02,\n",
            "               5.48158871e-02, -1.80407230e-02,  8.93342604e-03,\n",
            "              -6.60942192e-02, -4.12428823e-03,  5.20266475e-03,\n",
            "               3.19074663e-02, -4.40237250e-02,  3.16506589e-02,\n",
            "               1.79652783e-02,  1.79652783e-02],\n",
            "             [ 3.77063322e-01,  3.05920463e-01,  3.12163600e-01,\n",
            "               3.47055778e-01,  4.22498417e-01,  1.00000000e+00,\n",
            "               3.85326278e-01,  3.24950440e-01,  4.44728899e-01,\n",
            "               6.96095035e-02,  9.67185755e-02,  6.71171225e-01,\n",
            "               4.73464108e-02,  5.48188072e-02,  5.33296282e-02,\n",
            "              -1.29855995e-01, -1.35555603e-02, -8.42310871e-02,\n",
            "               3.77251036e-02,  1.07691287e-02,  4.85329233e-02,\n",
            "              -1.32689247e-02,  6.44977291e-02,  2.12233356e-02,\n",
            "              -4.93118795e-02, -2.58455083e-02,  3.31281309e-02,\n",
            "               1.23639700e-02, -3.10899829e-02],\n",
            "             [ 3.41149623e-01,  2.92556826e-01,  2.18608767e-01,\n",
            "               3.11588080e-01,  3.49558912e-01,  3.85326278e-01,\n",
            "               1.00000000e+00,  2.56930519e-01,  3.72617741e-01,\n",
            "               1.72186199e-01,  6.02321068e-02,  6.19390446e-01,\n",
            "               6.92047612e-02,  2.89228461e-02,  1.39497080e-02,\n",
            "              -1.29903371e-01,  4.78835262e-02, -2.52584183e-03,\n",
            "               4.25608968e-02,  3.27398227e-02,  4.68250842e-02,\n",
            "              -2.59908367e-02,  1.75529155e-02, -1.36988713e-02,\n",
            "               1.05249592e-03, -1.29373300e-02, -6.35823585e-03,\n",
            "               4.01380953e-03,  4.87214726e-02],\n",
            "             [ 2.21928011e-01,  2.70477744e-01,  2.33759500e-01,\n",
            "               2.50604638e-01,  3.45849069e-01,  3.24950440e-01,\n",
            "               2.56930519e-01,  1.00000000e+00,  3.54389463e-01,\n",
            "               1.31943589e-01,  1.08470645e-01,  5.71770401e-01,\n",
            "               1.09048656e-01, -2.45508145e-02,  3.10545155e-02,\n",
            "              -1.12086840e-01,  1.03843967e-01, -1.98664461e-03,\n",
            "               1.60043589e-02,  4.62274281e-02,  4.25821091e-02,\n",
            "              -2.64568325e-02, -3.40066414e-02, -4.78519787e-03,\n",
            "              -2.70092116e-02, -9.24449064e-02,  6.53146551e-02,\n",
            "               6.74218780e-02,  2.43765167e-02],\n",
            "             [ 3.56717268e-01,  2.81435051e-01,  3.55114868e-01,\n",
            "               4.08248410e-01,  4.34168165e-01,  4.44728899e-01,\n",
            "               3.72617741e-01,  3.54389463e-01,  1.00000000e+00,\n",
            "               7.86683949e-02, -6.54807708e-03,  6.88255519e-01,\n",
            "               1.01160219e-01,  6.77616271e-02,  1.97385218e-02,\n",
            "              -9.79680712e-02, -1.57585807e-02, -7.24038051e-03,\n",
            "              -2.18288179e-02,  6.55901375e-03,  2.97337416e-02,\n",
            "              -2.37192670e-02,  5.57481304e-03,  1.89505141e-03,\n",
            "              -1.05042110e-02, -1.55506108e-02,  3.76867199e-02,\n",
            "               2.63862858e-02, -1.67371249e-02],\n",
            "             [ 1.32033318e-01,  1.71006516e-01,  2.36526431e-02,\n",
            "               2.99050292e-02,  5.72713134e-02,  6.96095035e-02,\n",
            "               1.72186199e-01,  1.31943589e-01,  7.86683949e-02,\n",
            "               1.00000000e+00, -7.38481335e-03,  3.12597004e-01,\n",
            "              -6.07488621e-02, -7.54070453e-03, -5.82623040e-02,\n",
            "               7.70530695e-02, -1.29939578e-04, -5.84679250e-03,\n",
            "              -4.39095281e-02,  1.87878002e-02,  2.45238559e-02,\n",
            "              -1.69507765e-02,  2.40820718e-02, -1.21111513e-02,\n",
            "               5.75752063e-03, -3.19327077e-02,  2.65452511e-02,\n",
            "               9.90712969e-03,  9.90712969e-03],\n",
            "             [ 5.80931015e-02,  3.47166815e-02, -5.96135837e-02,\n",
            "              -6.46140756e-02,  7.83248147e-02,  9.67185755e-02,\n",
            "               6.02321068e-02,  1.08470645e-01, -6.54807708e-03,\n",
            "              -7.38481335e-03,  1.00000000e+00,  5.02810509e-02,\n",
            "               1.22546776e-01, -4.14609993e-02,  2.28776211e-01,\n",
            "              -2.30427321e-01, -6.01477604e-02,  3.61836831e-02,\n",
            "               7.18788715e-02, -1.69256883e-02, -1.65706015e-02,\n",
            "               5.38608108e-02, -6.09515114e-02,  8.62457414e-02,\n",
            "              -2.50383272e-02, -1.59708675e-02,  1.47281369e-02,\n",
            "              -1.07578349e-02,  1.63331998e-02],\n",
            "             [ 6.20835843e-01,  5.94435783e-01,  5.85026213e-01,\n",
            "               6.32416426e-01,  6.48943656e-01,  6.71171225e-01,\n",
            "               6.19390446e-01,  5.71770401e-01,  6.88255519e-01,\n",
            "               3.12597004e-01,  5.02810509e-02,  1.00000000e+00,\n",
            "               1.41081515e-01,  5.95613377e-02, -2.21381715e-02,\n",
            "              -1.33148344e-01,  7.96990759e-02, -9.60738174e-03,\n",
            "               1.49829162e-02,  2.14438807e-02,  4.02973161e-02,\n",
            "              -3.56213488e-02,  5.32945152e-02, -6.09785980e-03,\n",
            "              -3.77819019e-02, -6.26794204e-02,  6.13363504e-02,\n",
            "               1.14069372e-02,  4.06409991e-02],\n",
            "             [ 1.45973013e-01,  6.97696884e-02,  8.79452011e-02,\n",
            "               1.15747341e-01,  1.50851221e-01,  4.73464108e-02,\n",
            "               6.92047612e-02,  1.09048656e-01,  1.01160219e-01,\n",
            "              -6.07488621e-02,  1.22546776e-01,  1.41081515e-01,\n",
            "               1.00000000e+00,  2.25257557e-02,  9.90339006e-02,\n",
            "              -1.26324098e-01,  1.72228202e-02, -1.95674970e-02,\n",
            "               3.23993902e-03,  2.62616877e-02, -2.95171586e-02,\n",
            "              -7.21093793e-02, -3.17852391e-02, -4.39029122e-03,\n",
            "              -3.13553382e-02, -6.20225036e-02,  1.14189996e-01,\n",
            "              -9.76330649e-02,  4.26176077e-02],\n",
            "             [ 8.27926546e-02,  5.77164817e-02,  1.17618493e-02,\n",
            "               5.24956823e-02,  2.92053772e-02,  5.48188072e-02,\n",
            "               2.89228461e-02, -2.45508145e-02,  6.77616271e-02,\n",
            "              -7.54070453e-03, -4.14609993e-02,  5.95613377e-02,\n",
            "               2.25257557e-02,  1.00000000e+00, -4.20789147e-01,\n",
            "              -3.12559663e-01, -1.69159546e-01, -1.56514425e-01,\n",
            "              -1.30885074e-01, -1.25763914e-01, -1.06183865e-01,\n",
            "              -6.07908242e-02, -4.95665140e-02, -1.41050377e-01,\n",
            "              -1.12064491e-01,  3.30502200e-02, -2.56892877e-02,\n",
            "              -4.28960817e-02,  3.73569480e-03],\n",
            "             [-3.03656891e-02, -1.21696253e-01, -3.25487011e-02,\n",
            "              -5.45920502e-02,  4.76476695e-02,  5.33296282e-02,\n",
            "               1.39497080e-02,  3.10545155e-02,  1.97385218e-02,\n",
            "              -5.82623040e-02,  2.28776211e-01, -2.21381715e-02,\n",
            "               9.90339006e-02, -4.20789147e-01,  1.00000000e+00,\n",
            "              -2.97404957e-01, -1.60957709e-01, -1.48925697e-01,\n",
            "              -1.24539006e-01, -1.19666150e-01, -1.01035455e-01,\n",
            "              -5.78433323e-02, -4.71632418e-02,  1.87908604e-01,\n",
            "               6.40376439e-02,  2.41933104e-02, -1.82901243e-02,\n",
            "               5.43559143e-02, -4.08162307e-02],\n",
            "             [-7.75247866e-02, -4.39218528e-02, -8.36737976e-02,\n",
            "              -4.93237154e-02, -1.44588109e-01, -1.29855995e-01,\n",
            "              -1.29903371e-01, -1.12086840e-01, -9.79680712e-02,\n",
            "               7.70530695e-02, -2.30427321e-01, -1.33148344e-01,\n",
            "              -1.26324098e-01, -3.12559663e-01, -2.97404957e-01,\n",
            "               1.00000000e+00, -1.19558424e-01, -1.10621118e-01,\n",
            "              -9.25068290e-02, -8.88873006e-02, -7.50485323e-02,\n",
            "              -4.29656814e-02, -3.50325740e-02, -1.68673785e-02,\n",
            "               9.08339831e-02, -1.02943039e-02,  2.56607575e-02,\n",
            "              -3.03180522e-02, -3.03180522e-02],\n",
            "             [ 1.82539381e-02,  1.33732663e-01,  9.16498638e-02,\n",
            "               5.25901881e-02,  5.54054331e-02, -1.35555603e-02,\n",
            "               4.78835262e-02,  1.03843967e-01, -1.57585807e-02,\n",
            "              -1.29939578e-04, -6.01477604e-02,  7.96990759e-02,\n",
            "               1.72228202e-02, -1.69159546e-01, -1.60957709e-01,\n",
            "              -1.19558424e-01,  1.00000000e+00, -5.98689474e-02,\n",
            "              -5.00653636e-02, -4.81064488e-02, -4.06168074e-02,\n",
            "              -2.32533370e-02, -1.89598820e-02, -2.96889681e-02,\n",
            "              -4.42763531e-02, -6.31444313e-02,  2.49323481e-02,\n",
            "              -1.64083487e-02,  7.35889578e-02],\n",
            "             [ 1.12241323e-02,  2.68292516e-02,  1.19143279e-03,\n",
            "              -1.89289691e-02,  2.41955838e-02, -8.42310871e-02,\n",
            "              -2.52584183e-03, -1.98664461e-03, -7.24038051e-03,\n",
            "              -5.84679250e-03,  3.61836831e-02, -9.60738174e-03,\n",
            "              -1.95674970e-02, -1.56514425e-01, -1.48925697e-01,\n",
            "              -1.10621118e-01, -5.98689474e-02,  1.00000000e+00,\n",
            "              -4.63228460e-02, -4.45103651e-02, -3.75805942e-02,\n",
            "              -2.15150888e-02, -1.75425809e-02,  1.81864563e-03,\n",
            "               3.67806438e-02, -1.32207623e-02,  3.31338720e-02,\n",
            "              -1.51817815e-02, -1.51817815e-02],\n",
            "             [ 1.47905263e-02,  4.25614078e-04,  6.10390733e-03,\n",
            "              -1.69806768e-02,  5.48158871e-02,  3.77251036e-02,\n",
            "               4.25608968e-02,  1.60043589e-02, -2.18288179e-02,\n",
            "              -4.39095281e-02,  7.18788715e-02,  1.49829162e-02,\n",
            "               3.23993902e-03, -1.30885074e-01, -1.24539006e-01,\n",
            "              -9.25068290e-02, -5.00653636e-02, -4.63228460e-02,\n",
            "               1.00000000e+00, -3.72217604e-02, -3.14267445e-02,\n",
            "              -1.79919774e-02, -1.46699705e-02, -4.62016899e-02,\n",
            "              -5.13031501e-02,  4.09210139e-02, -3.40171150e-02,\n",
            "              -1.26957537e-02, -1.26957537e-02],\n",
            "             [ 1.80821012e-03,  1.39444021e-02,  1.84892648e-02,\n",
            "              -2.86376692e-03, -1.80407230e-02,  1.07691287e-02,\n",
            "               3.27398227e-02,  4.62274281e-02,  6.55901375e-03,\n",
            "               1.87878002e-02, -1.69256883e-02,  2.14438807e-02,\n",
            "               2.62616877e-02, -1.25763914e-01, -1.19666150e-01,\n",
            "              -8.88873006e-02, -4.81064488e-02, -4.45103651e-02,\n",
            "              -3.72217604e-02,  1.00000000e+00, -3.01971057e-02,\n",
            "              -1.72880026e-02, -1.40959764e-02,  1.13660764e-02,\n",
            "              -1.89534771e-02,  3.93198913e-02, -3.26861223e-02,\n",
            "              -1.21990051e-02, -1.21990051e-02],\n",
            "             [-3.56030847e-02, -1.75111515e-02,  3.52324623e-02,\n",
            "               5.72121069e-02,  8.93342604e-03,  4.85329233e-02,\n",
            "               4.68250842e-02,  4.25821091e-02,  2.97337416e-02,\n",
            "               2.45238559e-02, -1.65706015e-02,  4.02973161e-02,\n",
            "              -2.95171586e-02, -1.06183865e-01, -1.01035455e-01,\n",
            "              -7.50485323e-02, -4.06168074e-02, -3.75805942e-02,\n",
            "              -3.14267445e-02, -3.01971057e-02,  1.00000000e+00,\n",
            "              -1.45964521e-02, -1.19013890e-02,  5.61403251e-02,\n",
            "               2.24249135e-02, -1.00332397e-01,  2.52609795e-02,\n",
            "               1.27793257e-01,  1.27793257e-01],\n",
            "             [-4.08223709e-02,  1.04205879e-02, -1.10335841e-02,\n",
            "               2.27343010e-03, -6.60942192e-02, -1.32689247e-02,\n",
            "              -2.59908367e-02, -2.64568325e-02, -2.37192670e-02,\n",
            "              -1.69507765e-02,  5.38608108e-02, -3.56213488e-02,\n",
            "              -7.21093793e-02, -6.07908242e-02, -5.78433323e-02,\n",
            "              -4.29656814e-02, -2.32533370e-02, -2.15150888e-02,\n",
            "              -1.79919774e-02, -1.72880026e-02, -1.45964521e-02,\n",
            "               1.00000000e+00, -6.81360810e-03, -1.38017525e-02,\n",
            "               4.03383467e-02,  1.90061562e-02, -1.57995744e-02,\n",
            "              -5.89666422e-03, -5.89666422e-03],\n",
            "             [ 2.92106955e-02,  8.35148594e-02,  9.27749899e-02,\n",
            "               3.91329908e-02, -4.12428823e-03,  6.44977291e-02,\n",
            "               1.75529155e-02, -3.40066414e-02,  5.57481304e-03,\n",
            "               2.40820718e-02, -6.09515114e-02,  5.32945152e-02,\n",
            "              -3.17852391e-02, -4.95665140e-02, -4.71632418e-02,\n",
            "              -3.50325740e-02, -1.89598820e-02, -1.75425809e-02,\n",
            "              -1.46699705e-02, -1.40959764e-02, -1.19013890e-02,\n",
            "              -6.81360810e-03,  1.00000000e+00, -3.93481698e-02,\n",
            "              -1.75600999e-02,  1.54968932e-02, -1.28823689e-02,\n",
            "              -4.80791457e-03, -4.80791457e-03],\n",
            "             [ 1.98823908e-02, -3.41406739e-02,  1.09221226e-02,\n",
            "              -3.06168824e-02,  5.20266475e-03,  2.12233356e-02,\n",
            "              -1.36988713e-02, -4.78519787e-03,  1.89505141e-03,\n",
            "              -1.21111513e-02,  8.62457414e-02, -6.09785980e-03,\n",
            "              -4.39029122e-03, -1.41050377e-01,  1.87908604e-01,\n",
            "              -1.68673785e-02, -2.96889681e-02,  1.81864563e-03,\n",
            "              -4.62016899e-02,  1.13660764e-02,  5.61403251e-02,\n",
            "              -1.38017525e-02, -3.93481698e-02,  1.00000000e+00,\n",
            "               8.07188223e-02, -4.69778845e-02,  2.97454220e-02,\n",
            "               3.88887863e-02,  3.88887863e-02],\n",
            "             [-9.39199698e-02, -5.03017980e-02, -6.67311886e-02,\n",
            "               3.39146199e-02,  3.19074663e-02, -4.93118795e-02,\n",
            "               1.05249592e-03, -2.70092116e-02, -1.05042110e-02,\n",
            "               5.75752063e-03, -2.50383272e-02, -3.77819019e-02,\n",
            "              -3.13553382e-02, -1.12064491e-01,  6.40376439e-02,\n",
            "               9.08339831e-02, -4.42763531e-02,  3.67806438e-02,\n",
            "              -5.13031501e-02, -1.89534771e-02,  2.24249135e-02,\n",
            "               4.03383467e-02, -1.75600999e-02,  8.07188223e-02,\n",
            "               1.00000000e+00,  2.07334851e-03, -3.51480696e-02,\n",
            "               2.84641151e-02,  2.84641151e-02],\n",
            "             [-6.05621399e-02, -5.16018380e-02, -3.16822113e-02,\n",
            "              -5.17069706e-03, -4.40237250e-02, -2.58455083e-02,\n",
            "              -1.29373300e-02, -9.24449064e-02, -1.55506108e-02,\n",
            "              -3.19327077e-02, -1.59708675e-02, -6.26794204e-02,\n",
            "              -6.20225036e-02,  3.30502200e-02,  2.41933104e-02,\n",
            "              -1.02943039e-02, -6.31444313e-02, -1.32207623e-02,\n",
            "               4.09210139e-02,  3.93198913e-02, -1.00332397e-01,\n",
            "               1.90061562e-02,  1.54968932e-02, -4.69778845e-02,\n",
            "               2.07334851e-03,  1.00000000e+00, -8.31287199e-01,\n",
            "              -3.10250223e-01, -3.10250223e-01],\n",
            "             [ 8.84369136e-02,  4.45526563e-02,  2.97083038e-02,\n",
            "               1.25311227e-02,  3.16506589e-02,  3.31281309e-02,\n",
            "              -6.35823585e-03,  6.53146551e-02,  3.76867199e-02,\n",
            "               2.65452511e-02,  1.47281369e-02,  6.13363504e-02,\n",
            "               1.14189996e-01, -2.56892877e-02, -1.82901243e-02,\n",
            "               2.56607575e-02,  2.49323481e-02,  3.31338720e-02,\n",
            "              -3.40171150e-02, -3.26861223e-02,  2.52609795e-02,\n",
            "              -1.57995744e-02, -1.28823689e-02,  2.97454220e-02,\n",
            "              -3.51480696e-02, -8.31287199e-01,  1.00000000e+00,\n",
            "              -1.11487193e-02, -1.11487193e-02],\n",
            "             [-2.88056591e-02, -1.42877750e-02, -7.78567376e-03,\n",
            "              -1.99040860e-02,  1.79652783e-02,  1.23639700e-02,\n",
            "               4.01380953e-03,  6.74218780e-02,  2.63862858e-02,\n",
            "               9.90712969e-03, -1.07578349e-02,  1.14069372e-02,\n",
            "              -9.76330649e-02, -4.28960817e-02,  5.43559143e-02,\n",
            "              -3.03180522e-02, -1.64083487e-02, -1.51817815e-02,\n",
            "              -1.26957537e-02, -1.21990051e-02,  1.27793257e-01,\n",
            "              -5.89666422e-03, -4.80791457e-03,  3.88887863e-02,\n",
            "               2.84641151e-02, -3.10250223e-01, -1.11487193e-02,\n",
            "               1.00000000e+00, -4.16088766e-03],\n",
            "             [ 5.77308437e-02,  7.22758157e-02,  3.62520434e-02,\n",
            "               2.31125059e-02,  1.79652783e-02, -3.10899829e-02,\n",
            "               4.87214726e-02,  2.43765167e-02, -1.67371249e-02,\n",
            "               9.90712969e-03,  1.63331998e-02,  4.06409991e-02,\n",
            "               4.26176077e-02,  3.73569480e-03, -4.08162307e-02,\n",
            "              -3.03180522e-02,  7.35889578e-02, -1.51817815e-02,\n",
            "              -1.26957537e-02, -1.21990051e-02,  1.27793257e-01,\n",
            "              -5.89666422e-03, -4.80791457e-03,  3.88887863e-02,\n",
            "               2.84641151e-02, -3.10250223e-01, -1.11487193e-02,\n",
            "              -4.16088766e-03,  1.00000000e+00]])\n"
          ],
          "name": "stdout"
        }
      ]
    },
    {
      "cell_type": "code",
      "metadata": {
        "id": "61R0lN_G13n6"
      },
      "source": [
        ""
      ],
      "execution_count": 59,
      "outputs": []
    }
  ]
}
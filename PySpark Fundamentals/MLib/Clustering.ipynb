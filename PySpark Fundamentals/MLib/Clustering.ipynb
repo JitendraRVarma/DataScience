{
  "nbformat": 4,
  "nbformat_minor": 0,
  "metadata": {
    "colab": {
      "name": "Clustering.ipynb",
      "provenance": [],
      "collapsed_sections": []
    },
    "kernelspec": {
      "name": "python3",
      "display_name": "Python 3"
    },
    "language_info": {
      "name": "python"
    }
  },
  "cells": [
    {
      "cell_type": "markdown",
      "metadata": {
        "id": "Yp6mqGEAjYPM"
      },
      "source": [
        "## Configure PySpark Setup"
      ]
    },
    {
      "cell_type": "code",
      "metadata": {
        "colab": {
          "base_uri": "https://localhost:8080/",
          "height": 216
        },
        "id": "MCa9mNO1jZH9",
        "outputId": "b24c6b1f-ce3c-42b9-b672-594410fce6ac"
      },
      "source": [
        "!apt-get install openjdk-8-jdk-headless -qq > /dev/null\n",
        "!wget -q https://archive.apache.org/dist/spark/spark-3.0.1/spark-3.0.1-bin-hadoop2.7.tgz\n",
        "!tar xf spark-3.0.1-bin-hadoop2.7.tgz\n",
        "!pip install -q findspark\n",
        "\n",
        "import os\n",
        "os.environ[\"JAVA_HOME\"] = \"/usr/lib/jvm/java-8-openjdk-amd64\"\n",
        "os.environ[\"SPARK_HOME\"] = \"/content/spark-3.0.1-bin-hadoop2.7\"\n",
        "\n",
        "\n",
        "import findspark\n",
        "findspark.init()\n",
        "\n",
        "\n",
        "import pyspark \n",
        "from pyspark.sql import SparkSession\n",
        "spark = SparkSession.builder.appName(\"App\").getOrCreate()\n",
        "spark"
      ],
      "execution_count": 1,
      "outputs": [
        {
          "output_type": "execute_result",
          "data": {
            "text/html": [
              "\n",
              "            <div>\n",
              "                <p><b>SparkSession - in-memory</b></p>\n",
              "                \n",
              "        <div>\n",
              "            <p><b>SparkContext</b></p>\n",
              "\n",
              "            <p><a href=\"http://891e26e2071e:4040\">Spark UI</a></p>\n",
              "\n",
              "            <dl>\n",
              "              <dt>Version</dt>\n",
              "                <dd><code>v3.0.1</code></dd>\n",
              "              <dt>Master</dt>\n",
              "                <dd><code>local[*]</code></dd>\n",
              "              <dt>AppName</dt>\n",
              "                <dd><code>App</code></dd>\n",
              "            </dl>\n",
              "        </div>\n",
              "        \n",
              "            </div>\n",
              "        "
            ],
            "text/plain": [
              "<pyspark.sql.session.SparkSession at 0x7fec877498d0>"
            ]
          },
          "metadata": {},
          "execution_count": 1
        }
      ]
    },
    {
      "cell_type": "code",
      "metadata": {
        "colab": {
          "base_uri": "https://localhost:8080/"
        },
        "id": "a7bHaAOcld4r",
        "outputId": "9ea3a60e-c836-4fee-c01c-837b5bee734b"
      },
      "source": [
        "# check number of cores PySpark is using\n",
        "cores = spark._jsc.sc().getExecutorMemoryStatus().keySet().size()\n",
        "print(\"You are working with\", cores, \"core(s)\")"
      ],
      "execution_count": 2,
      "outputs": [
        {
          "output_type": "stream",
          "text": [
            "You are working with 1 core(s)\n"
          ],
          "name": "stdout"
        }
      ]
    },
    {
      "cell_type": "code",
      "metadata": {
        "id": "X3BH7XKykc2M",
        "colab": {
          "base_uri": "https://localhost:8080/"
        },
        "outputId": "902f3c1d-524b-4484-a4b0-1b75f39a6c8b"
      },
      "source": [
        "!cp /content/drive/MyDrive/Datasets.zip .\n",
        "!unzip Datasets.zip"
      ],
      "execution_count": 3,
      "outputs": [
        {
          "output_type": "stream",
          "text": [
            "Archive:  Datasets.zip\n",
            "   creating: Datasets/\n",
            "  inflating: Datasets/fifa19.csv     \n",
            "  inflating: Datasets/.DS_Store      \n",
            "  inflating: Datasets/zomato.csv     \n",
            "  inflating: Datasets/nyc_air_bnb.csv  \n",
            "  inflating: Datasets/supermarket_sales.csv  \n",
            "  inflating: Datasets/users3.parquet  \n",
            "  inflating: Datasets/Toddler Autism dataset July 2018.csv  \n",
            "   creating: Datasets/uw-madison-courses/\n",
            "  inflating: Datasets/uw-madison-courses/course_offerings.csv  \n",
            "  inflating: Datasets/uw-madison-courses/sections.csv  \n",
            "  inflating: Datasets/uw-madison-courses/schedules.csv  \n",
            "  inflating: Datasets/uw-madison-courses/database.sqlite3  \n",
            "  inflating: Datasets/uw-madison-courses/rooms.csv  \n",
            "  inflating: Datasets/uw-madison-courses/teachings.csv  \n",
            "  inflating: Datasets/uw-madison-courses/subjects.csv  \n",
            "  inflating: Datasets/uw-madison-courses/subject_memberships.csv  \n",
            "  inflating: Datasets/uw-madison-courses/grade_distributions.csv  \n",
            "  inflating: Datasets/uw-madison-courses/instructors.csv  \n",
            "  inflating: Datasets/uw-madison-courses/courses.csv  \n",
            "  inflating: Datasets/googleplaystore.csv  \n",
            "  inflating: Datasets/Rep_vs_Dem_tweets.csv  \n",
            "  inflating: Datasets/users2.parquet  \n",
            "  inflating: Datasets/rec-crime-pfa.csv  \n",
            " extracting: Datasets/Weather.csv.zip  \n",
            "  inflating: Datasets/people.json    \n",
            "  inflating: Datasets/pga_tour_historical.csv  \n",
            "  inflating: Datasets/youtubevideos.csv  \n",
            "  inflating: Datasets/students.csv   \n",
            "  inflating: Datasets/users1.parquet  \n",
            "  inflating: Datasets/housing.csv    \n",
            "  inflating: Datasets/credit_card_data.csv  \n"
          ],
          "name": "stdout"
        }
      ]
    },
    {
      "cell_type": "markdown",
      "metadata": {
        "id": "HgUFLSSMd5lw"
      },
      "source": [
        "# Load Libraries"
      ]
    },
    {
      "cell_type": "code",
      "metadata": {
        "id": "0S-d4r9Kd5Ec"
      },
      "source": [
        "from pyspark.ml.feature import VectorAssembler,StandardScaler\n",
        "from pyspark.sql.types import * \n",
        "\n",
        "from pyspark.ml.evaluation import *\n",
        "from pyspark.sql.functions import *\n",
        "\n",
        "from pyspark.ml.clustering import KMeans\n",
        "from pyspark.ml.evaluation import ClusteringEvaluator\n",
        "from pyspark.ml.clustering import BisectingKMeans\n",
        "from pyspark.ml.clustering import GaussianMixture\n",
        "\n",
        "\n",
        "import pandas as pd\n",
        "import numpy as np\n",
        "\n",
        "import matplotlib.pyplot as plt\n",
        "import seaborn as sns"
      ],
      "execution_count": 4,
      "outputs": []
    },
    {
      "cell_type": "markdown",
      "metadata": {
        "id": "7-hZLn9n9i1h"
      },
      "source": [
        "# ML Model Building"
      ]
    },
    {
      "cell_type": "code",
      "metadata": {
        "id": "BRKAeLVl1ITv"
      },
      "source": [
        "path =\"Datasets/\"\n",
        "df = spark.read.csv(path+'credit_card_data.csv',inferSchema=True,header=True)"
      ],
      "execution_count": 5,
      "outputs": []
    },
    {
      "cell_type": "code",
      "metadata": {
        "colab": {
          "base_uri": "https://localhost:8080/",
          "height": 224
        },
        "id": "jKsUH6Um2b7f",
        "outputId": "d43e8b61-790b-4953-c816-fa27975723f3"
      },
      "source": [
        "df.limit(5).toPandas()"
      ],
      "execution_count": 6,
      "outputs": [
        {
          "output_type": "execute_result",
          "data": {
            "text/html": [
              "<div>\n",
              "<style scoped>\n",
              "    .dataframe tbody tr th:only-of-type {\n",
              "        vertical-align: middle;\n",
              "    }\n",
              "\n",
              "    .dataframe tbody tr th {\n",
              "        vertical-align: top;\n",
              "    }\n",
              "\n",
              "    .dataframe thead th {\n",
              "        text-align: right;\n",
              "    }\n",
              "</style>\n",
              "<table border=\"1\" class=\"dataframe\">\n",
              "  <thead>\n",
              "    <tr style=\"text-align: right;\">\n",
              "      <th></th>\n",
              "      <th>CUST_ID</th>\n",
              "      <th>BALANCE</th>\n",
              "      <th>BALANCE_FREQUENCY</th>\n",
              "      <th>PURCHASES</th>\n",
              "      <th>ONEOFF_PURCHASES</th>\n",
              "      <th>INSTALLMENTS_PURCHASES</th>\n",
              "      <th>CASH_ADVANCE</th>\n",
              "      <th>PURCHASES_FREQUENCY</th>\n",
              "      <th>ONEOFF_PURCHASES_FREQUENCY</th>\n",
              "      <th>PURCHASES_INSTALLMENTS_FREQUENCY</th>\n",
              "      <th>CASH_ADVANCE_FREQUENCY</th>\n",
              "      <th>CASH_ADVANCE_TRX</th>\n",
              "      <th>PURCHASES_TRX</th>\n",
              "      <th>CREDIT_LIMIT</th>\n",
              "      <th>PAYMENTS</th>\n",
              "      <th>MINIMUM_PAYMENTS</th>\n",
              "      <th>PRC_FULL_PAYMENT</th>\n",
              "      <th>TENURE</th>\n",
              "    </tr>\n",
              "  </thead>\n",
              "  <tbody>\n",
              "    <tr>\n",
              "      <th>0</th>\n",
              "      <td>C10001</td>\n",
              "      <td>40.900749</td>\n",
              "      <td>0.818182</td>\n",
              "      <td>95.40</td>\n",
              "      <td>0.00</td>\n",
              "      <td>95.4</td>\n",
              "      <td>0.000000</td>\n",
              "      <td>0.166667</td>\n",
              "      <td>0.000000</td>\n",
              "      <td>0.083333</td>\n",
              "      <td>0.000000</td>\n",
              "      <td>0</td>\n",
              "      <td>2</td>\n",
              "      <td>1000.0</td>\n",
              "      <td>201.802084</td>\n",
              "      <td>139.509787</td>\n",
              "      <td>0.000000</td>\n",
              "      <td>12</td>\n",
              "    </tr>\n",
              "    <tr>\n",
              "      <th>1</th>\n",
              "      <td>C10002</td>\n",
              "      <td>3202.467416</td>\n",
              "      <td>0.909091</td>\n",
              "      <td>0.00</td>\n",
              "      <td>0.00</td>\n",
              "      <td>0.0</td>\n",
              "      <td>6442.945483</td>\n",
              "      <td>0.000000</td>\n",
              "      <td>0.000000</td>\n",
              "      <td>0.000000</td>\n",
              "      <td>0.250000</td>\n",
              "      <td>4</td>\n",
              "      <td>0</td>\n",
              "      <td>7000.0</td>\n",
              "      <td>4103.032597</td>\n",
              "      <td>1072.340217</td>\n",
              "      <td>0.222222</td>\n",
              "      <td>12</td>\n",
              "    </tr>\n",
              "    <tr>\n",
              "      <th>2</th>\n",
              "      <td>C10003</td>\n",
              "      <td>2495.148862</td>\n",
              "      <td>1.000000</td>\n",
              "      <td>773.17</td>\n",
              "      <td>773.17</td>\n",
              "      <td>0.0</td>\n",
              "      <td>0.000000</td>\n",
              "      <td>1.000000</td>\n",
              "      <td>1.000000</td>\n",
              "      <td>0.000000</td>\n",
              "      <td>0.000000</td>\n",
              "      <td>0</td>\n",
              "      <td>12</td>\n",
              "      <td>7500.0</td>\n",
              "      <td>622.066742</td>\n",
              "      <td>627.284787</td>\n",
              "      <td>0.000000</td>\n",
              "      <td>12</td>\n",
              "    </tr>\n",
              "    <tr>\n",
              "      <th>3</th>\n",
              "      <td>C10004</td>\n",
              "      <td>1666.670542</td>\n",
              "      <td>0.636364</td>\n",
              "      <td>1499.00</td>\n",
              "      <td>1499.00</td>\n",
              "      <td>0.0</td>\n",
              "      <td>205.788017</td>\n",
              "      <td>0.083333</td>\n",
              "      <td>0.083333</td>\n",
              "      <td>0.000000</td>\n",
              "      <td>0.083333</td>\n",
              "      <td>1</td>\n",
              "      <td>1</td>\n",
              "      <td>7500.0</td>\n",
              "      <td>0.000000</td>\n",
              "      <td>NaN</td>\n",
              "      <td>0.000000</td>\n",
              "      <td>12</td>\n",
              "    </tr>\n",
              "    <tr>\n",
              "      <th>4</th>\n",
              "      <td>C10005</td>\n",
              "      <td>817.714335</td>\n",
              "      <td>1.000000</td>\n",
              "      <td>16.00</td>\n",
              "      <td>16.00</td>\n",
              "      <td>0.0</td>\n",
              "      <td>0.000000</td>\n",
              "      <td>0.083333</td>\n",
              "      <td>0.083333</td>\n",
              "      <td>0.000000</td>\n",
              "      <td>0.000000</td>\n",
              "      <td>0</td>\n",
              "      <td>1</td>\n",
              "      <td>1200.0</td>\n",
              "      <td>678.334763</td>\n",
              "      <td>244.791237</td>\n",
              "      <td>0.000000</td>\n",
              "      <td>12</td>\n",
              "    </tr>\n",
              "  </tbody>\n",
              "</table>\n",
              "</div>"
            ],
            "text/plain": [
              "  CUST_ID      BALANCE  ...  PRC_FULL_PAYMENT  TENURE\n",
              "0  C10001    40.900749  ...          0.000000      12\n",
              "1  C10002  3202.467416  ...          0.222222      12\n",
              "2  C10003  2495.148862  ...          0.000000      12\n",
              "3  C10004  1666.670542  ...          0.000000      12\n",
              "4  C10005   817.714335  ...          0.000000      12\n",
              "\n",
              "[5 rows x 18 columns]"
            ]
          },
          "metadata": {},
          "execution_count": 6
        }
      ]
    },
    {
      "cell_type": "code",
      "metadata": {
        "colab": {
          "base_uri": "https://localhost:8080/"
        },
        "id": "rakJyIni2l-z",
        "outputId": "a8a535a2-0f59-4a25-8999-da5c5dd1bdfa"
      },
      "source": [
        "df.printSchema()"
      ],
      "execution_count": 7,
      "outputs": [
        {
          "output_type": "stream",
          "text": [
            "root\n",
            " |-- CUST_ID: string (nullable = true)\n",
            " |-- BALANCE: double (nullable = true)\n",
            " |-- BALANCE_FREQUENCY: double (nullable = true)\n",
            " |-- PURCHASES: double (nullable = true)\n",
            " |-- ONEOFF_PURCHASES: double (nullable = true)\n",
            " |-- INSTALLMENTS_PURCHASES: double (nullable = true)\n",
            " |-- CASH_ADVANCE: double (nullable = true)\n",
            " |-- PURCHASES_FREQUENCY: double (nullable = true)\n",
            " |-- ONEOFF_PURCHASES_FREQUENCY: double (nullable = true)\n",
            " |-- PURCHASES_INSTALLMENTS_FREQUENCY: double (nullable = true)\n",
            " |-- CASH_ADVANCE_FREQUENCY: double (nullable = true)\n",
            " |-- CASH_ADVANCE_TRX: integer (nullable = true)\n",
            " |-- PURCHASES_TRX: integer (nullable = true)\n",
            " |-- CREDIT_LIMIT: double (nullable = true)\n",
            " |-- PAYMENTS: double (nullable = true)\n",
            " |-- MINIMUM_PAYMENTS: double (nullable = true)\n",
            " |-- PRC_FULL_PAYMENT: double (nullable = true)\n",
            " |-- TENURE: integer (nullable = true)\n",
            "\n"
          ],
          "name": "stdout"
        }
      ]
    },
    {
      "cell_type": "code",
      "metadata": {
        "colab": {
          "base_uri": "https://localhost:8080/",
          "height": 224
        },
        "id": "TG3jgIbX2qUE",
        "outputId": "882244aa-7ec1-4f57-b5fe-5478bc7fc1a8"
      },
      "source": [
        "# fill missing values\n",
        "def fill_with_mean(df, include=set()): \n",
        "    stats = df.agg(*(avg(c).alias(c) for c in df.columns if c in include))\n",
        "    return df.na.fill(stats.first().asDict())\n",
        "\n",
        "columns = df.columns\n",
        "\n",
        "# exlcuding first column as it id\n",
        "columns = columns[1:]\n",
        "\n",
        "df = fill_with_mean(df, columns)\n",
        "df.limit(5).toPandas()"
      ],
      "execution_count": 8,
      "outputs": [
        {
          "output_type": "execute_result",
          "data": {
            "text/html": [
              "<div>\n",
              "<style scoped>\n",
              "    .dataframe tbody tr th:only-of-type {\n",
              "        vertical-align: middle;\n",
              "    }\n",
              "\n",
              "    .dataframe tbody tr th {\n",
              "        vertical-align: top;\n",
              "    }\n",
              "\n",
              "    .dataframe thead th {\n",
              "        text-align: right;\n",
              "    }\n",
              "</style>\n",
              "<table border=\"1\" class=\"dataframe\">\n",
              "  <thead>\n",
              "    <tr style=\"text-align: right;\">\n",
              "      <th></th>\n",
              "      <th>CUST_ID</th>\n",
              "      <th>BALANCE</th>\n",
              "      <th>BALANCE_FREQUENCY</th>\n",
              "      <th>PURCHASES</th>\n",
              "      <th>ONEOFF_PURCHASES</th>\n",
              "      <th>INSTALLMENTS_PURCHASES</th>\n",
              "      <th>CASH_ADVANCE</th>\n",
              "      <th>PURCHASES_FREQUENCY</th>\n",
              "      <th>ONEOFF_PURCHASES_FREQUENCY</th>\n",
              "      <th>PURCHASES_INSTALLMENTS_FREQUENCY</th>\n",
              "      <th>CASH_ADVANCE_FREQUENCY</th>\n",
              "      <th>CASH_ADVANCE_TRX</th>\n",
              "      <th>PURCHASES_TRX</th>\n",
              "      <th>CREDIT_LIMIT</th>\n",
              "      <th>PAYMENTS</th>\n",
              "      <th>MINIMUM_PAYMENTS</th>\n",
              "      <th>PRC_FULL_PAYMENT</th>\n",
              "      <th>TENURE</th>\n",
              "    </tr>\n",
              "  </thead>\n",
              "  <tbody>\n",
              "    <tr>\n",
              "      <th>0</th>\n",
              "      <td>C10001</td>\n",
              "      <td>40.900749</td>\n",
              "      <td>0.818182</td>\n",
              "      <td>95.40</td>\n",
              "      <td>0.00</td>\n",
              "      <td>95.4</td>\n",
              "      <td>0.000000</td>\n",
              "      <td>0.166667</td>\n",
              "      <td>0.000000</td>\n",
              "      <td>0.083333</td>\n",
              "      <td>0.000000</td>\n",
              "      <td>0</td>\n",
              "      <td>2</td>\n",
              "      <td>1000.0</td>\n",
              "      <td>201.802084</td>\n",
              "      <td>139.509787</td>\n",
              "      <td>0.000000</td>\n",
              "      <td>12</td>\n",
              "    </tr>\n",
              "    <tr>\n",
              "      <th>1</th>\n",
              "      <td>C10002</td>\n",
              "      <td>3202.467416</td>\n",
              "      <td>0.909091</td>\n",
              "      <td>0.00</td>\n",
              "      <td>0.00</td>\n",
              "      <td>0.0</td>\n",
              "      <td>6442.945483</td>\n",
              "      <td>0.000000</td>\n",
              "      <td>0.000000</td>\n",
              "      <td>0.000000</td>\n",
              "      <td>0.250000</td>\n",
              "      <td>4</td>\n",
              "      <td>0</td>\n",
              "      <td>7000.0</td>\n",
              "      <td>4103.032597</td>\n",
              "      <td>1072.340217</td>\n",
              "      <td>0.222222</td>\n",
              "      <td>12</td>\n",
              "    </tr>\n",
              "    <tr>\n",
              "      <th>2</th>\n",
              "      <td>C10003</td>\n",
              "      <td>2495.148862</td>\n",
              "      <td>1.000000</td>\n",
              "      <td>773.17</td>\n",
              "      <td>773.17</td>\n",
              "      <td>0.0</td>\n",
              "      <td>0.000000</td>\n",
              "      <td>1.000000</td>\n",
              "      <td>1.000000</td>\n",
              "      <td>0.000000</td>\n",
              "      <td>0.000000</td>\n",
              "      <td>0</td>\n",
              "      <td>12</td>\n",
              "      <td>7500.0</td>\n",
              "      <td>622.066742</td>\n",
              "      <td>627.284787</td>\n",
              "      <td>0.000000</td>\n",
              "      <td>12</td>\n",
              "    </tr>\n",
              "    <tr>\n",
              "      <th>3</th>\n",
              "      <td>C10004</td>\n",
              "      <td>1666.670542</td>\n",
              "      <td>0.636364</td>\n",
              "      <td>1499.00</td>\n",
              "      <td>1499.00</td>\n",
              "      <td>0.0</td>\n",
              "      <td>205.788017</td>\n",
              "      <td>0.083333</td>\n",
              "      <td>0.083333</td>\n",
              "      <td>0.000000</td>\n",
              "      <td>0.083333</td>\n",
              "      <td>1</td>\n",
              "      <td>1</td>\n",
              "      <td>7500.0</td>\n",
              "      <td>0.000000</td>\n",
              "      <td>864.206542</td>\n",
              "      <td>0.000000</td>\n",
              "      <td>12</td>\n",
              "    </tr>\n",
              "    <tr>\n",
              "      <th>4</th>\n",
              "      <td>C10005</td>\n",
              "      <td>817.714335</td>\n",
              "      <td>1.000000</td>\n",
              "      <td>16.00</td>\n",
              "      <td>16.00</td>\n",
              "      <td>0.0</td>\n",
              "      <td>0.000000</td>\n",
              "      <td>0.083333</td>\n",
              "      <td>0.083333</td>\n",
              "      <td>0.000000</td>\n",
              "      <td>0.000000</td>\n",
              "      <td>0</td>\n",
              "      <td>1</td>\n",
              "      <td>1200.0</td>\n",
              "      <td>678.334763</td>\n",
              "      <td>244.791237</td>\n",
              "      <td>0.000000</td>\n",
              "      <td>12</td>\n",
              "    </tr>\n",
              "  </tbody>\n",
              "</table>\n",
              "</div>"
            ],
            "text/plain": [
              "  CUST_ID      BALANCE  ...  PRC_FULL_PAYMENT  TENURE\n",
              "0  C10001    40.900749  ...          0.000000      12\n",
              "1  C10002  3202.467416  ...          0.222222      12\n",
              "2  C10003  2495.148862  ...          0.000000      12\n",
              "3  C10004  1666.670542  ...          0.000000      12\n",
              "4  C10005   817.714335  ...          0.000000      12\n",
              "\n",
              "[5 rows x 18 columns]"
            ]
          },
          "metadata": {},
          "execution_count": 8
        }
      ]
    },
    {
      "cell_type": "code",
      "metadata": {
        "colab": {
          "base_uri": "https://localhost:8080/"
        },
        "id": "Ezt84w8Z-VuJ",
        "outputId": "4bcf4350-aa95-4bab-b6eb-564a93bbaa2c"
      },
      "source": [
        "df.count()"
      ],
      "execution_count": 9,
      "outputs": [
        {
          "output_type": "execute_result",
          "data": {
            "text/plain": [
              "8950"
            ]
          },
          "metadata": {},
          "execution_count": 9
        }
      ]
    },
    {
      "cell_type": "code",
      "metadata": {
        "colab": {
          "base_uri": "https://localhost:8080/",
          "height": 414
        },
        "id": "vX_3GL4R3g-P",
        "outputId": "ba1f3d5c-9599-4c78-e317-ad6817e3f7f6"
      },
      "source": [
        "# vectorized input features\n",
        "\n",
        "input_columns = df.columns \n",
        "input_columns = input_columns[1:] \n",
        "vecAssembler = VectorAssembler(inputCols=input_columns, outputCol=\"raw_features\")\n",
        "df_kmeans = vecAssembler.transform(df)\n",
        "df_kmeans.limit(4).toPandas()"
      ],
      "execution_count": 10,
      "outputs": [
        {
          "output_type": "execute_result",
          "data": {
            "text/html": [
              "<div>\n",
              "<style scoped>\n",
              "    .dataframe tbody tr th:only-of-type {\n",
              "        vertical-align: middle;\n",
              "    }\n",
              "\n",
              "    .dataframe tbody tr th {\n",
              "        vertical-align: top;\n",
              "    }\n",
              "\n",
              "    .dataframe thead th {\n",
              "        text-align: right;\n",
              "    }\n",
              "</style>\n",
              "<table border=\"1\" class=\"dataframe\">\n",
              "  <thead>\n",
              "    <tr style=\"text-align: right;\">\n",
              "      <th></th>\n",
              "      <th>CUST_ID</th>\n",
              "      <th>BALANCE</th>\n",
              "      <th>BALANCE_FREQUENCY</th>\n",
              "      <th>PURCHASES</th>\n",
              "      <th>ONEOFF_PURCHASES</th>\n",
              "      <th>INSTALLMENTS_PURCHASES</th>\n",
              "      <th>CASH_ADVANCE</th>\n",
              "      <th>PURCHASES_FREQUENCY</th>\n",
              "      <th>ONEOFF_PURCHASES_FREQUENCY</th>\n",
              "      <th>PURCHASES_INSTALLMENTS_FREQUENCY</th>\n",
              "      <th>CASH_ADVANCE_FREQUENCY</th>\n",
              "      <th>CASH_ADVANCE_TRX</th>\n",
              "      <th>PURCHASES_TRX</th>\n",
              "      <th>CREDIT_LIMIT</th>\n",
              "      <th>PAYMENTS</th>\n",
              "      <th>MINIMUM_PAYMENTS</th>\n",
              "      <th>PRC_FULL_PAYMENT</th>\n",
              "      <th>TENURE</th>\n",
              "      <th>raw_features</th>\n",
              "    </tr>\n",
              "  </thead>\n",
              "  <tbody>\n",
              "    <tr>\n",
              "      <th>0</th>\n",
              "      <td>C10001</td>\n",
              "      <td>40.900749</td>\n",
              "      <td>0.818182</td>\n",
              "      <td>95.40</td>\n",
              "      <td>0.00</td>\n",
              "      <td>95.4</td>\n",
              "      <td>0.000000</td>\n",
              "      <td>0.166667</td>\n",
              "      <td>0.000000</td>\n",
              "      <td>0.083333</td>\n",
              "      <td>0.000000</td>\n",
              "      <td>0</td>\n",
              "      <td>2</td>\n",
              "      <td>1000.0</td>\n",
              "      <td>201.802084</td>\n",
              "      <td>139.509787</td>\n",
              "      <td>0.000000</td>\n",
              "      <td>12</td>\n",
              "      <td>[40.900749, 0.818182, 95.4, 0.0, 95.4, 0.0, 0....</td>\n",
              "    </tr>\n",
              "    <tr>\n",
              "      <th>1</th>\n",
              "      <td>C10002</td>\n",
              "      <td>3202.467416</td>\n",
              "      <td>0.909091</td>\n",
              "      <td>0.00</td>\n",
              "      <td>0.00</td>\n",
              "      <td>0.0</td>\n",
              "      <td>6442.945483</td>\n",
              "      <td>0.000000</td>\n",
              "      <td>0.000000</td>\n",
              "      <td>0.000000</td>\n",
              "      <td>0.250000</td>\n",
              "      <td>4</td>\n",
              "      <td>0</td>\n",
              "      <td>7000.0</td>\n",
              "      <td>4103.032597</td>\n",
              "      <td>1072.340217</td>\n",
              "      <td>0.222222</td>\n",
              "      <td>12</td>\n",
              "      <td>(3202.467416, 0.909091, 0.0, 0.0, 0.0, 6442.94...</td>\n",
              "    </tr>\n",
              "    <tr>\n",
              "      <th>2</th>\n",
              "      <td>C10003</td>\n",
              "      <td>2495.148862</td>\n",
              "      <td>1.000000</td>\n",
              "      <td>773.17</td>\n",
              "      <td>773.17</td>\n",
              "      <td>0.0</td>\n",
              "      <td>0.000000</td>\n",
              "      <td>1.000000</td>\n",
              "      <td>1.000000</td>\n",
              "      <td>0.000000</td>\n",
              "      <td>0.000000</td>\n",
              "      <td>0</td>\n",
              "      <td>12</td>\n",
              "      <td>7500.0</td>\n",
              "      <td>622.066742</td>\n",
              "      <td>627.284787</td>\n",
              "      <td>0.000000</td>\n",
              "      <td>12</td>\n",
              "      <td>[2495.148862, 1.0, 773.17, 773.17, 0.0, 0.0, 1...</td>\n",
              "    </tr>\n",
              "    <tr>\n",
              "      <th>3</th>\n",
              "      <td>C10004</td>\n",
              "      <td>1666.670542</td>\n",
              "      <td>0.636364</td>\n",
              "      <td>1499.00</td>\n",
              "      <td>1499.00</td>\n",
              "      <td>0.0</td>\n",
              "      <td>205.788017</td>\n",
              "      <td>0.083333</td>\n",
              "      <td>0.083333</td>\n",
              "      <td>0.000000</td>\n",
              "      <td>0.083333</td>\n",
              "      <td>1</td>\n",
              "      <td>1</td>\n",
              "      <td>7500.0</td>\n",
              "      <td>0.000000</td>\n",
              "      <td>864.206542</td>\n",
              "      <td>0.000000</td>\n",
              "      <td>12</td>\n",
              "      <td>[1666.670542, 0.636364, 1499.0, 1499.0, 0.0, 2...</td>\n",
              "    </tr>\n",
              "  </tbody>\n",
              "</table>\n",
              "</div>"
            ],
            "text/plain": [
              "  CUST_ID  ...                                       raw_features\n",
              "0  C10001  ...  [40.900749, 0.818182, 95.4, 0.0, 95.4, 0.0, 0....\n",
              "1  C10002  ...  (3202.467416, 0.909091, 0.0, 0.0, 0.0, 6442.94...\n",
              "2  C10003  ...  [2495.148862, 1.0, 773.17, 773.17, 0.0, 0.0, 1...\n",
              "3  C10004  ...  [1666.670542, 0.636364, 1499.0, 1499.0, 0.0, 2...\n",
              "\n",
              "[4 rows x 19 columns]"
            ]
          },
          "metadata": {},
          "execution_count": 10
        }
      ]
    },
    {
      "cell_type": "code",
      "metadata": {
        "colab": {
          "base_uri": "https://localhost:8080/",
          "height": 414
        },
        "id": "jtNUOkc13xPq",
        "outputId": "08d83a13-a126-4af4-e94c-f7a2334ba5e2"
      },
      "source": [
        "# scaling the vectors\n",
        "scaler = StandardScaler(inputCol=\"raw_features\", outputCol=\"features\" )\n",
        "df_kmeans = scaler.fit(df_kmeans).transform(df_kmeans)\n",
        "df_kmeans.limit(4).toPandas()"
      ],
      "execution_count": 11,
      "outputs": [
        {
          "output_type": "execute_result",
          "data": {
            "text/html": [
              "<div>\n",
              "<style scoped>\n",
              "    .dataframe tbody tr th:only-of-type {\n",
              "        vertical-align: middle;\n",
              "    }\n",
              "\n",
              "    .dataframe tbody tr th {\n",
              "        vertical-align: top;\n",
              "    }\n",
              "\n",
              "    .dataframe thead th {\n",
              "        text-align: right;\n",
              "    }\n",
              "</style>\n",
              "<table border=\"1\" class=\"dataframe\">\n",
              "  <thead>\n",
              "    <tr style=\"text-align: right;\">\n",
              "      <th></th>\n",
              "      <th>CUST_ID</th>\n",
              "      <th>BALANCE</th>\n",
              "      <th>BALANCE_FREQUENCY</th>\n",
              "      <th>PURCHASES</th>\n",
              "      <th>ONEOFF_PURCHASES</th>\n",
              "      <th>INSTALLMENTS_PURCHASES</th>\n",
              "      <th>CASH_ADVANCE</th>\n",
              "      <th>PURCHASES_FREQUENCY</th>\n",
              "      <th>ONEOFF_PURCHASES_FREQUENCY</th>\n",
              "      <th>PURCHASES_INSTALLMENTS_FREQUENCY</th>\n",
              "      <th>CASH_ADVANCE_FREQUENCY</th>\n",
              "      <th>CASH_ADVANCE_TRX</th>\n",
              "      <th>PURCHASES_TRX</th>\n",
              "      <th>CREDIT_LIMIT</th>\n",
              "      <th>PAYMENTS</th>\n",
              "      <th>MINIMUM_PAYMENTS</th>\n",
              "      <th>PRC_FULL_PAYMENT</th>\n",
              "      <th>TENURE</th>\n",
              "      <th>raw_features</th>\n",
              "      <th>features</th>\n",
              "    </tr>\n",
              "  </thead>\n",
              "  <tbody>\n",
              "    <tr>\n",
              "      <th>0</th>\n",
              "      <td>C10001</td>\n",
              "      <td>40.900749</td>\n",
              "      <td>0.818182</td>\n",
              "      <td>95.40</td>\n",
              "      <td>0.00</td>\n",
              "      <td>95.4</td>\n",
              "      <td>0.000000</td>\n",
              "      <td>0.166667</td>\n",
              "      <td>0.000000</td>\n",
              "      <td>0.083333</td>\n",
              "      <td>0.000000</td>\n",
              "      <td>0</td>\n",
              "      <td>2</td>\n",
              "      <td>1000.0</td>\n",
              "      <td>201.802084</td>\n",
              "      <td>139.509787</td>\n",
              "      <td>0.000000</td>\n",
              "      <td>12</td>\n",
              "      <td>[40.900749, 0.818182, 95.4, 0.0, 95.4, 0.0, 0....</td>\n",
              "      <td>[0.019649350271146598, 3.453643630870587, 0.04...</td>\n",
              "    </tr>\n",
              "    <tr>\n",
              "      <th>1</th>\n",
              "      <td>C10002</td>\n",
              "      <td>3202.467416</td>\n",
              "      <td>0.909091</td>\n",
              "      <td>0.00</td>\n",
              "      <td>0.00</td>\n",
              "      <td>0.0</td>\n",
              "      <td>6442.945483</td>\n",
              "      <td>0.000000</td>\n",
              "      <td>0.000000</td>\n",
              "      <td>0.000000</td>\n",
              "      <td>0.250000</td>\n",
              "      <td>4</td>\n",
              "      <td>0</td>\n",
              "      <td>7000.0</td>\n",
              "      <td>4103.032597</td>\n",
              "      <td>1072.340217</td>\n",
              "      <td>0.222222</td>\n",
              "      <td>12</td>\n",
              "      <td>(3202.467416, 0.909091, 0.0, 0.0, 0.0, 6442.94...</td>\n",
              "      <td>(1.5385147100586776, 3.8373813430652013, 0.0, ...</td>\n",
              "    </tr>\n",
              "    <tr>\n",
              "      <th>2</th>\n",
              "      <td>C10003</td>\n",
              "      <td>2495.148862</td>\n",
              "      <td>1.000000</td>\n",
              "      <td>773.17</td>\n",
              "      <td>773.17</td>\n",
              "      <td>0.0</td>\n",
              "      <td>0.000000</td>\n",
              "      <td>1.000000</td>\n",
              "      <td>1.000000</td>\n",
              "      <td>0.000000</td>\n",
              "      <td>0.000000</td>\n",
              "      <td>0</td>\n",
              "      <td>12</td>\n",
              "      <td>7500.0</td>\n",
              "      <td>622.066742</td>\n",
              "      <td>627.284787</td>\n",
              "      <td>0.000000</td>\n",
              "      <td>12</td>\n",
              "      <td>[2495.148862, 1.0, 773.17, 773.17, 0.0, 0.0, 1...</td>\n",
              "      <td>[1.198707973980888, 4.221119055259816, 0.36186...</td>\n",
              "    </tr>\n",
              "    <tr>\n",
              "      <th>3</th>\n",
              "      <td>C10004</td>\n",
              "      <td>1666.670542</td>\n",
              "      <td>0.636364</td>\n",
              "      <td>1499.00</td>\n",
              "      <td>1499.00</td>\n",
              "      <td>0.0</td>\n",
              "      <td>205.788017</td>\n",
              "      <td>0.083333</td>\n",
              "      <td>0.083333</td>\n",
              "      <td>0.000000</td>\n",
              "      <td>0.083333</td>\n",
              "      <td>1</td>\n",
              "      <td>1</td>\n",
              "      <td>7500.0</td>\n",
              "      <td>0.000000</td>\n",
              "      <td>864.206542</td>\n",
              "      <td>0.000000</td>\n",
              "      <td>12</td>\n",
              "      <td>[1666.670542, 0.636364, 1499.0, 1499.0, 0.0, 2...</td>\n",
              "      <td>[0.8006942187381397, 2.6861682064813577, 0.701...</td>\n",
              "    </tr>\n",
              "  </tbody>\n",
              "</table>\n",
              "</div>"
            ],
            "text/plain": [
              "  CUST_ID  ...                                           features\n",
              "0  C10001  ...  [0.019649350271146598, 3.453643630870587, 0.04...\n",
              "1  C10002  ...  (1.5385147100586776, 3.8373813430652013, 0.0, ...\n",
              "2  C10003  ...  [1.198707973980888, 4.221119055259816, 0.36186...\n",
              "3  C10004  ...  [0.8006942187381397, 2.6861682064813577, 0.701...\n",
              "\n",
              "[4 rows x 20 columns]"
            ]
          },
          "metadata": {},
          "execution_count": 11
        }
      ]
    },
    {
      "cell_type": "markdown",
      "metadata": {
        "id": "zwNN1sMvHxw6"
      },
      "source": [
        "## K Means Clustering"
      ]
    },
    {
      "cell_type": "code",
      "metadata": {
        "id": "BrszN3Hg5IpF"
      },
      "source": [
        "kmax = 10\n",
        "evaluator = ClusteringEvaluator()\n",
        "\n",
        "score = []\n",
        "\n",
        "for k in range(2,kmax):\n",
        "    \n",
        "    kmeans = KMeans().setK(k).setSeed(1).setFeaturesCol(\"features\")\n",
        "    model = kmeans.fit(df_kmeans)\n",
        "    predictions = model.transform(df_kmeans)\n",
        "    \n",
        "    #computing Silhouette score\n",
        "    cost = evaluator.evaluate(predictions)\n",
        "    score.append(cost)"
      ],
      "execution_count": 12,
      "outputs": []
    },
    {
      "cell_type": "code",
      "metadata": {
        "colab": {
          "base_uri": "https://localhost:8080/",
          "height": 500
        },
        "id": "TouCeCV353Xd",
        "outputId": "9d07b427-c829-4ae5-b12d-903858fa47b3"
      },
      "source": [
        "plt.figure(figsize=(15,8))\n",
        "plt.plot(range(2,kmax),score)"
      ],
      "execution_count": 13,
      "outputs": [
        {
          "output_type": "execute_result",
          "data": {
            "text/plain": [
              "[<matplotlib.lines.Line2D at 0x7fec78efbed0>]"
            ]
          },
          "metadata": {},
          "execution_count": 13
        },
        {
          "output_type": "display_data",
          "data": {
            "image/png": "[encoded data removed]",
            "text/plain": [
              "<Figure size 1080x576 with 1 Axes>"
            ]
          },
          "metadata": {
            "needs_background": "light"
          }
        }
      ]
    },
    {
      "cell_type": "code",
      "metadata": {
        "colab": {
          "base_uri": "https://localhost:8080/",
          "height": 315
        },
        "id": "zPa0PZSv7Tw1",
        "outputId": "a221ba1e-03b5-4fd4-c00a-3005ceb35cfb"
      },
      "source": [
        "# select k and run clustering\n",
        "k = 3\n",
        "kmeans = KMeans().setK(k).setSeed(1).setFeaturesCol(\"features\")\n",
        "model = kmeans.fit(df_kmeans)\n",
        "predictions = model.transform(df_kmeans)\n",
        "predictions.limit(3).toPandas()"
      ],
      "execution_count": 14,
      "outputs": [
        {
          "output_type": "execute_result",
          "data": {
            "text/html": [
              "<div>\n",
              "<style scoped>\n",
              "    .dataframe tbody tr th:only-of-type {\n",
              "        vertical-align: middle;\n",
              "    }\n",
              "\n",
              "    .dataframe tbody tr th {\n",
              "        vertical-align: top;\n",
              "    }\n",
              "\n",
              "    .dataframe thead th {\n",
              "        text-align: right;\n",
              "    }\n",
              "</style>\n",
              "<table border=\"1\" class=\"dataframe\">\n",
              "  <thead>\n",
              "    <tr style=\"text-align: right;\">\n",
              "      <th></th>\n",
              "      <th>CUST_ID</th>\n",
              "      <th>BALANCE</th>\n",
              "      <th>BALANCE_FREQUENCY</th>\n",
              "      <th>PURCHASES</th>\n",
              "      <th>ONEOFF_PURCHASES</th>\n",
              "      <th>INSTALLMENTS_PURCHASES</th>\n",
              "      <th>CASH_ADVANCE</th>\n",
              "      <th>PURCHASES_FREQUENCY</th>\n",
              "      <th>ONEOFF_PURCHASES_FREQUENCY</th>\n",
              "      <th>PURCHASES_INSTALLMENTS_FREQUENCY</th>\n",
              "      <th>CASH_ADVANCE_FREQUENCY</th>\n",
              "      <th>CASH_ADVANCE_TRX</th>\n",
              "      <th>PURCHASES_TRX</th>\n",
              "      <th>CREDIT_LIMIT</th>\n",
              "      <th>PAYMENTS</th>\n",
              "      <th>MINIMUM_PAYMENTS</th>\n",
              "      <th>PRC_FULL_PAYMENT</th>\n",
              "      <th>TENURE</th>\n",
              "      <th>raw_features</th>\n",
              "      <th>features</th>\n",
              "      <th>prediction</th>\n",
              "    </tr>\n",
              "  </thead>\n",
              "  <tbody>\n",
              "    <tr>\n",
              "      <th>0</th>\n",
              "      <td>C10001</td>\n",
              "      <td>40.900749</td>\n",
              "      <td>0.818182</td>\n",
              "      <td>95.40</td>\n",
              "      <td>0.00</td>\n",
              "      <td>95.4</td>\n",
              "      <td>0.000000</td>\n",
              "      <td>0.166667</td>\n",
              "      <td>0.0</td>\n",
              "      <td>0.083333</td>\n",
              "      <td>0.00</td>\n",
              "      <td>0</td>\n",
              "      <td>2</td>\n",
              "      <td>1000.0</td>\n",
              "      <td>201.802084</td>\n",
              "      <td>139.509787</td>\n",
              "      <td>0.000000</td>\n",
              "      <td>12</td>\n",
              "      <td>[40.900749, 0.818182, 95.4, 0.0, 95.4, 0.0, 0....</td>\n",
              "      <td>[0.019649350271146598, 3.453643630870587, 0.04...</td>\n",
              "      <td>1</td>\n",
              "    </tr>\n",
              "    <tr>\n",
              "      <th>1</th>\n",
              "      <td>C10002</td>\n",
              "      <td>3202.467416</td>\n",
              "      <td>0.909091</td>\n",
              "      <td>0.00</td>\n",
              "      <td>0.00</td>\n",
              "      <td>0.0</td>\n",
              "      <td>6442.945483</td>\n",
              "      <td>0.000000</td>\n",
              "      <td>0.0</td>\n",
              "      <td>0.000000</td>\n",
              "      <td>0.25</td>\n",
              "      <td>4</td>\n",
              "      <td>0</td>\n",
              "      <td>7000.0</td>\n",
              "      <td>4103.032597</td>\n",
              "      <td>1072.340217</td>\n",
              "      <td>0.222222</td>\n",
              "      <td>12</td>\n",
              "      <td>(3202.467416, 0.909091, 0.0, 0.0, 0.0, 6442.94...</td>\n",
              "      <td>(1.5385147100586776, 3.8373813430652013, 0.0, ...</td>\n",
              "      <td>2</td>\n",
              "    </tr>\n",
              "    <tr>\n",
              "      <th>2</th>\n",
              "      <td>C10003</td>\n",
              "      <td>2495.148862</td>\n",
              "      <td>1.000000</td>\n",
              "      <td>773.17</td>\n",
              "      <td>773.17</td>\n",
              "      <td>0.0</td>\n",
              "      <td>0.000000</td>\n",
              "      <td>1.000000</td>\n",
              "      <td>1.0</td>\n",
              "      <td>0.000000</td>\n",
              "      <td>0.00</td>\n",
              "      <td>0</td>\n",
              "      <td>12</td>\n",
              "      <td>7500.0</td>\n",
              "      <td>622.066742</td>\n",
              "      <td>627.284787</td>\n",
              "      <td>0.000000</td>\n",
              "      <td>12</td>\n",
              "      <td>[2495.148862, 1.0, 773.17, 773.17, 0.0, 0.0, 1...</td>\n",
              "      <td>[1.198707973980888, 4.221119055259816, 0.36186...</td>\n",
              "      <td>1</td>\n",
              "    </tr>\n",
              "  </tbody>\n",
              "</table>\n",
              "</div>"
            ],
            "text/plain": [
              "  CUST_ID  ...  prediction\n",
              "0  C10001  ...           1\n",
              "1  C10002  ...           2\n",
              "2  C10003  ...           1\n",
              "\n",
              "[3 rows x 21 columns]"
            ]
          },
          "metadata": {},
          "execution_count": 14
        }
      ]
    },
    {
      "cell_type": "code",
      "metadata": {
        "colab": {
          "base_uri": "https://localhost:8080/"
        },
        "id": "y-HCJ3wP9dPp",
        "outputId": "5a0cde12-abd8-442e-f13f-ee79146f4420"
      },
      "source": [
        "predictions.groupBy('prediction').count().show()"
      ],
      "execution_count": 15,
      "outputs": [
        {
          "output_type": "stream",
          "text": [
            "+----------+-----+\n",
            "|prediction|count|\n",
            "+----------+-----+\n",
            "|         1| 6107|\n",
            "|         2| 1570|\n",
            "|         0| 1273|\n",
            "+----------+-----+\n",
            "\n"
          ],
          "name": "stdout"
        }
      ]
    },
    {
      "cell_type": "code",
      "metadata": {
        "colab": {
          "base_uri": "https://localhost:8080/"
        },
        "id": "ohTjKCWe90HS",
        "outputId": "d07b40aa-d266-4bfd-f9fc-5e55e8b1f000"
      },
      "source": [
        "# Shows the cluster centers\n",
        "centers = model.clusterCenters()\n",
        "centers"
      ],
      "execution_count": 16,
      "outputs": [
        {
          "output_type": "execute_result",
          "data": {
            "text/plain": [
              "[array([1.04915345, 4.14381927, 1.9600552 , 1.60618447, 1.68333817,\n",
              "        0.21462613, 2.36224146, 2.2300431 , 1.86043443, 0.31213208,\n",
              "        0.22105675, 2.24183889, 2.10148985, 1.40806352, 0.52803533,\n",
              "        1.02200264, 8.9042244 ]),\n",
              " array([0.38788749, 3.52295761, 0.23250972, 0.14898513, 0.27623634,\n",
              "        0.16044417, 1.14794402, 0.43291548, 0.86173866, 0.34600201,\n",
              "        0.18034736, 0.34141036, 0.8977647 , 0.31368132, 0.23999871,\n",
              "        0.5273668 , 8.57597575]),\n",
              " array([1.92761603, 4.04687338, 0.1817118 , 0.15185185, 0.15068879,\n",
              "        1.86592866, 0.58190051, 0.37518784, 0.36508838, 2.25440462,\n",
              "        1.83613179, 0.22622752, 1.84644827, 1.05156891, 0.75295787,\n",
              "        0.11467982, 8.47906855])]"
            ]
          },
          "metadata": {},
          "execution_count": 16
        }
      ]
    },
    {
      "cell_type": "code",
      "metadata": {
        "colab": {
          "base_uri": "https://localhost:8080/"
        },
        "id": "0u1-hvLUG_M-",
        "outputId": "38ed24f2-a6e6-4231-a7dc-4a65adb81bd7"
      },
      "source": [
        "d = {col:'mean' for col in input_columns}\n",
        "d"
      ],
      "execution_count": 17,
      "outputs": [
        {
          "output_type": "execute_result",
          "data": {
            "text/plain": [
              "{'BALANCE': 'mean',\n",
              " 'BALANCE_FREQUENCY': 'mean',\n",
              " 'CASH_ADVANCE': 'mean',\n",
              " 'CASH_ADVANCE_FREQUENCY': 'mean',\n",
              " 'CASH_ADVANCE_TRX': 'mean',\n",
              " 'CREDIT_LIMIT': 'mean',\n",
              " 'INSTALLMENTS_PURCHASES': 'mean',\n",
              " 'MINIMUM_PAYMENTS': 'mean',\n",
              " 'ONEOFF_PURCHASES': 'mean',\n",
              " 'ONEOFF_PURCHASES_FREQUENCY': 'mean',\n",
              " 'PAYMENTS': 'mean',\n",
              " 'PRC_FULL_PAYMENT': 'mean',\n",
              " 'PURCHASES': 'mean',\n",
              " 'PURCHASES_FREQUENCY': 'mean',\n",
              " 'PURCHASES_INSTALLMENTS_FREQUENCY': 'mean',\n",
              " 'PURCHASES_TRX': 'mean',\n",
              " 'TENURE': 'mean'}"
            ]
          },
          "metadata": {},
          "execution_count": 17
        }
      ]
    },
    {
      "cell_type": "code",
      "metadata": {
        "colab": {
          "base_uri": "https://localhost:8080/"
        },
        "id": "TF7ML9IP-t7r",
        "outputId": "0ce09971-5078-42a1-d1df-5b53c438cfe6"
      },
      "source": [
        "predictions.groupBy('prediction').agg(d).show()"
      ],
      "execution_count": 18,
      "outputs": [
        {
          "output_type": "stream",
          "text": [
            "+----------+------------------+-------------------------------+------------------+------------------+---------------------------+---------------------+----------------------+---------------------+------------------------+------------------+---------------------------+-------------------------------------+---------------------+------------------+-----------------+------------------+---------------------+\n",
            "|prediction|      avg(BALANCE)|avg(ONEOFF_PURCHASES_FREQUENCY)|avg(PURCHASES_TRX)|     avg(PAYMENTS)|avg(INSTALLMENTS_PURCHASES)|avg(ONEOFF_PURCHASES)|avg(BALANCE_FREQUENCY)|avg(CASH_ADVANCE_TRX)|avg(PURCHASES_FREQUENCY)| avg(CREDIT_LIMIT)|avg(CASH_ADVANCE_FREQUENCY)|avg(PURCHASES_INSTALLMENTS_FREQUENCY)|avg(MINIMUM_PAYMENTS)|       avg(TENURE)|   avg(PURCHASES)| avg(CASH_ADVANCE)|avg(PRC_FULL_PAYMENT)|\n",
            "+----------+------------------+-------------------------------+------------------+------------------+---------------------------+---------------------+----------------------+---------------------+------------------------+------------------+---------------------------+-------------------------------------+---------------------+------------------+-----------------+------------------+---------------------+\n",
            "|         1| 806.9884911470444|            0.12936034337645477| 8.492058293761257| 908.3101861388576|         249.90400360242288|    247.3809824791218|    0.8345485924349121|    1.227607663337154|     0.46102485000818855|3265.7226191760874|        0.06907209202554432|                   0.3427310938267562|     559.345150679721| 11.47813983952841|496.9635582118869| 336.1867956176523|  0.15444133666284685|\n",
            "|         2|4007.3706414414005|            0.11171818025477731| 5.617834394904459|3039.1259148675167|          136.1151082802547|   251.57540764331222|    0.9587993808917195|   12.521019108280255|     0.23327079044585966|6714.9073537929935|        0.45104318598726095|                   0.1449855331210191|   1752.2800609080966|11.345859872611465|387.6117452229303|3907.2410462025446|  0.03347965923566885|\n",
            "|         0|2185.5452358373905|             0.6650393621366848| 55.75176747839749|4079.4654222545187|         1523.3236056559313|    2668.173935585231|    0.9816729866457178|   1.5098193244304792|       0.948093879025922| 7650.549882168107|        0.06251337391987434|                   0.7392208405341698|    1231.459562296736|11.916732128829537|  4191.0262136685| 450.4597432765123|  0.29851515789473687|\n",
            "+----------+------------------+-------------------------------+------------------+------------------+---------------------------+---------------------+----------------------+---------------------+------------------------+------------------+---------------------------+-------------------------------------+---------------------+------------------+-----------------+------------------+---------------------+\n",
            "\n"
          ],
          "name": "stdout"
        }
      ]
    },
    {
      "cell_type": "markdown",
      "metadata": {
        "id": "fL6YTVAWH5jg"
      },
      "source": [
        "## Bisecting K Means (Similar to Hierarchial Clustering)"
      ]
    },
    {
      "cell_type": "code",
      "metadata": {
        "id": "eiEUTl4wFK7Y"
      },
      "source": [
        "kmax = 10\n",
        "evaluator = ClusteringEvaluator()\n",
        "\n",
        "score = []\n",
        "\n",
        "for k in range(2,kmax):\n",
        "    \n",
        "    kmeans = BisectingKMeans().setK(k).setSeed(1).setFeaturesCol(\"features\")\n",
        "    model = kmeans.fit(df_kmeans)\n",
        "    predictions = model.transform(df_kmeans)\n",
        "    \n",
        "    #computing Silhouette score\n",
        "    cost = evaluator.evaluate(predictions)\n",
        "    score.append(cost)"
      ],
      "execution_count": 19,
      "outputs": []
    },
    {
      "cell_type": "code",
      "metadata": {
        "colab": {
          "base_uri": "https://localhost:8080/",
          "height": 500
        },
        "id": "LWSLrkDjIEa2",
        "outputId": "873b8490-af1f-499a-ca84-8a0c921a177c"
      },
      "source": [
        "plt.figure(figsize=(15,8))\n",
        "plt.plot(range(2,kmax),score)"
      ],
      "execution_count": 20,
      "outputs": [
        {
          "output_type": "execute_result",
          "data": {
            "text/plain": [
              "[<matplotlib.lines.Line2D at 0x7fec78940150>]"
            ]
          },
          "metadata": {},
          "execution_count": 20
        },
        {
          "output_type": "display_data",
          "data": {
            "image/png": "[encoded data removed]",
            "text/plain": [
              "<Figure size 1080x576 with 1 Axes>"
            ]
          },
          "metadata": {
            "needs_background": "light"
          }
        }
      ]
    },
    {
      "cell_type": "markdown",
      "metadata": {
        "id": "b4NBTWzDJRNo"
      },
      "source": [
        "## Gaussian Mixture Clustering"
      ]
    },
    {
      "cell_type": "code",
      "metadata": {
        "id": "vaZl9-GxIR5V"
      },
      "source": [
        "kmax = 11\n",
        "log_likli = []\n",
        "for k in range(2,kmax):\n",
        "    gm = GaussianMixture(k=k, tol=0.0001,maxIter=10, seed=10,featuresCol='features')\n",
        "    model = gm.fit(df_kmeans)\n",
        "    summary = model.summary\n",
        "    log_likli.append(summary.logLikelihood)"
      ],
      "execution_count": 21,
      "outputs": []
    },
    {
      "cell_type": "code",
      "metadata": {
        "colab": {
          "base_uri": "https://localhost:8080/",
          "height": 500
        },
        "id": "_Gm6vHanJfWE",
        "outputId": "fcfc7b87-7b29-4432-93a5-55ff055328e3"
      },
      "source": [
        "# select cluster which maximize log likelihood\n",
        "plt.figure(figsize=(15,8))\n",
        "plt.plot(range(2,kmax),log_likli)"
      ],
      "execution_count": 22,
      "outputs": [
        {
          "output_type": "execute_result",
          "data": {
            "text/plain": [
              "[<matplotlib.lines.Line2D at 0x7fec788c21d0>]"
            ]
          },
          "metadata": {},
          "execution_count": 22
        },
        {
          "output_type": "display_data",
          "data": {
            "image/png": "[encoded data removed]",
            "text/plain": [
              "<Figure size 1080x576 with 1 Axes>"
            ]
          },
          "metadata": {
            "needs_background": "light"
          }
        }
      ]
    },
    {
      "cell_type": "code",
      "metadata": {
        "colab": {
          "base_uri": "https://localhost:8080/"
        },
        "id": "4ICdXPsmJ-Kv",
        "outputId": "709b3a2f-26ea-45a2-eb54-432352f3320f"
      },
      "source": [
        "#for the sake of speed and simplicity we will stick with k = 5\n",
        "gm = GaussianMixture(k=5, maxIter=10, seed=10)\n",
        "model = gm.fit(df_kmeans)\n",
        "\n",
        "summary = model.summary\n",
        "\n",
        "print(\"Clusters: \",summary.k)\n",
        "print(\"Cluster Sizes: \",summary.clusterSizes)\n",
        "print(\"Log Likelihood: \",summary.logLikelihood)\n",
        "\n",
        "weights = model.weights\n",
        "print(\"Model Weights: :\",len(weights))\n",
        "\n",
        "print(\"Means: \", model.gaussiansDF.select(\"mean\").head())\n",
        "\n",
        "print(\"Cov: \",model.gaussiansDF.select(\"cov\").head())\n",
        "\n",
        "transformed = model.transform(df_kmeans)"
      ],
      "execution_count": 23,
      "outputs": [
        {
          "output_type": "stream",
          "text": [
            "Clusters:  5\n",
            "Cluster Sizes:  [743, 2904, 2440, 2455, 408]\n",
            "Log Likelihood:  -47124.07780724605\n",
            "Model Weights: : 5\n",
            "Means:  Row(mean=DenseVector([2.0978, 4.1702, 1.2006, 0.9011, 1.1836, 1.0001, 2.0017, 1.3146, 1.6417, 1.4668, 1.1356, 1.5679, 2.0397, 1.1868, 1.3739, 0.0962, 8.6514]))\n",
            "Cov:  Row(cov=DenseMatrix(17, 17, [2.2266, 0.0589, 0.3885, 0.3227, 0.3244, 0.406, -0.0053, -0.0344, ..., -0.0861, 0.0274, 0.2308, 0.1819, 0.2186, 0.2634, 0.0018, 0.7334], False))\n"
          ],
          "name": "stdout"
        }
      ]
    },
    {
      "cell_type": "code",
      "metadata": {
        "colab": {
          "base_uri": "https://localhost:8080/",
          "height": 315
        },
        "id": "xPv0tjX3KX7l",
        "outputId": "3c524f34-e588-4721-fcae-ef2c75a54240"
      },
      "source": [
        "transformed.limit(3).toPandas()"
      ],
      "execution_count": 24,
      "outputs": [
        {
          "output_type": "execute_result",
          "data": {
            "text/html": [
              "<div>\n",
              "<style scoped>\n",
              "    .dataframe tbody tr th:only-of-type {\n",
              "        vertical-align: middle;\n",
              "    }\n",
              "\n",
              "    .dataframe tbody tr th {\n",
              "        vertical-align: top;\n",
              "    }\n",
              "\n",
              "    .dataframe thead th {\n",
              "        text-align: right;\n",
              "    }\n",
              "</style>\n",
              "<table border=\"1\" class=\"dataframe\">\n",
              "  <thead>\n",
              "    <tr style=\"text-align: right;\">\n",
              "      <th></th>\n",
              "      <th>CUST_ID</th>\n",
              "      <th>BALANCE</th>\n",
              "      <th>BALANCE_FREQUENCY</th>\n",
              "      <th>PURCHASES</th>\n",
              "      <th>ONEOFF_PURCHASES</th>\n",
              "      <th>INSTALLMENTS_PURCHASES</th>\n",
              "      <th>CASH_ADVANCE</th>\n",
              "      <th>PURCHASES_FREQUENCY</th>\n",
              "      <th>ONEOFF_PURCHASES_FREQUENCY</th>\n",
              "      <th>PURCHASES_INSTALLMENTS_FREQUENCY</th>\n",
              "      <th>CASH_ADVANCE_FREQUENCY</th>\n",
              "      <th>CASH_ADVANCE_TRX</th>\n",
              "      <th>PURCHASES_TRX</th>\n",
              "      <th>CREDIT_LIMIT</th>\n",
              "      <th>PAYMENTS</th>\n",
              "      <th>MINIMUM_PAYMENTS</th>\n",
              "      <th>PRC_FULL_PAYMENT</th>\n",
              "      <th>TENURE</th>\n",
              "      <th>raw_features</th>\n",
              "      <th>features</th>\n",
              "      <th>probability</th>\n",
              "      <th>prediction</th>\n",
              "    </tr>\n",
              "  </thead>\n",
              "  <tbody>\n",
              "    <tr>\n",
              "      <th>0</th>\n",
              "      <td>C10001</td>\n",
              "      <td>40.900749</td>\n",
              "      <td>0.818182</td>\n",
              "      <td>95.40</td>\n",
              "      <td>0.00</td>\n",
              "      <td>95.4</td>\n",
              "      <td>0.000000</td>\n",
              "      <td>0.166667</td>\n",
              "      <td>0.0</td>\n",
              "      <td>0.083333</td>\n",
              "      <td>0.00</td>\n",
              "      <td>0</td>\n",
              "      <td>2</td>\n",
              "      <td>1000.0</td>\n",
              "      <td>201.802084</td>\n",
              "      <td>139.509787</td>\n",
              "      <td>0.000000</td>\n",
              "      <td>12</td>\n",
              "      <td>[40.900749, 0.818182, 95.4, 0.0, 95.4, 0.0, 0....</td>\n",
              "      <td>[0.019649350271146598, 3.453643630870587, 0.04...</td>\n",
              "      <td>[4.5916870778173473e-10, 0.9999997860039278, 6...</td>\n",
              "      <td>1</td>\n",
              "    </tr>\n",
              "    <tr>\n",
              "      <th>1</th>\n",
              "      <td>C10002</td>\n",
              "      <td>3202.467416</td>\n",
              "      <td>0.909091</td>\n",
              "      <td>0.00</td>\n",
              "      <td>0.00</td>\n",
              "      <td>0.0</td>\n",
              "      <td>6442.945483</td>\n",
              "      <td>0.000000</td>\n",
              "      <td>0.0</td>\n",
              "      <td>0.000000</td>\n",
              "      <td>0.25</td>\n",
              "      <td>4</td>\n",
              "      <td>0</td>\n",
              "      <td>7000.0</td>\n",
              "      <td>4103.032597</td>\n",
              "      <td>1072.340217</td>\n",
              "      <td>0.222222</td>\n",
              "      <td>12</td>\n",
              "      <td>(3202.467416, 0.909091, 0.0, 0.0, 0.0, 6442.94...</td>\n",
              "      <td>(1.5385147100586776, 3.8373813430652013, 0.0, ...</td>\n",
              "      <td>[7.911704755239962e-05, 0.00010615069395605155...</td>\n",
              "      <td>4</td>\n",
              "    </tr>\n",
              "    <tr>\n",
              "      <th>2</th>\n",
              "      <td>C10003</td>\n",
              "      <td>2495.148862</td>\n",
              "      <td>1.000000</td>\n",
              "      <td>773.17</td>\n",
              "      <td>773.17</td>\n",
              "      <td>0.0</td>\n",
              "      <td>0.000000</td>\n",
              "      <td>1.000000</td>\n",
              "      <td>1.0</td>\n",
              "      <td>0.000000</td>\n",
              "      <td>0.00</td>\n",
              "      <td>0</td>\n",
              "      <td>12</td>\n",
              "      <td>7500.0</td>\n",
              "      <td>622.066742</td>\n",
              "      <td>627.284787</td>\n",
              "      <td>0.000000</td>\n",
              "      <td>12</td>\n",
              "      <td>[2495.148862, 1.0, 773.17, 773.17, 0.0, 0.0, 1...</td>\n",
              "      <td>[1.198707973980888, 4.221119055259816, 0.36186...</td>\n",
              "      <td>[5.885467283525961e-08, 2.866055530771904e-14,...</td>\n",
              "      <td>3</td>\n",
              "    </tr>\n",
              "  </tbody>\n",
              "</table>\n",
              "</div>"
            ],
            "text/plain": [
              "  CUST_ID  ...  prediction\n",
              "0  C10001  ...           1\n",
              "1  C10002  ...           4\n",
              "2  C10003  ...           3\n",
              "\n",
              "[3 rows x 22 columns]"
            ]
          },
          "metadata": {},
          "execution_count": 24
        }
      ]
    },
    {
      "cell_type": "code",
      "metadata": {
        "id": "m8F3C7BQKq-y"
      },
      "source": [
        ""
      ],
      "execution_count": 24,
      "outputs": []
    }
  ]
}
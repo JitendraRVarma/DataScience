{
  "nbformat": 4,
  "nbformat_minor": 0,
  "metadata": {
    "colab": {
      "name": "Regression.ipynb",
      "provenance": [],
      "collapsed_sections": []
    },
    "kernelspec": {
      "name": "python3",
      "display_name": "Python 3"
    },
    "language_info": {
      "name": "python"
    }
  },
  "cells": [
    {
      "cell_type": "markdown",
      "metadata": {
        "id": "Yp6mqGEAjYPM"
      },
      "source": [
        "## Configure PySpark Setup"
      ]
    },
    {
      "cell_type": "code",
      "metadata": {
        "colab": {
          "base_uri": "https://localhost:8080/",
          "height": 216
        },
        "id": "MCa9mNO1jZH9",
        "outputId": "fe192680-64c4-4324-9dfa-241a9195f8df"
      },
      "source": [
        "!apt-get install openjdk-8-jdk-headless -qq > /dev/null\n",
        "!wget -q https://archive.apache.org/dist/spark/spark-3.0.1/spark-3.0.1-bin-hadoop2.7.tgz\n",
        "!tar xf spark-3.0.1-bin-hadoop2.7.tgz\n",
        "!pip install -q findspark\n",
        "\n",
        "import os\n",
        "os.environ[\"JAVA_HOME\"] = \"/usr/lib/jvm/java-8-openjdk-amd64\"\n",
        "os.environ[\"SPARK_HOME\"] = \"/content/spark-3.0.1-bin-hadoop2.7\"\n",
        "\n",
        "\n",
        "import findspark\n",
        "findspark.init()\n",
        "\n",
        "\n",
        "import pyspark \n",
        "from pyspark.sql import SparkSession\n",
        "spark = SparkSession.builder.appName(\"App\").getOrCreate()\n",
        "spark"
      ],
      "execution_count": 1,
      "outputs": [
        {
          "output_type": "execute_result",
          "data": {
            "text/html": [
              "\n",
              "            <div>\n",
              "                <p><b>SparkSession - in-memory</b></p>\n",
              "                \n",
              "        <div>\n",
              "            <p><b>SparkContext</b></p>\n",
              "\n",
              "            <p><a href=\"http://971397afb45a:4040\">Spark UI</a></p>\n",
              "\n",
              "            <dl>\n",
              "              <dt>Version</dt>\n",
              "                <dd><code>v3.0.1</code></dd>\n",
              "              <dt>Master</dt>\n",
              "                <dd><code>local[*]</code></dd>\n",
              "              <dt>AppName</dt>\n",
              "                <dd><code>App</code></dd>\n",
              "            </dl>\n",
              "        </div>\n",
              "        \n",
              "            </div>\n",
              "        "
            ],
            "text/plain": [
              "<pyspark.sql.session.SparkSession at 0x7f499bbad250>"
            ]
          },
          "metadata": {},
          "execution_count": 1
        }
      ]
    },
    {
      "cell_type": "code",
      "metadata": {
        "colab": {
          "base_uri": "https://localhost:8080/"
        },
        "id": "a7bHaAOcld4r",
        "outputId": "2817b305-2f9c-4033-9ae3-2d16ed7375cd"
      },
      "source": [
        "# check number of cores PySpark is using\n",
        "cores = spark._jsc.sc().getExecutorMemoryStatus().keySet().size()\n",
        "print(\"You are working with\", cores, \"core(s)\")"
      ],
      "execution_count": 2,
      "outputs": [
        {
          "output_type": "stream",
          "text": [
            "You are working with 1 core(s)\n"
          ],
          "name": "stdout"
        }
      ]
    },
    {
      "cell_type": "code",
      "metadata": {
        "id": "X3BH7XKykc2M",
        "colab": {
          "base_uri": "https://localhost:8080/"
        },
        "outputId": "f210e34d-3f61-4748-cb0f-8444f62c2103"
      },
      "source": [
        "!cp /content/drive/MyDrive/Datasets.zip .\n",
        "!unzip Datasets.zip"
      ],
      "execution_count": 3,
      "outputs": [
        {
          "output_type": "stream",
          "text": [
            "Archive:  Datasets.zip\n",
            "   creating: Datasets/\n",
            "  inflating: Datasets/fifa19.csv     \n",
            "  inflating: Datasets/.DS_Store      \n",
            "  inflating: Datasets/zomato.csv     \n",
            "  inflating: Datasets/nyc_air_bnb.csv  \n",
            "  inflating: Datasets/supermarket_sales.csv  \n",
            "  inflating: Datasets/users3.parquet  \n",
            "  inflating: Datasets/Toddler Autism dataset July 2018.csv  \n",
            "   creating: Datasets/uw-madison-courses/\n",
            "  inflating: Datasets/uw-madison-courses/course_offerings.csv  \n",
            "  inflating: Datasets/uw-madison-courses/sections.csv  \n",
            "  inflating: Datasets/uw-madison-courses/schedules.csv  \n",
            "  inflating: Datasets/uw-madison-courses/database.sqlite3  \n",
            "  inflating: Datasets/uw-madison-courses/rooms.csv  \n",
            "  inflating: Datasets/uw-madison-courses/teachings.csv  \n",
            "  inflating: Datasets/uw-madison-courses/subjects.csv  \n",
            "  inflating: Datasets/uw-madison-courses/subject_memberships.csv  \n",
            "  inflating: Datasets/uw-madison-courses/grade_distributions.csv  \n",
            "  inflating: Datasets/uw-madison-courses/instructors.csv  \n",
            "  inflating: Datasets/uw-madison-courses/courses.csv  \n",
            "  inflating: Datasets/googleplaystore.csv  \n",
            "  inflating: Datasets/Rep_vs_Dem_tweets.csv  \n",
            "  inflating: Datasets/users2.parquet  \n",
            "  inflating: Datasets/rec-crime-pfa.csv  \n",
            " extracting: Datasets/Weather.csv.zip  \n",
            "  inflating: Datasets/people.json    \n",
            "  inflating: Datasets/pga_tour_historical.csv  \n",
            "  inflating: Datasets/youtubevideos.csv  \n",
            "  inflating: Datasets/students.csv   \n",
            "  inflating: Datasets/users1.parquet  \n",
            "  inflating: Datasets/housing.csv    \n"
          ],
          "name": "stdout"
        }
      ]
    },
    {
      "cell_type": "markdown",
      "metadata": {
        "id": "HgUFLSSMd5lw"
      },
      "source": [
        "# Load Libraries"
      ]
    },
    {
      "cell_type": "code",
      "metadata": {
        "id": "0S-d4r9Kd5Ec"
      },
      "source": [
        "from pyspark.ml.feature import VectorAssembler, StringIndexer, MinMaxScaler,OneHotEncoder,StandardScaler\n",
        "from pyspark.sql.types import * \n",
        "\n",
        "from pyspark.ml.evaluation import *\n",
        "from pyspark.sql.functions import *\n",
        "from pyspark.ml.tuning import CrossValidator, ParamGridBuilder\n",
        "from pyspark.ml.stat import Correlation\n",
        "from pyspark.ml.regression import *\n",
        "\n",
        "import pandas as pd\n",
        "import numpy as np\n",
        "\n",
        "import matplotlib.pyplot as plt\n",
        "import seaborn as sns"
      ],
      "execution_count": 4,
      "outputs": []
    },
    {
      "cell_type": "markdown",
      "metadata": {
        "id": "7-hZLn9n9i1h"
      },
      "source": [
        "# ML Model Building"
      ]
    },
    {
      "cell_type": "code",
      "metadata": {
        "id": "nj5FkZWPAgFL"
      },
      "source": [
        "path =\"Datasets/\"\n",
        "df = spark.read.csv(path+'housing.csv',inferSchema=True,header=True)"
      ],
      "execution_count": 5,
      "outputs": []
    },
    {
      "cell_type": "code",
      "metadata": {
        "colab": {
          "base_uri": "https://localhost:8080/",
          "height": 235
        },
        "id": "sv6L4UshAhBj",
        "outputId": "58edaf36-1b67-485b-dfb2-30e03fa27930"
      },
      "source": [
        "df.limit(6).toPandas()"
      ],
      "execution_count": 6,
      "outputs": [
        {
          "output_type": "execute_result",
          "data": {
            "text/html": [
              "<div>\n",
              "<style scoped>\n",
              "    .dataframe tbody tr th:only-of-type {\n",
              "        vertical-align: middle;\n",
              "    }\n",
              "\n",
              "    .dataframe tbody tr th {\n",
              "        vertical-align: top;\n",
              "    }\n",
              "\n",
              "    .dataframe thead th {\n",
              "        text-align: right;\n",
              "    }\n",
              "</style>\n",
              "<table border=\"1\" class=\"dataframe\">\n",
              "  <thead>\n",
              "    <tr style=\"text-align: right;\">\n",
              "      <th></th>\n",
              "      <th>longitude</th>\n",
              "      <th>latitude</th>\n",
              "      <th>housing_median_age</th>\n",
              "      <th>total_rooms</th>\n",
              "      <th>total_bedrooms</th>\n",
              "      <th>population</th>\n",
              "      <th>households</th>\n",
              "      <th>median_income</th>\n",
              "      <th>median_house_value</th>\n",
              "      <th>ocean_proximity</th>\n",
              "    </tr>\n",
              "  </thead>\n",
              "  <tbody>\n",
              "    <tr>\n",
              "      <th>0</th>\n",
              "      <td>-122.23</td>\n",
              "      <td>37.88</td>\n",
              "      <td>41.0</td>\n",
              "      <td>880.0</td>\n",
              "      <td>129.0</td>\n",
              "      <td>322.0</td>\n",
              "      <td>126.0</td>\n",
              "      <td>8.3252</td>\n",
              "      <td>452600.0</td>\n",
              "      <td>NEAR BAY</td>\n",
              "    </tr>\n",
              "    <tr>\n",
              "      <th>1</th>\n",
              "      <td>-122.22</td>\n",
              "      <td>37.86</td>\n",
              "      <td>21.0</td>\n",
              "      <td>7099.0</td>\n",
              "      <td>1106.0</td>\n",
              "      <td>2401.0</td>\n",
              "      <td>1138.0</td>\n",
              "      <td>8.3014</td>\n",
              "      <td>358500.0</td>\n",
              "      <td>NEAR BAY</td>\n",
              "    </tr>\n",
              "    <tr>\n",
              "      <th>2</th>\n",
              "      <td>-122.24</td>\n",
              "      <td>37.85</td>\n",
              "      <td>52.0</td>\n",
              "      <td>1467.0</td>\n",
              "      <td>190.0</td>\n",
              "      <td>496.0</td>\n",
              "      <td>177.0</td>\n",
              "      <td>7.2574</td>\n",
              "      <td>352100.0</td>\n",
              "      <td>NEAR BAY</td>\n",
              "    </tr>\n",
              "    <tr>\n",
              "      <th>3</th>\n",
              "      <td>-122.25</td>\n",
              "      <td>37.85</td>\n",
              "      <td>52.0</td>\n",
              "      <td>1274.0</td>\n",
              "      <td>235.0</td>\n",
              "      <td>558.0</td>\n",
              "      <td>219.0</td>\n",
              "      <td>5.6431</td>\n",
              "      <td>341300.0</td>\n",
              "      <td>NEAR BAY</td>\n",
              "    </tr>\n",
              "    <tr>\n",
              "      <th>4</th>\n",
              "      <td>-122.25</td>\n",
              "      <td>37.85</td>\n",
              "      <td>52.0</td>\n",
              "      <td>1627.0</td>\n",
              "      <td>280.0</td>\n",
              "      <td>565.0</td>\n",
              "      <td>259.0</td>\n",
              "      <td>3.8462</td>\n",
              "      <td>342200.0</td>\n",
              "      <td>NEAR BAY</td>\n",
              "    </tr>\n",
              "    <tr>\n",
              "      <th>5</th>\n",
              "      <td>-122.25</td>\n",
              "      <td>37.85</td>\n",
              "      <td>52.0</td>\n",
              "      <td>919.0</td>\n",
              "      <td>213.0</td>\n",
              "      <td>413.0</td>\n",
              "      <td>193.0</td>\n",
              "      <td>4.0368</td>\n",
              "      <td>269700.0</td>\n",
              "      <td>NEAR BAY</td>\n",
              "    </tr>\n",
              "  </tbody>\n",
              "</table>\n",
              "</div>"
            ],
            "text/plain": [
              "   longitude  latitude  ...  median_house_value  ocean_proximity\n",
              "0    -122.23     37.88  ...            452600.0         NEAR BAY\n",
              "1    -122.22     37.86  ...            358500.0         NEAR BAY\n",
              "2    -122.24     37.85  ...            352100.0         NEAR BAY\n",
              "3    -122.25     37.85  ...            341300.0         NEAR BAY\n",
              "4    -122.25     37.85  ...            342200.0         NEAR BAY\n",
              "5    -122.25     37.85  ...            269700.0         NEAR BAY\n",
              "\n",
              "[6 rows x 10 columns]"
            ]
          },
          "metadata": {},
          "execution_count": 6
        }
      ]
    },
    {
      "cell_type": "code",
      "metadata": {
        "colab": {
          "base_uri": "https://localhost:8080/"
        },
        "id": "aT6PKRSqBOF6",
        "outputId": "51d9dd4a-e42e-47cd-cf95-2167b51590f5"
      },
      "source": [
        "df.printSchema()"
      ],
      "execution_count": 7,
      "outputs": [
        {
          "output_type": "stream",
          "text": [
            "root\n",
            " |-- longitude: double (nullable = true)\n",
            " |-- latitude: double (nullable = true)\n",
            " |-- housing_median_age: double (nullable = true)\n",
            " |-- total_rooms: double (nullable = true)\n",
            " |-- total_bedrooms: double (nullable = true)\n",
            " |-- population: double (nullable = true)\n",
            " |-- households: double (nullable = true)\n",
            " |-- median_income: double (nullable = true)\n",
            " |-- median_house_value: double (nullable = true)\n",
            " |-- ocean_proximity: string (nullable = true)\n",
            "\n"
          ],
          "name": "stdout"
        }
      ]
    },
    {
      "cell_type": "code",
      "metadata": {
        "colab": {
          "base_uri": "https://localhost:8080/"
        },
        "id": "Jd-RhhgPBQpB",
        "outputId": "1a835d0a-bf66-4daf-dbc8-c23d1ad14df8"
      },
      "source": [
        "# Starting\n",
        "print(df.count())\n",
        "print(len(df.columns))"
      ],
      "execution_count": 8,
      "outputs": [
        {
          "output_type": "stream",
          "text": [
            "20640\n",
            "10\n"
          ],
          "name": "stdout"
        }
      ]
    },
    {
      "cell_type": "code",
      "metadata": {
        "colab": {
          "base_uri": "https://localhost:8080/"
        },
        "id": "FmZPsHauBTDq",
        "outputId": "404d888b-5e7d-4a23-d384-30b63092b68a"
      },
      "source": [
        "# missing value count\n",
        "df.select([count(when(isnan(c) | col(c).isNull(), c)).alias(c) for c in df.columns]).show()"
      ],
      "execution_count": 9,
      "outputs": [
        {
          "output_type": "stream",
          "text": [
            "+---------+--------+------------------+-----------+--------------+----------+----------+-------------+------------------+---------------+\n",
            "|longitude|latitude|housing_median_age|total_rooms|total_bedrooms|population|households|median_income|median_house_value|ocean_proximity|\n",
            "+---------+--------+------------------+-----------+--------------+----------+----------+-------------+------------------+---------------+\n",
            "|        0|       0|                 0|          0|           207|         0|         0|            0|                 0|              0|\n",
            "+---------+--------+------------------+-----------+--------------+----------+----------+-------------+------------------+---------------+\n",
            "\n"
          ],
          "name": "stdout"
        }
      ]
    },
    {
      "cell_type": "code",
      "metadata": {
        "colab": {
          "base_uri": "https://localhost:8080/"
        },
        "id": "KlmBBMY1CaB8",
        "outputId": "2e456249-f780-4594-cb2f-3a79023da2fc"
      },
      "source": [
        "# check distinct values in ocean proximity\n",
        "df.select('ocean_proximity').distinct().collect()\n"
      ],
      "execution_count": 10,
      "outputs": [
        {
          "output_type": "execute_result",
          "data": {
            "text/plain": [
              "[Row(ocean_proximity='ISLAND'),\n",
              " Row(ocean_proximity='NEAR OCEAN'),\n",
              " Row(ocean_proximity='NEAR BAY'),\n",
              " Row(ocean_proximity='<1H OCEAN'),\n",
              " Row(ocean_proximity='INLAND')]"
            ]
          },
          "metadata": {},
          "execution_count": 10
        }
      ]
    },
    {
      "cell_type": "code",
      "metadata": {
        "colab": {
          "base_uri": "https://localhost:8080/"
        },
        "id": "iLF_--DnCjdR",
        "outputId": "a5d61e41-51fb-446c-c6af-6b554088d732"
      },
      "source": [
        "df.groupBy('ocean_proximity').count().show()"
      ],
      "execution_count": 11,
      "outputs": [
        {
          "output_type": "stream",
          "text": [
            "+---------------+-----+\n",
            "|ocean_proximity|count|\n",
            "+---------------+-----+\n",
            "|         ISLAND|    5|\n",
            "|     NEAR OCEAN| 2658|\n",
            "|       NEAR BAY| 2290|\n",
            "|      <1H OCEAN| 9136|\n",
            "|         INLAND| 6551|\n",
            "+---------------+-----+\n",
            "\n"
          ],
          "name": "stdout"
        }
      ]
    },
    {
      "cell_type": "code",
      "metadata": {
        "colab": {
          "base_uri": "https://localhost:8080/"
        },
        "id": "huWq_mTwByfV",
        "outputId": "aaa66f46-3a2e-4e42-ffec-c7bddbd61368"
      },
      "source": [
        "#drop missing data\n",
        "df = df.na.drop()\n",
        "df.count()"
      ],
      "execution_count": 12,
      "outputs": [
        {
          "output_type": "execute_result",
          "data": {
            "text/plain": [
              "20433"
            ]
          },
          "metadata": {},
          "execution_count": 12
        }
      ]
    },
    {
      "cell_type": "code",
      "metadata": {
        "id": "1NKwz4GlB9hs"
      },
      "source": [
        "input_columns = ['total_bedrooms','population','households','median_income','ocean_proximity']\n",
        "dependent_var = 'median_house_value'"
      ],
      "execution_count": 13,
      "outputs": []
    },
    {
      "cell_type": "code",
      "metadata": {
        "colab": {
          "base_uri": "https://localhost:8080/",
          "height": 80
        },
        "id": "oVfFMZMgCAq5",
        "outputId": "cbc4a902-8eda-4423-8bc4-c21526ded4aa"
      },
      "source": [
        "renamed = df.withColumnRenamed(dependent_var,'label')\n",
        "renamed.limit(1).toPandas()"
      ],
      "execution_count": 14,
      "outputs": [
        {
          "output_type": "execute_result",
          "data": {
            "text/html": [
              "<div>\n",
              "<style scoped>\n",
              "    .dataframe tbody tr th:only-of-type {\n",
              "        vertical-align: middle;\n",
              "    }\n",
              "\n",
              "    .dataframe tbody tr th {\n",
              "        vertical-align: top;\n",
              "    }\n",
              "\n",
              "    .dataframe thead th {\n",
              "        text-align: right;\n",
              "    }\n",
              "</style>\n",
              "<table border=\"1\" class=\"dataframe\">\n",
              "  <thead>\n",
              "    <tr style=\"text-align: right;\">\n",
              "      <th></th>\n",
              "      <th>longitude</th>\n",
              "      <th>latitude</th>\n",
              "      <th>housing_median_age</th>\n",
              "      <th>total_rooms</th>\n",
              "      <th>total_bedrooms</th>\n",
              "      <th>population</th>\n",
              "      <th>households</th>\n",
              "      <th>median_income</th>\n",
              "      <th>label</th>\n",
              "      <th>ocean_proximity</th>\n",
              "    </tr>\n",
              "  </thead>\n",
              "  <tbody>\n",
              "    <tr>\n",
              "      <th>0</th>\n",
              "      <td>-122.23</td>\n",
              "      <td>37.88</td>\n",
              "      <td>41.0</td>\n",
              "      <td>880.0</td>\n",
              "      <td>129.0</td>\n",
              "      <td>322.0</td>\n",
              "      <td>126.0</td>\n",
              "      <td>8.3252</td>\n",
              "      <td>452600.0</td>\n",
              "      <td>NEAR BAY</td>\n",
              "    </tr>\n",
              "  </tbody>\n",
              "</table>\n",
              "</div>"
            ],
            "text/plain": [
              "   longitude  latitude  ...     label  ocean_proximity\n",
              "0    -122.23     37.88  ...  452600.0         NEAR BAY\n",
              "\n",
              "[1 rows x 10 columns]"
            ]
          },
          "metadata": {},
          "execution_count": 14
        }
      ]
    },
    {
      "cell_type": "code",
      "metadata": {
        "id": "X3OAT0uAGyNl"
      },
      "source": [
        "# train test split\n",
        "train,test = renamed.randomSplit([0.7,0.3])"
      ],
      "execution_count": 15,
      "outputs": []
    },
    {
      "cell_type": "code",
      "metadata": {
        "id": "V51L4FIeHqpj"
      },
      "source": [
        "# Convert String data type to numeric\n",
        "\n",
        "numeric_inputs = []\n",
        "string_inputs = []\n",
        "labels = {}\n",
        "\n",
        "for column in input_columns:\n",
        "    \n",
        "    if str(train.schema[column].dataType) == 'StringType':\n",
        "        \n",
        "        # convert string to numeric\n",
        "        indexer = StringIndexer(inputCol=column, outputCol=column+\"_num\") \n",
        "        indexer = indexer.fit(train)\n",
        "        train  =  indexer.transform(train)\n",
        "        test    =  indexer.transform(test)\n",
        "        labels[column]=indexer.labels\n",
        "\n",
        "        # encode numeric string to one hot encoder -default drop lasts category\n",
        "        encoder = OneHotEncoder(inputCol=column+\"_num\", outputCol=column+\"_enc\")\n",
        "        encoder = encoder.fit(train)\n",
        "        train = encoder.transform(train)\n",
        "        test = encoder.transform(test)\n",
        "\n",
        "        new_col_name = column+\"_enc\"\n",
        "        string_inputs.append(new_col_name)\n",
        "    \n",
        "    else:\n",
        "       numeric_inputs.append(column)"
      ],
      "execution_count": 16,
      "outputs": []
    },
    {
      "cell_type": "code",
      "metadata": {
        "colab": {
          "base_uri": "https://localhost:8080/"
        },
        "id": "1GEhnSlGNUMR",
        "outputId": "2be2af95-cde9-4a1d-cc7e-4d24b8f97abb"
      },
      "source": [
        "indexer.labels"
      ],
      "execution_count": 17,
      "outputs": [
        {
          "output_type": "execute_result",
          "data": {
            "text/plain": [
              "['<1H OCEAN', 'INLAND', 'NEAR OCEAN', 'NEAR BAY', 'ISLAND']"
            ]
          },
          "metadata": {},
          "execution_count": 17
        }
      ]
    },
    {
      "cell_type": "code",
      "metadata": {
        "colab": {
          "base_uri": "https://localhost:8080/",
          "height": 162
        },
        "id": "7aHUYwvtHtj-",
        "outputId": "7b346324-a899-4196-921b-cca53e1a879a"
      },
      "source": [
        "train.limit(3).toPandas()"
      ],
      "execution_count": 18,
      "outputs": [
        {
          "output_type": "execute_result",
          "data": {
            "text/html": [
              "<div>\n",
              "<style scoped>\n",
              "    .dataframe tbody tr th:only-of-type {\n",
              "        vertical-align: middle;\n",
              "    }\n",
              "\n",
              "    .dataframe tbody tr th {\n",
              "        vertical-align: top;\n",
              "    }\n",
              "\n",
              "    .dataframe thead th {\n",
              "        text-align: right;\n",
              "    }\n",
              "</style>\n",
              "<table border=\"1\" class=\"dataframe\">\n",
              "  <thead>\n",
              "    <tr style=\"text-align: right;\">\n",
              "      <th></th>\n",
              "      <th>longitude</th>\n",
              "      <th>latitude</th>\n",
              "      <th>housing_median_age</th>\n",
              "      <th>total_rooms</th>\n",
              "      <th>total_bedrooms</th>\n",
              "      <th>population</th>\n",
              "      <th>households</th>\n",
              "      <th>median_income</th>\n",
              "      <th>label</th>\n",
              "      <th>ocean_proximity</th>\n",
              "      <th>ocean_proximity_num</th>\n",
              "      <th>ocean_proximity_enc</th>\n",
              "    </tr>\n",
              "  </thead>\n",
              "  <tbody>\n",
              "    <tr>\n",
              "      <th>0</th>\n",
              "      <td>-124.35</td>\n",
              "      <td>40.54</td>\n",
              "      <td>52.0</td>\n",
              "      <td>1820.0</td>\n",
              "      <td>300.0</td>\n",
              "      <td>806.0</td>\n",
              "      <td>270.0</td>\n",
              "      <td>3.0147</td>\n",
              "      <td>94600.0</td>\n",
              "      <td>NEAR OCEAN</td>\n",
              "      <td>2.0</td>\n",
              "      <td>(0.0, 0.0, 1.0, 0.0)</td>\n",
              "    </tr>\n",
              "    <tr>\n",
              "      <th>1</th>\n",
              "      <td>-124.26</td>\n",
              "      <td>40.58</td>\n",
              "      <td>52.0</td>\n",
              "      <td>2217.0</td>\n",
              "      <td>394.0</td>\n",
              "      <td>907.0</td>\n",
              "      <td>369.0</td>\n",
              "      <td>2.3571</td>\n",
              "      <td>111400.0</td>\n",
              "      <td>NEAR OCEAN</td>\n",
              "      <td>2.0</td>\n",
              "      <td>(0.0, 0.0, 1.0, 0.0)</td>\n",
              "    </tr>\n",
              "    <tr>\n",
              "      <th>2</th>\n",
              "      <td>-124.25</td>\n",
              "      <td>40.28</td>\n",
              "      <td>32.0</td>\n",
              "      <td>1430.0</td>\n",
              "      <td>419.0</td>\n",
              "      <td>434.0</td>\n",
              "      <td>187.0</td>\n",
              "      <td>1.9417</td>\n",
              "      <td>76100.0</td>\n",
              "      <td>NEAR OCEAN</td>\n",
              "      <td>2.0</td>\n",
              "      <td>(0.0, 0.0, 1.0, 0.0)</td>\n",
              "    </tr>\n",
              "  </tbody>\n",
              "</table>\n",
              "</div>"
            ],
            "text/plain": [
              "   longitude  latitude  ...  ocean_proximity_num   ocean_proximity_enc\n",
              "0    -124.35     40.54  ...                  2.0  (0.0, 0.0, 1.0, 0.0)\n",
              "1    -124.26     40.58  ...                  2.0  (0.0, 0.0, 1.0, 0.0)\n",
              "2    -124.25     40.28  ...                  2.0  (0.0, 0.0, 1.0, 0.0)\n",
              "\n",
              "[3 rows x 12 columns]"
            ]
          },
          "metadata": {},
          "execution_count": 18
        }
      ]
    },
    {
      "cell_type": "code",
      "metadata": {
        "colab": {
          "base_uri": "https://localhost:8080/"
        },
        "id": "tszZbcAOFe-_",
        "outputId": "e032d248-aadd-4d5a-cd6c-ecb6959d0ef7"
      },
      "source": [
        "# treating outlier by caopping quantiles value\n",
        "d = {}\n",
        "for col in numeric_inputs: \n",
        "    d[col] = train.approxQuantile(col,[0.01,0.99],0.25)\n",
        "d"
      ],
      "execution_count": 19,
      "outputs": [
        {
          "output_type": "execute_result",
          "data": {
            "text/plain": [
              "{'households': [1.0, 6082.0],\n",
              " 'median_income': [0.4999, 15.0001],\n",
              " 'population': [3.0, 28566.0],\n",
              " 'total_bedrooms': [1.0, 6445.0]}"
            ]
          },
          "metadata": {},
          "execution_count": 19
        }
      ]
    },
    {
      "cell_type": "code",
      "metadata": {
        "colab": {
          "base_uri": "https://localhost:8080/"
        },
        "id": "tOc29-1gHTwY",
        "outputId": "af8065d3-8f2b-4e49-8e42-33e434a51a99"
      },
      "source": [
        "# treatment for skewness and outlier\n",
        "\n",
        "for key,data in {'train':train,'test':test}.items():\n",
        "    for col in numeric_inputs:\n",
        "        \n",
        "        # compute skewness    \n",
        "        skew = data.agg(skewness(data[col])).collect() \n",
        "        skew = skew[0][0]\n",
        "\n",
        "        # treatement for right skew - floor, cap and log(x+1)\n",
        "        if skew > 1: \n",
        "            data = data.withColumn(col,log(when(data[col] < d[col][0],d[col][0]).when(data[col] > d[col][1], d[col][1]).otherwise(data[col] ) +1).alias(col))\n",
        "            print(f\"{key} {col} has been treated for positive (right) skewness. (skew = {skew})\")\n",
        "        \n",
        "        # treatment for left skew - floor, cap and exp(x)\n",
        "        elif skew < -1:\n",
        "            data = data.withColumn(col,exp(when(data[col] < d[col][0],d[col][0]).when(data[col] > d[col][1], d[col][1]).otherwise(data[col] )).alias(col))\n",
        "            print(f\"{key} {col} has been treated for negative (left) skewness. (skew = {skew})\")"
      ],
      "execution_count": 20,
      "outputs": [
        {
          "output_type": "stream",
          "text": [
            "train total_bedrooms has been treated for positive (right) skewness. (skew = 3.544492940228416)\n",
            "train population has been treated for positive (right) skewness. (skew = 4.112302137853632)\n",
            "train households has been treated for positive (right) skewness. (skew = 3.464101870481001)\n",
            "train median_income has been treated for positive (right) skewness. (skew = 1.677035534536028)\n",
            "test total_bedrooms has been treated for positive (right) skewness. (skew = 3.2192599605975705)\n",
            "test population has been treated for positive (right) skewness. (skew = 6.813398633544307)\n",
            "test households has been treated for positive (right) skewness. (skew = 3.2742719918732437)\n",
            "test median_income has been treated for positive (right) skewness. (skew = 1.5634480510205504)\n"
          ],
          "name": "stdout"
        }
      ]
    },
    {
      "cell_type": "code",
      "metadata": {
        "colab": {
          "base_uri": "https://localhost:8080/"
        },
        "id": "uRt7tJghJsPS",
        "outputId": "74eb60cb-723d-400d-e0a4-090550ee228c"
      },
      "source": [
        "features_list = numeric_inputs + string_inputs\n",
        "features_list"
      ],
      "execution_count": 21,
      "outputs": [
        {
          "output_type": "execute_result",
          "data": {
            "text/plain": [
              "['total_bedrooms',\n",
              " 'population',\n",
              " 'households',\n",
              " 'median_income',\n",
              " 'ocean_proximity_enc']"
            ]
          },
          "metadata": {},
          "execution_count": 21
        }
      ]
    },
    {
      "cell_type": "code",
      "metadata": {
        "colab": {
          "base_uri": "https://localhost:8080/"
        },
        "id": "ZVQR1iE6H2eB",
        "outputId": "d9b00fb6-3315-4e7d-ee9e-087195dae8b2"
      },
      "source": [
        "features_names = []\n",
        "for name in features_list:\n",
        "    if \"_enc\" in name:\n",
        "        x = name.split('_enc')[0]\n",
        "         # last category is dropped hence not adding to feature names\n",
        "        for idx in range(0,len(labels[x])-1):\n",
        "            enc = labels[x][idx]\n",
        "            value = f\"{x}-{enc}\"\n",
        "            features_names.append(value)\n",
        "    else:\n",
        "        value = name\n",
        "        features_names.append(value)\n",
        "features_names"
      ],
      "execution_count": 22,
      "outputs": [
        {
          "output_type": "execute_result",
          "data": {
            "text/plain": [
              "['total_bedrooms',\n",
              " 'population',\n",
              " 'households',\n",
              " 'median_income',\n",
              " 'ocean_proximity-<1H OCEAN',\n",
              " 'ocean_proximity-INLAND',\n",
              " 'ocean_proximity-NEAR OCEAN',\n",
              " 'ocean_proximity-NEAR BAY']"
            ]
          },
          "metadata": {},
          "execution_count": 22
        }
      ]
    },
    {
      "cell_type": "code",
      "metadata": {
        "colab": {
          "base_uri": "https://localhost:8080/"
        },
        "id": "6OhSHWVKJ8VI",
        "outputId": "ba3359a5-6d50-4b0d-e5b8-b1c3a24ced37"
      },
      "source": [
        "assembler = VectorAssembler(inputCols=features_list,outputCol='features')\n",
        "train = assembler.transform(train).select('features','label')\n",
        "train.limit(1).show()"
      ],
      "execution_count": 23,
      "outputs": [
        {
          "output_type": "stream",
          "text": [
            "+--------------------+-------+\n",
            "|            features|  label|\n",
            "+--------------------+-------+\n",
            "|[300.0,806.0,270....|94600.0|\n",
            "+--------------------+-------+\n",
            "\n"
          ],
          "name": "stdout"
        }
      ]
    },
    {
      "cell_type": "code",
      "metadata": {
        "colab": {
          "base_uri": "https://localhost:8080/"
        },
        "id": "xh94v-kXKCfd",
        "outputId": "7eb8a92e-0145-41f1-8635-fbbbbe82f0f9"
      },
      "source": [
        "test = assembler.transform(test).select('features','label')\n",
        "test.limit(1).show()"
      ],
      "execution_count": 24,
      "outputs": [
        {
          "output_type": "stream",
          "text": [
            "+--------------------+-------+\n",
            "|            features|  label|\n",
            "+--------------------+-------+\n",
            "|[552.0,1298.0,478...|85800.0|\n",
            "+--------------------+-------+\n",
            "\n"
          ],
          "name": "stdout"
        }
      ]
    },
    {
      "cell_type": "code",
      "metadata": {
        "id": "umh_P1e_KSQR"
      },
      "source": [
        "## Check for Multicollinearity\n",
        "pearson_corr = Correlation.corr(train, 'features', 'pearson').collect()[0][0]\n",
        "pearson_corr = pearson_corr.toArray()"
      ],
      "execution_count": 25,
      "outputs": []
    },
    {
      "cell_type": "code",
      "metadata": {
        "colab": {
          "base_uri": "https://localhost:8080/",
          "height": 645
        },
        "id": "fQZmNAgcK4FU",
        "outputId": "a5ff3d46-68fb-4796-cf6b-c4c0ef7a1af2"
      },
      "source": [
        "pearson_corr = pd.DataFrame(pearson_corr,columns=features_names,index=features_names)\n",
        "plt.figure(figsize=(15,8))\n",
        "sns.heatmap(pearson_corr,annot=True)"
      ],
      "execution_count": 26,
      "outputs": [
        {
          "output_type": "execute_result",
          "data": {
            "text/plain": [
              "<matplotlib.axes._subplots.AxesSubplot at 0x7f498d4bd850>"
            ]
          },
          "metadata": {},
          "execution_count": 26
        },
        {
          "output_type": "display_data",
          "data": {
            "image/png": "[encoded data removed]",
            "text/plain": [
              "<Figure size 1080x576 with 2 Axes>"
            ]
          },
          "metadata": {
            "needs_background": "light"
          }
        }
      ]
    },
    {
      "cell_type": "code",
      "metadata": {
        "colab": {
          "base_uri": "https://localhost:8080/",
          "height": 142
        },
        "id": "dOaBgoCjOdu_",
        "outputId": "5e9b44e4-990d-4001-a5d7-ab4701b49b56"
      },
      "source": [
        "# scaling the vectors\n",
        "scaler = StandardScaler(inputCol=\"features\", outputCol=\"scaledFeatures\" )\n",
        "scaler = scaler.fit(train)\n",
        "\n",
        "final_train = scaler.transform(train)\n",
        "final_test = scaler.transform(test)\n",
        "\n",
        "final_train = final_train.select('label','scaledFeatures').withColumnRenamed(\"scaledFeatures\",\"features\")\n",
        "final_test = final_test.select('label','scaledFeatures').withColumnRenamed(\"scaledFeatures\",\"features\")\n",
        "\n",
        "final_train.limit(3).toPandas() "
      ],
      "execution_count": 27,
      "outputs": [
        {
          "output_type": "execute_result",
          "data": {
            "text/html": [
              "<div>\n",
              "<style scoped>\n",
              "    .dataframe tbody tr th:only-of-type {\n",
              "        vertical-align: middle;\n",
              "    }\n",
              "\n",
              "    .dataframe tbody tr th {\n",
              "        vertical-align: top;\n",
              "    }\n",
              "\n",
              "    .dataframe thead th {\n",
              "        text-align: right;\n",
              "    }\n",
              "</style>\n",
              "<table border=\"1\" class=\"dataframe\">\n",
              "  <thead>\n",
              "    <tr style=\"text-align: right;\">\n",
              "      <th></th>\n",
              "      <th>label</th>\n",
              "      <th>features</th>\n",
              "    </tr>\n",
              "  </thead>\n",
              "  <tbody>\n",
              "    <tr>\n",
              "      <th>0</th>\n",
              "      <td>94600.0</td>\n",
              "      <td>[0.7011925425864397, 0.7143705216649039, 0.697...</td>\n",
              "    </tr>\n",
              "    <tr>\n",
              "      <th>1</th>\n",
              "      <td>111400.0</td>\n",
              "      <td>[0.9208995392635242, 0.8038884158189428, 0.953...</td>\n",
              "    </tr>\n",
              "    <tr>\n",
              "      <th>2</th>\n",
              "      <td>76100.0</td>\n",
              "      <td>[0.9793322511457274, 0.384661050127256, 0.4831...</td>\n",
              "    </tr>\n",
              "  </tbody>\n",
              "</table>\n",
              "</div>"
            ],
            "text/plain": [
              "      label                                           features\n",
              "0   94600.0  [0.7011925425864397, 0.7143705216649039, 0.697...\n",
              "1  111400.0  [0.9208995392635242, 0.8038884158189428, 0.953...\n",
              "2   76100.0  [0.9793322511457274, 0.384661050127256, 0.4831..."
            ]
          },
          "metadata": {},
          "execution_count": 27
        }
      ]
    },
    {
      "cell_type": "code",
      "metadata": {
        "colab": {
          "base_uri": "https://localhost:8080/",
          "height": 142
        },
        "id": "qBqeZ2USOn5T",
        "outputId": "e29cdfed-3f69-46fe-ddf8-012365fae614"
      },
      "source": [
        "final_test.limit(3).toPandas() "
      ],
      "execution_count": 28,
      "outputs": [
        {
          "output_type": "execute_result",
          "data": {
            "text/html": [
              "<div>\n",
              "<style scoped>\n",
              "    .dataframe tbody tr th:only-of-type {\n",
              "        vertical-align: middle;\n",
              "    }\n",
              "\n",
              "    .dataframe tbody tr th {\n",
              "        vertical-align: top;\n",
              "    }\n",
              "\n",
              "    .dataframe thead th {\n",
              "        text-align: right;\n",
              "    }\n",
              "</style>\n",
              "<table border=\"1\" class=\"dataframe\">\n",
              "  <thead>\n",
              "    <tr style=\"text-align: right;\">\n",
              "      <th></th>\n",
              "      <th>label</th>\n",
              "      <th>features</th>\n",
              "    </tr>\n",
              "  </thead>\n",
              "  <tbody>\n",
              "    <tr>\n",
              "      <th>0</th>\n",
              "      <td>85800.0</td>\n",
              "      <td>[1.290194278359049, 1.1504378872469545, 1.2349...</td>\n",
              "    </tr>\n",
              "    <tr>\n",
              "      <th>1</th>\n",
              "      <td>103600.0</td>\n",
              "      <td>[1.2411108003779983, 1.1025768349269733, 1.178...</td>\n",
              "    </tr>\n",
              "    <tr>\n",
              "      <th>2</th>\n",
              "      <td>79000.0</td>\n",
              "      <td>[1.234098874952134, 1.0582610457418056, 1.2013...</td>\n",
              "    </tr>\n",
              "  </tbody>\n",
              "</table>\n",
              "</div>"
            ],
            "text/plain": [
              "      label                                           features\n",
              "0   85800.0  [1.290194278359049, 1.1504378872469545, 1.2349...\n",
              "1  103600.0  [1.2411108003779983, 1.1025768349269733, 1.178...\n",
              "2   79000.0  [1.234098874952134, 1.0582610457418056, 1.2013..."
            ]
          },
          "metadata": {},
          "execution_count": 28
        }
      ]
    },
    {
      "cell_type": "markdown",
      "metadata": {
        "id": "h7DO9pDoRhh6"
      },
      "source": [
        "## Linear Regression"
      ]
    },
    {
      "cell_type": "code",
      "metadata": {
        "id": "4uujcrBiLTjo"
      },
      "source": [
        "# Fit our model\n",
        "regressor = LinearRegression()\n",
        "model = regressor.fit(final_train)"
      ],
      "execution_count": 29,
      "outputs": []
    },
    {
      "cell_type": "code",
      "metadata": {
        "colab": {
          "base_uri": "https://localhost:8080/"
        },
        "id": "yPNeuYPKOspE",
        "outputId": "5fafc3d4-06ce-4e8d-aa88-b047f4437d23"
      },
      "source": [
        "# Specify which evaluator you want to use\n",
        "evaluator = RegressionEvaluator(metricName=\"rmse\")\n",
        "\n",
        "# Make predictions.\n",
        "predictions = model.transform(final_test)\n",
        "\n",
        "# check error\n",
        "rmse = evaluator.evaluate(predictions)\n",
        "print(\"Root Mean Squared Error (RMSE) on test data = %g\" % rmse)"
      ],
      "execution_count": 30,
      "outputs": [
        {
          "output_type": "stream",
          "text": [
            "Root Mean Squared Error (RMSE) on test data = 72577.1\n"
          ],
          "name": "stdout"
        }
      ]
    },
    {
      "cell_type": "code",
      "metadata": {
        "colab": {
          "base_uri": "https://localhost:8080/"
        },
        "id": "hjkMk9nbO3YE",
        "outputId": "60266ef0-ca8c-4fb7-afec-bc432e0eb0d2"
      },
      "source": [
        "model.intercept"
      ],
      "execution_count": 31,
      "outputs": [
        {
          "output_type": "execute_result",
          "data": {
            "text/plain": [
              "348654.2885904978"
            ]
          },
          "metadata": {},
          "execution_count": 31
        }
      ]
    },
    {
      "cell_type": "code",
      "metadata": {
        "id": "Msr2DSqlUjfv"
      },
      "source": [
        ""
      ],
      "execution_count": 31,
      "outputs": []
    },
    {
      "cell_type": "code",
      "metadata": {
        "colab": {
          "base_uri": "https://localhost:8080/"
        },
        "id": "fxRBpYxePDV1",
        "outputId": "6e83ea3a-38d8-48c7-d8f6-354dc1aed8f0"
      },
      "source": [
        "coeff = model.coefficients.toArray().tolist()\n",
        "coeff.append(model.intercept)\n",
        "names = features_names + ['Intercept']\n",
        "\n",
        "pvalue = model.summary.pValues\n",
        "std_error = model.summary.coefficientStandardErrors\n",
        "\n",
        "summary = spark.createDataFrame(zip(names,coeff,pvalue,std_error), schema=['feature','coeff','P-Value','Std Error'])\n",
        "summary.show(truncate=False)"
      ],
      "execution_count": 32,
      "outputs": [
        {
          "output_type": "stream",
          "text": [
            "+--------------------------+-------------------+----------------------+------------------+\n",
            "|feature                   |coeff              |P-Value               |Std Error         |\n",
            "+--------------------------+-------------------+----------------------+------------------+\n",
            "|total_bedrooms            |8537.910794776037  |0.0043903196021650714 |2996.681852461185 |\n",
            "|population                |-52757.09465217344 |0.0                   |1522.6500672527573|\n",
            "|households                |45092.183923765384 |0.0                   |3471.4533944513655|\n",
            "|median_income             |70634.69791542056  |0.0                   |611.9815267731851 |\n",
            "|ocean_proximity-<1H OCEAN |-131323.50691085856|1.2243981739601395E-7 |24813.05455795148 |\n",
            "|ocean_proximity-INLAND    |-160108.7475168348 |7.002842750125637E-12 |23327.897586138137|\n",
            "|ocean_proximity-NEAR OCEAN|-84954.47375415722 |4.6553760069123484E-7 |16848.217036794977|\n",
            "|ocean_proximity-NEAR BAY  |-80585.76751459912 |3.3788812459079054E-7 |15790.558432590655|\n",
            "|Intercept                 |348654.2885904978  |3.2722713427801864E-12|50010.76989087846 |\n",
            "+--------------------------+-------------------+----------------------+------------------+\n",
            "\n"
          ],
          "name": "stdout"
        }
      ]
    },
    {
      "cell_type": "code",
      "metadata": {
        "colab": {
          "base_uri": "https://localhost:8080/"
        },
        "id": "b8pHKQpPPHji",
        "outputId": "248348d4-d0a5-406c-9455-0c07a504a206"
      },
      "source": [
        "# train R2\n",
        "model.summary.r2"
      ],
      "execution_count": 33,
      "outputs": [
        {
          "output_type": "execute_result",
          "data": {
            "text/plain": [
              "0.6253249953214493"
            ]
          },
          "metadata": {},
          "execution_count": 33
        }
      ]
    },
    {
      "cell_type": "code",
      "metadata": {
        "colab": {
          "base_uri": "https://localhost:8080/"
        },
        "id": "X_av-hNBPpkx",
        "outputId": "a27c0d6b-5fc2-40a6-f92a-29df74cfb3bc"
      },
      "source": [
        "# test R2\n",
        "test_results = model.evaluate(final_test)\n",
        "test_results.r2"
      ],
      "execution_count": 34,
      "outputs": [
        {
          "output_type": "execute_result",
          "data": {
            "text/plain": [
              "0.6040574405947692"
            ]
          },
          "metadata": {},
          "execution_count": 34
        }
      ]
    },
    {
      "cell_type": "code",
      "metadata": {
        "colab": {
          "base_uri": "https://localhost:8080/"
        },
        "id": "JkVr70y7Pwhk",
        "outputId": "32bcf760-1bef-4cd2-fefe-f4f9aaadb116"
      },
      "source": [
        "test_results.rootMeanSquaredError"
      ],
      "execution_count": 35,
      "outputs": [
        {
          "output_type": "execute_result",
          "data": {
            "text/plain": [
              "72577.09778452567"
            ]
          },
          "metadata": {},
          "execution_count": 35
        }
      ]
    },
    {
      "cell_type": "markdown",
      "metadata": {
        "id": "qzjtkfVrRn0O"
      },
      "source": [
        "## Decision Tree Regression"
      ]
    },
    {
      "cell_type": "code",
      "metadata": {
        "id": "DvQlrrDrQxZH"
      },
      "source": [
        "# Fit our model\n",
        "regressor = DecisionTreeRegressor(maxDepth=5)\n",
        "model = regressor.fit(final_train)"
      ],
      "execution_count": 36,
      "outputs": []
    },
    {
      "cell_type": "code",
      "metadata": {
        "colab": {
          "base_uri": "https://localhost:8080/"
        },
        "id": "FRHswICCR1SP",
        "outputId": "a5d77529-f957-4e94-8f36-9112996c83b7"
      },
      "source": [
        "imp_score =model.featureImportances.toArray().tolist()\n",
        "score = spark.createDataFrame(zip(features_names,imp_score), schema=['feature','imp score'])\n",
        "score.show(truncate=False)"
      ],
      "execution_count": 37,
      "outputs": [
        {
          "output_type": "stream",
          "text": [
            "+--------------------------+--------------------+\n",
            "|feature                   |imp score           |\n",
            "+--------------------------+--------------------+\n",
            "|total_bedrooms            |0.008991400967167027|\n",
            "|population                |4.70921856079041E-4 |\n",
            "|households                |5.145307864253963E-4|\n",
            "|median_income             |0.7442740386805851  |\n",
            "|ocean_proximity-<1H OCEAN |0.004368157460830069|\n",
            "|ocean_proximity-INLAND    |0.23570388686772475 |\n",
            "|ocean_proximity-NEAR OCEAN|0.005677063381188697|\n",
            "|ocean_proximity-NEAR BAY  |0.0                 |\n",
            "+--------------------------+--------------------+\n",
            "\n"
          ],
          "name": "stdout"
        }
      ]
    },
    {
      "cell_type": "code",
      "metadata": {
        "colab": {
          "base_uri": "https://localhost:8080/"
        },
        "id": "HjexE7eySIkJ",
        "outputId": "654d8691-0766-44c1-9eab-abfc7d340075"
      },
      "source": [
        "predictions = model.transform(final_test)\n",
        "rmse = evaluator.evaluate(predictions)\n",
        "rmse"
      ],
      "execution_count": 38,
      "outputs": [
        {
          "output_type": "execute_result",
          "data": {
            "text/plain": [
              "73348.89905017326"
            ]
          },
          "metadata": {},
          "execution_count": 38
        }
      ]
    },
    {
      "cell_type": "markdown",
      "metadata": {
        "id": "CK0pkhajSWpk"
      },
      "source": [
        "## Random Forest"
      ]
    },
    {
      "cell_type": "code",
      "metadata": {
        "id": "C37vTi0rSSm0"
      },
      "source": [
        "# Fit our model\n",
        "regressor = RandomForestRegressor(maxDepth=5,numTrees=10)\n",
        "model = regressor.fit(final_train)"
      ],
      "execution_count": 39,
      "outputs": []
    },
    {
      "cell_type": "code",
      "metadata": {
        "colab": {
          "base_uri": "https://localhost:8080/"
        },
        "id": "yiWNWpNzSdZy",
        "outputId": "d34f70fa-f75e-41ec-80c0-fb67fbec4154"
      },
      "source": [
        "imp_score =model.featureImportances.toArray().tolist()\n",
        "score = spark.createDataFrame(zip(features_names,imp_score), schema=['feature','imp score'])\n",
        "score.show(truncate=False)"
      ],
      "execution_count": 40,
      "outputs": [
        {
          "output_type": "stream",
          "text": [
            "+--------------------------+--------------------+\n",
            "|feature                   |imp score           |\n",
            "+--------------------------+--------------------+\n",
            "|total_bedrooms            |0.01034008963700518 |\n",
            "|population                |0.011725300458066832|\n",
            "|households                |0.010569100952188147|\n",
            "|median_income             |0.6544485611170623  |\n",
            "|ocean_proximity-<1H OCEAN |0.04331337678381114 |\n",
            "|ocean_proximity-INLAND    |0.23040058938238125 |\n",
            "|ocean_proximity-NEAR OCEAN|0.019842678279412707|\n",
            "|ocean_proximity-NEAR BAY  |0.019360303390072366|\n",
            "+--------------------------+--------------------+\n",
            "\n"
          ],
          "name": "stdout"
        }
      ]
    },
    {
      "cell_type": "code",
      "metadata": {
        "colab": {
          "base_uri": "https://localhost:8080/"
        },
        "id": "F9PkOGIISgUV",
        "outputId": "f77a9d0c-a6e0-4cf4-d0a8-534aeba968ea"
      },
      "source": [
        "predictions = model.transform(final_test)\n",
        "rmse = evaluator.evaluate(predictions)\n",
        "rmse"
      ],
      "execution_count": 41,
      "outputs": [
        {
          "output_type": "execute_result",
          "data": {
            "text/plain": [
              "73678.0172582914"
            ]
          },
          "metadata": {},
          "execution_count": 41
        }
      ]
    },
    {
      "cell_type": "markdown",
      "metadata": {
        "id": "7-adwszNSlMx"
      },
      "source": [
        "## GBT Regressor"
      ]
    },
    {
      "cell_type": "code",
      "metadata": {
        "id": "aTt2dfErSiPu"
      },
      "source": [
        "# Fit our model\n",
        "regressor = GBTRegressor(maxDepth=5,maxIter=10,)\n",
        "model = regressor.fit(final_train)"
      ],
      "execution_count": 42,
      "outputs": []
    },
    {
      "cell_type": "code",
      "metadata": {
        "colab": {
          "base_uri": "https://localhost:8080/"
        },
        "id": "Y3y2z4DVSxYC",
        "outputId": "15e82b23-58bc-4d47-8972-d63c74cba0fd"
      },
      "source": [
        "imp_score =model.featureImportances.toArray().tolist()\n",
        "score = spark.createDataFrame(zip(features_names,imp_score), schema=['feature','imp score'])\n",
        "score.show(truncate=False)"
      ],
      "execution_count": 43,
      "outputs": [
        {
          "output_type": "stream",
          "text": [
            "+--------------------------+---------------------+\n",
            "|feature                   |imp score            |\n",
            "+--------------------------+---------------------+\n",
            "|total_bedrooms            |0.1707695139414081   |\n",
            "|population                |0.1833474654855868   |\n",
            "|households                |0.09416881099596722  |\n",
            "|median_income             |0.396451813107902    |\n",
            "|ocean_proximity-<1H OCEAN |0.013521374738159214 |\n",
            "|ocean_proximity-INLAND    |0.13244597840068809  |\n",
            "|ocean_proximity-NEAR OCEAN|0.0037890106562697423|\n",
            "|ocean_proximity-NEAR BAY  |0.005506032674018741 |\n",
            "+--------------------------+---------------------+\n",
            "\n"
          ],
          "name": "stdout"
        }
      ]
    },
    {
      "cell_type": "code",
      "metadata": {
        "colab": {
          "base_uri": "https://localhost:8080/"
        },
        "id": "0eLgIkdPSzu7",
        "outputId": "03c05661-a6f3-4f43-f5fb-526f7c45929c"
      },
      "source": [
        "predictions = model.transform(final_test)\n",
        "rmse = evaluator.evaluate(predictions)\n",
        "rmse"
      ],
      "execution_count": 44,
      "outputs": [
        {
          "output_type": "execute_result",
          "data": {
            "text/plain": [
              "66970.1272885571"
            ]
          },
          "metadata": {},
          "execution_count": 44
        }
      ]
    },
    {
      "cell_type": "code",
      "metadata": {
        "id": "1YdPX8qvS1JW"
      },
      "source": [
        "# save model\n",
        "# this path will create the folder\n",
        "from datetime import datetime\n",
        "timestamp = str(datetime.now()) #return local time\n",
        "path = 'Models/GBT_Model_'+timestamp\n",
        "model.save(path)"
      ],
      "execution_count": 45,
      "outputs": []
    },
    {
      "cell_type": "code",
      "metadata": {
        "id": "SRtxehUvS9Fm"
      },
      "source": [
        ""
      ],
      "execution_count": 45,
      "outputs": []
    }
  ]
}
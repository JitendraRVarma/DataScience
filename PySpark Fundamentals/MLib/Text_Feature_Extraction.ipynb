{
  "nbformat": 4,
  "nbformat_minor": 0,
  "metadata": {
    "colab": {
      "name": "Text_Feature_Extraction.ipynb",
      "provenance": [],
      "collapsed_sections": []
    },
    "kernelspec": {
      "name": "python3",
      "display_name": "Python 3"
    },
    "language_info": {
      "name": "python"
    }
  },
  "cells": [
    {
      "cell_type": "markdown",
      "metadata": {
        "id": "Yp6mqGEAjYPM"
      },
      "source": [
        "## Configure PySpark Setup"
      ]
    },
    {
      "cell_type": "code",
      "metadata": {
        "colab": {
          "base_uri": "https://localhost:8080/",
          "height": 216
        },
        "id": "MCa9mNO1jZH9",
        "outputId": "afe5b76b-784a-4a38-fc2e-1875d75c6c32"
      },
      "source": [
        "!apt-get install openjdk-8-jdk-headless -qq > /dev/null\n",
        "!wget -q https://archive.apache.org/dist/spark/spark-3.0.1/spark-3.0.1-bin-hadoop2.7.tgz\n",
        "!tar xf spark-3.0.1-bin-hadoop2.7.tgz\n",
        "!pip install -q findspark\n",
        "\n",
        "import os\n",
        "os.environ[\"JAVA_HOME\"] = \"/usr/lib/jvm/java-8-openjdk-amd64\"\n",
        "os.environ[\"SPARK_HOME\"] = \"/content/spark-3.0.1-bin-hadoop2.7\"\n",
        "\n",
        "\n",
        "import findspark\n",
        "findspark.init()\n",
        "\n",
        "\n",
        "import pyspark \n",
        "from pyspark.sql import SparkSession\n",
        "spark = SparkSession.builder.appName(\"App\").getOrCreate()\n",
        "spark"
      ],
      "execution_count": 1,
      "outputs": [
        {
          "output_type": "execute_result",
          "data": {
            "text/html": [
              "\n",
              "            <div>\n",
              "                <p><b>SparkSession - in-memory</b></p>\n",
              "                \n",
              "        <div>\n",
              "            <p><b>SparkContext</b></p>\n",
              "\n",
              "            <p><a href=\"http://252f98b18a80:4040\">Spark UI</a></p>\n",
              "\n",
              "            <dl>\n",
              "              <dt>Version</dt>\n",
              "                <dd><code>v3.0.1</code></dd>\n",
              "              <dt>Master</dt>\n",
              "                <dd><code>local[*]</code></dd>\n",
              "              <dt>AppName</dt>\n",
              "                <dd><code>App</code></dd>\n",
              "            </dl>\n",
              "        </div>\n",
              "        \n",
              "            </div>\n",
              "        "
            ],
            "text/plain": [
              "<pyspark.sql.session.SparkSession at 0x7ffb791fd210>"
            ]
          },
          "metadata": {},
          "execution_count": 1
        }
      ]
    },
    {
      "cell_type": "code",
      "metadata": {
        "colab": {
          "base_uri": "https://localhost:8080/"
        },
        "id": "a7bHaAOcld4r",
        "outputId": "7791aab1-75d5-4332-8fda-bbb7e8205809"
      },
      "source": [
        "# check number of cores PySpark is using\n",
        "cores = spark._jsc.sc().getExecutorMemoryStatus().keySet().size()\n",
        "print(\"You are working with\", cores, \"core(s)\")"
      ],
      "execution_count": 2,
      "outputs": [
        {
          "output_type": "stream",
          "text": [
            "You are working with 1 core(s)\n"
          ],
          "name": "stdout"
        }
      ]
    },
    {
      "cell_type": "code",
      "metadata": {
        "id": "X3BH7XKykc2M",
        "colab": {
          "base_uri": "https://localhost:8080/"
        },
        "outputId": "d54718d4-8d22-46e8-d2e5-3e4c98ff7a2b"
      },
      "source": [
        "!cp /content/drive/MyDrive/Datasets.zip .\n",
        "!unzip Datasets.zip"
      ],
      "execution_count": 3,
      "outputs": [
        {
          "output_type": "stream",
          "text": [
            "Archive:  Datasets.zip\n",
            "   creating: Datasets/\n",
            "  inflating: Datasets/fifa19.csv     \n",
            "  inflating: Datasets/.DS_Store      \n",
            "  inflating: Datasets/zomato.csv     \n",
            "  inflating: Datasets/nyc_air_bnb.csv  \n",
            "  inflating: Datasets/supermarket_sales.csv  \n",
            "  inflating: Datasets/users3.parquet  \n",
            "  inflating: Datasets/Toddler Autism dataset July 2018.csv  \n",
            "   creating: Datasets/uw-madison-courses/\n",
            "  inflating: Datasets/uw-madison-courses/course_offerings.csv  \n",
            "  inflating: Datasets/uw-madison-courses/sections.csv  \n",
            "  inflating: Datasets/uw-madison-courses/schedules.csv  \n",
            "  inflating: Datasets/uw-madison-courses/database.sqlite3  \n",
            "  inflating: Datasets/uw-madison-courses/rooms.csv  \n",
            "  inflating: Datasets/uw-madison-courses/teachings.csv  \n",
            "  inflating: Datasets/uw-madison-courses/subjects.csv  \n",
            "  inflating: Datasets/uw-madison-courses/subject_memberships.csv  \n",
            "  inflating: Datasets/uw-madison-courses/grade_distributions.csv  \n",
            "  inflating: Datasets/uw-madison-courses/instructors.csv  \n",
            "  inflating: Datasets/uw-madison-courses/courses.csv  \n",
            "  inflating: Datasets/googleplaystore.csv  \n",
            "  inflating: Datasets/Rep_vs_Dem_tweets.csv  \n",
            "  inflating: Datasets/users2.parquet  \n",
            "  inflating: Datasets/rec-crime-pfa.csv  \n",
            " extracting: Datasets/Weather.csv.zip  \n",
            "  inflating: Datasets/people.json    \n",
            "  inflating: Datasets/pga_tour_historical.csv  \n",
            "  inflating: Datasets/youtubevideos.csv  \n",
            "  inflating: Datasets/students.csv   \n",
            "  inflating: Datasets/users1.parquet  \n",
            "  inflating: Datasets/housing.csv    \n",
            "  inflating: Datasets/credit_card_data.csv  \n",
            "  inflating: Datasets/kickstarter.csv  \n"
          ],
          "name": "stdout"
        }
      ]
    },
    {
      "cell_type": "markdown",
      "metadata": {
        "id": "HgUFLSSMd5lw"
      },
      "source": [
        "# Load Libraries"
      ]
    },
    {
      "cell_type": "code",
      "metadata": {
        "id": "0S-d4r9Kd5Ec"
      },
      "source": [
        "from pyspark.ml.feature import *\n",
        "from pyspark.sql.types import * \n",
        "\n",
        "from pyspark.ml.classification import *\n",
        "from pyspark.ml.evaluation import *\n",
        "from pyspark.sql.functions import *\n",
        "from pyspark.ml.tuning import CrossValidator, ParamGridBuilder\n",
        "from pyspark.mllib.evaluation import MulticlassMetrics\n",
        "\n",
        "import pandas as pd"
      ],
      "execution_count": 4,
      "outputs": []
    },
    {
      "cell_type": "markdown",
      "metadata": {
        "id": "7-hZLn9n9i1h"
      },
      "source": [
        "# ML Model Building"
      ]
    },
    {
      "cell_type": "code",
      "metadata": {
        "id": "leRpVLUqXjh2"
      },
      "source": [
        "path =\"Datasets/\"\n",
        "df = spark.read.csv(path+'kickstarter.csv',inferSchema=True,header=True)"
      ],
      "execution_count": 5,
      "outputs": []
    },
    {
      "cell_type": "code",
      "metadata": {
        "colab": {
          "base_uri": "https://localhost:8080/",
          "height": 173
        },
        "id": "uG47itv4X1m6",
        "outputId": "36e68683-8d50-44c6-bf08-929a0bcac455"
      },
      "source": [
        "df.limit(4).toPandas()"
      ],
      "execution_count": 6,
      "outputs": [
        {
          "output_type": "execute_result",
          "data": {
            "text/html": [
              "<div>\n",
              "<style scoped>\n",
              "    .dataframe tbody tr th:only-of-type {\n",
              "        vertical-align: middle;\n",
              "    }\n",
              "\n",
              "    .dataframe tbody tr th {\n",
              "        vertical-align: top;\n",
              "    }\n",
              "\n",
              "    .dataframe thead th {\n",
              "        text-align: right;\n",
              "    }\n",
              "</style>\n",
              "<table border=\"1\" class=\"dataframe\">\n",
              "  <thead>\n",
              "    <tr style=\"text-align: right;\">\n",
              "      <th></th>\n",
              "      <th>_c0</th>\n",
              "      <th>blurb</th>\n",
              "      <th>state</th>\n",
              "    </tr>\n",
              "  </thead>\n",
              "  <tbody>\n",
              "    <tr>\n",
              "      <th>0</th>\n",
              "      <td>1</td>\n",
              "      <td>Using their own character, users go on educati...</td>\n",
              "      <td>failed</td>\n",
              "    </tr>\n",
              "    <tr>\n",
              "      <th>1</th>\n",
              "      <td>2</td>\n",
              "      <td>MicroFly is a quadcopter packed with WiFi, 6 s...</td>\n",
              "      <td>successful</td>\n",
              "    </tr>\n",
              "    <tr>\n",
              "      <th>2</th>\n",
              "      <td>3</td>\n",
              "      <td>A small indie press, run as a collective for a...</td>\n",
              "      <td>failed</td>\n",
              "    </tr>\n",
              "    <tr>\n",
              "      <th>3</th>\n",
              "      <td>4</td>\n",
              "      <td>Zylor is a new baby cosplayer! Back this kicks...</td>\n",
              "      <td>failed</td>\n",
              "    </tr>\n",
              "  </tbody>\n",
              "</table>\n",
              "</div>"
            ],
            "text/plain": [
              "  _c0                                              blurb       state\n",
              "0   1  Using their own character, users go on educati...      failed\n",
              "1   2  MicroFly is a quadcopter packed with WiFi, 6 s...  successful\n",
              "2   3  A small indie press, run as a collective for a...      failed\n",
              "3   4  Zylor is a new baby cosplayer! Back this kicks...      failed"
            ]
          },
          "metadata": {},
          "execution_count": 6
        }
      ]
    },
    {
      "cell_type": "code",
      "metadata": {
        "colab": {
          "base_uri": "https://localhost:8080/"
        },
        "id": "jv7DlwahXljd",
        "outputId": "12cac9b0-9858-4f79-f749-81a41307d614"
      },
      "source": [
        "# Let's read a few full blurbs\n",
        "df.show(4,False)"
      ],
      "execution_count": 7,
      "outputs": [
        {
          "output_type": "stream",
          "text": [
            "+---+-----------------------------------------------------------------------------------------------------------------------------------+----------+\n",
            "|_c0|blurb                                                                                                                              |state     |\n",
            "+---+-----------------------------------------------------------------------------------------------------------------------------------+----------+\n",
            "|1  |Using their own character, users go on educational quests around a virtual world leveling up subject-oriented skills (ie Physics). |failed    |\n",
            "|2  |MicroFly is a quadcopter packed with WiFi, 6 sensors, and 3 processors for ultimate stability -- and fits in the palm of your hand.|successful|\n",
            "|3  |A small indie press, run as a collective for authors who want to self-publish, and a sexy, smart , hilarious novel!                |failed    |\n",
            "|4  |Zylor is a new baby cosplayer! Back this kickstarter to help fund new cosplay photoshoots to share his cuteness with the world!    |failed    |\n",
            "+---+-----------------------------------------------------------------------------------------------------------------------------------+----------+\n",
            "only showing top 4 rows\n",
            "\n"
          ],
          "name": "stdout"
        }
      ]
    },
    {
      "cell_type": "code",
      "metadata": {
        "colab": {
          "base_uri": "https://localhost:8080/"
        },
        "id": "8dVjCsBgX43d",
        "outputId": "1580360f-496e-49c1-836c-e80c39512b1f"
      },
      "source": [
        "df.printSchema()"
      ],
      "execution_count": 8,
      "outputs": [
        {
          "output_type": "stream",
          "text": [
            "root\n",
            " |-- _c0: string (nullable = true)\n",
            " |-- blurb: string (nullable = true)\n",
            " |-- state: string (nullable = true)\n",
            "\n"
          ],
          "name": "stdout"
        }
      ]
    },
    {
      "cell_type": "code",
      "metadata": {
        "colab": {
          "base_uri": "https://localhost:8080/"
        },
        "id": "mu2yC9LnX9aG",
        "outputId": "cecd8b2c-5863-45a5-c9f0-5d44308950d6"
      },
      "source": [
        "df.count()"
      ],
      "execution_count": 9,
      "outputs": [
        {
          "output_type": "execute_result",
          "data": {
            "text/plain": [
              "39853"
            ]
          },
          "metadata": {},
          "execution_count": 9
        }
      ]
    },
    {
      "cell_type": "code",
      "metadata": {
        "colab": {
          "base_uri": "https://localhost:8080/"
        },
        "id": "dB8jSVZ1X-yW",
        "outputId": "7e297448-0b79-4f40-fcc7-1bb17841ca05"
      },
      "source": [
        "def null_value_calc(df):\n",
        "    null_columns_counts = []\n",
        "    numRows = df.count()\n",
        "    for k in df.columns:\n",
        "        nullRows = df.where(col(k).isNull()).count()\n",
        "        if(nullRows > 0):\n",
        "            temp = k,nullRows,(nullRows/numRows)*100\n",
        "            null_columns_counts.append(temp)\n",
        "    return(null_columns_counts)\n",
        "\n",
        "null_columns_calc_list = null_value_calc(df)\n",
        "spark.createDataFrame(null_columns_calc_list, ['Column_Name', 'Null_Values_Count','Null_Value_Percent']).show()"
      ],
      "execution_count": 10,
      "outputs": [
        {
          "output_type": "stream",
          "text": [
            "+-----------+-----------------+------------------+\n",
            "|Column_Name|Null_Values_Count|Null_Value_Percent|\n",
            "+-----------+-----------------+------------------+\n",
            "|      blurb|              207|0.5194088274408452|\n",
            "|      state|             2273| 5.703460216294884|\n",
            "+-----------+-----------------+------------------+\n",
            "\n"
          ],
          "name": "stdout"
        }
      ]
    },
    {
      "cell_type": "code",
      "metadata": {
        "colab": {
          "base_uri": "https://localhost:8080/"
        },
        "id": "OjFIHE4iYF9x",
        "outputId": "4a62909f-9e53-4d54-b809-0e03e8b2630a"
      },
      "source": [
        "og_len = df.count()\n",
        "drop_len = df.na.drop().count()\n",
        "print(\"Total Rows that contain at least one null value:\",og_len-drop_len)\n",
        "print(\"Percentage of Rows that contain at least one null value:\", (og_len-drop_len)/og_len)"
      ],
      "execution_count": 11,
      "outputs": [
        {
          "output_type": "stream",
          "text": [
            "Total Rows that contain at least one null value: 2273\n",
            "Percentage of Rows that contain at least one null value: 0.05703460216294884\n"
          ],
          "name": "stdout"
        }
      ]
    },
    {
      "cell_type": "code",
      "metadata": {
        "colab": {
          "base_uri": "https://localhost:8080/"
        },
        "id": "RUl_t7McYKlX",
        "outputId": "911171d4-4c49-471d-a9c6-7f9316ae41e0"
      },
      "source": [
        "df = df.dropna()\n",
        "df.count()"
      ],
      "execution_count": 12,
      "outputs": [
        {
          "output_type": "execute_result",
          "data": {
            "text/plain": [
              "37580"
            ]
          },
          "metadata": {},
          "execution_count": 12
        }
      ]
    },
    {
      "cell_type": "code",
      "metadata": {
        "colab": {
          "base_uri": "https://localhost:8080/"
        },
        "id": "YBHgY8NfYQfE",
        "outputId": "3acca216-7870-41b7-b3a3-35dd359fef87"
      },
      "source": [
        "# check target variable\n",
        "df.groupBy(\"state\").count().orderBy(col(\"count\").desc()).show(truncate=False)"
      ],
      "execution_count": 13,
      "outputs": [
        {
          "output_type": "stream",
          "text": [
            "+------------------------------------------------------------------------------------------------------------+-----+\n",
            "|state                                                                                                       |count|\n",
            "+------------------------------------------------------------------------------------------------------------+-----+\n",
            "|failed                                                                                                      |23064|\n",
            "|successful                                                                                                  |13708|\n",
            "| followed by a Q&A with cast & crew.\"                                                                       |2    |\n",
            "| Inc.\"\".\"                                                                                                   |2    |\n",
            "| with superhuman powers.\"                                                                                   |2    |\n",
            "| \"\"Tomorrow Comes Today\"\" and more !\"                                                                       |2    |\n",
            "| not too erotic or violent- just sweet reads that are pages long or can be read in 10 minutes. Escapeworthy\"|2    |\n",
            "| heartbreak                                                                                                 |2    |\n",
            "| equality                                                                                                   |2    |\n",
            "| D-day. Don´t imagine it                                                                                    |1    |\n",
            "| but to bring it to your ears                                                                               |1    |\n",
            "| will keep audiences thrilled until the final scene!\"                                                       |1    |\n",
            "| percussive landscapes.\"                                                                                    |1    |\n",
            "| Goodnight\"\" was born. I can't wait to share this lovely book with the world.\"                              |1    |\n",
            "| a delivery man risks it all to avenge his sisters dishonor.\"\"\"                                             |1    |\n",
            "| after the traffic stop                                                                                     |1    |\n",
            "|\"\" brings ghost stories                                                                                     |1    |\n",
            "| New Waters\"\".\"                                                                                             |1    |\n",
            "| print                                                                                                      |1    |\n",
            "| It features Electronic feeling                                                                             |1    |\n",
            "+------------------------------------------------------------------------------------------------------------+-----+\n",
            "only showing top 20 rows\n",
            "\n"
          ],
          "name": "stdout"
        }
      ]
    },
    {
      "cell_type": "code",
      "metadata": {
        "colab": {
          "base_uri": "https://localhost:8080/"
        },
        "id": "TXueBKLyYY1Y",
        "outputId": "fcbe8e4c-d0b4-40e3-d3ff-cb7f2e06b233"
      },
      "source": [
        "# convert state into binary classification problem\n",
        "df = df.filter(\"state IN('successful','failed')\")\n",
        "df.groupBy(\"state\").count().orderBy(col(\"count\").desc()).show(truncate=False)"
      ],
      "execution_count": 14,
      "outputs": [
        {
          "output_type": "stream",
          "text": [
            "+----------+-----+\n",
            "|state     |count|\n",
            "+----------+-----+\n",
            "|failed    |23064|\n",
            "|successful|13708|\n",
            "+----------+-----+\n",
            "\n"
          ],
          "name": "stdout"
        }
      ]
    },
    {
      "cell_type": "code",
      "metadata": {
        "colab": {
          "base_uri": "https://localhost:8080/"
        },
        "id": "eSj79DHTYj1w",
        "outputId": "ab537ac5-0e8c-4524-9c4b-2837a89b7441"
      },
      "source": [
        "df.select(\"blurb\").show(10,False)"
      ],
      "execution_count": 15,
      "outputs": [
        {
          "output_type": "stream",
          "text": [
            "+-----------------------------------------------------------------------------------------------------------------------------------+\n",
            "|blurb                                                                                                                              |\n",
            "+-----------------------------------------------------------------------------------------------------------------------------------+\n",
            "|Using their own character, users go on educational quests around a virtual world leveling up subject-oriented skills (ie Physics). |\n",
            "|MicroFly is a quadcopter packed with WiFi, 6 sensors, and 3 processors for ultimate stability -- and fits in the palm of your hand.|\n",
            "|A small indie press, run as a collective for authors who want to self-publish, and a sexy, smart , hilarious novel!                |\n",
            "|Zylor is a new baby cosplayer! Back this kickstarter to help fund new cosplay photoshoots to share his cuteness with the world!    |\n",
            "|Hatoful Boyfriend meet Skeletons! A comedy Dating Sim that puts you into a high school full of Skeletons. Rattle some Bones!       |\n",
            "|FastMan is a Infinite running platformer. Go in FastMan's shoes and run through the platform dodging obstacles.                    |\n",
            "|FADE. A dark and somber RPG about survival and hope.(Legend of Zelda/Fable Inspired)                                               |\n",
            "|The next generation of space combat with online progression, leveling, an arsenal of ships, weapons and much more!                 |\n",
            "|Whip around planets and smash your way to victory in this video game of galactic proportions!                                      |\n",
            "|Sneak in, find treasures, avoid cats and collect the loot before time runs out!                                                    |\n",
            "+-----------------------------------------------------------------------------------------------------------------------------------+\n",
            "only showing top 10 rows\n",
            "\n"
          ],
          "name": "stdout"
        }
      ]
    },
    {
      "cell_type": "code",
      "metadata": {
        "colab": {
          "base_uri": "https://localhost:8080/"
        },
        "id": "m3IYIkVGYsYj",
        "outputId": "d0723508-7c79-47ea-eaa0-110043bceb36"
      },
      "source": [
        "# Replace Slashes and parenthesis with spaces\n",
        "df = df.withColumn(\"blurb\",translate(\"blurb\", \"/()\", \"   \")) \n",
        "df.select(\"blurb\").show(7,False)"
      ],
      "execution_count": 16,
      "outputs": [
        {
          "output_type": "stream",
          "text": [
            "+-----------------------------------------------------------------------------------------------------------------------------------+\n",
            "|blurb                                                                                                                              |\n",
            "+-----------------------------------------------------------------------------------------------------------------------------------+\n",
            "|Using their own character, users go on educational quests around a virtual world leveling up subject-oriented skills  ie Physics . |\n",
            "|MicroFly is a quadcopter packed with WiFi, 6 sensors, and 3 processors for ultimate stability -- and fits in the palm of your hand.|\n",
            "|A small indie press, run as a collective for authors who want to self-publish, and a sexy, smart , hilarious novel!                |\n",
            "|Zylor is a new baby cosplayer! Back this kickstarter to help fund new cosplay photoshoots to share his cuteness with the world!    |\n",
            "|Hatoful Boyfriend meet Skeletons! A comedy Dating Sim that puts you into a high school full of Skeletons. Rattle some Bones!       |\n",
            "|FastMan is a Infinite running platformer. Go in FastMan's shoes and run through the platform dodging obstacles.                    |\n",
            "|FADE. A dark and somber RPG about survival and hope. Legend of Zelda Fable Inspired                                                |\n",
            "+-----------------------------------------------------------------------------------------------------------------------------------+\n",
            "only showing top 7 rows\n",
            "\n"
          ],
          "name": "stdout"
        }
      ]
    },
    {
      "cell_type": "code",
      "metadata": {
        "colab": {
          "base_uri": "https://localhost:8080/"
        },
        "id": "UeHJYwRsY61Q",
        "outputId": "4eaf8f3f-6eb5-4bd0-aa3a-42e065c93009"
      },
      "source": [
        "# Removing anything that is not a letter\n",
        "df = df.withColumn(\"blurb\",regexp_replace('blurb', '[^A-Za-z ]+', ''))\n",
        "df.select(\"blurb\").show(10,False)"
      ],
      "execution_count": 17,
      "outputs": [
        {
          "output_type": "stream",
          "text": [
            "+-------------------------------------------------------------------------------------------------------------------------------+\n",
            "|blurb                                                                                                                          |\n",
            "+-------------------------------------------------------------------------------------------------------------------------------+\n",
            "|Using their own character users go on educational quests around a virtual world leveling up subjectoriented skills  ie Physics |\n",
            "|MicroFly is a quadcopter packed with WiFi  sensors and  processors for ultimate stability  and fits in the palm of your hand   |\n",
            "|A small indie press run as a collective for authors who want to selfpublish and a sexy smart  hilarious novel                  |\n",
            "|Zylor is a new baby cosplayer Back this kickstarter to help fund new cosplay photoshoots to share his cuteness with the world  |\n",
            "|Hatoful Boyfriend meet Skeletons A comedy Dating Sim that puts you into a high school full of Skeletons Rattle some Bones      |\n",
            "|FastMan is a Infinite running platformer Go in FastMans shoes and run through the platform dodging obstacles                   |\n",
            "|FADE A dark and somber RPG about survival and hope Legend of Zelda Fable Inspired                                              |\n",
            "|The next generation of space combat with online progression leveling an arsenal of ships weapons and much more                 |\n",
            "|Whip around planets and smash your way to victory in this video game of galactic proportions                                   |\n",
            "|Sneak in find treasures avoid cats and collect the loot before time runs out                                                   |\n",
            "+-------------------------------------------------------------------------------------------------------------------------------+\n",
            "only showing top 10 rows\n",
            "\n"
          ],
          "name": "stdout"
        }
      ]
    },
    {
      "cell_type": "code",
      "metadata": {
        "colab": {
          "base_uri": "https://localhost:8080/"
        },
        "id": "Sj4mfBYdZTfN",
        "outputId": "9d68d30f-124d-41fa-c638-bda5e74ee7fb"
      },
      "source": [
        "# Remove multiple spaces\n",
        "df = df.withColumn(\"blurb\",regexp_replace('blurb', ' +', ' '))\n",
        "df.select(\"blurb\").show(4,False)"
      ],
      "execution_count": 18,
      "outputs": [
        {
          "output_type": "stream",
          "text": [
            "+------------------------------------------------------------------------------------------------------------------------------+\n",
            "|blurb                                                                                                                         |\n",
            "+------------------------------------------------------------------------------------------------------------------------------+\n",
            "|Using their own character users go on educational quests around a virtual world leveling up subjectoriented skills ie Physics |\n",
            "|MicroFly is a quadcopter packed with WiFi sensors and processors for ultimate stability and fits in the palm of your hand     |\n",
            "|A small indie press run as a collective for authors who want to selfpublish and a sexy smart hilarious novel                  |\n",
            "|Zylor is a new baby cosplayer Back this kickstarter to help fund new cosplay photoshoots to share his cuteness with the world |\n",
            "+------------------------------------------------------------------------------------------------------------------------------+\n",
            "only showing top 4 rows\n",
            "\n"
          ],
          "name": "stdout"
        }
      ]
    },
    {
      "cell_type": "code",
      "metadata": {
        "colab": {
          "base_uri": "https://localhost:8080/"
        },
        "id": "XHWFYBgMZzvm",
        "outputId": "b69917eb-c5ce-4478-c9f3-46aa4c7c7acc"
      },
      "source": [
        "# Lower case everything\n",
        "df = df.withColumn(\"blurb\",lower('blurb'))\n",
        "df.select(\"blurb\").show(4,False)"
      ],
      "execution_count": 19,
      "outputs": [
        {
          "output_type": "stream",
          "text": [
            "+------------------------------------------------------------------------------------------------------------------------------+\n",
            "|blurb                                                                                                                         |\n",
            "+------------------------------------------------------------------------------------------------------------------------------+\n",
            "|using their own character users go on educational quests around a virtual world leveling up subjectoriented skills ie physics |\n",
            "|microfly is a quadcopter packed with wifi sensors and processors for ultimate stability and fits in the palm of your hand     |\n",
            "|a small indie press run as a collective for authors who want to selfpublish and a sexy smart hilarious novel                  |\n",
            "|zylor is a new baby cosplayer back this kickstarter to help fund new cosplay photoshoots to share his cuteness with the world |\n",
            "+------------------------------------------------------------------------------------------------------------------------------+\n",
            "only showing top 4 rows\n",
            "\n"
          ],
          "name": "stdout"
        }
      ]
    },
    {
      "cell_type": "code",
      "metadata": {
        "colab": {
          "base_uri": "https://localhost:8080/"
        },
        "id": "H_ceAy7zZ5Nc",
        "outputId": "48fc2281-d479-499c-aab5-b4f85a784ccd"
      },
      "source": [
        "# tokenize words\n",
        "regex_tokenizer = RegexTokenizer(inputCol=\"blurb\", outputCol=\"words\", pattern=\"\\\\W\")\n",
        "raw_words = regex_tokenizer.transform(df)\n",
        "raw_words.show(2,False)"
      ],
      "execution_count": 20,
      "outputs": [
        {
          "output_type": "stream",
          "text": [
            "+---+------------------------------------------------------------------------------------------------------------------------------+----------+-------------------------------------------------------------------------------------------------------------------------------------------------+\n",
            "|_c0|blurb                                                                                                                         |state     |words                                                                                                                                            |\n",
            "+---+------------------------------------------------------------------------------------------------------------------------------+----------+-------------------------------------------------------------------------------------------------------------------------------------------------+\n",
            "|1  |using their own character users go on educational quests around a virtual world leveling up subjectoriented skills ie physics |failed    |[using, their, own, character, users, go, on, educational, quests, around, a, virtual, world, leveling, up, subjectoriented, skills, ie, physics]|\n",
            "|2  |microfly is a quadcopter packed with wifi sensors and processors for ultimate stability and fits in the palm of your hand     |successful|[microfly, is, a, quadcopter, packed, with, wifi, sensors, and, processors, for, ultimate, stability, and, fits, in, the, palm, of, your, hand]  |\n",
            "+---+------------------------------------------------------------------------------------------------------------------------------+----------+-------------------------------------------------------------------------------------------------------------------------------------------------+\n",
            "only showing top 2 rows\n",
            "\n"
          ],
          "name": "stdout"
        }
      ]
    },
    {
      "cell_type": "code",
      "metadata": {
        "colab": {
          "base_uri": "https://localhost:8080/"
        },
        "id": "pPuM_N-_aGeO",
        "outputId": "55b22ea4-cf3c-42f6-f8d7-24185e196593"
      },
      "source": [
        "# Remove Stopwords\n",
        "# Define a list of stop words or use default list\n",
        "remover = StopWordsRemover(inputCol=\"words\", outputCol=\"filtered\")\n",
        "stopwords = remover.getStopWords() \n",
        "\n",
        "# Display default list\n",
        "stopwords[:10]"
      ],
      "execution_count": 21,
      "outputs": [
        {
          "output_type": "execute_result",
          "data": {
            "text/plain": [
              "['i', 'me', 'my', 'myself', 'we', 'our', 'ours', 'ourselves', 'you', 'your']"
            ]
          },
          "metadata": {},
          "execution_count": 21
        }
      ]
    },
    {
      "cell_type": "code",
      "metadata": {
        "colab": {
          "base_uri": "https://localhost:8080/"
        },
        "id": "2aNr1-MkaVr-",
        "outputId": "6f3908c9-01d4-4320-f8bd-48d4fb075997"
      },
      "source": [
        "words_df = remover.transform(raw_words)\n",
        "words_df.show(1,False)"
      ],
      "execution_count": 22,
      "outputs": [
        {
          "output_type": "stream",
          "text": [
            "+---+------------------------------------------------------------------------------------------------------------------------------+------+-------------------------------------------------------------------------------------------------------------------------------------------------+--------------------------------------------------------------------------------------------------------------------------+\n",
            "|_c0|blurb                                                                                                                         |state |words                                                                                                                                            |filtered                                                                                                                  |\n",
            "+---+------------------------------------------------------------------------------------------------------------------------------+------+-------------------------------------------------------------------------------------------------------------------------------------------------+--------------------------------------------------------------------------------------------------------------------------+\n",
            "|1  |using their own character users go on educational quests around a virtual world leveling up subjectoriented skills ie physics |failed|[using, their, own, character, users, go, on, educational, quests, around, a, virtual, world, leveling, up, subjectoriented, skills, ie, physics]|[using, character, users, go, educational, quests, around, virtual, world, leveling, subjectoriented, skills, ie, physics]|\n",
            "+---+------------------------------------------------------------------------------------------------------------------------------+------+-------------------------------------------------------------------------------------------------------------------------------------------------+--------------------------------------------------------------------------------------------------------------------------+\n",
            "only showing top 1 row\n",
            "\n"
          ],
          "name": "stdout"
        }
      ]
    },
    {
      "cell_type": "code",
      "metadata": {
        "colab": {
          "base_uri": "https://localhost:8080/"
        },
        "id": "7dHgSJRfav8N",
        "outputId": "73b67cf7-3ee5-47f8-beb9-61e0fa53ab5a"
      },
      "source": [
        "# converting state to string lables\n",
        "# transform with string indexer\n",
        "indexer = StringIndexer(inputCol=\"state\", outputCol=\"label\")  \n",
        "words_df = indexer.fit(words_df).transform(words_df)\n",
        "words_df.show(1)"
      ],
      "execution_count": 23,
      "outputs": [
        {
          "output_type": "stream",
          "text": [
            "+---+--------------------+------+--------------------+--------------------+-----+\n",
            "|_c0|               blurb| state|               words|            filtered|label|\n",
            "+---+--------------------+------+--------------------+--------------------+-----+\n",
            "|  1|using their own c...|failed|[using, their, ow...|[using, character...|  0.0|\n",
            "+---+--------------------+------+--------------------+--------------------+-----+\n",
            "only showing top 1 row\n",
            "\n"
          ],
          "name": "stdout"
        }
      ]
    },
    {
      "cell_type": "code",
      "metadata": {
        "id": "lv-Wal0HaZr6"
      },
      "source": [
        "# train test split\n",
        "train = words_df.sampleBy(\"label\", fractions={0: 0.7, 1: 0.7}, seed=10)\n",
        "test = words_df.subtract(train)"
      ],
      "execution_count": 24,
      "outputs": []
    },
    {
      "cell_type": "code",
      "metadata": {
        "colab": {
          "base_uri": "https://localhost:8080/"
        },
        "id": "xb7lUSdea9D1",
        "outputId": "25ef6c27-801e-46a3-b22b-09fb0c4df740"
      },
      "source": [
        "train.groupby('label').count().show()"
      ],
      "execution_count": 25,
      "outputs": [
        {
          "output_type": "stream",
          "text": [
            "+-----+-----+\n",
            "|label|count|\n",
            "+-----+-----+\n",
            "|  0.0|16111|\n",
            "|  1.0| 9538|\n",
            "+-----+-----+\n",
            "\n"
          ],
          "name": "stdout"
        }
      ]
    },
    {
      "cell_type": "code",
      "metadata": {
        "colab": {
          "base_uri": "https://localhost:8080/"
        },
        "id": "kQ1-31yFbBV8",
        "outputId": "610ddbf5-f38a-4791-db13-b6bf27321a52"
      },
      "source": [
        "test.groupby('label').count().show()"
      ],
      "execution_count": 26,
      "outputs": [
        {
          "output_type": "stream",
          "text": [
            "+-----+-----+\n",
            "|label|count|\n",
            "+-----+-----+\n",
            "|  0.0| 6953|\n",
            "|  1.0| 4170|\n",
            "+-----+-----+\n",
            "\n"
          ],
          "name": "stdout"
        }
      ]
    },
    {
      "cell_type": "code",
      "metadata": {
        "colab": {
          "base_uri": "https://localhost:8080/"
        },
        "id": "f7mfSQtobC1j",
        "outputId": "3dc85586-15e6-4230-d85d-86b91f747fab"
      },
      "source": [
        "train.count(),test.count()"
      ],
      "execution_count": 27,
      "outputs": [
        {
          "output_type": "execute_result",
          "data": {
            "text/plain": [
              "(25649, 11123)"
            ]
          },
          "metadata": {},
          "execution_count": 27
        }
      ]
    },
    {
      "cell_type": "code",
      "metadata": {
        "id": "gZxDBSWTfCmw"
      },
      "source": [
        "def gbt_classifer(train_df,test_df):\n",
        "\n",
        "    # Text Classification Model\n",
        "\n",
        "    # Instaniate the classifier\n",
        "    classifier = GBTClassifier(maxIter=5,maxDepth=5,maxBins=3)\n",
        "\n",
        "    # Fit the model\n",
        "    model = classifier.fit(train_df)\n",
        "\n",
        "    # Generate predictions on test dataframe\n",
        "    prediction = model.transform(test_df)\n",
        "\n",
        "    #important: need to cast to float type, and order by prediction, else it won't work\n",
        "    prediction = prediction.withColumn(\"label\", prediction[\"label\"].cast(FloatType())) \n",
        "    prediction = prediction.withColumn(\"prediction\", prediction[\"prediction\"].cast(FloatType())) \n",
        "\n",
        "    preds_and_labels = prediction.select(['prediction','label']).orderBy('prediction')\n",
        "    metrics = MulticlassMetrics(preds_and_labels.rdd.map(tuple))\n",
        "\n",
        "    print(\"====== confusion Matrix=======\")\n",
        "    print(metrics.confusionMatrix().toArray())\n",
        "\n",
        "    # Overall statistics\n",
        "    print(f\"\\n\\nAccuracy {metrics.accuracy}\")\n",
        "\n",
        "    # Statistics by class\n",
        "    labels = [0.0,1.0]\n",
        "    for label in sorted(labels):\n",
        "        print(\"Class %s precision = %s\" % (label, metrics.precision(label)))\n",
        "        print(\"Class %s recall = %s\" % (label, metrics.recall(label)))\n",
        "        print(\"Class %s F1 Measure = %s\" % (label, metrics.fMeasure(label, beta=1.0)))\n",
        "\n",
        "    # Weighted stats\n",
        "    print(\"Weighted recall = %s\" % metrics.weightedRecall)\n",
        "    print(\"Weighted precision = %s\" % metrics.weightedPrecision)\n",
        "    print(\"Weighted F(1) Score = %s\" % metrics.weightedFMeasure())\n",
        "    print(\"Weighted F(0.5) Score = %s\" % metrics.weightedFMeasure(beta=0.5))\n",
        "    print(\"Weighted false positive rate = %s\" % metrics.weightedFalsePositiveRate)\n",
        "\n",
        "    return"
      ],
      "execution_count": 28,
      "outputs": []
    },
    {
      "cell_type": "markdown",
      "metadata": {
        "id": "IoAn9ZuFbkIR"
      },
      "source": [
        "## Count Vectorizer\n",
        "\n"
      ]
    },
    {
      "cell_type": "code",
      "metadata": {
        "id": "rMfwtxTdbKBG"
      },
      "source": [
        "# Hashing (Count Vectroizer)\n",
        "hashing = HashingTF(inputCol=\"filtered\", outputCol=\"features\", numFeatures=20)\n",
        "train_hash = hashing.transform(train)\n",
        "test_hash = hashing.transform(test)"
      ],
      "execution_count": 29,
      "outputs": []
    },
    {
      "cell_type": "code",
      "metadata": {
        "colab": {
          "base_uri": "https://localhost:8080/",
          "height": 193
        },
        "id": "FVALA1b9cEmr",
        "outputId": "b031b0a8-2d99-4a26-8cad-35db95e7689f"
      },
      "source": [
        "train_hash.limit(3).toPandas()"
      ],
      "execution_count": 30,
      "outputs": [
        {
          "output_type": "execute_result",
          "data": {
            "text/html": [
              "<div>\n",
              "<style scoped>\n",
              "    .dataframe tbody tr th:only-of-type {\n",
              "        vertical-align: middle;\n",
              "    }\n",
              "\n",
              "    .dataframe tbody tr th {\n",
              "        vertical-align: top;\n",
              "    }\n",
              "\n",
              "    .dataframe thead th {\n",
              "        text-align: right;\n",
              "    }\n",
              "</style>\n",
              "<table border=\"1\" class=\"dataframe\">\n",
              "  <thead>\n",
              "    <tr style=\"text-align: right;\">\n",
              "      <th></th>\n",
              "      <th>_c0</th>\n",
              "      <th>blurb</th>\n",
              "      <th>state</th>\n",
              "      <th>words</th>\n",
              "      <th>filtered</th>\n",
              "      <th>label</th>\n",
              "      <th>features</th>\n",
              "    </tr>\n",
              "  </thead>\n",
              "  <tbody>\n",
              "    <tr>\n",
              "      <th>0</th>\n",
              "      <td>1</td>\n",
              "      <td>using their own character users go on educatio...</td>\n",
              "      <td>failed</td>\n",
              "      <td>[using, their, own, character, users, go, on, ...</td>\n",
              "      <td>[using, character, users, go, educational, que...</td>\n",
              "      <td>0.0</td>\n",
              "      <td>(3.0, 0.0, 1.0, 0.0, 0.0, 0.0, 1.0, 2.0, 0.0, ...</td>\n",
              "    </tr>\n",
              "    <tr>\n",
              "      <th>1</th>\n",
              "      <td>3</td>\n",
              "      <td>a small indie press run as a collective for au...</td>\n",
              "      <td>failed</td>\n",
              "      <td>[a, small, indie, press, run, as, a, collectiv...</td>\n",
              "      <td>[small, indie, press, run, collective, authors...</td>\n",
              "      <td>0.0</td>\n",
              "      <td>(3.0, 0.0, 1.0, 0.0, 0.0, 1.0, 1.0, 0.0, 0.0, ...</td>\n",
              "    </tr>\n",
              "    <tr>\n",
              "      <th>2</th>\n",
              "      <td>5</td>\n",
              "      <td>hatoful boyfriend meet skeletons a comedy dati...</td>\n",
              "      <td>failed</td>\n",
              "      <td>[hatoful, boyfriend, meet, skeletons, a, comed...</td>\n",
              "      <td>[hatoful, boyfriend, meet, skeletons, comedy, ...</td>\n",
              "      <td>0.0</td>\n",
              "      <td>(2.0, 0.0, 1.0, 0.0, 1.0, 3.0, 0.0, 0.0, 0.0, ...</td>\n",
              "    </tr>\n",
              "  </tbody>\n",
              "</table>\n",
              "</div>"
            ],
            "text/plain": [
              "  _c0  ...                                           features\n",
              "0   1  ...  (3.0, 0.0, 1.0, 0.0, 0.0, 0.0, 1.0, 2.0, 0.0, ...\n",
              "1   3  ...  (3.0, 0.0, 1.0, 0.0, 0.0, 1.0, 1.0, 0.0, 0.0, ...\n",
              "2   5  ...  (2.0, 0.0, 1.0, 0.0, 1.0, 3.0, 0.0, 0.0, 0.0, ...\n",
              "\n",
              "[3 rows x 7 columns]"
            ]
          },
          "metadata": {},
          "execution_count": 30
        }
      ]
    },
    {
      "cell_type": "code",
      "metadata": {
        "colab": {
          "base_uri": "https://localhost:8080/"
        },
        "id": "hDGnJouXd8dc",
        "outputId": "44bd1ad4-5853-4bd2-b3ed-0395ef888b55"
      },
      "source": [
        "gbt_classifer(train_hash,test_hash)"
      ],
      "execution_count": 31,
      "outputs": [
        {
          "output_type": "stream",
          "text": [
            "====== confusion Matrix=======\n",
            "[[6719.  234.]\n",
            " [3935.  235.]]\n",
            "\n",
            "\n",
            "Accuracy 0.6251910455812281\n",
            "Class 0.0 precision = 0.6306551529941806\n",
            "Class 0.0 recall = 0.9663454623903351\n",
            "Class 0.0 F1 Measure = 0.7632191741920827\n",
            "Class 1.0 precision = 0.5010660980810234\n",
            "Class 1.0 recall = 0.05635491606714628\n",
            "Class 1.0 F1 Measure = 0.10131493856434576\n",
            "Weighted recall = 0.6251910455812281\n",
            "Weighted precision = 0.5820723642692084\n",
            "Weighted F(1) Score = 0.5150720320031352\n",
            "Weighted F(0.5) Score = 0.49651649039387546\n",
            "Weighted false positive rate = 0.6024906671237468\n"
          ],
          "name": "stdout"
        }
      ]
    },
    {
      "cell_type": "markdown",
      "metadata": {
        "id": "SG4q_T2IdQKf"
      },
      "source": [
        "## TF-IDF Feature Extraction"
      ]
    },
    {
      "cell_type": "code",
      "metadata": {
        "id": "weI4wgh-gy1z"
      },
      "source": [
        "# Hashing (Count Vectroizer)\n",
        "hashing = HashingTF(inputCol=\"filtered\", outputCol=\"raw_features\", numFeatures=20)\n",
        "train_hash = hashing.transform(train)\n",
        "test_hash = hashing.transform(test)"
      ],
      "execution_count": 32,
      "outputs": []
    },
    {
      "cell_type": "code",
      "metadata": {
        "id": "hdizDjQKcT_V"
      },
      "source": [
        "# TF-IDF Transformation\n",
        "\n",
        "idf = IDF(inputCol=\"raw_features\", outputCol=\"features\")\n",
        "idf = idf.fit(train_hash)\n",
        "\n",
        "train_tfidf = idf.transform(train_hash)\n",
        "test_tfidf =  idf.transform(test_hash)"
      ],
      "execution_count": 33,
      "outputs": []
    },
    {
      "cell_type": "code",
      "metadata": {
        "colab": {
          "base_uri": "https://localhost:8080/",
          "height": 193
        },
        "id": "b7Xzjqiucxc_",
        "outputId": "cb2a7a1d-6b03-4635-d7aa-5d4009979e4c"
      },
      "source": [
        "train_tfidf.limit(3).toPandas()"
      ],
      "execution_count": 34,
      "outputs": [
        {
          "output_type": "execute_result",
          "data": {
            "text/html": [
              "<div>\n",
              "<style scoped>\n",
              "    .dataframe tbody tr th:only-of-type {\n",
              "        vertical-align: middle;\n",
              "    }\n",
              "\n",
              "    .dataframe tbody tr th {\n",
              "        vertical-align: top;\n",
              "    }\n",
              "\n",
              "    .dataframe thead th {\n",
              "        text-align: right;\n",
              "    }\n",
              "</style>\n",
              "<table border=\"1\" class=\"dataframe\">\n",
              "  <thead>\n",
              "    <tr style=\"text-align: right;\">\n",
              "      <th></th>\n",
              "      <th>_c0</th>\n",
              "      <th>blurb</th>\n",
              "      <th>state</th>\n",
              "      <th>words</th>\n",
              "      <th>filtered</th>\n",
              "      <th>label</th>\n",
              "      <th>raw_features</th>\n",
              "      <th>features</th>\n",
              "    </tr>\n",
              "  </thead>\n",
              "  <tbody>\n",
              "    <tr>\n",
              "      <th>0</th>\n",
              "      <td>1</td>\n",
              "      <td>using their own character users go on educatio...</td>\n",
              "      <td>failed</td>\n",
              "      <td>[using, their, own, character, users, go, on, ...</td>\n",
              "      <td>[using, character, users, go, educational, que...</td>\n",
              "      <td>0.0</td>\n",
              "      <td>(3.0, 0.0, 1.0, 0.0, 0.0, 0.0, 1.0, 2.0, 0.0, ...</td>\n",
              "      <td>(2.233013653618827, 0.0, 0.885294631505191, 0....</td>\n",
              "    </tr>\n",
              "    <tr>\n",
              "      <th>1</th>\n",
              "      <td>3</td>\n",
              "      <td>a small indie press run as a collective for au...</td>\n",
              "      <td>failed</td>\n",
              "      <td>[a, small, indie, press, run, as, a, collectiv...</td>\n",
              "      <td>[small, indie, press, run, collective, authors...</td>\n",
              "      <td>0.0</td>\n",
              "      <td>(3.0, 0.0, 1.0, 0.0, 0.0, 1.0, 1.0, 0.0, 0.0, ...</td>\n",
              "      <td>(2.233013653618827, 0.0, 0.885294631505191, 0....</td>\n",
              "    </tr>\n",
              "    <tr>\n",
              "      <th>2</th>\n",
              "      <td>5</td>\n",
              "      <td>hatoful boyfriend meet skeletons a comedy dati...</td>\n",
              "      <td>failed</td>\n",
              "      <td>[hatoful, boyfriend, meet, skeletons, a, comed...</td>\n",
              "      <td>[hatoful, boyfriend, meet, skeletons, comedy, ...</td>\n",
              "      <td>0.0</td>\n",
              "      <td>(2.0, 0.0, 1.0, 0.0, 1.0, 3.0, 0.0, 0.0, 0.0, ...</td>\n",
              "      <td>(1.488675769079218, 0.0, 0.885294631505191, 0....</td>\n",
              "    </tr>\n",
              "  </tbody>\n",
              "</table>\n",
              "</div>"
            ],
            "text/plain": [
              "  _c0  ...                                           features\n",
              "0   1  ...  (2.233013653618827, 0.0, 0.885294631505191, 0....\n",
              "1   3  ...  (2.233013653618827, 0.0, 0.885294631505191, 0....\n",
              "2   5  ...  (1.488675769079218, 0.0, 0.885294631505191, 0....\n",
              "\n",
              "[3 rows x 8 columns]"
            ]
          },
          "metadata": {},
          "execution_count": 34
        }
      ]
    },
    {
      "cell_type": "code",
      "metadata": {
        "colab": {
          "base_uri": "https://localhost:8080/"
        },
        "id": "KK9PgRaxg6tC",
        "outputId": "a48c37df-d331-429b-9f85-b87a21ec6be2"
      },
      "source": [
        "gbt_classifer(train_tfidf,test_tfidf)"
      ],
      "execution_count": 35,
      "outputs": [
        {
          "output_type": "stream",
          "text": [
            "====== confusion Matrix=======\n",
            "[[6719.  234.]\n",
            " [3935.  235.]]\n",
            "\n",
            "\n",
            "Accuracy 0.6251910455812281\n",
            "Class 0.0 precision = 0.6306551529941806\n",
            "Class 0.0 recall = 0.9663454623903351\n",
            "Class 0.0 F1 Measure = 0.7632191741920827\n",
            "Class 1.0 precision = 0.5010660980810234\n",
            "Class 1.0 recall = 0.05635491606714628\n",
            "Class 1.0 F1 Measure = 0.10131493856434576\n",
            "Weighted recall = 0.6251910455812281\n",
            "Weighted precision = 0.5820723642692084\n",
            "Weighted F(1) Score = 0.5150720320031352\n",
            "Weighted F(0.5) Score = 0.49651649039387546\n",
            "Weighted false positive rate = 0.6024906671237468\n"
          ],
          "name": "stdout"
        }
      ]
    },
    {
      "cell_type": "markdown",
      "metadata": {
        "id": "yQ4I03U2dUA9"
      },
      "source": [
        "## Word2Vec"
      ]
    },
    {
      "cell_type": "code",
      "metadata": {
        "id": "U3VO0YbDdCJ6"
      },
      "source": [
        "# Word2Vec\n",
        "word_vec = Word2Vec(vectorSize=10, minCount=1, inputCol=\"filtered\", outputCol=\"features\")\n",
        "word_vec = word_vec.fit(train)\n",
        "\n",
        "train_word_vec = word_vec.transform(train)\n",
        "test_word_vec = word_vec.transform(test)"
      ],
      "execution_count": 36,
      "outputs": []
    },
    {
      "cell_type": "code",
      "metadata": {
        "colab": {
          "base_uri": "https://localhost:8080/",
          "height": 193
        },
        "id": "0LoU7vijdl8B",
        "outputId": "ef1ea4a6-513e-4811-b239-ce60301305db"
      },
      "source": [
        "train_word_vec.limit(3).toPandas()"
      ],
      "execution_count": 37,
      "outputs": [
        {
          "output_type": "execute_result",
          "data": {
            "text/html": [
              "<div>\n",
              "<style scoped>\n",
              "    .dataframe tbody tr th:only-of-type {\n",
              "        vertical-align: middle;\n",
              "    }\n",
              "\n",
              "    .dataframe tbody tr th {\n",
              "        vertical-align: top;\n",
              "    }\n",
              "\n",
              "    .dataframe thead th {\n",
              "        text-align: right;\n",
              "    }\n",
              "</style>\n",
              "<table border=\"1\" class=\"dataframe\">\n",
              "  <thead>\n",
              "    <tr style=\"text-align: right;\">\n",
              "      <th></th>\n",
              "      <th>_c0</th>\n",
              "      <th>blurb</th>\n",
              "      <th>state</th>\n",
              "      <th>words</th>\n",
              "      <th>filtered</th>\n",
              "      <th>label</th>\n",
              "      <th>features</th>\n",
              "    </tr>\n",
              "  </thead>\n",
              "  <tbody>\n",
              "    <tr>\n",
              "      <th>0</th>\n",
              "      <td>1</td>\n",
              "      <td>using their own character users go on educatio...</td>\n",
              "      <td>failed</td>\n",
              "      <td>[using, their, own, character, users, go, on, ...</td>\n",
              "      <td>[using, character, users, go, educational, que...</td>\n",
              "      <td>0.0</td>\n",
              "      <td>[-0.020393035707197017, -0.008813660288329368,...</td>\n",
              "    </tr>\n",
              "    <tr>\n",
              "      <th>1</th>\n",
              "      <td>3</td>\n",
              "      <td>a small indie press run as a collective for au...</td>\n",
              "      <td>failed</td>\n",
              "      <td>[a, small, indie, press, run, as, a, collectiv...</td>\n",
              "      <td>[small, indie, press, run, collective, authors...</td>\n",
              "      <td>0.0</td>\n",
              "      <td>[0.09818198370824878, -0.009876895851145187, 0...</td>\n",
              "    </tr>\n",
              "    <tr>\n",
              "      <th>2</th>\n",
              "      <td>5</td>\n",
              "      <td>hatoful boyfriend meet skeletons a comedy dati...</td>\n",
              "      <td>failed</td>\n",
              "      <td>[hatoful, boyfriend, meet, skeletons, a, comed...</td>\n",
              "      <td>[hatoful, boyfriend, meet, skeletons, comedy, ...</td>\n",
              "      <td>0.0</td>\n",
              "      <td>[-0.0796588789422198, -0.08226457456060286, 0....</td>\n",
              "    </tr>\n",
              "  </tbody>\n",
              "</table>\n",
              "</div>"
            ],
            "text/plain": [
              "  _c0  ...                                           features\n",
              "0   1  ...  [-0.020393035707197017, -0.008813660288329368,...\n",
              "1   3  ...  [0.09818198370824878, -0.009876895851145187, 0...\n",
              "2   5  ...  [-0.0796588789422198, -0.08226457456060286, 0....\n",
              "\n",
              "[3 rows x 7 columns]"
            ]
          },
          "metadata": {},
          "execution_count": 37
        }
      ]
    },
    {
      "cell_type": "code",
      "metadata": {
        "colab": {
          "base_uri": "https://localhost:8080/"
        },
        "id": "cxRIXiy4dsOq",
        "outputId": "5f9f6393-bb4b-4506-a90e-efe7d6621633"
      },
      "source": [
        "gbt_classifer(train_word_vec,test_word_vec)"
      ],
      "execution_count": 38,
      "outputs": [
        {
          "output_type": "stream",
          "text": [
            "====== confusion Matrix=======\n",
            "[[6091.  862.]\n",
            " [2200. 1970.]]\n",
            "\n",
            "\n",
            "Accuracy 0.7247145554256945\n",
            "Class 0.0 precision = 0.734652032324207\n",
            "Class 0.0 recall = 0.8760247375233712\n",
            "Class 0.0 F1 Measure = 0.7991340855418525\n",
            "Class 1.0 precision = 0.6956214689265536\n",
            "Class 1.0 recall = 0.4724220623501199\n",
            "Class 1.0 F1 Measure = 0.56269637246501\n",
            "Weighted recall = 0.7247145554256945\n",
            "Weighted precision = 0.7200195186706769\n",
            "Weighted F(1) Score = 0.7104938568687937\n",
            "Weighted F(0.5) Score = 0.7128212504995067\n",
            "Weighted false positive rate = 0.37626775555220343\n"
          ],
          "name": "stdout"
        }
      ]
    }
  ]
}
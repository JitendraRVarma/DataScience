{
  "nbformat": 4,
  "nbformat_minor": 0,
  "metadata": {
    "colab": {
      "name": "Topic_Modelling_LDA",
      "provenance": [],
      "collapsed_sections": []
    },
    "kernelspec": {
      "name": "python3",
      "display_name": "Python 3"
    },
    "language_info": {
      "name": "python"
    }
  },
  "cells": [
    {
      "cell_type": "markdown",
      "metadata": {
        "id": "Yp6mqGEAjYPM"
      },
      "source": [
        "## Configure PySpark Setup"
      ]
    },
    {
      "cell_type": "code",
      "metadata": {
        "colab": {
          "base_uri": "https://localhost:8080/",
          "height": 216
        },
        "id": "MCa9mNO1jZH9",
        "outputId": "f4cb09c3-5737-4a95-962f-0afeef90f07f"
      },
      "source": [
        "!apt-get install openjdk-8-jdk-headless -qq > /dev/null\n",
        "!wget -q https://archive.apache.org/dist/spark/spark-3.0.1/spark-3.0.1-bin-hadoop2.7.tgz\n",
        "!tar xf spark-3.0.1-bin-hadoop2.7.tgz\n",
        "!pip install -q findspark\n",
        "\n",
        "import os\n",
        "os.environ[\"JAVA_HOME\"] = \"/usr/lib/jvm/java-8-openjdk-amd64\"\n",
        "os.environ[\"SPARK_HOME\"] = \"/content/spark-3.0.1-bin-hadoop2.7\"\n",
        "\n",
        "\n",
        "import findspark\n",
        "findspark.init()\n",
        "\n",
        "\n",
        "import pyspark \n",
        "from pyspark.sql import SparkSession\n",
        "spark = SparkSession.builder.appName(\"App\").getOrCreate()\n",
        "spark"
      ],
      "execution_count": 1,
      "outputs": [
        {
          "output_type": "execute_result",
          "data": {
            "text/html": [
              "\n",
              "            <div>\n",
              "                <p><b>SparkSession - in-memory</b></p>\n",
              "                \n",
              "        <div>\n",
              "            <p><b>SparkContext</b></p>\n",
              "\n",
              "            <p><a href=\"http://b1b1edc1863f:4040\">Spark UI</a></p>\n",
              "\n",
              "            <dl>\n",
              "              <dt>Version</dt>\n",
              "                <dd><code>v3.0.1</code></dd>\n",
              "              <dt>Master</dt>\n",
              "                <dd><code>local[*]</code></dd>\n",
              "              <dt>AppName</dt>\n",
              "                <dd><code>App</code></dd>\n",
              "            </dl>\n",
              "        </div>\n",
              "        \n",
              "            </div>\n",
              "        "
            ],
            "text/plain": [
              "<pyspark.sql.session.SparkSession at 0x7f2015192310>"
            ]
          },
          "metadata": {},
          "execution_count": 1
        }
      ]
    },
    {
      "cell_type": "code",
      "metadata": {
        "colab": {
          "base_uri": "https://localhost:8080/"
        },
        "id": "a7bHaAOcld4r",
        "outputId": "0934e2b7-ca5c-4276-c1e6-6f6c9e7f7ef2"
      },
      "source": [
        "# check number of cores PySpark is using\n",
        "cores = spark._jsc.sc().getExecutorMemoryStatus().keySet().size()\n",
        "print(\"You are working with\", cores, \"core(s)\")"
      ],
      "execution_count": 2,
      "outputs": [
        {
          "output_type": "stream",
          "text": [
            "You are working with 1 core(s)\n"
          ],
          "name": "stdout"
        }
      ]
    },
    {
      "cell_type": "code",
      "metadata": {
        "id": "X3BH7XKykc2M",
        "colab": {
          "base_uri": "https://localhost:8080/"
        },
        "outputId": "31e1944a-faa9-4490-a21a-5f6d4d03136c"
      },
      "source": [
        "!cp /content/drive/MyDrive/Datasets.zip .\n",
        "!unzip Datasets.zip"
      ],
      "execution_count": 3,
      "outputs": [
        {
          "output_type": "stream",
          "text": [
            "Archive:  Datasets.zip\n",
            "   creating: Datasets/\n",
            "  inflating: Datasets/fifa19.csv     \n",
            "  inflating: Datasets/.DS_Store      \n",
            "  inflating: Datasets/zomato.csv     \n",
            "  inflating: Datasets/nyc_air_bnb.csv  \n",
            "  inflating: Datasets/supermarket_sales.csv  \n",
            "  inflating: Datasets/users3.parquet  \n",
            "  inflating: Datasets/Toddler Autism dataset July 2018.csv  \n",
            "   creating: Datasets/uw-madison-courses/\n",
            "  inflating: Datasets/uw-madison-courses/course_offerings.csv  \n",
            "  inflating: Datasets/uw-madison-courses/sections.csv  \n",
            "  inflating: Datasets/uw-madison-courses/schedules.csv  \n",
            "  inflating: Datasets/uw-madison-courses/database.sqlite3  \n",
            "  inflating: Datasets/uw-madison-courses/rooms.csv  \n",
            "  inflating: Datasets/uw-madison-courses/teachings.csv  \n",
            "  inflating: Datasets/uw-madison-courses/subjects.csv  \n",
            "  inflating: Datasets/uw-madison-courses/subject_memberships.csv  \n",
            "  inflating: Datasets/uw-madison-courses/grade_distributions.csv  \n",
            "  inflating: Datasets/uw-madison-courses/instructors.csv  \n",
            "  inflating: Datasets/uw-madison-courses/courses.csv  \n",
            "  inflating: Datasets/googleplaystore.csv  \n",
            "  inflating: Datasets/Rep_vs_Dem_tweets.csv  \n",
            "  inflating: Datasets/users2.parquet  \n",
            "  inflating: Datasets/rec-crime-pfa.csv  \n",
            " extracting: Datasets/Weather.csv.zip  \n",
            "  inflating: Datasets/people.json    \n",
            "  inflating: Datasets/pga_tour_historical.csv  \n",
            "  inflating: Datasets/youtubevideos.csv  \n",
            "  inflating: Datasets/students.csv   \n",
            "  inflating: Datasets/users1.parquet  \n",
            "  inflating: Datasets/housing.csv    \n",
            "  inflating: Datasets/credit_card_data.csv  \n",
            "  inflating: Datasets/kickstarter.csv  \n",
            "  inflating: Datasets/recipes.json   \n"
          ],
          "name": "stdout"
        }
      ]
    },
    {
      "cell_type": "markdown",
      "metadata": {
        "id": "HgUFLSSMd5lw"
      },
      "source": [
        "# Load Libraries"
      ]
    },
    {
      "cell_type": "code",
      "metadata": {
        "id": "0S-d4r9Kd5Ec"
      },
      "source": [
        "from pyspark.ml.feature import *\n",
        "from pyspark.sql.types import * \n",
        "\n",
        "from pyspark.sql.functions import col,lower,regexp_replace,udf,array_max\n",
        "from pyspark.ml.clustering import LDA\n",
        "\n",
        "import pandas as pd\n",
        "import matplotlib.pyplot as plt"
      ],
      "execution_count": 33,
      "outputs": []
    },
    {
      "cell_type": "markdown",
      "metadata": {
        "id": "7-hZLn9n9i1h"
      },
      "source": [
        "# ML Model Building"
      ]
    },
    {
      "cell_type": "code",
      "metadata": {
        "id": "k8mDN9K2UnQb"
      },
      "source": [
        "path = 'Datasets/'\n",
        "df = spark.read.json(path+'recipes.json')"
      ],
      "execution_count": 5,
      "outputs": []
    },
    {
      "cell_type": "code",
      "metadata": {
        "colab": {
          "base_uri": "https://localhost:8080/",
          "height": 289
        },
        "id": "_F-FxMiWUvbu",
        "outputId": "4b5ba439-75e5-4439-9119-97d0353d568f"
      },
      "source": [
        "df.limit(5).toPandas()"
      ],
      "execution_count": 6,
      "outputs": [
        {
          "output_type": "execute_result",
          "data": {
            "text/html": [
              "<div>\n",
              "<style scoped>\n",
              "    .dataframe tbody tr th:only-of-type {\n",
              "        vertical-align: middle;\n",
              "    }\n",
              "\n",
              "    .dataframe tbody tr th {\n",
              "        vertical-align: top;\n",
              "    }\n",
              "\n",
              "    .dataframe thead th {\n",
              "        text-align: right;\n",
              "    }\n",
              "</style>\n",
              "<table border=\"1\" class=\"dataframe\">\n",
              "  <thead>\n",
              "    <tr style=\"text-align: right;\">\n",
              "      <th></th>\n",
              "      <th>Author</th>\n",
              "      <th>Description</th>\n",
              "      <th>Ingredients</th>\n",
              "      <th>Method</th>\n",
              "      <th>Name</th>\n",
              "      <th>url</th>\n",
              "    </tr>\n",
              "  </thead>\n",
              "  <tbody>\n",
              "    <tr>\n",
              "      <th>0</th>\n",
              "      <td>Mary Cadogan</td>\n",
              "      <td>Combine a few key Christmas flavours here to m...</td>\n",
              "      <td>[2 tbsp olive oil, knob butter, 1 onion, finel...</td>\n",
              "      <td>[Heat oven to 190C/fan 170C/gas 5. Heat 1 tbsp...</td>\n",
              "      <td>Christmas pie</td>\n",
              "      <td>https://www.bbcgoodfood.com/recipes/2793/chris...</td>\n",
              "    </tr>\n",
              "    <tr>\n",
              "      <th>1</th>\n",
              "      <td>Mary Cadogan</td>\n",
              "      <td>An easy-to-make alternative to traditional Chr...</td>\n",
              "      <td>[175g butter, chopped, 200g dark muscovado sug...</td>\n",
              "      <td>[Put the butter, sugar, fruit, zests, juice an...</td>\n",
              "      <td>Simmer-&amp;-stir Christmas cake</td>\n",
              "      <td>https://www.bbcgoodfood.com/recipes/1160/simme...</td>\n",
              "    </tr>\n",
              "    <tr>\n",
              "      <th>2</th>\n",
              "      <td>Sara Buenfeld</td>\n",
              "      <td>These beautiful and classy little cakes make l...</td>\n",
              "      <td>[200g dark muscovado sugar, 175g butter, chopp...</td>\n",
              "      <td>[Tip the sugar, butter, dried fruit, whole che...</td>\n",
              "      <td>Christmas cupcakes</td>\n",
              "      <td>https://www.bbcgoodfood.com/recipes/72622/chri...</td>\n",
              "    </tr>\n",
              "    <tr>\n",
              "      <th>3</th>\n",
              "      <td>Paul Hollywood</td>\n",
              "      <td>Paul Hollywood's fruit rolls can be made ahead...</td>\n",
              "      <td>[500g strong white flour, plus extra for dusti...</td>\n",
              "      <td>[Put the flour and 1 tsp salt into a large bow...</td>\n",
              "      <td>Christmas buns</td>\n",
              "      <td>https://www.bbcgoodfood.com/recipes/1803633/ch...</td>\n",
              "    </tr>\n",
              "    <tr>\n",
              "      <th>4</th>\n",
              "      <td>Barney Desmazery</td>\n",
              "      <td>Made these for the second time today, and I ha...</td>\n",
              "      <td>[280g self-raising flour, 175g golden caster s...</td>\n",
              "      <td>[Heat oven to 190C/170 fan/gas 5 and line a 12...</td>\n",
              "      <td>Christmas cupcakes</td>\n",
              "      <td>https://www.bbcgoodfood.com/recipes/981634/chr...</td>\n",
              "    </tr>\n",
              "  </tbody>\n",
              "</table>\n",
              "</div>"
            ],
            "text/plain": [
              "             Author  ...                                                url\n",
              "0      Mary Cadogan  ...  https://www.bbcgoodfood.com/recipes/2793/chris...\n",
              "1      Mary Cadogan  ...  https://www.bbcgoodfood.com/recipes/1160/simme...\n",
              "2     Sara Buenfeld  ...  https://www.bbcgoodfood.com/recipes/72622/chri...\n",
              "3    Paul Hollywood  ...  https://www.bbcgoodfood.com/recipes/1803633/ch...\n",
              "4  Barney Desmazery  ...  https://www.bbcgoodfood.com/recipes/981634/chr...\n",
              "\n",
              "[5 rows x 6 columns]"
            ]
          },
          "metadata": {},
          "execution_count": 6
        }
      ]
    },
    {
      "cell_type": "code",
      "metadata": {
        "colab": {
          "base_uri": "https://localhost:8080/"
        },
        "id": "GwCZjLzEVG1c",
        "outputId": "bb144e06-0172-41e5-f78c-7631a8caf3f2"
      },
      "source": [
        "df.printSchema()"
      ],
      "execution_count": 7,
      "outputs": [
        {
          "output_type": "stream",
          "text": [
            "root\n",
            " |-- Author: string (nullable = true)\n",
            " |-- Description: string (nullable = true)\n",
            " |-- Ingredients: array (nullable = true)\n",
            " |    |-- element: string (containsNull = true)\n",
            " |-- Method: array (nullable = true)\n",
            " |    |-- element: string (containsNull = true)\n",
            " |-- Name: string (nullable = true)\n",
            " |-- url: string (nullable = true)\n",
            "\n"
          ],
          "name": "stdout"
        }
      ]
    },
    {
      "cell_type": "code",
      "metadata": {
        "colab": {
          "base_uri": "https://localhost:8080/"
        },
        "id": "FPSzpqiyVKiO",
        "outputId": "ed34d1ca-839b-4bb8-b77a-faf9d449dc37"
      },
      "source": [
        "# Missing value check\n",
        "def null_value_calc(df):\n",
        "    null_columns_counts = []\n",
        "    numRows = df.count()\n",
        "    for k in df.columns:\n",
        "        nullRows = df.where(col(k).isNull()).count()\n",
        "        if(nullRows > 0):\n",
        "            temp = k,nullRows,(nullRows/numRows)*100\n",
        "            null_columns_counts.append(temp)\n",
        "    return(null_columns_counts)\n",
        "\n",
        "null_columns_calc_list = null_value_calc(df)\n",
        "spark.createDataFrame(null_columns_calc_list, ['Column_Name', 'Null_Values_Count','Null_Value_Percent']).show()"
      ],
      "execution_count": 11,
      "outputs": [
        {
          "output_type": "stream",
          "text": [
            "+-----------+-----------------+------------------+\n",
            "|Column_Name|Null_Values_Count|Null_Value_Percent|\n",
            "+-----------+-----------------+------------------+\n",
            "|     Author|                6|0.3710575139146568|\n",
            "|Description|              188|11.626468769325912|\n",
            "+-----------+-----------------+------------------+\n",
            "\n"
          ],
          "name": "stdout"
        }
      ]
    },
    {
      "cell_type": "code",
      "metadata": {
        "colab": {
          "base_uri": "https://localhost:8080/"
        },
        "id": "HZGY_qHDVSUe",
        "outputId": "48fd1c95-500b-4d8a-bb99-917634087f66"
      },
      "source": [
        "#drop missing values\n",
        "df = df.na.drop(subset=[\"Description\"])\n",
        "df.count()"
      ],
      "execution_count": 12,
      "outputs": [
        {
          "output_type": "execute_result",
          "data": {
            "text/plain": [
              "1429"
            ]
          },
          "metadata": {},
          "execution_count": 12
        }
      ]
    },
    {
      "cell_type": "code",
      "metadata": {
        "colab": {
          "base_uri": "https://localhost:8080/"
        },
        "id": "ezP28ESvVX_7",
        "outputId": "94af1c24-a6f6-4190-8fd1-d6fdb660d8f3"
      },
      "source": [
        "df.select('Description').show(2,False)"
      ],
      "execution_count": 13,
      "outputs": [
        {
          "output_type": "stream",
          "text": [
            "+------------------------------------------------------------------------------------------------+\n",
            "|Description                                                                                     |\n",
            "+------------------------------------------------------------------------------------------------+\n",
            "|Combine a few key Christmas flavours here to make a pie that both children and adults will adore|\n",
            "|An easy-to-make alternative to traditional Christmas cakes which requires no beating            |\n",
            "+------------------------------------------------------------------------------------------------+\n",
            "only showing top 2 rows\n",
            "\n"
          ],
          "name": "stdout"
        }
      ]
    },
    {
      "cell_type": "code",
      "metadata": {
        "colab": {
          "base_uri": "https://localhost:8080/"
        },
        "id": "kmvfy1xNVcBz",
        "outputId": "02454d30-059f-4dd0-8352-8013a5ab7d96"
      },
      "source": [
        "# Removing anything that is not a letter\n",
        "df_clean = df.withColumn(\"Description\",lower(regexp_replace('Description', '[^A-Za-z ]+', ' ')))\n",
        "\n",
        "# Remove multiple spaces (because we replaced punctuation with a space)\n",
        "df_clean = df_clean.withColumn(\"Description\",regexp_replace(col('Description'), ' +', ' '))\n",
        "\n",
        "df_clean.select('Description').show(2,False)"
      ],
      "execution_count": 16,
      "outputs": [
        {
          "output_type": "stream",
          "text": [
            "+------------------------------------------------------------------------------------------------+\n",
            "|Description                                                                                     |\n",
            "+------------------------------------------------------------------------------------------------+\n",
            "|combine a few key christmas flavours here to make a pie that both children and adults will adore|\n",
            "|an easy to make alternative to traditional christmas cakes which requires no beating            |\n",
            "+------------------------------------------------------------------------------------------------+\n",
            "only showing top 2 rows\n",
            "\n"
          ],
          "name": "stdout"
        }
      ]
    },
    {
      "cell_type": "code",
      "metadata": {
        "colab": {
          "base_uri": "https://localhost:8080/",
          "height": 213
        },
        "id": "HhigewEkVrzx",
        "outputId": "f45f5704-92db-45a2-989c-cef9bf3c9509"
      },
      "source": [
        "# creating NLP Processing Pipeline\n",
        "\n",
        "# Tokenize\n",
        "regex_tokenizer = RegexTokenizer(inputCol=\"Description\", outputCol=\"words\", pattern=\"\\\\W\")\n",
        "raw_words = regex_tokenizer.transform(df_clean)\n",
        "\n",
        "# Remove Stop words\n",
        "remover = StopWordsRemover(inputCol=\"words\", outputCol=\"filtered\")\n",
        "words_df = remover.transform(raw_words)\n",
        "\n",
        "\n",
        "# Count Vectorizer\n",
        "cv = CountVectorizer(inputCol=\"filtered\", outputCol=\"features\")\n",
        "cvmodel = cv.fit(words_df)\n",
        "\n",
        "# Transform NLP Pipeline\n",
        "df_vect = cvmodel.transform(words_df)\n",
        "\n",
        "# View the new dataframe\n",
        "df_vect.limit(2).toPandas()"
      ],
      "execution_count": 17,
      "outputs": [
        {
          "output_type": "execute_result",
          "data": {
            "text/html": [
              "<div>\n",
              "<style scoped>\n",
              "    .dataframe tbody tr th:only-of-type {\n",
              "        vertical-align: middle;\n",
              "    }\n",
              "\n",
              "    .dataframe tbody tr th {\n",
              "        vertical-align: top;\n",
              "    }\n",
              "\n",
              "    .dataframe thead th {\n",
              "        text-align: right;\n",
              "    }\n",
              "</style>\n",
              "<table border=\"1\" class=\"dataframe\">\n",
              "  <thead>\n",
              "    <tr style=\"text-align: right;\">\n",
              "      <th></th>\n",
              "      <th>Author</th>\n",
              "      <th>Description</th>\n",
              "      <th>Ingredients</th>\n",
              "      <th>Method</th>\n",
              "      <th>Name</th>\n",
              "      <th>url</th>\n",
              "      <th>words</th>\n",
              "      <th>filtered</th>\n",
              "      <th>features</th>\n",
              "    </tr>\n",
              "  </thead>\n",
              "  <tbody>\n",
              "    <tr>\n",
              "      <th>0</th>\n",
              "      <td>Mary Cadogan</td>\n",
              "      <td>combine a few key christmas flavours here to m...</td>\n",
              "      <td>[2 tbsp olive oil, knob butter, 1 onion, finel...</td>\n",
              "      <td>[Heat oven to 190C/fan 170C/gas 5. Heat 1 tbsp...</td>\n",
              "      <td>Christmas pie</td>\n",
              "      <td>https://www.bbcgoodfood.com/recipes/2793/chris...</td>\n",
              "      <td>[combine, a, few, key, christmas, flavours, he...</td>\n",
              "      <td>[combine, key, christmas, flavours, make, pie,...</td>\n",
              "      <td>(1.0, 1.0, 0.0, 0.0, 0.0, 0.0, 0.0, 0.0, 0.0, ...</td>\n",
              "    </tr>\n",
              "    <tr>\n",
              "      <th>1</th>\n",
              "      <td>Mary Cadogan</td>\n",
              "      <td>an easy to make alternative to traditional chr...</td>\n",
              "      <td>[175g butter, chopped, 200g dark muscovado sug...</td>\n",
              "      <td>[Put the butter, sugar, fruit, zests, juice an...</td>\n",
              "      <td>Simmer-&amp;-stir Christmas cake</td>\n",
              "      <td>https://www.bbcgoodfood.com/recipes/1160/simme...</td>\n",
              "      <td>[an, easy, to, make, alternative, to, traditio...</td>\n",
              "      <td>[easy, make, alternative, traditional, christm...</td>\n",
              "      <td>(1.0, 1.0, 0.0, 0.0, 0.0, 0.0, 0.0, 1.0, 0.0, ...</td>\n",
              "    </tr>\n",
              "  </tbody>\n",
              "</table>\n",
              "</div>"
            ],
            "text/plain": [
              "         Author  ...                                           features\n",
              "0  Mary Cadogan  ...  (1.0, 1.0, 0.0, 0.0, 0.0, 0.0, 0.0, 0.0, 0.0, ...\n",
              "1  Mary Cadogan  ...  (1.0, 1.0, 0.0, 0.0, 0.0, 0.0, 0.0, 1.0, 0.0, ...\n",
              "\n",
              "[2 rows x 9 columns]"
            ]
          },
          "metadata": {},
          "execution_count": 17
        }
      ]
    },
    {
      "cell_type": "code",
      "metadata": {
        "id": "LfW2nZ1tWr4W"
      },
      "source": [
        "# determinng optimum number of topics k\n",
        "kmax = 10\n",
        "\n",
        "log_likelihood = []\n",
        "perplexity = []\n",
        "\n",
        "for k in range(2,kmax):\n",
        "    lda = LDA(k=k, maxIter=10)\n",
        "    model = lda.fit(df_vect)\n",
        "    ll = model.logLikelihood(df_vect)\n",
        "    lp = model.logPerplexity(df_vect)\n",
        "\n",
        "    log_likelihood.append(ll)\n",
        "    perplexity.append(lp)"
      ],
      "execution_count": 18,
      "outputs": []
    },
    {
      "cell_type": "code",
      "metadata": {
        "colab": {
          "base_uri": "https://localhost:8080/",
          "height": 351
        },
        "id": "BHOop0srXqA6",
        "outputId": "7eb9db2a-9647-491d-c7d0-43d879267fc3"
      },
      "source": [
        "plt.figure(figsize=(15,5))\n",
        "plt.plot(range(2,kmax),log_likelihood)\n",
        "plt.xlabel('Number of Topics')\n",
        "plt.ylabel(\"Log Likelihood\")"
      ],
      "execution_count": 19,
      "outputs": [
        {
          "output_type": "execute_result",
          "data": {
            "text/plain": [
              "Text(0, 0.5, 'Log Likelihood')"
            ]
          },
          "metadata": {},
          "execution_count": 19
        },
        {
          "output_type": "display_data",
          "data": {
            "image/png": "[encoded data removed]",
            "text/plain": [
              "<Figure size 1080x360 with 1 Axes>"
            ]
          },
          "metadata": {
            "needs_background": "light"
          }
        }
      ]
    },
    {
      "cell_type": "code",
      "metadata": {
        "colab": {
          "base_uri": "https://localhost:8080/",
          "height": 351
        },
        "id": "67TuwxgJYF9Z",
        "outputId": "bc15baaf-78a7-4435-f82c-c90686747448"
      },
      "source": [
        "plt.figure(figsize=(15,5))\n",
        "plt.plot(range(2,kmax),perplexity)\n",
        "plt.xlabel('Number of Topics')\n",
        "plt.ylabel(\"Log Perplexity\")"
      ],
      "execution_count": 20,
      "outputs": [
        {
          "output_type": "execute_result",
          "data": {
            "text/plain": [
              "Text(0, 0.5, 'Log Perplexity')"
            ]
          },
          "metadata": {},
          "execution_count": 20
        },
        {
          "output_type": "display_data",
          "data": {
            "image/png": "[encoded data removed]",
            "text/plain": [
              "<Figure size 1080x360 with 1 Axes>"
            ]
          },
          "metadata": {
            "needs_background": "light"
          }
        }
      ]
    },
    {
      "cell_type": "code",
      "metadata": {
        "id": "TY0VEkeXYdv5"
      },
      "source": [
        "# Trains a LDA model with k =3\n",
        "lda = LDA(k=3, maxIter=10)\n",
        "model = lda.fit(df_vect)"
      ],
      "execution_count": 21,
      "outputs": []
    },
    {
      "cell_type": "code",
      "metadata": {
        "colab": {
          "base_uri": "https://localhost:8080/"
        },
        "id": "hTK_hyJEYoZr",
        "outputId": "b2f49bba-26fb-41bc-c156-0fec0054015f"
      },
      "source": [
        "model.vocabSize()"
      ],
      "execution_count": 22,
      "outputs": [
        {
          "output_type": "execute_result",
          "data": {
            "text/plain": [
              "3476"
            ]
          },
          "metadata": {},
          "execution_count": 22
        }
      ]
    },
    {
      "cell_type": "code",
      "metadata": {
        "colab": {
          "base_uri": "https://localhost:8080/"
        },
        "id": "bcvQs3p-Yvbr",
        "outputId": "d2346c75-cbbb-446e-f6b0-08f475fbd938"
      },
      "source": [
        "# describe topics\n",
        "topics = model.describeTopics(maxTermsPerTopic = 6)\n",
        "topics = topics.collect()\n",
        "vocablist = cvmodel.vocabulary\n",
        "\n",
        "for topic in topics:\n",
        "    number, words, prob = topic\n",
        "    prob = [round(num, 4) for num in prob]\n",
        "    vocab = []\n",
        "    for wrd in words:\n",
        "        vocab.append(vocablist[wrd])\n",
        "    words_dist = list(zip(vocab,prob))\n",
        "    print(f'Topic: {number} :- {words_dist}')"
      ],
      "execution_count": 26,
      "outputs": [
        {
          "output_type": "stream",
          "text": [
            "Topic: 0 :- [('soda', 0.0024), ('cherry', 0.0017), ('free', 0.0014), ('want', 0.0013), ('club', 0.0012), ('sauce', 0.0012)]\n",
            "Topic: 1 :- [('sprouts', 0.0025), ('christmas', 0.0023), ('day', 0.0021), ('really', 0.0021), ('individual', 0.0019), ('pastry', 0.0019)]\n",
            "Topic: 2 :- [('christmas', 0.0103), ('make', 0.0093), ('recipe', 0.0062), ('dish', 0.0049), ('perfect', 0.0048), ('made', 0.0047)]\n"
          ],
          "name": "stdout"
        }
      ]
    },
    {
      "cell_type": "code",
      "metadata": {
        "colab": {
          "base_uri": "https://localhost:8080/",
          "height": 397
        },
        "id": "SmGU_g0MdflV",
        "outputId": "4ec01f81-4cf0-47c4-9b4f-19eee361787f"
      },
      "source": [
        "# Make predictions\n",
        "transformed = model.transform(df_vect)\n",
        "transformed.limit(3).toPandas()"
      ],
      "execution_count": 27,
      "outputs": [
        {
          "output_type": "execute_result",
          "data": {
            "text/html": [
              "<div>\n",
              "<style scoped>\n",
              "    .dataframe tbody tr th:only-of-type {\n",
              "        vertical-align: middle;\n",
              "    }\n",
              "\n",
              "    .dataframe tbody tr th {\n",
              "        vertical-align: top;\n",
              "    }\n",
              "\n",
              "    .dataframe thead th {\n",
              "        text-align: right;\n",
              "    }\n",
              "</style>\n",
              "<table border=\"1\" class=\"dataframe\">\n",
              "  <thead>\n",
              "    <tr style=\"text-align: right;\">\n",
              "      <th></th>\n",
              "      <th>Author</th>\n",
              "      <th>Description</th>\n",
              "      <th>Ingredients</th>\n",
              "      <th>Method</th>\n",
              "      <th>Name</th>\n",
              "      <th>url</th>\n",
              "      <th>words</th>\n",
              "      <th>filtered</th>\n",
              "      <th>features</th>\n",
              "      <th>topicDistribution</th>\n",
              "    </tr>\n",
              "  </thead>\n",
              "  <tbody>\n",
              "    <tr>\n",
              "      <th>0</th>\n",
              "      <td>Mary Cadogan</td>\n",
              "      <td>combine a few key christmas flavours here to m...</td>\n",
              "      <td>[2 tbsp olive oil, knob butter, 1 onion, finel...</td>\n",
              "      <td>[Heat oven to 190C/fan 170C/gas 5. Heat 1 tbsp...</td>\n",
              "      <td>Christmas pie</td>\n",
              "      <td>https://www.bbcgoodfood.com/recipes/2793/chris...</td>\n",
              "      <td>[combine, a, few, key, christmas, flavours, he...</td>\n",
              "      <td>[combine, key, christmas, flavours, make, pie,...</td>\n",
              "      <td>(1.0, 1.0, 0.0, 0.0, 0.0, 0.0, 0.0, 0.0, 0.0, ...</td>\n",
              "      <td>[0.02814018230420405, 0.028853867333548482, 0....</td>\n",
              "    </tr>\n",
              "    <tr>\n",
              "      <th>1</th>\n",
              "      <td>Mary Cadogan</td>\n",
              "      <td>an easy to make alternative to traditional chr...</td>\n",
              "      <td>[175g butter, chopped, 200g dark muscovado sug...</td>\n",
              "      <td>[Put the butter, sugar, fruit, zests, juice an...</td>\n",
              "      <td>Simmer-&amp;-stir Christmas cake</td>\n",
              "      <td>https://www.bbcgoodfood.com/recipes/1160/simme...</td>\n",
              "      <td>[an, easy, to, make, alternative, to, traditio...</td>\n",
              "      <td>[easy, make, alternative, traditional, christm...</td>\n",
              "      <td>(1.0, 1.0, 0.0, 0.0, 0.0, 0.0, 0.0, 1.0, 0.0, ...</td>\n",
              "      <td>[0.032065956217971626, 0.032673107358480565, 0...</td>\n",
              "    </tr>\n",
              "    <tr>\n",
              "      <th>2</th>\n",
              "      <td>Sara Buenfeld</td>\n",
              "      <td>these beautiful and classy little cakes make l...</td>\n",
              "      <td>[200g dark muscovado sugar, 175g butter, chopp...</td>\n",
              "      <td>[Tip the sugar, butter, dried fruit, whole che...</td>\n",
              "      <td>Christmas cupcakes</td>\n",
              "      <td>https://www.bbcgoodfood.com/recipes/72622/chri...</td>\n",
              "      <td>[these, beautiful, and, classy, little, cakes,...</td>\n",
              "      <td>[beautiful, classy, little, cakes, make, lovel...</td>\n",
              "      <td>(0.0, 1.0, 0.0, 0.0, 0.0, 0.0, 0.0, 0.0, 0.0, ...</td>\n",
              "      <td>[0.024935148272983695, 0.025649468888637367, 0...</td>\n",
              "    </tr>\n",
              "  </tbody>\n",
              "</table>\n",
              "</div>"
            ],
            "text/plain": [
              "          Author  ...                                  topicDistribution\n",
              "0   Mary Cadogan  ...  [0.02814018230420405, 0.028853867333548482, 0....\n",
              "1   Mary Cadogan  ...  [0.032065956217971626, 0.032673107358480565, 0...\n",
              "2  Sara Buenfeld  ...  [0.024935148272983695, 0.025649468888637367, 0...\n",
              "\n",
              "[3 rows x 10 columns]"
            ]
          },
          "metadata": {},
          "execution_count": 27
        }
      ]
    },
    {
      "cell_type": "code",
      "metadata": {
        "colab": {
          "base_uri": "https://localhost:8080/",
          "height": 434
        },
        "id": "4Dx2fcW8dr_y",
        "outputId": "be03529d-4156-45fb-dbbe-2a8a2c6c4137"
      },
      "source": [
        "# Convert topicdistribution col from vector to array\n",
        "\n",
        "\n",
        "# define udf\n",
        "to_array = udf(lambda x: x.toArray().tolist(), ArrayType(DoubleType()))\n",
        "\n",
        "recommendations = transformed.withColumn('array', to_array('topicDistribution'))\n",
        "recommendations.limit(3).toPandas()"
      ],
      "execution_count": 31,
      "outputs": [
        {
          "output_type": "execute_result",
          "data": {
            "text/html": [
              "<div>\n",
              "<style scoped>\n",
              "    .dataframe tbody tr th:only-of-type {\n",
              "        vertical-align: middle;\n",
              "    }\n",
              "\n",
              "    .dataframe tbody tr th {\n",
              "        vertical-align: top;\n",
              "    }\n",
              "\n",
              "    .dataframe thead th {\n",
              "        text-align: right;\n",
              "    }\n",
              "</style>\n",
              "<table border=\"1\" class=\"dataframe\">\n",
              "  <thead>\n",
              "    <tr style=\"text-align: right;\">\n",
              "      <th></th>\n",
              "      <th>Author</th>\n",
              "      <th>Description</th>\n",
              "      <th>Ingredients</th>\n",
              "      <th>Method</th>\n",
              "      <th>Name</th>\n",
              "      <th>url</th>\n",
              "      <th>words</th>\n",
              "      <th>filtered</th>\n",
              "      <th>features</th>\n",
              "      <th>topicDistribution</th>\n",
              "      <th>array</th>\n",
              "    </tr>\n",
              "  </thead>\n",
              "  <tbody>\n",
              "    <tr>\n",
              "      <th>0</th>\n",
              "      <td>Mary Cadogan</td>\n",
              "      <td>combine a few key christmas flavours here to m...</td>\n",
              "      <td>[2 tbsp olive oil, knob butter, 1 onion, finel...</td>\n",
              "      <td>[Heat oven to 190C/fan 170C/gas 5. Heat 1 tbsp...</td>\n",
              "      <td>Christmas pie</td>\n",
              "      <td>https://www.bbcgoodfood.com/recipes/2793/chris...</td>\n",
              "      <td>[combine, a, few, key, christmas, flavours, he...</td>\n",
              "      <td>[combine, key, christmas, flavours, make, pie,...</td>\n",
              "      <td>(1.0, 1.0, 0.0, 0.0, 0.0, 0.0, 0.0, 0.0, 0.0, ...</td>\n",
              "      <td>[0.02814018230420405, 0.028853867333548482, 0....</td>\n",
              "      <td>[0.02814018230420405, 0.028853867333548482, 0....</td>\n",
              "    </tr>\n",
              "    <tr>\n",
              "      <th>1</th>\n",
              "      <td>Mary Cadogan</td>\n",
              "      <td>an easy to make alternative to traditional chr...</td>\n",
              "      <td>[175g butter, chopped, 200g dark muscovado sug...</td>\n",
              "      <td>[Put the butter, sugar, fruit, zests, juice an...</td>\n",
              "      <td>Simmer-&amp;-stir Christmas cake</td>\n",
              "      <td>https://www.bbcgoodfood.com/recipes/1160/simme...</td>\n",
              "      <td>[an, easy, to, make, alternative, to, traditio...</td>\n",
              "      <td>[easy, make, alternative, traditional, christm...</td>\n",
              "      <td>(1.0, 1.0, 0.0, 0.0, 0.0, 0.0, 0.0, 1.0, 0.0, ...</td>\n",
              "      <td>[0.032065956217971626, 0.032673107358480565, 0...</td>\n",
              "      <td>[0.032065956217971626, 0.032673107358480565, 0...</td>\n",
              "    </tr>\n",
              "    <tr>\n",
              "      <th>2</th>\n",
              "      <td>Sara Buenfeld</td>\n",
              "      <td>these beautiful and classy little cakes make l...</td>\n",
              "      <td>[200g dark muscovado sugar, 175g butter, chopp...</td>\n",
              "      <td>[Tip the sugar, butter, dried fruit, whole che...</td>\n",
              "      <td>Christmas cupcakes</td>\n",
              "      <td>https://www.bbcgoodfood.com/recipes/72622/chri...</td>\n",
              "      <td>[these, beautiful, and, classy, little, cakes,...</td>\n",
              "      <td>[beautiful, classy, little, cakes, make, lovel...</td>\n",
              "      <td>(0.0, 1.0, 0.0, 0.0, 0.0, 0.0, 0.0, 0.0, 0.0, ...</td>\n",
              "      <td>[0.024935148272983695, 0.025649468888637367, 0...</td>\n",
              "      <td>[0.024935148272983695, 0.025649468888637367, 0...</td>\n",
              "    </tr>\n",
              "  </tbody>\n",
              "</table>\n",
              "</div>"
            ],
            "text/plain": [
              "          Author  ...                                              array\n",
              "0   Mary Cadogan  ...  [0.02814018230420405, 0.028853867333548482, 0....\n",
              "1   Mary Cadogan  ...  [0.032065956217971626, 0.032673107358480565, 0...\n",
              "2  Sara Buenfeld  ...  [0.024935148272983695, 0.025649468888637367, 0...\n",
              "\n",
              "[3 rows x 11 columns]"
            ]
          },
          "metadata": {},
          "execution_count": 31
        }
      ]
    },
    {
      "cell_type": "code",
      "metadata": {
        "colab": {
          "base_uri": "https://localhost:8080/",
          "height": 301
        },
        "id": "68d2Tv8_d1AK",
        "outputId": "94fa4e54-8f69-48c0-a11d-e41a7bc7f24b"
      },
      "source": [
        "# Find the best topic value that we will call \"max\"\n",
        "max_vals = recommendations.withColumn(\"max\",array_max(\"array\"))\n",
        "max_vals.limit(2).toPandas()"
      ],
      "execution_count": 34,
      "outputs": [
        {
          "output_type": "execute_result",
          "data": {
            "text/html": [
              "<div>\n",
              "<style scoped>\n",
              "    .dataframe tbody tr th:only-of-type {\n",
              "        vertical-align: middle;\n",
              "    }\n",
              "\n",
              "    .dataframe tbody tr th {\n",
              "        vertical-align: top;\n",
              "    }\n",
              "\n",
              "    .dataframe thead th {\n",
              "        text-align: right;\n",
              "    }\n",
              "</style>\n",
              "<table border=\"1\" class=\"dataframe\">\n",
              "  <thead>\n",
              "    <tr style=\"text-align: right;\">\n",
              "      <th></th>\n",
              "      <th>Author</th>\n",
              "      <th>Description</th>\n",
              "      <th>Ingredients</th>\n",
              "      <th>Method</th>\n",
              "      <th>Name</th>\n",
              "      <th>url</th>\n",
              "      <th>words</th>\n",
              "      <th>filtered</th>\n",
              "      <th>features</th>\n",
              "      <th>topicDistribution</th>\n",
              "      <th>array</th>\n",
              "      <th>max</th>\n",
              "    </tr>\n",
              "  </thead>\n",
              "  <tbody>\n",
              "    <tr>\n",
              "      <th>0</th>\n",
              "      <td>Mary Cadogan</td>\n",
              "      <td>combine a few key christmas flavours here to m...</td>\n",
              "      <td>[2 tbsp olive oil, knob butter, 1 onion, finel...</td>\n",
              "      <td>[Heat oven to 190C/fan 170C/gas 5. Heat 1 tbsp...</td>\n",
              "      <td>Christmas pie</td>\n",
              "      <td>https://www.bbcgoodfood.com/recipes/2793/chris...</td>\n",
              "      <td>[combine, a, few, key, christmas, flavours, he...</td>\n",
              "      <td>[combine, key, christmas, flavours, make, pie,...</td>\n",
              "      <td>(1.0, 1.0, 0.0, 0.0, 0.0, 0.0, 0.0, 0.0, 0.0, ...</td>\n",
              "      <td>[0.02814018230420405, 0.028853867333548482, 0....</td>\n",
              "      <td>[0.02814018230420405, 0.028853867333548482, 0....</td>\n",
              "      <td>0.943006</td>\n",
              "    </tr>\n",
              "    <tr>\n",
              "      <th>1</th>\n",
              "      <td>Mary Cadogan</td>\n",
              "      <td>an easy to make alternative to traditional chr...</td>\n",
              "      <td>[175g butter, chopped, 200g dark muscovado sug...</td>\n",
              "      <td>[Put the butter, sugar, fruit, zests, juice an...</td>\n",
              "      <td>Simmer-&amp;-stir Christmas cake</td>\n",
              "      <td>https://www.bbcgoodfood.com/recipes/1160/simme...</td>\n",
              "      <td>[an, easy, to, make, alternative, to, traditio...</td>\n",
              "      <td>[easy, make, alternative, traditional, christm...</td>\n",
              "      <td>(1.0, 1.0, 0.0, 0.0, 0.0, 0.0, 0.0, 1.0, 0.0, ...</td>\n",
              "      <td>[0.032065956217971626, 0.032673107358480565, 0...</td>\n",
              "      <td>[0.032065956217971626, 0.032673107358480565, 0...</td>\n",
              "      <td>0.935261</td>\n",
              "    </tr>\n",
              "  </tbody>\n",
              "</table>\n",
              "</div>"
            ],
            "text/plain": [
              "         Author  ...       max\n",
              "0  Mary Cadogan  ...  0.943006\n",
              "1  Mary Cadogan  ...  0.935261\n",
              "\n",
              "[2 rows x 12 columns]"
            ]
          },
          "metadata": {},
          "execution_count": 34
        }
      ]
    },
    {
      "cell_type": "code",
      "metadata": {
        "colab": {
          "base_uri": "https://localhost:8080/",
          "height": 550
        },
        "id": "NRX472KVeDeH",
        "outputId": "5b25380c-0165-4344-a678-d8f8e09a2385"
      },
      "source": [
        "# Find the index of the max value found above which translates to our topic!\n",
        "argmaxUdf = udf(lambda x,y: [i for i, e in enumerate(x) if e==y ])\n",
        "results = max_vals.withColumn('topic', argmaxUdf(max_vals.array,max_vals.max))\n",
        "results.limit(4).toPandas()"
      ],
      "execution_count": 35,
      "outputs": [
        {
          "output_type": "execute_result",
          "data": {
            "text/html": [
              "<div>\n",
              "<style scoped>\n",
              "    .dataframe tbody tr th:only-of-type {\n",
              "        vertical-align: middle;\n",
              "    }\n",
              "\n",
              "    .dataframe tbody tr th {\n",
              "        vertical-align: top;\n",
              "    }\n",
              "\n",
              "    .dataframe thead th {\n",
              "        text-align: right;\n",
              "    }\n",
              "</style>\n",
              "<table border=\"1\" class=\"dataframe\">\n",
              "  <thead>\n",
              "    <tr style=\"text-align: right;\">\n",
              "      <th></th>\n",
              "      <th>Author</th>\n",
              "      <th>Description</th>\n",
              "      <th>Ingredients</th>\n",
              "      <th>Method</th>\n",
              "      <th>Name</th>\n",
              "      <th>url</th>\n",
              "      <th>words</th>\n",
              "      <th>filtered</th>\n",
              "      <th>features</th>\n",
              "      <th>topicDistribution</th>\n",
              "      <th>array</th>\n",
              "      <th>max</th>\n",
              "      <th>topic</th>\n",
              "    </tr>\n",
              "  </thead>\n",
              "  <tbody>\n",
              "    <tr>\n",
              "      <th>0</th>\n",
              "      <td>Mary Cadogan</td>\n",
              "      <td>combine a few key christmas flavours here to m...</td>\n",
              "      <td>[2 tbsp olive oil, knob butter, 1 onion, finel...</td>\n",
              "      <td>[Heat oven to 190C/fan 170C/gas 5. Heat 1 tbsp...</td>\n",
              "      <td>Christmas pie</td>\n",
              "      <td>https://www.bbcgoodfood.com/recipes/2793/chris...</td>\n",
              "      <td>[combine, a, few, key, christmas, flavours, he...</td>\n",
              "      <td>[combine, key, christmas, flavours, make, pie,...</td>\n",
              "      <td>(1.0, 1.0, 0.0, 0.0, 0.0, 0.0, 0.0, 0.0, 0.0, ...</td>\n",
              "      <td>[0.02814018230420405, 0.028853867333548482, 0....</td>\n",
              "      <td>[0.02814018230420405, 0.028853867333548482, 0....</td>\n",
              "      <td>0.943006</td>\n",
              "      <td>[2]</td>\n",
              "    </tr>\n",
              "    <tr>\n",
              "      <th>1</th>\n",
              "      <td>Mary Cadogan</td>\n",
              "      <td>an easy to make alternative to traditional chr...</td>\n",
              "      <td>[175g butter, chopped, 200g dark muscovado sug...</td>\n",
              "      <td>[Put the butter, sugar, fruit, zests, juice an...</td>\n",
              "      <td>Simmer-&amp;-stir Christmas cake</td>\n",
              "      <td>https://www.bbcgoodfood.com/recipes/1160/simme...</td>\n",
              "      <td>[an, easy, to, make, alternative, to, traditio...</td>\n",
              "      <td>[easy, make, alternative, traditional, christm...</td>\n",
              "      <td>(1.0, 1.0, 0.0, 0.0, 0.0, 0.0, 0.0, 1.0, 0.0, ...</td>\n",
              "      <td>[0.032065956217971626, 0.032673107358480565, 0...</td>\n",
              "      <td>[0.032065956217971626, 0.032673107358480565, 0...</td>\n",
              "      <td>0.935261</td>\n",
              "      <td>[2]</td>\n",
              "    </tr>\n",
              "    <tr>\n",
              "      <th>2</th>\n",
              "      <td>Sara Buenfeld</td>\n",
              "      <td>these beautiful and classy little cakes make l...</td>\n",
              "      <td>[200g dark muscovado sugar, 175g butter, chopp...</td>\n",
              "      <td>[Tip the sugar, butter, dried fruit, whole che...</td>\n",
              "      <td>Christmas cupcakes</td>\n",
              "      <td>https://www.bbcgoodfood.com/recipes/72622/chri...</td>\n",
              "      <td>[these, beautiful, and, classy, little, cakes,...</td>\n",
              "      <td>[beautiful, classy, little, cakes, make, lovel...</td>\n",
              "      <td>(0.0, 1.0, 0.0, 0.0, 0.0, 0.0, 0.0, 0.0, 0.0, ...</td>\n",
              "      <td>[0.024935148272983695, 0.025649468888637367, 0...</td>\n",
              "      <td>[0.024935148272983695, 0.025649468888637367, 0...</td>\n",
              "      <td>0.949415</td>\n",
              "      <td>[2]</td>\n",
              "    </tr>\n",
              "    <tr>\n",
              "      <th>3</th>\n",
              "      <td>Paul Hollywood</td>\n",
              "      <td>paul hollywood s fruit rolls can be made ahead...</td>\n",
              "      <td>[500g strong white flour, plus extra for dusti...</td>\n",
              "      <td>[Put the flour and 1 tsp salt into a large bow...</td>\n",
              "      <td>Christmas buns</td>\n",
              "      <td>https://www.bbcgoodfood.com/recipes/1803633/ch...</td>\n",
              "      <td>[paul, hollywood, s, fruit, rolls, can, be, ma...</td>\n",
              "      <td>[paul, hollywood, fruit, rolls, made, ahead, h...</td>\n",
              "      <td>(0.0, 0.0, 0.0, 0.0, 1.0, 0.0, 0.0, 0.0, 0.0, ...</td>\n",
              "      <td>[0.022092430533715696, 0.022461809075314886, 0...</td>\n",
              "      <td>[0.022092430533715696, 0.022461809075314886, 0...</td>\n",
              "      <td>0.955446</td>\n",
              "      <td>[2]</td>\n",
              "    </tr>\n",
              "  </tbody>\n",
              "</table>\n",
              "</div>"
            ],
            "text/plain": [
              "           Author  ... topic\n",
              "0    Mary Cadogan  ...   [2]\n",
              "1    Mary Cadogan  ...   [2]\n",
              "2   Sara Buenfeld  ...   [2]\n",
              "3  Paul Hollywood  ...   [2]\n",
              "\n",
              "[4 rows x 13 columns]"
            ]
          },
          "metadata": {},
          "execution_count": 35
        }
      ]
    },
    {
      "cell_type": "code",
      "metadata": {
        "id": "5SySqJcb7jmT"
      },
      "source": [
        ""
      ],
      "execution_count": null,
      "outputs": []
    }
  ]
}
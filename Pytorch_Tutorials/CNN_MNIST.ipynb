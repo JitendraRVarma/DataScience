{
  "nbformat": 4,
  "nbformat_minor": 0,
  "metadata": {
    "colab": {
      "name": "CNN_MNIST.ipynb",
      "provenance": []
    },
    "kernelspec": {
      "name": "python3",
      "display_name": "Python 3"
    },
    "language_info": {
      "name": "python"
    },
    "accelerator": "GPU"
  },
  "cells": [
    {
      "cell_type": "code",
      "metadata": {
        "id": "FrwajfrpJp3L"
      },
      "source": [
        "import torch\n",
        "import torch.nn as nn\n",
        "import torchvision\n",
        "import torchvision.transforms as transforms\n",
        "import numpy as np\n",
        "import matplotlib.pyplot as plt\n",
        "from datetime import datetime\n",
        "from sklearn.metrics import confusion_matrix\n",
        "import itertools"
      ],
      "execution_count": 32,
      "outputs": []
    },
    {
      "cell_type": "code",
      "metadata": {
        "id": "1ypXwPvlKeJc"
      },
      "source": [
        "train_dataset = torchvision.datasets.FashionMNIST(root='.',\n",
        "                                                  train=True,\n",
        "                                                  transform=transforms.ToTensor(),\n",
        "                                                  download=True)"
      ],
      "execution_count": 33,
      "outputs": []
    },
    {
      "cell_type": "code",
      "metadata": {
        "colab": {
          "base_uri": "https://localhost:8080/"
        },
        "id": "vlIrS1WrKmHA",
        "outputId": "77668906-6211-4704-bd2d-47bb72a1ec80"
      },
      "source": [
        "train_dataset.data.max()"
      ],
      "execution_count": 34,
      "outputs": [
        {
          "output_type": "execute_result",
          "data": {
            "text/plain": [
              "tensor(255, dtype=torch.uint8)"
            ]
          },
          "metadata": {
            "tags": []
          },
          "execution_count": 34
        }
      ]
    },
    {
      "cell_type": "code",
      "metadata": {
        "colab": {
          "base_uri": "https://localhost:8080/"
        },
        "id": "9rDEBWymKsA2",
        "outputId": "81428417-591b-48ee-ab3c-76e532043e5b"
      },
      "source": [
        "train_dataset.data.shape"
      ],
      "execution_count": 35,
      "outputs": [
        {
          "output_type": "execute_result",
          "data": {
            "text/plain": [
              "torch.Size([60000, 28, 28])"
            ]
          },
          "metadata": {
            "tags": []
          },
          "execution_count": 35
        }
      ]
    },
    {
      "cell_type": "code",
      "metadata": {
        "colab": {
          "base_uri": "https://localhost:8080/"
        },
        "id": "1nGsI8HPKu6g",
        "outputId": "478c60bd-efcf-4b53-cd73-0235d8533877"
      },
      "source": [
        "train_dataset.targets"
      ],
      "execution_count": 36,
      "outputs": [
        {
          "output_type": "execute_result",
          "data": {
            "text/plain": [
              "tensor([9, 0, 0,  ..., 3, 0, 5])"
            ]
          },
          "metadata": {
            "tags": []
          },
          "execution_count": 36
        }
      ]
    },
    {
      "cell_type": "code",
      "metadata": {
        "id": "e3y9_kBiKyLA"
      },
      "source": [
        "test_dataset = torchvision.datasets.FashionMNIST(root='.',\n",
        "                                                 train=False,\n",
        "                                                 transform=transforms.ToTensor(),\n",
        "                                                 download=True)"
      ],
      "execution_count": 37,
      "outputs": []
    },
    {
      "cell_type": "code",
      "metadata": {
        "colab": {
          "base_uri": "https://localhost:8080/"
        },
        "id": "wpCxs7rXOqxr",
        "outputId": "dbee71b9-172b-4fd0-e20f-0a3e8b9e7019"
      },
      "source": [
        "# number of classes\n",
        "K = len(set(train_dataset.targets.numpy()))\n",
        "print(\"number of classes:\", K)"
      ],
      "execution_count": 38,
      "outputs": [
        {
          "output_type": "stream",
          "text": [
            "number of classes: 10\n"
          ],
          "name": "stdout"
        }
      ]
    },
    {
      "cell_type": "code",
      "metadata": {
        "id": "G7rfBaU0K54a"
      },
      "source": [
        "# Define the model\n",
        "class CNN(nn.Module):\n",
        "    def __init__(self, K):\n",
        "        super(CNN, self).__init__()\n",
        "        self.conv_layers = nn.Sequential(\n",
        "                                            nn.Conv2d(in_channels=1, out_channels=32, kernel_size=3, stride=2),\n",
        "                                            nn.ReLU(),\n",
        "                                            nn.Conv2d(in_channels=32, out_channels=64, kernel_size=3, stride=2),\n",
        "                                            nn.ReLU(),\n",
        "                                            nn.Conv2d(in_channels=64, out_channels=128, kernel_size=3, stride=2),\n",
        "                                            nn.ReLU()\n",
        "                                        )\n",
        "        # http://deeplearning.net/software/theano/tutorial/conv_arithmetic.html\n",
        "        # \"No zero padding, non-unit strides\"\n",
        "        # https://pytorch.org/docs/stable/nn.html\n",
        "        self.dense_layers = nn.Sequential(\n",
        "                                            nn.Dropout(0.2),\n",
        "                                            # Pytorch does not automatically calculates input dimension\n",
        "                                            nn.Linear(128 * 2 * 2, 512),\n",
        "                                            nn.ReLU(),\n",
        "                                            nn.Dropout(0.2),\n",
        "                                            nn.Linear(512, K)\n",
        "                                         )\n",
        "\n",
        "    def forward(self, X):\n",
        "        out = self.conv_layers(X)\n",
        "        # flatten the 2D array using veiw function\n",
        "        # -1 would automatcially computes dimension from the remaining dimensions\n",
        "        out = out.view(out.size(0), -1)\n",
        "        out = self.dense_layers(out)\n",
        "        return out"
      ],
      "execution_count": 39,
      "outputs": []
    },
    {
      "cell_type": "code",
      "metadata": {
        "id": "HtWJqf2kOgi-"
      },
      "source": [
        "# Instantiate the model\n",
        "model = CNN(K)"
      ],
      "execution_count": 40,
      "outputs": []
    },
    {
      "cell_type": "code",
      "metadata": {
        "id": "AJeNinDyOiuJ"
      },
      "source": [
        "# The same model! Using the newly introduced \"Flatten\"\n",
        "# model = nn.Sequential(\n",
        "    #     nn.Conv2d(in_channels=1, out_channels=32, kernel_size=3, stride=2),\n",
        "    #     nn.ReLU(),\n",
        "    #     nn.Conv2d(in_channels=32, out_channels=64, kernel_size=3, stride=2),\n",
        "    #     nn.ReLU(),\n",
        "    #     nn.Conv2d(in_channels=64, out_channels=128, kernel_size=3, stride=2),\n",
        "    #     nn.ReLU(),\n",
        "    #     nn.Flatten(),\n",
        "    #     nn.Dropout(0.2),\n",
        "    #     nn.Linear(128 * 2 * 2, 512),\n",
        "    #     nn.ReLU(),\n",
        "    #     nn.Dropout(0.2),\n",
        "    #     nn.Linear(512, K)   \n",
        "    # )"
      ],
      "execution_count": 41,
      "outputs": []
    },
    {
      "cell_type": "code",
      "metadata": {
        "colab": {
          "base_uri": "https://localhost:8080/"
        },
        "id": "VJVY4uSQOyPM",
        "outputId": "2b2e668a-0b47-4da3-8a6a-9b6dfe230813"
      },
      "source": [
        "device = torch.device(\"cuda:0\" if torch.cuda.is_available() else \"cpu\")\n",
        "print(device)\n",
        "model.to(device)"
      ],
      "execution_count": 42,
      "outputs": [
        {
          "output_type": "stream",
          "text": [
            "cuda:0\n"
          ],
          "name": "stdout"
        },
        {
          "output_type": "execute_result",
          "data": {
            "text/plain": [
              "CNN(\n",
              "  (conv_layers): Sequential(\n",
              "    (0): Conv2d(1, 32, kernel_size=(3, 3), stride=(2, 2))\n",
              "    (1): ReLU()\n",
              "    (2): Conv2d(32, 64, kernel_size=(3, 3), stride=(2, 2))\n",
              "    (3): ReLU()\n",
              "    (4): Conv2d(64, 128, kernel_size=(3, 3), stride=(2, 2))\n",
              "    (5): ReLU()\n",
              "  )\n",
              "  (dense_layers): Sequential(\n",
              "    (0): Dropout(p=0.2, inplace=False)\n",
              "    (1): Linear(in_features=512, out_features=512, bias=True)\n",
              "    (2): ReLU()\n",
              "    (3): Dropout(p=0.2, inplace=False)\n",
              "    (4): Linear(in_features=512, out_features=10, bias=True)\n",
              "  )\n",
              ")"
            ]
          },
          "metadata": {
            "tags": []
          },
          "execution_count": 42
        }
      ]
    },
    {
      "cell_type": "code",
      "metadata": {
        "id": "fgV0f_9MO48l"
      },
      "source": [
        "# Loss and optimizer\n",
        "criterion = nn.CrossEntropyLoss()\n",
        "optimizer = torch.optim.Adam(model.parameters())"
      ],
      "execution_count": 43,
      "outputs": []
    },
    {
      "cell_type": "code",
      "metadata": {
        "id": "Z-z4vBOJO-Hl"
      },
      "source": [
        "# Data loader\n",
        "# Useful because it automatically generates batches in the training loop\n",
        "# and takes care of shuffling\n",
        "\n",
        "batch_size = 128\n",
        "train_loader = torch.utils.data.DataLoader(dataset=train_dataset, \n",
        "                                           batch_size=batch_size, \n",
        "                                           shuffle=True)\n",
        "\n",
        "test_loader = torch.utils.data.DataLoader(dataset=test_dataset, \n",
        "                                          batch_size=batch_size, \n",
        "                                          shuffle=False)"
      ],
      "execution_count": 44,
      "outputs": []
    },
    {
      "cell_type": "code",
      "metadata": {
        "colab": {
          "base_uri": "https://localhost:8080/"
        },
        "id": "dH8iX02WQAkT",
        "outputId": "2cd0e446-1a4f-498d-a3c5-c0516326e1f9"
      },
      "source": [
        "help(model.train)"
      ],
      "execution_count": 45,
      "outputs": [
        {
          "output_type": "stream",
          "text": [
            "Help on method train in module torch.nn.modules.module:\n",
            "\n",
            "train(mode: bool = True) -> ~T method of __main__.CNN instance\n",
            "    Sets the module in training mode.\n",
            "    \n",
            "    This has any effect only on certain modules. See documentations of\n",
            "    particular modules for details of their behaviors in training/evaluation\n",
            "    mode, if they are affected, e.g. :class:`Dropout`, :class:`BatchNorm`,\n",
            "    etc.\n",
            "    \n",
            "    Args:\n",
            "        mode (bool): whether to set training mode (``True``) or evaluation\n",
            "                     mode (``False``). Default: ``True``.\n",
            "    \n",
            "    Returns:\n",
            "        Module: self\n",
            "\n"
          ],
          "name": "stdout"
        }
      ]
    },
    {
      "cell_type": "code",
      "metadata": {
        "colab": {
          "base_uri": "https://localhost:8080/"
        },
        "id": "rBNeMjh8Qq3D",
        "outputId": "5d22dab2-3016-4892-a6c9-6bacbf8320d4"
      },
      "source": [
        "help(model.eval)"
      ],
      "execution_count": 46,
      "outputs": [
        {
          "output_type": "stream",
          "text": [
            "Help on method eval in module torch.nn.modules.module:\n",
            "\n",
            "eval() -> ~T method of __main__.CNN instance\n",
            "    Sets the module in evaluation mode.\n",
            "    \n",
            "    This has any effect only on certain modules. See documentations of\n",
            "    particular modules for details of their behaviors in training/evaluation\n",
            "    mode, if they are affected, e.g. :class:`Dropout`, :class:`BatchNorm`,\n",
            "    etc.\n",
            "    \n",
            "    This is equivalent with :meth:`self.train(False) <torch.nn.Module.train>`.\n",
            "    \n",
            "    Returns:\n",
            "        Module: self\n",
            "\n"
          ],
          "name": "stdout"
        }
      ]
    },
    {
      "cell_type": "code",
      "metadata": {
        "id": "FA4v6WVSPDxG"
      },
      "source": [
        "# A function to encapsulate the training loop\n",
        "def batch_gd(model, criterion, optimizer, train_loader, test_loader, epochs):\n",
        "    # storing batch losses\n",
        "    train_losses = np.zeros(epochs)\n",
        "    test_losses = np.zeros(epochs)\n",
        "\n",
        "    for it in range(epochs):\n",
        "        # Sets the module in training mode.\n",
        "        model.train()\n",
        "        t0 = datetime.now()\n",
        "        \n",
        "        # epoch losses\n",
        "        train_loss = []\n",
        "        for inputs, targets in train_loader:\n",
        "            # move data to GPU\n",
        "            inputs, targets = inputs.to(device), targets.to(device)\n",
        "\n",
        "            # zero the parameter gradients\n",
        "            optimizer.zero_grad()\n",
        "\n",
        "            # Forward pass\n",
        "            outputs = model(inputs)\n",
        "            loss = criterion(outputs, targets)\n",
        "            \n",
        "            # Backward and optimize\n",
        "            loss.backward()\n",
        "            optimizer.step()\n",
        "\n",
        "            train_loss.append(loss.item())\n",
        "\n",
        "        # Get train loss and test loss\n",
        "        train_loss = np.mean(train_loss) # a little misleading\n",
        "\n",
        "        # Sets the module in evaluation mode\n",
        "        model.eval()\n",
        "        \n",
        "        # batch loss\n",
        "        test_loss = []\n",
        "        for inputs, targets in test_loader:\n",
        "            inputs, targets = inputs.to(device), targets.to(device)\n",
        "            outputs = model(inputs)\n",
        "            loss = criterion(outputs, targets)\n",
        "            test_loss.append(loss.item())\n",
        "        test_loss = np.mean(test_loss)\n",
        "\n",
        "        # Save losses\n",
        "        train_losses[it] = train_loss\n",
        "        test_losses[it] = test_loss\n",
        "\n",
        "        dt = datetime.now() - t0\n",
        "        print(f'Epoch {it+1}/{epochs}, Train Loss: {train_loss:.4f}, Test Loss: {test_loss:.4f}, Duration: {dt}')\n",
        "  \n",
        "    return train_losses, test_losses"
      ],
      "execution_count": 47,
      "outputs": []
    },
    {
      "cell_type": "code",
      "metadata": {
        "colab": {
          "base_uri": "https://localhost:8080/"
        },
        "id": "ziyS-v3VQ1su",
        "outputId": "ac58f18e-dc6e-4a8c-f481-ed62abd27e45"
      },
      "source": [
        "train_losses, test_losses = batch_gd( model, criterion, optimizer, train_loader, test_loader, epochs=15)"
      ],
      "execution_count": 48,
      "outputs": [
        {
          "output_type": "stream",
          "text": [
            "Epoch 1/15, Train Loss: 0.6588, Test Loss: 0.4907, Duration: 0:00:06.196962\n",
            "Epoch 2/15, Train Loss: 0.4481, Test Loss: 0.4160, Duration: 0:00:06.136062\n",
            "Epoch 3/15, Train Loss: 0.3885, Test Loss: 0.3873, Duration: 0:00:06.140536\n",
            "Epoch 4/15, Train Loss: 0.3535, Test Loss: 0.3506, Duration: 0:00:06.164060\n",
            "Epoch 5/15, Train Loss: 0.3231, Test Loss: 0.3249, Duration: 0:00:06.190724\n",
            "Epoch 6/15, Train Loss: 0.3021, Test Loss: 0.3230, Duration: 0:00:06.102831\n",
            "Epoch 7/15, Train Loss: 0.2843, Test Loss: 0.3133, Duration: 0:00:06.140324\n",
            "Epoch 8/15, Train Loss: 0.2679, Test Loss: 0.3038, Duration: 0:00:06.147176\n",
            "Epoch 9/15, Train Loss: 0.2530, Test Loss: 0.3143, Duration: 0:00:06.157664\n",
            "Epoch 10/15, Train Loss: 0.2376, Test Loss: 0.3018, Duration: 0:00:06.174331\n",
            "Epoch 11/15, Train Loss: 0.2254, Test Loss: 0.2926, Duration: 0:00:06.167100\n",
            "Epoch 12/15, Train Loss: 0.2102, Test Loss: 0.3046, Duration: 0:00:06.153115\n",
            "Epoch 13/15, Train Loss: 0.2013, Test Loss: 0.2940, Duration: 0:00:06.194774\n",
            "Epoch 14/15, Train Loss: 0.1912, Test Loss: 0.2975, Duration: 0:00:06.154206\n",
            "Epoch 15/15, Train Loss: 0.1805, Test Loss: 0.3037, Duration: 0:00:06.141876\n"
          ],
          "name": "stdout"
        }
      ]
    },
    {
      "cell_type": "code",
      "metadata": {
        "colab": {
          "base_uri": "https://localhost:8080/",
          "height": 265
        },
        "id": "RrbVhSIfQ9BM",
        "outputId": "865e9da1-8960-4f14-8aac-aed6160f4ff5"
      },
      "source": [
        "# Plot the train loss and test loss per iteration\n",
        "plt.plot(train_losses, label='train loss')\n",
        "plt.plot(test_losses, label='test loss')\n",
        "plt.legend()\n",
        "plt.show()"
      ],
      "execution_count": 49,
      "outputs": [
        {
          "output_type": "display_data",
          "data": {
            "image/png": "[encoded data removed]",
            "text/plain": [
              "<Figure size 432x288 with 1 Axes>"
            ]
          },
          "metadata": {
            "tags": [],
            "needs_background": "light"
          }
        }
      ]
    },
    {
      "cell_type": "code",
      "metadata": {
        "colab": {
          "base_uri": "https://localhost:8080/"
        },
        "id": "0WtW9ICARepa",
        "outputId": "b77c1d67-d689-4447-86f4-972aca3cdf93"
      },
      "source": [
        "# Accuracy\n",
        "\n",
        "# set model in evaluation mode\n",
        "model.eval()\n",
        "n_correct = 0.\n",
        "n_total = 0.\n",
        "\n",
        "for inputs, targets in train_loader:\n",
        "    # move data to GPU\n",
        "    inputs, targets = inputs.to(device), targets.to(device)\n",
        "\n",
        "    # Forward pass\n",
        "    outputs = model(inputs)\n",
        "\n",
        "    # Get prediction\n",
        "    # torch.max returns both max and argmax\n",
        "    _, predictions = torch.max(outputs, 1)\n",
        "\n",
        "    # update counts\n",
        "    n_correct += (predictions == targets).sum().item()\n",
        "    n_total += targets.shape[0]\n",
        "\n",
        "train_acc = n_correct / n_total\n",
        "\n",
        "\n",
        "n_correct = 0.\n",
        "n_total = 0.\n",
        "for inputs, targets in test_loader:\n",
        "    # move data to GPU\n",
        "    inputs, targets = inputs.to(device), targets.to(device)\n",
        "\n",
        "    # Forward pass\n",
        "    outputs = model(inputs)\n",
        "\n",
        "    # Get prediction\n",
        "    # torch.max returns both max and argmax\n",
        "    _, predictions = torch.max(outputs, 1)\n",
        "\n",
        "    # update counts\n",
        "    n_correct += (predictions == targets).sum().item()\n",
        "    n_total += targets.shape[0]\n",
        "\n",
        "test_acc = n_correct / n_total\n",
        "print(f\"Train acc: {train_acc:.4f}, Test acc: {test_acc:.4f}\")"
      ],
      "execution_count": 50,
      "outputs": [
        {
          "output_type": "stream",
          "text": [
            "Train acc: 0.9473, Test acc: 0.8985\n"
          ],
          "name": "stdout"
        }
      ]
    },
    {
      "cell_type": "code",
      "metadata": {
        "id": "vnNcxdTjRtJt"
      },
      "source": [
        "def plot_confusion_matrix(cm, classes,\n",
        "                          normalize=False,\n",
        "                          title='Confusion matrix',\n",
        "                          cmap=plt.cm.Blues):\n",
        "  \"\"\"\n",
        "  This function prints and plots the confusion matrix.\n",
        "  Normalization can be applied by setting `normalize=True`.\n",
        "  \"\"\"\n",
        "  if normalize:\n",
        "      cm = cm.astype('float') / cm.sum(axis=1)[:, np.newaxis]\n",
        "      print(\"Normalized confusion matrix\")\n",
        "  else:\n",
        "      print('Confusion matrix, without normalization')\n",
        "\n",
        "#   print(cm)\n",
        "\n",
        "  plt.imshow(cm, interpolation='nearest', cmap=cmap)\n",
        "  plt.title(title)\n",
        "  plt.colorbar()\n",
        "  tick_marks = np.arange(len(classes))\n",
        "  plt.xticks(tick_marks, classes, rotation=45)\n",
        "  plt.yticks(tick_marks, classes)\n",
        "\n",
        "  fmt = '.2f' if normalize else 'd'\n",
        "  thresh = cm.max() / 2.\n",
        "  for i, j in itertools.product(range(cm.shape[0]), range(cm.shape[1])):\n",
        "      plt.text(j, i, format(cm[i, j], fmt),\n",
        "               horizontalalignment=\"center\",\n",
        "               color=\"white\" if cm[i, j] > thresh else \"black\")\n",
        "\n",
        "  plt.tight_layout()\n",
        "  plt.ylabel('True label')\n",
        "  plt.xlabel('Predicted label')\n",
        "  plt.show()"
      ],
      "execution_count": 51,
      "outputs": []
    },
    {
      "cell_type": "code",
      "metadata": {
        "colab": {
          "base_uri": "https://localhost:8080/",
          "height": 329
        },
        "id": "tzHpzLAJSCgE",
        "outputId": "79c8fbd6-212b-4330-e912-b31c6e7e35d9"
      },
      "source": [
        "# get all predictions in an array and plot confusion matrix\n",
        "\n",
        "x_test = test_dataset.data.numpy()\n",
        "y_test = test_dataset.targets.numpy()\n",
        "p_test = np.array([])\n",
        "for inputs, targets in test_loader:\n",
        "    # move data to GPU\n",
        "    inputs, targets = inputs.to(device), targets.to(device)\n",
        "\n",
        "    # Forward pass\n",
        "    outputs = model(inputs)\n",
        "\n",
        "    # Get prediction\n",
        "    _, predictions = torch.max(outputs, 1)\n",
        "\n",
        "    # update p_test\n",
        "    p_test = np.concatenate((p_test, predictions.cpu().numpy()))\n",
        "\n",
        "cm = confusion_matrix(y_test, p_test)\n",
        "plot_confusion_matrix(cm, list(range(10)))"
      ],
      "execution_count": 52,
      "outputs": [
        {
          "output_type": "stream",
          "text": [
            "Confusion matrix, without normalization\n"
          ],
          "name": "stdout"
        },
        {
          "output_type": "display_data",
          "data": {
            "image/png": "[encoded data removed]",
            "text/plain": [
              "<Figure size 432x288 with 2 Axes>"
            ]
          },
          "metadata": {
            "tags": [],
            "needs_background": "light"
          }
        }
      ]
    },
    {
      "cell_type": "code",
      "metadata": {
        "id": "KFUp44fXSJ8b"
      },
      "source": [
        "# Label mapping\n",
        "labels = '''T-shirt/top\n",
        "            Trouser\n",
        "            Pullover\n",
        "            Dress\n",
        "            Coat\n",
        "            Sandal\n",
        "            Shirt\n",
        "            Sneaker\n",
        "            Bag\n",
        "            Ankle boot'''.split(\"\\n\")"
      ],
      "execution_count": 53,
      "outputs": []
    },
    {
      "cell_type": "code",
      "metadata": {
        "colab": {
          "base_uri": "https://localhost:8080/",
          "height": 281
        },
        "id": "3cBJyy2CSRmE",
        "outputId": "f0471c5a-cab3-4260-9bc7-df65c072ad8b"
      },
      "source": [
        "# Show some misclassified examples\n",
        "p_test = p_test.astype(np.uint8)\n",
        "misclassified_idx = np.where(p_test != y_test)[0]\n",
        "i = np.random.choice(misclassified_idx)\n",
        "plt.imshow(x_test[i].reshape(28,28), cmap='gray')\n",
        "plt.title(\"True label: %s Predicted: %s\" % (labels[y_test[i]], labels[p_test[i]]));"
      ],
      "execution_count": 54,
      "outputs": [
        {
          "output_type": "display_data",
          "data": {
            "image/png": "[encoded data removed]",
            "text/plain": [
              "<Figure size 432x288 with 1 Axes>"
            ]
          },
          "metadata": {
            "tags": [],
            "needs_background": "light"
          }
        }
      ]
    },
    {
      "cell_type": "code",
      "metadata": {
        "id": "r6N3bXXBSYHF"
      },
      "source": [
        ""
      ],
      "execution_count": 54,
      "outputs": []
    }
  ]
}
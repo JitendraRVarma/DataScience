{
 "cells": [
  {
   "cell_type": "code",
   "execution_count": 1,
   "metadata": {
    "id": "bPnUZTmMXCSW"
   },
   "outputs": [],
   "source": [
    "import torch\n",
    "import torch.nn as nn\n",
    "import numpy as np\n",
    "import matplotlib.pyplot as plt\n",
    "from sklearn.datasets import load_breast_cancer\n",
    "from sklearn.model_selection import train_test_split\n",
    "from sklearn.preprocessing import StandardScaler\n",
    "np.random.seed(34)"
   ]
  },
  {
   "cell_type": "code",
   "execution_count": 2,
   "metadata": {
    "colab": {
     "base_uri": "https://localhost:8080/"
    },
    "id": "ac3VR4MrXNFf",
    "outputId": "d1958dbd-9d9e-4d50-a0d7-9731a8d2ccdb"
   },
   "outputs": [
    {
     "data": {
      "text/plain": [
       "dict_keys(['data', 'target', 'target_names', 'DESCR', 'feature_names', 'filename'])"
      ]
     },
     "execution_count": 2,
     "metadata": {
      "tags": []
     },
     "output_type": "execute_result"
    }
   ],
   "source": [
    "# load the data\n",
    "data = load_breast_cancer()\n",
    "data.keys()"
   ]
  },
  {
   "cell_type": "code",
   "execution_count": 3,
   "metadata": {
    "colab": {
     "base_uri": "https://localhost:8080/"
    },
    "id": "KRjMUoWnXXZi",
    "outputId": "012f336a-43fc-4683-f065-8d404f124e68"
   },
   "outputs": [
    {
     "data": {
      "text/plain": [
       "(381, 30)"
      ]
     },
     "execution_count": 3,
     "metadata": {
      "tags": []
     },
     "output_type": "execute_result"
    }
   ],
   "source": [
    "X_train, X_test, y_train, y_test = train_test_split(data.data, data.target, test_size=0.33)\n",
    "\n",
    "# N - Training sample | D - Feature Dimension\n",
    "N, D = X_train.shape\n",
    "\n",
    "N,D"
   ]
  },
  {
   "cell_type": "code",
   "execution_count": 4,
   "metadata": {
    "id": "8UBBqrPmXk6E"
   },
   "outputs": [],
   "source": [
    "# scale the data\n",
    "scaler = StandardScaler()\n",
    "X_train = scaler.fit_transform(X_train)\n",
    "X_test = scaler.transform(X_test)"
   ]
  },
  {
   "cell_type": "code",
   "execution_count": 5,
   "metadata": {
    "id": "FFY2JqRHYt9X"
   },
   "outputs": [],
   "source": [
    "# Convert data into torch tensors\n",
    "\n",
    "X_train = torch.from_numpy(X_train.astype(np.float32))\n",
    "X_test = torch.from_numpy(X_test.astype(np.float32))\n",
    "\n",
    "# torch expects output shape to be N X D \n",
    "\n",
    "y_train = torch.from_numpy(y_train.astype(np.float32).reshape(-1, 1))\n",
    "y_test = torch.from_numpy(y_test.astype(np.float32).reshape(-1, 1))"
   ]
  },
  {
   "cell_type": "code",
   "execution_count": 6,
   "metadata": {
    "id": "2b6X0hoNX8g1"
   },
   "outputs": [],
   "source": [
    "# build the model using sigmoid layer\n",
    "model = nn.Sequential(nn.Linear(D,1,),\n",
    "                      nn.Sigmoid())\n",
    "\n",
    "# define loss\n",
    "criterion = nn.BCELoss()\n",
    "\n",
    "# define optimizer\n",
    "optimizer = torch.optim.Adam(model.parameters())"
   ]
  },
  {
   "cell_type": "code",
   "execution_count": 7,
   "metadata": {
    "colab": {
     "base_uri": "https://localhost:8080/"
    },
    "id": "0w5ty0HHZJDA",
    "outputId": "15e5d428-2eca-4e8c-847b-192d0c4aeeed"
   },
   "outputs": [
    {
     "name": "stdout",
     "output_type": "stream",
     "text": [
      "Epoch 20/200, Train Loss: 0.5501, Test Loss: 0.5719\n",
      "Epoch 40/200, Train Loss: 0.4641, Test Loss: 0.4763\n",
      "Epoch 60/200, Train Loss: 0.4038, Test Loss: 0.4092\n",
      "Epoch 80/200, Train Loss: 0.3600, Test Loss: 0.3607\n",
      "Epoch 100/200, Train Loss: 0.3268, Test Loss: 0.3237\n",
      "Epoch 120/200, Train Loss: 0.3006, Test Loss: 0.2944\n",
      "Epoch 140/200, Train Loss: 0.2791, Test Loss: 0.2703\n",
      "Epoch 160/200, Train Loss: 0.2613, Test Loss: 0.2501\n",
      "Epoch 180/200, Train Loss: 0.2461, Test Loss: 0.2329\n",
      "Epoch 200/200, Train Loss: 0.2331, Test Loss: 0.2179\n"
     ]
    }
   ],
   "source": [
    "# Training Loop\n",
    "\n",
    "n_epochs = 200\n",
    "\n",
    "# init train and test losses\n",
    "train_losses = np.zeros(n_epochs)\n",
    "test_losses = np.zeros(n_epochs)\n",
    "\n",
    "for i in range(n_epochs):\n",
    "\n",
    "    # zero the gradients\n",
    "    optimizer.zero_grad()\n",
    "\n",
    "    # Forward Pass\n",
    "    outputs = model(X_train)\n",
    "\n",
    "    # Compute Loss\n",
    "    loss = criterion(outputs, y_train)\n",
    "\n",
    "    # Backward Propogation\n",
    "    loss.backward()\n",
    "\n",
    "    # Optimize model\n",
    "    optimizer.step()\n",
    "\n",
    "    # compute test loss\n",
    "    outputs_test = model(X_test)\n",
    "    loss_test = criterion(outputs_test, y_test)\n",
    "    \n",
    "    # Save losses\n",
    "    train_losses[i] = loss.item()\n",
    "    test_losses[i] = loss_test.item()\n",
    "\n",
    "    if (i + 1) % 20 == 0:\n",
    "        print(f'Epoch {i+1}/{n_epochs}, Train Loss: {loss.item():.4f}, Test Loss: {loss_test.item():.4f}')"
   ]
  },
  {
   "cell_type": "code",
   "execution_count": 8,
   "metadata": {
    "colab": {
     "base_uri": "https://localhost:8080/",
     "height": 265
    },
    "id": "Ub8gmskYaSQU",
    "outputId": "aaa7472e-b1e9-4296-a029-0f97fabdb14d"
   },
   "outputs": [
    {
     "data": {
      "image/png": "[encoded data removed]",
      "text/plain": [
       "<Figure size 432x288 with 1 Axes>"
      ]
     },
     "metadata": {
      "needs_background": "light",
      "tags": []
     },
     "output_type": "display_data"
    }
   ],
   "source": [
    "# Plot the train loss and test loss per iteration\n",
    "plt.plot(train_losses, label='train loss')\n",
    "plt.plot(test_losses, label='test loss')\n",
    "plt.legend()\n",
    "plt.show()"
   ]
  },
  {
   "cell_type": "code",
   "execution_count": 9,
   "metadata": {
    "colab": {
     "base_uri": "https://localhost:8080/"
    },
    "id": "u4MisFOoaXyv",
    "outputId": "80671091-e1b7-4fe5-a3ee-37744e113296"
   },
   "outputs": [
    {
     "name": "stdout",
     "output_type": "stream",
     "text": [
      "Train acc: 0.9449, Test acc: 0.9415\n"
     ]
    }
   ],
   "source": [
    "# check accuracy\n",
    "\n",
    "# Get accuracy\n",
    "with torch.no_grad():\n",
    "  p_train = model(X_train)\n",
    "  \n",
    "  # convert probablites to binary output\n",
    "  p_train = np.round(p_train.numpy())\n",
    "  \n",
    "  train_acc = np.mean(y_train.numpy() == p_train)\n",
    "\n",
    "  p_test = model(X_test)\n",
    "  p_test = np.round(p_test.numpy())\n",
    "  test_acc = np.mean(y_test.numpy() == p_test)\n",
    "\n",
    "print(f\"Train acc: {train_acc:.4f}, Test acc: {test_acc:.4f}\")"
   ]
  },
  {
   "cell_type": "code",
   "execution_count": 10,
   "metadata": {
    "colab": {
     "base_uri": "https://localhost:8080/"
    },
    "id": "Y0Hw-as5a3rj",
    "outputId": "96b58160-8e46-44cf-c36c-35bd34b20102"
   },
   "outputs": [
    {
     "data": {
      "text/plain": [
       "OrderedDict([('0.weight',\n",
       "              tensor([[-0.2218, -0.1881, -0.1099, -0.0223, -0.2271,  0.0310, -0.0845, -0.1892,\n",
       "                       -0.2277,  0.3466, -0.0797, -0.2010,  0.0393,  0.0052,  0.1878, -0.0902,\n",
       "                       -0.1703, -0.1812,  0.1333,  0.1142, -0.0621, -0.0175, -0.2954, -0.2662,\n",
       "                       -0.0382, -0.1486, -0.0101, -0.2938, -0.2075, -0.2660]])),\n",
       "             ('0.bias', tensor([0.2613]))])"
      ]
     },
     "execution_count": 10,
     "metadata": {
      "tags": []
     },
     "output_type": "execute_result"
    }
   ],
   "source": [
    "# model dict\n",
    "model.state_dict()"
   ]
  },
  {
   "cell_type": "code",
   "execution_count": 11,
   "metadata": {
    "id": "T-1G6HwDbGRW"
   },
   "outputs": [],
   "source": [
    "# save the model\n",
    "torch.save(model.state_dict(), 'mymodel.pt')"
   ]
  },
  {
   "cell_type": "code",
   "execution_count": 12,
   "metadata": {
    "colab": {
     "base_uri": "https://localhost:8080/"
    },
    "id": "q8VtcNNKbPcE",
    "outputId": "c310eb05-f1f3-40fd-ecd9-e5923882ff8a"
   },
   "outputs": [
    {
     "data": {
      "text/plain": [
       "<All keys matched successfully>"
      ]
     },
     "execution_count": 12,
     "metadata": {
      "tags": []
     },
     "output_type": "execute_result"
    }
   ],
   "source": [
    "# load Model\n",
    "model2 = nn.Sequential(nn.Linear(D, 1),\n",
    "                       nn.Sigmoid())\n",
    "\n",
    "model2.load_state_dict(torch.load('mymodel.pt'))"
   ]
  },
  {
   "cell_type": "code",
   "execution_count": 13,
   "metadata": {
    "colab": {
     "base_uri": "https://localhost:8080/"
    },
    "id": "_SkWzAlKbbSE",
    "outputId": "39bbfa84-5984-4195-f466-f4e7277072f6"
   },
   "outputs": [
    {
     "name": "stdout",
     "output_type": "stream",
     "text": [
      "Train acc: 0.9449, Test acc: 0.9415\n"
     ]
    }
   ],
   "source": [
    "# test loaded model\n",
    "with torch.no_grad():\n",
    "  p_train = model2(X_train)\n",
    "  p_train = np.round(p_train.numpy())\n",
    "  train_acc = np.mean(y_train.numpy() == p_train)\n",
    "\n",
    "  p_test = model2(X_test)\n",
    "  p_test = np.round(p_test.numpy())\n",
    "  test_acc = np.mean(y_test.numpy() == p_test)\n",
    "print(f\"Train acc: {train_acc:.4f}, Test acc: {test_acc:.4f}\")"
   ]
  },
  {
   "cell_type": "code",
   "execution_count": 14,
   "metadata": {
    "id": "O4kUiCaObg3Y"
   },
   "outputs": [],
   "source": [
    "# Train the model using BCEwith Logit Loss\n",
    "model = nn.Linear(D, 1)\n",
    "\n",
    "# Loss - Combines BCE Loss with sigmoid step into single class\n",
    "criterion = nn.BCEWithLogitsLoss()\n",
    "\n",
    "# optimizer\n",
    "optimizer = torch.optim.Adam(model.parameters())"
   ]
  },
  {
   "cell_type": "code",
   "execution_count": 15,
   "metadata": {
    "colab": {
     "base_uri": "https://localhost:8080/"
    },
    "id": "pN2el5bjdG-c",
    "outputId": "77f088ac-546c-431c-ed1f-e95967cc0779"
   },
   "outputs": [
    {
     "name": "stdout",
     "output_type": "stream",
     "text": [
      "Epoch 50/1000, Train Loss: 0.3359, Test Loss: 0.3118\n",
      "Epoch 100/1000, Train Loss: 0.2632, Test Loss: 0.2393\n",
      "Epoch 150/1000, Train Loss: 0.2218, Test Loss: 0.1959\n",
      "Epoch 200/1000, Train Loss: 0.1945, Test Loss: 0.1662\n",
      "Epoch 250/1000, Train Loss: 0.1751, Test Loss: 0.1447\n",
      "Epoch 300/1000, Train Loss: 0.1606, Test Loss: 0.1285\n",
      "Epoch 350/1000, Train Loss: 0.1493, Test Loss: 0.1160\n",
      "Epoch 400/1000, Train Loss: 0.1403, Test Loss: 0.1061\n",
      "Epoch 450/1000, Train Loss: 0.1329, Test Loss: 0.0981\n",
      "Epoch 500/1000, Train Loss: 0.1268, Test Loss: 0.0914\n",
      "Epoch 550/1000, Train Loss: 0.1216, Test Loss: 0.0858\n",
      "Epoch 600/1000, Train Loss: 0.1171, Test Loss: 0.0810\n",
      "Epoch 650/1000, Train Loss: 0.1132, Test Loss: 0.0768\n",
      "Epoch 700/1000, Train Loss: 0.1098, Test Loss: 0.0732\n",
      "Epoch 750/1000, Train Loss: 0.1067, Test Loss: 0.0700\n",
      "Epoch 800/1000, Train Loss: 0.1040, Test Loss: 0.0672\n",
      "Epoch 850/1000, Train Loss: 0.1016, Test Loss: 0.0646\n",
      "Epoch 900/1000, Train Loss: 0.0994, Test Loss: 0.0623\n",
      "Epoch 950/1000, Train Loss: 0.0974, Test Loss: 0.0603\n",
      "Epoch 1000/1000, Train Loss: 0.0956, Test Loss: 0.0584\n"
     ]
    }
   ],
   "source": [
    "# Train the model\n",
    "n_epochs = 1000\n",
    "\n",
    "# Stuff to store\n",
    "train_losses = np.zeros(n_epochs)\n",
    "test_losses = np.zeros(n_epochs)\n",
    "train_acc = np.zeros(n_epochs)\n",
    "test_acc = np.zeros(n_epochs)\n",
    "\n",
    "for it in range(n_epochs):\n",
    "  # zero the parameter gradients\n",
    "  optimizer.zero_grad()\n",
    "\n",
    "  # Forward pass\n",
    "  outputs = model(X_train)\n",
    "  loss = criterion(outputs, y_train)\n",
    "    \n",
    "  # Backward and optimize\n",
    "  loss.backward()\n",
    "  optimizer.step()\n",
    "\n",
    "  # Get test loss\n",
    "  outputs_test = model(X_test)\n",
    "  loss_test = criterion(outputs_test, y_test)\n",
    "\n",
    "  # Save losses\n",
    "  train_losses[it] = loss.item()\n",
    "  test_losses[it] = loss_test.item()\n",
    "    \n",
    "  if (it + 1) % 50 == 0:\n",
    "    print(f'Epoch {it+1}/{n_epochs}, Train Loss: {loss.item():.4f}, Test Loss: {loss_test.item():.4f}')"
   ]
  }
 ],
 "metadata": {
  "colab": {
   "collapsed_sections": [],
   "name": "Linear_Classification.ipynb",
   "provenance": []
  },
  "kernelspec": {
   "display_name": "Python 3",
   "language": "python",
   "name": "python3"
  },
  "language_info": {
   "codemirror_mode": {
    "name": "ipython",
    "version": 3
   },
   "file_extension": ".py",
   "mimetype": "text/x-python",
   "name": "python",
   "nbconvert_exporter": "python",
   "pygments_lexer": "ipython3",
   "version": "3.8.8"
  }
 },
 "nbformat": 4,
 "nbformat_minor": 1
}

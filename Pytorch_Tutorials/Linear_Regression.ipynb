{
 "cells": [
  {
   "cell_type": "code",
   "execution_count": 1,
   "metadata": {
    "colab": {
     "base_uri": "https://localhost:8080/",
     "height": 36
    },
    "id": "lEQgSRAqQM_8",
    "outputId": "0eda8d8f-012c-4feb-fed7-12198e4b0f59"
   },
   "outputs": [
    {
     "data": {
      "application/vnd.google.colaboratory.intrinsic+json": {
       "type": "string"
      },
      "text/plain": [
       "'1.8.1+cu101'"
      ]
     },
     "execution_count": 1,
     "metadata": {
      "tags": []
     },
     "output_type": "execute_result"
    }
   ],
   "source": [
    "import torch\n",
    "import torch.nn as nn\n",
    "import numpy as np\n",
    "import matplotlib.pyplot as plt\n",
    "np.random.seed(43)\n",
    "torch.__version__"
   ]
  },
  {
   "cell_type": "code",
   "execution_count": 2,
   "metadata": {
    "id": "s5BAZLVoQXtU"
   },
   "outputs": [],
   "source": [
    "# Generate Dataset for Regression\n",
    "\n",
    "# Generate 100 data points\n",
    "N = 100\n",
    "\n",
    "# random data on the x-axis in (-5, +5)\n",
    "X = np.random.random(N)*10 - 5\n",
    "\n",
    "# add some noise\n",
    "Y = 0.5 * X - 1 + np.random.randn(N)"
   ]
  },
  {
   "cell_type": "code",
   "execution_count": 3,
   "metadata": {
    "colab": {
     "base_uri": "https://localhost:8080/",
     "height": 284
    },
    "id": "c8rQL10fQt1K",
    "outputId": "d04823c4-89d7-4080-fd8d-30e3eab60639"
   },
   "outputs": [
    {
     "data": {
      "text/plain": [
       "<matplotlib.collections.PathCollection at 0x7f7e19c3a310>"
      ]
     },
     "execution_count": 3,
     "metadata": {
      "tags": []
     },
     "output_type": "execute_result"
    },
    {
     "data": {
      "image/png": "[encoded data removed]",
      "text/plain": [
       "<Figure size 432x288 with 1 Axes>"
      ]
     },
     "metadata": {
      "needs_background": "light",
      "tags": []
     },
     "output_type": "display_data"
    }
   ],
   "source": [
    "plt.scatter(X,Y)"
   ]
  },
  {
   "cell_type": "code",
   "execution_count": 4,
   "metadata": {
    "id": "xYPOwytoRRUd"
   },
   "outputs": [],
   "source": [
    "# ML algorithms expects data in the form of (num_samples x num_dimensions)\n",
    "X = X.reshape(N, 1)\n",
    "\n",
    "# Pytorch expects output data also in the form of (num_samples x num_dimensions)\n",
    "Y = Y.reshape(N, 1)"
   ]
  },
  {
   "cell_type": "code",
   "execution_count": 5,
   "metadata": {
    "id": "RNH6hsIwQw6V"
   },
   "outputs": [],
   "source": [
    "input_size =  X.shape[1]\n",
    "output_size = Y.shape[1]\n",
    "\n",
    "# PyTorch uses float32 by default\n",
    "# Numpy creates float64 by default\n",
    "inputs = torch.from_numpy(X.astype(np.float32))\n",
    "targets = torch.from_numpy(Y.astype(np.float32))"
   ]
  },
  {
   "cell_type": "code",
   "execution_count": 6,
   "metadata": {
    "colab": {
     "base_uri": "https://localhost:8080/"
    },
    "id": "-pJDlAQTR4Na",
    "outputId": "172b690c-d0bb-417b-be8e-cb470dbad052"
   },
   "outputs": [
    {
     "data": {
      "text/plain": [
       "torch.Tensor"
      ]
     },
     "execution_count": 6,
     "metadata": {
      "tags": []
     },
     "output_type": "execute_result"
    }
   ],
   "source": [
    "type(inputs)"
   ]
  },
  {
   "cell_type": "code",
   "execution_count": 7,
   "metadata": {
    "id": "Rg42VB17TOc4"
   },
   "outputs": [],
   "source": [
    "# Define Model\n",
    "\n",
    "# create linear model with one input with one output\n",
    "model = nn.Linear(input_size,output_size)\n",
    "\n",
    "# Define Loss function\n",
    "criterion = nn.MSELoss()\n",
    "\n",
    "# Define Optimizer\n",
    "optimizer = torch.optim.SGD(model.parameters(), lr=0.05)"
   ]
  },
  {
   "cell_type": "code",
   "execution_count": 8,
   "metadata": {
    "colab": {
     "base_uri": "https://localhost:8080/"
    },
    "id": "SKF3MiQRR6Z8",
    "outputId": "c8ca2ae0-cb61-4398-e792-7eb869fea792"
   },
   "outputs": [
    {
     "name": "stdout",
     "output_type": "stream",
     "text": [
      "Epoch 1/30, Loss: 1.2684\n",
      "Epoch 2/30, Loss: 1.1757\n",
      "Epoch 3/30, Loss: 1.1486\n",
      "Epoch 4/30, Loss: 1.1277\n",
      "Epoch 5/30, Loss: 1.1107\n",
      "Epoch 6/30, Loss: 1.0970\n",
      "Epoch 7/30, Loss: 1.0858\n",
      "Epoch 8/30, Loss: 1.0768\n",
      "Epoch 9/30, Loss: 1.0694\n",
      "Epoch 10/30, Loss: 1.0635\n",
      "Epoch 11/30, Loss: 1.0587\n",
      "Epoch 12/30, Loss: 1.0548\n",
      "Epoch 13/30, Loss: 1.0516\n",
      "Epoch 14/30, Loss: 1.0491\n",
      "Epoch 15/30, Loss: 1.0470\n",
      "Epoch 16/30, Loss: 1.0453\n",
      "Epoch 17/30, Loss: 1.0439\n",
      "Epoch 18/30, Loss: 1.0428\n",
      "Epoch 19/30, Loss: 1.0419\n",
      "Epoch 20/30, Loss: 1.0412\n",
      "Epoch 21/30, Loss: 1.0406\n",
      "Epoch 22/30, Loss: 1.0401\n",
      "Epoch 23/30, Loss: 1.0397\n",
      "Epoch 24/30, Loss: 1.0394\n",
      "Epoch 25/30, Loss: 1.0392\n",
      "Epoch 26/30, Loss: 1.0390\n",
      "Epoch 27/30, Loss: 1.0388\n",
      "Epoch 28/30, Loss: 1.0386\n",
      "Epoch 29/30, Loss: 1.0385\n",
      "Epoch 30/30, Loss: 1.0384\n"
     ]
    }
   ],
   "source": [
    "# Training Loop\n",
    "\n",
    "n_epochs = 30\n",
    "losses = []\n",
    "\n",
    "for i in range(n_epochs):\n",
    "    \n",
    "    # Since the backward() function accumulates gradients\n",
    "    # don’t want to mix up gradients between minibatches\n",
    "    # have to zero them out at the start of a new minibatch\n",
    "    optimizer.zero_grad()\n",
    "\n",
    "    # Forward Pass\n",
    "    outputs = model(inputs)\n",
    "\n",
    "    # Compute loss\n",
    "    loss = criterion(outputs,targets)\n",
    "\n",
    "    # save loss at each iteration for plottting\n",
    "    losses.append(loss.item())\n",
    "\n",
    "    # Backpropagation compute gradient\n",
    "    loss.backward()\n",
    "\n",
    "    # optimize the weight\n",
    "    optimizer.step()\n",
    "\n",
    "    print(f\"Epoch {i+1}/{n_epochs}, Loss: {loss.item():.4f}\")"
   ]
  },
  {
   "cell_type": "code",
   "execution_count": 9,
   "metadata": {
    "colab": {
     "base_uri": "https://localhost:8080/",
     "height": 283
    },
    "id": "Iy0HLzsrU5mN",
    "outputId": "53895420-5101-4344-82e3-c44863c5adaf"
   },
   "outputs": [
    {
     "data": {
      "text/plain": [
       "[<matplotlib.lines.Line2D at 0x7f7e1973cf90>]"
      ]
     },
     "execution_count": 9,
     "metadata": {
      "tags": []
     },
     "output_type": "execute_result"
    },
    {
     "data": {
      "image/png": "[encoded data removed]",
      "text/plain": [
       "<Figure size 432x288 with 1 Axes>"
      ]
     },
     "metadata": {
      "needs_background": "light",
      "tags": []
     },
     "output_type": "display_data"
    }
   ],
   "source": [
    "# Plot the loss per iteration\n",
    "plt.plot(losses)"
   ]
  },
  {
   "cell_type": "markdown",
   "metadata": {
    "id": "q0sDeYD4Vleq"
   },
   "source": [
    "tensor.detach() creates a tensor that shares storage with tensor that does not require grad. It detaches the output from the computational graph. So no gradient will be backpropagated along this variable.\n",
    "\n",
    "The wrapper with torch.no_grad() temporarily set all the requires_grad flag to false. torch.no_grad says that no operation should build the graph.\n",
    "\n",
    "The difference is that one refers to only a given variable on which it is called. The other affects all operations taking place within the with statement. Also, torch.no_grad will use less memory because it knows from the beginning that no gradients are needed so it doesn’t need to keep intermediary results"
   ]
  },
  {
   "cell_type": "code",
   "execution_count": 10,
   "metadata": {
    "colab": {
     "base_uri": "https://localhost:8080/",
     "height": 266
    },
    "id": "JRMPDQpNVDO4",
    "outputId": "827bc7c5-c476-429a-a938-429eacd10a36"
   },
   "outputs": [
    {
     "data": {
      "image/png": "[encoded data removed]",
      "text/plain": [
       "<Figure size 432x288 with 1 Axes>"
      ]
     },
     "metadata": {
      "needs_background": "light",
      "tags": []
     },
     "output_type": "display_data"
    }
   ],
   "source": [
    "# make prediction\n",
    "prediction = model(inputs).detach().numpy()\n",
    "plt.scatter(X, Y, label='Original data')\n",
    "plt.plot(X, prediction, label='Fitted line')\n",
    "plt.legend()\n",
    "plt.show()"
   ]
  },
  {
   "cell_type": "code",
   "execution_count": 11,
   "metadata": {
    "colab": {
     "base_uri": "https://localhost:8080/"
    },
    "id": "Cts77d20V80T",
    "outputId": "ec83f8e4-4b35-4450-bb90-7150585f893f"
   },
   "outputs": [
    {
     "data": {
      "text/plain": [
       "array([[-0.46294308],\n",
       "       [-2.5639613 ]], dtype=float32)"
      ]
     },
     "execution_count": 11,
     "metadata": {
      "tags": []
     },
     "output_type": "execute_result"
    }
   ],
   "source": [
    "# Prediction using with context\n",
    "with torch.no_grad():\n",
    "  prediction = model(inputs).numpy()\n",
    "prediction[1:3]"
   ]
  },
  {
   "cell_type": "code",
   "execution_count": 12,
   "metadata": {
    "colab": {
     "base_uri": "https://localhost:8080/"
    },
    "id": "r1ORLyyvVvl2",
    "outputId": "91c14558-f1b5-4ce3-dafe-46c35e95d7a6"
   },
   "outputs": [
    {
     "name": "stdout",
     "output_type": "stream",
     "text": [
      "[[0.44169146]] [-0.94468063]\n"
     ]
    }
   ],
   "source": [
    "# extract model paramters\n",
    "w = model.weight.data.numpy()\n",
    "b = model.bias.data.numpy()\n",
    "print(w, b)"
   ]
  },
  {
   "cell_type": "code",
   "execution_count": 12,
   "metadata": {
    "id": "vHtiFyHEWS4V"
   },
   "outputs": [],
   "source": []
  }
 ],
 "metadata": {
  "colab": {
   "collapsed_sections": [],
   "name": "Linear_Regression.ipynb",
   "provenance": []
  },
  "kernelspec": {
   "display_name": "Python 3",
   "language": "python",
   "name": "python3"
  },
  "language_info": {
   "codemirror_mode": {
    "name": "ipython",
    "version": 3
   },
   "file_extension": ".py",
   "mimetype": "text/x-python",
   "name": "python",
   "nbconvert_exporter": "python",
   "pygments_lexer": "ipython3",
   "version": "3.8.8"
  }
 },
 "nbformat": 4,
 "nbformat_minor": 1
}

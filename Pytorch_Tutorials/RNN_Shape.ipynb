{
  "nbformat": 4,
  "nbformat_minor": 0,
  "metadata": {
    "colab": {
      "name": "RNN_Shape.ipynb",
      "provenance": [],
      "collapsed_sections": []
    },
    "kernelspec": {
      "name": "python3",
      "display_name": "Python 3"
    },
    "language_info": {
      "name": "python"
    }
  },
  "cells": [
    {
      "cell_type": "code",
      "metadata": {
        "id": "bylYB9YDhoZZ"
      },
      "source": [
        "import torch\n",
        "import torch.nn as nn\n",
        "import numpy as np\n",
        "import matplotlib.pyplot as plt"
      ],
      "execution_count": 47,
      "outputs": []
    },
    {
      "cell_type": "code",
      "metadata": {
        "id": "-kbLvZ6SiR02"
      },
      "source": [
        "# Notation\n",
        "# N = number of samples\n",
        "# T = sequence length\n",
        "# D = number of input features\n",
        "# M = number of hidden units\n",
        "# K = number of output units"
      ],
      "execution_count": 48,
      "outputs": []
    },
    {
      "cell_type": "code",
      "metadata": {
        "id": "ybHwozyoiZXP"
      },
      "source": [
        "# Make some data\n",
        "N = 1\n",
        "T = 10\n",
        "D = 3\n",
        "M = 5\n",
        "K = 2\n",
        "X = np.random.randn(N, T, D)"
      ],
      "execution_count": 49,
      "outputs": []
    },
    {
      "cell_type": "code",
      "metadata": {
        "colab": {
          "base_uri": "https://localhost:8080/"
        },
        "id": "yT82DAO0ingP",
        "outputId": "0e78376a-36f7-429a-8e12-4c454b34e824"
      },
      "source": [
        "X[0,:,0]"
      ],
      "execution_count": 50,
      "outputs": [
        {
          "output_type": "execute_result",
          "data": {
            "text/plain": [
              "array([-1.42202959, -0.30584167, -0.10123845,  1.08277257,  0.16910943,\n",
              "        0.65416014,  0.0113329 ,  0.2241193 , -1.48342856,  0.41035106])"
            ]
          },
          "metadata": {
            "tags": []
          },
          "execution_count": 50
        }
      ]
    },
    {
      "cell_type": "code",
      "metadata": {
        "colab": {
          "base_uri": "https://localhost:8080/"
        },
        "id": "uQfEw_5Biomz",
        "outputId": "176e8d42-4f6e-4a58-b9a8-8bcad0339b82"
      },
      "source": [
        "X[0,:,1]"
      ],
      "execution_count": 51,
      "outputs": [
        {
          "output_type": "execute_result",
          "data": {
            "text/plain": [
              "array([ 0.27789963,  1.43820656, -2.15667515,  0.46328696, -0.79548003,\n",
              "       -0.37435387,  0.4919916 , -1.01477065, -0.24366567, -1.1042471 ])"
            ]
          },
          "metadata": {
            "tags": []
          },
          "execution_count": 51
        }
      ]
    },
    {
      "cell_type": "code",
      "metadata": {
        "id": "4c0DLkMmi3i2"
      },
      "source": [
        "# Make an RNN\n",
        "class SimpleRNN(nn.Module):\n",
        "    def __init__(self, n_inputs, n_hidden, n_outputs):\n",
        "        super(SimpleRNN, self).__init__()\n",
        "        self.D = n_inputs\n",
        "        self.M = n_hidden\n",
        "        self.K = n_outputs\n",
        "        \n",
        "        self.rnn = nn.RNN(input_size=self.D,\n",
        "                          hidden_size=self.M,  \n",
        "                          nonlinearity='tanh',\n",
        "                          batch_first=True)\n",
        "        \n",
        "        self.fc = nn.Linear(self.M, self.K)\n",
        "\n",
        "    def forward(self, X):\n",
        "        # initial hidden states\n",
        "        h0 = torch.zeros(1, X.size(0), self.M)\n",
        "\n",
        "        # get RNN unit output\n",
        "        out, _ = self.rnn(X, h0)\n",
        "\n",
        "        # we only want h(T) at the final time step\n",
        "        # out = self.fc(out[:, -1, :])\n",
        "        out = self.fc(out)\n",
        "        return out"
      ],
      "execution_count": 52,
      "outputs": []
    },
    {
      "cell_type": "code",
      "metadata": {
        "id": "iRvZccjwjARP"
      },
      "source": [
        "# Instantiate the model\n",
        "model = SimpleRNN(n_inputs=D, n_hidden=M, n_outputs=K)"
      ],
      "execution_count": 53,
      "outputs": []
    },
    {
      "cell_type": "code",
      "metadata": {
        "colab": {
          "base_uri": "https://localhost:8080/"
        },
        "id": "XlbSS4IqjDhy",
        "outputId": "1a9ef9a6-b2be-4891-9cb3-d76aeae54bd6"
      },
      "source": [
        "# Get the output\n",
        "inputs = torch.from_numpy(X.astype(np.float32))\n",
        "out = model(inputs)\n",
        "out"
      ],
      "execution_count": 54,
      "outputs": [
        {
          "output_type": "execute_result",
          "data": {
            "text/plain": [
              "tensor([[[ 0.3534, -0.0065],\n",
              "         [ 0.3624, -0.1680],\n",
              "         [ 0.0615, -0.1249],\n",
              "         [ 0.2041, -0.8968],\n",
              "         [ 0.0632, -0.3090],\n",
              "         [ 0.2877, -0.5916],\n",
              "         [ 0.3546, -0.4842],\n",
              "         [ 0.2157, -0.2293],\n",
              "         [-0.0696, -0.1272],\n",
              "         [ 0.2788, -0.3015]]], grad_fn=<AddBackward0>)"
            ]
          },
          "metadata": {
            "tags": []
          },
          "execution_count": 54
        }
      ]
    },
    {
      "cell_type": "code",
      "metadata": {
        "colab": {
          "base_uri": "https://localhost:8080/"
        },
        "id": "K2BegQsdjY-2",
        "outputId": "f53e439c-dba9-4b1c-99f3-32d8d84a7c8d"
      },
      "source": [
        "out.shape"
      ],
      "execution_count": 55,
      "outputs": [
        {
          "output_type": "execute_result",
          "data": {
            "text/plain": [
              "torch.Size([1, 10, 2])"
            ]
          },
          "metadata": {
            "tags": []
          },
          "execution_count": 55
        }
      ]
    },
    {
      "cell_type": "code",
      "metadata": {
        "id": "t-EjoiYmjfcT"
      },
      "source": [
        "# Save for later\n",
        "Yhats_torch = out.detach().numpy()"
      ],
      "execution_count": 56,
      "outputs": []
    },
    {
      "cell_type": "code",
      "metadata": {
        "id": "C0nPVO_vk6Vz"
      },
      "source": [
        "# W_xh input_x to 1st hidden unit connection weights\n",
        "# W_hh hidden to hidden unit connection\n",
        "# Bias connection\n",
        "W_xh, W_hh, b_xh, b_hh = model.rnn.parameters()"
      ],
      "execution_count": 57,
      "outputs": []
    },
    {
      "cell_type": "code",
      "metadata": {
        "colab": {
          "base_uri": "https://localhost:8080/"
        },
        "id": "TvWQy2xUlQcR",
        "outputId": "239bfb8a-9a93-4d75-a8f9-040dad385d5f"
      },
      "source": [
        "W_xh.shape"
      ],
      "execution_count": 58,
      "outputs": [
        {
          "output_type": "execute_result",
          "data": {
            "text/plain": [
              "torch.Size([5, 3])"
            ]
          },
          "metadata": {
            "tags": []
          },
          "execution_count": 58
        }
      ]
    },
    {
      "cell_type": "code",
      "metadata": {
        "colab": {
          "base_uri": "https://localhost:8080/"
        },
        "id": "t2Vled97lSl-",
        "outputId": "bc5dc094-1dd8-473a-ab0a-eed291ef4c23"
      },
      "source": [
        "W_xh"
      ],
      "execution_count": 59,
      "outputs": [
        {
          "output_type": "execute_result",
          "data": {
            "text/plain": [
              "Parameter containing:\n",
              "tensor([[ 0.1077, -0.3469, -0.1210],\n",
              "        [-0.4451,  0.2497,  0.4097],\n",
              "        [-0.2887, -0.3506, -0.0323],\n",
              "        [-0.0926,  0.1427, -0.0499],\n",
              "        [ 0.2744, -0.3330,  0.3996]], requires_grad=True)"
            ]
          },
          "metadata": {
            "tags": []
          },
          "execution_count": 59
        }
      ]
    },
    {
      "cell_type": "code",
      "metadata": {
        "colab": {
          "base_uri": "https://localhost:8080/"
        },
        "id": "omSFgvTzlWdC",
        "outputId": "1182bf5a-82cc-4ad8-a8c9-9270ab68cb48"
      },
      "source": [
        "W_xh = W_xh.data.numpy()\n",
        "W_xh"
      ],
      "execution_count": 60,
      "outputs": [
        {
          "output_type": "execute_result",
          "data": {
            "text/plain": [
              "array([[ 0.10774289, -0.34690294, -0.12098341],\n",
              "       [-0.4451445 ,  0.24967088,  0.40971905],\n",
              "       [-0.28871554, -0.35062268, -0.03232153],\n",
              "       [-0.09263885,  0.14269963, -0.04990234],\n",
              "       [ 0.27435327, -0.33303034,  0.39962932]], dtype=float32)"
            ]
          },
          "metadata": {
            "tags": []
          },
          "execution_count": 60
        }
      ]
    },
    {
      "cell_type": "code",
      "metadata": {
        "colab": {
          "base_uri": "https://localhost:8080/"
        },
        "id": "dty2IvB3lm70",
        "outputId": "36fcde9f-62c5-4dbc-8102-8d72a70f6c8d"
      },
      "source": [
        "W_xh.shape"
      ],
      "execution_count": 61,
      "outputs": [
        {
          "output_type": "execute_result",
          "data": {
            "text/plain": [
              "(5, 3)"
            ]
          },
          "metadata": {
            "tags": []
          },
          "execution_count": 61
        }
      ]
    },
    {
      "cell_type": "code",
      "metadata": {
        "id": "sVdEehUsloqU"
      },
      "source": [
        "b_xh = b_xh.data.numpy()\n",
        "W_hh = W_hh.data.numpy()\n",
        "b_hh = b_hh.data.numpy()"
      ],
      "execution_count": 62,
      "outputs": []
    },
    {
      "cell_type": "code",
      "metadata": {
        "colab": {
          "base_uri": "https://localhost:8080/"
        },
        "id": "iq2sAdWZlugw",
        "outputId": "d3f51ae7-bc4e-4768-9ba5-8aa967878eea"
      },
      "source": [
        "# Did we do it right?\n",
        "W_xh.shape, b_xh.shape, W_hh.shape, b_hh.shape"
      ],
      "execution_count": 63,
      "outputs": [
        {
          "output_type": "execute_result",
          "data": {
            "text/plain": [
              "((5, 3), (5,), (5, 5), (5,))"
            ]
          },
          "metadata": {
            "tags": []
          },
          "execution_count": 63
        }
      ]
    },
    {
      "cell_type": "code",
      "metadata": {
        "id": "IyE2ZazYlv8p"
      },
      "source": [
        "# Now get the FC layer weights\n",
        "Wo, bo = model.fc.parameters()"
      ],
      "execution_count": 64,
      "outputs": []
    },
    {
      "cell_type": "code",
      "metadata": {
        "colab": {
          "base_uri": "https://localhost:8080/"
        },
        "id": "13fEzdTQl9sg",
        "outputId": "fb377b17-5cd6-4c61-a0fe-e09fd49baf4a"
      },
      "source": [
        "Wo = Wo.data.numpy()\n",
        "bo = bo.data.numpy()\n",
        "Wo.shape, bo.shape"
      ],
      "execution_count": 65,
      "outputs": [
        {
          "output_type": "execute_result",
          "data": {
            "text/plain": [
              "((2, 5), (2,))"
            ]
          },
          "metadata": {
            "tags": []
          },
          "execution_count": 65
        }
      ]
    },
    {
      "cell_type": "code",
      "metadata": {
        "id": "58snZ77tl_gt"
      },
      "source": [
        ""
      ],
      "execution_count": 65,
      "outputs": []
    }
  ]
}
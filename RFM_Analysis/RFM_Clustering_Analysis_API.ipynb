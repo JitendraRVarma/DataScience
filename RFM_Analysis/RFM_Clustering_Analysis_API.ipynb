{
 "cells": [
  {
   "cell_type": "code",
   "execution_count": 1,
   "metadata": {
    "colab": {},
    "colab_type": "code",
    "id": "YJ7svo8X4baU"
   },
   "outputs": [],
   "source": [
    "import pandas as pd\n",
    "import pickle"
   ]
  },
  {
   "cell_type": "code",
   "execution_count": 11,
   "metadata": {},
   "outputs": [],
   "source": [
    "def customer_segment_api(data):\n",
    "    \n",
    "    # Load saved Model\n",
    "    scaler = pickle.load(open(\"scaler.pkl\", \"rb\"))\n",
    "    cluster = pickle.load(open(\"cluster.pkl\", \"rb\"))\n",
    "    cluster_encode = pickle.load( open(\"cluster_encode.pkl\", \"rb\"))\n",
    "    \n",
    "    # Compute Monetary Value\n",
    "    data['Monetary'] = data['Quantity'] * data['UnitPrice']\n",
    "\n",
    "    # Compute Recency in days with respect to last date in the dataset\n",
    "    data['Recency'] = (data['InvoiceDate'].describe()['last'] - data['InvoiceDate']).dt.days\n",
    "    \n",
    "    # RFM Feature Extraction\n",
    "    rfm_data = data.groupby(['CustomerID']).agg({'Recency':'min','InvoiceNo':'nunique','Monetary':'sum'}).reset_index()\n",
    "    rfm_data.rename({'InvoiceNo':'Frequency'},axis=1,inplace=True)\n",
    "    \n",
    "    # Feature Scaling\n",
    "    rfm_data[['Recency','Frequency','Monetary']] = scaler.transform(rfm_data[['Recency','Frequency','Monetary']])\n",
    "    \n",
    "    # Predict Cluster Label\n",
    "    rfm_data['Cluster'] = cluster.predict(rfm_data[['Recency','Frequency','Monetary']])\n",
    "    \n",
    "    # Label Cluster \n",
    "    rfm_data['Customer_Segment'] = rfm_data['Cluster'].map(cluster_encode)\n",
    "    \n",
    "    return rfm_data"
   ]
  },
  {
   "cell_type": "code",
   "execution_count": 3,
   "metadata": {
    "colab": {},
    "colab_type": "code",
    "id": "exGnDCw05PDi"
   },
   "outputs": [],
   "source": [
    "data = pd.read_excel('Online Retail.xlsx')"
   ]
  },
  {
   "cell_type": "code",
   "execution_count": 12,
   "metadata": {},
   "outputs": [
    {
     "data": {
      "text/html": [
       "<div>\n",
       "<style scoped>\n",
       "    .dataframe tbody tr th:only-of-type {\n",
       "        vertical-align: middle;\n",
       "    }\n",
       "\n",
       "    .dataframe tbody tr th {\n",
       "        vertical-align: top;\n",
       "    }\n",
       "\n",
       "    .dataframe thead th {\n",
       "        text-align: right;\n",
       "    }\n",
       "</style>\n",
       "<table border=\"1\" class=\"dataframe\">\n",
       "  <thead>\n",
       "    <tr style=\"text-align: right;\">\n",
       "      <th></th>\n",
       "      <th>CustomerID</th>\n",
       "      <th>Recency</th>\n",
       "      <th>Frequency</th>\n",
       "      <th>Monetary</th>\n",
       "      <th>Cluster</th>\n",
       "      <th>Customer_Segment</th>\n",
       "    </tr>\n",
       "  </thead>\n",
       "  <tbody>\n",
       "    <tr>\n",
       "      <th>0</th>\n",
       "      <td>12346.0</td>\n",
       "      <td>0.871314</td>\n",
       "      <td>0.021739</td>\n",
       "      <td>0.000000</td>\n",
       "      <td>3</td>\n",
       "      <td>Bronze</td>\n",
       "    </tr>\n",
       "    <tr>\n",
       "      <th>1</th>\n",
       "      <td>12347.0</td>\n",
       "      <td>0.002681</td>\n",
       "      <td>0.130435</td>\n",
       "      <td>0.201126</td>\n",
       "      <td>2</td>\n",
       "      <td>Gold</td>\n",
       "    </tr>\n",
       "    <tr>\n",
       "      <th>2</th>\n",
       "      <td>12348.0</td>\n",
       "      <td>0.198391</td>\n",
       "      <td>0.065217</td>\n",
       "      <td>0.083868</td>\n",
       "      <td>2</td>\n",
       "      <td>Gold</td>\n",
       "    </tr>\n",
       "    <tr>\n",
       "      <th>3</th>\n",
       "      <td>12349.0</td>\n",
       "      <td>0.048257</td>\n",
       "      <td>0.000000</td>\n",
       "      <td>0.082016</td>\n",
       "      <td>2</td>\n",
       "      <td>Gold</td>\n",
       "    </tr>\n",
       "    <tr>\n",
       "      <th>4</th>\n",
       "      <td>12350.0</td>\n",
       "      <td>0.828418</td>\n",
       "      <td>0.000000</td>\n",
       "      <td>0.015605</td>\n",
       "      <td>3</td>\n",
       "      <td>Bronze</td>\n",
       "    </tr>\n",
       "  </tbody>\n",
       "</table>\n",
       "</div>"
      ],
      "text/plain": [
       "   CustomerID   Recency  Frequency  Monetary  Cluster Customer_Segment\n",
       "0     12346.0  0.871314   0.021739  0.000000        3           Bronze\n",
       "1     12347.0  0.002681   0.130435  0.201126        2             Gold\n",
       "2     12348.0  0.198391   0.065217  0.083868        2             Gold\n",
       "3     12349.0  0.048257   0.000000  0.082016        2             Gold\n",
       "4     12350.0  0.828418   0.000000  0.015605        3           Bronze"
      ]
     },
     "execution_count": 12,
     "metadata": {},
     "output_type": "execute_result"
    }
   ],
   "source": [
    "rfm = customer_segment_api(data)\n",
    "rfm.head()"
   ]
  },
  {
   "cell_type": "code",
   "execution_count": 14,
   "metadata": {},
   "outputs": [
    {
     "data": {
      "text/plain": [
       "Gold        2587\n",
       "Silver       770\n",
       "Bronze       625\n",
       "Platinum     390\n",
       "Name: Customer_Segment, dtype: int64"
      ]
     },
     "execution_count": 14,
     "metadata": {},
     "output_type": "execute_result"
    }
   ],
   "source": [
    "rfm['Customer_Segment'].value_counts()"
   ]
  },
  {
   "cell_type": "code",
   "execution_count": 8,
   "metadata": {},
   "outputs": [],
   "source": []
  },
  {
   "cell_type": "code",
   "execution_count": 9,
   "metadata": {},
   "outputs": [],
   "source": []
  },
  {
   "cell_type": "code",
   "execution_count": null,
   "metadata": {},
   "outputs": [],
   "source": []
  }
 ],
 "metadata": {
  "colab": {
   "name": "RFM_Clustering_Analysis_API.ipynb",
   "provenance": []
  },
  "kernelspec": {
   "display_name": "Python 3",
   "language": "python",
   "name": "python3"
  },
  "language_info": {
   "codemirror_mode": {
    "name": "ipython",
    "version": 3
   },
   "file_extension": ".py",
   "mimetype": "text/x-python",
   "name": "python",
   "nbconvert_exporter": "python",
   "pygments_lexer": "ipython3",
   "version": "3.6.8"
  }
 },
 "nbformat": 4,
 "nbformat_minor": 1
}

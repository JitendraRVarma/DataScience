{
  "cells": [
    {
      "cell_type": "markdown",
      "metadata": {
        "id": "Hp2pnN7Pq2g6"
      },
      "source": [
        "# Classic Control: Control theory problems from the classic RL literature\n",
        "\n",
        "<br><br>\n",
        "\n",
        "In this notebook we will present some classic environments in Reinforcement Learning research. These environments have continuous states spaces (i.e., infinite possible states) and therefore tabular methods cannot solve them. To tackle these environments (and more complex ones) we will have two tools:\n",
        "\n",
        "- Extend the tabular methods with the techniques of discretization and tile coding\n",
        "- Use function approximators (Neural Networks)"
      ]
    },
    {
      "cell_type": "code",
      "source": [
        "# !pip install 'gym[box2d]'\n",
        "# !apt-get install python-opengl -y\n",
        "# !apt install xvfb -y\n",
        "# !pip install pyvirtualdisplay\n",
        "# !pip install https://github.com/pyglet/pyglet/archive/pyglet-1.5-maintenance.zip\n",
        "# !apt-get install ffmpeg -y"
      ],
      "metadata": {
        "id": "fgvBVebMuweU"
      },
      "execution_count": null,
      "outputs": []
    },
    {
      "cell_type": "code",
      "source": [
        "# env.render() gives error in Colab\n",
        "# below code solves display error\n",
        "# https://github.com/openai/gym/issues/1898\n",
        "\n",
        "\n",
        "from pyvirtualdisplay import Display\n",
        "display = Display(visible=0,size=(600,600))\n",
        "display.start()"
      ],
      "metadata": {
        "colab": {
          "base_uri": "https://localhost:8080/"
        },
        "id": "LqlGzHGVu5sb",
        "outputId": "2ccc16ff-44d7-4ed0-8613-f0b598f39e97"
      },
      "execution_count": 1,
      "outputs": [
        {
          "output_type": "execute_result",
          "data": {
            "text/plain": [
              "<pyvirtualdisplay.display.Display at 0x7fe1ec1e2bd0>"
            ]
          },
          "metadata": {},
          "execution_count": 1
        }
      ]
    },
    {
      "cell_type": "code",
      "execution_count": 2,
      "metadata": {
        "id": "Kg5gy0kIq2hG"
      },
      "outputs": [],
      "source": [
        "import gym\n",
        "import numpy as np\n",
        "from IPython import display\n",
        "from matplotlib import pyplot as plt\n"
      ]
    },
    {
      "cell_type": "code",
      "source": [
        "# # Creates a virtual display for OpenAI gym\n",
        "# from IPython import display as ipythondisplay\n",
        "# from pyvirtualdisplay import Display\n",
        "# display = Display(visible=0, size=(400, 300))\n",
        "# display.start()"
      ],
      "metadata": {
        "colab": {
          "base_uri": "https://localhost:8080/"
        },
        "id": "Fqza_Je3vQ4Z",
        "outputId": "41411b7b-35ad-42a0-f1e6-6e28009066d3"
      },
      "execution_count": 3,
      "outputs": [
        {
          "output_type": "execute_result",
          "data": {
            "text/plain": [
              "<pyvirtualdisplay.display.Display at 0x7fb97e5cf190>"
            ]
          },
          "metadata": {},
          "execution_count": 3
        }
      ]
    },
    {
      "cell_type": "code",
      "execution_count": 3,
      "metadata": {
        "id": "U5IA2AvTq2hK"
      },
      "outputs": [],
      "source": [
        "def test_env(env: gym.Env) -> None:\n",
        "    env.reset()\n",
        "    done = False\n",
        "    img = plt.imshow(env.render(mode='rgb_array')) \n",
        "    while not done:\n",
        "        _, _, done, _ = env.step(env.action_space.sample())\n",
        "        img.set_data(env.render(mode='rgb_array')) \n",
        "        plt.axis('off')\n",
        "        display.display(plt.gcf())\n",
        "        display.clear_output(wait=True)"
      ]
    },
    {
      "cell_type": "markdown",
      "metadata": {
        "id": "ubzV5_R0q2hM"
      },
      "source": [
        "## CartPole: Keep the tip of the pole straight."
      ]
    },
    {
      "cell_type": "code",
      "execution_count": 5,
      "metadata": {
        "id": "XjyTI63hq2hO",
        "colab": {
          "base_uri": "https://localhost:8080/",
          "height": 248
        },
        "outputId": "a9b0b9b1-7d88-4bd3-bb9b-28796dddf9fe"
      },
      "outputs": [
        {
          "output_type": "display_data",
          "data": {
            "text/plain": [
              "<Figure size 432x288 with 1 Axes>"
            ],
            "image/png": "[encoded data removed]"
          },
          "metadata": {
            "needs_background": "light"
          }
        }
      ],
      "source": [
        "env = gym.make('CartPole-v1')\n",
        "test_env(env)\n",
        "env.close()"
      ]
    },
    {
      "cell_type": "markdown",
      "metadata": {
        "id": "_UjZmCbJq2hP"
      },
      "source": [
        "##### The state\n",
        "\n",
        "The states of the cartpole task will be represented by a vector of four real numbers:\n",
        "\n",
        "        Num     Observation               Min                     Max\n",
        "        0       Cart Position             -4.8                    4.8\n",
        "        1       Cart Velocity             -Inf                    Inf\n",
        "        2       Pole Angle                -0.418 rad (-24 deg)    0.418 rad (24 deg)\n",
        "        3       Pole Angular Velocity     -Inf                    Inf\n"
      ]
    },
    {
      "cell_type": "code",
      "execution_count": 6,
      "metadata": {
        "id": "dlzWPcQSq2hQ",
        "colab": {
          "base_uri": "https://localhost:8080/"
        },
        "outputId": "93a01fee-46b0-4857-815b-db64df3d0b16"
      },
      "outputs": [
        {
          "output_type": "execute_result",
          "data": {
            "text/plain": [
              "Box(-3.4028234663852886e+38, 3.4028234663852886e+38, (4,), float32)"
            ]
          },
          "metadata": {},
          "execution_count": 6
        }
      ],
      "source": [
        "env.observation_space"
      ]
    },
    {
      "cell_type": "markdown",
      "metadata": {
        "id": "gFMCJdo9q2hS"
      },
      "source": [
        "##### The actions available\n",
        "\n",
        "We can perform two actions in this environment:\n",
        "\n",
        "        0     Push cart to the left.\n",
        "        1     Push cart to the right.\n",
        "\n"
      ]
    },
    {
      "cell_type": "code",
      "execution_count": 7,
      "metadata": {
        "id": "CFmnbqkrq2hT",
        "colab": {
          "base_uri": "https://localhost:8080/"
        },
        "outputId": "c7784ca2-1ff0-4d37-b835-66baf98c4b69"
      },
      "outputs": [
        {
          "output_type": "execute_result",
          "data": {
            "text/plain": [
              "Discrete(2)"
            ]
          },
          "metadata": {},
          "execution_count": 7
        }
      ],
      "source": [
        "env.action_space"
      ]
    },
    {
      "cell_type": "markdown",
      "metadata": {
        "id": "7I2Nto7wq2hV"
      },
      "source": [
        "## Acrobot: Swing the bar up to a certain height."
      ]
    },
    {
      "cell_type": "code",
      "execution_count": 8,
      "metadata": {
        "id": "MSpzYv7kq2hW",
        "colab": {
          "base_uri": "https://localhost:8080/",
          "height": 248
        },
        "outputId": "7cce7c7b-8485-4359-a0a4-427d4d8acdba"
      },
      "outputs": [
        {
          "output_type": "display_data",
          "data": {
            "text/plain": [
              "<Figure size 432x288 with 1 Axes>"
            ],
            "image/png": "[encoded data removed]"
          },
          "metadata": {
            "needs_background": "light"
          }
        }
      ],
      "source": [
        "env = gym.make('Acrobot-v1')\n",
        "test_env(env)\n",
        "env.close()"
      ]
    },
    {
      "cell_type": "markdown",
      "metadata": {
        "id": "LhyKxnUOq2hX"
      },
      "source": [
        "##### The state\n",
        "\n",
        "The states of the cartpole task will be represented by a vector of six real numbers. The first two are the cosine and sine of the first joint. The next two are the cosine and sine of the other joint. The last two are the angular velocities of each joint.\n",
        "    \n",
        "$\\cos(\\theta_1), \\sin(\\theta_1), \\cos(\\theta_2), \\sin(\\theta_2), \\dot\\theta_1, \\dot\\theta_2$"
      ]
    },
    {
      "cell_type": "code",
      "execution_count": 9,
      "metadata": {
        "id": "-0y8ELVZq2hY",
        "colab": {
          "base_uri": "https://localhost:8080/"
        },
        "outputId": "745589dd-ff51-4994-c187-502d596698b4"
      },
      "outputs": [
        {
          "output_type": "execute_result",
          "data": {
            "text/plain": [
              "Box(-28.274333953857422, 28.274333953857422, (6,), float32)"
            ]
          },
          "metadata": {},
          "execution_count": 9
        }
      ],
      "source": [
        "env.observation_space"
      ]
    },
    {
      "cell_type": "markdown",
      "metadata": {
        "id": "4vVWFftQq2hZ"
      },
      "source": [
        "##### The actions available\n",
        "\n",
        "We can perform two actions in this environment:\n",
        "\n",
        "    0    Apply +1 torque on the joint between the links.\n",
        "    1    Apply -1 torque on the joint between the links. "
      ]
    },
    {
      "cell_type": "code",
      "execution_count": 10,
      "metadata": {
        "id": "_OqNwyX2q2hZ",
        "colab": {
          "base_uri": "https://localhost:8080/"
        },
        "outputId": "53260b79-53a4-440c-83cb-02a20b41f9a1"
      },
      "outputs": [
        {
          "output_type": "execute_result",
          "data": {
            "text/plain": [
              "Discrete(3)"
            ]
          },
          "metadata": {},
          "execution_count": 10
        }
      ],
      "source": [
        "env.action_space"
      ]
    },
    {
      "cell_type": "markdown",
      "metadata": {
        "id": "uh9ZiH-Jq2ha"
      },
      "source": [
        "## MountainCar: Reach the goal from the bottom of the valley."
      ]
    },
    {
      "cell_type": "code",
      "execution_count": 11,
      "metadata": {
        "id": "zmcu4rbdq2hb",
        "colab": {
          "base_uri": "https://localhost:8080/",
          "height": 248
        },
        "outputId": "6eb6de82-20e8-4197-e610-7cdac5db14e4"
      },
      "outputs": [
        {
          "output_type": "display_data",
          "data": {
            "text/plain": [
              "<Figure size 432x288 with 1 Axes>"
            ],
            "image/png": "[encoded data removed]"
          },
          "metadata": {
            "needs_background": "light"
          }
        }
      ],
      "source": [
        "env = gym.make('MountainCar-v0')\n",
        "test_env(env)\n",
        "env.close()"
      ]
    },
    {
      "cell_type": "markdown",
      "metadata": {
        "id": "yJNfB1mcq2hc"
      },
      "source": [
        "##### The state\n",
        "\n",
        "The observation space consists of the car position $\\in [-1.2, 0.6]$ and car velocity $\\in [-0.07, 0.07]$"
      ]
    },
    {
      "cell_type": "code",
      "execution_count": 12,
      "metadata": {
        "id": "nTdXyT3Pq2hd",
        "colab": {
          "base_uri": "https://localhost:8080/"
        },
        "outputId": "979ee7b9-c092-4d3d-8c21-ee10777d112b"
      },
      "outputs": [
        {
          "output_type": "execute_result",
          "data": {
            "text/plain": [
              "Box(-1.2000000476837158, 0.6000000238418579, (2,), float32)"
            ]
          },
          "metadata": {},
          "execution_count": 12
        }
      ],
      "source": [
        "env.observation_space"
      ]
    },
    {
      "cell_type": "markdown",
      "metadata": {
        "id": "amRAPCUlq2hd"
      },
      "source": [
        "##### The actions available\n",
        "\n",
        "\n",
        "The actions available three:\n",
        "\n",
        "    0    Accelerate to the left.\n",
        "    1    Don't accelerate.\n",
        "    2    Accelerate to the right."
      ]
    },
    {
      "cell_type": "code",
      "execution_count": 13,
      "metadata": {
        "id": "CM537_smq2he",
        "colab": {
          "base_uri": "https://localhost:8080/"
        },
        "outputId": "d4510de3-3b6d-4388-b267-8c88a1d22275"
      },
      "outputs": [
        {
          "output_type": "execute_result",
          "data": {
            "text/plain": [
              "Discrete(3)"
            ]
          },
          "metadata": {},
          "execution_count": 13
        }
      ],
      "source": [
        "env.action_space"
      ]
    },
    {
      "cell_type": "markdown",
      "metadata": {
        "id": "cG27YJGzq2hf"
      },
      "source": [
        "## Pendulum: swing it and keep it upright"
      ]
    },
    {
      "cell_type": "code",
      "execution_count": 14,
      "metadata": {
        "id": "suinG9GBq2hf",
        "colab": {
          "base_uri": "https://localhost:8080/",
          "height": 248
        },
        "outputId": "42ad13d1-a065-4177-e9b4-3701daae5f17"
      },
      "outputs": [
        {
          "output_type": "display_data",
          "data": {
            "text/plain": [
              "<Figure size 432x288 with 1 Axes>"
            ],
            "image/png": "[encoded data removed]"
          },
          "metadata": {
            "needs_background": "light"
          }
        }
      ],
      "source": [
        "env = gym.make('Pendulum-v0')\n",
        "test_env(env)\n",
        "env.close()"
      ]
    },
    {
      "cell_type": "markdown",
      "metadata": {
        "id": "9OTtcMy6q2hg"
      },
      "source": [
        "##### The state\n",
        "\n",
        "The state is represented by a vector of three values representing $\\cos(\\theta), \\sin(\\theta)$ and speed ($\\theta$ is the angle of the pendulum)."
      ]
    },
    {
      "cell_type": "code",
      "execution_count": 15,
      "metadata": {
        "id": "aWdigq0aq2hh",
        "colab": {
          "base_uri": "https://localhost:8080/"
        },
        "outputId": "6ea78829-622e-45ca-8745-992a196da1e0"
      },
      "outputs": [
        {
          "output_type": "execute_result",
          "data": {
            "text/plain": [
              "Box(-8.0, 8.0, (3,), float32)"
            ]
          },
          "metadata": {},
          "execution_count": 15
        }
      ],
      "source": [
        "env.observation_space"
      ]
    },
    {
      "cell_type": "markdown",
      "metadata": {
        "id": "7mce5t7uq2hh"
      },
      "source": [
        "##### The actions available\n",
        "\n",
        "The action is a real number in the interval $[-2, 2]$ that represents the torque applied on the pendulum."
      ]
    },
    {
      "cell_type": "code",
      "execution_count": 16,
      "metadata": {
        "id": "xNTJgyLxq2hh",
        "colab": {
          "base_uri": "https://localhost:8080/"
        },
        "outputId": "a44bf2bd-dfc7-4658-f3e0-baa316379f89"
      },
      "outputs": [
        {
          "output_type": "execute_result",
          "data": {
            "text/plain": [
              "Box(-2.0, 2.0, (1,), float32)"
            ]
          },
          "metadata": {},
          "execution_count": 16
        }
      ],
      "source": [
        "env.action_space"
      ]
    },
    {
      "cell_type": "markdown",
      "metadata": {
        "id": "WbhtTzY-q2hi"
      },
      "source": [
        "## Resources"
      ]
    },
    {
      "cell_type": "markdown",
      "metadata": {
        "id": "FtCsfu-Xq2hi"
      },
      "source": [
        "[[1] OpenAI gym: classic control environments](https://gym.openai.com/envs/#classic_control)"
      ]
    }
  ],
  "metadata": {
    "kernelspec": {
      "display_name": "Python 3",
      "language": "python",
      "name": "python3"
    },
    "language_info": {
      "codemirror_mode": {
        "name": "ipython",
        "version": 3
      },
      "file_extension": ".py",
      "mimetype": "text/x-python",
      "name": "python",
      "nbconvert_exporter": "python",
      "pygments_lexer": "ipython3",
      "version": "3.8.5"
    },
    "colab": {
      "name": "Classic_Control_Introduction.ipynb",
      "provenance": []
    }
  },
  "nbformat": 4,
  "nbformat_minor": 0
}
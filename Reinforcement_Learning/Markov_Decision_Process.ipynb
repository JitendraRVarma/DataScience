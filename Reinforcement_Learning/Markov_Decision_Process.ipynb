{
  "nbformat": 4,
  "nbformat_minor": 0,
  "metadata": {
    "colab": {
      "name": "Markov_Decision_Process.ipynb",
      "provenance": []
    },
    "kernelspec": {
      "name": "python3",
      "display_name": "Python 3"
    },
    "language_info": {
      "name": "python"
    }
  },
  "cells": [
    {
      "cell_type": "code",
      "source": [
        "# !pip install 'gym[box2d]'\n",
        "# !apt-get install python-opengl -y\n",
        "# !apt install xvfb -y\n",
        "# !pip install pyvirtualdisplay\n",
        "# !pip install https://github.com/pyglet/pyglet/archive/pyglet-1.5-maintenance.zip\n",
        "# !apt-get install ffmpeg -y"
      ],
      "metadata": {
        "id": "2nbOfUWpCQgW"
      },
      "execution_count": null,
      "outputs": []
    },
    {
      "cell_type": "code",
      "source": [
        "# env.render() gives error in Colab\n",
        "# below code solves display error\n",
        "# https://github.com/openai/gym/issues/1898\n",
        "\n",
        "from pyvirtualdisplay import Display\n",
        "display = Display(visible=0,size=(600,600))\n",
        "display.start()"
      ],
      "metadata": {
        "id": "YuFLjicxDU9u"
      },
      "execution_count": null,
      "outputs": []
    },
    {
      "cell_type": "code",
      "execution_count": 2,
      "metadata": {
        "id": "vjSFTxnP_My5"
      },
      "outputs": [],
      "source": [
        "import gym\n",
        "import numpy as np\n",
        "from IPython import display\n",
        "from matplotlib import pyplot as plt\n",
        "\n",
        "from maze_env import Maze"
      ]
    },
    {
      "cell_type": "code",
      "source": [
        "# create Maze environment\n",
        "env = Maze()"
      ],
      "metadata": {
        "id": "7HdBiirc_UQR"
      },
      "execution_count": 3,
      "outputs": []
    },
    {
      "cell_type": "code",
      "source": [
        "# reset the environment\n",
        "initial_state = env.reset()\n",
        "print(f\"The new episode will start in state: {initial_state}\")"
      ],
      "metadata": {
        "colab": {
          "base_uri": "https://localhost:8080/"
        },
        "id": "9eH9SzvfApfN",
        "outputId": "17212e7c-878e-4212-ba73-933d235eb206"
      },
      "execution_count": 4,
      "outputs": [
        {
          "output_type": "stream",
          "name": "stdout",
          "text": [
            "The new episode will start in state: (0, 0)\n"
          ]
        }
      ]
    },
    {
      "cell_type": "code",
      "source": [
        "# plot maze\n",
        "frame = env.render(mode=\"rgb_array\")\n",
        "plt.axis('off')\n",
        "plt.title(f\"State: {initial_state}\")\n",
        "plt.imshow(frame)"
      ],
      "metadata": {
        "colab": {
          "base_uri": "https://localhost:8080/",
          "height": 281
        },
        "id": "OXqQgiJ3A3iT",
        "outputId": "f8532bc9-a87e-4c3f-927f-7d56c0fad912"
      },
      "execution_count": 5,
      "outputs": [
        {
          "output_type": "execute_result",
          "data": {
            "text/plain": [
              "<matplotlib.image.AxesImage at 0x7fa3639d2350>"
            ]
          },
          "metadata": {},
          "execution_count": 5
        },
        {
          "output_type": "display_data",
          "data": {
            "text/plain": [
              "<Figure size 432x288 with 1 Axes>"
            ],
            "image/png": "[encoded data removed]"
          },
          "metadata": {
            "needs_background": "light"
          }
        }
      ]
    },
    {
      "cell_type": "code",
      "source": [
        "# lets take some action\n",
        "\"\"\"\n",
        "        Num     Action\n",
        "        0       Move up\n",
        "        1       Move right\n",
        "        2       Move down\n",
        "        3       Move left\n",
        "\"\"\"\n",
        "\n",
        "action = 2\n",
        "next_state, reward, done, info = env.step(action)\n",
        "\n",
        "print(f\"After moving down 1 row, the agent is in state: {next_state}\")\n",
        "\n",
        "print(f\"After moving down 1 row, we got a reward of: {reward}\")\n",
        "print(\"After moving down 1 row, the task is\", \"\" if done else \"not\", \"finished\")"
      ],
      "metadata": {
        "colab": {
          "base_uri": "https://localhost:8080/"
        },
        "id": "ae931GmVA8Hg",
        "outputId": "d5f07978-d979-4718-a83a-8523d8c22751"
      },
      "execution_count": 6,
      "outputs": [
        {
          "output_type": "stream",
          "name": "stdout",
          "text": [
            "After moving down 1 row, the agent is in state: (1, 0)\n",
            "After moving down 1 row, we got a reward of: -1.0\n",
            "After moving down 1 row, the task is not finished\n"
          ]
        }
      ]
    },
    {
      "cell_type": "code",
      "source": [
        "frame = env.render(mode='rgb_array')\n",
        "plt.axis('off')\n",
        "plt.title(f\"State: {next_state}\")\n",
        "plt.imshow(frame)"
      ],
      "metadata": {
        "colab": {
          "base_uri": "https://localhost:8080/",
          "height": 281
        },
        "id": "qFd_hRymEGeg",
        "outputId": "703c12a2-963f-4d51-ba94-235e557a19a6"
      },
      "execution_count": 7,
      "outputs": [
        {
          "output_type": "execute_result",
          "data": {
            "text/plain": [
              "<matplotlib.image.AxesImage at 0x7fa363964290>"
            ]
          },
          "metadata": {},
          "execution_count": 7
        },
        {
          "output_type": "display_data",
          "data": {
            "text/plain": [
              "<Figure size 432x288 with 1 Axes>"
            ],
            "image/png": "[encoded data removed]"
          },
          "metadata": {
            "needs_background": "light"
          }
        }
      ]
    },
    {
      "cell_type": "code",
      "source": [
        "# completes the task and closes the environment, releasing the associated resources.\n",
        "env.close()"
      ],
      "metadata": {
        "id": "2IkQDun0ENdP"
      },
      "execution_count": 8,
      "outputs": []
    },
    {
      "cell_type": "code",
      "source": [
        "# create new env\n",
        "env = Maze()"
      ],
      "metadata": {
        "id": "k02uNVrTETux"
      },
      "execution_count": 9,
      "outputs": []
    },
    {
      "cell_type": "code",
      "source": [
        "# state space (row,col) --> which imples 5x5 = 25 possible state\n",
        "print(f\"For example, the initial state is: {env.reset()}\")\n",
        "print(f\"The space state is of type: {env.observation_space}\")"
      ],
      "metadata": {
        "colab": {
          "base_uri": "https://localhost:8080/"
        },
        "id": "RQJ2yoK8Eakw",
        "outputId": "bba94c2f-46b0-4287-cfeb-7e711758a314"
      },
      "execution_count": 10,
      "outputs": [
        {
          "output_type": "stream",
          "name": "stdout",
          "text": [
            "For example, the initial state is: (0, 0)\n",
            "The space state is of type: MultiDiscrete([5 5])\n"
          ]
        }
      ]
    },
    {
      "cell_type": "code",
      "source": [
        "print(f\"An example of a valid action is: {env.action_space.sample()}\")\n",
        "print(f\"The action state is of type: {env.action_space}\")"
      ],
      "metadata": {
        "colab": {
          "base_uri": "https://localhost:8080/"
        },
        "id": "-2YLVD7xEfZx",
        "outputId": "33533a9e-e8cd-4a34-93b1-b44d235940f7"
      },
      "execution_count": 11,
      "outputs": [
        {
          "output_type": "stream",
          "name": "stdout",
          "text": [
            "An example of a valid action is: 0\n",
            "The action state is of type: Discrete(4)\n"
          ]
        }
      ]
    },
    {
      "cell_type": "code",
      "source": [
        "# lets take 3 action and generate trajectory\n",
        "\n",
        "env = Maze()\n",
        "state = env.reset()\n",
        "trajectory = []\n",
        "for _ in range(3):\n",
        "    action = env.action_space.sample()\n",
        "    next_state, reward, done, extra_info = env.step(action)\n",
        "    trajectory.append([state, action, reward, done, next_state])\n",
        "    state = next_state\n",
        "env.close()\n",
        "\n",
        "print(f\"Congrats! You just generated your first trajectory:\\n{trajectory}\")"
      ],
      "metadata": {
        "colab": {
          "base_uri": "https://localhost:8080/"
        },
        "id": "MO6ZayETEnQ2",
        "outputId": "4645c11b-8b82-4fab-fd19-d093c1bd76c0"
      },
      "execution_count": 12,
      "outputs": [
        {
          "output_type": "stream",
          "name": "stdout",
          "text": [
            "Congrats! You just generated your first trajectory:\n",
            "[[(0, 0), 2, -1.0, False, (1, 0)], [(1, 0), 0, -1.0, False, (0, 0)], [(0, 0), 0, -1.0, False, (0, 0)]]\n"
          ]
        }
      ]
    },
    {
      "cell_type": "code",
      "source": [
        "# create one episode i.e. take action till task is achived\n",
        "\n",
        "env = Maze()\n",
        "state = env.reset()\n",
        "episode = []\n",
        "done = False\n",
        "while not done:\n",
        "    action = env.action_space.sample()\n",
        "    next_state, reward, done, extra_info = env.step(action)\n",
        "    episode.append([state, action, reward, done, next_state])\n",
        "    state = next_state\n",
        "    env.close()\n",
        "\n",
        "print(f\"Congrats! You just generated your first episode:\")\n",
        "\n"
      ],
      "metadata": {
        "colab": {
          "base_uri": "https://localhost:8080/"
        },
        "id": "PE2xim6mFFiQ",
        "outputId": "40545e81-c07d-40a7-86b4-6d100489a731"
      },
      "execution_count": 15,
      "outputs": [
        {
          "output_type": "stream",
          "name": "stdout",
          "text": [
            "Congrats! You just generated your first episode:\n"
          ]
        }
      ]
    },
    {
      "cell_type": "code",
      "source": [
        "len(episode)"
      ],
      "metadata": {
        "colab": {
          "base_uri": "https://localhost:8080/"
        },
        "id": "w8nfP98fFWQq",
        "outputId": "d069fd02-72d9-4335-ad06-9b524c810adc"
      },
      "execution_count": 17,
      "outputs": [
        {
          "output_type": "execute_result",
          "data": {
            "text/plain": [
              "782"
            ]
          },
          "metadata": {},
          "execution_count": 17
        }
      ]
    },
    {
      "cell_type": "code",
      "source": [
        "episode[0]"
      ],
      "metadata": {
        "colab": {
          "base_uri": "https://localhost:8080/"
        },
        "id": "6cpU0D0sFkwv",
        "outputId": "0ed06255-5ac2-4cbb-bc5f-a41236fbba36"
      },
      "execution_count": 18,
      "outputs": [
        {
          "output_type": "execute_result",
          "data": {
            "text/plain": [
              "[(0, 0), 2, -1.0, False, (1, 0)]"
            ]
          },
          "metadata": {},
          "execution_count": 18
        }
      ]
    },
    {
      "cell_type": "code",
      "source": [
        "# lets compute discounted rewards\n",
        "env = Maze()\n",
        "state = env.reset()\n",
        "done = False\n",
        "gamma = 0.99\n",
        "G_0 = 0\n",
        "t = 0\n",
        "while not done:\n",
        "    action = env.action_space.sample()\n",
        "    _, reward, done, _ = env.step(action)\n",
        "    G_0 += (gamma ** t) * reward\n",
        "    t += 1\n",
        "env.close()\n",
        "\n",
        "print(\n",
        "    f\"\"\"It took us {t} moves to find the exit, \n",
        "    and each reward r(s,a)=-1, so the return amounts to {G_0}\"\"\")"
      ],
      "metadata": {
        "colab": {
          "base_uri": "https://localhost:8080/"
        },
        "id": "GO5qQ3ynFspO",
        "outputId": "83e9afa5-b683-439a-950c-218d06af9bb9"
      },
      "execution_count": 19,
      "outputs": [
        {
          "output_type": "stream",
          "name": "stdout",
          "text": [
            "It took us 342 moves to find the exit, \n",
            "    and each reward r(s,a)=-1, so the return amounts to -96.78458856169604\n"
          ]
        }
      ]
    },
    {
      "cell_type": "code",
      "source": [
        "# define ranndom policy basis which we will take action\n",
        "def random_policy(state):\n",
        "    return np.array([0.25] * 4)"
      ],
      "metadata": {
        "id": "XEGrLv0FGOvF"
      },
      "execution_count": 20,
      "outputs": []
    },
    {
      "cell_type": "code",
      "source": [
        "# random policy\n",
        "env = Maze()\n",
        "state = env.reset()\n",
        "\n",
        "# action probabilities\n",
        "action_probabilities = random_policy(state)\n",
        "\n",
        "objects = ('Up', 'Right', 'Down', 'Left')\n",
        "y_pos = np.arange(len(objects))\n",
        "\n",
        "plt.bar(y_pos, action_probabilities, alpha=0.5)\n",
        "plt.xticks(y_pos, objects)\n",
        "plt.ylabel('P(a|s)')\n",
        "plt.title('Random Policy')\n",
        "plt.tight_layout()\n",
        "\n",
        "plt.show()\n"
      ],
      "metadata": {
        "colab": {
          "base_uri": "https://localhost:8080/",
          "height": 297
        },
        "id": "HXQx2XOyGdd5",
        "outputId": "b3b661c2-aa5d-476c-f69a-0165a4a9293d"
      },
      "execution_count": 21,
      "outputs": [
        {
          "output_type": "display_data",
          "data": {
            "text/plain": [
              "<Figure size 432x288 with 1 Axes>"
            ],
            "image/png": "[encoded data removed]"
          },
          "metadata": {
            "needs_background": "light"
          }
        }
      ]
    },
    {
      "cell_type": "code",
      "source": [
        "# lets play with random policy\n",
        "\n",
        "env.reset()\n",
        "done = False\n",
        "img = plt.imshow(env.render(mode='rgb_array')) \n",
        "while not done:\n",
        "    action = np.random.choice(range(4), 1, p=action_probabilities)\n",
        "    _, _, done, _ = env.step(action)\n",
        "    img.set_data(env.render(mode='rgb_array')) \n",
        "    plt.axis('off')\n",
        "    display.display(plt.gcf())\n",
        "    display.clear_output(wait=True)\n",
        "env.close()"
      ],
      "metadata": {
        "colab": {
          "base_uri": "https://localhost:8080/",
          "height": 248
        },
        "id": "-3OUH4LxGvm6",
        "outputId": "5c5002f6-3d7b-4626-ca8d-db4a7e27f0b8"
      },
      "execution_count": 22,
      "outputs": [
        {
          "output_type": "display_data",
          "data": {
            "text/plain": [
              "<Figure size 432x288 with 1 Axes>"
            ],
            "image/png": "[encoded data removed]"
          },
          "metadata": {
            "needs_background": "light"
          }
        }
      ]
    },
    {
      "cell_type": "code",
      "source": [
        ""
      ],
      "metadata": {
        "id": "sy502Y3FHBoi"
      },
      "execution_count": null,
      "outputs": []
    }
  ]
}
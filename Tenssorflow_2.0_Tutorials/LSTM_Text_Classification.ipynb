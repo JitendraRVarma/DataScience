{
 "cells": [
  {
   "cell_type": "code",
   "execution_count": 1,
   "metadata": {},
   "outputs": [],
   "source": [
    "import pandas as pd\n",
    "import numpy as np\n",
    "import matplotlib.pyplot as plt\n",
    "import seaborn as sns\n",
    "import tensorflow as tf\n",
    "from tensorflow.keras.layers import Input, Dense, GlobalMaxPooling1D, LSTM, Embedding\n",
    "from tensorflow.keras.models import Model\n",
    "from sklearn.model_selection import train_test_split\n",
    "from sklearn.metrics import accuracy_score, f1_score\n",
    "from tensorflow.keras.preprocessing.text import Tokenizer\n",
    "from tensorflow.keras.preprocessing.sequence import pad_sequences\n",
    "sns.set()\n",
    "np.random.seed(10)"
   ]
  },
  {
   "cell_type": "code",
   "execution_count": 2,
   "metadata": {},
   "outputs": [
    {
     "data": {
      "text/html": [
       "<div>\n",
       "<style scoped>\n",
       "    .dataframe tbody tr th:only-of-type {\n",
       "        vertical-align: middle;\n",
       "    }\n",
       "\n",
       "    .dataframe tbody tr th {\n",
       "        vertical-align: top;\n",
       "    }\n",
       "\n",
       "    .dataframe thead th {\n",
       "        text-align: right;\n",
       "    }\n",
       "</style>\n",
       "<table border=\"1\" class=\"dataframe\">\n",
       "  <thead>\n",
       "    <tr style=\"text-align: right;\">\n",
       "      <th></th>\n",
       "      <th>v1</th>\n",
       "      <th>v2</th>\n",
       "      <th>Unnamed: 2</th>\n",
       "      <th>Unnamed: 3</th>\n",
       "      <th>Unnamed: 4</th>\n",
       "    </tr>\n",
       "  </thead>\n",
       "  <tbody>\n",
       "    <tr>\n",
       "      <th>0</th>\n",
       "      <td>ham</td>\n",
       "      <td>Go until jurong point, crazy.. Available only ...</td>\n",
       "      <td>NaN</td>\n",
       "      <td>NaN</td>\n",
       "      <td>NaN</td>\n",
       "    </tr>\n",
       "    <tr>\n",
       "      <th>1</th>\n",
       "      <td>ham</td>\n",
       "      <td>Ok lar... Joking wif u oni...</td>\n",
       "      <td>NaN</td>\n",
       "      <td>NaN</td>\n",
       "      <td>NaN</td>\n",
       "    </tr>\n",
       "  </tbody>\n",
       "</table>\n",
       "</div>"
      ],
      "text/plain": [
       "    v1                                                 v2 Unnamed: 2  \\\n",
       "0  ham  Go until jurong point, crazy.. Available only ...        NaN   \n",
       "1  ham                      Ok lar... Joking wif u oni...        NaN   \n",
       "\n",
       "  Unnamed: 3 Unnamed: 4  \n",
       "0        NaN        NaN  \n",
       "1        NaN        NaN  "
      ]
     },
     "execution_count": 2,
     "metadata": {},
     "output_type": "execute_result"
    }
   ],
   "source": [
    "spam_df = pd.read_csv('spam.csv',encoding='ISO-8859-1')\n",
    "spam_df.head(2)"
   ]
  },
  {
   "cell_type": "code",
   "execution_count": 3,
   "metadata": {},
   "outputs": [
    {
     "data": {
      "text/html": [
       "<div>\n",
       "<style scoped>\n",
       "    .dataframe tbody tr th:only-of-type {\n",
       "        vertical-align: middle;\n",
       "    }\n",
       "\n",
       "    .dataframe tbody tr th {\n",
       "        vertical-align: top;\n",
       "    }\n",
       "\n",
       "    .dataframe thead th {\n",
       "        text-align: right;\n",
       "    }\n",
       "</style>\n",
       "<table border=\"1\" class=\"dataframe\">\n",
       "  <thead>\n",
       "    <tr style=\"text-align: right;\">\n",
       "      <th></th>\n",
       "      <th>spam</th>\n",
       "      <th>text</th>\n",
       "    </tr>\n",
       "  </thead>\n",
       "  <tbody>\n",
       "    <tr>\n",
       "      <th>4635</th>\n",
       "      <td>0</td>\n",
       "      <td>K k pa Had your lunch aha.</td>\n",
       "    </tr>\n",
       "    <tr>\n",
       "      <th>2279</th>\n",
       "      <td>0</td>\n",
       "      <td>Sorry, I'll call later in meeting</td>\n",
       "    </tr>\n",
       "  </tbody>\n",
       "</table>\n",
       "</div>"
      ],
      "text/plain": [
       "      spam                               text\n",
       "4635     0         K k pa Had your lunch aha.\n",
       "2279     0  Sorry, I'll call later in meeting"
      ]
     },
     "execution_count": 3,
     "metadata": {},
     "output_type": "execute_result"
    }
   ],
   "source": [
    "spam_df = spam_df[['v1','v2']].copy()\n",
    "spam_df.columns = ['spam','text']\n",
    "spam_df['spam'] = spam_df['spam'].map({'ham':0,'spam':1})\n",
    "spam_df.sample(2)"
   ]
  },
  {
   "cell_type": "code",
   "execution_count": 4,
   "metadata": {},
   "outputs": [
    {
     "data": {
      "text/plain": [
       "(5572, 2)"
      ]
     },
     "execution_count": 4,
     "metadata": {},
     "output_type": "execute_result"
    }
   ],
   "source": [
    "spam_df.shape"
   ]
  },
  {
   "cell_type": "code",
   "execution_count": 5,
   "metadata": {},
   "outputs": [
    {
     "data": {
      "text/plain": [
       "0    0.865937\n",
       "1    0.134063\n",
       "Name: spam, dtype: float64"
      ]
     },
     "execution_count": 5,
     "metadata": {},
     "output_type": "execute_result"
    }
   ],
   "source": [
    "spam_df['spam'].value_counts(normalize=True)"
   ]
  },
  {
   "cell_type": "code",
   "execution_count": 6,
   "metadata": {},
   "outputs": [],
   "source": [
    "# train test split\n",
    "x_train, x_test, y_train, y_test = train_test_split(spam_df['text'], spam_df['spam'],\n",
    "                                                    test_size=0.20, stratify=spam_df['spam'])"
   ]
  },
  {
   "cell_type": "code",
   "execution_count": 7,
   "metadata": {},
   "outputs": [],
   "source": [
    "# convert sentences to sequence\n",
    "max_vocab_size = 10000\n",
    "tokenizer = Tokenizer(num_words=max_vocab_size)\n",
    "tokenizer.fit_on_texts(x_train)\n",
    "seq_train = tokenizer.texts_to_sequences(x_train)\n",
    "seq_test = tokenizer.texts_to_sequences(x_test)"
   ]
  },
  {
   "cell_type": "code",
   "execution_count": 8,
   "metadata": {},
   "outputs": [
    {
     "data": {
      "text/plain": [
       "7895"
      ]
     },
     "execution_count": 8,
     "metadata": {},
     "output_type": "execute_result"
    }
   ],
   "source": [
    "# num of vocab\n",
    "len(tokenizer.word_index)"
   ]
  },
  {
   "cell_type": "code",
   "execution_count": 9,
   "metadata": {},
   "outputs": [
    {
     "data": {
      "text/plain": [
       "(4457, 189)"
      ]
     },
     "execution_count": 9,
     "metadata": {},
     "output_type": "execute_result"
    }
   ],
   "source": [
    "# pad sequences for equal length\n",
    "input_train = pad_sequences(seq_train)\n",
    "input_train.shape"
   ]
  },
  {
   "cell_type": "code",
   "execution_count": 10,
   "metadata": {},
   "outputs": [
    {
     "data": {
      "text/plain": [
       "(1115, 189)"
      ]
     },
     "execution_count": 10,
     "metadata": {},
     "output_type": "execute_result"
    }
   ],
   "source": [
    "max_length = input_train.shape[1]\n",
    "input_test = pad_sequences(seq_test,maxlen=max_length)\n",
    "input_test.shape"
   ]
  },
  {
   "cell_type": "code",
   "execution_count": 11,
   "metadata": {},
   "outputs": [],
   "source": [
    "# output size for embedding layer\n",
    "out_dim = 10\n",
    "\n",
    "# input size for embedding layer\n",
    "input_dim = len(tokenizer.word_index) + 1 # 1 for 0th index \n",
    "\n",
    "# Create LSTM Model\n",
    "i = Input(shape=(max_length,))\n",
    "\n",
    "# embedding layer\n",
    "x = Embedding(input_dim,out_dim)(i)\n",
    "\n",
    "# LSTM Layer\n",
    "x = LSTM(10,return_sequences=True)(x)\n",
    "\n",
    "# Global max pooling\n",
    "x = GlobalMaxPooling1D()(x)\n",
    "\n",
    "# output layer\n",
    "x = Dense(1,activation='sigmoid')(x)\n",
    "\n",
    "# Model\n",
    "model = Model(i,x)"
   ]
  },
  {
   "cell_type": "code",
   "execution_count": 12,
   "metadata": {},
   "outputs": [],
   "source": [
    "# Compile\n",
    "model.compile(loss='binary_crossentropy',optimizer='adam',metrics=['accuracy','AUC'])"
   ]
  },
  {
   "cell_type": "code",
   "execution_count": 13,
   "metadata": {},
   "outputs": [
    {
     "name": "stdout",
     "output_type": "stream",
     "text": [
      "Train on 4457 samples, validate on 1115 samples\n",
      "Epoch 1/10\n",
      "4457/4457 [==============================] - 21s 5ms/sample - loss: 0.4933 - accuracy: 0.8600 - AUC: 0.5771 - val_loss: 0.3409 - val_accuracy: 0.8664 - val_AUC: 0.9441\n",
      "Epoch 2/10\n",
      "4457/4457 [==============================] - 18s 4ms/sample - loss: 0.3091 - accuracy: 0.8658 - AUC: 0.9589 - val_loss: 0.2895 - val_accuracy: 0.8664 - val_AUC: 0.9730\n",
      "Epoch 3/10\n",
      "4457/4457 [==============================] - 21s 5ms/sample - loss: 0.2690 - accuracy: 0.8658 - AUC: 0.9809 - val_loss: 0.2522 - val_accuracy: 0.8664 - val_AUC: 0.9819\n",
      "Epoch 4/10\n",
      "4457/4457 [==============================] - 18s 4ms/sample - loss: 0.2294 - accuracy: 0.8658 - AUC: 0.9838 - val_loss: 0.2122 - val_accuracy: 0.8664 - val_AUC: 0.9822\n",
      "Epoch 5/10\n",
      "4457/4457 [==============================] - 18s 4ms/sample - loss: 0.1899 - accuracy: 0.8658 - AUC: 0.9895 - val_loss: 0.1808 - val_accuracy: 0.8664 - val_AUC: 0.9822\n",
      "Epoch 6/10\n",
      "4457/4457 [==============================] - 18s 4ms/sample - loss: 0.1610 - accuracy: 0.9621 - AUC: 0.9911 - val_loss: 0.1596 - val_accuracy: 0.9821 - val_AUC: 0.9825\n",
      "Epoch 7/10\n",
      "4457/4457 [==============================] - 21s 5ms/sample - loss: 0.1409 - accuracy: 0.9951 - AUC: 0.9914 - val_loss: 0.1430 - val_accuracy: 0.9892 - val_AUC: 0.9853\n",
      "Epoch 8/10\n",
      "4457/4457 [==============================] - 22s 5ms/sample - loss: 0.1257 - accuracy: 0.9964 - AUC: 0.9957 - val_loss: 0.1306 - val_accuracy: 0.9901 - val_AUC: 0.9894\n",
      "Epoch 9/10\n",
      "4457/4457 [==============================] - 23s 5ms/sample - loss: 0.1135 - accuracy: 0.9971 - AUC: 0.9959 - val_loss: 0.1194 - val_accuracy: 0.9919 - val_AUC: 0.9856\n",
      "Epoch 10/10\n",
      "4457/4457 [==============================] - 22s 5ms/sample - loss: 0.1027 - accuracy: 0.9978 - AUC: 0.9955 - val_loss: 0.1121 - val_accuracy: 0.9910 - val_AUC: 0.9859\n"
     ]
    }
   ],
   "source": [
    "# training\n",
    "hist = model.fit(input_train,y_train.values,epochs=10,validation_data=(input_test,y_test.values))"
   ]
  },
  {
   "cell_type": "code",
   "execution_count": 14,
   "metadata": {},
   "outputs": [
    {
     "name": "stdout",
     "output_type": "stream",
     "text": [
      "Test Accuracy 0.9910313901345291\n",
      "Test F1 Score 0.9652777777777778\n"
     ]
    }
   ],
   "source": [
    "# Check accuracy on test dataset\n",
    "predict = model.predict(input_test).round().astype(int)\n",
    "print('Test Accuracy {}'.format(accuracy_score(y_test,predict)))\n",
    "print('Test F1 Score {}'.format(f1_score(y_test,predict))) "
   ]
  },
  {
   "cell_type": "code",
   "execution_count": 15,
   "metadata": {},
   "outputs": [
    {
     "data": {
      "text/plain": [
       "<matplotlib.legend.Legend at 0x190e0fcfa90>"
      ]
     },
     "execution_count": 15,
     "metadata": {},
     "output_type": "execute_result"
    },
    {
     "data": {
      "image/png": "[encoded data removed]",
      "text/plain": [
       "<Figure size 1080x576 with 1 Axes>"
      ]
     },
     "metadata": {
      "needs_background": "light"
     },
     "output_type": "display_data"
    }
   ],
   "source": [
    "# plot loss \n",
    "plt.figure(figsize=(15,8))\n",
    "plt.plot(hist.history['loss'], label='loss')\n",
    "plt.plot(hist.history['val_loss'], label='val_loss')\n",
    "plt.legend()"
   ]
  },
  {
   "cell_type": "code",
   "execution_count": 16,
   "metadata": {},
   "outputs": [
    {
     "data": {
      "text/plain": [
       "<matplotlib.legend.Legend at 0x190dfa27ac8>"
      ]
     },
     "execution_count": 16,
     "metadata": {},
     "output_type": "execute_result"
    },
    {
     "data": {
      "image/png": "[encoded data removed]",
      "text/plain": [
       "<Figure size 1080x576 with 1 Axes>"
      ]
     },
     "metadata": {
      "needs_background": "light"
     },
     "output_type": "display_data"
    }
   ],
   "source": [
    "# plot AUC\n",
    "plt.figure(figsize=(15,8))\n",
    "plt.plot(hist.history['AUC'], label='AUC')\n",
    "plt.plot(hist.history['val_AUC'], label='val_AUC')\n",
    "plt.legend()"
   ]
  },
  {
   "cell_type": "code",
   "execution_count": null,
   "metadata": {},
   "outputs": [],
   "source": []
  }
 ],
 "metadata": {
  "kernelspec": {
   "display_name": "Python 3",
   "language": "python",
   "name": "python3"
  },
  "language_info": {
   "codemirror_mode": {
    "name": "ipython",
    "version": 3
   },
   "file_extension": ".py",
   "mimetype": "text/x-python",
   "name": "python",
   "nbconvert_exporter": "python",
   "pygments_lexer": "ipython3",
   "version": "3.6.8"
  }
 },
 "nbformat": 4,
 "nbformat_minor": 2
}

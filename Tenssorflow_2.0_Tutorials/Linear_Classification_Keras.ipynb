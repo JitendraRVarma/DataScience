{
 "cells": [
  {
   "cell_type": "code",
   "execution_count": 1,
   "metadata": {},
   "outputs": [
    {
     "name": "stdout",
     "output_type": "stream",
     "text": [
      "2.0.0\n"
     ]
    }
   ],
   "source": [
    "import tensorflow as tf\n",
    "import pandas as pd\n",
    "import matplotlib.pyplot as plt\n",
    "import seaborn as sns\n",
    "from sklearn.datasets import load_breast_cancer\n",
    "from sklearn.model_selection import train_test_split\n",
    "from sklearn.preprocessing import StandardScaler\n",
    "from sklearn.metrics import accuracy_score,f1_score\n",
    "pd.options.display.max_columns =100\n",
    "sns.set()\n",
    "print(tf.__version__)"
   ]
  },
  {
   "cell_type": "code",
   "execution_count": 2,
   "metadata": {},
   "outputs": [
    {
     "data": {
      "text/plain": [
       "dict_keys(['data', 'target', 'target_names', 'DESCR', 'feature_names', 'filename'])"
      ]
     },
     "execution_count": 2,
     "metadata": {},
     "output_type": "execute_result"
    }
   ],
   "source": [
    "# Load Dataset\n",
    "data = load_breast_cancer()\n",
    "data.keys()"
   ]
  },
  {
   "cell_type": "code",
   "execution_count": 3,
   "metadata": {},
   "outputs": [
    {
     "data": {
      "text/html": [
       "<div>\n",
       "<style scoped>\n",
       "    .dataframe tbody tr th:only-of-type {\n",
       "        vertical-align: middle;\n",
       "    }\n",
       "\n",
       "    .dataframe tbody tr th {\n",
       "        vertical-align: top;\n",
       "    }\n",
       "\n",
       "    .dataframe thead th {\n",
       "        text-align: right;\n",
       "    }\n",
       "</style>\n",
       "<table border=\"1\" class=\"dataframe\">\n",
       "  <thead>\n",
       "    <tr style=\"text-align: right;\">\n",
       "      <th></th>\n",
       "      <th>mean radius</th>\n",
       "      <th>mean texture</th>\n",
       "      <th>mean perimeter</th>\n",
       "      <th>mean area</th>\n",
       "      <th>mean smoothness</th>\n",
       "      <th>mean compactness</th>\n",
       "      <th>mean concavity</th>\n",
       "      <th>mean concave points</th>\n",
       "      <th>mean symmetry</th>\n",
       "      <th>mean fractal dimension</th>\n",
       "      <th>radius error</th>\n",
       "      <th>texture error</th>\n",
       "      <th>perimeter error</th>\n",
       "      <th>area error</th>\n",
       "      <th>smoothness error</th>\n",
       "      <th>compactness error</th>\n",
       "      <th>concavity error</th>\n",
       "      <th>concave points error</th>\n",
       "      <th>symmetry error</th>\n",
       "      <th>fractal dimension error</th>\n",
       "      <th>worst radius</th>\n",
       "      <th>worst texture</th>\n",
       "      <th>worst perimeter</th>\n",
       "      <th>worst area</th>\n",
       "      <th>worst smoothness</th>\n",
       "      <th>worst compactness</th>\n",
       "      <th>worst concavity</th>\n",
       "      <th>worst concave points</th>\n",
       "      <th>worst symmetry</th>\n",
       "      <th>worst fractal dimension</th>\n",
       "      <th>cancer</th>\n",
       "    </tr>\n",
       "  </thead>\n",
       "  <tbody>\n",
       "    <tr>\n",
       "      <th>397</th>\n",
       "      <td>12.80</td>\n",
       "      <td>17.46</td>\n",
       "      <td>83.05</td>\n",
       "      <td>508.3</td>\n",
       "      <td>0.08044</td>\n",
       "      <td>0.08895</td>\n",
       "      <td>0.07390</td>\n",
       "      <td>0.04083</td>\n",
       "      <td>0.1574</td>\n",
       "      <td>0.05750</td>\n",
       "      <td>0.3639</td>\n",
       "      <td>1.2650</td>\n",
       "      <td>2.668</td>\n",
       "      <td>30.57</td>\n",
       "      <td>0.005421</td>\n",
       "      <td>0.03477</td>\n",
       "      <td>0.04545</td>\n",
       "      <td>0.013840</td>\n",
       "      <td>0.01869</td>\n",
       "      <td>0.004067</td>\n",
       "      <td>13.74</td>\n",
       "      <td>21.06</td>\n",
       "      <td>90.72</td>\n",
       "      <td>591.0</td>\n",
       "      <td>0.09534</td>\n",
       "      <td>0.1812</td>\n",
       "      <td>0.1901</td>\n",
       "      <td>0.08296</td>\n",
       "      <td>0.1988</td>\n",
       "      <td>0.07053</td>\n",
       "      <td>1</td>\n",
       "    </tr>\n",
       "    <tr>\n",
       "      <th>356</th>\n",
       "      <td>13.05</td>\n",
       "      <td>18.59</td>\n",
       "      <td>85.09</td>\n",
       "      <td>512.0</td>\n",
       "      <td>0.10820</td>\n",
       "      <td>0.13040</td>\n",
       "      <td>0.09603</td>\n",
       "      <td>0.05603</td>\n",
       "      <td>0.2035</td>\n",
       "      <td>0.06501</td>\n",
       "      <td>0.3106</td>\n",
       "      <td>1.5100</td>\n",
       "      <td>2.590</td>\n",
       "      <td>21.57</td>\n",
       "      <td>0.007807</td>\n",
       "      <td>0.03932</td>\n",
       "      <td>0.05112</td>\n",
       "      <td>0.018760</td>\n",
       "      <td>0.02860</td>\n",
       "      <td>0.005715</td>\n",
       "      <td>14.19</td>\n",
       "      <td>24.85</td>\n",
       "      <td>94.22</td>\n",
       "      <td>591.2</td>\n",
       "      <td>0.13430</td>\n",
       "      <td>0.2658</td>\n",
       "      <td>0.2573</td>\n",
       "      <td>0.12580</td>\n",
       "      <td>0.3113</td>\n",
       "      <td>0.08317</td>\n",
       "      <td>1</td>\n",
       "    </tr>\n",
       "    <tr>\n",
       "      <th>73</th>\n",
       "      <td>13.80</td>\n",
       "      <td>15.79</td>\n",
       "      <td>90.43</td>\n",
       "      <td>584.1</td>\n",
       "      <td>0.10070</td>\n",
       "      <td>0.12800</td>\n",
       "      <td>0.07789</td>\n",
       "      <td>0.05069</td>\n",
       "      <td>0.1662</td>\n",
       "      <td>0.06566</td>\n",
       "      <td>0.2787</td>\n",
       "      <td>0.6205</td>\n",
       "      <td>1.957</td>\n",
       "      <td>23.35</td>\n",
       "      <td>0.004717</td>\n",
       "      <td>0.02065</td>\n",
       "      <td>0.01759</td>\n",
       "      <td>0.009206</td>\n",
       "      <td>0.01220</td>\n",
       "      <td>0.003130</td>\n",
       "      <td>16.57</td>\n",
       "      <td>20.86</td>\n",
       "      <td>110.30</td>\n",
       "      <td>812.4</td>\n",
       "      <td>0.14110</td>\n",
       "      <td>0.3542</td>\n",
       "      <td>0.2779</td>\n",
       "      <td>0.13830</td>\n",
       "      <td>0.2589</td>\n",
       "      <td>0.10300</td>\n",
       "      <td>0</td>\n",
       "    </tr>\n",
       "  </tbody>\n",
       "</table>\n",
       "</div>"
      ],
      "text/plain": [
       "     mean radius  mean texture  mean perimeter  mean area  mean smoothness  \\\n",
       "397        12.80         17.46           83.05      508.3          0.08044   \n",
       "356        13.05         18.59           85.09      512.0          0.10820   \n",
       "73         13.80         15.79           90.43      584.1          0.10070   \n",
       "\n",
       "     mean compactness  mean concavity  mean concave points  mean symmetry  \\\n",
       "397           0.08895         0.07390              0.04083         0.1574   \n",
       "356           0.13040         0.09603              0.05603         0.2035   \n",
       "73            0.12800         0.07789              0.05069         0.1662   \n",
       "\n",
       "     mean fractal dimension  radius error  texture error  perimeter error  \\\n",
       "397                 0.05750        0.3639         1.2650            2.668   \n",
       "356                 0.06501        0.3106         1.5100            2.590   \n",
       "73                  0.06566        0.2787         0.6205            1.957   \n",
       "\n",
       "     area error  smoothness error  compactness error  concavity error  \\\n",
       "397       30.57          0.005421            0.03477          0.04545   \n",
       "356       21.57          0.007807            0.03932          0.05112   \n",
       "73        23.35          0.004717            0.02065          0.01759   \n",
       "\n",
       "     concave points error  symmetry error  fractal dimension error  \\\n",
       "397              0.013840         0.01869                 0.004067   \n",
       "356              0.018760         0.02860                 0.005715   \n",
       "73               0.009206         0.01220                 0.003130   \n",
       "\n",
       "     worst radius  worst texture  worst perimeter  worst area  \\\n",
       "397         13.74          21.06            90.72       591.0   \n",
       "356         14.19          24.85            94.22       591.2   \n",
       "73          16.57          20.86           110.30       812.4   \n",
       "\n",
       "     worst smoothness  worst compactness  worst concavity  \\\n",
       "397           0.09534             0.1812           0.1901   \n",
       "356           0.13430             0.2658           0.2573   \n",
       "73            0.14110             0.3542           0.2779   \n",
       "\n",
       "     worst concave points  worst symmetry  worst fractal dimension  cancer  \n",
       "397               0.08296          0.1988                  0.07053       1  \n",
       "356               0.12580          0.3113                  0.08317       1  \n",
       "73                0.13830          0.2589                  0.10300       0  "
      ]
     },
     "execution_count": 3,
     "metadata": {},
     "output_type": "execute_result"
    }
   ],
   "source": [
    "# Convert data into dataframe\n",
    "df = pd.DataFrame(data['data'],columns=data['feature_names'])\n",
    "df['cancer'] = data['target']\n",
    "df.sample(3)"
   ]
  },
  {
   "cell_type": "code",
   "execution_count": 4,
   "metadata": {},
   "outputs": [
    {
     "data": {
      "text/plain": [
       "(569, 31)"
      ]
     },
     "execution_count": 4,
     "metadata": {},
     "output_type": "execute_result"
    }
   ],
   "source": [
    "df.shape"
   ]
  },
  {
   "cell_type": "code",
   "execution_count": 5,
   "metadata": {},
   "outputs": [
    {
     "data": {
      "text/plain": [
       "1    0.627417\n",
       "0    0.372583\n",
       "Name: cancer, dtype: float64"
      ]
     },
     "execution_count": 5,
     "metadata": {},
     "output_type": "execute_result"
    }
   ],
   "source": [
    "df['cancer'].value_counts(normalize=True)"
   ]
  },
  {
   "cell_type": "code",
   "execution_count": 6,
   "metadata": {},
   "outputs": [],
   "source": [
    "# train test split\n",
    "train,test = train_test_split(df, test_size=0.20,stratify=df['cancer'])"
   ]
  },
  {
   "cell_type": "code",
   "execution_count": 7,
   "metadata": {},
   "outputs": [],
   "source": [
    "# input and output for train and test dataset\n",
    "X_train = train.drop('cancer',axis=1)\n",
    "y_train = train['cancer'].values\n",
    "\n",
    "X_test = test.drop('cancer',axis=1)\n",
    "y_test = test['cancer'].values"
   ]
  },
  {
   "cell_type": "code",
   "execution_count": 8,
   "metadata": {},
   "outputs": [],
   "source": [
    "# scale train and test dataset\n",
    "scaler = StandardScaler()\n",
    "X_train = scaler.fit_transform(X_train)\n",
    "X_test  = scaler.transform(X_test)"
   ]
  },
  {
   "cell_type": "code",
   "execution_count": 9,
   "metadata": {},
   "outputs": [],
   "source": [
    "# model building using karas endpoint\n",
    "model = tf.keras.models.Sequential()\n",
    "model.add(tf.keras.layers.Dense(1,input_shape=(X_train.shape[1],),activation='sigmoid'))\n",
    "model.compile(optimizer='adam',loss='binary_crossentropy', metrics=['accuracy','AUC'])                               "
   ]
  },
  {
   "cell_type": "code",
   "execution_count": 10,
   "metadata": {
    "scrolled": false
   },
   "outputs": [
    {
     "name": "stdout",
     "output_type": "stream",
     "text": [
      "Train on 455 samples, validate on 114 samples\n",
      "Epoch 1/100\n",
      "455/455 [==============================] - 2s 4ms/sample - loss: 0.4404 - accuracy: 0.8264 - AUC: 0.8964 - val_loss: 0.4119 - val_accuracy: 0.8421 - val_AUC: 0.9191\n",
      "Epoch 2/100\n",
      "455/455 [==============================] - 0s 240us/sample - loss: 0.3946 - accuracy: 0.8527 - AUC: 0.9225 - val_loss: 0.3741 - val_accuracy: 0.8421 - val_AUC: 0.9377\n",
      "Epoch 3/100\n",
      "455/455 [==============================] - 0s 172us/sample - loss: 0.3571 - accuracy: 0.8725 - AUC: 0.9384 - val_loss: 0.3424 - val_accuracy: 0.8509 - val_AUC: 0.9539\n",
      "Epoch 4/100\n",
      "455/455 [==============================] - 0s 206us/sample - loss: 0.3268 - accuracy: 0.8923 - AUC: 0.9499 - val_loss: 0.3160 - val_accuracy: 0.8509 - val_AUC: 0.9625\n",
      "Epoch 5/100\n",
      "455/455 [==============================] - 0s 206us/sample - loss: 0.3020 - accuracy: 0.9143 - AUC: 0.9572 - val_loss: 0.2946 - val_accuracy: 0.8772 - val_AUC: 0.9678\n",
      "Epoch 6/100\n",
      "455/455 [==============================] - 0s 240us/sample - loss: 0.2818 - accuracy: 0.9187 - AUC: 0.9623 - val_loss: 0.2770 - val_accuracy: 0.8772 - val_AUC: 0.9716\n",
      "Epoch 7/100\n",
      "455/455 [==============================] - 0s 206us/sample - loss: 0.2644 - accuracy: 0.9231 - AUC: 0.9673 - val_loss: 0.2614 - val_accuracy: 0.8947 - val_AUC: 0.9745\n",
      "Epoch 8/100\n",
      "455/455 [==============================] - 0s 206us/sample - loss: 0.2496 - accuracy: 0.9275 - AUC: 0.9706 - val_loss: 0.2476 - val_accuracy: 0.9035 - val_AUC: 0.9769\n",
      "Epoch 9/100\n",
      "455/455 [==============================] - 0s 206us/sample - loss: 0.2365 - accuracy: 0.9253 - AUC: 0.9738 - val_loss: 0.2355 - val_accuracy: 0.9211 - val_AUC: 0.9807\n",
      "Epoch 10/100\n",
      "455/455 [==============================] - 0s 206us/sample - loss: 0.2249 - accuracy: 0.9363 - AUC: 0.9763 - val_loss: 0.2242 - val_accuracy: 0.9211 - val_AUC: 0.9833\n",
      "Epoch 11/100\n",
      "455/455 [==============================] - 0s 206us/sample - loss: 0.2147 - accuracy: 0.9407 - AUC: 0.9785 - val_loss: 0.2145 - val_accuracy: 0.9298 - val_AUC: 0.9866\n",
      "Epoch 12/100\n",
      "455/455 [==============================] - 0s 206us/sample - loss: 0.2058 - accuracy: 0.9407 - AUC: 0.9802 - val_loss: 0.2060 - val_accuracy: 0.9298 - val_AUC: 0.9884\n",
      "Epoch 13/100\n",
      "455/455 [==============================] - 0s 240us/sample - loss: 0.1980 - accuracy: 0.9473 - AUC: 0.9815 - val_loss: 0.1985 - val_accuracy: 0.9298 - val_AUC: 0.9884\n",
      "Epoch 14/100\n",
      "455/455 [==============================] - 0s 206us/sample - loss: 0.1908 - accuracy: 0.9473 - AUC: 0.9826 - val_loss: 0.1917 - val_accuracy: 0.9298 - val_AUC: 0.9894\n",
      "Epoch 15/100\n",
      "455/455 [==============================] - 0s 206us/sample - loss: 0.1844 - accuracy: 0.9473 - AUC: 0.9837 - val_loss: 0.1856 - val_accuracy: 0.9298 - val_AUC: 0.9894\n",
      "Epoch 16/100\n",
      "455/455 [==============================] - 0s 206us/sample - loss: 0.1785 - accuracy: 0.9516 - AUC: 0.9846 - val_loss: 0.1800 - val_accuracy: 0.9298 - val_AUC: 0.9899\n",
      "Epoch 17/100\n",
      "455/455 [==============================] - 0s 206us/sample - loss: 0.1732 - accuracy: 0.9560 - AUC: 0.9853 - val_loss: 0.1748 - val_accuracy: 0.9298 - val_AUC: 0.9906\n",
      "Epoch 18/100\n",
      "455/455 [==============================] - 0s 206us/sample - loss: 0.1682 - accuracy: 0.9538 - AUC: 0.9864 - val_loss: 0.1701 - val_accuracy: 0.9298 - val_AUC: 0.9912\n",
      "Epoch 19/100\n",
      "455/455 [==============================] - 0s 172us/sample - loss: 0.1637 - accuracy: 0.9560 - AUC: 0.9870 - val_loss: 0.1655 - val_accuracy: 0.9386 - val_AUC: 0.9917\n",
      "Epoch 20/100\n",
      "455/455 [==============================] - 0s 206us/sample - loss: 0.1594 - accuracy: 0.9582 - AUC: 0.9876 - val_loss: 0.1613 - val_accuracy: 0.9386 - val_AUC: 0.9919\n",
      "Epoch 21/100\n",
      "455/455 [==============================] - 0s 206us/sample - loss: 0.1554 - accuracy: 0.9604 - AUC: 0.9880 - val_loss: 0.1575 - val_accuracy: 0.9474 - val_AUC: 0.9921\n",
      "Epoch 22/100\n",
      "455/455 [==============================] - 0s 206us/sample - loss: 0.1518 - accuracy: 0.9604 - AUC: 0.9885 - val_loss: 0.1537 - val_accuracy: 0.9474 - val_AUC: 0.9927\n",
      "Epoch 23/100\n",
      "455/455 [==============================] - 0s 206us/sample - loss: 0.1482 - accuracy: 0.9604 - AUC: 0.9889 - val_loss: 0.1504 - val_accuracy: 0.9561 - val_AUC: 0.9934\n",
      "Epoch 24/100\n",
      "455/455 [==============================] - 0s 172us/sample - loss: 0.1450 - accuracy: 0.9604 - AUC: 0.9891 - val_loss: 0.1474 - val_accuracy: 0.9561 - val_AUC: 0.9936\n",
      "Epoch 25/100\n",
      "455/455 [==============================] - 0s 172us/sample - loss: 0.1421 - accuracy: 0.9604 - AUC: 0.9895 - val_loss: 0.1443 - val_accuracy: 0.9737 - val_AUC: 0.9939\n",
      "Epoch 26/100\n",
      "455/455 [==============================] - 0s 172us/sample - loss: 0.1393 - accuracy: 0.9604 - AUC: 0.9900 - val_loss: 0.1414 - val_accuracy: 0.9737 - val_AUC: 0.9944\n",
      "Epoch 27/100\n",
      "455/455 [==============================] - 0s 206us/sample - loss: 0.1366 - accuracy: 0.9626 - AUC: 0.9900 - val_loss: 0.1388 - val_accuracy: 0.9737 - val_AUC: 0.9945\n",
      "Epoch 28/100\n",
      "455/455 [==============================] - 0s 240us/sample - loss: 0.1341 - accuracy: 0.9648 - AUC: 0.9904 - val_loss: 0.1364 - val_accuracy: 0.9737 - val_AUC: 0.9945\n",
      "Epoch 29/100\n",
      "455/455 [==============================] - 0s 206us/sample - loss: 0.1317 - accuracy: 0.9648 - AUC: 0.9907 - val_loss: 0.1341 - val_accuracy: 0.9737 - val_AUC: 0.9949\n",
      "Epoch 30/100\n",
      "455/455 [==============================] - 0s 206us/sample - loss: 0.1293 - accuracy: 0.9648 - AUC: 0.9909 - val_loss: 0.1318 - val_accuracy: 0.9737 - val_AUC: 0.9949\n",
      "Epoch 31/100\n",
      "455/455 [==============================] - 0s 206us/sample - loss: 0.1273 - accuracy: 0.9648 - AUC: 0.9912 - val_loss: 0.1296 - val_accuracy: 0.9737 - val_AUC: 0.9950\n",
      "Epoch 32/100\n",
      "455/455 [==============================] - 0s 206us/sample - loss: 0.1253 - accuracy: 0.9648 - AUC: 0.9913 - val_loss: 0.1275 - val_accuracy: 0.9737 - val_AUC: 0.9950\n",
      "Epoch 33/100\n",
      "455/455 [==============================] - 0s 206us/sample - loss: 0.1234 - accuracy: 0.9648 - AUC: 0.9914 - val_loss: 0.1258 - val_accuracy: 0.9737 - val_AUC: 0.9950\n",
      "Epoch 34/100\n",
      "455/455 [==============================] - 0s 206us/sample - loss: 0.1217 - accuracy: 0.9648 - AUC: 0.9917 - val_loss: 0.1240 - val_accuracy: 0.9737 - val_AUC: 0.9950\n",
      "Epoch 35/100\n",
      "455/455 [==============================] - 0s 172us/sample - loss: 0.1200 - accuracy: 0.9648 - AUC: 0.9918 - val_loss: 0.1225 - val_accuracy: 0.9737 - val_AUC: 0.9950\n",
      "Epoch 36/100\n",
      "455/455 [==============================] - 0s 172us/sample - loss: 0.1184 - accuracy: 0.9670 - AUC: 0.9920 - val_loss: 0.1209 - val_accuracy: 0.9737 - val_AUC: 0.9954\n",
      "Epoch 37/100\n",
      "455/455 [==============================] - 0s 206us/sample - loss: 0.1168 - accuracy: 0.9714 - AUC: 0.9922 - val_loss: 0.1196 - val_accuracy: 0.9737 - val_AUC: 0.9957\n",
      "Epoch 38/100\n",
      "455/455 [==============================] - 0s 206us/sample - loss: 0.1153 - accuracy: 0.9714 - AUC: 0.9925 - val_loss: 0.1180 - val_accuracy: 0.9737 - val_AUC: 0.9960\n",
      "Epoch 39/100\n",
      "455/455 [==============================] - 0s 211us/sample - loss: 0.1138 - accuracy: 0.9714 - AUC: 0.9926 - val_loss: 0.1165 - val_accuracy: 0.9737 - val_AUC: 0.9962\n",
      "Epoch 40/100\n",
      "455/455 [==============================] - 0s 174us/sample - loss: 0.1125 - accuracy: 0.9714 - AUC: 0.9925 - val_loss: 0.1150 - val_accuracy: 0.9737 - val_AUC: 0.9964\n",
      "Epoch 41/100\n",
      "455/455 [==============================] - 0s 206us/sample - loss: 0.1112 - accuracy: 0.9714 - AUC: 0.9926 - val_loss: 0.1136 - val_accuracy: 0.9737 - val_AUC: 0.9964\n",
      "Epoch 42/100\n",
      "455/455 [==============================] - 0s 172us/sample - loss: 0.1100 - accuracy: 0.9714 - AUC: 0.9928 - val_loss: 0.1125 - val_accuracy: 0.9737 - val_AUC: 0.9964\n",
      "Epoch 43/100\n",
      "455/455 [==============================] - 0s 172us/sample - loss: 0.1088 - accuracy: 0.9714 - AUC: 0.9929 - val_loss: 0.1113 - val_accuracy: 0.9737 - val_AUC: 0.9964\n",
      "Epoch 44/100\n",
      "455/455 [==============================] - 0s 206us/sample - loss: 0.1077 - accuracy: 0.9714 - AUC: 0.9931 - val_loss: 0.1102 - val_accuracy: 0.9737 - val_AUC: 0.9964\n",
      "Epoch 45/100\n",
      "455/455 [==============================] - 0s 206us/sample - loss: 0.1066 - accuracy: 0.9714 - AUC: 0.9932 - val_loss: 0.1090 - val_accuracy: 0.9737 - val_AUC: 0.9964\n",
      "Epoch 46/100\n"
     ]
    },
    {
     "name": "stdout",
     "output_type": "stream",
     "text": [
      "455/455 [==============================] - 0s 206us/sample - loss: 0.1056 - accuracy: 0.9714 - AUC: 0.9934 - val_loss: 0.1079 - val_accuracy: 0.9737 - val_AUC: 0.9964\n",
      "Epoch 47/100\n",
      "455/455 [==============================] - 0s 240us/sample - loss: 0.1046 - accuracy: 0.9714 - AUC: 0.9935 - val_loss: 0.1070 - val_accuracy: 0.9737 - val_AUC: 0.9964\n",
      "Epoch 48/100\n",
      "455/455 [==============================] - 0s 206us/sample - loss: 0.1037 - accuracy: 0.9714 - AUC: 0.9936 - val_loss: 0.1060 - val_accuracy: 0.9737 - val_AUC: 0.9964\n",
      "Epoch 49/100\n",
      "455/455 [==============================] - 0s 172us/sample - loss: 0.1028 - accuracy: 0.9758 - AUC: 0.9936 - val_loss: 0.1050 - val_accuracy: 0.9737 - val_AUC: 0.9964\n",
      "Epoch 50/100\n",
      "455/455 [==============================] - 0s 206us/sample - loss: 0.1019 - accuracy: 0.9758 - AUC: 0.9934 - val_loss: 0.1040 - val_accuracy: 0.9737 - val_AUC: 0.9964\n",
      "Epoch 51/100\n",
      "455/455 [==============================] - 0s 206us/sample - loss: 0.1010 - accuracy: 0.9758 - AUC: 0.9935 - val_loss: 0.1031 - val_accuracy: 0.9737 - val_AUC: 0.9964\n",
      "Epoch 52/100\n",
      "455/455 [==============================] - 0s 206us/sample - loss: 0.1002 - accuracy: 0.9758 - AUC: 0.9936 - val_loss: 0.1021 - val_accuracy: 0.9737 - val_AUC: 0.9964\n",
      "Epoch 53/100\n",
      "455/455 [==============================] - 0s 240us/sample - loss: 0.0994 - accuracy: 0.9758 - AUC: 0.9937 - val_loss: 0.1011 - val_accuracy: 0.9737 - val_AUC: 0.9967\n",
      "Epoch 54/100\n",
      "455/455 [==============================] - 0s 172us/sample - loss: 0.0986 - accuracy: 0.9758 - AUC: 0.9938 - val_loss: 0.1002 - val_accuracy: 0.9737 - val_AUC: 0.9964\n",
      "Epoch 55/100\n",
      "455/455 [==============================] - 0s 172us/sample - loss: 0.0979 - accuracy: 0.9780 - AUC: 0.9939 - val_loss: 0.0996 - val_accuracy: 0.9825 - val_AUC: 0.9967\n",
      "Epoch 56/100\n",
      "455/455 [==============================] - 0s 172us/sample - loss: 0.0972 - accuracy: 0.9780 - AUC: 0.9939 - val_loss: 0.0989 - val_accuracy: 0.9825 - val_AUC: 0.9969\n",
      "Epoch 57/100\n",
      "455/455 [==============================] - 0s 206us/sample - loss: 0.0965 - accuracy: 0.9780 - AUC: 0.9939 - val_loss: 0.0980 - val_accuracy: 0.9825 - val_AUC: 0.9969\n",
      "Epoch 58/100\n",
      "455/455 [==============================] - 0s 206us/sample - loss: 0.0958 - accuracy: 0.9780 - AUC: 0.9940 - val_loss: 0.0974 - val_accuracy: 0.9825 - val_AUC: 0.9970\n",
      "Epoch 59/100\n",
      "455/455 [==============================] - 0s 206us/sample - loss: 0.0952 - accuracy: 0.9780 - AUC: 0.9941 - val_loss: 0.0968 - val_accuracy: 0.9825 - val_AUC: 0.9970\n",
      "Epoch 60/100\n",
      "455/455 [==============================] - 0s 206us/sample - loss: 0.0945 - accuracy: 0.9780 - AUC: 0.9941 - val_loss: 0.0961 - val_accuracy: 0.9825 - val_AUC: 0.9970\n",
      "Epoch 61/100\n",
      "455/455 [==============================] - 0s 172us/sample - loss: 0.0939 - accuracy: 0.9780 - AUC: 0.9942 - val_loss: 0.0955 - val_accuracy: 0.9825 - val_AUC: 0.9970\n",
      "Epoch 62/100\n",
      "455/455 [==============================] - 0s 240us/sample - loss: 0.0933 - accuracy: 0.9780 - AUC: 0.9943 - val_loss: 0.0948 - val_accuracy: 0.9825 - val_AUC: 0.9970\n",
      "Epoch 63/100\n",
      "455/455 [==============================] - 0s 240us/sample - loss: 0.0928 - accuracy: 0.9780 - AUC: 0.9943 - val_loss: 0.0942 - val_accuracy: 0.9825 - val_AUC: 0.9970\n",
      "Epoch 64/100\n",
      "455/455 [==============================] - 0s 206us/sample - loss: 0.0921 - accuracy: 0.9780 - AUC: 0.9944 - val_loss: 0.0937 - val_accuracy: 0.9825 - val_AUC: 0.9970\n",
      "Epoch 65/100\n",
      "455/455 [==============================] - 0s 172us/sample - loss: 0.0916 - accuracy: 0.9802 - AUC: 0.9944 - val_loss: 0.0932 - val_accuracy: 0.9737 - val_AUC: 0.9970\n",
      "Epoch 66/100\n",
      "455/455 [==============================] - 0s 206us/sample - loss: 0.0911 - accuracy: 0.9802 - AUC: 0.9945 - val_loss: 0.0926 - val_accuracy: 0.9737 - val_AUC: 0.9970\n",
      "Epoch 67/100\n",
      "455/455 [==============================] - 0s 206us/sample - loss: 0.0906 - accuracy: 0.9802 - AUC: 0.9942 - val_loss: 0.0921 - val_accuracy: 0.9737 - val_AUC: 0.9970\n",
      "Epoch 68/100\n",
      "455/455 [==============================] - 0s 206us/sample - loss: 0.0900 - accuracy: 0.9802 - AUC: 0.9943 - val_loss: 0.0917 - val_accuracy: 0.9737 - val_AUC: 0.9970\n",
      "Epoch 69/100\n",
      "455/455 [==============================] - 0s 240us/sample - loss: 0.0896 - accuracy: 0.9802 - AUC: 0.9943 - val_loss: 0.0912 - val_accuracy: 0.9737 - val_AUC: 0.9970\n",
      "Epoch 70/100\n",
      "455/455 [==============================] - 0s 172us/sample - loss: 0.0891 - accuracy: 0.9802 - AUC: 0.9944 - val_loss: 0.0908 - val_accuracy: 0.9737 - val_AUC: 0.9970\n",
      "Epoch 71/100\n",
      "455/455 [==============================] - 0s 206us/sample - loss: 0.0887 - accuracy: 0.9802 - AUC: 0.9944 - val_loss: 0.0905 - val_accuracy: 0.9737 - val_AUC: 0.9970\n",
      "Epoch 72/100\n",
      "455/455 [==============================] - 0s 206us/sample - loss: 0.0882 - accuracy: 0.9824 - AUC: 0.9945 - val_loss: 0.0899 - val_accuracy: 0.9737 - val_AUC: 0.9970\n",
      "Epoch 73/100\n",
      "455/455 [==============================] - 0s 206us/sample - loss: 0.0878 - accuracy: 0.9824 - AUC: 0.9945 - val_loss: 0.0895 - val_accuracy: 0.9737 - val_AUC: 0.9970\n",
      "Epoch 74/100\n",
      "455/455 [==============================] - 0s 172us/sample - loss: 0.0873 - accuracy: 0.9824 - AUC: 0.9945 - val_loss: 0.0891 - val_accuracy: 0.9737 - val_AUC: 0.9970\n",
      "Epoch 75/100\n",
      "455/455 [==============================] - 0s 206us/sample - loss: 0.0869 - accuracy: 0.9824 - AUC: 0.9946 - val_loss: 0.0887 - val_accuracy: 0.9737 - val_AUC: 0.9970\n",
      "Epoch 76/100\n",
      "455/455 [==============================] - 0s 206us/sample - loss: 0.0864 - accuracy: 0.9824 - AUC: 0.9946 - val_loss: 0.0881 - val_accuracy: 0.9737 - val_AUC: 0.9970\n",
      "Epoch 77/100\n",
      "455/455 [==============================] - 0s 206us/sample - loss: 0.0860 - accuracy: 0.9824 - AUC: 0.9947 - val_loss: 0.0876 - val_accuracy: 0.9737 - val_AUC: 0.9970\n",
      "Epoch 78/100\n",
      "455/455 [==============================] - 0s 240us/sample - loss: 0.0856 - accuracy: 0.9824 - AUC: 0.9947 - val_loss: 0.0874 - val_accuracy: 0.9737 - val_AUC: 0.9970\n",
      "Epoch 79/100\n",
      "455/455 [==============================] - 0s 172us/sample - loss: 0.0852 - accuracy: 0.9824 - AUC: 0.9947 - val_loss: 0.0870 - val_accuracy: 0.9737 - val_AUC: 0.9970\n",
      "Epoch 80/100\n",
      "455/455 [==============================] - 0s 206us/sample - loss: 0.0848 - accuracy: 0.9824 - AUC: 0.9947 - val_loss: 0.0866 - val_accuracy: 0.9737 - val_AUC: 0.9970\n",
      "Epoch 81/100\n",
      "455/455 [==============================] - 0s 206us/sample - loss: 0.0844 - accuracy: 0.9824 - AUC: 0.9948 - val_loss: 0.0860 - val_accuracy: 0.9737 - val_AUC: 0.9970\n",
      "Epoch 82/100\n",
      "455/455 [==============================] - 0s 206us/sample - loss: 0.0840 - accuracy: 0.9824 - AUC: 0.9949 - val_loss: 0.0857 - val_accuracy: 0.9737 - val_AUC: 0.9970\n",
      "Epoch 83/100\n",
      "455/455 [==============================] - 0s 206us/sample - loss: 0.0837 - accuracy: 0.9824 - AUC: 0.9949 - val_loss: 0.0854 - val_accuracy: 0.9737 - val_AUC: 0.9972\n",
      "Epoch 84/100\n",
      "455/455 [==============================] - 0s 206us/sample - loss: 0.0833 - accuracy: 0.9824 - AUC: 0.9950 - val_loss: 0.0849 - val_accuracy: 0.9737 - val_AUC: 0.9970\n",
      "Epoch 85/100\n",
      "455/455 [==============================] - 0s 206us/sample - loss: 0.0829 - accuracy: 0.9824 - AUC: 0.9950 - val_loss: 0.0846 - val_accuracy: 0.9737 - val_AUC: 0.9970\n",
      "Epoch 86/100\n",
      "455/455 [==============================] - 0s 206us/sample - loss: 0.0827 - accuracy: 0.9824 - AUC: 0.9950 - val_loss: 0.0843 - val_accuracy: 0.9737 - val_AUC: 0.9972\n",
      "Epoch 87/100\n",
      "455/455 [==============================] - 0s 206us/sample - loss: 0.0823 - accuracy: 0.9824 - AUC: 0.9950 - val_loss: 0.0839 - val_accuracy: 0.9737 - val_AUC: 0.9970\n",
      "Epoch 88/100\n",
      "455/455 [==============================] - 0s 206us/sample - loss: 0.0820 - accuracy: 0.9824 - AUC: 0.9950 - val_loss: 0.0835 - val_accuracy: 0.9737 - val_AUC: 0.9972\n",
      "Epoch 89/100\n",
      "455/455 [==============================] - 0s 206us/sample - loss: 0.0817 - accuracy: 0.9824 - AUC: 0.9950 - val_loss: 0.0832 - val_accuracy: 0.9737 - val_AUC: 0.9972\n",
      "Epoch 90/100\n",
      "455/455 [==============================] - 0s 206us/sample - loss: 0.0814 - accuracy: 0.9824 - AUC: 0.9951 - val_loss: 0.0829 - val_accuracy: 0.9737 - val_AUC: 0.9974\n",
      "Epoch 91/100\n"
     ]
    },
    {
     "name": "stdout",
     "output_type": "stream",
     "text": [
      "455/455 [==============================] - 0s 206us/sample - loss: 0.0811 - accuracy: 0.9824 - AUC: 0.9951 - val_loss: 0.0826 - val_accuracy: 0.9737 - val_AUC: 0.9979\n",
      "Epoch 92/100\n",
      "455/455 [==============================] - 0s 240us/sample - loss: 0.0808 - accuracy: 0.9824 - AUC: 0.9951 - val_loss: 0.0821 - val_accuracy: 0.9737 - val_AUC: 0.9980\n",
      "Epoch 93/100\n",
      "455/455 [==============================] - 0s 206us/sample - loss: 0.0805 - accuracy: 0.9824 - AUC: 0.9951 - val_loss: 0.0815 - val_accuracy: 0.9737 - val_AUC: 0.9979\n",
      "Epoch 94/100\n",
      "455/455 [==============================] - 0s 206us/sample - loss: 0.0803 - accuracy: 0.9824 - AUC: 0.9952 - val_loss: 0.0811 - val_accuracy: 0.9737 - val_AUC: 0.9979\n",
      "Epoch 95/100\n",
      "455/455 [==============================] - 0s 206us/sample - loss: 0.0800 - accuracy: 0.9824 - AUC: 0.9952 - val_loss: 0.0807 - val_accuracy: 0.9737 - val_AUC: 0.9980\n",
      "Epoch 96/100\n",
      "455/455 [==============================] - 0s 206us/sample - loss: 0.0797 - accuracy: 0.9824 - AUC: 0.9952 - val_loss: 0.0805 - val_accuracy: 0.9737 - val_AUC: 0.9980\n",
      "Epoch 97/100\n",
      "455/455 [==============================] - 0s 206us/sample - loss: 0.0794 - accuracy: 0.9824 - AUC: 0.9952 - val_loss: 0.0803 - val_accuracy: 0.9737 - val_AUC: 0.9982\n",
      "Epoch 98/100\n",
      "455/455 [==============================] - 0s 206us/sample - loss: 0.0792 - accuracy: 0.9824 - AUC: 0.9952 - val_loss: 0.0801 - val_accuracy: 0.9737 - val_AUC: 0.9982\n",
      "Epoch 99/100\n",
      "455/455 [==============================] - 0s 206us/sample - loss: 0.0789 - accuracy: 0.9824 - AUC: 0.9947 - val_loss: 0.0799 - val_accuracy: 0.9737 - val_AUC: 0.9982\n",
      "Epoch 100/100\n",
      "455/455 [==============================] - 0s 206us/sample - loss: 0.0787 - accuracy: 0.9824 - AUC: 0.9948 - val_loss: 0.0798 - val_accuracy: 0.9737 - val_AUC: 0.9982\n"
     ]
    }
   ],
   "source": [
    "# Train the model\n",
    "training = model.fit(X_train, y_train, validation_data=(X_test, y_test), epochs=100)"
   ]
  },
  {
   "cell_type": "code",
   "execution_count": 11,
   "metadata": {},
   "outputs": [
    {
     "name": "stdout",
     "output_type": "stream",
     "text": [
      "Test Accuracy 0.9736842105263158\n",
      "Test F1 Score 0.979020979020979\n"
     ]
    }
   ],
   "source": [
    "# Check accuracy on test dataset\n",
    "predict = model.predict(X_test).round().astype(int)\n",
    "print('Test Accuracy {}'.format(accuracy_score(y_test,predict)))\n",
    "print('Test F1 Score {}'.format(f1_score(y_test,predict))) "
   ]
  },
  {
   "cell_type": "code",
   "execution_count": 12,
   "metadata": {},
   "outputs": [
    {
     "data": {
      "text/plain": [
       "<matplotlib.legend.Legend at 0x1d2fdc0d3c8>"
      ]
     },
     "execution_count": 12,
     "metadata": {},
     "output_type": "execute_result"
    },
    {
     "data": {
      "image/png": "[encoded data removed]",
      "text/plain": [
       "<Figure size 1080x576 with 1 Axes>"
      ]
     },
     "metadata": {
      "needs_background": "light"
     },
     "output_type": "display_data"
    }
   ],
   "source": [
    "# plot loss \n",
    "plt.figure(figsize=(15,8))\n",
    "plt.plot(training.history['loss'], label='loss')\n",
    "plt.plot(training.history['val_loss'], label='val_loss')\n",
    "plt.legend()"
   ]
  },
  {
   "cell_type": "code",
   "execution_count": 13,
   "metadata": {},
   "outputs": [
    {
     "data": {
      "text/plain": [
       "<matplotlib.legend.Legend at 0x1d2fdf1c7b8>"
      ]
     },
     "execution_count": 13,
     "metadata": {},
     "output_type": "execute_result"
    },
    {
     "data": {
      "image/png": "[encoded data removed]",
      "text/plain": [
       "<Figure size 1080x576 with 1 Axes>"
      ]
     },
     "metadata": {
      "needs_background": "light"
     },
     "output_type": "display_data"
    }
   ],
   "source": [
    "# Plot  accuracy \n",
    "plt.figure(figsize=(15,8))\n",
    "plt.plot(training.history['accuracy'], label='acc')\n",
    "plt.plot(training.history['val_accuracy'], label='val_acc')\n",
    "plt.legend()"
   ]
  },
  {
   "cell_type": "code",
   "execution_count": null,
   "metadata": {},
   "outputs": [],
   "source": []
  }
 ],
 "metadata": {
  "kernelspec": {
   "display_name": "Python 3",
   "language": "python",
   "name": "python3"
  },
  "language_info": {
   "codemirror_mode": {
    "name": "ipython",
    "version": 3
   },
   "file_extension": ".py",
   "mimetype": "text/x-python",
   "name": "python",
   "nbconvert_exporter": "python",
   "pygments_lexer": "ipython3",
   "version": "3.6.8"
  }
 },
 "nbformat": 4,
 "nbformat_minor": 2
}

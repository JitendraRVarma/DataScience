{
  "nbformat": 4,
  "nbformat_minor": 0,
  "metadata": {
    "kernelspec": {
      "display_name": "Python 3",
      "language": "python",
      "name": "python3"
    },
    "language_info": {
      "codemirror_mode": {
        "name": "ipython",
        "version": 3
      },
      "file_extension": ".py",
      "mimetype": "text/x-python",
      "name": "python",
      "nbconvert_exporter": "python",
      "pygments_lexer": "ipython3",
      "version": "3.6.8"
    },
    "colab": {
      "name": "Recommendation_System.ipynb",
      "provenance": [],
      "collapsed_sections": []
    },
    "accelerator": "GPU"
  },
  "cells": [
    {
      "cell_type": "code",
      "metadata": {
        "id": "mWCYRRXpYPP_",
        "colab_type": "code",
        "colab": {
          "base_uri": "https://localhost:8080/",
          "height": 92
        },
        "outputId": "c44afb5c-3a0b-4163-85f5-4272292496f7"
      },
      "source": [
        "import pandas as pd\n",
        "import numpy as np\n",
        "import matplotlib.pyplot as plt\n",
        "import seaborn as sns\n",
        "import tensorflow as tf\n",
        "from tensorflow.keras.layers import Input, Dense, Embedding,Flatten,Concatenate\n",
        "from tensorflow.keras.models import Model\n",
        "from sklearn.preprocessing import StandardScaler, LabelEncoder\n",
        "from sklearn.metrics import mean_squared_error\n",
        "from tensorflow.keras.preprocessing.text import Tokenizer\n",
        "from tensorflow.keras.preprocessing.sequence import pad_sequences\n",
        "from sklearn.utils import shuffle\n",
        "print(tf.__version__)\n",
        "sns.set()\n",
        "np.random.seed(10)"
      ],
      "execution_count": 1,
      "outputs": [
        {
          "output_type": "stream",
          "text": [
            "/usr/local/lib/python3.6/dist-packages/statsmodels/tools/_testing.py:19: FutureWarning: pandas.util.testing is deprecated. Use the functions in the public API at pandas.testing instead.\n",
            "  import pandas.util.testing as tm\n"
          ],
          "name": "stderr"
        },
        {
          "output_type": "stream",
          "text": [
            "2.2.0\n"
          ],
          "name": "stdout"
        }
      ]
    },
    {
      "cell_type": "code",
      "metadata": {
        "id": "ku-jsr0AYPQO",
        "colab_type": "code",
        "colab": {
          "base_uri": "https://localhost:8080/",
          "height": 112
        },
        "outputId": "adf15112-cb84-4c60-92b5-0e2d435c8a42"
      },
      "source": [
        "rating_df = pd.read_csv('ratings.csv')\n",
        "rating_df['datetime']= pd.to_datetime(rating_df['timestamp'],unit='s')\n",
        "rating_df.head(2)"
      ],
      "execution_count": 2,
      "outputs": [
        {
          "output_type": "execute_result",
          "data": {
            "text/html": [
              "<div>\n",
              "<style scoped>\n",
              "    .dataframe tbody tr th:only-of-type {\n",
              "        vertical-align: middle;\n",
              "    }\n",
              "\n",
              "    .dataframe tbody tr th {\n",
              "        vertical-align: top;\n",
              "    }\n",
              "\n",
              "    .dataframe thead th {\n",
              "        text-align: right;\n",
              "    }\n",
              "</style>\n",
              "<table border=\"1\" class=\"dataframe\">\n",
              "  <thead>\n",
              "    <tr style=\"text-align: right;\">\n",
              "      <th></th>\n",
              "      <th>userId</th>\n",
              "      <th>movieId</th>\n",
              "      <th>rating</th>\n",
              "      <th>timestamp</th>\n",
              "      <th>datetime</th>\n",
              "    </tr>\n",
              "  </thead>\n",
              "  <tbody>\n",
              "    <tr>\n",
              "      <th>0</th>\n",
              "      <td>1</td>\n",
              "      <td>2</td>\n",
              "      <td>3.5</td>\n",
              "      <td>1112486027</td>\n",
              "      <td>2005-04-02 23:53:47</td>\n",
              "    </tr>\n",
              "    <tr>\n",
              "      <th>1</th>\n",
              "      <td>1</td>\n",
              "      <td>29</td>\n",
              "      <td>3.5</td>\n",
              "      <td>1112484676</td>\n",
              "      <td>2005-04-02 23:31:16</td>\n",
              "    </tr>\n",
              "  </tbody>\n",
              "</table>\n",
              "</div>"
            ],
            "text/plain": [
              "   userId  movieId  rating   timestamp            datetime\n",
              "0       1        2     3.5  1112486027 2005-04-02 23:53:47\n",
              "1       1       29     3.5  1112484676 2005-04-02 23:31:16"
            ]
          },
          "metadata": {
            "tags": []
          },
          "execution_count": 2
        }
      ]
    },
    {
      "cell_type": "code",
      "metadata": {
        "id": "CXdlpMKdYPQc",
        "colab_type": "code",
        "colab": {
          "base_uri": "https://localhost:8080/",
          "height": 175
        },
        "outputId": "9e24fd67-2174-4f00-f238-70b6c9d7557f"
      },
      "source": [
        "# converting IDs to categorical data type\n",
        "rating_df['movieId'] = rating_df['movieId'].astype(np.object)\n",
        "rating_df['userId'] = rating_df['userId'].astype(np.object)\n",
        "rating_df.describe(include=np.object)"
      ],
      "execution_count": 3,
      "outputs": [
        {
          "output_type": "execute_result",
          "data": {
            "text/html": [
              "<div>\n",
              "<style scoped>\n",
              "    .dataframe tbody tr th:only-of-type {\n",
              "        vertical-align: middle;\n",
              "    }\n",
              "\n",
              "    .dataframe tbody tr th {\n",
              "        vertical-align: top;\n",
              "    }\n",
              "\n",
              "    .dataframe thead th {\n",
              "        text-align: right;\n",
              "    }\n",
              "</style>\n",
              "<table border=\"1\" class=\"dataframe\">\n",
              "  <thead>\n",
              "    <tr style=\"text-align: right;\">\n",
              "      <th></th>\n",
              "      <th>userId</th>\n",
              "      <th>movieId</th>\n",
              "    </tr>\n",
              "  </thead>\n",
              "  <tbody>\n",
              "    <tr>\n",
              "      <th>count</th>\n",
              "      <td>20000263</td>\n",
              "      <td>20000263</td>\n",
              "    </tr>\n",
              "    <tr>\n",
              "      <th>unique</th>\n",
              "      <td>138493</td>\n",
              "      <td>26744</td>\n",
              "    </tr>\n",
              "    <tr>\n",
              "      <th>top</th>\n",
              "      <td>118205</td>\n",
              "      <td>296</td>\n",
              "    </tr>\n",
              "    <tr>\n",
              "      <th>freq</th>\n",
              "      <td>9254</td>\n",
              "      <td>67310</td>\n",
              "    </tr>\n",
              "  </tbody>\n",
              "</table>\n",
              "</div>"
            ],
            "text/plain": [
              "          userId   movieId\n",
              "count   20000263  20000263\n",
              "unique    138493     26744\n",
              "top       118205       296\n",
              "freq        9254     67310"
            ]
          },
          "metadata": {
            "tags": []
          },
          "execution_count": 3
        }
      ]
    },
    {
      "cell_type": "code",
      "metadata": {
        "id": "MvoVx5d2YPQl",
        "colab_type": "code",
        "colab": {
          "base_uri": "https://localhost:8080/",
          "height": 182
        },
        "outputId": "aa6e5552-8f4e-457f-bdd5-b6f2f1ff1d57"
      },
      "source": [
        "rating_df['rating'].describe()"
      ],
      "execution_count": 4,
      "outputs": [
        {
          "output_type": "execute_result",
          "data": {
            "text/plain": [
              "count    2.000026e+07\n",
              "mean     3.525529e+00\n",
              "std      1.051989e+00\n",
              "min      5.000000e-01\n",
              "25%      3.000000e+00\n",
              "50%      3.500000e+00\n",
              "75%      4.000000e+00\n",
              "max      5.000000e+00\n",
              "Name: rating, dtype: float64"
            ]
          },
          "metadata": {
            "tags": []
          },
          "execution_count": 4
        }
      ]
    },
    {
      "cell_type": "code",
      "metadata": {
        "id": "FTua9ad3YPQt",
        "colab_type": "code",
        "colab": {
          "base_uri": "https://localhost:8080/",
          "height": 146
        },
        "outputId": "82408d19-079a-4b2f-bc80-a5f77614991d"
      },
      "source": [
        "rating_df['datetime'].describe()"
      ],
      "execution_count": 5,
      "outputs": [
        {
          "output_type": "execute_result",
          "data": {
            "text/plain": [
              "count                20000263\n",
              "unique               15351121\n",
              "top       1996-03-01 00:00:00\n",
              "freq                      643\n",
              "first     1995-01-09 11:46:44\n",
              "last      2015-03-31 06:40:02\n",
              "Name: datetime, dtype: object"
            ]
          },
          "metadata": {
            "tags": []
          },
          "execution_count": 5
        }
      ]
    },
    {
      "cell_type": "code",
      "metadata": {
        "id": "Q7B-iG_zYPQ2",
        "colab_type": "code",
        "colab": {}
      },
      "source": [
        "# ecnoding Ids to 0 to n-1 as embedding layer expected input as indexes from 0 to n-1 for n categories\n",
        "movie_encoder = LabelEncoder()\n",
        "user_encoder = LabelEncoder()\n",
        "rating_df['movie_enc'] = movie_encoder.fit_transform(rating_df['movieId'])\n",
        "rating_df['user_enc'] = user_encoder.fit_transform(rating_df['userId'])"
      ],
      "execution_count": 6,
      "outputs": []
    },
    {
      "cell_type": "code",
      "metadata": {
        "id": "BJRST9RbYPQ-",
        "colab_type": "code",
        "colab": {
          "base_uri": "https://localhost:8080/",
          "height": 300
        },
        "outputId": "63dfbd29-04c4-4a44-f04f-05a67e76a0ee"
      },
      "source": [
        "rating_df[['movie_enc','user_enc']].describe()"
      ],
      "execution_count": 7,
      "outputs": [
        {
          "output_type": "execute_result",
          "data": {
            "text/html": [
              "<div>\n",
              "<style scoped>\n",
              "    .dataframe tbody tr th:only-of-type {\n",
              "        vertical-align: middle;\n",
              "    }\n",
              "\n",
              "    .dataframe tbody tr th {\n",
              "        vertical-align: top;\n",
              "    }\n",
              "\n",
              "    .dataframe thead th {\n",
              "        text-align: right;\n",
              "    }\n",
              "</style>\n",
              "<table border=\"1\" class=\"dataframe\">\n",
              "  <thead>\n",
              "    <tr style=\"text-align: right;\">\n",
              "      <th></th>\n",
              "      <th>movie_enc</th>\n",
              "      <th>user_enc</th>\n",
              "    </tr>\n",
              "  </thead>\n",
              "  <tbody>\n",
              "    <tr>\n",
              "      <th>count</th>\n",
              "      <td>2.000026e+07</td>\n",
              "      <td>2.000026e+07</td>\n",
              "    </tr>\n",
              "    <tr>\n",
              "      <th>mean</th>\n",
              "      <td>3.602899e+03</td>\n",
              "      <td>6.904487e+04</td>\n",
              "    </tr>\n",
              "    <tr>\n",
              "      <th>std</th>\n",
              "      <td>4.136939e+03</td>\n",
              "      <td>4.003863e+04</td>\n",
              "    </tr>\n",
              "    <tr>\n",
              "      <th>min</th>\n",
              "      <td>0.000000e+00</td>\n",
              "      <td>0.000000e+00</td>\n",
              "    </tr>\n",
              "    <tr>\n",
              "      <th>25%</th>\n",
              "      <td>8.850000e+02</td>\n",
              "      <td>3.439400e+04</td>\n",
              "    </tr>\n",
              "    <tr>\n",
              "      <th>50%</th>\n",
              "      <td>2.083000e+03</td>\n",
              "      <td>6.914000e+04</td>\n",
              "    </tr>\n",
              "    <tr>\n",
              "      <th>75%</th>\n",
              "      <td>4.674000e+03</td>\n",
              "      <td>1.036360e+05</td>\n",
              "    </tr>\n",
              "    <tr>\n",
              "      <th>max</th>\n",
              "      <td>2.674300e+04</td>\n",
              "      <td>1.384920e+05</td>\n",
              "    </tr>\n",
              "  </tbody>\n",
              "</table>\n",
              "</div>"
            ],
            "text/plain": [
              "          movie_enc      user_enc\n",
              "count  2.000026e+07  2.000026e+07\n",
              "mean   3.602899e+03  6.904487e+04\n",
              "std    4.136939e+03  4.003863e+04\n",
              "min    0.000000e+00  0.000000e+00\n",
              "25%    8.850000e+02  3.439400e+04\n",
              "50%    2.083000e+03  6.914000e+04\n",
              "75%    4.674000e+03  1.036360e+05\n",
              "max    2.674300e+04  1.384920e+05"
            ]
          },
          "metadata": {
            "tags": []
          },
          "execution_count": 7
        }
      ]
    },
    {
      "cell_type": "code",
      "metadata": {
        "id": "IZf7tkFJYPRD",
        "colab_type": "code",
        "colab": {
          "base_uri": "https://localhost:8080/",
          "height": 54
        },
        "outputId": "65e3bd47-4cee-4a58-8daf-c5f98574461d"
      },
      "source": [
        "# sorting basis datetime for train test split\n",
        "sort_df = rating_df.sort_values(by='datetime')\n",
        "\n",
        "# train test split \n",
        "train_size = 0.80\n",
        "train_idx = int(sort_df.shape[0] * train_size)\n",
        "train_df = sort_df[:train_idx].copy()\n",
        "test_df = sort_df[train_idx:].copy()\n",
        "\n",
        "# shuffling train and test data\n",
        "train_df = shuffle(train_df)\n",
        "test_df = shuffle(test_df)\n",
        "\n",
        "print(\"Train shape {}\".format(train_df.shape))\n",
        "print(\"Test shape {}\".format(test_df.shape))"
      ],
      "execution_count": 8,
      "outputs": [
        {
          "output_type": "stream",
          "text": [
            "Train shape (16000210, 7)\n",
            "Test shape (4000053, 7)\n"
          ],
          "name": "stdout"
        }
      ]
    },
    {
      "cell_type": "code",
      "metadata": {
        "id": "jQqE5cOCYPRI",
        "colab_type": "code",
        "colab": {
          "base_uri": "https://localhost:8080/",
          "height": 54
        },
        "outputId": "d47c6056-19c9-4af8-a260-92afe25f973f"
      },
      "source": [
        "print(\"Train date range {} to {}\".format(train_df['datetime'].min(),train_df['datetime'].max()))\n",
        "print(\"Test date range {} to {}\".format(test_df['datetime'].min(),test_df['datetime'].max()))"
      ],
      "execution_count": 9,
      "outputs": [
        {
          "output_type": "stream",
          "text": [
            "Train date range 1995-01-09 11:46:44 to 2009-10-20 07:33:38\n",
            "Test date range 2009-10-20 07:33:43 to 2015-03-31 06:40:02\n"
          ],
          "name": "stdout"
        }
      ]
    },
    {
      "cell_type": "code",
      "metadata": {
        "id": "ueq6VAt8a30K",
        "colab_type": "code",
        "colab": {}
      },
      "source": [
        "# standarized rating\n",
        "scaler = StandardScaler()\n",
        "train_df['std_rating'] = scaler.fit_transform(train_df['rating'].values.reshape(-1,1)) \n",
        "test_df['std_rating'] = scaler.transform(test_df['rating'].values.reshape(-1,1)) "
      ],
      "execution_count": 10,
      "outputs": []
    },
    {
      "cell_type": "code",
      "metadata": {
        "id": "-KzF4CcVYPR9",
        "colab_type": "code",
        "colab": {}
      },
      "source": [
        "# no of unique user and movie\n",
        "n_user = rating_df['user_enc'].nunique() \n",
        "n_movie = rating_df['movie_enc'].nunique() \n",
        "\n",
        "# output size for embedding layer\n",
        "out_dim = 5\n",
        "\n",
        "\n",
        "# Input Layer 1 - User input\n",
        "user = Input(shape=(1,))\n",
        "\n",
        "# embedding layer for user id\n",
        "user_emb = Embedding(n_user,out_dim)(user)\n",
        "\n",
        "# Input Layer 2 - Movie Input\n",
        "movie = Input(shape=(1,))\n",
        "\n",
        "# embedding layer for user id\n",
        "movie_emb = Embedding(n_user,out_dim)(movie)\n",
        "\n",
        "# flatten both input \n",
        "# flattening makes embeeding layer output into one single vector instead of vector of sequences\n",
        "user_emb = Flatten()(user_emb)\n",
        "movie_emb = Flatten()(movie_emb)\n",
        "\n",
        "# concatentate to form final input feature vectors\n",
        "x = Concatenate()([user_emb,movie_emb])\n",
        "\n",
        "# feed it to ANN for rating prediction\n",
        "x = Dense(128,activation='relu')(x)\n",
        "# x = Dense(64,activation='relu')(x)\n",
        "# x = Dense(32,activation='relu')(x)\n",
        "\n",
        "# output\n",
        "x = Dense(1,activation=None)(x)\n",
        "\n",
        "# Model\n",
        "model = Model(inputs=[user,movie],outputs=x)"
      ],
      "execution_count": 23,
      "outputs": []
    },
    {
      "cell_type": "code",
      "metadata": {
        "id": "HoOx9NvBYPSN",
        "colab_type": "code",
        "colab": {}
      },
      "source": [
        "# Compile\n",
        "optimizer = tf.keras.optimizers.SGD(lr=0.001)\n",
        "model.compile(loss='mse',optimizer=optimizer)"
      ],
      "execution_count": 24,
      "outputs": []
    },
    {
      "cell_type": "code",
      "metadata": {
        "id": "XRWj87PIYPSS",
        "colab_type": "code",
        "colab": {
          "base_uri": "https://localhost:8080/",
          "height": 752
        },
        "outputId": "7d175977-726c-449b-a836-1ea212ba5843"
      },
      "source": [
        "# training\n",
        "hist = model.fit(x=[train_df['user_enc'].values,train_df['movie_enc'].values],\n",
        "                 y= train_df['std_rating'].values,\n",
        "                 validation_data=([test_df['user_enc'].values,test_df['movie_enc'].values],test_df['std_rating'].values),\n",
        "                 batch_size=1024,epochs=20)"
      ],
      "execution_count": 25,
      "outputs": [
        {
          "output_type": "stream",
          "text": [
            "Epoch 1/20\n",
            "15626/15626 [==============================] - 72s 5ms/step - loss: 0.9989 - val_loss: 0.9237\n",
            "Epoch 2/20\n",
            "15626/15626 [==============================] - 73s 5ms/step - loss: 0.9941 - val_loss: 0.9184\n",
            "Epoch 3/20\n",
            "15626/15626 [==============================] - 70s 4ms/step - loss: 0.9826 - val_loss: 0.9065\n",
            "Epoch 4/20\n",
            "15626/15626 [==============================] - 70s 4ms/step - loss: 0.9550 - val_loss: 0.8821\n",
            "Epoch 5/20\n",
            "15626/15626 [==============================] - 70s 4ms/step - loss: 0.9128 - val_loss: 0.8604\n",
            "Epoch 6/20\n",
            "15626/15626 [==============================] - 70s 4ms/step - loss: 0.8793 - val_loss: 0.8493\n",
            "Epoch 7/20\n",
            "15626/15626 [==============================] - 72s 5ms/step - loss: 0.8575 - val_loss: 0.8421\n",
            "Epoch 8/20\n",
            "15626/15626 [==============================] - 72s 5ms/step - loss: 0.8424 - val_loss: 0.8382\n",
            "Epoch 9/20\n",
            "15626/15626 [==============================] - 71s 5ms/step - loss: 0.8318 - val_loss: 0.8356\n",
            "Epoch 10/20\n",
            "15626/15626 [==============================] - 71s 5ms/step - loss: 0.8242 - val_loss: 0.8332\n",
            "Epoch 11/20\n",
            "15626/15626 [==============================] - 73s 5ms/step - loss: 0.8187 - val_loss: 0.8316\n",
            "Epoch 12/20\n",
            "15626/15626 [==============================] - 71s 5ms/step - loss: 0.8144 - val_loss: 0.8300\n",
            "Epoch 13/20\n",
            "15626/15626 [==============================] - 71s 5ms/step - loss: 0.8111 - val_loss: 0.8287\n",
            "Epoch 14/20\n",
            "15626/15626 [==============================] - 71s 5ms/step - loss: 0.8083 - val_loss: 0.8283\n",
            "Epoch 15/20\n",
            "15626/15626 [==============================] - 73s 5ms/step - loss: 0.8061 - val_loss: 0.8273\n",
            "Epoch 16/20\n",
            "15626/15626 [==============================] - 70s 5ms/step - loss: 0.8041 - val_loss: 0.8269\n",
            "Epoch 17/20\n",
            "15626/15626 [==============================] - 72s 5ms/step - loss: 0.8023 - val_loss: 0.8263\n",
            "Epoch 18/20\n",
            "15626/15626 [==============================] - 72s 5ms/step - loss: 0.8007 - val_loss: 0.8260\n",
            "Epoch 19/20\n",
            "15626/15626 [==============================] - 72s 5ms/step - loss: 0.7991 - val_loss: 0.8253\n",
            "Epoch 20/20\n",
            "15626/15626 [==============================] - 73s 5ms/step - loss: 0.7976 - val_loss: 0.8254\n"
          ],
          "name": "stdout"
        }
      ]
    },
    {
      "cell_type": "code",
      "metadata": {
        "id": "GSe-q6OtYPSV",
        "colab_type": "code",
        "colab": {
          "base_uri": "https://localhost:8080/",
          "height": 35
        },
        "outputId": "7bb4372c-7621-4ee9-c133-5d63a482e966"
      },
      "source": [
        "# Check accuracy on test dataset\n",
        "predict = model.predict([test_df['user_enc'].values,test_df['movie_enc'].values])\n",
        "print('Test mean square error {}'.format(mean_squared_error(test_df['std_rating'],predict)))"
      ],
      "execution_count": 26,
      "outputs": [
        {
          "output_type": "stream",
          "text": [
            "Test mean square error 0.8253873764272471\n"
          ],
          "name": "stdout"
        }
      ]
    },
    {
      "cell_type": "code",
      "metadata": {
        "id": "iLFszcz4YPSc",
        "colab_type": "code",
        "colab": {
          "base_uri": "https://localhost:8080/",
          "height": 503
        },
        "outputId": "4d3ab5b6-015f-4e4e-f7f9-e274f93e1c85"
      },
      "source": [
        "# plot loss \n",
        "plt.figure(figsize=(15,8))\n",
        "plt.plot(hist.history['loss'], label='loss')\n",
        "plt.plot(hist.history['val_loss'], label='val_loss')\n",
        "plt.legend()"
      ],
      "execution_count": 27,
      "outputs": [
        {
          "output_type": "execute_result",
          "data": {
            "text/plain": [
              "<matplotlib.legend.Legend at 0x7fa41009e748>"
            ]
          },
          "metadata": {
            "tags": []
          },
          "execution_count": 27
        },
        {
          "output_type": "display_data",
          "data": {
            "image/png": "[encoded data removed]",
            "text/plain": [
              "<Figure size 1080x576 with 1 Axes>"
            ]
          },
          "metadata": {
            "tags": [],
            "needs_background": "light"
          }
        }
      ]
    },
    {
      "cell_type": "code",
      "metadata": {
        "id": "PCvdUtf_YPSk",
        "colab_type": "code",
        "colab": {
          "base_uri": "https://localhost:8080/",
          "height": 363
        },
        "outputId": "4f61bd7d-0bab-4775-c6be-60910896426a"
      },
      "source": [
        "test_df['predicted_ratings'] = scaler.inverse_transform(predict)\n",
        "test_df[['userId','movieId','rating','predicted_ratings']].sample(10)"
      ],
      "execution_count": 28,
      "outputs": [
        {
          "output_type": "execute_result",
          "data": {
            "text/html": [
              "<div>\n",
              "<style scoped>\n",
              "    .dataframe tbody tr th:only-of-type {\n",
              "        vertical-align: middle;\n",
              "    }\n",
              "\n",
              "    .dataframe tbody tr th {\n",
              "        vertical-align: top;\n",
              "    }\n",
              "\n",
              "    .dataframe thead th {\n",
              "        text-align: right;\n",
              "    }\n",
              "</style>\n",
              "<table border=\"1\" class=\"dataframe\">\n",
              "  <thead>\n",
              "    <tr style=\"text-align: right;\">\n",
              "      <th></th>\n",
              "      <th>userId</th>\n",
              "      <th>movieId</th>\n",
              "      <th>rating</th>\n",
              "      <th>predicted_ratings</th>\n",
              "    </tr>\n",
              "  </thead>\n",
              "  <tbody>\n",
              "    <tr>\n",
              "      <th>5564151</th>\n",
              "      <td>38251</td>\n",
              "      <td>541</td>\n",
              "      <td>4.5</td>\n",
              "      <td>4.151030</td>\n",
              "    </tr>\n",
              "    <tr>\n",
              "      <th>6432972</th>\n",
              "      <td>44189</td>\n",
              "      <td>3186</td>\n",
              "      <td>4.5</td>\n",
              "      <td>3.558151</td>\n",
              "    </tr>\n",
              "    <tr>\n",
              "      <th>14167437</th>\n",
              "      <td>97828</td>\n",
              "      <td>72380</td>\n",
              "      <td>2.5</td>\n",
              "      <td>3.336419</td>\n",
              "    </tr>\n",
              "    <tr>\n",
              "      <th>19979125</th>\n",
              "      <td>138325</td>\n",
              "      <td>8338</td>\n",
              "      <td>4.5</td>\n",
              "      <td>3.796371</td>\n",
              "    </tr>\n",
              "    <tr>\n",
              "      <th>7711291</th>\n",
              "      <td>53095</td>\n",
              "      <td>1136</td>\n",
              "      <td>4.5</td>\n",
              "      <td>4.207299</td>\n",
              "    </tr>\n",
              "    <tr>\n",
              "      <th>9860146</th>\n",
              "      <td>68155</td>\n",
              "      <td>2501</td>\n",
              "      <td>4.5</td>\n",
              "      <td>3.948684</td>\n",
              "    </tr>\n",
              "    <tr>\n",
              "      <th>6093501</th>\n",
              "      <td>41988</td>\n",
              "      <td>2762</td>\n",
              "      <td>5.0</td>\n",
              "      <td>4.094682</td>\n",
              "    </tr>\n",
              "    <tr>\n",
              "      <th>18800070</th>\n",
              "      <td>130204</td>\n",
              "      <td>2795</td>\n",
              "      <td>4.5</td>\n",
              "      <td>3.796962</td>\n",
              "    </tr>\n",
              "    <tr>\n",
              "      <th>6888263</th>\n",
              "      <td>47439</td>\n",
              "      <td>64197</td>\n",
              "      <td>4.5</td>\n",
              "      <td>3.452749</td>\n",
              "    </tr>\n",
              "    <tr>\n",
              "      <th>961125</th>\n",
              "      <td>6447</td>\n",
              "      <td>1805</td>\n",
              "      <td>2.0</td>\n",
              "      <td>3.176520</td>\n",
              "    </tr>\n",
              "  </tbody>\n",
              "</table>\n",
              "</div>"
            ],
            "text/plain": [
              "          userId movieId  rating  predicted_ratings\n",
              "5564151    38251     541     4.5           4.151030\n",
              "6432972    44189    3186     4.5           3.558151\n",
              "14167437   97828   72380     2.5           3.336419\n",
              "19979125  138325    8338     4.5           3.796371\n",
              "7711291    53095    1136     4.5           4.207299\n",
              "9860146    68155    2501     4.5           3.948684\n",
              "6093501    41988    2762     5.0           4.094682\n",
              "18800070  130204    2795     4.5           3.796962\n",
              "6888263    47439   64197     4.5           3.452749\n",
              "961125      6447    1805     2.0           3.176520"
            ]
          },
          "metadata": {
            "tags": []
          },
          "execution_count": 28
        }
      ]
    },
    {
      "cell_type": "code",
      "metadata": {
        "id": "-YespGWnzRUG",
        "colab_type": "code",
        "colab": {}
      },
      "source": [
        ""
      ],
      "execution_count": null,
      "outputs": []
    }
  ]
}